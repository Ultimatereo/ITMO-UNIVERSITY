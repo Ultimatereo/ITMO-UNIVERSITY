{
 "cells": [
  {
   "cell_type": "markdown",
   "id": "16e6661e9ab1db01",
   "metadata": {
    "collapsed": false,
    "jupyter": {
     "outputs_hidden": false
    }
   },
   "source": [
    "# Подготовка датасета"
   ]
  },
  {
   "cell_type": "code",
   "execution_count": 3,
   "id": "initial_id",
   "metadata": {
    "ExecuteTime": {
     "start_time": "2024-05-27T20:55:21.875623100Z"
    },
    "collapsed": false,
    "jupyter": {
     "outputs_hidden": false
    }
   },
   "outputs": [],
   "source": [
    "import pandas as pd\n",
    "from sklearn.feature_extraction.text import TfidfVectorizer\n",
    "import nltk\n",
    "\n",
    "n_features = 30\n",
    "df = pd.read_csv('SMS.tsv', sep='\\t')\n",
    "y = df['class'].apply(lambda y: 1 if y == 'ham' else -1)\n",
    "vectorizer = TfidfVectorizer(min_df=0.005, stop_words=nltk.corpus.stopwords.words('english'))\n",
    "features = vectorizer.fit_transform(df.iloc[:, 1])   \n",
    "X = pd.DataFrame(features.todense(), columns=vectorizer.get_feature_names_out())"
   ]
  },
  {
   "cell_type": "markdown",
   "id": "8533c113b4ed4ce4",
   "metadata": {
    "collapsed": false,
    "jupyter": {
     "outputs_hidden": false
    }
   },
   "source": [
    "# Собственные реализации"
   ]
  },
  {
   "cell_type": "markdown",
   "id": "9b73202d093d0c11",
   "metadata": {
    "collapsed": false,
    "jupyter": {
     "outputs_hidden": false
    }
   },
   "source": [
    "## Встроенный метод выбора признаков"
   ]
  },
  {
   "cell_type": "code",
   "execution_count": 6,
   "id": "f9eeaaea5827e142",
   "metadata": {
    "ExecuteTime": {
     "end_time": "2024-05-27T21:13:33.323082100Z",
     "start_time": "2024-05-27T21:06:11.175389300Z"
    },
    "collapsed": false,
    "jupyter": {
     "outputs_hidden": false
    }
   },
   "outputs": [
    {
     "name": "stdout",
     "output_type": "stream",
     "text": [
      "['gt' 'lt' 'da' 'lor' '150p' 'later' 'uk' 'www' '500' 'wat' 'gonna'\n",
      " 'claim' 'yeah' 'remember' '18' 'lol' 'co' 'ask' 'yup' '1000' 'anything'\n",
      " 'said' 'told' 'lunch' 'sure' 'something' 'prize' 'morning' 'tone' 'amp']\n"
     ]
    }
   ],
   "source": [
    "from feature_extraction import EmbeddedFeatureSelector\n",
    "\n",
    "selector = EmbeddedFeatureSelector(lr=0.001, epochs=1000)\n",
    "embedded_features = selector.select_features(X, y, n_features)\n",
    "print(embedded_features)"
   ]
  },
  {
   "cell_type": "markdown",
   "id": "daeeb23fcba78b08",
   "metadata": {
    "collapsed": false,
    "jupyter": {
     "outputs_hidden": false
    }
   },
   "source": [
    "## Метод-обёртка выбора признаков"
   ]
  },
  {
   "cell_type": "code",
   "execution_count": 7,
   "id": "3c85c70254ef5ea4",
   "metadata": {
    "ExecuteTime": {
     "end_time": "2024-05-27T21:16:47.903750100Z",
     "start_time": "2024-05-27T21:13:43.389786100Z"
    },
    "collapsed": false,
    "jupyter": {
     "outputs_hidden": false
    }
   },
   "outputs": [
    {
     "name": "stdout",
     "output_type": "stream",
     "text": [
      "['txt', 'claim', 'mobile', 'www', 'service', '150p', '16', 'video', '50', 'landline', 'ringtone', 'prize', 'code', 'nokia', 'rate', 'uk', '500', 'lt', '18', 'problem', 'apply', 'cos', 'free', 'got', 'pay', 'line', 'min', 'done', 'quite', 'evening']\n"
     ]
    }
   ],
   "source": [
    "from feature_extraction import WrapperFeatureSelector\n",
    "\n",
    "selector = WrapperFeatureSelector()\n",
    "wrapper_features = selector.select_features(X, y, n_features)\n",
    "print(wrapper_features)"
   ]
  },
  {
   "cell_type": "markdown",
   "id": "4b9c3b6f587300a0",
   "metadata": {
    "collapsed": false,
    "jupyter": {
     "outputs_hidden": false
    }
   },
   "source": [
    "## Метод-фильтр выбора признаков"
   ]
  },
  {
   "cell_type": "code",
   "execution_count": 8,
   "id": "3105ab90c76fac48",
   "metadata": {
    "ExecuteTime": {
     "end_time": "2024-05-27T21:19:58.679942900Z",
     "start_time": "2024-05-27T21:19:27.638144800Z"
    },
    "collapsed": false,
    "jupyter": {
     "outputs_hidden": false
    }
   },
   "outputs": [
    {
     "name": "stdout",
     "output_type": "stream",
     "text": [
      "['1st' '150ppm' 'network' 'rate' 'landline' 'texts' '16' 'apply' 'cs'\n",
      " 'video' '1000' 'po' 'orange' '500' 'selected' 'guaranteed' 'awarded'\n",
      " 'box' 'latest' 'camera' 'leh' 'kiss' 'easy' '2nd' 'everything' 'offer'\n",
      " 'afternoon' '18' '100' 'code']\n"
     ]
    }
   ],
   "source": [
    "from feature_extraction import FilterFeatureSelector\n",
    "\n",
    "selector = FilterFeatureSelector()\n",
    "filter_features = selector.select_features(X, y, n_features)\n",
    "print(filter_features)"
   ]
  },
  {
   "cell_type": "markdown",
   "id": "37f51848a6829ed6",
   "metadata": {
    "collapsed": false,
    "jupyter": {
     "outputs_hidden": false
    }
   },
   "source": [
    "# Библиотечные реализации"
   ]
  },
  {
   "cell_type": "markdown",
   "id": "78cfb9624425b917",
   "metadata": {
    "collapsed": false,
    "jupyter": {
     "outputs_hidden": false
    }
   },
   "source": [
    "## Встроенный метод выбора признаков"
   ]
  },
  {
   "cell_type": "code",
   "execution_count": 10,
   "id": "a81586d30ffef0a",
   "metadata": {
    "ExecuteTime": {
     "end_time": "2024-05-27T21:42:48.393404600Z",
     "start_time": "2024-05-27T21:42:47.492405200Z"
    },
    "collapsed": false,
    "jupyter": {
     "outputs_hidden": false
    }
   },
   "outputs": [
    {
     "name": "stdout",
     "output_type": "stream",
     "text": [
      "['150p' '18' '50' 'call' 'chat' 'claim' 'da' 'free' 'get' 'got' 'home'\n",
      " 'lt' 'min' 'mobile' 'new' 'nokia' 'real' 'ringtone' 'service' 'sms'\n",
      " 'stop' 'sure' 'tell' 'text' 'tv' 'txt' 'uk' 'win' 'work' 'www']\n"
     ]
    }
   ],
   "source": [
    "from sklearn.feature_selection import SelectFromModel\n",
    "from sklearn.tree import DecisionTreeClassifier\n",
    "\n",
    "selector = SelectFromModel(estimator=DecisionTreeClassifier(), max_features=n_features)\n",
    "selector.fit(X, y)\n",
    "sklearn_embedded_features = selector.get_feature_names_out()\n",
    "print(sklearn_embedded_features)"
   ]
  },
  {
   "cell_type": "markdown",
   "id": "83ea8016c27f8c2b",
   "metadata": {
    "collapsed": false,
    "jupyter": {
     "outputs_hidden": false
    }
   },
   "source": [
    "## Метод-обёртка выбора признаков"
   ]
  },
  {
   "cell_type": "code",
   "execution_count": 14,
   "id": "15f2a4d554abdbdc",
   "metadata": {
    "ExecuteTime": {
     "end_time": "2024-05-27T21:48:18.119516800Z",
     "start_time": "2024-05-27T21:48:10.643241400Z"
    },
    "collapsed": false,
    "jupyter": {
     "outputs_hidden": false
    }
   },
   "outputs": [
    {
     "name": "stdout",
     "output_type": "stream",
     "text": [
      "['100' '1000' '150p' '16' '18' '50' '500' 'apply' 'awarded' 'chat' 'claim'\n",
      " 'code' 'friends' 'gt' 'landline' 'latest' 'mobile' 'nokia' 'orange' 'per'\n",
      " 'prize' 'rate' 'ringtone' 'service' 'tone' 'txt' 'uk' 'urgent' 'video'\n",
      " 'www']\n"
     ]
    }
   ],
   "source": [
    "from sklearn.feature_selection import RFE\n",
    "from sklearn.svm import LinearSVC\n",
    "\n",
    "selector = RFE(estimator=LinearSVC(dual='auto'), n_features_to_select=n_features)\n",
    "selector.fit(X, y)\n",
    "sklearn_wrapper_features = selector.get_feature_names_out()\n",
    "print(sklearn_wrapper_features)"
   ]
  },
  {
   "cell_type": "markdown",
   "id": "e272e016b18bcf44",
   "metadata": {
    "collapsed": false,
    "jupyter": {
     "outputs_hidden": false
    }
   },
   "source": [
    "## Метод-фильтр выбора признаков"
   ]
  },
  {
   "cell_type": "code",
   "execution_count": 15,
   "id": "15aa058e71ff9e7",
   "metadata": {
    "ExecuteTime": {
     "end_time": "2024-05-27T21:50:37.767988300Z",
     "start_time": "2024-05-27T21:50:37.723557Z"
    },
    "collapsed": false,
    "jupyter": {
     "outputs_hidden": false
    }
   },
   "outputs": [
    {
     "name": "stdout",
     "output_type": "stream",
     "text": [
      "['100' '1000' '150p' '150ppm' '16' '18' '50' '500' 'awarded' 'call' 'cash'\n",
      " 'claim' 'co' 'contact' 'cs' 'free' 'guaranteed' 'mobile' 'nokia' 'prize'\n",
      " 'reply' 'service' 'stop' 'text' 'tone' 'txt' 'uk' 'urgent' 'win' 'www']\n"
     ]
    }
   ],
   "source": [
    "from sklearn.feature_selection import SelectKBest\n",
    "\n",
    "selector = SelectKBest(k=n_features)\n",
    "selector.fit(X, y)\n",
    "sklearn_filter_features = selector.get_feature_names_out()\n",
    "print(sklearn_filter_features)"
   ]
  },
  {
   "cell_type": "markdown",
   "id": "f5355694757d4821",
   "metadata": {
    "collapsed": false,
    "jupyter": {
     "outputs_hidden": false
    }
   },
   "source": [
    "# Сравнение"
   ]
  },
  {
   "cell_type": "code",
   "execution_count": 20,
   "id": "3b11cf28f807dd6e",
   "metadata": {
    "ExecuteTime": {
     "end_time": "2024-05-27T22:03:54.914976200Z",
     "start_time": "2024-05-27T22:03:54.899745800Z"
    },
    "collapsed": false,
    "jupyter": {
     "outputs_hidden": false
    }
   },
   "outputs": [
    {
     "name": "stdout",
     "output_type": "stream",
     "text": [
      "Embedded methods coincidence (8 matched):\n",
      "{'da', 'lt', 'claim', 'www', 'uk', 'sure', '18', '150p'}\n",
      "\n",
      "Wrapper methods coincidence: (19 matched):\n",
      "{'code', '16', 'claim', 'www', 'rate', '500', 'landline', 'video', 'nokia', 'prize', 'txt', 'uk', '50', '18', 'mobile', 'apply', 'service', 'ringtone', '150p'}\n",
      "\n",
      "Filter methods coincidence (9 matched):\n",
      "{'guaranteed', '16', 'cs', '100', '1000', '500', '150ppm', 'awarded', '18'}\n"
     ]
    }
   ],
   "source": [
    "embedded_intersection = set(embedded_features) & set(sklearn_embedded_features)\n",
    "wrapper_intersection = set(wrapper_features) & set(sklearn_wrapper_features)\n",
    "filter_intersection = set(filter_features) & set(sklearn_filter_features)\n",
    "print(f'Embedded methods coincidence ({len(embedded_intersection)} matched):\\n{embedded_intersection}\\n')\n",
    "print(f'Wrapper methods coincidence: ({len(wrapper_intersection)} matched):\\n{wrapper_intersection}\\n')\n",
    "print(f'Filter methods coincidence ({len(filter_intersection)} matched):\\n{filter_intersection}\\n')"
   ]
  },
  {
   "cell_type": "markdown",
   "id": "1c62cf35a71e0284",
   "metadata": {
    "collapsed": false,
    "jupyter": {
     "outputs_hidden": false
    }
   },
   "source": [
    "# Изменение качества работы классификаторов"
   ]
  },
  {
   "cell_type": "code",
   "execution_count": 36,
   "id": "ac0b3a786a255613",
   "metadata": {
    "ExecuteTime": {
     "end_time": "2024-05-27T22:21:33.056682Z",
     "start_time": "2024-05-27T22:21:33.039922100Z"
    },
    "collapsed": false,
    "jupyter": {
     "outputs_hidden": false
    }
   },
   "outputs": [],
   "source": [
    "from sklearn.metrics import f1_score\n",
    "from sklearn.model_selection import train_test_split\n",
    "\n",
    "train_size = 0.8\n",
    "selected_features = {'embedded': embedded_features, 'wrapper': wrapper_features, 'filter': filter_features}\n",
    "X_train, X_test, y_train, y_test = train_test_split(X, y, train_size=train_size)"
   ]
  },
  {
   "cell_type": "markdown",
   "id": "60f3e41b9566b0cd",
   "metadata": {
    "collapsed": false,
    "jupyter": {
     "outputs_hidden": false
    }
   },
   "source": [
    "## SGDClassifier"
   ]
  },
  {
   "cell_type": "code",
   "execution_count": 37,
   "id": "f8d931479d4f64e",
   "metadata": {
    "ExecuteTime": {
     "end_time": "2024-05-27T22:21:34.465219100Z",
     "start_time": "2024-05-27T22:21:34.296216200Z"
    },
    "collapsed": false,
    "jupyter": {
     "outputs_hidden": false
    }
   },
   "outputs": [
    {
     "name": "stdout",
     "output_type": "stream",
     "text": [
      "Before selection:  0.9837611314824516\n",
      "After embedded selection: 0.9530065689742294\n",
      "After wrapper selection: 0.9750260145681582\n",
      "After filter selection: 0.9496695475343162\n"
     ]
    }
   ],
   "source": [
    "from sklearn.linear_model import SGDClassifier\n",
    "\n",
    "classifier = SGDClassifier()\n",
    "classifier.fit(X_train, y_train)\n",
    "print('Before selection: ', f1_score(y_test, classifier.predict(X_test)))\n",
    "for (method, features) in selected_features.items():\n",
    "    X_subset_train = X_train[features]\n",
    "    X_subset_test = X_test[features]\n",
    "    classifier.fit(X_subset_train, y_train)\n",
    "    print(f'After {method} selection: {f1_score(y_test, classifier.predict(X_subset_test))}')"
   ]
  },
  {
   "cell_type": "markdown",
   "id": "9a752b0aa65cc16a",
   "metadata": {
    "collapsed": false,
    "jupyter": {
     "outputs_hidden": false
    }
   },
   "source": [
    "## DecisionTreeClassifier"
   ]
  },
  {
   "cell_type": "code",
   "execution_count": 39,
   "id": "4c29b520bca5a7c7",
   "metadata": {
    "ExecuteTime": {
     "end_time": "2024-05-27T22:23:04.373396500Z",
     "start_time": "2024-05-27T22:23:03.571594400Z"
    },
    "collapsed": false,
    "jupyter": {
     "outputs_hidden": false
    }
   },
   "outputs": [
    {
     "name": "stdout",
     "output_type": "stream",
     "text": [
      "Before selection:  0.9738493723849372\n",
      "After embedded selection: 0.9549822964087\n",
      "After wrapper selection: 0.9755080771235018\n",
      "After filter selection: 0.9527198779867819\n"
     ]
    }
   ],
   "source": [
    "from sklearn.tree import DecisionTreeClassifier\n",
    "\n",
    "classifier = DecisionTreeClassifier()\n",
    "classifier.fit(X_train, y_train)\n",
    "print('Before selection: ', f1_score(y_test, classifier.predict(X_test)))\n",
    "for (method, features) in selected_features.items():\n",
    "    X_subset_train = X_train[features]\n",
    "    X_subset_test = X_test[features]\n",
    "    classifier.fit(X_subset_train, y_train)\n",
    "    print(f'After {method} selection: {f1_score(y_test, classifier.predict(X_subset_test))}')"
   ]
  },
  {
   "cell_type": "markdown",
   "id": "f047ca0ff60a35b7",
   "metadata": {
    "collapsed": false,
    "jupyter": {
     "outputs_hidden": false
    }
   },
   "source": [
    "## KNeighborsClassifier"
   ]
  },
  {
   "cell_type": "code",
   "execution_count": 43,
   "id": "dab5b80bea8ac0db",
   "metadata": {
    "ExecuteTime": {
     "end_time": "2024-05-27T22:29:52.857563500Z",
     "start_time": "2024-05-27T22:29:52.396902100Z"
    },
    "collapsed": false,
    "jupyter": {
     "outputs_hidden": false
    }
   },
   "outputs": [
    {
     "name": "stdout",
     "output_type": "stream",
     "text": [
      "Before selection:  0.9661538461538461\n",
      "After embedded selection: 0.9549822964087\n",
      "After wrapper selection: 0.9734789391575663\n",
      "After filter selection: 0.9515058703420113\n"
     ]
    }
   ],
   "source": [
    "from sklearn.neighbors import KNeighborsClassifier\n",
    "\n",
    "classifier = KNeighborsClassifier(n_jobs=1)\n",
    "classifier.fit(X_train, y_train)\n",
    "print('Before selection: ', f1_score(y_test, classifier.predict(X_test)))\n",
    "for (method, features) in selected_features.items():\n",
    "    X_subset_train = X_train[features]\n",
    "    X_subset_test = X_test[features]\n",
    "    classifier.fit(X_subset_train, y_train)\n",
    "    print(f'After {method} selection: {f1_score(y_test, classifier.predict(X_subset_test))}')"
   ]
  },
  {
   "cell_type": "code",
   "execution_count": null,
   "id": "ad6c42baf1d9a67c",
   "metadata": {
    "collapsed": false,
    "jupyter": {
     "outputs_hidden": false
    }
   },
   "outputs": [],
   "source": []
  }
 ],
 "metadata": {
  "kernelspec": {
   "display_name": "Python 3 (ipykernel)",
   "language": "python",
   "name": "python3"
  },
  "language_info": {
   "codemirror_mode": {
    "name": "ipython",
    "version": 3
   },
   "file_extension": ".py",
   "mimetype": "text/x-python",
   "name": "python",
   "nbconvert_exporter": "python",
   "pygments_lexer": "ipython3",
   "version": "3.12.3"
  }
 },
 "nbformat": 4,
 "nbformat_minor": 5
}
