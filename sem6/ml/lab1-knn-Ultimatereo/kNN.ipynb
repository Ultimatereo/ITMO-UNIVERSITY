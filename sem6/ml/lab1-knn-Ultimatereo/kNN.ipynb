{
 "cells": [
  {
   "cell_type": "markdown",
   "id": "b21638c983d46d33",
   "metadata": {
    "collapsed": false,
    "jupyter": {
     "outputs_hidden": false
    }
   },
   "source": [
    "# Подготовка датасета"
   ]
  },
  {
   "cell_type": "code",
   "id": "4e5715e1-57b2-4792-987b-b0a3b1c2f327",
   "metadata": {
    "ExecuteTime": {
     "end_time": "2024-10-20T18:16:35.748281Z",
     "start_time": "2024-10-20T18:16:34.888440Z"
    }
   },
   "source": [
    "import pandas as pd\n",
    "from sklearn.metrics import r2_score\n",
    "import matplotlib.pyplot as plt\n",
    "\n",
    "\n",
    "def add_next_part(df, next_part):\n",
    "    return pd.concat([df, next_part], ignore_index=True)\n",
    "\n",
    "def replace_commas_and_convert_to_float(value):\n",
    "    return float(value.replace(',', '.'))\n",
    "\n",
    "feature = 'Отделка'\n",
    "\n",
    "flats_df = pd.read_excel('../cian_spb.xlsx')\n",
    "flats_df = flats_df.loc[:, [feature, \"Общая площадь\", \"Жилая площадь\", \"Площадь кухни\", \"Стоимость\"]]\n",
    "flats_df.dropna(inplace=True)\n",
    "numeric_columns = [\"Общая площадь\", \"Жилая площадь\", \"Площадь кухни\"]\n",
    "flats_df[numeric_columns] = flats_df[numeric_columns].map(replace_commas_and_convert_to_float)\n",
    "flats_df = flats_df.sample(frac=1)\n",
    "flats_df"
   ],
   "outputs": [
    {
     "data": {
      "text/plain": [
       "           Отделка  Общая площадь  Жилая площадь  Площадь кухни  Стоимость\n",
       "688    Без отделки          42.09           15.9           16.8    9000000\n",
       "418    Без отделки          38.50           13.6           15.4    6999990\n",
       "191       Чистовая          30.93           12.4           10.0    6250000\n",
       "704       Чистовая          22.07           14.1            3.0    6670000\n",
       "454    Без отделки          81.70           41.3           20.5   22204099\n",
       "...            ...            ...            ...            ...        ...\n",
       "513       Чистовая          56.99           29.5           14.7   13440000\n",
       "268    Без отделки          37.32           14.3           12.4   16300000\n",
       "1173   Без отделки          33.70            9.6           14.7    4819100\n",
       "28    Предчистовая          23.60           11.2            5.8    5711200\n",
       "127       Чистовая          23.69           12.2            5.1    6147555\n",
       "\n",
       "[770 rows x 5 columns]"
      ],
      "text/html": [
       "<div>\n",
       "<style scoped>\n",
       "    .dataframe tbody tr th:only-of-type {\n",
       "        vertical-align: middle;\n",
       "    }\n",
       "\n",
       "    .dataframe tbody tr th {\n",
       "        vertical-align: top;\n",
       "    }\n",
       "\n",
       "    .dataframe thead th {\n",
       "        text-align: right;\n",
       "    }\n",
       "</style>\n",
       "<table border=\"1\" class=\"dataframe\">\n",
       "  <thead>\n",
       "    <tr style=\"text-align: right;\">\n",
       "      <th></th>\n",
       "      <th>Отделка</th>\n",
       "      <th>Общая площадь</th>\n",
       "      <th>Жилая площадь</th>\n",
       "      <th>Площадь кухни</th>\n",
       "      <th>Стоимость</th>\n",
       "    </tr>\n",
       "  </thead>\n",
       "  <tbody>\n",
       "    <tr>\n",
       "      <th>688</th>\n",
       "      <td>Без отделки</td>\n",
       "      <td>42.09</td>\n",
       "      <td>15.9</td>\n",
       "      <td>16.8</td>\n",
       "      <td>9000000</td>\n",
       "    </tr>\n",
       "    <tr>\n",
       "      <th>418</th>\n",
       "      <td>Без отделки</td>\n",
       "      <td>38.50</td>\n",
       "      <td>13.6</td>\n",
       "      <td>15.4</td>\n",
       "      <td>6999990</td>\n",
       "    </tr>\n",
       "    <tr>\n",
       "      <th>191</th>\n",
       "      <td>Чистовая</td>\n",
       "      <td>30.93</td>\n",
       "      <td>12.4</td>\n",
       "      <td>10.0</td>\n",
       "      <td>6250000</td>\n",
       "    </tr>\n",
       "    <tr>\n",
       "      <th>704</th>\n",
       "      <td>Чистовая</td>\n",
       "      <td>22.07</td>\n",
       "      <td>14.1</td>\n",
       "      <td>3.0</td>\n",
       "      <td>6670000</td>\n",
       "    </tr>\n",
       "    <tr>\n",
       "      <th>454</th>\n",
       "      <td>Без отделки</td>\n",
       "      <td>81.70</td>\n",
       "      <td>41.3</td>\n",
       "      <td>20.5</td>\n",
       "      <td>22204099</td>\n",
       "    </tr>\n",
       "    <tr>\n",
       "      <th>...</th>\n",
       "      <td>...</td>\n",
       "      <td>...</td>\n",
       "      <td>...</td>\n",
       "      <td>...</td>\n",
       "      <td>...</td>\n",
       "    </tr>\n",
       "    <tr>\n",
       "      <th>513</th>\n",
       "      <td>Чистовая</td>\n",
       "      <td>56.99</td>\n",
       "      <td>29.5</td>\n",
       "      <td>14.7</td>\n",
       "      <td>13440000</td>\n",
       "    </tr>\n",
       "    <tr>\n",
       "      <th>268</th>\n",
       "      <td>Без отделки</td>\n",
       "      <td>37.32</td>\n",
       "      <td>14.3</td>\n",
       "      <td>12.4</td>\n",
       "      <td>16300000</td>\n",
       "    </tr>\n",
       "    <tr>\n",
       "      <th>1173</th>\n",
       "      <td>Без отделки</td>\n",
       "      <td>33.70</td>\n",
       "      <td>9.6</td>\n",
       "      <td>14.7</td>\n",
       "      <td>4819100</td>\n",
       "    </tr>\n",
       "    <tr>\n",
       "      <th>28</th>\n",
       "      <td>Предчистовая</td>\n",
       "      <td>23.60</td>\n",
       "      <td>11.2</td>\n",
       "      <td>5.8</td>\n",
       "      <td>5711200</td>\n",
       "    </tr>\n",
       "    <tr>\n",
       "      <th>127</th>\n",
       "      <td>Чистовая</td>\n",
       "      <td>23.69</td>\n",
       "      <td>12.2</td>\n",
       "      <td>5.1</td>\n",
       "      <td>6147555</td>\n",
       "    </tr>\n",
       "  </tbody>\n",
       "</table>\n",
       "<p>770 rows × 5 columns</p>\n",
       "</div>"
      ]
     },
     "execution_count": 1,
     "metadata": {},
     "output_type": "execute_result"
    }
   ],
   "execution_count": 1
  },
  {
   "cell_type": "code",
   "execution_count": 16,
   "id": "6284c1486b81342a",
   "metadata": {
    "ExecuteTime": {
     "end_time": "2024-10-17T06:58:03.478463Z",
     "start_time": "2024-10-17T06:58:00.460900Z"
    },
    "collapsed": false,
    "jupyter": {
     "outputs_hidden": false
    }
   },
   "outputs": [],
   "source": [
    "import pandas as pd\n",
    "import numpy as np\n",
    "from sklearn.model_selection import train_test_split\n",
    "\n",
    "train_ratio = 0.8\n",
    "\n",
    "df = flats_df\n",
    "df = df.dropna(ignore_index=True)\n",
    "target = pd.Series(pd.factorize(df[feature])[0])\n",
    "df = df.iloc[:, 1:]\n",
    "for column in df:\n",
    "    mean = df[column].mean()\n",
    "    std = df[column].std()\n",
    "    outliers = np.where((df[column] - mean) / std >= 3)[0]\n",
    "    df = df.drop(index=outliers).reset_index(drop=True)\n",
    "    target = target.drop(index=outliers).reset_index(drop=True)\n",
    "\n",
    "df = (df - df.mean()) / df.std()\n",
    "X_train, X_test, y_train, y_test = train_test_split(df, target, train_size=train_ratio)"
   ]
  },
  {
   "cell_type": "code",
   "execution_count": 3,
   "id": "99fefb48-86a6-420b-b160-fb5af4c08c40",
   "metadata": {},
   "outputs": [
    {
     "data": {
      "text/html": [
       "<div>\n",
       "<style scoped>\n",
       "    .dataframe tbody tr th:only-of-type {\n",
       "        vertical-align: middle;\n",
       "    }\n",
       "\n",
       "    .dataframe tbody tr th {\n",
       "        vertical-align: top;\n",
       "    }\n",
       "\n",
       "    .dataframe thead th {\n",
       "        text-align: right;\n",
       "    }\n",
       "</style>\n",
       "<table border=\"1\" class=\"dataframe\">\n",
       "  <thead>\n",
       "    <tr style=\"text-align: right;\">\n",
       "      <th></th>\n",
       "      <th>Общая площадь</th>\n",
       "      <th>Жилая площадь</th>\n",
       "      <th>Площадь кухни</th>\n",
       "      <th>Стоимость</th>\n",
       "    </tr>\n",
       "  </thead>\n",
       "  <tbody>\n",
       "    <tr>\n",
       "      <th>0</th>\n",
       "      <td>-0.995970</td>\n",
       "      <td>-0.749264</td>\n",
       "      <td>-1.191356</td>\n",
       "      <td>-0.695656</td>\n",
       "    </tr>\n",
       "    <tr>\n",
       "      <th>1</th>\n",
       "      <td>-0.603558</td>\n",
       "      <td>-0.765403</td>\n",
       "      <td>-0.485068</td>\n",
       "      <td>-0.620975</td>\n",
       "    </tr>\n",
       "    <tr>\n",
       "      <th>2</th>\n",
       "      <td>0.622347</td>\n",
       "      <td>0.340111</td>\n",
       "      <td>0.799092</td>\n",
       "      <td>0.124158</td>\n",
       "    </tr>\n",
       "    <tr>\n",
       "      <th>3</th>\n",
       "      <td>1.537104</td>\n",
       "      <td>1.542457</td>\n",
       "      <td>1.376965</td>\n",
       "      <td>1.162016</td>\n",
       "    </tr>\n",
       "    <tr>\n",
       "      <th>4</th>\n",
       "      <td>-0.766954</td>\n",
       "      <td>-0.491042</td>\n",
       "      <td>-1.191356</td>\n",
       "      <td>-0.619100</td>\n",
       "    </tr>\n",
       "    <tr>\n",
       "      <th>...</th>\n",
       "      <td>...</td>\n",
       "      <td>...</td>\n",
       "      <td>...</td>\n",
       "      <td>...</td>\n",
       "    </tr>\n",
       "    <tr>\n",
       "      <th>718</th>\n",
       "      <td>-0.302405</td>\n",
       "      <td>-0.458764</td>\n",
       "      <td>0.397792</td>\n",
       "      <td>0.034526</td>\n",
       "    </tr>\n",
       "    <tr>\n",
       "      <th>719</th>\n",
       "      <td>-0.356291</td>\n",
       "      <td>-0.466833</td>\n",
       "      <td>-0.131924</td>\n",
       "      <td>-0.515750</td>\n",
       "    </tr>\n",
       "    <tr>\n",
       "      <th>720</th>\n",
       "      <td>-0.289369</td>\n",
       "      <td>-0.523319</td>\n",
       "      <td>0.397792</td>\n",
       "      <td>-0.517057</td>\n",
       "    </tr>\n",
       "    <tr>\n",
       "      <th>721</th>\n",
       "      <td>0.644944</td>\n",
       "      <td>0.695166</td>\n",
       "      <td>0.478052</td>\n",
       "      <td>-0.023064</td>\n",
       "    </tr>\n",
       "    <tr>\n",
       "      <th>722</th>\n",
       "      <td>0.653635</td>\n",
       "      <td>0.808138</td>\n",
       "      <td>0.815144</td>\n",
       "      <td>-0.024344</td>\n",
       "    </tr>\n",
       "  </tbody>\n",
       "</table>\n",
       "<p>723 rows × 4 columns</p>\n",
       "</div>"
      ],
      "text/plain": [
       "     Общая площадь  Жилая площадь  Площадь кухни  Стоимость\n",
       "0        -0.995970      -0.749264      -1.191356  -0.695656\n",
       "1        -0.603558      -0.765403      -0.485068  -0.620975\n",
       "2         0.622347       0.340111       0.799092   0.124158\n",
       "3         1.537104       1.542457       1.376965   1.162016\n",
       "4        -0.766954      -0.491042      -1.191356  -0.619100\n",
       "..             ...            ...            ...        ...\n",
       "718      -0.302405      -0.458764       0.397792   0.034526\n",
       "719      -0.356291      -0.466833      -0.131924  -0.515750\n",
       "720      -0.289369      -0.523319       0.397792  -0.517057\n",
       "721       0.644944       0.695166       0.478052  -0.023064\n",
       "722       0.653635       0.808138       0.815144  -0.024344\n",
       "\n",
       "[723 rows x 4 columns]"
      ]
     },
     "execution_count": 3,
     "metadata": {},
     "output_type": "execute_result"
    }
   ],
   "source": [
    "df"
   ]
  },
  {
   "cell_type": "markdown",
   "id": "a194d2104e8d90ff",
   "metadata": {
    "collapsed": false,
    "jupyter": {
     "outputs_hidden": false
    }
   },
   "source": [
    "# Подбор гиперпараметров"
   ]
  },
  {
   "cell_type": "code",
   "execution_count": 4,
   "id": "1a81f0e573e78e0c",
   "metadata": {
    "ExecuteTime": {
     "end_time": "2024-02-27T09:50:57.500187300Z",
     "start_time": "2024-02-27T09:50:55.693611200Z"
    },
    "collapsed": false,
    "jupyter": {
     "outputs_hidden": false
    }
   },
   "outputs": [
    {
     "name": "stderr",
     "output_type": "stream",
     "text": [
      "/Library/Frameworks/Python.framework/Versions/3.12/lib/python3.12/site-packages/tqdm/auto.py:21: TqdmWarning: IProgress not found. Please update jupyter and ipywidgets. See https://ipywidgets.readthedocs.io/en/stable/user_install.html\n",
      "  from .autonotebook import tqdm as notebook_tqdm\n"
     ]
    }
   ],
   "source": [
    "import optuna\n",
    "from knn import KnnClassifier\n",
    "from sklearn.metrics import accuracy_score\n",
    "\n",
    "train_size = int(X_train.shape[0] * train_ratio)\n",
    "train_data = X_train[: train_size]\n",
    "valid_data = X_train[train_size:]\n",
    "train_target = y_train[: train_size]\n",
    "valid_target = y_train[train_size :]"
   ]
  },
  {
   "cell_type": "markdown",
   "id": "b96f86765a0b4bbf",
   "metadata": {
    "collapsed": false,
    "jupyter": {
     "outputs_hidden": false
    }
   },
   "source": [
    "## Для собственной реализации"
   ]
  },
  {
   "cell_type": "code",
   "execution_count": 5,
   "id": "e59fb2bf8182fdf8",
   "metadata": {
    "ExecuteTime": {
     "end_time": "2024-02-27T13:16:27.278651900Z",
     "start_time": "2024-02-27T11:49:54.396026300Z"
    },
    "collapsed": false,
    "jupyter": {
     "outputs_hidden": false
    }
   },
   "outputs": [
    {
     "name": "stderr",
     "output_type": "stream",
     "text": [
      "[I 2024-10-17 11:28:31,071] A new study created in memory with name: no-name-4d612854-06a1-47f8-bc3e-231edb198a78\n",
      "[I 2024-10-17 11:28:31,078] Trial 0 finished with value: 0.6120689655172413 and parameters: {'neighbors': 2, 'window': 'unfixed', 'kernel': 'gaussian', 'metric': 'minkowski', 'p': 1}. Best is trial 0 with value: 0.6120689655172413.\n",
      "[I 2024-10-17 11:28:31,203] Trial 1 finished with value: 0.5517241379310345 and parameters: {'neighbors': 2, 'window': 'fixed', 'kernel': 'common', 'metric': 'chebyshev', 'h': 25.53646964469656, 'a': 2, 'b': 4}. Best is trial 0 with value: 0.6120689655172413.\n",
      "[I 2024-10-17 11:28:31,473] Trial 2 finished with value: 0.5517241379310345 and parameters: {'neighbors': 1, 'window': 'fixed', 'kernel': 'gaussian', 'metric': 'cosine', 'h': 16.58686216957199}. Best is trial 0 with value: 0.6120689655172413.\n",
      "[I 2024-10-17 11:28:31,695] Trial 3 finished with value: 0.5517241379310345 and parameters: {'neighbors': 1, 'window': 'fixed', 'kernel': 'uniform', 'metric': 'cosine', 'h': 86.88957240412668}. Best is trial 0 with value: 0.6120689655172413.\n",
      "[I 2024-10-17 11:28:31,705] Trial 4 finished with value: 0.6293103448275862 and parameters: {'neighbors': 13, 'window': 'unfixed', 'kernel': 'common', 'metric': 'minkowski', 'a': 2, 'b': 4, 'p': 3}. Best is trial 4 with value: 0.6293103448275862.\n",
      "[I 2024-10-17 11:28:31,710] Trial 5 finished with value: 0.6293103448275862 and parameters: {'neighbors': 17, 'window': 'fixed', 'kernel': 'gaussian', 'metric': 'chebyshev', 'h': 0.023453309406623532}. Best is trial 4 with value: 0.6293103448275862.\n",
      "[I 2024-10-17 11:28:31,807] Trial 6 finished with value: 0.5517241379310345 and parameters: {'neighbors': 28, 'window': 'fixed', 'kernel': 'uniform', 'metric': 'chebyshev', 'h': 5.7716190086295525}. Best is trial 4 with value: 0.6293103448275862.\n",
      "[I 2024-10-17 11:28:31,874] Trial 7 finished with value: 0.646551724137931 and parameters: {'neighbors': 1, 'window': 'unfixed', 'kernel': 'uniform', 'metric': 'cosine'}. Best is trial 7 with value: 0.646551724137931.\n",
      "[I 2024-10-17 11:28:31,946] Trial 8 finished with value: 0.603448275862069 and parameters: {'neighbors': 7, 'window': 'unfixed', 'kernel': 'common', 'metric': 'cosine', 'a': 1, 'b': 4}. Best is trial 7 with value: 0.646551724137931.\n",
      "[I 2024-10-17 11:28:32,169] Trial 9 finished with value: 0.5517241379310345 and parameters: {'neighbors': 13, 'window': 'fixed', 'kernel': 'uniform', 'metric': 'cosine', 'h': 8.248174547184043}. Best is trial 7 with value: 0.646551724137931.\n",
      "[I 2024-10-17 11:28:32,239] Trial 10 finished with value: 0.603448275862069 and parameters: {'neighbors': 3, 'window': 'unfixed', 'kernel': 'uniform', 'metric': 'cosine'}. Best is trial 7 with value: 0.646551724137931.\n",
      "[I 2024-10-17 11:28:32,263] Trial 11 finished with value: 0.6293103448275862 and parameters: {'neighbors': 45, 'window': 'unfixed', 'kernel': 'common', 'metric': 'minkowski', 'a': 4, 'b': 1, 'p': 4}. Best is trial 7 with value: 0.646551724137931.\n",
      "[I 2024-10-17 11:28:32,276] Trial 12 finished with value: 0.6810344827586207 and parameters: {'neighbors': 7, 'window': 'unfixed', 'kernel': 'common', 'metric': 'minkowski', 'a': 3, 'b': 3, 'p': 3}. Best is trial 12 with value: 0.6810344827586207.\n",
      "[I 2024-10-17 11:28:32,286] Trial 13 finished with value: 0.6293103448275862 and parameters: {'neighbors': 5, 'window': 'unfixed', 'kernel': 'uniform', 'metric': 'minkowski', 'p': 2}. Best is trial 12 with value: 0.6810344827586207.\n",
      "[I 2024-10-17 11:28:32,298] Trial 14 finished with value: 0.6551724137931034 and parameters: {'neighbors': 6, 'window': 'unfixed', 'kernel': 'common', 'metric': 'minkowski', 'a': 4, 'b': 2, 'p': 4}. Best is trial 12 with value: 0.6810344827586207.\n",
      "[I 2024-10-17 11:28:32,311] Trial 15 finished with value: 0.6551724137931034 and parameters: {'neighbors': 6, 'window': 'unfixed', 'kernel': 'common', 'metric': 'minkowski', 'a': 4, 'b': 2, 'p': 4}. Best is trial 12 with value: 0.6810344827586207.\n",
      "[I 2024-10-17 11:28:32,324] Trial 16 finished with value: 0.6293103448275862 and parameters: {'neighbors': 4, 'window': 'unfixed', 'kernel': 'common', 'metric': 'minkowski', 'a': 3, 'b': 2, 'p': 3}. Best is trial 12 with value: 0.6810344827586207.\n",
      "[I 2024-10-17 11:28:32,337] Trial 17 finished with value: 0.646551724137931 and parameters: {'neighbors': 9, 'window': 'unfixed', 'kernel': 'common', 'metric': 'minkowski', 'a': 3, 'b': 3, 'p': 4}. Best is trial 12 with value: 0.6810344827586207.\n",
      "[I 2024-10-17 11:28:32,349] Trial 18 finished with value: 0.6637931034482759 and parameters: {'neighbors': 3, 'window': 'unfixed', 'kernel': 'common', 'metric': 'minkowski', 'a': 4, 'b': 3, 'p': 3}. Best is trial 12 with value: 0.6810344827586207.\n",
      "[I 2024-10-17 11:28:32,361] Trial 19 finished with value: 0.646551724137931 and parameters: {'neighbors': 2, 'window': 'unfixed', 'kernel': 'common', 'metric': 'minkowski', 'a': 3, 'b': 3, 'p': 2}. Best is trial 12 with value: 0.6810344827586207.\n",
      "[I 2024-10-17 11:28:32,373] Trial 20 finished with value: 0.6637931034482759 and parameters: {'neighbors': 3, 'window': 'unfixed', 'kernel': 'common', 'metric': 'minkowski', 'a': 4, 'b': 3, 'p': 3}. Best is trial 12 with value: 0.6810344827586207.\n",
      "[I 2024-10-17 11:28:32,386] Trial 21 finished with value: 0.6637931034482759 and parameters: {'neighbors': 3, 'window': 'unfixed', 'kernel': 'common', 'metric': 'minkowski', 'a': 4, 'b': 3, 'p': 3}. Best is trial 12 with value: 0.6810344827586207.\n",
      "[I 2024-10-17 11:28:32,398] Trial 22 finished with value: 0.6637931034482759 and parameters: {'neighbors': 3, 'window': 'unfixed', 'kernel': 'common', 'metric': 'minkowski', 'a': 4, 'b': 3, 'p': 3}. Best is trial 12 with value: 0.6810344827586207.\n",
      "[I 2024-10-17 11:28:32,412] Trial 23 finished with value: 0.6637931034482759 and parameters: {'neighbors': 9, 'window': 'unfixed', 'kernel': 'common', 'metric': 'minkowski', 'a': 3, 'b': 3, 'p': 2}. Best is trial 12 with value: 0.6810344827586207.\n",
      "[I 2024-10-17 11:28:32,424] Trial 24 finished with value: 0.6293103448275862 and parameters: {'neighbors': 4, 'window': 'unfixed', 'kernel': 'common', 'metric': 'minkowski', 'a': 4, 'b': 3, 'p': 3}. Best is trial 12 with value: 0.6810344827586207.\n",
      "[I 2024-10-17 11:28:32,432] Trial 25 finished with value: 0.603448275862069 and parameters: {'neighbors': 2, 'window': 'unfixed', 'kernel': 'gaussian', 'metric': 'chebyshev'}. Best is trial 12 with value: 0.6810344827586207.\n",
      "[I 2024-10-17 11:28:32,445] Trial 26 finished with value: 0.6293103448275862 and parameters: {'neighbors': 4, 'window': 'unfixed', 'kernel': 'common', 'metric': 'minkowski', 'a': 3, 'b': 2, 'p': 3}. Best is trial 12 with value: 0.6810344827586207.\n",
      "[I 2024-10-17 11:28:32,457] Trial 27 finished with value: 0.6551724137931034 and parameters: {'neighbors': 8, 'window': 'unfixed', 'kernel': 'common', 'metric': 'minkowski', 'a': 2, 'b': 4, 'p': 2}. Best is trial 12 with value: 0.6810344827586207.\n",
      "[I 2024-10-17 11:28:32,473] Trial 28 finished with value: 0.6379310344827587 and parameters: {'neighbors': 15, 'window': 'unfixed', 'kernel': 'common', 'metric': 'minkowski', 'a': 4, 'b': 3, 'p': 3}. Best is trial 12 with value: 0.6810344827586207.\n",
      "[I 2024-10-17 11:28:32,489] Trial 29 finished with value: 0.6206896551724138 and parameters: {'neighbors': 24, 'window': 'unfixed', 'kernel': 'gaussian', 'metric': 'minkowski', 'p': 1}. Best is trial 12 with value: 0.6810344827586207.\n",
      "[I 2024-10-17 11:28:32,499] Trial 30 finished with value: 0.6551724137931034 and parameters: {'neighbors': 3, 'window': 'unfixed', 'kernel': 'common', 'metric': 'chebyshev', 'a': 3, 'b': 1}. Best is trial 12 with value: 0.6810344827586207.\n",
      "[I 2024-10-17 11:28:32,511] Trial 31 finished with value: 0.6637931034482759 and parameters: {'neighbors': 3, 'window': 'unfixed', 'kernel': 'common', 'metric': 'minkowski', 'a': 4, 'b': 3, 'p': 3}. Best is trial 12 with value: 0.6810344827586207.\n",
      "[I 2024-10-17 11:28:32,523] Trial 32 finished with value: 0.6293103448275862 and parameters: {'neighbors': 2, 'window': 'unfixed', 'kernel': 'common', 'metric': 'minkowski', 'a': 4, 'b': 3, 'p': 3}. Best is trial 12 with value: 0.6810344827586207.\n",
      "[I 2024-10-17 11:28:32,536] Trial 33 finished with value: 0.6120689655172413 and parameters: {'neighbors': 5, 'window': 'unfixed', 'kernel': 'common', 'metric': 'minkowski', 'a': 4, 'b': 3, 'p': 3}. Best is trial 12 with value: 0.6810344827586207.\n",
      "[I 2024-10-17 11:28:32,546] Trial 34 finished with value: 0.603448275862069 and parameters: {'neighbors': 2, 'window': 'fixed', 'kernel': 'gaussian', 'metric': 'minkowski', 'h': 0.1001845901507225, 'p': 3}. Best is trial 12 with value: 0.6810344827586207.\n",
      "[I 2024-10-17 11:28:32,557] Trial 35 finished with value: 0.6379310344827587 and parameters: {'neighbors': 1, 'window': 'unfixed', 'kernel': 'common', 'metric': 'minkowski', 'a': 4, 'b': 3, 'p': 2}. Best is trial 12 with value: 0.6810344827586207.\n",
      "[I 2024-10-17 11:28:32,579] Trial 36 finished with value: 0.6120689655172413 and parameters: {'neighbors': 11, 'window': 'fixed', 'kernel': 'common', 'metric': 'minkowski', 'h': 0.41565778934672304, 'a': 3, 'b': 2, 'p': 4}. Best is trial 12 with value: 0.6810344827586207.\n",
      "[I 2024-10-17 11:28:32,590] Trial 37 finished with value: 0.6293103448275862 and parameters: {'neighbors': 4, 'window': 'unfixed', 'kernel': 'common', 'metric': 'chebyshev', 'a': 1, 'b': 4}. Best is trial 12 with value: 0.6810344827586207.\n",
      "[I 2024-10-17 11:28:32,650] Trial 38 finished with value: 0.6293103448275862 and parameters: {'neighbors': 3, 'window': 'fixed', 'kernel': 'gaussian', 'metric': 'minkowski', 'h': 1.254659295256543, 'p': 3}. Best is trial 12 with value: 0.6810344827586207.\n",
      "[I 2024-10-17 11:28:32,724] Trial 39 finished with value: 0.5603448275862069 and parameters: {'neighbors': 4, 'window': 'unfixed', 'kernel': 'common', 'metric': 'cosine', 'a': 4, 'b': 3}. Best is trial 12 with value: 0.6810344827586207.\n",
      "[I 2024-10-17 11:28:32,734] Trial 40 finished with value: 0.6206896551724138 and parameters: {'neighbors': 5, 'window': 'fixed', 'kernel': 'common', 'metric': 'chebyshev', 'h': 0.010465060821253818, 'a': 4, 'b': 3}. Best is trial 12 with value: 0.6810344827586207.\n",
      "[I 2024-10-17 11:28:32,746] Trial 41 finished with value: 0.6637931034482759 and parameters: {'neighbors': 3, 'window': 'unfixed', 'kernel': 'common', 'metric': 'minkowski', 'a': 4, 'b': 3, 'p': 3}. Best is trial 12 with value: 0.6810344827586207.\n",
      "[I 2024-10-17 11:28:32,759] Trial 42 finished with value: 0.6810344827586207 and parameters: {'neighbors': 7, 'window': 'unfixed', 'kernel': 'common', 'metric': 'minkowski', 'a': 4, 'b': 3, 'p': 3}. Best is trial 12 with value: 0.6810344827586207.\n",
      "[I 2024-10-17 11:28:32,773] Trial 43 finished with value: 0.6810344827586207 and parameters: {'neighbors': 7, 'window': 'unfixed', 'kernel': 'common', 'metric': 'minkowski', 'a': 4, 'b': 3, 'p': 3}. Best is trial 12 with value: 0.6810344827586207.\n",
      "[I 2024-10-17 11:28:32,784] Trial 44 finished with value: 0.6293103448275862 and parameters: {'neighbors': 11, 'window': 'unfixed', 'kernel': 'uniform', 'metric': 'minkowski', 'p': 3}. Best is trial 12 with value: 0.6810344827586207.\n",
      "[I 2024-10-17 11:28:32,857] Trial 45 finished with value: 0.603448275862069 and parameters: {'neighbors': 7, 'window': 'unfixed', 'kernel': 'common', 'metric': 'cosine', 'a': 3, 'b': 4}. Best is trial 12 with value: 0.6810344827586207.\n",
      "[I 2024-10-17 11:28:32,870] Trial 46 finished with value: 0.6637931034482759 and parameters: {'neighbors': 19, 'window': 'unfixed', 'kernel': 'uniform', 'metric': 'minkowski', 'p': 3}. Best is trial 12 with value: 0.6810344827586207.\n",
      "[I 2024-10-17 11:28:32,882] Trial 47 finished with value: 0.6551724137931034 and parameters: {'neighbors': 6, 'window': 'unfixed', 'kernel': 'common', 'metric': 'minkowski', 'a': 4, 'b': 3, 'p': 2}. Best is trial 12 with value: 0.6810344827586207.\n",
      "[I 2024-10-17 11:28:32,960] Trial 48 finished with value: 0.6379310344827587 and parameters: {'neighbors': 11, 'window': 'unfixed', 'kernel': 'common', 'metric': 'cosine', 'a': 2, 'b': 4}. Best is trial 12 with value: 0.6810344827586207.\n",
      "[I 2024-10-17 11:28:32,990] Trial 49 finished with value: 0.6379310344827587 and parameters: {'neighbors': 7, 'window': 'fixed', 'kernel': 'gaussian', 'metric': 'minkowski', 'h': 0.6526152579573782, 'p': 3}. Best is trial 12 with value: 0.6810344827586207.\n",
      "[I 2024-10-17 11:28:33,004] Trial 50 finished with value: 0.646551724137931 and parameters: {'neighbors': 9, 'window': 'unfixed', 'kernel': 'common', 'metric': 'minkowski', 'a': 4, 'b': 2, 'p': 4}. Best is trial 12 with value: 0.6810344827586207.\n",
      "[I 2024-10-17 11:28:33,017] Trial 51 finished with value: 0.6551724137931034 and parameters: {'neighbors': 6, 'window': 'unfixed', 'kernel': 'common', 'metric': 'minkowski', 'a': 4, 'b': 3, 'p': 3}. Best is trial 12 with value: 0.6810344827586207.\n",
      "[I 2024-10-17 11:28:33,030] Trial 52 finished with value: 0.6120689655172413 and parameters: {'neighbors': 5, 'window': 'unfixed', 'kernel': 'common', 'metric': 'minkowski', 'a': 4, 'b': 3, 'p': 3}. Best is trial 12 with value: 0.6810344827586207.\n",
      "[I 2024-10-17 11:28:33,044] Trial 53 finished with value: 0.6724137931034483 and parameters: {'neighbors': 8, 'window': 'unfixed', 'kernel': 'common', 'metric': 'minkowski', 'a': 4, 'b': 3, 'p': 3}. Best is trial 12 with value: 0.6810344827586207.\n",
      "[I 2024-10-17 11:28:33,059] Trial 54 finished with value: 0.6637931034482759 and parameters: {'neighbors': 9, 'window': 'unfixed', 'kernel': 'common', 'metric': 'minkowski', 'a': 4, 'b': 3, 'p': 3}. Best is trial 12 with value: 0.6810344827586207.\n",
      "[I 2024-10-17 11:28:33,071] Trial 55 finished with value: 0.6293103448275862 and parameters: {'neighbors': 13, 'window': 'unfixed', 'kernel': 'uniform', 'metric': 'minkowski', 'p': 4}. Best is trial 12 with value: 0.6810344827586207.\n",
      "[I 2024-10-17 11:28:33,084] Trial 56 finished with value: 0.6810344827586207 and parameters: {'neighbors': 7, 'window': 'unfixed', 'kernel': 'common', 'metric': 'minkowski', 'a': 4, 'b': 3, 'p': 3}. Best is trial 12 with value: 0.6810344827586207.\n",
      "[I 2024-10-17 11:28:33,099] Trial 57 finished with value: 0.6724137931034483 and parameters: {'neighbors': 8, 'window': 'unfixed', 'kernel': 'common', 'metric': 'minkowski', 'a': 1, 'b': 2, 'p': 3}. Best is trial 12 with value: 0.6810344827586207.\n",
      "[I 2024-10-17 11:28:33,114] Trial 58 finished with value: 0.6637931034482759 and parameters: {'neighbors': 18, 'window': 'unfixed', 'kernel': 'common', 'metric': 'chebyshev', 'a': 1, 'b': 2}. Best is trial 12 with value: 0.6810344827586207.\n",
      "[I 2024-10-17 11:28:33,128] Trial 59 finished with value: 0.6637931034482759 and parameters: {'neighbors': 8, 'window': 'unfixed', 'kernel': 'common', 'metric': 'minkowski', 'a': 1, 'b': 2, 'p': 4}. Best is trial 12 with value: 0.6810344827586207.\n",
      "[I 2024-10-17 11:28:33,206] Trial 60 finished with value: 0.646551724137931 and parameters: {'neighbors': 13, 'window': 'unfixed', 'kernel': 'common', 'metric': 'cosine', 'a': 2, 'b': 2}. Best is trial 12 with value: 0.6810344827586207.\n",
      "[I 2024-10-17 11:28:33,220] Trial 61 finished with value: 0.6810344827586207 and parameters: {'neighbors': 7, 'window': 'unfixed', 'kernel': 'common', 'metric': 'minkowski', 'a': 3, 'b': 3, 'p': 3}. Best is trial 12 with value: 0.6810344827586207.\n",
      "[I 2024-10-17 11:28:33,234] Trial 62 finished with value: 0.6810344827586207 and parameters: {'neighbors': 7, 'window': 'unfixed', 'kernel': 'common', 'metric': 'minkowski', 'a': 3, 'b': 1, 'p': 3}. Best is trial 12 with value: 0.6810344827586207.\n",
      "[I 2024-10-17 11:28:33,249] Trial 63 finished with value: 0.6551724137931034 and parameters: {'neighbors': 10, 'window': 'unfixed', 'kernel': 'common', 'metric': 'minkowski', 'a': 3, 'b': 1, 'p': 3}. Best is trial 12 with value: 0.6810344827586207.\n",
      "[I 2024-10-17 11:28:33,262] Trial 64 finished with value: 0.6551724137931034 and parameters: {'neighbors': 6, 'window': 'unfixed', 'kernel': 'common', 'metric': 'minkowski', 'a': 3, 'b': 1, 'p': 3}. Best is trial 12 with value: 0.6810344827586207.\n",
      "[I 2024-10-17 11:28:33,276] Trial 65 finished with value: 0.6810344827586207 and parameters: {'neighbors': 7, 'window': 'unfixed', 'kernel': 'common', 'metric': 'minkowski', 'a': 3, 'b': 3, 'p': 3}. Best is trial 12 with value: 0.6810344827586207.\n",
      "[I 2024-10-17 11:28:33,289] Trial 66 finished with value: 0.6637931034482759 and parameters: {'neighbors': 7, 'window': 'unfixed', 'kernel': 'common', 'metric': 'minkowski', 'a': 3, 'b': 3, 'p': 2}. Best is trial 12 with value: 0.6810344827586207.\n",
      "[I 2024-10-17 11:28:33,299] Trial 67 finished with value: 0.6810344827586207 and parameters: {'neighbors': 7, 'window': 'unfixed', 'kernel': 'uniform', 'metric': 'minkowski', 'p': 3}. Best is trial 12 with value: 0.6810344827586207.\n",
      "[I 2024-10-17 11:28:33,312] Trial 68 finished with value: 0.6551724137931034 and parameters: {'neighbors': 6, 'window': 'unfixed', 'kernel': 'common', 'metric': 'minkowski', 'a': 3, 'b': 3, 'p': 3}. Best is trial 12 with value: 0.6810344827586207.\n",
      "[I 2024-10-17 11:28:33,325] Trial 69 finished with value: 0.6293103448275862 and parameters: {'neighbors': 14, 'window': 'fixed', 'kernel': 'common', 'metric': 'minkowski', 'h': 0.09570335129910021, 'a': 3, 'b': 4, 'p': 3}. Best is trial 12 with value: 0.6810344827586207.\n",
      "[I 2024-10-17 11:28:33,335] Trial 70 finished with value: 0.6120689655172413 and parameters: {'neighbors': 5, 'window': 'unfixed', 'kernel': 'gaussian', 'metric': 'minkowski', 'p': 3}. Best is trial 12 with value: 0.6810344827586207.\n",
      "[I 2024-10-17 11:28:33,345] Trial 71 finished with value: 0.6810344827586207 and parameters: {'neighbors': 7, 'window': 'unfixed', 'kernel': 'uniform', 'metric': 'minkowski', 'p': 3}. Best is trial 12 with value: 0.6810344827586207.\n",
      "[I 2024-10-17 11:28:33,356] Trial 72 finished with value: 0.6293103448275862 and parameters: {'neighbors': 11, 'window': 'unfixed', 'kernel': 'uniform', 'metric': 'minkowski', 'p': 3}. Best is trial 12 with value: 0.6810344827586207.\n",
      "[I 2024-10-17 11:28:33,375] Trial 73 finished with value: 0.6293103448275862 and parameters: {'neighbors': 47, 'window': 'unfixed', 'kernel': 'uniform', 'metric': 'minkowski', 'p': 3}. Best is trial 12 with value: 0.6810344827586207.\n",
      "[I 2024-10-17 11:28:33,386] Trial 74 finished with value: 0.6551724137931034 and parameters: {'neighbors': 10, 'window': 'unfixed', 'kernel': 'uniform', 'metric': 'minkowski', 'p': 3}. Best is trial 12 with value: 0.6810344827586207.\n",
      "[I 2024-10-17 11:28:33,395] Trial 75 finished with value: 0.6551724137931034 and parameters: {'neighbors': 6, 'window': 'unfixed', 'kernel': 'uniform', 'metric': 'minkowski', 'p': 2}. Best is trial 12 with value: 0.6810344827586207.\n",
      "[I 2024-10-17 11:28:33,406] Trial 76 finished with value: 0.6551724137931034 and parameters: {'neighbors': 7, 'window': 'unfixed', 'kernel': 'common', 'metric': 'chebyshev', 'a': 3, 'b': 3}. Best is trial 12 with value: 0.6810344827586207.\n",
      "[I 2024-10-17 11:28:33,420] Trial 77 finished with value: 0.6724137931034483 and parameters: {'neighbors': 8, 'window': 'unfixed', 'kernel': 'common', 'metric': 'minkowski', 'a': 3, 'b': 3, 'p': 3}. Best is trial 12 with value: 0.6810344827586207.\n",
      "[I 2024-10-17 11:28:33,435] Trial 78 finished with value: 0.6637931034482759 and parameters: {'neighbors': 9, 'window': 'unfixed', 'kernel': 'common', 'metric': 'minkowski', 'a': 3, 'b': 3, 'p': 3}. Best is trial 12 with value: 0.6810344827586207.\n",
      "[I 2024-10-17 11:28:33,446] Trial 79 finished with value: 0.6810344827586207 and parameters: {'neighbors': 4, 'window': 'unfixed', 'kernel': 'common', 'metric': 'minkowski', 'a': 2, 'b': 3, 'p': 1}. Best is trial 12 with value: 0.6810344827586207.\n",
      "[I 2024-10-17 11:28:33,674] Trial 80 finished with value: 0.5517241379310345 and parameters: {'neighbors': 5, 'window': 'fixed', 'kernel': 'uniform', 'metric': 'cosine', 'h': 2.3581092497157123}. Best is trial 12 with value: 0.6810344827586207.\n",
      "[I 2024-10-17 11:28:33,685] Trial 81 finished with value: 0.6810344827586207 and parameters: {'neighbors': 7, 'window': 'unfixed', 'kernel': 'uniform', 'metric': 'minkowski', 'p': 3}. Best is trial 12 with value: 0.6810344827586207.\n",
      "[I 2024-10-17 11:28:33,695] Trial 82 finished with value: 0.6551724137931034 and parameters: {'neighbors': 10, 'window': 'unfixed', 'kernel': 'uniform', 'metric': 'minkowski', 'p': 3}. Best is trial 12 with value: 0.6810344827586207.\n",
      "[I 2024-10-17 11:28:33,708] Trial 83 finished with value: 0.646551724137931 and parameters: {'neighbors': 16, 'window': 'unfixed', 'kernel': 'uniform', 'metric': 'minkowski', 'p': 3}. Best is trial 12 with value: 0.6810344827586207.\n",
      "[I 2024-10-17 11:28:33,718] Trial 84 finished with value: 0.6810344827586207 and parameters: {'neighbors': 7, 'window': 'unfixed', 'kernel': 'uniform', 'metric': 'minkowski', 'p': 3}. Best is trial 12 with value: 0.6810344827586207.\n",
      "[I 2024-10-17 11:28:33,728] Trial 85 finished with value: 0.6551724137931034 and parameters: {'neighbors': 6, 'window': 'unfixed', 'kernel': 'uniform', 'metric': 'minkowski', 'p': 3}. Best is trial 12 with value: 0.6810344827586207.\n",
      "[I 2024-10-17 11:28:33,744] Trial 86 finished with value: 0.6120689655172413 and parameters: {'neighbors': 12, 'window': 'unfixed', 'kernel': 'common', 'metric': 'minkowski', 'a': 3, 'b': 3, 'p': 3}. Best is trial 12 with value: 0.6810344827586207.\n",
      "[I 2024-10-17 11:28:33,756] Trial 87 finished with value: 0.6724137931034483 and parameters: {'neighbors': 8, 'window': 'unfixed', 'kernel': 'gaussian', 'metric': 'minkowski', 'p': 3}. Best is trial 12 with value: 0.6810344827586207.\n",
      "[I 2024-10-17 11:28:33,771] Trial 88 finished with value: 0.6637931034482759 and parameters: {'neighbors': 9, 'window': 'unfixed', 'kernel': 'common', 'metric': 'minkowski', 'a': 3, 'b': 1, 'p': 3}. Best is trial 12 with value: 0.6810344827586207.\n",
      "[I 2024-10-17 11:28:33,783] Trial 89 finished with value: 0.646551724137931 and parameters: {'neighbors': 5, 'window': 'unfixed', 'kernel': 'common', 'metric': 'chebyshev', 'a': 3, 'b': 4}. Best is trial 12 with value: 0.6810344827586207.\n",
      "[I 2024-10-17 11:28:33,797] Trial 90 finished with value: 0.6810344827586207 and parameters: {'neighbors': 7, 'window': 'unfixed', 'kernel': 'common', 'metric': 'minkowski', 'a': 3, 'b': 3, 'p': 3}. Best is trial 12 with value: 0.6810344827586207.\n",
      "[I 2024-10-17 11:28:33,810] Trial 91 finished with value: 0.6810344827586207 and parameters: {'neighbors': 4, 'window': 'unfixed', 'kernel': 'common', 'metric': 'minkowski', 'a': 2, 'b': 3, 'p': 1}. Best is trial 12 with value: 0.6810344827586207.\n",
      "[I 2024-10-17 11:28:33,823] Trial 92 finished with value: 0.6551724137931034 and parameters: {'neighbors': 6, 'window': 'unfixed', 'kernel': 'common', 'metric': 'minkowski', 'a': 2, 'b': 3, 'p': 1}. Best is trial 12 with value: 0.6810344827586207.\n",
      "[I 2024-10-17 11:28:33,836] Trial 93 finished with value: 0.6293103448275862 and parameters: {'neighbors': 4, 'window': 'unfixed', 'kernel': 'common', 'metric': 'minkowski', 'a': 2, 'b': 3, 'p': 2}. Best is trial 12 with value: 0.6810344827586207.\n",
      "[I 2024-10-17 11:28:33,851] Trial 94 finished with value: 0.6551724137931034 and parameters: {'neighbors': 10, 'window': 'unfixed', 'kernel': 'common', 'metric': 'minkowski', 'a': 2, 'b': 3, 'p': 3}. Best is trial 12 with value: 0.6810344827586207.\n",
      "[I 2024-10-17 11:28:33,874] Trial 95 finished with value: 0.6120689655172413 and parameters: {'neighbors': 34, 'window': 'unfixed', 'kernel': 'common', 'metric': 'minkowski', 'a': 3, 'b': 3, 'p': 3}. Best is trial 12 with value: 0.6810344827586207.\n",
      "[I 2024-10-17 11:28:33,889] Trial 96 finished with value: 0.6724137931034483 and parameters: {'neighbors': 8, 'window': 'unfixed', 'kernel': 'common', 'metric': 'minkowski', 'a': 2, 'b': 3, 'p': 3}. Best is trial 12 with value: 0.6810344827586207.\n",
      "[I 2024-10-17 11:28:33,903] Trial 97 finished with value: 0.6551724137931034 and parameters: {'neighbors': 6, 'window': 'unfixed', 'kernel': 'common', 'metric': 'minkowski', 'a': 4, 'b': 3, 'p': 4}. Best is trial 12 with value: 0.6810344827586207.\n",
      "[I 2024-10-17 11:28:34,165] Trial 98 finished with value: 0.5517241379310345 and parameters: {'neighbors': 7, 'window': 'fixed', 'kernel': 'uniform', 'metric': 'cosine', 'h': 82.26292501676105}. Best is trial 12 with value: 0.6810344827586207.\n",
      "[I 2024-10-17 11:28:34,182] Trial 99 finished with value: 0.6120689655172413 and parameters: {'neighbors': 12, 'window': 'unfixed', 'kernel': 'common', 'metric': 'minkowski', 'a': 3, 'b': 3, 'p': 3}. Best is trial 12 with value: 0.6810344827586207.\n"
     ]
    },
    {
     "name": "stdout",
     "output_type": "stream",
     "text": [
      "{'neighbors': 7, 'window': 'unfixed', 'kernel': 'common', 'metric': 'minkowski', 'a': 3, 'b': 3, 'p': 3}\n"
     ]
    }
   ],
   "source": [
    "def my_objective(trial):\n",
    "    neighbors = trial.suggest_int('neighbors', 1, 50, log=True)\n",
    "    window = trial.suggest_categorical('window', ['unfixed', 'fixed'])\n",
    "    kernel = trial.suggest_categorical('kernel', ['uniform', 'gaussian', 'common'])\n",
    "    metric = trial.suggest_categorical('metric', ['minkowski', 'chebyshev', 'cosine'])\n",
    "    h, a, b, p = 1, 1, 1, 1\n",
    "    if window == 'fixed':\n",
    "        h = trial.suggest_float('h', 1e-2, 1e2, log=True)\n",
    "    if kernel == 'common':\n",
    "        a = trial.suggest_int('a', 1, 4)\n",
    "        b = trial.suggest_int('b', 1, 4)\n",
    "    if metric == 'minkowski':\n",
    "        p = trial.suggest_int('p', 1, 4)\n",
    "    classifier = KnnClassifier(neighbors, window, h, kernel, a, b, metric, p)\n",
    "    classifier.fit(train_data, train_target)\n",
    "    return accuracy_score(valid_target, classifier.predict(valid_data))\n",
    "\n",
    "study = optuna.create_study(direction='maximize')\n",
    "study.optimize(my_objective, n_trials=100)\n",
    "print(study.best_params)"
   ]
  },
  {
   "cell_type": "markdown",
   "id": "ea6db85ba6537e9c",
   "metadata": {
    "collapsed": false,
    "jupyter": {
     "outputs_hidden": false
    }
   },
   "source": [
    "## Для реализации sklearn"
   ]
  },
  {
   "cell_type": "code",
   "execution_count": 6,
   "id": "13fff4df12b79d12",
   "metadata": {
    "ExecuteTime": {
     "end_time": "2024-02-27T11:40:50.848587900Z",
     "start_time": "2024-02-27T11:38:51.424529Z"
    },
    "collapsed": false,
    "jupyter": {
     "outputs_hidden": false
    }
   },
   "outputs": [
    {
     "name": "stderr",
     "output_type": "stream",
     "text": [
      "[I 2024-10-17 11:28:34,185] A new study created in memory with name: no-name-c0733288-a600-488e-b85c-efa6e59bd687\n",
      "[I 2024-10-17 11:28:34,189] Trial 0 finished with value: 0.6637931034482759 and parameters: {'neighbors': 7, 'weights': 'distance', 'metric': 'minkowski', 'p': 3}. Best is trial 0 with value: 0.6637931034482759.\n",
      "[I 2024-10-17 11:28:34,192] Trial 1 finished with value: 0.646551724137931 and parameters: {'neighbors': 10, 'weights': 'uniform', 'metric': 'cosine'}. Best is trial 0 with value: 0.6637931034482759.\n",
      "[I 2024-10-17 11:28:34,195] Trial 2 finished with value: 0.603448275862069 and parameters: {'neighbors': 9, 'weights': 'uniform', 'metric': 'cosine'}. Best is trial 0 with value: 0.6637931034482759.\n",
      "[I 2024-10-17 11:28:34,197] Trial 3 finished with value: 0.6810344827586207 and parameters: {'neighbors': 11, 'weights': 'distance', 'metric': 'minkowski', 'p': 1}. Best is trial 3 with value: 0.6810344827586207.\n",
      "[I 2024-10-17 11:28:34,200] Trial 4 finished with value: 0.7155172413793104 and parameters: {'neighbors': 30, 'weights': 'distance', 'metric': 'minkowski', 'p': 4}. Best is trial 4 with value: 0.7155172413793104.\n",
      "[I 2024-10-17 11:28:34,203] Trial 5 finished with value: 0.646551724137931 and parameters: {'neighbors': 21, 'weights': 'uniform', 'metric': 'minkowski', 'p': 2}. Best is trial 4 with value: 0.7155172413793104.\n",
      "[I 2024-10-17 11:28:34,204] Trial 6 finished with value: 0.603448275862069 and parameters: {'neighbors': 1, 'weights': 'distance', 'metric': 'cosine'}. Best is trial 4 with value: 0.7155172413793104.\n",
      "[I 2024-10-17 11:28:34,206] Trial 7 finished with value: 0.6293103448275862 and parameters: {'neighbors': 1, 'weights': 'distance', 'metric': 'minkowski', 'p': 3}. Best is trial 4 with value: 0.7155172413793104.\n",
      "[I 2024-10-17 11:28:34,209] Trial 8 finished with value: 0.603448275862069 and parameters: {'neighbors': 1, 'weights': 'uniform', 'metric': 'cosine'}. Best is trial 4 with value: 0.7155172413793104.\n",
      "[I 2024-10-17 11:28:34,210] Trial 9 finished with value: 0.6293103448275862 and parameters: {'neighbors': 1, 'weights': 'distance', 'metric': 'minkowski', 'p': 1}. Best is trial 4 with value: 0.7155172413793104.\n",
      "[I 2024-10-17 11:28:34,216] Trial 10 finished with value: 0.6637931034482759 and parameters: {'neighbors': 45, 'weights': 'distance', 'metric': 'minkowski', 'p': 4}. Best is trial 4 with value: 0.7155172413793104.\n",
      "[I 2024-10-17 11:28:34,220] Trial 11 finished with value: 0.7068965517241379 and parameters: {'neighbors': 25, 'weights': 'distance', 'metric': 'minkowski', 'p': 1}. Best is trial 4 with value: 0.7155172413793104.\n",
      "[I 2024-10-17 11:28:34,225] Trial 12 finished with value: 0.6724137931034483 and parameters: {'neighbors': 48, 'weights': 'distance', 'metric': 'minkowski', 'p': 4}. Best is trial 4 with value: 0.7155172413793104.\n",
      "[I 2024-10-17 11:28:34,229] Trial 13 finished with value: 0.6551724137931034 and parameters: {'neighbors': 3, 'weights': 'distance', 'metric': 'minkowski', 'p': 2}. Best is trial 4 with value: 0.7155172413793104.\n",
      "[I 2024-10-17 11:28:34,234] Trial 14 finished with value: 0.7241379310344828 and parameters: {'neighbors': 23, 'weights': 'distance', 'metric': 'minkowski', 'p': 4}. Best is trial 14 with value: 0.7241379310344828.\n",
      "[I 2024-10-17 11:28:34,238] Trial 15 finished with value: 0.6379310344827587 and parameters: {'neighbors': 3, 'weights': 'distance', 'metric': 'minkowski', 'p': 4}. Best is trial 14 with value: 0.7241379310344828.\n",
      "[I 2024-10-17 11:28:34,243] Trial 16 finished with value: 0.7327586206896551 and parameters: {'neighbors': 23, 'weights': 'distance', 'metric': 'minkowski', 'p': 3}. Best is trial 16 with value: 0.7327586206896551.\n",
      "[I 2024-10-17 11:28:34,248] Trial 17 finished with value: 0.7155172413793104 and parameters: {'neighbors': 16, 'weights': 'distance', 'metric': 'minkowski', 'p': 3}. Best is trial 16 with value: 0.7327586206896551.\n",
      "[I 2024-10-17 11:28:34,253] Trial 18 finished with value: 0.5775862068965517 and parameters: {'neighbors': 3, 'weights': 'uniform', 'metric': 'cosine'}. Best is trial 16 with value: 0.7327586206896551.\n",
      "[I 2024-10-17 11:28:34,258] Trial 19 finished with value: 0.6810344827586207 and parameters: {'neighbors': 5, 'weights': 'distance', 'metric': 'minkowski', 'p': 3}. Best is trial 16 with value: 0.7327586206896551.\n",
      "[I 2024-10-17 11:28:34,262] Trial 20 finished with value: 0.7155172413793104 and parameters: {'neighbors': 15, 'weights': 'distance', 'metric': 'minkowski', 'p': 2}. Best is trial 16 with value: 0.7327586206896551.\n",
      "[I 2024-10-17 11:28:34,267] Trial 21 finished with value: 0.7068965517241379 and parameters: {'neighbors': 31, 'weights': 'distance', 'metric': 'minkowski', 'p': 4}. Best is trial 16 with value: 0.7327586206896551.\n",
      "[I 2024-10-17 11:28:34,272] Trial 22 finished with value: 0.7068965517241379 and parameters: {'neighbors': 33, 'weights': 'distance', 'metric': 'minkowski', 'p': 4}. Best is trial 16 with value: 0.7327586206896551.\n",
      "[I 2024-10-17 11:28:34,277] Trial 23 finished with value: 0.7068965517241379 and parameters: {'neighbors': 19, 'weights': 'distance', 'metric': 'minkowski', 'p': 4}. Best is trial 16 with value: 0.7327586206896551.\n",
      "[I 2024-10-17 11:28:34,282] Trial 24 finished with value: 0.6982758620689655 and parameters: {'neighbors': 31, 'weights': 'distance', 'metric': 'minkowski', 'p': 3}. Best is trial 16 with value: 0.7327586206896551.\n",
      "[I 2024-10-17 11:28:34,287] Trial 25 finished with value: 0.7068965517241379 and parameters: {'neighbors': 14, 'weights': 'distance', 'metric': 'minkowski', 'p': 4}. Best is trial 16 with value: 0.7327586206896551.\n",
      "[I 2024-10-17 11:28:34,291] Trial 26 finished with value: 0.6120689655172413 and parameters: {'neighbors': 6, 'weights': 'uniform', 'metric': 'cosine'}. Best is trial 16 with value: 0.7327586206896551.\n",
      "[I 2024-10-17 11:28:34,296] Trial 27 finished with value: 0.7155172413793104 and parameters: {'neighbors': 24, 'weights': 'distance', 'metric': 'minkowski', 'p': 3}. Best is trial 16 with value: 0.7327586206896551.\n",
      "[I 2024-10-17 11:28:34,302] Trial 28 finished with value: 0.6637931034482759 and parameters: {'neighbors': 47, 'weights': 'distance', 'metric': 'minkowski', 'p': 4}. Best is trial 16 with value: 0.7327586206896551.\n",
      "[I 2024-10-17 11:28:34,306] Trial 29 finished with value: 0.6810344827586207 and parameters: {'neighbors': 8, 'weights': 'distance', 'metric': 'minkowski', 'p': 3}. Best is trial 16 with value: 0.7327586206896551.\n",
      "[I 2024-10-17 11:28:34,311] Trial 30 finished with value: 0.6724137931034483 and parameters: {'neighbors': 5, 'weights': 'distance', 'metric': 'minkowski', 'p': 4}. Best is trial 16 with value: 0.7327586206896551.\n",
      "[I 2024-10-17 11:28:34,316] Trial 31 finished with value: 0.6982758620689655 and parameters: {'neighbors': 14, 'weights': 'distance', 'metric': 'minkowski', 'p': 3}. Best is trial 16 with value: 0.7327586206896551.\n",
      "[I 2024-10-17 11:28:34,320] Trial 32 finished with value: 0.7068965517241379 and parameters: {'neighbors': 16, 'weights': 'distance', 'metric': 'minkowski', 'p': 2}. Best is trial 16 with value: 0.7327586206896551.\n",
      "[I 2024-10-17 11:28:34,325] Trial 33 finished with value: 0.7068965517241379 and parameters: {'neighbors': 34, 'weights': 'distance', 'metric': 'minkowski', 'p': 3}. Best is trial 16 with value: 0.7327586206896551.\n",
      "[I 2024-10-17 11:28:34,330] Trial 34 finished with value: 0.6293103448275862 and parameters: {'neighbors': 12, 'weights': 'uniform', 'metric': 'cosine'}. Best is trial 16 with value: 0.7327586206896551.\n",
      "[I 2024-10-17 11:28:34,335] Trial 35 finished with value: 0.7068965517241379 and parameters: {'neighbors': 19, 'weights': 'distance', 'metric': 'minkowski', 'p': 3}. Best is trial 16 with value: 0.7327586206896551.\n",
      "[I 2024-10-17 11:28:34,340] Trial 36 finished with value: 0.646551724137931 and parameters: {'neighbors': 10, 'weights': 'uniform', 'metric': 'minkowski', 'p': 4}. Best is trial 16 with value: 0.7327586206896551.\n",
      "[I 2024-10-17 11:28:34,344] Trial 37 finished with value: 0.7155172413793104 and parameters: {'neighbors': 24, 'weights': 'distance', 'metric': 'cosine'}. Best is trial 16 with value: 0.7327586206896551.\n",
      "[I 2024-10-17 11:28:34,349] Trial 38 finished with value: 0.6724137931034483 and parameters: {'neighbors': 40, 'weights': 'distance', 'metric': 'minkowski', 'p': 3}. Best is trial 16 with value: 0.7327586206896551.\n",
      "[I 2024-10-17 11:28:34,356] Trial 39 finished with value: 0.6551724137931034 and parameters: {'neighbors': 19, 'weights': 'uniform', 'metric': 'minkowski', 'p': 3}. Best is trial 16 with value: 0.7327586206896551.\n",
      "[I 2024-10-17 11:28:34,359] Trial 40 finished with value: 0.6379310344827587 and parameters: {'neighbors': 7, 'weights': 'distance', 'metric': 'cosine'}. Best is trial 16 with value: 0.7327586206896551.\n",
      "[I 2024-10-17 11:28:34,363] Trial 41 finished with value: 0.6896551724137931 and parameters: {'neighbors': 12, 'weights': 'distance', 'metric': 'minkowski', 'p': 2}. Best is trial 16 with value: 0.7327586206896551.\n",
      "[I 2024-10-17 11:28:34,380] Trial 42 finished with value: 0.7068965517241379 and parameters: {'neighbors': 26, 'weights': 'distance', 'metric': 'minkowski', 'p': 2}. Best is trial 16 with value: 0.7327586206896551.\n",
      "[I 2024-10-17 11:28:34,388] Trial 43 finished with value: 0.7068965517241379 and parameters: {'neighbors': 16, 'weights': 'distance', 'metric': 'minkowski', 'p': 2}. Best is trial 16 with value: 0.7327586206896551.\n",
      "[I 2024-10-17 11:28:34,394] Trial 44 finished with value: 0.6810344827586207 and parameters: {'neighbors': 38, 'weights': 'distance', 'metric': 'minkowski', 'p': 2}. Best is trial 16 with value: 0.7327586206896551.\n",
      "[I 2024-10-17 11:28:34,399] Trial 45 finished with value: 0.6982758620689655 and parameters: {'neighbors': 27, 'weights': 'distance', 'metric': 'minkowski', 'p': 1}. Best is trial 16 with value: 0.7327586206896551.\n",
      "[I 2024-10-17 11:28:34,404] Trial 46 finished with value: 0.7241379310344828 and parameters: {'neighbors': 21, 'weights': 'distance', 'metric': 'minkowski', 'p': 2}. Best is trial 16 with value: 0.7327586206896551.\n",
      "[I 2024-10-17 11:28:34,409] Trial 47 finished with value: 0.6293103448275862 and parameters: {'neighbors': 2, 'weights': 'distance', 'metric': 'minkowski', 'p': 3}. Best is trial 16 with value: 0.7327586206896551.\n",
      "[I 2024-10-17 11:28:34,414] Trial 48 finished with value: 0.7068965517241379 and parameters: {'neighbors': 19, 'weights': 'distance', 'metric': 'minkowski', 'p': 4}. Best is trial 16 with value: 0.7327586206896551.\n",
      "[I 2024-10-17 11:28:34,419] Trial 49 finished with value: 0.603448275862069 and parameters: {'neighbors': 9, 'weights': 'uniform', 'metric': 'cosine'}. Best is trial 16 with value: 0.7327586206896551.\n",
      "[I 2024-10-17 11:28:34,424] Trial 50 finished with value: 0.7241379310344828 and parameters: {'neighbors': 21, 'weights': 'distance', 'metric': 'minkowski', 'p': 2}. Best is trial 16 with value: 0.7327586206896551.\n",
      "[I 2024-10-17 11:28:34,429] Trial 51 finished with value: 0.7068965517241379 and parameters: {'neighbors': 23, 'weights': 'distance', 'metric': 'minkowski', 'p': 2}. Best is trial 16 with value: 0.7327586206896551.\n",
      "[I 2024-10-17 11:28:34,434] Trial 52 finished with value: 0.7155172413793104 and parameters: {'neighbors': 28, 'weights': 'distance', 'metric': 'minkowski', 'p': 2}. Best is trial 16 with value: 0.7327586206896551.\n",
      "[I 2024-10-17 11:28:34,438] Trial 53 finished with value: 0.6982758620689655 and parameters: {'neighbors': 21, 'weights': 'distance', 'metric': 'minkowski', 'p': 1}. Best is trial 16 with value: 0.7327586206896551.\n",
      "[I 2024-10-17 11:28:34,443] Trial 54 finished with value: 0.6810344827586207 and parameters: {'neighbors': 39, 'weights': 'distance', 'metric': 'minkowski', 'p': 2}. Best is trial 16 with value: 0.7327586206896551.\n",
      "[I 2024-10-17 11:28:34,449] Trial 55 finished with value: 0.6982758620689655 and parameters: {'neighbors': 31, 'weights': 'distance', 'metric': 'minkowski', 'p': 3}. Best is trial 16 with value: 0.7327586206896551.\n",
      "[I 2024-10-17 11:28:34,454] Trial 56 finished with value: 0.7155172413793104 and parameters: {'neighbors': 17, 'weights': 'distance', 'metric': 'minkowski', 'p': 2}. Best is trial 16 with value: 0.7327586206896551.\n",
      "[I 2024-10-17 11:28:34,459] Trial 57 finished with value: 0.6896551724137931 and parameters: {'neighbors': 22, 'weights': 'distance', 'metric': 'minkowski', 'p': 1}. Best is trial 16 with value: 0.7327586206896551.\n",
      "[I 2024-10-17 11:28:34,464] Trial 58 finished with value: 0.6982758620689655 and parameters: {'neighbors': 13, 'weights': 'distance', 'metric': 'minkowski', 'p': 4}. Best is trial 16 with value: 0.7327586206896551.\n",
      "[I 2024-10-17 11:28:34,470] Trial 59 finished with value: 0.6896551724137931 and parameters: {'neighbors': 37, 'weights': 'distance', 'metric': 'minkowski', 'p': 3}. Best is trial 16 with value: 0.7327586206896551.\n",
      "[I 2024-10-17 11:28:34,476] Trial 60 finished with value: 0.6810344827586207 and parameters: {'neighbors': 50, 'weights': 'distance', 'metric': 'minkowski', 'p': 4}. Best is trial 16 with value: 0.7327586206896551.\n",
      "[I 2024-10-17 11:28:34,481] Trial 61 finished with value: 0.7068965517241379 and parameters: {'neighbors': 14, 'weights': 'distance', 'metric': 'minkowski', 'p': 2}. Best is trial 16 with value: 0.7327586206896551.\n",
      "[I 2024-10-17 11:28:34,487] Trial 62 finished with value: 0.7068965517241379 and parameters: {'neighbors': 16, 'weights': 'distance', 'metric': 'minkowski', 'p': 2}. Best is trial 16 with value: 0.7327586206896551.\n",
      "[I 2024-10-17 11:28:34,491] Trial 63 finished with value: 0.6724137931034483 and parameters: {'neighbors': 10, 'weights': 'distance', 'metric': 'minkowski', 'p': 2}. Best is trial 16 with value: 0.7327586206896551.\n",
      "[I 2024-10-17 11:28:34,497] Trial 64 finished with value: 0.6896551724137931 and parameters: {'neighbors': 29, 'weights': 'distance', 'metric': 'minkowski', 'p': 2}. Best is trial 16 with value: 0.7327586206896551.\n",
      "[I 2024-10-17 11:28:34,502] Trial 65 finished with value: 0.7241379310344828 and parameters: {'neighbors': 21, 'weights': 'distance', 'metric': 'minkowski', 'p': 4}. Best is trial 16 with value: 0.7327586206896551.\n",
      "[I 2024-10-17 11:28:34,509] Trial 66 finished with value: 0.6551724137931034 and parameters: {'neighbors': 21, 'weights': 'uniform', 'metric': 'minkowski', 'p': 4}. Best is trial 16 with value: 0.7327586206896551.\n",
      "[I 2024-10-17 11:28:34,513] Trial 67 finished with value: 0.6896551724137931 and parameters: {'neighbors': 18, 'weights': 'distance', 'metric': 'cosine'}. Best is trial 16 with value: 0.7327586206896551.\n",
      "[I 2024-10-17 11:28:34,518] Trial 68 finished with value: 0.6379310344827587 and parameters: {'neighbors': 4, 'weights': 'distance', 'metric': 'minkowski', 'p': 4}. Best is trial 16 with value: 0.7327586206896551.\n",
      "[I 2024-10-17 11:28:34,525] Trial 69 finished with value: 0.6637931034482759 and parameters: {'neighbors': 44, 'weights': 'distance', 'metric': 'minkowski', 'p': 4}. Best is trial 16 with value: 0.7327586206896551.\n",
      "[I 2024-10-17 11:28:34,531] Trial 70 finished with value: 0.7068965517241379 and parameters: {'neighbors': 34, 'weights': 'distance', 'metric': 'minkowski', 'p': 4}. Best is trial 16 with value: 0.7327586206896551.\n",
      "[I 2024-10-17 11:28:34,537] Trial 71 finished with value: 0.7413793103448276 and parameters: {'neighbors': 25, 'weights': 'distance', 'metric': 'minkowski', 'p': 4}. Best is trial 71 with value: 0.7413793103448276.\n",
      "[I 2024-10-17 11:28:34,543] Trial 72 finished with value: 0.7413793103448276 and parameters: {'neighbors': 25, 'weights': 'distance', 'metric': 'minkowski', 'p': 4}. Best is trial 71 with value: 0.7413793103448276.\n",
      "[I 2024-10-17 11:28:34,549] Trial 73 finished with value: 0.7413793103448276 and parameters: {'neighbors': 25, 'weights': 'distance', 'metric': 'minkowski', 'p': 4}. Best is trial 71 with value: 0.7413793103448276.\n",
      "[I 2024-10-17 11:28:34,555] Trial 74 finished with value: 0.7413793103448276 and parameters: {'neighbors': 25, 'weights': 'distance', 'metric': 'minkowski', 'p': 4}. Best is trial 71 with value: 0.7413793103448276.\n",
      "[I 2024-10-17 11:28:34,561] Trial 75 finished with value: 0.7155172413793104 and parameters: {'neighbors': 26, 'weights': 'distance', 'metric': 'minkowski', 'p': 4}. Best is trial 71 with value: 0.7413793103448276.\n",
      "[I 2024-10-17 11:28:34,567] Trial 76 finished with value: 0.7327586206896551 and parameters: {'neighbors': 24, 'weights': 'distance', 'metric': 'minkowski', 'p': 4}. Best is trial 71 with value: 0.7413793103448276.\n",
      "[I 2024-10-17 11:28:34,572] Trial 77 finished with value: 0.7068965517241379 and parameters: {'neighbors': 34, 'weights': 'distance', 'metric': 'minkowski', 'p': 4}. Best is trial 71 with value: 0.7413793103448276.\n",
      "[I 2024-10-17 11:28:34,578] Trial 78 finished with value: 0.7413793103448276 and parameters: {'neighbors': 25, 'weights': 'distance', 'metric': 'minkowski', 'p': 4}. Best is trial 71 with value: 0.7413793103448276.\n",
      "[I 2024-10-17 11:28:34,582] Trial 79 finished with value: 0.7327586206896551 and parameters: {'neighbors': 32, 'weights': 'distance', 'metric': 'cosine'}. Best is trial 71 with value: 0.7413793103448276.\n",
      "[I 2024-10-17 11:28:34,587] Trial 80 finished with value: 0.6293103448275862 and parameters: {'neighbors': 43, 'weights': 'uniform', 'metric': 'cosine'}. Best is trial 71 with value: 0.7413793103448276.\n",
      "[I 2024-10-17 11:28:34,592] Trial 81 finished with value: 0.7241379310344828 and parameters: {'neighbors': 30, 'weights': 'distance', 'metric': 'cosine'}. Best is trial 71 with value: 0.7413793103448276.\n",
      "[I 2024-10-17 11:28:34,595] Trial 82 finished with value: 0.7155172413793104 and parameters: {'neighbors': 25, 'weights': 'distance', 'metric': 'cosine'}. Best is trial 71 with value: 0.7413793103448276.\n",
      "[I 2024-10-17 11:28:34,599] Trial 83 finished with value: 0.7241379310344828 and parameters: {'neighbors': 27, 'weights': 'distance', 'metric': 'cosine'}. Best is trial 71 with value: 0.7413793103448276.\n",
      "[I 2024-10-17 11:28:34,603] Trial 84 finished with value: 0.7155172413793104 and parameters: {'neighbors': 24, 'weights': 'distance', 'metric': 'cosine'}. Best is trial 71 with value: 0.7413793103448276.\n",
      "[I 2024-10-17 11:28:34,609] Trial 85 finished with value: 0.6982758620689655 and parameters: {'neighbors': 35, 'weights': 'distance', 'metric': 'minkowski', 'p': 4}. Best is trial 71 with value: 0.7413793103448276.\n",
      "[I 2024-10-17 11:28:34,615] Trial 86 finished with value: 0.7068965517241379 and parameters: {'neighbors': 31, 'weights': 'distance', 'metric': 'minkowski', 'p': 4}. Best is trial 71 with value: 0.7413793103448276.\n",
      "[I 2024-10-17 11:28:34,619] Trial 87 finished with value: 0.6896551724137931 and parameters: {'neighbors': 18, 'weights': 'distance', 'metric': 'cosine'}. Best is trial 71 with value: 0.7413793103448276.\n",
      "[I 2024-10-17 11:28:34,624] Trial 88 finished with value: 0.7241379310344828 and parameters: {'neighbors': 23, 'weights': 'distance', 'metric': 'minkowski', 'p': 4}. Best is trial 71 with value: 0.7413793103448276.\n",
      "[I 2024-10-17 11:28:34,629] Trial 89 finished with value: 0.6293103448275862 and parameters: {'neighbors': 2, 'weights': 'distance', 'metric': 'minkowski', 'p': 4}. Best is trial 71 with value: 0.7413793103448276.\n",
      "[I 2024-10-17 11:28:34,635] Trial 90 finished with value: 0.7155172413793104 and parameters: {'neighbors': 28, 'weights': 'distance', 'metric': 'minkowski', 'p': 4}. Best is trial 71 with value: 0.7413793103448276.\n",
      "[I 2024-10-17 11:28:34,640] Trial 91 finished with value: 0.7155172413793104 and parameters: {'neighbors': 20, 'weights': 'distance', 'metric': 'minkowski', 'p': 4}. Best is trial 71 with value: 0.7413793103448276.\n",
      "[I 2024-10-17 11:28:34,646] Trial 92 finished with value: 0.7327586206896551 and parameters: {'neighbors': 24, 'weights': 'distance', 'metric': 'minkowski', 'p': 4}. Best is trial 71 with value: 0.7413793103448276.\n",
      "[I 2024-10-17 11:28:34,651] Trial 93 finished with value: 0.7413793103448276 and parameters: {'neighbors': 25, 'weights': 'distance', 'metric': 'minkowski', 'p': 4}. Best is trial 71 with value: 0.7413793103448276.\n",
      "[I 2024-10-17 11:28:34,657] Trial 94 finished with value: 0.6724137931034483 and parameters: {'neighbors': 41, 'weights': 'distance', 'metric': 'minkowski', 'p': 4}. Best is trial 71 with value: 0.7413793103448276.\n",
      "[I 2024-10-17 11:28:34,663] Trial 95 finished with value: 0.7413793103448276 and parameters: {'neighbors': 25, 'weights': 'distance', 'metric': 'minkowski', 'p': 4}. Best is trial 71 with value: 0.7413793103448276.\n",
      "[I 2024-10-17 11:28:34,668] Trial 96 finished with value: 0.7155172413793104 and parameters: {'neighbors': 32, 'weights': 'distance', 'metric': 'minkowski', 'p': 4}. Best is trial 71 with value: 0.7413793103448276.\n",
      "[I 2024-10-17 11:28:34,675] Trial 97 finished with value: 0.6206896551724138 and parameters: {'neighbors': 37, 'weights': 'uniform', 'metric': 'minkowski', 'p': 4}. Best is trial 71 with value: 0.7413793103448276.\n",
      "[I 2024-10-17 11:28:34,681] Trial 98 finished with value: 0.6982758620689655 and parameters: {'neighbors': 15, 'weights': 'distance', 'metric': 'minkowski', 'p': 4}. Best is trial 71 with value: 0.7413793103448276.\n",
      "[I 2024-10-17 11:28:34,686] Trial 99 finished with value: 0.7155172413793104 and parameters: {'neighbors': 26, 'weights': 'distance', 'metric': 'minkowski', 'p': 4}. Best is trial 71 with value: 0.7413793103448276.\n"
     ]
    },
    {
     "name": "stdout",
     "output_type": "stream",
     "text": [
      "{'neighbors': 25, 'weights': 'distance', 'metric': 'minkowski', 'p': 4}\n"
     ]
    }
   ],
   "source": [
    "from sklearn.neighbors import KNeighborsClassifier\n",
    "\n",
    "def sklearn_objective(trial):\n",
    "    neighbors = trial.suggest_int('neighbors', 1, 50, log=True)\n",
    "    weights = trial.suggest_categorical('weights', ['uniform', 'distance'])\n",
    "    metric = trial.suggest_categorical('metric', ['minkowski', 'cosine'])\n",
    "    p = 1\n",
    "    if metric == 'minkowski':\n",
    "        p = trial.suggest_int('p', 1, 4)\n",
    "    classifier = KNeighborsClassifier(neighbors, weights=weights, metric=metric, p=p, n_jobs=1)\n",
    "    classifier.fit(train_data, train_target)\n",
    "    return accuracy_score(valid_target, classifier.predict(valid_data))\n",
    "\n",
    "study = optuna.create_study(direction='maximize')\n",
    "study.optimize(sklearn_objective, n_trials=100)\n",
    "print(study.best_params)"
   ]
  },
  {
   "cell_type": "markdown",
   "id": "e0d3ad26ef4a9e60",
   "metadata": {
    "collapsed": false,
    "jupyter": {
     "outputs_hidden": false
    }
   },
   "source": [
    "# Зависимость функции качества от числа соседей"
   ]
  },
  {
   "cell_type": "code",
   "execution_count": 7,
   "id": "193996a06926889d",
   "metadata": {
    "ExecuteTime": {
     "end_time": "2024-02-27T13:49:59.227431500Z",
     "start_time": "2024-02-27T13:26:10.424209Z"
    },
    "collapsed": false,
    "jupyter": {
     "outputs_hidden": false
    }
   },
   "outputs": [],
   "source": [
    "neighbors_range = range(1, 51)\n",
    "size = len(neighbors_range)\n",
    "\n",
    "my_train_accuracy = [0.0] * size\n",
    "my_test_accuracy = [0.0] * size\n",
    "classifier = KnnClassifier(1, window_type='unfixed', kernel='gaussian', metric='minkowski', p=1)\n",
    "classifier.fit(X_train, y_train)\n",
    "for neighbors in neighbors_range:\n",
    "    classifier.neighbors_number = neighbors\n",
    "    my_train_accuracy[neighbors - 1] = accuracy_score(y_train, classifier.predict(X_train))\n",
    "    my_test_accuracy[neighbors - 1] = accuracy_score(y_test, classifier.predict(X_test))\n",
    "    \n",
    "sklearn_train_accuracy = [0.0] * size\n",
    "sklearn_test_accuracy = [0.0] * size\n",
    "for neighbors in neighbors_range:\n",
    "    classifier = KNeighborsClassifier(neighbors, weights='distance', metric='minkowski', p=1, n_jobs=1)\n",
    "    classifier.fit(X_train, y_train)\n",
    "    sklearn_train_accuracy[neighbors - 1] = accuracy_score(y_train, classifier.predict(X_train))\n",
    "    sklearn_test_accuracy[neighbors - 1] = accuracy_score(y_test, classifier.predict(X_test))"
   ]
  },
  {
   "cell_type": "code",
   "execution_count": 8,
   "id": "dd1e01636f026e4",
   "metadata": {
    "ExecuteTime": {
     "end_time": "2024-02-27T13:53:29.427450200Z",
     "start_time": "2024-02-27T13:53:28.917645100Z"
    },
    "collapsed": false,
    "jupyter": {
     "outputs_hidden": false
    }
   },
   "outputs": [
    {
     "data": {
      "text/plain": [
       "<matplotlib.legend.Legend at 0x118f35cd0>"
      ]
     },
     "execution_count": 8,
     "metadata": {},
     "output_type": "execute_result"
    },
    {
     "data": {
      "image/png": "[encoded data removed]",
      "text/plain": [
       "<Figure size 1200x500 with 2 Axes>"
      ]
     },
     "metadata": {},
     "output_type": "display_data"
    }
   ],
   "source": [
    "import matplotlib.pyplot as plt\n",
    "\n",
    "fig, ax = plt.subplots(1, 2, figsize=(12, 5))\n",
    "fig.suptitle('Accuracy dependency on the neighbors number')\n",
    "ax[0].set_title('My implementation')\n",
    "ax[0].set_xlabel('Neighbors number')\n",
    "ax[0].set_ylabel('Accuracy')\n",
    "ax[0].plot(neighbors_range, my_train_accuracy, label='train')\n",
    "ax[0].plot(neighbors_range, my_test_accuracy, label='test')\n",
    "ax[0].legend()\n",
    "\n",
    "ax[1].set_title('Sklearn implementation')\n",
    "ax[1].set_xlabel('Neighbors number')\n",
    "ax[1].set_ylabel('Accuracy')\n",
    "ax[1].plot(neighbors_range, sklearn_train_accuracy, label='train')\n",
    "ax[1].plot(neighbors_range, sklearn_test_accuracy, label='test')\n",
    "ax[1].legend()"
   ]
  },
  {
   "cell_type": "markdown",
   "id": "8027a39147c28571",
   "metadata": {
    "collapsed": false,
    "jupyter": {
     "outputs_hidden": false
    }
   },
   "source": [
    "# Взвешивание объектов методом LOWESS"
   ]
  },
  {
   "cell_type": "code",
   "execution_count": 12,
   "id": "cd64d1fdfd0b2dae",
   "metadata": {
    "ExecuteTime": {
     "end_time": "2024-03-03T13:42:55.219877400Z",
     "start_time": "2024-03-03T13:42:11.248341200Z"
    },
    "collapsed": false,
    "jupyter": {
     "outputs_hidden": false
    }
   },
   "outputs": [],
   "source": [
    "from lowess import Lowess\n",
    "from knn import KnnClassifier\n",
    "from sklearn.metrics import accuracy_score\n",
    "# {'neighbors': 7, 'window': 'unfixed', 'kernel': 'common', 'metric': 'minkowski', 'a': 3, 'b': 3, 'p': 3}\n",
    "lowess = Lowess(7, knn_kernel='common', lowess_kernel='common', metric='minkowski', p=3,knn_a=3, knn_b=3, lowess_a=3, lowess_b=3)\n",
    "weights = lowess.get_weights(X_train, y_train)"
   ]
  },
  {
   "cell_type": "markdown",
   "id": "fe7fc440e336eaed",
   "metadata": {
    "collapsed": false,
    "jupyter": {
     "outputs_hidden": false
    }
   },
   "source": [
    "## Для собственной реализации"
   ]
  },
  {
   "cell_type": "code",
   "execution_count": 13,
   "id": "6ed09ff0dc98f276",
   "metadata": {
    "ExecuteTime": {
     "end_time": "2024-02-29T12:26:03.911434600Z",
     "start_time": "2024-02-29T12:25:54.328369200Z"
    },
    "collapsed": false,
    "jupyter": {
     "outputs_hidden": false
    }
   },
   "outputs": [
    {
     "name": "stdout",
     "output_type": "stream",
     "text": [
      "До взвешивания:  0.6068965517241379\n",
      "После взвешивания:  0.6206896551724138\n"
     ]
    }
   ],
   "source": [
    "classifier = KnnClassifier(12, window_type='unfixed', kernel='gaussian', metric='minkowski', p=1)\n",
    "\n",
    "classifier.fit(X_train, y_train)\n",
    "print('До взвешивания: ', accuracy_score(y_test, classifier.predict(X_test)))\n",
    "\n",
    "classifier.fit(X_train, y_train, weights)\n",
    "print('После взвешивания: ', accuracy_score(y_test, classifier.predict(X_test)))"
   ]
  },
  {
   "cell_type": "markdown",
   "id": "45f48dfb67e14d11",
   "metadata": {
    "collapsed": false,
    "jupyter": {
     "outputs_hidden": false
    }
   },
   "source": [
    "## Для реализации sklearn"
   ]
  },
  {
   "cell_type": "code",
   "execution_count": 14,
   "id": "3cee8b4bfa5bee85",
   "metadata": {
    "ExecuteTime": {
     "end_time": "2024-03-03T20:46:14.993594300Z",
     "start_time": "2024-03-03T20:46:07.676833700Z"
    },
    "collapsed": false,
    "jupyter": {
     "outputs_hidden": false
    }
   },
   "outputs": [
    {
     "name": "stdout",
     "output_type": "stream",
     "text": [
      "До взвешивания:  0.6896551724137931\n",
      "После взвешивания:  0.6620689655172414\n"
     ]
    }
   ],
   "source": [
    "from sklearn.neighbors import KNeighborsClassifier\n",
    "from sklearn.metrics import accuracy_score\n",
    "\n",
    "oversampled_X_train = X_train.sample(frac=10, replace=True, weights=weights, random_state=42)\n",
    "oversampled_y_train = y_train.sample(frac=10, replace=True, weights=weights, random_state=42)\n",
    "classifier = KNeighborsClassifier(18, weights='distance', metric='minkowski', p=1, n_jobs=1)\n",
    "classifier.fit(X_train, y_train)\n",
    "print('До взвешивания: ', accuracy_score(y_test, classifier.predict(X_test)))\n",
    "\n",
    "classifier = KNeighborsClassifier(180, weights='distance', metric='minkowski', p=1, n_jobs=1)\n",
    "classifier.fit(oversampled_X_train, oversampled_y_train)\n",
    "print('После взвешивания: ', accuracy_score(y_test, classifier.predict(X_test)))"
   ]
  },
  {
   "cell_type": "code",
   "execution_count": null,
   "id": "6287a08fdcf2c42c",
   "metadata": {
    "collapsed": false,
    "jupyter": {
     "outputs_hidden": false
    }
   },
   "outputs": [],
   "source": []
  }
 ],
 "metadata": {
  "kernelspec": {
   "display_name": "Python 3 (ipykernel)",
   "language": "python",
   "name": "python3"
  },
  "language_info": {
   "codemirror_mode": {
    "name": "ipython",
    "version": 3
   },
   "file_extension": ".py",
   "mimetype": "text/x-python",
   "name": "python",
   "nbconvert_exporter": "python",
   "pygments_lexer": "ipython3",
   "version": "3.12.3"
  }
 },
 "nbformat": 4,
 "nbformat_minor": 5
}
