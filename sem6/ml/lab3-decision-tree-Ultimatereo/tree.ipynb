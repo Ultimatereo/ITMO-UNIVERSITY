{
 "cells": [
  {
   "cell_type": "code",
   "id": "becdb74f-4797-48f1-bf54-741b13538d39",
   "metadata": {
    "ExecuteTime": {
     "end_time": "2024-10-20T18:12:17.632266Z",
     "start_time": "2024-10-20T18:12:16.238206Z"
    }
   },
   "source": [
    "import pandas as pd\n",
    "from sklearn.metrics import r2_score\n",
    "import matplotlib.pyplot as plt\n",
    "\n",
    "\n",
    "def add_next_part(df, next_part):\n",
    "    return pd.concat([df, next_part], ignore_index=True)\n",
    "\n",
    "def replace_commas_and_convert_to_float(value):\n",
    "    return float(value.replace(',', '.'))\n",
    "\n",
    "feature = 'Отделка'\n",
    "\n",
    "flats_df = pd.read_excel('../cian_spb.xlsx')\n",
    "flats_df = flats_df.loc[:, [feature, \"Общая площадь\", \"Жилая площадь\", \"Площадь кухни\", \"Стоимость\"]]\n",
    "flats_df.dropna(inplace=True)\n",
    "numeric_columns = [\"Общая площадь\", \"Жилая площадь\", \"Площадь кухни\"]\n",
    "flats_df[numeric_columns] = flats_df[numeric_columns].map(replace_commas_and_convert_to_float)\n",
    "flats_df = flats_df.sample(frac=1)\n",
    "flats_df"
   ],
   "outputs": [
    {
     "data": {
      "text/plain": [
       "          Отделка  Общая площадь  Жилая площадь  Площадь кухни  Стоимость\n",
       "994      Чистовая          20.32            9.2            5.0    3495040\n",
       "141      Чистовая          35.50           11.8           11.3    6192993\n",
       "1344  Без отделки          34.39           10.0           14.6    5416425\n",
       "683      Чистовая          40.19           17.6           12.5   12044115\n",
       "58       Черновая          29.40           13.9            5.9    5890308\n",
       "...           ...            ...            ...            ...        ...\n",
       "662      Чистовая          34.51           11.5           14.3    5600000\n",
       "1098  Без отделки          30.42           11.4           11.2    4441320\n",
       "788   Без отделки          38.20           12.8           12.7   15986700\n",
       "123   Без отделки          27.20           17.2            5.0    6126981\n",
       "1258     Чистовая          21.54           11.1            3.0    5058496\n",
       "\n",
       "[770 rows x 5 columns]"
      ],
      "text/html": [
       "<div>\n",
       "<style scoped>\n",
       "    .dataframe tbody tr th:only-of-type {\n",
       "        vertical-align: middle;\n",
       "    }\n",
       "\n",
       "    .dataframe tbody tr th {\n",
       "        vertical-align: top;\n",
       "    }\n",
       "\n",
       "    .dataframe thead th {\n",
       "        text-align: right;\n",
       "    }\n",
       "</style>\n",
       "<table border=\"1\" class=\"dataframe\">\n",
       "  <thead>\n",
       "    <tr style=\"text-align: right;\">\n",
       "      <th></th>\n",
       "      <th>Отделка</th>\n",
       "      <th>Общая площадь</th>\n",
       "      <th>Жилая площадь</th>\n",
       "      <th>Площадь кухни</th>\n",
       "      <th>Стоимость</th>\n",
       "    </tr>\n",
       "  </thead>\n",
       "  <tbody>\n",
       "    <tr>\n",
       "      <th>994</th>\n",
       "      <td>Чистовая</td>\n",
       "      <td>20.32</td>\n",
       "      <td>9.2</td>\n",
       "      <td>5.0</td>\n",
       "      <td>3495040</td>\n",
       "    </tr>\n",
       "    <tr>\n",
       "      <th>141</th>\n",
       "      <td>Чистовая</td>\n",
       "      <td>35.50</td>\n",
       "      <td>11.8</td>\n",
       "      <td>11.3</td>\n",
       "      <td>6192993</td>\n",
       "    </tr>\n",
       "    <tr>\n",
       "      <th>1344</th>\n",
       "      <td>Без отделки</td>\n",
       "      <td>34.39</td>\n",
       "      <td>10.0</td>\n",
       "      <td>14.6</td>\n",
       "      <td>5416425</td>\n",
       "    </tr>\n",
       "    <tr>\n",
       "      <th>683</th>\n",
       "      <td>Чистовая</td>\n",
       "      <td>40.19</td>\n",
       "      <td>17.6</td>\n",
       "      <td>12.5</td>\n",
       "      <td>12044115</td>\n",
       "    </tr>\n",
       "    <tr>\n",
       "      <th>58</th>\n",
       "      <td>Черновая</td>\n",
       "      <td>29.40</td>\n",
       "      <td>13.9</td>\n",
       "      <td>5.9</td>\n",
       "      <td>5890308</td>\n",
       "    </tr>\n",
       "    <tr>\n",
       "      <th>...</th>\n",
       "      <td>...</td>\n",
       "      <td>...</td>\n",
       "      <td>...</td>\n",
       "      <td>...</td>\n",
       "      <td>...</td>\n",
       "    </tr>\n",
       "    <tr>\n",
       "      <th>662</th>\n",
       "      <td>Чистовая</td>\n",
       "      <td>34.51</td>\n",
       "      <td>11.5</td>\n",
       "      <td>14.3</td>\n",
       "      <td>5600000</td>\n",
       "    </tr>\n",
       "    <tr>\n",
       "      <th>1098</th>\n",
       "      <td>Без отделки</td>\n",
       "      <td>30.42</td>\n",
       "      <td>11.4</td>\n",
       "      <td>11.2</td>\n",
       "      <td>4441320</td>\n",
       "    </tr>\n",
       "    <tr>\n",
       "      <th>788</th>\n",
       "      <td>Без отделки</td>\n",
       "      <td>38.20</td>\n",
       "      <td>12.8</td>\n",
       "      <td>12.7</td>\n",
       "      <td>15986700</td>\n",
       "    </tr>\n",
       "    <tr>\n",
       "      <th>123</th>\n",
       "      <td>Без отделки</td>\n",
       "      <td>27.20</td>\n",
       "      <td>17.2</td>\n",
       "      <td>5.0</td>\n",
       "      <td>6126981</td>\n",
       "    </tr>\n",
       "    <tr>\n",
       "      <th>1258</th>\n",
       "      <td>Чистовая</td>\n",
       "      <td>21.54</td>\n",
       "      <td>11.1</td>\n",
       "      <td>3.0</td>\n",
       "      <td>5058496</td>\n",
       "    </tr>\n",
       "  </tbody>\n",
       "</table>\n",
       "<p>770 rows × 5 columns</p>\n",
       "</div>"
      ]
     },
     "execution_count": 1,
     "metadata": {},
     "output_type": "execute_result"
    }
   ],
   "execution_count": 1
  },
  {
   "cell_type": "code",
   "execution_count": 2,
   "id": "initial_id",
   "metadata": {
    "ExecuteTime": {
     "end_time": "2024-10-17T09:05:00.836847Z",
     "start_time": "2024-10-17T09:04:59.568831Z"
    }
   },
   "outputs": [
    {
     "data": {
      "text/html": [
       "<div>\n",
       "<style scoped>\n",
       "    .dataframe tbody tr th:only-of-type {\n",
       "        vertical-align: middle;\n",
       "    }\n",
       "\n",
       "    .dataframe tbody tr th {\n",
       "        vertical-align: top;\n",
       "    }\n",
       "\n",
       "    .dataframe thead th {\n",
       "        text-align: right;\n",
       "    }\n",
       "</style>\n",
       "<table border=\"1\" class=\"dataframe\">\n",
       "  <thead>\n",
       "    <tr style=\"text-align: right;\">\n",
       "      <th></th>\n",
       "      <th>Отделка</th>\n",
       "      <th>Общая площадь</th>\n",
       "      <th>Жилая площадь</th>\n",
       "      <th>Площадь кухни</th>\n",
       "      <th>Стоимость</th>\n",
       "    </tr>\n",
       "  </thead>\n",
       "  <tbody>\n",
       "    <tr>\n",
       "      <th>438</th>\n",
       "      <td>Чистовая</td>\n",
       "      <td>37.5</td>\n",
       "      <td>16.9</td>\n",
       "      <td>9.4</td>\n",
       "      <td>7049954</td>\n",
       "    </tr>\n",
       "    <tr>\n",
       "      <th>841</th>\n",
       "      <td>Без отделки</td>\n",
       "      <td>56.4</td>\n",
       "      <td>14.0</td>\n",
       "      <td>21.3</td>\n",
       "      <td>21000000</td>\n",
       "    </tr>\n",
       "    <tr>\n",
       "      <th>432</th>\n",
       "      <td>Чистовая</td>\n",
       "      <td>35.9</td>\n",
       "      <td>14.4</td>\n",
       "      <td>10.7</td>\n",
       "      <td>7004430</td>\n",
       "    </tr>\n",
       "    <tr>\n",
       "      <th>984</th>\n",
       "      <td>Чистовая</td>\n",
       "      <td>24.6</td>\n",
       "      <td>11.9</td>\n",
       "      <td>5.0</td>\n",
       "      <td>3431700</td>\n",
       "    </tr>\n",
       "    <tr>\n",
       "      <th>175</th>\n",
       "      <td>Черновая</td>\n",
       "      <td>39.8</td>\n",
       "      <td>15.1</td>\n",
       "      <td>14.6</td>\n",
       "      <td>6265503</td>\n",
       "    </tr>\n",
       "    <tr>\n",
       "      <th>...</th>\n",
       "      <td>...</td>\n",
       "      <td>...</td>\n",
       "      <td>...</td>\n",
       "      <td>...</td>\n",
       "      <td>...</td>\n",
       "    </tr>\n",
       "    <tr>\n",
       "      <th>989</th>\n",
       "      <td>Чистовая</td>\n",
       "      <td>21.1</td>\n",
       "      <td>9.9</td>\n",
       "      <td>5.4</td>\n",
       "      <td>3441410</td>\n",
       "    </tr>\n",
       "    <tr>\n",
       "      <th>684</th>\n",
       "      <td>Чистовая</td>\n",
       "      <td>26.9</td>\n",
       "      <td>14.5</td>\n",
       "      <td>4.0</td>\n",
       "      <td>7700000</td>\n",
       "    </tr>\n",
       "    <tr>\n",
       "      <th>630</th>\n",
       "      <td>Черновая</td>\n",
       "      <td>45.6</td>\n",
       "      <td>20.7</td>\n",
       "      <td>12.1</td>\n",
       "      <td>14850324</td>\n",
       "    </tr>\n",
       "    <tr>\n",
       "      <th>64</th>\n",
       "      <td>С отделкой</td>\n",
       "      <td>21.9</td>\n",
       "      <td>10.0</td>\n",
       "      <td>5.3</td>\n",
       "      <td>5899860</td>\n",
       "    </tr>\n",
       "    <tr>\n",
       "      <th>799</th>\n",
       "      <td>С отделкой</td>\n",
       "      <td>72.1</td>\n",
       "      <td>37.4</td>\n",
       "      <td>18.6</td>\n",
       "      <td>16691150</td>\n",
       "    </tr>\n",
       "  </tbody>\n",
       "</table>\n",
       "<p>770 rows × 5 columns</p>\n",
       "</div>"
      ],
      "text/plain": [
       "         Отделка  Общая площадь  Жилая площадь  Площадь кухни  Стоимость\n",
       "438     Чистовая           37.5           16.9            9.4    7049954\n",
       "841  Без отделки           56.4           14.0           21.3   21000000\n",
       "432     Чистовая           35.9           14.4           10.7    7004430\n",
       "984     Чистовая           24.6           11.9            5.0    3431700\n",
       "175     Черновая           39.8           15.1           14.6    6265503\n",
       "..           ...            ...            ...            ...        ...\n",
       "989     Чистовая           21.1            9.9            5.4    3441410\n",
       "684     Чистовая           26.9           14.5            4.0    7700000\n",
       "630     Черновая           45.6           20.7           12.1   14850324\n",
       "64    С отделкой           21.9           10.0            5.3    5899860\n",
       "799   С отделкой           72.1           37.4           18.6   16691150\n",
       "\n",
       "[770 rows x 5 columns]"
      ]
     },
     "execution_count": 2,
     "metadata": {},
     "output_type": "execute_result"
    }
   ],
   "source": [
    "import numpy as np\n",
    "\n",
    "df = flats_df\n",
    "df"
   ]
  },
  {
   "cell_type": "code",
   "execution_count": 3,
   "id": "a758c3d89a5ec792",
   "metadata": {
    "ExecuteTime": {
     "end_time": "2024-06-05T14:17:18.946704Z",
     "start_time": "2024-06-05T14:17:18.919361Z"
    }
   },
   "outputs": [
    {
     "data": {
      "text/plain": [
       "array(['Без отделки', 'Чистовая', 'Без отделки', 'Предчистовая',\n",
       "       'Предчистовая', 'Черновая', 'Чистовая', 'Чистовая', 'Без отделки',\n",
       "       'Без отделки', 'Чистовая', 'Без отделки', 'Чистовая', 'Чистовая',\n",
       "       'Чистовая', 'Чистовая', 'Неизвестно', 'Без отделки', 'Черновая',\n",
       "       'Чистовая', 'Черновая', 'Чистовая', 'Без отделки', 'Чистовая',\n",
       "       'Чистовая', 'Чистовая', 'Чистовая', 'Чистовая', 'Без отделки',\n",
       "       'Чистовая', 'Без отделки', 'Чистовая', 'Неизвестно', 'Чистовая',\n",
       "       'Чистовая', 'Чистовая', 'Без отделки', 'Черновая', 'Чистовая',\n",
       "       'Чистовая', 'Черновая', 'Чистовая', 'Без отделки', 'Чистовая',\n",
       "       'Чистовая', 'Чистовая', 'Неизвестно', 'Чистовая', 'Без отделки',\n",
       "       'Чистовая', 'Чистовая', 'Чистовая', 'Черновая', 'Чистовая',\n",
       "       'Чистовая', 'Чистовая', 'Без отделки', 'Чистовая', 'Чистовая',\n",
       "       'Чистовая', 'С отделкой', 'Без отделки', 'Чистовая',\n",
       "       'Предчистовая', 'Чистовая', 'Без отделки', 'Чистовая',\n",
       "       'С отделкой', 'Черновая', 'Чистовая', 'Без отделки', 'Чистовая',\n",
       "       'Черновая', 'Предчистовая', 'Чистовая', 'Чистовая', 'Чистовая',\n",
       "       'Черновая', 'Черновая', 'Без отделки', 'Чистовая', 'Черновая',\n",
       "       'Чистовая', 'Чистовая', 'Чистовая', 'Чистовая', 'Без отделки',\n",
       "       'Чистовая', 'Чистовая', 'Чистовая', 'Без отделки', 'Чистовая',\n",
       "       'Чистовая', 'Чистовая', 'Без отделки', 'С отделкой', 'Чистовая',\n",
       "       'Чистовая', 'Без отделки', 'Чистовая', 'Чистовая', 'С отделкой',\n",
       "       'Чистовая', 'Чистовая', 'Без отделки', 'С отделкой', 'Чистовая',\n",
       "       'Без отделки', 'Чистовая', 'Черновая', 'Чистовая', 'Чистовая',\n",
       "       'Чистовая', 'Чистовая', 'С отделкой', 'Чистовая', 'Чистовая',\n",
       "       'Без отделки', 'Чистовая', 'Без отделки', 'С отделкой', 'Черновая',\n",
       "       'Без отделки', 'Чистовая'], dtype=object)"
      ]
     },
     "execution_count": 3,
     "metadata": {},
     "output_type": "execute_result"
    }
   ],
   "source": [
    "from sklearn.preprocessing import StandardScaler\n",
    "from sklearn.model_selection import train_test_split\n",
    "scaler = StandardScaler()\n",
    "X = scaler.fit_transform(df.drop(columns=[feature]))\n",
    "y = df[feature]\n",
    "\n",
    "\n",
    "X_train, X_test, y_train, y_test = train_test_split(X, y.to_numpy(), test_size=0.2)\n",
    "X_train, X_valid, y_train, y_valid = train_test_split(X_train, y_train, test_size=0.2)\n",
    "y_valid"
   ]
  },
  {
   "cell_type": "code",
   "execution_count": 4,
   "id": "771d9f80b9789f50",
   "metadata": {
    "ExecuteTime": {
     "end_time": "2024-06-05T14:37:17.698925Z",
     "start_time": "2024-06-05T14:37:17.685921Z"
    }
   },
   "outputs": [
    {
     "data": {
      "text/plain": [
       "array([ 1, -1,  1, -1, -1, -1, -1, -1,  1,  1, -1,  1, -1, -1, -1, -1, -1,\n",
       "        1, -1, -1, -1, -1,  1, -1, -1, -1, -1, -1,  1, -1,  1, -1, -1, -1,\n",
       "       -1, -1,  1, -1, -1, -1, -1, -1,  1, -1, -1, -1, -1, -1,  1, -1, -1,\n",
       "       -1, -1, -1, -1, -1,  1, -1, -1, -1, -1,  1, -1, -1, -1,  1, -1, -1,\n",
       "       -1, -1,  1, -1, -1, -1, -1, -1, -1, -1, -1,  1, -1, -1, -1, -1, -1,\n",
       "       -1,  1, -1, -1, -1,  1, -1, -1, -1,  1, -1, -1, -1,  1, -1, -1, -1,\n",
       "       -1, -1,  1, -1, -1,  1, -1, -1, -1, -1, -1, -1, -1, -1, -1,  1, -1,\n",
       "        1, -1, -1,  1, -1])"
      ]
     },
     "execution_count": 4,
     "metadata": {},
     "output_type": "execute_result"
    }
   ],
   "source": [
    "def transform_labels(y):\n",
    "    return np.where(y == 'Без отделки', 1, -1)\n",
    "y_bin_train = transform_labels(y_train)\n",
    "y_bin_valid = transform_labels(y_valid)\n",
    "y_bin_test = transform_labels(y_test)\n",
    "y_bin_valid"
   ]
  },
  {
   "cell_type": "code",
   "execution_count": 32,
   "id": "bec17650-ce4b-422d-9011-b3f0e42abe58",
   "metadata": {},
   "outputs": [
    {
     "data": {
      "text/html": [
       "<div>\n",
       "<style scoped>\n",
       "    .dataframe tbody tr th:only-of-type {\n",
       "        vertical-align: middle;\n",
       "    }\n",
       "\n",
       "    .dataframe tbody tr th {\n",
       "        vertical-align: top;\n",
       "    }\n",
       "\n",
       "    .dataframe thead th {\n",
       "        text-align: right;\n",
       "    }\n",
       "</style>\n",
       "<table border=\"1\" class=\"dataframe\">\n",
       "  <thead>\n",
       "    <tr style=\"text-align: right;\">\n",
       "      <th></th>\n",
       "      <th>Отделка</th>\n",
       "      <th>Общая площадь</th>\n",
       "      <th>Жилая площадь</th>\n",
       "      <th>Площадь кухни</th>\n",
       "      <th>Стоимость</th>\n",
       "    </tr>\n",
       "  </thead>\n",
       "  <tbody>\n",
       "    <tr>\n",
       "      <th>438</th>\n",
       "      <td>Чистовая</td>\n",
       "      <td>37.5</td>\n",
       "      <td>16.9</td>\n",
       "      <td>9.4</td>\n",
       "      <td>7049954</td>\n",
       "    </tr>\n",
       "    <tr>\n",
       "      <th>841</th>\n",
       "      <td>Без отделки</td>\n",
       "      <td>56.4</td>\n",
       "      <td>14.0</td>\n",
       "      <td>21.3</td>\n",
       "      <td>21000000</td>\n",
       "    </tr>\n",
       "    <tr>\n",
       "      <th>432</th>\n",
       "      <td>Чистовая</td>\n",
       "      <td>35.9</td>\n",
       "      <td>14.4</td>\n",
       "      <td>10.7</td>\n",
       "      <td>7004430</td>\n",
       "    </tr>\n",
       "    <tr>\n",
       "      <th>984</th>\n",
       "      <td>Чистовая</td>\n",
       "      <td>24.6</td>\n",
       "      <td>11.9</td>\n",
       "      <td>5.0</td>\n",
       "      <td>3431700</td>\n",
       "    </tr>\n",
       "    <tr>\n",
       "      <th>175</th>\n",
       "      <td>Черновая</td>\n",
       "      <td>39.8</td>\n",
       "      <td>15.1</td>\n",
       "      <td>14.6</td>\n",
       "      <td>6265503</td>\n",
       "    </tr>\n",
       "    <tr>\n",
       "      <th>...</th>\n",
       "      <td>...</td>\n",
       "      <td>...</td>\n",
       "      <td>...</td>\n",
       "      <td>...</td>\n",
       "      <td>...</td>\n",
       "    </tr>\n",
       "    <tr>\n",
       "      <th>989</th>\n",
       "      <td>Чистовая</td>\n",
       "      <td>21.1</td>\n",
       "      <td>9.9</td>\n",
       "      <td>5.4</td>\n",
       "      <td>3441410</td>\n",
       "    </tr>\n",
       "    <tr>\n",
       "      <th>684</th>\n",
       "      <td>Чистовая</td>\n",
       "      <td>26.9</td>\n",
       "      <td>14.5</td>\n",
       "      <td>4.0</td>\n",
       "      <td>7700000</td>\n",
       "    </tr>\n",
       "    <tr>\n",
       "      <th>630</th>\n",
       "      <td>Черновая</td>\n",
       "      <td>45.6</td>\n",
       "      <td>20.7</td>\n",
       "      <td>12.1</td>\n",
       "      <td>14850324</td>\n",
       "    </tr>\n",
       "    <tr>\n",
       "      <th>64</th>\n",
       "      <td>С отделкой</td>\n",
       "      <td>21.9</td>\n",
       "      <td>10.0</td>\n",
       "      <td>5.3</td>\n",
       "      <td>5899860</td>\n",
       "    </tr>\n",
       "    <tr>\n",
       "      <th>799</th>\n",
       "      <td>С отделкой</td>\n",
       "      <td>72.1</td>\n",
       "      <td>37.4</td>\n",
       "      <td>18.6</td>\n",
       "      <td>16691150</td>\n",
       "    </tr>\n",
       "  </tbody>\n",
       "</table>\n",
       "<p>770 rows × 5 columns</p>\n",
       "</div>"
      ],
      "text/plain": [
       "         Отделка  Общая площадь  Жилая площадь  Площадь кухни  Стоимость\n",
       "438     Чистовая           37.5           16.9            9.4    7049954\n",
       "841  Без отделки           56.4           14.0           21.3   21000000\n",
       "432     Чистовая           35.9           14.4           10.7    7004430\n",
       "984     Чистовая           24.6           11.9            5.0    3431700\n",
       "175     Черновая           39.8           15.1           14.6    6265503\n",
       "..           ...            ...            ...            ...        ...\n",
       "989     Чистовая           21.1            9.9            5.4    3441410\n",
       "684     Чистовая           26.9           14.5            4.0    7700000\n",
       "630     Черновая           45.6           20.7           12.1   14850324\n",
       "64    С отделкой           21.9           10.0            5.3    5899860\n",
       "799   С отделкой           72.1           37.4           18.6   16691150\n",
       "\n",
       "[770 rows x 5 columns]"
      ]
     },
     "execution_count": 32,
     "metadata": {},
     "output_type": "execute_result"
    }
   ],
   "source": [
    "df"
   ]
  },
  {
   "cell_type": "code",
   "execution_count": 5,
   "id": "99d57f02-59da-4da9-88e3-f0acc368c624",
   "metadata": {},
   "outputs": [
    {
     "data": {
      "text/plain": [
       "array([-1, -1, -1,  1, -1, -1,  1,  1, -1, -1, -1,  1,  1, -1, -1, -1, -1,\n",
       "       -1, -1, -1, -1, -1,  1, -1, -1,  1, -1,  1, -1, -1, -1, -1, -1, -1,\n",
       "        1,  1, -1, -1,  1, -1,  1, -1,  1, -1,  1, -1, -1, -1, -1, -1, -1,\n",
       "        1, -1, -1, -1,  1, -1,  1,  1, -1,  1,  1, -1, -1, -1, -1, -1, -1,\n",
       "       -1, -1,  1, -1, -1,  1,  1,  1, -1,  1, -1,  1,  1, -1, -1, -1, -1,\n",
       "       -1, -1, -1, -1, -1,  1, -1, -1, -1, -1, -1, -1, -1,  1, -1, -1, -1,\n",
       "       -1, -1,  1, -1, -1,  1, -1, -1, -1,  1, -1,  1, -1, -1, -1, -1,  1,\n",
       "       -1, -1,  1,  1, -1, -1,  1,  1, -1, -1, -1, -1, -1, -1, -1, -1, -1,\n",
       "       -1,  1, -1, -1, -1, -1, -1, -1, -1,  1,  1, -1, -1, -1, -1,  1, -1,\n",
       "       -1])"
      ]
     },
     "execution_count": 5,
     "metadata": {},
     "output_type": "execute_result"
    }
   ],
   "source": [
    "y_bin_test"
   ]
  },
  {
   "cell_type": "code",
   "execution_count": 6,
   "id": "1490567bf0ae00a0",
   "metadata": {
    "ExecuteTime": {
     "end_time": "2024-06-05T15:50:50.068088Z",
     "start_time": "2024-06-05T15:50:50.058210Z"
    }
   },
   "outputs": [],
   "source": [
    "class Node:\n",
    "    def __init__(self, l=None, r=None, val=None):\n",
    "        self.l = l\n",
    "        self.r = r\n",
    "        self.val = val\n",
    "    \n",
    "    def is_leaf(self):\n",
    "        return self.l is None and self.r is None"
   ]
  },
  {
   "cell_type": "code",
   "execution_count": 7,
   "id": "ec87746fd55b33ed",
   "metadata": {
    "ExecuteTime": {
     "end_time": "2024-06-05T18:00:36.226736Z",
     "start_time": "2024-06-05T18:00:36.173862Z"
    }
   },
   "outputs": [],
   "source": [
    "import numpy as np\n",
    "from collections import Counter\n",
    "\n",
    "class DecisionTree:\n",
    "    def __init__(self, max_depth=None, min_objects_in_leaf=1, feat_size=None, min_gain=-1):\n",
    "        self.max_depth = max_depth\n",
    "        self.min_objects_in_leaf = min_objects_in_leaf\n",
    "        self.feat_size = feat_size\n",
    "        self.min_gain = min_gain\n",
    "        \n",
    "    def fit(self, X, y, sample_weights=None):\n",
    "        if sample_weights is None:\n",
    "            sample_weights = np.ones(len(y)) / len(y)\n",
    "        self.tree = self.build_tree(X, y, sample_weights)\n",
    "    \n",
    "    def build_tree(self, X, y, sample_weights, depth=0):\n",
    "        if depth == self.max_depth or len(np.unique(y)) == 1 or len(y) <= self.min_objects_in_leaf:\n",
    "            cat = self.most_common_leaf_category(y, sample_weights)\n",
    "            return Node(val=cat)\n",
    "        \n",
    "        _, n_feat = X.shape\n",
    "        if self.feat_size is None:\n",
    "            features = np.arange(n_feat)\n",
    "        else:\n",
    "            features = np.random.choice(n_feat, self.feat_size, replace=False)\n",
    "        \n",
    "        best_split, split_value, gain = self.best_feature_split(X, y, features, sample_weights)\n",
    "        if gain < self.min_gain or best_split is None:\n",
    "            cat = self.most_common_leaf_category(y, sample_weights)\n",
    "            return Node(val=cat)\n",
    "        \n",
    "        l_part, r_part = self.split(X[:, best_split], split_value)\n",
    "        l_tree = self.build_tree(X[l_part], y[l_part], sample_weights[l_part], depth + 1)\n",
    "        r_tree = self.build_tree(X[r_part], y[r_part], sample_weights[r_part], depth + 1)\n",
    "        return Node(l=l_tree, r=r_tree, val=(best_split, split_value))\n",
    "    \n",
    "    def best_feature_split(self, X, y, chosen_features, sample_weights):\n",
    "        best_gain = -1\n",
    "        split_feature, split_value = None, None\n",
    "        \n",
    "        for feature in chosen_features:\n",
    "            column = X[:, feature]\n",
    "            values = np.unique(column)\n",
    "            for value in values:\n",
    "                gain = self.gain_count(y, column, value, sample_weights)\n",
    "                if gain > best_gain:\n",
    "                    best_gain = gain\n",
    "                    split_feature = feature\n",
    "                    split_value = value  \n",
    "        return split_feature, split_value, best_gain\n",
    "    \n",
    "    def gain_count(self, y, split_column, split_value, sample_weights):\n",
    "        parent_e = self.weighted_entropy(y, sample_weights)\n",
    "        left_part, right_part = self.split(split_column, split_value)\n",
    "        if len(left_part) == 0 or len(right_part) == 0:\n",
    "            return 0\n",
    "        n = len(y)\n",
    "        n_left, n_right = np.sum(sample_weights[left_part]), np.sum(sample_weights[right_part])\n",
    "        e_left, e_right = self.weighted_entropy(y[left_part], sample_weights[left_part]), self.weighted_entropy(y[right_part], sample_weights[right_part])\n",
    "        child_e = (n_left / np.sum(sample_weights)) * e_left + (n_right / np.sum(sample_weights)) * e_right\n",
    "        del_e = parent_e - child_e\n",
    "        return del_e\n",
    "    \n",
    "    def weighted_entropy(self, y, sample_weights):\n",
    "        unique_vals = np.unique(y)\n",
    "        weighted_counts = np.zeros(len(unique_vals))\n",
    "        for i, val in enumerate(unique_vals):\n",
    "            weighted_counts[i] = np.sum(sample_weights[y == val])\n",
    "        ps = weighted_counts / np.sum(sample_weights)\n",
    "        return -np.sum([p * np.log2(p) for p in ps if p > 0])\n",
    "    \n",
    "    def split(self, split_column, split_value):\n",
    "        l_part = np.argwhere(split_column <= split_value).flatten()\n",
    "        r_part = np.argwhere(split_column > split_value).flatten()\n",
    "        return l_part, r_part\n",
    "    \n",
    "    def most_common_leaf_category(self, y, sample_weights):\n",
    "        counter = Counter()\n",
    "        for label, weight in zip(y, sample_weights):\n",
    "            counter[label] += weight\n",
    "        return counter.most_common(1)[0][0]\n",
    "    \n",
    "    def predict(self, X):\n",
    "        return np.array([self.predict_one(inputs, self.tree) for inputs in X])\n",
    "    \n",
    "    def predict_one(self, x, node):\n",
    "        if node.is_leaf():\n",
    "            return node.val\n",
    "        feature, value = node.val\n",
    "        if x[feature] <= value:\n",
    "            return self.predict_one(x, node.l)\n",
    "        else:\n",
    "            return self.predict_one(x, node.r)\n"
   ]
  },
  {
   "cell_type": "code",
   "execution_count": 8,
   "id": "f43c91baf506967b",
   "metadata": {
    "ExecuteTime": {
     "end_time": "2024-06-05T18:01:07.151251Z",
     "start_time": "2024-06-05T18:00:36.852735Z"
    }
   },
   "outputs": [
    {
     "name": "stdout",
     "output_type": "stream",
     "text": [
      "Accuracy: 0.59\n"
     ]
    }
   ],
   "source": [
    "tree = DecisionTree(max_depth=5)\n",
    "tree.fit(X_train, y_train)\n",
    "\n",
    "predictions = tree.predict(X_test)\n",
    "\n",
    "accuracy = np.mean(predictions == y_test)\n",
    "print(f'Accuracy: {accuracy:.2f}')"
   ]
  },
  {
   "cell_type": "code",
   "execution_count": 9,
   "id": "4ba96bd476c8cf35",
   "metadata": {
    "ExecuteTime": {
     "end_time": "2024-06-05T18:02:53.860550Z",
     "start_time": "2024-06-05T18:02:53.843310Z"
    }
   },
   "outputs": [],
   "source": [
    "class AdaBoost:\n",
    "    def __init__(self, n_estimators=50, max_depth=None, min_objects_in_leaf=1, feat_size=None, min_gain=-1):\n",
    "        self.n_estimators = n_estimators\n",
    "        self.max_depth = max_depth\n",
    "        self.min_objects_in_leaf = min_objects_in_leaf\n",
    "        self.min_gain = min_gain\n",
    "        self.feat_size = feat_size\n",
    "        self.estimators = []\n",
    "        self.alphas = []\n",
    "        \n",
    "    def fit(self, X, y):\n",
    "        n_samples, n_features = X.shape\n",
    "        sample_weights = np.ones(n_samples) / n_samples\n",
    "        \n",
    "        for _ in range(self.n_estimators):\n",
    "            tree = DecisionTree(max_depth=self.max_depth, min_objects_in_leaf=self.min_objects_in_leaf, feat_size=self.feat_size, min_gain=self.min_gain)\n",
    "            tree.fit(X, y, sample_weights)\n",
    "            predictions = tree.predict(X)\n",
    "            \n",
    "            missclassified = predictions != y\n",
    "            err = np.sum(sample_weights * missclassified) / np.sum(sample_weights)\n",
    "            alpha = 0.5 * np.log((1 - err) / err)\n",
    "            \n",
    "            sample_weights *= np.exp(-alpha * y * predictions)\n",
    "            sample_weights /= np.sum(sample_weights)\n",
    "            \n",
    "            self.estimators.append(tree)\n",
    "            self.alphas.append(alpha)\n",
    "    \n",
    "    def predict(self, X):\n",
    "        final_predictions = np.zeros(X.shape[0])\n",
    "        for alpha, estimator in zip(self.alphas, self.estimators):\n",
    "            final_predictions += alpha * estimator.predict(X)\n",
    "        return np.sign(final_predictions)"
   ]
  },
  {
   "cell_type": "code",
   "execution_count": 10,
   "id": "f87abd058462225d",
   "metadata": {
    "ExecuteTime": {
     "end_time": "2024-06-05T18:04:27.704115Z",
     "start_time": "2024-06-05T18:02:54.700116Z"
    }
   },
   "outputs": [
    {
     "name": "stdout",
     "output_type": "stream",
     "text": [
      "Accuracy: 0.73\n"
     ]
    }
   ],
   "source": [
    "\n",
    "boost = AdaBoost(n_estimators=10, max_depth=3)\n",
    "boost.fit(X_train, y_bin_train)\n",
    "\n",
    "predictions_boost = boost.predict(X_test)\n",
    "accuracy = np.mean(predictions_boost == y_bin_test)\n",
    "\n",
    "print(f'Accuracy: {accuracy:.2f}')"
   ]
  },
  {
   "cell_type": "code",
   "execution_count": 11,
   "id": "623444824c8e6380",
   "metadata": {
    "ExecuteTime": {
     "end_time": "2024-06-05T18:15:12.725689Z",
     "start_time": "2024-06-05T18:15:12.708216Z"
    }
   },
   "outputs": [],
   "source": [
    "class RandomForest:\n",
    "    def __init__(self, n_estimators=50, max_depth=None, min_objects_in_leaf=1, feat_size=None,  min_gain=-1):\n",
    "        self.n_estimators = n_estimators\n",
    "        self.max_depth = max_depth\n",
    "        self.min_objects_in_leaf = min_objects_in_leaf\n",
    "        self.feat_size = feat_size\n",
    "        self.min_gain = min_gain\n",
    "        self.trees = []\n",
    "    \n",
    "    def fit(self, X, y):\n",
    "        for _ in range(self.n_estimators):\n",
    "            tree = DecisionTree(max_depth=self.max_depth, min_objects_in_leaf=self.min_objects_in_leaf, feat_size=self.feat_size, min_gain=self.min_gain)\n",
    "            tree.fit(X, y)\n",
    "            self.trees.append(tree)\n",
    "    \n",
    "    def predict(self, X):\n",
    "        tree_predictions = np.array([tree.predict(X) for tree in self.trees])\n",
    "        most_common = [Counter(tree_predictions[:, i]).most_common(1)[0][0] for i in range(X.shape[0])]\n",
    "        return np.array(most_common)"
   ]
  },
  {
   "cell_type": "code",
   "execution_count": 12,
   "id": "c590bd9adc80abef",
   "metadata": {
    "ExecuteTime": {
     "end_time": "2024-06-05T18:17:57.303121Z",
     "start_time": "2024-06-05T18:15:13.605962Z"
    }
   },
   "outputs": [
    {
     "name": "stdout",
     "output_type": "stream",
     "text": [
      "Accuracy: 0.73\n"
     ]
    }
   ],
   "source": [
    "forest = RandomForest(n_estimators=10, max_depth=6, feat_size=3)\n",
    "forest.fit(X_train, y_train)\n",
    "\n",
    "predictions_forest = forest.predict(X_test)\n",
    "accuracy = np.mean(predictions_boost == y_bin_test)\n",
    "\n",
    "print(f'Accuracy: {accuracy:.2f}')"
   ]
  },
  {
   "cell_type": "code",
   "execution_count": 13,
   "id": "64274ad09519fb25",
   "metadata": {
    "ExecuteTime": {
     "end_time": "2024-06-05T19:07:07.272114Z",
     "start_time": "2024-06-05T19:07:07.258601Z"
    }
   },
   "outputs": [],
   "source": [
    "from sklearn.tree import DecisionTreeClassifier\n",
    "from sklearn.metrics import accuracy_score\n",
    "\n",
    "min_leaf_values = [1, 2, 4, 8, 16, 32, 62, 128]\n",
    "min_gains = [0.0, 0.01, 0.02, 0.03, 0.04, 0.05, 0.1, 0.2]\n",
    "\n",
    "def evaluate_tree_depth(X_train, y_train, min_leaf_values, min_gains):\n",
    "    depths = []\n",
    "    for min_leaf_value in min_leaf_values:\n",
    "        for min_gain in min_gains:\n",
    "            clf = DecisionTreeClassifier(min_samples_leaf=min_leaf_value, min_impurity_decrease=min_gain)\n",
    "            clf.fit(X_train, y_train)\n",
    "            depths.append((min_leaf_value, min_gain, clf.get_depth()))\n",
    "    return depths\n"
   ]
  },
  {
   "cell_type": "code",
   "execution_count": 14,
   "id": "10742182a66ebc64",
   "metadata": {
    "ExecuteTime": {
     "end_time": "2024-06-05T19:18:06.690143Z",
     "start_time": "2024-06-05T19:18:04.532983Z"
    }
   },
   "outputs": [
    {
     "data": {
      "image/png": "[encoded data removed]",
      "text/plain": [
       "<Figure size 1000x600 with 2 Axes>"
      ]
     },
     "metadata": {},
     "output_type": "display_data"
    }
   ],
   "source": [
    "import matplotlib.pyplot as plt\n",
    "\n",
    "depths = evaluate_tree_depth(X_train, y_train, min_leaf_values, min_gains)\n",
    "\n",
    "min_samples_leaf = [item[0] for item in depths]\n",
    "min_impurity_decrease = [item[1] for item in depths]\n",
    "depth = [item[2] for item in depths]\n",
    "\n",
    "plt.figure(figsize=(10, 6))\n",
    "plt.scatter(min_samples_leaf, min_impurity_decrease, c=depth, cmap='viridis')\n",
    "plt.colorbar(label='Depth') \n",
    "\n",
    "plt.xlabel('min_samples_leaf')\n",
    "plt.ylabel('min_impurity_decrease')\n",
    "plt.show()"
   ]
  },
  {
   "cell_type": "code",
   "execution_count": 15,
   "id": "8826ba9380fc0e09",
   "metadata": {
    "ExecuteTime": {
     "end_time": "2024-06-05T20:19:50.884299Z",
     "start_time": "2024-06-05T20:19:50.740148Z"
    }
   },
   "outputs": [
    {
     "name": "stdout",
     "output_type": "stream",
     "text": [
      "Best Parameters for library model: {'min_impurity_decrease': 0.0, 'min_samples_leaf': 128}, \n",
      " Best Accuracy for library model: 0.55 \n",
      "\n"
     ]
    }
   ],
   "source": [
    "from sklearn.model_selection import GridSearchCV\n",
    "\n",
    "param_grid = {\n",
    "    'min_samples_leaf': min_leaf_values,\n",
    "    'min_impurity_decrease': min_gains,\n",
    "}\n",
    "\n",
    "grid_search = GridSearchCV(DecisionTreeClassifier(), param_grid, cv=5)\n",
    "grid_search.fit(X_train, y_train)\n",
    "best_params = grid_search.best_params_\n",
    "best_score = grid_search.best_score_\n",
    "print(f'Best Parameters for library model: {best_params}, \\n Best Accuracy for library model: {best_score:.2f} \\n')"
   ]
  },
  {
   "cell_type": "code",
   "execution_count": 16,
   "id": "4a53b75fc96e9de4",
   "metadata": {
    "ExecuteTime": {
     "end_time": "2024-06-05T20:20:59.474716Z",
     "start_time": "2024-06-05T20:20:09.133876Z"
    }
   },
   "outputs": [
    {
     "name": "stdout",
     "output_type": "stream",
     "text": [
      "Best Parameters for my model: min_gain 0.0, min_objects_in_leaf 62\n",
      " Best Accuracy for my model: 0.60 \n",
      "\n"
     ]
    }
   ],
   "source": [
    "best_accuracy = 0\n",
    "best_gain = 0\n",
    "best_leaf_value = 0\n",
    "for min_gain in min_gains:\n",
    "    for min_leaf_value in min_leaf_values:\n",
    "        tree = DecisionTree(min_gain=min_gain, min_objects_in_leaf=min_leaf_value)\n",
    "        tree.fit(X_train, y_train)\n",
    "        predictions = tree.predict(X_test)\n",
    "        accuracy = np.mean(predictions == y_test)\n",
    "        if (accuracy > best_accuracy):\n",
    "            best_accuracy = accuracy\n",
    "            best_gain = min_gain\n",
    "            best_leaf_value = min_leaf_value\n",
    "print(f'Best Parameters for my model: min_gain {best_gain}, min_objects_in_leaf {best_leaf_value}\\n Best Accuracy for my model: {best_accuracy:.2f} \\n')"
   ]
  },
  {
   "cell_type": "code",
   "execution_count": 17,
   "id": "5620e8bb608483a7",
   "metadata": {
    "ExecuteTime": {
     "end_time": "2024-06-05T20:48:52.873797Z",
     "start_time": "2024-06-05T20:48:52.724262Z"
    }
   },
   "outputs": [],
   "source": [
    "train_lib_errors = []\n",
    "test_lib_errors = []\n",
    "\n",
    "for depth in range(1, 10):\n",
    "    clf = DecisionTreeClassifier(max_depth=depth)\n",
    "    clf.fit(X_train, y_train)\n",
    "    train_lib_errors.append(1 - accuracy_score(y_train, clf.predict(X_train)))\n",
    "    test_lib_errors.append(1 - accuracy_score(y_test, clf.predict(X_test)))"
   ]
  },
  {
   "cell_type": "code",
   "execution_count": 18,
   "id": "21b235ee0b96b0e5",
   "metadata": {
    "ExecuteTime": {
     "end_time": "2024-06-05T20:53:03.654339Z",
     "start_time": "2024-06-05T20:49:02.291153Z"
    }
   },
   "outputs": [
    {
     "name": "stdout",
     "output_type": "stream",
     "text": [
      "Now working with depth - 1\n",
      "Now working with depth - 2\n",
      "Now working with depth - 3\n",
      "Now working with depth - 4\n",
      "Now working with depth - 5\n",
      "Now working with depth - 6\n",
      "Now working with depth - 7\n",
      "Now working with depth - 8\n",
      "Now working with depth - 9\n"
     ]
    }
   ],
   "source": [
    "train_my_errors = []\n",
    "test_my_errors = []\n",
    "\n",
    "for depth in range(1, 10):\n",
    "    print(f'Now working with depth - {depth}')\n",
    "    tree = DecisionTree(max_depth=depth)\n",
    "    tree.fit(X_train, y_train)\n",
    "    predictions_train = tree.predict(X_train)\n",
    "    accuracy = np.mean(predictions_train == y_train)\n",
    "    train_my_errors.append(1 - accuracy)\n",
    "    predictions_test = tree.predict(X_test)\n",
    "    accuracy = np.mean(predictions_test == y_test)\n",
    "    test_my_errors.append(1 - accuracy)"
   ]
  },
  {
   "cell_type": "code",
   "execution_count": 19,
   "id": "2b297dfa047b73b7",
   "metadata": {
    "ExecuteTime": {
     "end_time": "2024-06-05T21:42:42.907761Z",
     "start_time": "2024-06-05T21:42:42.113035Z"
    }
   },
   "outputs": [
    {
     "data": {
      "image/png": "[encoded data removed]",
      "text/plain": [
       "<Figure size 640x480 with 1 Axes>"
      ]
     },
     "metadata": {},
     "output_type": "display_data"
    }
   ],
   "source": [
    "plt.plot(range(1, 10), train_lib_errors, label='Train Lib Error')\n",
    "plt.plot(range(1, 10), test_lib_errors, label='Test Lib Error')\n",
    "plt.plot(range(1, 10), train_my_errors, label='Train My Error')\n",
    "plt.plot(range(1, 10), test_my_errors, label='Test My Error')\n",
    "plt.xlabel('Tree Depth')\n",
    "plt.ylabel('Error')\n",
    "plt.legend()\n",
    "plt.show()"
   ]
  },
  {
   "cell_type": "code",
   "execution_count": 20,
   "id": "d812a0001406c4ca",
   "metadata": {
    "ExecuteTime": {
     "end_time": "2024-06-05T21:27:53.996548Z",
     "start_time": "2024-06-05T21:27:10.483357Z"
    }
   },
   "outputs": [
    {
     "name": "stderr",
     "output_type": "stream",
     "text": [
      "/Library/Frameworks/Python.framework/Versions/3.12/lib/python3.12/site-packages/sklearn/ensemble/_weight_boosting.py:527: FutureWarning: The SAMME.R algorithm (the default) is deprecated and will be removed in 1.6. Use the SAMME algorithm to circumvent this warning.\n",
      "  warnings.warn(\n",
      "/Library/Frameworks/Python.framework/Versions/3.12/lib/python3.12/site-packages/sklearn/ensemble/_weight_boosting.py:527: FutureWarning: The SAMME.R algorithm (the default) is deprecated and will be removed in 1.6. Use the SAMME algorithm to circumvent this warning.\n",
      "  warnings.warn(\n",
      "/Library/Frameworks/Python.framework/Versions/3.12/lib/python3.12/site-packages/sklearn/ensemble/_weight_boosting.py:527: FutureWarning: The SAMME.R algorithm (the default) is deprecated and will be removed in 1.6. Use the SAMME algorithm to circumvent this warning.\n",
      "  warnings.warn(\n",
      "/Library/Frameworks/Python.framework/Versions/3.12/lib/python3.12/site-packages/sklearn/ensemble/_weight_boosting.py:527: FutureWarning: The SAMME.R algorithm (the default) is deprecated and will be removed in 1.6. Use the SAMME algorithm to circumvent this warning.\n",
      "  warnings.warn(\n",
      "/Library/Frameworks/Python.framework/Versions/3.12/lib/python3.12/site-packages/sklearn/ensemble/_weight_boosting.py:527: FutureWarning: The SAMME.R algorithm (the default) is deprecated and will be removed in 1.6. Use the SAMME algorithm to circumvent this warning.\n",
      "  warnings.warn(\n",
      "/Library/Frameworks/Python.framework/Versions/3.12/lib/python3.12/site-packages/sklearn/ensemble/_weight_boosting.py:527: FutureWarning: The SAMME.R algorithm (the default) is deprecated and will be removed in 1.6. Use the SAMME algorithm to circumvent this warning.\n",
      "  warnings.warn(\n",
      "/Library/Frameworks/Python.framework/Versions/3.12/lib/python3.12/site-packages/sklearn/ensemble/_weight_boosting.py:527: FutureWarning: The SAMME.R algorithm (the default) is deprecated and will be removed in 1.6. Use the SAMME algorithm to circumvent this warning.\n",
      "  warnings.warn(\n",
      "/Library/Frameworks/Python.framework/Versions/3.12/lib/python3.12/site-packages/sklearn/ensemble/_weight_boosting.py:527: FutureWarning: The SAMME.R algorithm (the default) is deprecated and will be removed in 1.6. Use the SAMME algorithm to circumvent this warning.\n",
      "  warnings.warn(\n",
      "/Library/Frameworks/Python.framework/Versions/3.12/lib/python3.12/site-packages/sklearn/ensemble/_weight_boosting.py:527: FutureWarning: The SAMME.R algorithm (the default) is deprecated and will be removed in 1.6. Use the SAMME algorithm to circumvent this warning.\n",
      "  warnings.warn(\n",
      "/Library/Frameworks/Python.framework/Versions/3.12/lib/python3.12/site-packages/sklearn/ensemble/_weight_boosting.py:527: FutureWarning: The SAMME.R algorithm (the default) is deprecated and will be removed in 1.6. Use the SAMME algorithm to circumvent this warning.\n",
      "  warnings.warn(\n",
      "/Library/Frameworks/Python.framework/Versions/3.12/lib/python3.12/site-packages/sklearn/ensemble/_weight_boosting.py:527: FutureWarning: The SAMME.R algorithm (the default) is deprecated and will be removed in 1.6. Use the SAMME algorithm to circumvent this warning.\n",
      "  warnings.warn(\n",
      "/Library/Frameworks/Python.framework/Versions/3.12/lib/python3.12/site-packages/sklearn/ensemble/_weight_boosting.py:527: FutureWarning: The SAMME.R algorithm (the default) is deprecated and will be removed in 1.6. Use the SAMME algorithm to circumvent this warning.\n",
      "  warnings.warn(\n",
      "/Library/Frameworks/Python.framework/Versions/3.12/lib/python3.12/site-packages/sklearn/ensemble/_weight_boosting.py:527: FutureWarning: The SAMME.R algorithm (the default) is deprecated and will be removed in 1.6. Use the SAMME algorithm to circumvent this warning.\n",
      "  warnings.warn(\n",
      "/Library/Frameworks/Python.framework/Versions/3.12/lib/python3.12/site-packages/sklearn/ensemble/_weight_boosting.py:527: FutureWarning: The SAMME.R algorithm (the default) is deprecated and will be removed in 1.6. Use the SAMME algorithm to circumvent this warning.\n",
      "  warnings.warn(\n",
      "/Library/Frameworks/Python.framework/Versions/3.12/lib/python3.12/site-packages/sklearn/ensemble/_weight_boosting.py:527: FutureWarning: The SAMME.R algorithm (the default) is deprecated and will be removed in 1.6. Use the SAMME algorithm to circumvent this warning.\n",
      "  warnings.warn(\n",
      "/Library/Frameworks/Python.framework/Versions/3.12/lib/python3.12/site-packages/sklearn/ensemble/_weight_boosting.py:527: FutureWarning: The SAMME.R algorithm (the default) is deprecated and will be removed in 1.6. Use the SAMME algorithm to circumvent this warning.\n",
      "  warnings.warn(\n",
      "/Library/Frameworks/Python.framework/Versions/3.12/lib/python3.12/site-packages/sklearn/ensemble/_weight_boosting.py:527: FutureWarning: The SAMME.R algorithm (the default) is deprecated and will be removed in 1.6. Use the SAMME algorithm to circumvent this warning.\n",
      "  warnings.warn(\n",
      "/Library/Frameworks/Python.framework/Versions/3.12/lib/python3.12/site-packages/sklearn/ensemble/_weight_boosting.py:527: FutureWarning: The SAMME.R algorithm (the default) is deprecated and will be removed in 1.6. Use the SAMME algorithm to circumvent this warning.\n",
      "  warnings.warn(\n",
      "/Library/Frameworks/Python.framework/Versions/3.12/lib/python3.12/site-packages/sklearn/ensemble/_weight_boosting.py:527: FutureWarning: The SAMME.R algorithm (the default) is deprecated and will be removed in 1.6. Use the SAMME algorithm to circumvent this warning.\n",
      "  warnings.warn(\n",
      "/Library/Frameworks/Python.framework/Versions/3.12/lib/python3.12/site-packages/sklearn/ensemble/_weight_boosting.py:527: FutureWarning: The SAMME.R algorithm (the default) is deprecated and will be removed in 1.6. Use the SAMME algorithm to circumvent this warning.\n",
      "  warnings.warn(\n",
      "/Library/Frameworks/Python.framework/Versions/3.12/lib/python3.12/site-packages/sklearn/ensemble/_weight_boosting.py:527: FutureWarning: The SAMME.R algorithm (the default) is deprecated and will be removed in 1.6. Use the SAMME algorithm to circumvent this warning.\n",
      "  warnings.warn(\n",
      "/Library/Frameworks/Python.framework/Versions/3.12/lib/python3.12/site-packages/sklearn/ensemble/_weight_boosting.py:527: FutureWarning: The SAMME.R algorithm (the default) is deprecated and will be removed in 1.6. Use the SAMME algorithm to circumvent this warning.\n",
      "  warnings.warn(\n",
      "/Library/Frameworks/Python.framework/Versions/3.12/lib/python3.12/site-packages/sklearn/ensemble/_weight_boosting.py:527: FutureWarning: The SAMME.R algorithm (the default) is deprecated and will be removed in 1.6. Use the SAMME algorithm to circumvent this warning.\n",
      "  warnings.warn(\n",
      "/Library/Frameworks/Python.framework/Versions/3.12/lib/python3.12/site-packages/sklearn/ensemble/_weight_boosting.py:527: FutureWarning: The SAMME.R algorithm (the default) is deprecated and will be removed in 1.6. Use the SAMME algorithm to circumvent this warning.\n",
      "  warnings.warn(\n",
      "/Library/Frameworks/Python.framework/Versions/3.12/lib/python3.12/site-packages/sklearn/ensemble/_weight_boosting.py:527: FutureWarning: The SAMME.R algorithm (the default) is deprecated and will be removed in 1.6. Use the SAMME algorithm to circumvent this warning.\n",
      "  warnings.warn(\n",
      "/Library/Frameworks/Python.framework/Versions/3.12/lib/python3.12/site-packages/sklearn/ensemble/_weight_boosting.py:527: FutureWarning: The SAMME.R algorithm (the default) is deprecated and will be removed in 1.6. Use the SAMME algorithm to circumvent this warning.\n",
      "  warnings.warn(\n",
      "/Library/Frameworks/Python.framework/Versions/3.12/lib/python3.12/site-packages/sklearn/ensemble/_weight_boosting.py:527: FutureWarning: The SAMME.R algorithm (the default) is deprecated and will be removed in 1.6. Use the SAMME algorithm to circumvent this warning.\n",
      "  warnings.warn(\n",
      "/Library/Frameworks/Python.framework/Versions/3.12/lib/python3.12/site-packages/sklearn/ensemble/_weight_boosting.py:527: FutureWarning: The SAMME.R algorithm (the default) is deprecated and will be removed in 1.6. Use the SAMME algorithm to circumvent this warning.\n",
      "  warnings.warn(\n",
      "/Library/Frameworks/Python.framework/Versions/3.12/lib/python3.12/site-packages/sklearn/ensemble/_weight_boosting.py:527: FutureWarning: The SAMME.R algorithm (the default) is deprecated and will be removed in 1.6. Use the SAMME algorithm to circumvent this warning.\n",
      "  warnings.warn(\n",
      "/Library/Frameworks/Python.framework/Versions/3.12/lib/python3.12/site-packages/sklearn/ensemble/_weight_boosting.py:527: FutureWarning: The SAMME.R algorithm (the default) is deprecated and will be removed in 1.6. Use the SAMME algorithm to circumvent this warning.\n",
      "  warnings.warn(\n",
      "/Library/Frameworks/Python.framework/Versions/3.12/lib/python3.12/site-packages/sklearn/ensemble/_weight_boosting.py:527: FutureWarning: The SAMME.R algorithm (the default) is deprecated and will be removed in 1.6. Use the SAMME algorithm to circumvent this warning.\n",
      "  warnings.warn(\n",
      "/Library/Frameworks/Python.framework/Versions/3.12/lib/python3.12/site-packages/sklearn/ensemble/_weight_boosting.py:527: FutureWarning: The SAMME.R algorithm (the default) is deprecated and will be removed in 1.6. Use the SAMME algorithm to circumvent this warning.\n",
      "  warnings.warn(\n",
      "/Library/Frameworks/Python.framework/Versions/3.12/lib/python3.12/site-packages/sklearn/ensemble/_weight_boosting.py:527: FutureWarning: The SAMME.R algorithm (the default) is deprecated and will be removed in 1.6. Use the SAMME algorithm to circumvent this warning.\n",
      "  warnings.warn(\n",
      "/Library/Frameworks/Python.framework/Versions/3.12/lib/python3.12/site-packages/sklearn/ensemble/_weight_boosting.py:527: FutureWarning: The SAMME.R algorithm (the default) is deprecated and will be removed in 1.6. Use the SAMME algorithm to circumvent this warning.\n",
      "  warnings.warn(\n",
      "/Library/Frameworks/Python.framework/Versions/3.12/lib/python3.12/site-packages/sklearn/ensemble/_weight_boosting.py:527: FutureWarning: The SAMME.R algorithm (the default) is deprecated and will be removed in 1.6. Use the SAMME algorithm to circumvent this warning.\n",
      "  warnings.warn(\n",
      "/Library/Frameworks/Python.framework/Versions/3.12/lib/python3.12/site-packages/sklearn/ensemble/_weight_boosting.py:527: FutureWarning: The SAMME.R algorithm (the default) is deprecated and will be removed in 1.6. Use the SAMME algorithm to circumvent this warning.\n",
      "  warnings.warn(\n",
      "/Library/Frameworks/Python.framework/Versions/3.12/lib/python3.12/site-packages/sklearn/ensemble/_weight_boosting.py:527: FutureWarning: The SAMME.R algorithm (the default) is deprecated and will be removed in 1.6. Use the SAMME algorithm to circumvent this warning.\n",
      "  warnings.warn(\n",
      "/Library/Frameworks/Python.framework/Versions/3.12/lib/python3.12/site-packages/sklearn/ensemble/_weight_boosting.py:527: FutureWarning: The SAMME.R algorithm (the default) is deprecated and will be removed in 1.6. Use the SAMME algorithm to circumvent this warning.\n",
      "  warnings.warn(\n",
      "/Library/Frameworks/Python.framework/Versions/3.12/lib/python3.12/site-packages/sklearn/ensemble/_weight_boosting.py:527: FutureWarning: The SAMME.R algorithm (the default) is deprecated and will be removed in 1.6. Use the SAMME algorithm to circumvent this warning.\n",
      "  warnings.warn(\n",
      "/Library/Frameworks/Python.framework/Versions/3.12/lib/python3.12/site-packages/sklearn/ensemble/_weight_boosting.py:527: FutureWarning: The SAMME.R algorithm (the default) is deprecated and will be removed in 1.6. Use the SAMME algorithm to circumvent this warning.\n",
      "  warnings.warn(\n",
      "/Library/Frameworks/Python.framework/Versions/3.12/lib/python3.12/site-packages/sklearn/ensemble/_weight_boosting.py:527: FutureWarning: The SAMME.R algorithm (the default) is deprecated and will be removed in 1.6. Use the SAMME algorithm to circumvent this warning.\n",
      "  warnings.warn(\n",
      "/Library/Frameworks/Python.framework/Versions/3.12/lib/python3.12/site-packages/sklearn/ensemble/_weight_boosting.py:527: FutureWarning: The SAMME.R algorithm (the default) is deprecated and will be removed in 1.6. Use the SAMME algorithm to circumvent this warning.\n",
      "  warnings.warn(\n",
      "/Library/Frameworks/Python.framework/Versions/3.12/lib/python3.12/site-packages/sklearn/ensemble/_weight_boosting.py:527: FutureWarning: The SAMME.R algorithm (the default) is deprecated and will be removed in 1.6. Use the SAMME algorithm to circumvent this warning.\n",
      "  warnings.warn(\n",
      "/Library/Frameworks/Python.framework/Versions/3.12/lib/python3.12/site-packages/sklearn/ensemble/_weight_boosting.py:527: FutureWarning: The SAMME.R algorithm (the default) is deprecated and will be removed in 1.6. Use the SAMME algorithm to circumvent this warning.\n",
      "  warnings.warn(\n",
      "/Library/Frameworks/Python.framework/Versions/3.12/lib/python3.12/site-packages/sklearn/ensemble/_weight_boosting.py:527: FutureWarning: The SAMME.R algorithm (the default) is deprecated and will be removed in 1.6. Use the SAMME algorithm to circumvent this warning.\n",
      "  warnings.warn(\n",
      "/Library/Frameworks/Python.framework/Versions/3.12/lib/python3.12/site-packages/sklearn/ensemble/_weight_boosting.py:527: FutureWarning: The SAMME.R algorithm (the default) is deprecated and will be removed in 1.6. Use the SAMME algorithm to circumvent this warning.\n",
      "  warnings.warn(\n",
      "/Library/Frameworks/Python.framework/Versions/3.12/lib/python3.12/site-packages/sklearn/ensemble/_weight_boosting.py:527: FutureWarning: The SAMME.R algorithm (the default) is deprecated and will be removed in 1.6. Use the SAMME algorithm to circumvent this warning.\n",
      "  warnings.warn(\n",
      "/Library/Frameworks/Python.framework/Versions/3.12/lib/python3.12/site-packages/sklearn/ensemble/_weight_boosting.py:527: FutureWarning: The SAMME.R algorithm (the default) is deprecated and will be removed in 1.6. Use the SAMME algorithm to circumvent this warning.\n",
      "  warnings.warn(\n",
      "/Library/Frameworks/Python.framework/Versions/3.12/lib/python3.12/site-packages/sklearn/ensemble/_weight_boosting.py:527: FutureWarning: The SAMME.R algorithm (the default) is deprecated and will be removed in 1.6. Use the SAMME algorithm to circumvent this warning.\n",
      "  warnings.warn(\n",
      "/Library/Frameworks/Python.framework/Versions/3.12/lib/python3.12/site-packages/sklearn/ensemble/_weight_boosting.py:527: FutureWarning: The SAMME.R algorithm (the default) is deprecated and will be removed in 1.6. Use the SAMME algorithm to circumvent this warning.\n",
      "  warnings.warn(\n",
      "/Library/Frameworks/Python.framework/Versions/3.12/lib/python3.12/site-packages/sklearn/ensemble/_weight_boosting.py:527: FutureWarning: The SAMME.R algorithm (the default) is deprecated and will be removed in 1.6. Use the SAMME algorithm to circumvent this warning.\n",
      "  warnings.warn(\n",
      "/Library/Frameworks/Python.framework/Versions/3.12/lib/python3.12/site-packages/sklearn/ensemble/_weight_boosting.py:527: FutureWarning: The SAMME.R algorithm (the default) is deprecated and will be removed in 1.6. Use the SAMME algorithm to circumvent this warning.\n",
      "  warnings.warn(\n",
      "/Library/Frameworks/Python.framework/Versions/3.12/lib/python3.12/site-packages/sklearn/ensemble/_weight_boosting.py:527: FutureWarning: The SAMME.R algorithm (the default) is deprecated and will be removed in 1.6. Use the SAMME algorithm to circumvent this warning.\n",
      "  warnings.warn(\n",
      "/Library/Frameworks/Python.framework/Versions/3.12/lib/python3.12/site-packages/sklearn/ensemble/_weight_boosting.py:527: FutureWarning: The SAMME.R algorithm (the default) is deprecated and will be removed in 1.6. Use the SAMME algorithm to circumvent this warning.\n",
      "  warnings.warn(\n",
      "/Library/Frameworks/Python.framework/Versions/3.12/lib/python3.12/site-packages/sklearn/ensemble/_weight_boosting.py:527: FutureWarning: The SAMME.R algorithm (the default) is deprecated and will be removed in 1.6. Use the SAMME algorithm to circumvent this warning.\n",
      "  warnings.warn(\n",
      "/Library/Frameworks/Python.framework/Versions/3.12/lib/python3.12/site-packages/sklearn/ensemble/_weight_boosting.py:527: FutureWarning: The SAMME.R algorithm (the default) is deprecated and will be removed in 1.6. Use the SAMME algorithm to circumvent this warning.\n",
      "  warnings.warn(\n",
      "/Library/Frameworks/Python.framework/Versions/3.12/lib/python3.12/site-packages/sklearn/ensemble/_weight_boosting.py:527: FutureWarning: The SAMME.R algorithm (the default) is deprecated and will be removed in 1.6. Use the SAMME algorithm to circumvent this warning.\n",
      "  warnings.warn(\n",
      "/Library/Frameworks/Python.framework/Versions/3.12/lib/python3.12/site-packages/sklearn/ensemble/_weight_boosting.py:527: FutureWarning: The SAMME.R algorithm (the default) is deprecated and will be removed in 1.6. Use the SAMME algorithm to circumvent this warning.\n",
      "  warnings.warn(\n",
      "/Library/Frameworks/Python.framework/Versions/3.12/lib/python3.12/site-packages/sklearn/ensemble/_weight_boosting.py:527: FutureWarning: The SAMME.R algorithm (the default) is deprecated and will be removed in 1.6. Use the SAMME algorithm to circumvent this warning.\n",
      "  warnings.warn(\n",
      "/Library/Frameworks/Python.framework/Versions/3.12/lib/python3.12/site-packages/sklearn/ensemble/_weight_boosting.py:527: FutureWarning: The SAMME.R algorithm (the default) is deprecated and will be removed in 1.6. Use the SAMME algorithm to circumvent this warning.\n",
      "  warnings.warn(\n",
      "/Library/Frameworks/Python.framework/Versions/3.12/lib/python3.12/site-packages/sklearn/ensemble/_weight_boosting.py:527: FutureWarning: The SAMME.R algorithm (the default) is deprecated and will be removed in 1.6. Use the SAMME algorithm to circumvent this warning.\n",
      "  warnings.warn(\n",
      "/Library/Frameworks/Python.framework/Versions/3.12/lib/python3.12/site-packages/sklearn/ensemble/_weight_boosting.py:527: FutureWarning: The SAMME.R algorithm (the default) is deprecated and will be removed in 1.6. Use the SAMME algorithm to circumvent this warning.\n",
      "  warnings.warn(\n",
      "/Library/Frameworks/Python.framework/Versions/3.12/lib/python3.12/site-packages/sklearn/ensemble/_weight_boosting.py:527: FutureWarning: The SAMME.R algorithm (the default) is deprecated and will be removed in 1.6. Use the SAMME algorithm to circumvent this warning.\n",
      "  warnings.warn(\n",
      "/Library/Frameworks/Python.framework/Versions/3.12/lib/python3.12/site-packages/sklearn/ensemble/_weight_boosting.py:527: FutureWarning: The SAMME.R algorithm (the default) is deprecated and will be removed in 1.6. Use the SAMME algorithm to circumvent this warning.\n",
      "  warnings.warn(\n",
      "/Library/Frameworks/Python.framework/Versions/3.12/lib/python3.12/site-packages/sklearn/ensemble/_weight_boosting.py:527: FutureWarning: The SAMME.R algorithm (the default) is deprecated and will be removed in 1.6. Use the SAMME algorithm to circumvent this warning.\n",
      "  warnings.warn(\n",
      "/Library/Frameworks/Python.framework/Versions/3.12/lib/python3.12/site-packages/sklearn/ensemble/_weight_boosting.py:527: FutureWarning: The SAMME.R algorithm (the default) is deprecated and will be removed in 1.6. Use the SAMME algorithm to circumvent this warning.\n",
      "  warnings.warn(\n",
      "/Library/Frameworks/Python.framework/Versions/3.12/lib/python3.12/site-packages/sklearn/ensemble/_weight_boosting.py:527: FutureWarning: The SAMME.R algorithm (the default) is deprecated and will be removed in 1.6. Use the SAMME algorithm to circumvent this warning.\n",
      "  warnings.warn(\n",
      "/Library/Frameworks/Python.framework/Versions/3.12/lib/python3.12/site-packages/sklearn/ensemble/_weight_boosting.py:527: FutureWarning: The SAMME.R algorithm (the default) is deprecated and will be removed in 1.6. Use the SAMME algorithm to circumvent this warning.\n",
      "  warnings.warn(\n",
      "/Library/Frameworks/Python.framework/Versions/3.12/lib/python3.12/site-packages/sklearn/ensemble/_weight_boosting.py:527: FutureWarning: The SAMME.R algorithm (the default) is deprecated and will be removed in 1.6. Use the SAMME algorithm to circumvent this warning.\n",
      "  warnings.warn(\n",
      "/Library/Frameworks/Python.framework/Versions/3.12/lib/python3.12/site-packages/sklearn/ensemble/_weight_boosting.py:527: FutureWarning: The SAMME.R algorithm (the default) is deprecated and will be removed in 1.6. Use the SAMME algorithm to circumvent this warning.\n",
      "  warnings.warn(\n",
      "/Library/Frameworks/Python.framework/Versions/3.12/lib/python3.12/site-packages/sklearn/ensemble/_weight_boosting.py:527: FutureWarning: The SAMME.R algorithm (the default) is deprecated and will be removed in 1.6. Use the SAMME algorithm to circumvent this warning.\n",
      "  warnings.warn(\n",
      "/Library/Frameworks/Python.framework/Versions/3.12/lib/python3.12/site-packages/sklearn/ensemble/_weight_boosting.py:527: FutureWarning: The SAMME.R algorithm (the default) is deprecated and will be removed in 1.6. Use the SAMME algorithm to circumvent this warning.\n",
      "  warnings.warn(\n",
      "/Library/Frameworks/Python.framework/Versions/3.12/lib/python3.12/site-packages/sklearn/ensemble/_weight_boosting.py:527: FutureWarning: The SAMME.R algorithm (the default) is deprecated and will be removed in 1.6. Use the SAMME algorithm to circumvent this warning.\n",
      "  warnings.warn(\n",
      "/Library/Frameworks/Python.framework/Versions/3.12/lib/python3.12/site-packages/sklearn/ensemble/_weight_boosting.py:527: FutureWarning: The SAMME.R algorithm (the default) is deprecated and will be removed in 1.6. Use the SAMME algorithm to circumvent this warning.\n",
      "  warnings.warn(\n",
      "/Library/Frameworks/Python.framework/Versions/3.12/lib/python3.12/site-packages/sklearn/ensemble/_weight_boosting.py:527: FutureWarning: The SAMME.R algorithm (the default) is deprecated and will be removed in 1.6. Use the SAMME algorithm to circumvent this warning.\n",
      "  warnings.warn(\n",
      "/Library/Frameworks/Python.framework/Versions/3.12/lib/python3.12/site-packages/sklearn/ensemble/_weight_boosting.py:527: FutureWarning: The SAMME.R algorithm (the default) is deprecated and will be removed in 1.6. Use the SAMME algorithm to circumvent this warning.\n",
      "  warnings.warn(\n",
      "/Library/Frameworks/Python.framework/Versions/3.12/lib/python3.12/site-packages/sklearn/ensemble/_weight_boosting.py:527: FutureWarning: The SAMME.R algorithm (the default) is deprecated and will be removed in 1.6. Use the SAMME algorithm to circumvent this warning.\n",
      "  warnings.warn(\n",
      "/Library/Frameworks/Python.framework/Versions/3.12/lib/python3.12/site-packages/sklearn/ensemble/_weight_boosting.py:527: FutureWarning: The SAMME.R algorithm (the default) is deprecated and will be removed in 1.6. Use the SAMME algorithm to circumvent this warning.\n",
      "  warnings.warn(\n",
      "/Library/Frameworks/Python.framework/Versions/3.12/lib/python3.12/site-packages/sklearn/ensemble/_weight_boosting.py:527: FutureWarning: The SAMME.R algorithm (the default) is deprecated and will be removed in 1.6. Use the SAMME algorithm to circumvent this warning.\n",
      "  warnings.warn(\n",
      "/Library/Frameworks/Python.framework/Versions/3.12/lib/python3.12/site-packages/sklearn/ensemble/_weight_boosting.py:527: FutureWarning: The SAMME.R algorithm (the default) is deprecated and will be removed in 1.6. Use the SAMME algorithm to circumvent this warning.\n",
      "  warnings.warn(\n",
      "/Library/Frameworks/Python.framework/Versions/3.12/lib/python3.12/site-packages/sklearn/ensemble/_weight_boosting.py:527: FutureWarning: The SAMME.R algorithm (the default) is deprecated and will be removed in 1.6. Use the SAMME algorithm to circumvent this warning.\n",
      "  warnings.warn(\n",
      "/Library/Frameworks/Python.framework/Versions/3.12/lib/python3.12/site-packages/sklearn/ensemble/_weight_boosting.py:527: FutureWarning: The SAMME.R algorithm (the default) is deprecated and will be removed in 1.6. Use the SAMME algorithm to circumvent this warning.\n",
      "  warnings.warn(\n",
      "/Library/Frameworks/Python.framework/Versions/3.12/lib/python3.12/site-packages/sklearn/ensemble/_weight_boosting.py:527: FutureWarning: The SAMME.R algorithm (the default) is deprecated and will be removed in 1.6. Use the SAMME algorithm to circumvent this warning.\n",
      "  warnings.warn(\n",
      "/Library/Frameworks/Python.framework/Versions/3.12/lib/python3.12/site-packages/sklearn/ensemble/_weight_boosting.py:527: FutureWarning: The SAMME.R algorithm (the default) is deprecated and will be removed in 1.6. Use the SAMME algorithm to circumvent this warning.\n",
      "  warnings.warn(\n",
      "/Library/Frameworks/Python.framework/Versions/3.12/lib/python3.12/site-packages/sklearn/ensemble/_weight_boosting.py:527: FutureWarning: The SAMME.R algorithm (the default) is deprecated and will be removed in 1.6. Use the SAMME algorithm to circumvent this warning.\n",
      "  warnings.warn(\n",
      "/Library/Frameworks/Python.framework/Versions/3.12/lib/python3.12/site-packages/sklearn/ensemble/_weight_boosting.py:527: FutureWarning: The SAMME.R algorithm (the default) is deprecated and will be removed in 1.6. Use the SAMME algorithm to circumvent this warning.\n",
      "  warnings.warn(\n",
      "/Library/Frameworks/Python.framework/Versions/3.12/lib/python3.12/site-packages/sklearn/ensemble/_weight_boosting.py:527: FutureWarning: The SAMME.R algorithm (the default) is deprecated and will be removed in 1.6. Use the SAMME algorithm to circumvent this warning.\n",
      "  warnings.warn(\n",
      "/Library/Frameworks/Python.framework/Versions/3.12/lib/python3.12/site-packages/sklearn/ensemble/_weight_boosting.py:527: FutureWarning: The SAMME.R algorithm (the default) is deprecated and will be removed in 1.6. Use the SAMME algorithm to circumvent this warning.\n",
      "  warnings.warn(\n",
      "/Library/Frameworks/Python.framework/Versions/3.12/lib/python3.12/site-packages/sklearn/ensemble/_weight_boosting.py:527: FutureWarning: The SAMME.R algorithm (the default) is deprecated and will be removed in 1.6. Use the SAMME algorithm to circumvent this warning.\n",
      "  warnings.warn(\n",
      "/Library/Frameworks/Python.framework/Versions/3.12/lib/python3.12/site-packages/sklearn/ensemble/_weight_boosting.py:527: FutureWarning: The SAMME.R algorithm (the default) is deprecated and will be removed in 1.6. Use the SAMME algorithm to circumvent this warning.\n",
      "  warnings.warn(\n",
      "/Library/Frameworks/Python.framework/Versions/3.12/lib/python3.12/site-packages/sklearn/ensemble/_weight_boosting.py:527: FutureWarning: The SAMME.R algorithm (the default) is deprecated and will be removed in 1.6. Use the SAMME algorithm to circumvent this warning.\n",
      "  warnings.warn(\n",
      "/Library/Frameworks/Python.framework/Versions/3.12/lib/python3.12/site-packages/sklearn/ensemble/_weight_boosting.py:527: FutureWarning: The SAMME.R algorithm (the default) is deprecated and will be removed in 1.6. Use the SAMME algorithm to circumvent this warning.\n",
      "  warnings.warn(\n",
      "/Library/Frameworks/Python.framework/Versions/3.12/lib/python3.12/site-packages/sklearn/ensemble/_weight_boosting.py:527: FutureWarning: The SAMME.R algorithm (the default) is deprecated and will be removed in 1.6. Use the SAMME algorithm to circumvent this warning.\n",
      "  warnings.warn(\n",
      "/Library/Frameworks/Python.framework/Versions/3.12/lib/python3.12/site-packages/sklearn/ensemble/_weight_boosting.py:527: FutureWarning: The SAMME.R algorithm (the default) is deprecated and will be removed in 1.6. Use the SAMME algorithm to circumvent this warning.\n",
      "  warnings.warn(\n",
      "/Library/Frameworks/Python.framework/Versions/3.12/lib/python3.12/site-packages/sklearn/ensemble/_weight_boosting.py:527: FutureWarning: The SAMME.R algorithm (the default) is deprecated and will be removed in 1.6. Use the SAMME algorithm to circumvent this warning.\n",
      "  warnings.warn(\n",
      "/Library/Frameworks/Python.framework/Versions/3.12/lib/python3.12/site-packages/sklearn/ensemble/_weight_boosting.py:527: FutureWarning: The SAMME.R algorithm (the default) is deprecated and will be removed in 1.6. Use the SAMME algorithm to circumvent this warning.\n",
      "  warnings.warn(\n",
      "/Library/Frameworks/Python.framework/Versions/3.12/lib/python3.12/site-packages/sklearn/ensemble/_weight_boosting.py:527: FutureWarning: The SAMME.R algorithm (the default) is deprecated and will be removed in 1.6. Use the SAMME algorithm to circumvent this warning.\n",
      "  warnings.warn(\n",
      "/Library/Frameworks/Python.framework/Versions/3.12/lib/python3.12/site-packages/sklearn/ensemble/_weight_boosting.py:527: FutureWarning: The SAMME.R algorithm (the default) is deprecated and will be removed in 1.6. Use the SAMME algorithm to circumvent this warning.\n",
      "  warnings.warn(\n",
      "/Library/Frameworks/Python.framework/Versions/3.12/lib/python3.12/site-packages/sklearn/ensemble/_weight_boosting.py:527: FutureWarning: The SAMME.R algorithm (the default) is deprecated and will be removed in 1.6. Use the SAMME algorithm to circumvent this warning.\n",
      "  warnings.warn(\n",
      "/Library/Frameworks/Python.framework/Versions/3.12/lib/python3.12/site-packages/sklearn/ensemble/_weight_boosting.py:527: FutureWarning: The SAMME.R algorithm (the default) is deprecated and will be removed in 1.6. Use the SAMME algorithm to circumvent this warning.\n",
      "  warnings.warn(\n",
      "/Library/Frameworks/Python.framework/Versions/3.12/lib/python3.12/site-packages/sklearn/ensemble/_weight_boosting.py:527: FutureWarning: The SAMME.R algorithm (the default) is deprecated and will be removed in 1.6. Use the SAMME algorithm to circumvent this warning.\n",
      "  warnings.warn(\n",
      "/Library/Frameworks/Python.framework/Versions/3.12/lib/python3.12/site-packages/sklearn/ensemble/_weight_boosting.py:527: FutureWarning: The SAMME.R algorithm (the default) is deprecated and will be removed in 1.6. Use the SAMME algorithm to circumvent this warning.\n",
      "  warnings.warn(\n",
      "/Library/Frameworks/Python.framework/Versions/3.12/lib/python3.12/site-packages/sklearn/ensemble/_weight_boosting.py:527: FutureWarning: The SAMME.R algorithm (the default) is deprecated and will be removed in 1.6. Use the SAMME algorithm to circumvent this warning.\n",
      "  warnings.warn(\n",
      "/Library/Frameworks/Python.framework/Versions/3.12/lib/python3.12/site-packages/sklearn/ensemble/_weight_boosting.py:527: FutureWarning: The SAMME.R algorithm (the default) is deprecated and will be removed in 1.6. Use the SAMME algorithm to circumvent this warning.\n",
      "  warnings.warn(\n",
      "/Library/Frameworks/Python.framework/Versions/3.12/lib/python3.12/site-packages/sklearn/ensemble/_weight_boosting.py:527: FutureWarning: The SAMME.R algorithm (the default) is deprecated and will be removed in 1.6. Use the SAMME algorithm to circumvent this warning.\n",
      "  warnings.warn(\n",
      "/Library/Frameworks/Python.framework/Versions/3.12/lib/python3.12/site-packages/sklearn/ensemble/_weight_boosting.py:527: FutureWarning: The SAMME.R algorithm (the default) is deprecated and will be removed in 1.6. Use the SAMME algorithm to circumvent this warning.\n",
      "  warnings.warn(\n",
      "/Library/Frameworks/Python.framework/Versions/3.12/lib/python3.12/site-packages/sklearn/ensemble/_weight_boosting.py:527: FutureWarning: The SAMME.R algorithm (the default) is deprecated and will be removed in 1.6. Use the SAMME algorithm to circumvent this warning.\n",
      "  warnings.warn(\n",
      "/Library/Frameworks/Python.framework/Versions/3.12/lib/python3.12/site-packages/sklearn/ensemble/_weight_boosting.py:527: FutureWarning: The SAMME.R algorithm (the default) is deprecated and will be removed in 1.6. Use the SAMME algorithm to circumvent this warning.\n",
      "  warnings.warn(\n",
      "/Library/Frameworks/Python.framework/Versions/3.12/lib/python3.12/site-packages/sklearn/ensemble/_weight_boosting.py:527: FutureWarning: The SAMME.R algorithm (the default) is deprecated and will be removed in 1.6. Use the SAMME algorithm to circumvent this warning.\n",
      "  warnings.warn(\n",
      "/Library/Frameworks/Python.framework/Versions/3.12/lib/python3.12/site-packages/sklearn/ensemble/_weight_boosting.py:527: FutureWarning: The SAMME.R algorithm (the default) is deprecated and will be removed in 1.6. Use the SAMME algorithm to circumvent this warning.\n",
      "  warnings.warn(\n",
      "/Library/Frameworks/Python.framework/Versions/3.12/lib/python3.12/site-packages/sklearn/ensemble/_weight_boosting.py:527: FutureWarning: The SAMME.R algorithm (the default) is deprecated and will be removed in 1.6. Use the SAMME algorithm to circumvent this warning.\n",
      "  warnings.warn(\n",
      "/Library/Frameworks/Python.framework/Versions/3.12/lib/python3.12/site-packages/sklearn/ensemble/_weight_boosting.py:527: FutureWarning: The SAMME.R algorithm (the default) is deprecated and will be removed in 1.6. Use the SAMME algorithm to circumvent this warning.\n",
      "  warnings.warn(\n",
      "/Library/Frameworks/Python.framework/Versions/3.12/lib/python3.12/site-packages/sklearn/ensemble/_weight_boosting.py:527: FutureWarning: The SAMME.R algorithm (the default) is deprecated and will be removed in 1.6. Use the SAMME algorithm to circumvent this warning.\n",
      "  warnings.warn(\n",
      "/Library/Frameworks/Python.framework/Versions/3.12/lib/python3.12/site-packages/sklearn/ensemble/_weight_boosting.py:527: FutureWarning: The SAMME.R algorithm (the default) is deprecated and will be removed in 1.6. Use the SAMME algorithm to circumvent this warning.\n",
      "  warnings.warn(\n",
      "/Library/Frameworks/Python.framework/Versions/3.12/lib/python3.12/site-packages/sklearn/ensemble/_weight_boosting.py:527: FutureWarning: The SAMME.R algorithm (the default) is deprecated and will be removed in 1.6. Use the SAMME algorithm to circumvent this warning.\n",
      "  warnings.warn(\n",
      "/Library/Frameworks/Python.framework/Versions/3.12/lib/python3.12/site-packages/sklearn/ensemble/_weight_boosting.py:527: FutureWarning: The SAMME.R algorithm (the default) is deprecated and will be removed in 1.6. Use the SAMME algorithm to circumvent this warning.\n",
      "  warnings.warn(\n",
      "/Library/Frameworks/Python.framework/Versions/3.12/lib/python3.12/site-packages/sklearn/ensemble/_weight_boosting.py:527: FutureWarning: The SAMME.R algorithm (the default) is deprecated and will be removed in 1.6. Use the SAMME algorithm to circumvent this warning.\n",
      "  warnings.warn(\n"
     ]
    },
    {
     "name": "stdout",
     "output_type": "stream",
     "text": [
      "Best parameters for AdaBoostClassifier: {'estimator__max_depth': 5, 'estimator__min_impurity_decrease': 0.0, 'estimator__min_samples_leaf': 2, 'n_estimators': 20}\n"
     ]
    },
    {
     "name": "stderr",
     "output_type": "stream",
     "text": [
      "/Library/Frameworks/Python.framework/Versions/3.12/lib/python3.12/site-packages/sklearn/ensemble/_weight_boosting.py:527: FutureWarning: The SAMME.R algorithm (the default) is deprecated and will be removed in 1.6. Use the SAMME algorithm to circumvent this warning.\n",
      "  warnings.warn(\n",
      "/Library/Frameworks/Python.framework/Versions/3.12/lib/python3.12/site-packages/sklearn/ensemble/_weight_boosting.py:527: FutureWarning: The SAMME.R algorithm (the default) is deprecated and will be removed in 1.6. Use the SAMME algorithm to circumvent this warning.\n",
      "  warnings.warn(\n",
      "/Library/Frameworks/Python.framework/Versions/3.12/lib/python3.12/site-packages/sklearn/ensemble/_weight_boosting.py:527: FutureWarning: The SAMME.R algorithm (the default) is deprecated and will be removed in 1.6. Use the SAMME algorithm to circumvent this warning.\n",
      "  warnings.warn(\n",
      "/Library/Frameworks/Python.framework/Versions/3.12/lib/python3.12/site-packages/sklearn/ensemble/_weight_boosting.py:527: FutureWarning: The SAMME.R algorithm (the default) is deprecated and will be removed in 1.6. Use the SAMME algorithm to circumvent this warning.\n",
      "  warnings.warn(\n"
     ]
    }
   ],
   "source": [
    "min_leaf_values = [2]\n",
    "min_gains = [0.0, 0.01]\n",
    "depths = [3, 4, 5]\n",
    "trees_num = [10, 15, 20, 30]\n",
    "from sklearn.ensemble import AdaBoostClassifier\n",
    "\n",
    "param_grid_ada = {\n",
    "    'n_estimators': trees_num,\n",
    "    'estimator__max_depth': depths,\n",
    "    'estimator__min_samples_leaf': min_leaf_values,\n",
    "    'estimator__min_impurity_decrease': min_gains,\n",
    "}\n",
    "grid_search_ada = GridSearchCV(AdaBoostClassifier(estimator=DecisionTreeClassifier()), param_grid_ada, cv=5)\n",
    "grid_search_ada.fit(X_train, y_bin_train)\n",
    "best_params_ada = grid_search_ada.best_params_\n",
    "print(f'Best parameters for AdaBoostClassifier: {best_params_ada}')"
   ]
  },
  {
   "cell_type": "code",
   "execution_count": 21,
   "id": "403482fcdc7ac45c",
   "metadata": {
    "ExecuteTime": {
     "end_time": "2024-06-05T21:31:48.653089Z",
     "start_time": "2024-06-05T21:31:35.039308Z"
    }
   },
   "outputs": [
    {
     "name": "stdout",
     "output_type": "stream",
     "text": [
      "Best parameters for RandomForestClassifier: {'max_depth': 5, 'min_impurity_decrease': 0.0, 'min_samples_leaf': 2, 'n_estimators': 10}\n"
     ]
    }
   ],
   "source": [
    "from sklearn.ensemble import RandomForestClassifier\n",
    "\n",
    "param_grid_ada = {\n",
    "    'n_estimators': trees_num,\n",
    "    'max_depth': depths,\n",
    "    'min_samples_leaf': min_leaf_values,\n",
    "    'min_impurity_decrease': min_gains,\n",
    "}\n",
    "grid_search_ada = GridSearchCV(RandomForestClassifier(), param_grid_ada, cv=5)\n",
    "grid_search_ada.fit(X_train, y_train)\n",
    "best_params_ada = grid_search_ada.best_params_\n",
    "print(f'Best parameters for RandomForestClassifier: {best_params_ada}')"
   ]
  },
  {
   "cell_type": "code",
   "execution_count": 22,
   "id": "98dc377f9d576868",
   "metadata": {
    "ExecuteTime": {
     "end_time": "2024-06-06T06:43:00.059452Z",
     "start_time": "2024-06-06T06:42:52.934275Z"
    }
   },
   "outputs": [
    {
     "name": "stderr",
     "output_type": "stream",
     "text": [
      "/Library/Frameworks/Python.framework/Versions/3.12/lib/python3.12/site-packages/sklearn/ensemble/_weight_boosting.py:527: FutureWarning: The SAMME.R algorithm (the default) is deprecated and will be removed in 1.6. Use the SAMME algorithm to circumvent this warning.\n",
      "  warnings.warn(\n",
      "/Library/Frameworks/Python.framework/Versions/3.12/lib/python3.12/site-packages/sklearn/ensemble/_weight_boosting.py:527: FutureWarning: The SAMME.R algorithm (the default) is deprecated and will be removed in 1.6. Use the SAMME algorithm to circumvent this warning.\n",
      "  warnings.warn(\n",
      "/Library/Frameworks/Python.framework/Versions/3.12/lib/python3.12/site-packages/sklearn/ensemble/_weight_boosting.py:527: FutureWarning: The SAMME.R algorithm (the default) is deprecated and will be removed in 1.6. Use the SAMME algorithm to circumvent this warning.\n",
      "  warnings.warn(\n",
      "/Library/Frameworks/Python.framework/Versions/3.12/lib/python3.12/site-packages/sklearn/ensemble/_weight_boosting.py:527: FutureWarning: The SAMME.R algorithm (the default) is deprecated and will be removed in 1.6. Use the SAMME algorithm to circumvent this warning.\n",
      "  warnings.warn(\n",
      "/Library/Frameworks/Python.framework/Versions/3.12/lib/python3.12/site-packages/sklearn/ensemble/_weight_boosting.py:527: FutureWarning: The SAMME.R algorithm (the default) is deprecated and will be removed in 1.6. Use the SAMME algorithm to circumvent this warning.\n",
      "  warnings.warn(\n",
      "/Library/Frameworks/Python.framework/Versions/3.12/lib/python3.12/site-packages/sklearn/ensemble/_weight_boosting.py:527: FutureWarning: The SAMME.R algorithm (the default) is deprecated and will be removed in 1.6. Use the SAMME algorithm to circumvent this warning.\n",
      "  warnings.warn(\n",
      "/Library/Frameworks/Python.framework/Versions/3.12/lib/python3.12/site-packages/sklearn/ensemble/_weight_boosting.py:527: FutureWarning: The SAMME.R algorithm (the default) is deprecated and will be removed in 1.6. Use the SAMME algorithm to circumvent this warning.\n",
      "  warnings.warn(\n",
      "/Library/Frameworks/Python.framework/Versions/3.12/lib/python3.12/site-packages/sklearn/ensemble/_weight_boosting.py:527: FutureWarning: The SAMME.R algorithm (the default) is deprecated and will be removed in 1.6. Use the SAMME algorithm to circumvent this warning.\n",
      "  warnings.warn(\n"
     ]
    }
   ],
   "source": [
    "train_ada_lib_errors = []\n",
    "test_ada_lib_errors = []\n",
    "estimator = DecisionTreeClassifier(min_samples_leaf=2, min_impurity_decrease=0.01, max_depth=5)\n",
    "\n",
    "for n in range(10, 50, 5):\n",
    "    clf = AdaBoostClassifier(estimator=estimator, n_estimators=n)\n",
    "    clf.fit(X_train, y_bin_train)\n",
    "    train_ada_lib_errors.append(1 - accuracy_score(y_bin_train, clf.predict(X_train)))\n",
    "    test_ada_lib_errors.append(1 - accuracy_score(y_bin_test, clf.predict(X_test)))"
   ]
  },
  {
   "cell_type": "code",
   "execution_count": 23,
   "id": "e837537d95df990e",
   "metadata": {
    "ExecuteTime": {
     "end_time": "2024-06-05T22:00:27.792747Z",
     "start_time": "2024-06-05T22:00:24.763223Z"
    }
   },
   "outputs": [],
   "source": [
    "train_rf_lib_errors = []\n",
    "test_rf_lib_errors = []\n",
    "\n",
    "for n in range(10, 50, 5):\n",
    "    clf = RandomForestClassifier(n_estimators=n, min_samples_leaf=2, min_impurity_decrease=0, max_depth=5)\n",
    "    clf.fit(X_train, y_train)\n",
    "    train_rf_lib_errors.append(1 - accuracy_score(y_train, clf.predict(X_train)))\n",
    "    test_rf_lib_errors.append(1 - accuracy_score(y_test, clf.predict(X_test)))"
   ]
  },
  {
   "cell_type": "code",
   "execution_count": 24,
   "id": "2f1ecfb2ed504fa0",
   "metadata": {
    "ExecuteTime": {
     "end_time": "2024-06-06T06:43:11.325435Z",
     "start_time": "2024-06-06T06:43:10.266985Z"
    }
   },
   "outputs": [
    {
     "data": {
      "image/png": "[encoded data removed]",
      "text/plain": [
       "<Figure size 640x480 with 1 Axes>"
      ]
     },
     "metadata": {},
     "output_type": "display_data"
    }
   ],
   "source": [
    "plt.plot(range(10, 50, 5), train_ada_lib_errors, label='Train Ada Lib Error')\n",
    "plt.plot(range(10, 50, 5), test_ada_lib_errors, label='Test Ada Lib Error')\n",
    "plt.plot(range(10, 50, 5), train_rf_lib_errors, label='Train Rf Lib Error')\n",
    "plt.plot(range(10, 50, 5), test_rf_lib_errors, label='Test Rf Lib Error')\n",
    "plt.xlabel('Number of trees')\n",
    "plt.ylabel('Error')\n",
    "plt.legend()\n",
    "plt.show()"
   ]
  },
  {
   "cell_type": "code",
   "execution_count": 25,
   "id": "7f53e49c814750ce",
   "metadata": {
    "ExecuteTime": {
     "end_time": "2024-06-05T23:41:39.007817Z",
     "start_time": "2024-06-05T23:35:57.935449Z"
    }
   },
   "outputs": [
    {
     "name": "stdout",
     "output_type": "stream",
     "text": [
      "Best Parameters for my model: min_gain 0, min_objects_in_leaf 2, max_depth 4, num of trees 10\n",
      " Best Accuracy for my model: 0.77 \n",
      "\n"
     ]
    }
   ],
   "source": [
    "min_leaf_values = [2]\n",
    "min_gains = [0, 0.01]\n",
    "depths = [3, 4]\n",
    "trees_nums = [10, 20, 30]\n",
    "\n",
    "best_accuracy, best_gain, best_depth, best_n = 0, 0, 0, 0\n",
    "for min_gain in min_gains:\n",
    "    for min_leaf_value in min_leaf_values:\n",
    "        for depth in depths:\n",
    "            for num in trees_nums:\n",
    "                boost = AdaBoost(min_gain=min_gain, min_objects_in_leaf=min_leaf_value, n_estimators=num, max_depth=depth)\n",
    "                boost.fit(X_train, y_bin_train)\n",
    "                predictions = boost.predict(X_test)\n",
    "                accuracy = np.mean(predictions == y_bin_test)\n",
    "                if accuracy > best_accuracy:\n",
    "                    best_depth = depth\n",
    "                    best_n = num\n",
    "                    best_accuracy = accuracy\n",
    "                    best_gain = min_gain\n",
    "                    best_leaf_value = min_leaf_value\n",
    "print(f'Best Parameters for my model: min_gain {best_gain}, min_objects_in_leaf {best_leaf_value}, max_depth {best_depth}, num of trees {best_n}\\n Best Accuracy for my model: {best_accuracy:.2f} \\n')"
   ]
  },
  {
   "cell_type": "code",
   "execution_count": 26,
   "id": "21fad2b38c09cdf9",
   "metadata": {
    "ExecuteTime": {
     "end_time": "2024-06-06T00:15:01.592245Z",
     "start_time": "2024-06-06T00:09:45.425770Z"
    }
   },
   "outputs": [
    {
     "name": "stdout",
     "output_type": "stream",
     "text": [
      "Best Parameters for my model: min_gain 0.01, min_objects_in_leaf 2, max_depth 3, num of trees 30\n",
      " Best Accuracy for my model: 0.58 \n",
      "\n"
     ]
    }
   ],
   "source": [
    "min_leaf_values = [2]\n",
    "min_gains = [0]\n",
    "depths = [3]\n",
    "trees_nums = [30]\n",
    "samples = [3]\n",
    "\n",
    "best_sample, best_accuracy, best_gain, best_depth, best_n = 0, 0, 0, 0,0\n",
    "for i in samples:\n",
    "    for min_leaf_value in min_leaf_values:\n",
    "        for depth in depths:\n",
    "            for num in trees_nums:\n",
    "                forest = RandomForest(min_gain=0, min_objects_in_leaf=min_leaf_value, n_estimators=num, max_depth=depth, feat_size=i)\n",
    "                forest.fit(X_train, y_train)\n",
    "                predictions = forest.predict(X_test)\n",
    "                accuracy = np.mean(predictions == y_test)\n",
    "                if accuracy > best_accuracy:\n",
    "                    best_depth = depth\n",
    "                    best_n = num\n",
    "                    best_accuracy = accuracy\n",
    "                    best_gain = min_gain\n",
    "                    best_leaf_value = min_leaf_value\n",
    "                    best_sample = i\n",
    "print(f'Best Parameters for my model: min_gain {best_gain}, min_objects_in_leaf {best_leaf_value}, max_depth {best_depth}, num of trees {best_n}\\n Best Accuracy for my model: {best_accuracy:.2f} \\n')"
   ]
  },
  {
   "cell_type": "code",
   "execution_count": 27,
   "id": "233971919338b07",
   "metadata": {
    "ExecuteTime": {
     "end_time": "2024-06-06T02:29:15.829509Z",
     "start_time": "2024-06-06T01:44:22.079123Z"
    }
   },
   "outputs": [
    {
     "name": "stdout",
     "output_type": "stream",
     "text": [
      "Now testing: 10\n",
      "Now testing: 15\n",
      "Now testing: 20\n",
      "Now testing: 25\n",
      "Now testing: 30\n",
      "Now testing: 35\n",
      "Now testing: 40\n",
      "Now testing: 45\n"
     ]
    }
   ],
   "source": [
    "train_ada_my_errors = []\n",
    "test_ada_my_errors = []\n",
    "\n",
    "for i in range(10, 50, 5):\n",
    "    print(\"Now testing:\", i)\n",
    "    boost = AdaBoost(n_estimators=i, max_depth=3, min_objects_in_leaf=2)\n",
    "    boost.fit(X_train, y_bin_train)\n",
    "    predictions_test_boost = boost.predict(X_test)\n",
    "    accuracy_test = np.mean(predictions_test_boost == y_bin_test)\n",
    "\n",
    "    predictions_train_boost = boost.predict(X_train)\n",
    "    accuracy_train = np.mean(predictions_train_boost == y_bin_train)\n",
    "    train_ada_my_errors.append(1 - accuracy_train)\n",
    "    test_ada_my_errors.append(1 - accuracy_test)\n"
   ]
  },
  {
   "cell_type": "code",
   "execution_count": 28,
   "id": "82ccdecc4d7a74a3",
   "metadata": {
    "ExecuteTime": {
     "end_time": "2024-06-06T03:09:31.362342Z",
     "start_time": "2024-06-06T02:29:15.843521Z"
    }
   },
   "outputs": [
    {
     "name": "stdout",
     "output_type": "stream",
     "text": [
      "Now testing: 10\n",
      "Now testing: 15\n",
      "Now testing: 20\n",
      "Now testing: 25\n",
      "Now testing: 30\n",
      "Now testing: 35\n",
      "Now testing: 40\n",
      "Now testing: 45\n"
     ]
    }
   ],
   "source": [
    "train_rf_my_errors = []\n",
    "test_rf_my_errors = []\n",
    "\n",
    "for i in range(10, 50, 5):\n",
    "    print(\"Now testing:\", i)\n",
    "    forest = RandomForest(n_estimators=i, max_depth=5, min_objects_in_leaf=2, feat_size=3)\n",
    "    forest.fit(X_train, y_train)\n",
    "    predictions_test_forest = forest.predict(X_test)\n",
    "    accuracy_test = np.mean(predictions_test_forest == y_test)\n",
    "\n",
    "    predictions_train_forest = forest.predict(X_train)\n",
    "    accuracy_train = np.mean(predictions_train_forest == y_train)\n",
    "    train_ada_my_errors.append(1 - accuracy_train)\n",
    "    test_ada_my_errors.append(1 - accuracy_test)"
   ]
  },
  {
   "cell_type": "code",
   "execution_count": 29,
   "id": "f5b1e2b92a13ca9f",
   "metadata": {
    "ExecuteTime": {
     "end_time": "2024-06-06T06:37:31.492907Z",
     "start_time": "2024-06-06T06:37:31.483498Z"
    }
   },
   "outputs": [
    {
     "data": {
      "text/plain": [
       "[np.float64(0.3455284552845529),\n",
       " np.float64(0.3455284552845529),\n",
       " np.float64(0.35162601626016265),\n",
       " np.float64(0.3414634146341463),\n",
       " np.float64(0.3414634146341463),\n",
       " np.float64(0.33739837398373984),\n",
       " np.float64(0.3475609756097561),\n",
       " np.float64(0.35365853658536583)]"
      ]
     },
     "execution_count": 29,
     "metadata": {},
     "output_type": "execute_result"
    }
   ],
   "source": [
    "train_rf_my_errors = train_ada_my_errors[8:]\n",
    "test_rf_my_errors = test_ada_my_errors[8:]\n",
    "train_rf_my_errors"
   ]
  },
  {
   "cell_type": "code",
   "execution_count": 30,
   "id": "8b7f1cc433b08219",
   "metadata": {
    "ExecuteTime": {
     "end_time": "2024-06-06T06:38:15.790719Z",
     "start_time": "2024-06-06T06:38:15.781251Z"
    }
   },
   "outputs": [
    {
     "data": {
      "text/plain": [
       "[np.float64(0.2727272727272727),\n",
       " np.float64(0.24675324675324672),\n",
       " np.float64(0.24025974025974028),\n",
       " np.float64(0.2532467532467533),\n",
       " np.float64(0.2597402597402597),\n",
       " np.float64(0.26623376623376627),\n",
       " np.float64(0.2532467532467533),\n",
       " np.float64(0.26623376623376627)]"
      ]
     },
     "execution_count": 30,
     "metadata": {},
     "output_type": "execute_result"
    }
   ],
   "source": [
    "train_ada_my_errors = train_ada_my_errors[:8]\n",
    "test_ada_my_errors = test_ada_my_errors[:8]\n",
    "test_ada_my_errors"
   ]
  },
  {
   "cell_type": "code",
   "execution_count": 31,
   "id": "6ed98bf426465e0d",
   "metadata": {
    "ExecuteTime": {
     "end_time": "2024-06-06T06:38:32.284739Z",
     "start_time": "2024-06-06T06:38:31.831061Z"
    }
   },
   "outputs": [
    {
     "data": {
      "image/png": "[encoded data removed]",
      "text/plain": [
       "<Figure size 640x480 with 1 Axes>"
      ]
     },
     "metadata": {},
     "output_type": "display_data"
    }
   ],
   "source": [
    "plt.plot(range(10, 50, 5), train_ada_my_errors, label='Train Ada My Error')\n",
    "plt.plot(range(10, 50, 5), test_ada_my_errors, label='Test Ada My Error')\n",
    "plt.plot(range(10, 50, 5), train_rf_my_errors, label='Train RF My Error')\n",
    "plt.plot(range(10, 50, 5), test_rf_my_errors, label='Test RF My Error')\n",
    "plt.xlabel('Number of trees')\n",
    "plt.ylabel('Error')\n",
    "plt.legend()\n",
    "plt.show()"
   ]
  },
  {
   "cell_type": "code",
   "execution_count": null,
   "id": "10f83338989304f3",
   "metadata": {},
   "outputs": [],
   "source": []
  },
  {
   "cell_type": "code",
   "execution_count": null,
   "id": "b2cc839f-47bb-414a-92a3-dfeed1ed2783",
   "metadata": {},
   "outputs": [],
   "source": []
  },
  {
   "cell_type": "code",
   "execution_count": null,
   "id": "b9ee8bbb-b18e-40ca-8a0c-e8d05850d95e",
   "metadata": {},
   "outputs": [],
   "source": []
  }
 ],
 "metadata": {
  "kernelspec": {
   "display_name": "Python 3 (ipykernel)",
   "language": "python",
   "name": "python3"
  },
  "language_info": {
   "codemirror_mode": {
    "name": "ipython",
    "version": 3
   },
   "file_extension": ".py",
   "mimetype": "text/x-python",
   "name": "python",
   "nbconvert_exporter": "python",
   "pygments_lexer": "ipython3",
   "version": "3.12.3"
  }
 },
 "nbformat": 4,
 "nbformat_minor": 5
}
