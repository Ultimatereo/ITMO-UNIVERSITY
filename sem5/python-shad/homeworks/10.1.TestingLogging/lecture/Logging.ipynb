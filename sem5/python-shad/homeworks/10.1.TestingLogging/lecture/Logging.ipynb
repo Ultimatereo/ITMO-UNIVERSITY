{
 "cells": [
  {
   "cell_type": "markdown",
   "metadata": {},
   "source": [
    "## Логгирование"
   ]
  },
  {
   "cell_type": "code",
   "execution_count": 1,
   "metadata": {},
   "outputs": [
    {
     "name": "stdout",
     "output_type": "stream",
     "text": [
      "Watch out!\n"
     ]
    }
   ],
   "source": [
    "import sys\n",
    "import logging\n",
    "\n",
    "logger = logging.getLogger(\"my_logger\")\n",
    "\n",
    "stdout_handler = logging.StreamHandler(stream=sys.stdout)\n",
    "stdout_handler.setLevel(logging.INFO)\n",
    "logger.addHandler(stdout_handler)\n",
    "\n",
    "logger.warning('Watch out!')"
   ]
  },
  {
   "cell_type": "markdown",
   "metadata": {},
   "source": [
    "### Логгирование и его уровни\n",
    "\n",
    "Логгировать можно при помощи следующих методов:\n",
    "1. `logger.debug()`\n",
    "2. `logger.info()`\n",
    "3. `logger.warning()`\n",
    "4. `logger.error()`\n",
    "5. `logger.critical()`\n",
    "6. `logger.exception()`\n",
    "\n",
    "\n",
    "С самого маленького до самого большого\n",
    "\n",
    "|Уровень | Когда используется|\n",
    "|:------ |:------------------|\n",
    "|`DEBUG`|Для диагностической информации|\n",
    "|`INFO`|Для подтверждения того, что всё работает как запланировано|\n",
    "|`WARNING`|Когда нужно предупредить что вскоре возможна поломка или программа используется не совсем так как нужно|\n",
    "|`ERROR`|Для логгирования серъёзных ошибок, из-за которых программа теряет часть функциональности|\n",
    "|`CRITICAL`|Для логгирования ошибок, после которых программа не может продолжать работу|\n",
    "\n",
    "Стандартный уровень логгирования - `WARNING`"
   ]
  },
  {
   "cell_type": "code",
   "execution_count": 2,
   "metadata": {},
   "outputs": [
    {
     "name": "stdout",
     "output_type": "stream",
     "text": [
      "Will be printed\n"
     ]
    }
   ],
   "source": [
    "logger.info('Will not be printed')\n",
    "logger.warning('Will be printed')"
   ]
  },
  {
   "cell_type": "markdown",
   "metadata": {},
   "source": [
    "Поменяем уровень логгирования:"
   ]
  },
  {
   "cell_type": "code",
   "execution_count": 3,
   "metadata": {},
   "outputs": [
    {
     "name": "stdout",
     "output_type": "stream",
     "text": [
      "Info\n",
      "Warning\n"
     ]
    }
   ],
   "source": [
    "logger.setLevel(logging.INFO)\n",
    "logger.info('Info')\n",
    "logger.warning('Warning')\n",
    "logger.setLevel(logging.WARNING)"
   ]
  },
  {
   "cell_type": "code",
   "execution_count": 4,
   "metadata": {},
   "outputs": [
    {
     "name": "stdout",
     "output_type": "stream",
     "text": [
      "Will be printed\n"
     ]
    }
   ],
   "source": [
    "logger.log(logging.WARNING, 'Will be printed')"
   ]
  },
  {
   "cell_type": "markdown",
   "metadata": {},
   "source": [
    "logging.exception немножко особенный - он добавляет информацию о последнем исключении и traceback"
   ]
  },
  {
   "cell_type": "code",
   "execution_count": 9,
   "metadata": {},
   "outputs": [
    {
     "name": "stdout",
     "output_type": "stream",
     "text": [
      "Cought error:\n",
      "Traceback (most recent call last):\n",
      "  File \"/var/folders/yd/025r5hf105g2qqkqfnlkhj35sm08q0/T/ipykernel_20173/2619711710.py\", line 2, in <module>\n",
      "    1 / 0\n",
      "    ~~^~~\n",
      "ZeroDivisionError: division by zero\n"
     ]
    }
   ],
   "source": [
    "try:\n",
    "    1 / 0\n",
    "except:\n",
    "    logger.exception(\"Cought error:\")"
   ]
  },
  {
   "cell_type": "markdown",
   "metadata": {},
   "source": [
    "### Логгирование в файл и хэндлеры"
   ]
  },
  {
   "cell_type": "markdown",
   "metadata": {},
   "source": [
    "Научимся логгировать в файл"
   ]
  },
  {
   "cell_type": "code",
   "execution_count": 11,
   "metadata": {},
   "outputs": [],
   "source": [
    "fh = logging.FileHandler('debug.log')\n",
    "fh.setLevel(logging.DEBUG)  # Выставляем уровень сообщений, которые будут логгироваться в файл.\n",
    "logger.addHandler(fh)"
   ]
  },
  {
   "cell_type": "code",
   "execution_count": 12,
   "metadata": {},
   "outputs": [
    {
     "name": "stdout",
     "output_type": "stream",
     "text": [
      "debug.log contents:\n",
      "Debug message\n",
      "\n"
     ]
    }
   ],
   "source": [
    "logger.setLevel(logging.DEBUG)\n",
    "logger.debug(\"Debug message\")  # Не попадет в stdout, зато попадет в файл\n",
    "print(\"debug.log contents:\")\n",
    "\n",
    "with open(\"debug.log\") as f:\n",
    "    for l in f.readlines():\n",
    "        print(l)"
   ]
  },
  {
   "cell_type": "markdown",
   "metadata": {},
   "source": [
    "Другие полезные хендлеры из библиотеки `logging`:\n",
    "\n",
    "* `StreamHandler` - используется для логгирования в `stderr` и `stdout`\n",
    "* `RotatingFileHandler` - Работает как файл хендлер, но при этом если файл, в который пишет логгер, достигнет определенного размера, начнет писать в новый файл. Старый файл либо удалит, либо оставит как бекап. Число бэкапов настраивается. \n",
    "* `TimedRotatingFileHandler` - Работает как логгер выше, но файлы делятся не по размеру, а по времени записей\n",
    "* `NullHandler` - Используется чтобы заглушить какой-нибудь логгер"
   ]
  },
  {
   "cell_type": "markdown",
   "metadata": {},
   "source": [
    "### Фильтрация\n",
    "\n",
    "На логгеры и хендлеры можно вешать дополнительные фильтры"
   ]
  },
  {
   "cell_type": "code",
   "execution_count": 13,
   "metadata": {},
   "outputs": [
    {
     "name": "stdout",
     "output_type": "stream",
     "text": [
      "Important warning\n"
     ]
    }
   ],
   "source": [
    "class OnlyImportantFilter(logging.Filter):\n",
    "    def filter(self, record):\n",
    "        return not record.getMessage().startswith('Not important')\n",
    "\n",
    "logger.addFilter(OnlyImportantFilter())\n",
    "logger.warning(\"Not important warning\")\n",
    "logger.warning(\"Important warning\")"
   ]
  },
  {
   "cell_type": "markdown",
   "metadata": {},
   "source": [
    "### Форматирование"
   ]
  },
  {
   "cell_type": "markdown",
   "metadata": {},
   "source": [
    "Для хендлера можно выставить формат при помощи метода `setFormatter`"
   ]
  },
  {
   "cell_type": "code",
   "execution_count": 14,
   "metadata": {},
   "outputs": [
    {
     "name": "stderr",
     "output_type": "stream",
     "text": [
      "2023-11-14 18:48:24,739 - format_example - DEBUG - debug message\n",
      "2023-11-14 18:48:24,741 - format_example - INFO - info message\n",
      "2023-11-14 18:48:24,741 - format_example - WARNING - warn message\n",
      "2023-11-14 18:48:24,742 - format_example - ERROR - error message\n",
      "2023-11-14 18:48:24,742 - format_example - CRITICAL - critical message\n"
     ]
    }
   ],
   "source": [
    "format_example_logger = logging.getLogger('format_example')\n",
    "format_example_logger.setLevel(logging.DEBUG)\n",
    "\n",
    "ch = logging.StreamHandler()\n",
    "ch.setLevel(logging.DEBUG)\n",
    "\n",
    "formatter = logging.Formatter('%(asctime)s - %(name)s - %(levelname)s - %(message)s')\n",
    "\n",
    "ch.setFormatter(formatter)\n",
    "format_example_logger.addHandler(ch)\n",
    "\n",
    "format_example_logger.debug('debug message')\n",
    "format_example_logger.info('info message')\n",
    "format_example_logger.warning('warn message')\n",
    "format_example_logger.error('error message')\n",
    "format_example_logger.critical('critical message')"
   ]
  },
  {
   "cell_type": "markdown",
   "metadata": {},
   "source": [
    "`Formatter` принимает три аргумента: `fmt`, `datefmt`, `style`.\n",
    "\n",
    "`fmt` - это шаблон записи. Если в `style` стоит %, форматирование произойдет при помощи %. Если `style` равен {, форматирование будет произведено через `.format()`. В `fmt` можно добавить любые атрибуты класса [`LogRecord`](https://docs.python.org/3/library/logging.html#logrecord-attributes)\n",
    "\n",
    "`datefmt` - шаблон для форматирования дат, по дефолту `%Y-%m-%d %H:%M:%S`"
   ]
  },
  {
   "cell_type": "markdown",
   "metadata": {},
   "source": [
    "### Дерево логгеров"
   ]
  },
  {
   "cell_type": "markdown",
   "metadata": {},
   "source": [
    "Когда вы создаете логгер, он добавляется в дерево логгеров. Путь логгера в дереве определяется по его имени. Если логгер назван `a.b.c`, то он станет дочерним логгером логгера `b`, который в свою очередь является дочерним логгером логгера `a`. `a` будет дочерним логгером корневого логгера, который всегда есть по умолчанию\n",
    "\n",
    "Если вы создаете логгер и никак его не настраиваете - он будет наследовать настройки родителя. \n",
    "\n",
    "Если вы создаете логгер для какого-то модуля, то удобно будет назвать его по имени этого модуля:\n",
    "```Python\n",
    "logger = logging.getLogger(__name__)\n",
    "```\n",
    "В этом случае иерархия модулей будет совпадать с иерархией логгеров и будет интуитивно понятно откуда пришло то или иноее сообщение. Так же можно будет легко сконфигурировать логгирование в `__init__` файле."
   ]
  },
  {
   "cell_type": "markdown",
   "metadata": {},
   "source": [
    "### Всё вместе\n",
    "\n",
    "<img src=\"logging_flow.png\">"
   ]
  },
  {
   "cell_type": "markdown",
   "metadata": {},
   "source": [
    "### Оптимизация логгирования\n",
    "\n",
    "Если в сообщение при логгировании нужно добавить результаты каких-то тяжелых функций, лучше делать это так:"
   ]
  },
  {
   "cell_type": "code",
   "execution_count": null,
   "metadata": {},
   "outputs": [],
   "source": [
    "def expensive_func1():\n",
    "    pass\n",
    "\n",
    "if logger.isEnabledFor(logging.DEBUG):\n",
    "    logger.debug('Message with %s', expensive_func1())"
   ]
  },
  {
   "cell_type": "markdown",
   "metadata": {},
   "source": [
    "Во-первых, мы защищаемся от вычисления функции в том случае, если логгирование отключено. Во-вторых, мы не форматируем строку при каждом вызове логгера - он отформатирует её сам в том случае, если она не будет отфильтрована."
   ]
  }
 ],
 "metadata": {
  "kernelspec": {
   "display_name": "Python 3 (ipykernel)",
   "language": "python",
   "name": "python3"
  },
  "language_info": {
   "codemirror_mode": {
    "name": "ipython",
    "version": 3
   },
   "file_extension": ".py",
   "mimetype": "text/x-python",
   "name": "python",
   "nbconvert_exporter": "python",
   "pygments_lexer": "ipython3",
   "version": "3.11.5"
  }
 },
 "nbformat": 4,
 "nbformat_minor": 4
}
