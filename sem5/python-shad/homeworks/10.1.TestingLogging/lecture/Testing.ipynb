{
 "cells": [
  {
   "attachments": {},
   "cell_type": "markdown",
   "metadata": {},
   "source": [
    "# Тестирование и python\n",
    "\n",
    "В этой лекции мы познакомимся тестированием на `python`, реализовав небольшую кату по TDD (test-driven developement).\n",
    "\n",
    "## TDD и каты\n",
    "\n",
    "TDD — test-driven developement или разработка через тестирование.\n",
    "\n",
    "**Три правила TDD**:\n",
    "\n",
    " - Продакшн-код можно писать только для починки падающего теста.\n",
    " - В тесте нужно писать ровно столько кода, сколько необходимо, чтобы он упал. Ошибки компиляции считаются падениями теста.\n",
    " - В продакшн можно написать ровно столько кода, сколько требуется для починки одного падающего теста.\n",
    "\n",
    "\n",
    "Получается следйющий пайплайн: пишем падающий тест, пишем код, чтобы тест не падал, рефакторим код так, чтобы тесты не падали. Повторяем до сходимости.\n",
    "\n",
    "Есть пара книжек по теме:\n",
    "\n",
    "1. [Test Driven Development: By Example 1st Edition](https://www.eecs.yorku.ca/course_archive/2003-04/W/3311/sectionM/case_studies/money/KentBeck_TDD_byexample.pdf)\n",
    "2. [On Growing Object Oriented Software, Guided by Tests](https://www.amazon.com/Growing-Object-Oriented-Software-Guided-Tests/dp/0321503627)\n",
    "\n",
    "К прочтению рекомендуется вторая, т.к. она более приближена к разработческим реалиям.\n",
    "\n",
    "### Каты\n",
    "\n",
    "Каты — упражнения по программированию, помогающие отточить навыки путем многократного повторнения. Концепция взята из японских боевых искусств. Подробнее про них можно почитать в книжке [The Pragmatic Programmer](https://pragprog.com/titles/tpp20/the-pragmatic-programmer-20th-anniversary-edition/)\n",
    "\n",
    "\n",
    "\n",
    "**Ката Greeter**\n",
    "\n",
    "Эту кату надо выполнять строго по пунктам, не заглядывая вперёд.\n",
    "\n",
    "- Создайте класс `Greeter`, у которого есть метод `greet` принимающий на вход имя и возвращающий \"Hello <имя>\"."
   ]
  },
  {
   "cell_type": "markdown",
   "metadata": {},
   "source": [
    "## 1. Первый тест\n",
    "\n",
    "Для автоматизированного тестирования написано много фреймворков на разных языках. Короткий список для python:\n",
    "\n",
    "* [unittest](https://docs.python.org/3/library/unittest.html)\n",
    "* [nose2](https://docs.nose2.io/en/latest/)\n",
    "* [pytest](https://docs.pytest.org/en/latest/)\n",
    "\n",
    "В рамках лекции мы остановимся на `pytest`."
   ]
  },
  {
   "cell_type": "code",
   "execution_count": 1,
   "metadata": {},
   "outputs": [],
   "source": [
    "# Настраиваем ноутбук\n",
    "import pytest\n",
    "import ipytest\n",
    "ipytest.autoconfig()"
   ]
  },
  {
   "cell_type": "markdown",
   "metadata": {},
   "source": [
    "#### Как pytest находит тесты\n",
    "\n",
    "1. Рекурсивно находит все python-файлы в текущей директории\n",
    "2. Оставляет только файлы вида `test_*.py` и `*_test.py`\n",
    "3. В этих файлах:\n",
    "    1. Находит все функции с префиксом `test`\n",
    "    2. Находит все методы с префиксом `test` внутри классов с префиксом `Test`. У классов не должно быть метода `__init__`\n",
    "  \n",
    "Поведение можно модифицировать. [Подробнее в документации](https://docs.pytest.org/en/stable/goodpractices.html#test-discovery).\n",
    "\n",
    "Напишем минимальный тест:"
   ]
  },
  {
   "cell_type": "code",
   "execution_count": 2,
   "metadata": {},
   "outputs": [
    {
     "name": "stdout",
     "output_type": "stream",
     "text": [
      "\u001b[31mF\u001b[0m\u001b[31m                                                                                            [100%]\u001b[0m\n",
      "============================================= FAILURES =============================================\n",
      "\u001b[31m\u001b[1m___________________________________________ test_greeter ___________________________________________\u001b[0m\n",
      "\n",
      "    \u001b[94mdef\u001b[39;49;00m \u001b[92mtest_greeter\u001b[39;49;00m():\u001b[90m\u001b[39;49;00m\n",
      ">       Greeter()\u001b[90m\u001b[39;49;00m\n",
      "\u001b[1m\u001b[31mE       NameError: name 'Greeter' is not defined\u001b[0m\n",
      "\n",
      "\u001b[1m\u001b[31m/var/folders/yd/025r5hf105g2qqkqfnlkhj35sm08q0/T/ipykernel_16706/896734415.py\u001b[0m:2: NameError\n",
      "\u001b[36m\u001b[1m===================================== short test summary info ======================================\u001b[0m\n",
      "\u001b[31mFAILED\u001b[0m t_3c50d0964c5f42a08735cd1a2e28de90.py::\u001b[1mtest_greeter\u001b[0m - NameError: name 'Greeter' is not defined\n",
      "\u001b[31m\u001b[31m\u001b[1m1 failed\u001b[0m\u001b[31m in 0.06s\u001b[0m\u001b[0m\n"
     ]
    }
   ],
   "source": [
    "%%ipytest\n",
    "\n",
    "def test_greeter():\n",
    "    Greeter()"
   ]
  },
  {
   "cell_type": "markdown",
   "metadata": {},
   "source": [
    "`pytest` выводит отчет, в котором можно посмотреть сколько у нас всего тестов, какие из них упали и по какой причине. \n",
    "\n",
    "Теперь сделаем так, чтобы тест проходил:"
   ]
  },
  {
   "cell_type": "code",
   "execution_count": 3,
   "metadata": {},
   "outputs": [],
   "source": [
    "class Greeter:\n",
    "    pass"
   ]
  },
  {
   "cell_type": "code",
   "execution_count": 4,
   "metadata": {},
   "outputs": [
    {
     "name": "stdout",
     "output_type": "stream",
     "text": [
      "\u001b[32m.\u001b[0m\u001b[32m                                                                                            [100%]\u001b[0m\n",
      "\u001b[32m\u001b[32m\u001b[1m1 passed\u001b[0m\u001b[32m in 0.01s\u001b[0m\u001b[0m\n"
     ]
    }
   ],
   "source": [
    "%%ipytest\n",
    "\n",
    "def test_greeter():\n",
    "    Greeter()"
   ]
  },
  {
   "cell_type": "markdown",
   "metadata": {},
   "source": [
    "Еще одна итерация TDD:"
   ]
  },
  {
   "cell_type": "code",
   "execution_count": 5,
   "metadata": {},
   "outputs": [
    {
     "name": "stdout",
     "output_type": "stream",
     "text": [
      "\u001b[31mF\u001b[0m\u001b[31m                                                                                            [100%]\u001b[0m\n",
      "============================================= FAILURES =============================================\n",
      "\u001b[31m\u001b[1m___________________________________________ test_greeter ___________________________________________\u001b[0m\n",
      "\n",
      "    \u001b[94mdef\u001b[39;49;00m \u001b[92mtest_greeter\u001b[39;49;00m():\u001b[90m\u001b[39;49;00m\n",
      ">       Greeter().greet(\u001b[33m\"\u001b[39;49;00m\u001b[33mMike\u001b[39;49;00m\u001b[33m\"\u001b[39;49;00m)\u001b[90m\u001b[39;49;00m\n",
      "\u001b[1m\u001b[31mE       AttributeError: 'Greeter' object has no attribute 'greet'\u001b[0m\n",
      "\n",
      "\u001b[1m\u001b[31m/var/folders/yd/025r5hf105g2qqkqfnlkhj35sm08q0/T/ipykernel_16706/2409606644.py\u001b[0m:2: AttributeError\n",
      "\u001b[36m\u001b[1m===================================== short test summary info ======================================\u001b[0m\n",
      "\u001b[31mFAILED\u001b[0m t_3c50d0964c5f42a08735cd1a2e28de90.py::\u001b[1mtest_greeter\u001b[0m - AttributeError: 'Greeter' object has no attribute 'greet'\n",
      "\u001b[31m\u001b[31m\u001b[1m1 failed\u001b[0m\u001b[31m in 0.01s\u001b[0m\u001b[0m\n"
     ]
    }
   ],
   "source": [
    "%%ipytest\n",
    "\n",
    "def test_greeter():\n",
    "    Greeter().greet(\"Mike\")"
   ]
  },
  {
   "cell_type": "code",
   "execution_count": 6,
   "metadata": {},
   "outputs": [],
   "source": [
    "class Greeter:\n",
    "    def greet(self, name):\n",
    "        return \"\""
   ]
  },
  {
   "cell_type": "code",
   "execution_count": 7,
   "metadata": {},
   "outputs": [
    {
     "name": "stdout",
     "output_type": "stream",
     "text": [
      "\u001b[32m.\u001b[0m\u001b[32m                                                                                            [100%]\u001b[0m\n",
      "\u001b[32m\u001b[32m\u001b[1m1 passed\u001b[0m\u001b[32m in 0.01s\u001b[0m\u001b[0m\n"
     ]
    }
   ],
   "source": [
    "%%ipytest\n",
    "\n",
    "def test_greeter():\n",
    "    Greeter().greet(\"Mike\")"
   ]
  },
  {
   "cell_type": "markdown",
   "metadata": {},
   "source": [
    "Теперь наконец-то напишем нормальный тест, воспользовавшись основной фишкой `Pytest`: `assert`. `Pytest` находит все вызовы `assert` в коде тестов, а затем переписывает этот код так, чтобы в случае падения пользователь мог получить удобный дифф и трейсбек.\n",
    "\n",
    "[Демки разных ассертов](https://docs.pytest.org/en/stable/example/reportingdemo.html#tbreportdemo)."
   ]
  },
  {
   "cell_type": "code",
   "execution_count": 8,
   "metadata": {},
   "outputs": [
    {
     "name": "stdout",
     "output_type": "stream",
     "text": [
      "\u001b[31mF\u001b[0m\u001b[31m                                                                                            [100%]\u001b[0m\n",
      "============================================= FAILURES =============================================\n",
      "\u001b[31m\u001b[1m___________________________________________ test_greeter ___________________________________________\u001b[0m\n",
      "\n",
      "    \u001b[94mdef\u001b[39;49;00m \u001b[92mtest_greeter\u001b[39;49;00m():\u001b[90m\u001b[39;49;00m\n",
      ">       \u001b[94massert\u001b[39;49;00m Greeter().greet(\u001b[33m\"\u001b[39;49;00m\u001b[33mMike\u001b[39;49;00m\u001b[33m\"\u001b[39;49;00m) == \u001b[33m\"\u001b[39;49;00m\u001b[33mHello Mike\u001b[39;49;00m\u001b[33m\"\u001b[39;49;00m\u001b[90m\u001b[39;49;00m\n",
      "\u001b[1m\u001b[31mE       AssertionError: assert '' == 'Hello Mike'\u001b[0m\n",
      "\u001b[1m\u001b[31mE         - Hello Mike\u001b[0m\n",
      "\n",
      "\u001b[1m\u001b[31m/var/folders/yd/025r5hf105g2qqkqfnlkhj35sm08q0/T/ipykernel_16706/1592567342.py\u001b[0m:2: AssertionError\n",
      "\u001b[36m\u001b[1m===================================== short test summary info ======================================\u001b[0m\n",
      "\u001b[31mFAILED\u001b[0m t_3c50d0964c5f42a08735cd1a2e28de90.py::\u001b[1mtest_greeter\u001b[0m - AssertionError: assert '' == 'Hello Mike'\n",
      "\u001b[31m\u001b[31m\u001b[1m1 failed\u001b[0m\u001b[31m in 0.01s\u001b[0m\u001b[0m\n"
     ]
    }
   ],
   "source": [
    "%%ipytest\n",
    "\n",
    "def test_greeter():\n",
    "    assert Greeter().greet(\"Mike\") == \"Hello Mike\""
   ]
  },
  {
   "cell_type": "markdown",
   "metadata": {},
   "source": [
    "Починим тест:"
   ]
  },
  {
   "cell_type": "code",
   "execution_count": 9,
   "metadata": {},
   "outputs": [],
   "source": [
    "class Greeter:\n",
    "    def greet(self, name):\n",
    "        return \"Hello Mike\""
   ]
  },
  {
   "cell_type": "code",
   "execution_count": 10,
   "metadata": {},
   "outputs": [
    {
     "name": "stdout",
     "output_type": "stream",
     "text": [
      "\u001b[32m.\u001b[0m\u001b[32m                                                                                            [100%]\u001b[0m\n",
      "\u001b[32m\u001b[32m\u001b[1m1 passed\u001b[0m\u001b[32m in 0.01s\u001b[0m\u001b[0m\n"
     ]
    }
   ],
   "source": [
    "%%ipytest\n",
    "\n",
    "def test_greeter():\n",
    "    assert Greeter().greet(\"Mike\") == \"Hello Mike\""
   ]
  },
  {
   "cell_type": "markdown",
   "metadata": {},
   "source": [
    "## 2. Параметризация"
   ]
  },
  {
   "cell_type": "markdown",
   "metadata": {},
   "source": [
    "Наша реализация представляет собой немного не то, что мы хотели. Стоит добавить больше разных тестов.\n",
    "Чтобы не копировать один и тот же тест, можно воспользоваться параметризацией:"
   ]
  },
  {
   "cell_type": "code",
   "execution_count": 11,
   "metadata": {},
   "outputs": [
    {
     "name": "stdout",
     "output_type": "stream",
     "text": [
      "\u001b[32m.\u001b[0m\u001b[31mF\u001b[0m\u001b[31mF\u001b[0m\u001b[31m                                                                                          [100%]\u001b[0m\n",
      "============================================= FAILURES =============================================\n",
      "\u001b[31m\u001b[1m__________________________________ test_greeter[John-Hello John] ___________________________________\u001b[0m\n",
      "\n",
      "name = 'John', greeting = 'Hello John'\n",
      "\n",
      "    \u001b[37m@pytest\u001b[39;49;00m.mark.parametrize(\u001b[33m\"\u001b[39;49;00m\u001b[33mname, greeting\u001b[39;49;00m\u001b[33m\"\u001b[39;49;00m, test_cases)\u001b[90m\u001b[39;49;00m\n",
      "    \u001b[94mdef\u001b[39;49;00m \u001b[92mtest_greeter\u001b[39;49;00m(name, greeting):\u001b[90m\u001b[39;49;00m\n",
      ">       \u001b[94massert\u001b[39;49;00m Greeter().greet(name) == greeting\u001b[90m\u001b[39;49;00m\n",
      "\u001b[1m\u001b[31mE       AssertionError: assert 'Hello Mike' == 'Hello John'\u001b[0m\n",
      "\u001b[1m\u001b[31mE         - Hello John\u001b[0m\n",
      "\u001b[1m\u001b[31mE         + Hello Mike\u001b[0m\n",
      "\n",
      "\u001b[1m\u001b[31m/var/folders/yd/025r5hf105g2qqkqfnlkhj35sm08q0/T/ipykernel_16706/2110350598.py\u001b[0m:5: AssertionError\n",
      "\u001b[31m\u001b[1m__________________________________ test_greeter[Greg-Hello Greg] ___________________________________\u001b[0m\n",
      "\n",
      "name = 'Greg', greeting = 'Hello Greg'\n",
      "\n",
      "    \u001b[37m@pytest\u001b[39;49;00m.mark.parametrize(\u001b[33m\"\u001b[39;49;00m\u001b[33mname, greeting\u001b[39;49;00m\u001b[33m\"\u001b[39;49;00m, test_cases)\u001b[90m\u001b[39;49;00m\n",
      "    \u001b[94mdef\u001b[39;49;00m \u001b[92mtest_greeter\u001b[39;49;00m(name, greeting):\u001b[90m\u001b[39;49;00m\n",
      ">       \u001b[94massert\u001b[39;49;00m Greeter().greet(name) == greeting\u001b[90m\u001b[39;49;00m\n",
      "\u001b[1m\u001b[31mE       AssertionError: assert 'Hello Mike' == 'Hello Greg'\u001b[0m\n",
      "\u001b[1m\u001b[31mE         - Hello Greg\u001b[0m\n",
      "\u001b[1m\u001b[31mE         + Hello Mike\u001b[0m\n",
      "\n",
      "\u001b[1m\u001b[31m/var/folders/yd/025r5hf105g2qqkqfnlkhj35sm08q0/T/ipykernel_16706/2110350598.py\u001b[0m:5: AssertionError\n",
      "\u001b[36m\u001b[1m===================================== short test summary info ======================================\u001b[0m\n",
      "\u001b[31mFAILED\u001b[0m t_3c50d0964c5f42a08735cd1a2e28de90.py::\u001b[1mtest_greeter[John-Hello John]\u001b[0m - AssertionError: assert 'Hello Mike' == 'Hello John'\n",
      "\u001b[31mFAILED\u001b[0m t_3c50d0964c5f42a08735cd1a2e28de90.py::\u001b[1mtest_greeter[Greg-Hello Greg]\u001b[0m - AssertionError: assert 'Hello Mike' == 'Hello Greg'\n",
      "\u001b[31m\u001b[31m\u001b[1m2 failed\u001b[0m, \u001b[32m1 passed\u001b[0m\u001b[31m in 0.01s\u001b[0m\u001b[0m\n"
     ]
    }
   ],
   "source": [
    "%%ipytest\n",
    "test_cases = [(\"Mike\", \"Hello Mike\"), (\"John\", \"Hello John\"), (\"Greg\", \"Hello Greg\")]\n",
    "\n",
    "@pytest.mark.parametrize(\"name, greeting\", test_cases)\n",
    "def test_greeter(name, greeting):\n",
    "    assert Greeter().greet(name) == greeting"
   ]
  },
  {
   "cell_type": "markdown",
   "metadata": {},
   "source": [
    "Видим отчеты пайтеста во всей красе. Починим тесты:"
   ]
  },
  {
   "cell_type": "code",
   "execution_count": 12,
   "metadata": {},
   "outputs": [],
   "source": [
    "class Greeter:\n",
    "    def greet(self, name):\n",
    "        return \"Hello \" + name"
   ]
  },
  {
   "cell_type": "code",
   "execution_count": 13,
   "metadata": {},
   "outputs": [
    {
     "name": "stdout",
     "output_type": "stream",
     "text": [
      "\u001b[32m.\u001b[0m\u001b[32m.\u001b[0m\u001b[32m.\u001b[0m\u001b[32m                                                                                          [100%]\u001b[0m\n",
      "\u001b[32m\u001b[32m\u001b[1m3 passed\u001b[0m\u001b[32m in 0.01s\u001b[0m\u001b[0m\n"
     ]
    }
   ],
   "source": [
    "%%ipytest\n",
    "test_cases = [(\"Mike\", \"Hello Mike\"), (\"John\", \"Hello John\"), (\"Greg\", \"Hello Greg\")]\n",
    "\n",
    "@pytest.mark.parametrize(\"name, greeting\", test_cases)\n",
    "def test_greeter(name, greeting):\n",
    "    assert Greeter().greet(name) == greeting"
   ]
  },
  {
   "cell_type": "markdown",
   "metadata": {},
   "source": [
    "Перейдем к следующему пункту нашего задания:\n",
    "\n",
    "- Метод `greet` должен убирать лишние пробелы в начале и в конце имени.\n",
    "\n",
    "Опять же, напишем тест:"
   ]
  },
  {
   "cell_type": "code",
   "execution_count": 14,
   "metadata": {},
   "outputs": [
    {
     "name": "stdout",
     "output_type": "stream",
     "text": [
      "\u001b[32m.\u001b[0m\u001b[32m                                                                                            [100%]\u001b[0m\n",
      "\u001b[32m\u001b[32m\u001b[1m1 passed\u001b[0m\u001b[32m in 0.00s\u001b[0m\u001b[0m\n"
     ]
    }
   ],
   "source": [
    "%%ipytest\n",
    "\n",
    "def test_spaces():\n",
    "    greeting = Greeter().greet(\" Mike\")\n",
    "    assert not greeting.startswith(\" \")"
   ]
  },
  {
   "cell_type": "markdown",
   "metadata": {},
   "source": [
    "Обратим внимание, что тест проходит и возникает соблазн продолжить работу. Однако если посмотреть на тест внимательно, можно увидеть в нем ошибку.\n",
    "\n",
    "\n",
    "Чтобы не наступать на такие грабли, существует **правило** — только что написанный тест должен падать, при чём именно из-за того поведения, которое этот тест должен был покрыть.\n",
    "\n",
    "\n",
    "Вы можете писать тесты на уже существующий код — в таком случае они могут не падать, т.к. код уже работает как надо. Тогда есть два варианта:\n",
    "* Сделать в продовом коде баг чтобы тест упал\n",
    "* Обратить проверяемое условие в тесте\n",
    "\n",
    "Поправим наш тест:"
   ]
  },
  {
   "cell_type": "code",
   "execution_count": 15,
   "metadata": {},
   "outputs": [
    {
     "name": "stdout",
     "output_type": "stream",
     "text": [
      "\u001b[31mF\u001b[0m\u001b[31m                                                                                            [100%]\u001b[0m\n",
      "============================================= FAILURES =============================================\n",
      "\u001b[31m\u001b[1m___________________________________________ test_spaces ____________________________________________\u001b[0m\n",
      "\n",
      "    \u001b[94mdef\u001b[39;49;00m \u001b[92mtest_spaces\u001b[39;49;00m():\u001b[90m\u001b[39;49;00m\n",
      "        greeted_name = Greeter().greet(\u001b[33m\"\u001b[39;49;00m\u001b[33m Mike\u001b[39;49;00m\u001b[33m\"\u001b[39;49;00m).split(\u001b[33m\"\u001b[39;49;00m\u001b[33m \u001b[39;49;00m\u001b[33m\"\u001b[39;49;00m, \u001b[94m1\u001b[39;49;00m)[\u001b[94m1\u001b[39;49;00m]\u001b[90m\u001b[39;49;00m\n",
      ">       \u001b[94massert\u001b[39;49;00m \u001b[95mnot\u001b[39;49;00m greeted_name.startswith(\u001b[33m\"\u001b[39;49;00m\u001b[33m \u001b[39;49;00m\u001b[33m\"\u001b[39;49;00m)\u001b[90m\u001b[39;49;00m\n",
      "\u001b[1m\u001b[31mE       AssertionError: assert not True\u001b[0m\n",
      "\u001b[1m\u001b[31mE        +  where True = <built-in method startswith of str object at 0x10479e1f0>(' ')\u001b[0m\n",
      "\u001b[1m\u001b[31mE        +    where <built-in method startswith of str object at 0x10479e1f0> = ' Mike'.startswith\u001b[0m\n",
      "\n",
      "\u001b[1m\u001b[31m/var/folders/yd/025r5hf105g2qqkqfnlkhj35sm08q0/T/ipykernel_16706/3072710971.py\u001b[0m:3: AssertionError\n",
      "\u001b[36m\u001b[1m===================================== short test summary info ======================================\u001b[0m\n",
      "\u001b[31mFAILED\u001b[0m t_3c50d0964c5f42a08735cd1a2e28de90.py::\u001b[1mtest_spaces\u001b[0m - AssertionError: assert not True\n",
      "\u001b[31m\u001b[31m\u001b[1m1 failed\u001b[0m\u001b[31m in 0.01s\u001b[0m\u001b[0m\n"
     ]
    }
   ],
   "source": [
    "%%ipytest\n",
    "\n",
    "def test_spaces():\n",
    "    greeted_name = Greeter().greet(\" Mike\").split(\" \", 1)[1]\n",
    "    assert not greeted_name.startswith(\" \")"
   ]
  },
  {
   "cell_type": "markdown",
   "metadata": {},
   "source": [
    "Починим тест"
   ]
  },
  {
   "cell_type": "code",
   "execution_count": 16,
   "metadata": {},
   "outputs": [],
   "source": [
    "class Greeter:\n",
    "    def greet(self, name):\n",
    "        if name.startswith(\" \"):\n",
    "            name = name[1:] \n",
    "        return \"Hello \" + name"
   ]
  },
  {
   "cell_type": "code",
   "execution_count": 17,
   "metadata": {},
   "outputs": [
    {
     "name": "stdout",
     "output_type": "stream",
     "text": [
      "\u001b[32m.\u001b[0m\u001b[32m                                                                                            [100%]\u001b[0m\n",
      "\u001b[32m\u001b[32m\u001b[1m1 passed\u001b[0m\u001b[32m in 0.00s\u001b[0m\u001b[0m\n"
     ]
    }
   ],
   "source": [
    "%%ipytest\n",
    "\n",
    "def test_spaces():\n",
    "    greeted_name = Greeter().greet(\" Mike\").split(\" \", 1)[1]\n",
    "    assert not greeted_name.startswith(\" \")"
   ]
  },
  {
   "cell_type": "markdown",
   "metadata": {},
   "source": [
    "Перечитаем наше задание:\n",
    "* Метод greet должен убирать лишние пробелы в начале и **в конце имени**\n",
    "\n",
    "Видимо, нам нужно расширить тест:"
   ]
  },
  {
   "cell_type": "code",
   "execution_count": 18,
   "metadata": {},
   "outputs": [
    {
     "name": "stdout",
     "output_type": "stream",
     "text": [
      "\u001b[31mF\u001b[0m\u001b[31m                                                                                            [100%]\u001b[0m\n",
      "============================================= FAILURES =============================================\n",
      "\u001b[31m\u001b[1m___________________________________________ test_spaces ____________________________________________\u001b[0m\n",
      "\n",
      "    \u001b[94mdef\u001b[39;49;00m \u001b[92mtest_spaces\u001b[39;49;00m():\u001b[90m\u001b[39;49;00m\n",
      "        greeted_name = Greeter().greet(\u001b[33m\"\u001b[39;49;00m\u001b[33m Mike \u001b[39;49;00m\u001b[33m\"\u001b[39;49;00m).split(\u001b[33m\"\u001b[39;49;00m\u001b[33m \u001b[39;49;00m\u001b[33m\"\u001b[39;49;00m, \u001b[94m1\u001b[39;49;00m)[\u001b[94m1\u001b[39;49;00m]\u001b[90m\u001b[39;49;00m\n",
      ">       \u001b[94massert\u001b[39;49;00m \u001b[95mnot\u001b[39;49;00m greeted_name.startswith(\u001b[33m\"\u001b[39;49;00m\u001b[33m \u001b[39;49;00m\u001b[33m\"\u001b[39;49;00m) \u001b[95mand\u001b[39;49;00m \u001b[95mnot\u001b[39;49;00m greeted_name.endswith(\u001b[33m\"\u001b[39;49;00m\u001b[33m \u001b[39;49;00m\u001b[33m\"\u001b[39;49;00m)\u001b[90m\u001b[39;49;00m\n",
      "\u001b[1m\u001b[31mE       AssertionError: assert (not False and not True)\u001b[0m\n",
      "\u001b[1m\u001b[31mE        +  where False = <built-in method startswith of str object at 0x1047d7af0>(' ')\u001b[0m\n",
      "\u001b[1m\u001b[31mE        +    where <built-in method startswith of str object at 0x1047d7af0> = 'Mike '.startswith\u001b[0m\n",
      "\u001b[1m\u001b[31mE        +  and   True = <built-in method endswith of str object at 0x1047d7af0>(' ')\u001b[0m\n",
      "\u001b[1m\u001b[31mE        +    where <built-in method endswith of str object at 0x1047d7af0> = 'Mike '.endswith\u001b[0m\n",
      "\n",
      "\u001b[1m\u001b[31m/var/folders/yd/025r5hf105g2qqkqfnlkhj35sm08q0/T/ipykernel_16706/70835571.py\u001b[0m:3: AssertionError\n",
      "\u001b[36m\u001b[1m===================================== short test summary info ======================================\u001b[0m\n",
      "\u001b[31mFAILED\u001b[0m t_3c50d0964c5f42a08735cd1a2e28de90.py::\u001b[1mtest_spaces\u001b[0m - AssertionError: assert (not False and not True)\n",
      "\u001b[31m\u001b[31m\u001b[1m1 failed\u001b[0m\u001b[31m in 0.01s\u001b[0m\u001b[0m\n"
     ]
    }
   ],
   "source": [
    "%%ipytest\n",
    "\n",
    "def test_spaces():\n",
    "    greeted_name = Greeter().greet(\" Mike \").split(\" \", 1)[1]\n",
    "    assert not greeted_name.startswith(\" \") and not greeted_name.endswith(\" \")"
   ]
  },
  {
   "cell_type": "markdown",
   "metadata": {},
   "source": [
    "Починим тест:"
   ]
  },
  {
   "cell_type": "code",
   "execution_count": 19,
   "metadata": {},
   "outputs": [],
   "source": [
    "class Greeter:\n",
    "    def greet(self, name):\n",
    "        if name.startswith(\" \"):\n",
    "            name = name[1:]\n",
    "        if name.endswith(\" \"):\n",
    "            name = name[:-1]\n",
    "        return \"Hello \" + name"
   ]
  },
  {
   "cell_type": "code",
   "execution_count": 20,
   "metadata": {},
   "outputs": [
    {
     "name": "stdout",
     "output_type": "stream",
     "text": [
      "\u001b[32m.\u001b[0m\u001b[32m                                                                                            [100%]\u001b[0m\n",
      "\u001b[32m\u001b[32m\u001b[1m1 passed\u001b[0m\u001b[32m in 0.00s\u001b[0m\u001b[0m\n"
     ]
    }
   ],
   "source": [
    "%%ipytest\n",
    "\n",
    "def test_spaces():\n",
    "    greeted_name = Greeter().greet(\" Mike \").split(\" \", 1)[1]\n",
    "    assert not greeted_name.startswith(\" \") and not greeted_name.endswith(\" \")"
   ]
  },
  {
   "cell_type": "markdown",
   "metadata": {},
   "source": [
    "Наш тест все еще недостаточно хорош. Хороший набор тестов должен покрывать разные граничные условия и заходить во все ветки исполнения кода. Параметризуем наш тест так, чтобы покрыть как можно ветвей исполнения кода:"
   ]
  },
  {
   "cell_type": "code",
   "execution_count": 21,
   "metadata": {},
   "outputs": [
    {
     "name": "stdout",
     "output_type": "stream",
     "text": [
      "\u001b[32m.\u001b[0m\u001b[32m.\u001b[0m\u001b[32m.\u001b[0m\u001b[32m.\u001b[0m\u001b[31mF\u001b[0m\u001b[31mF\u001b[0m\u001b[31m                                                                                       [100%]\u001b[0m\n",
      "============================================= FAILURES =============================================\n",
      "\u001b[31m\u001b[1m_______________________________________ test_spaces[  Mike] ________________________________________\u001b[0m\n",
      "\n",
      "name = '  Mike'\n",
      "\n",
      "    \u001b[37m@pytest\u001b[39;49;00m.mark.parametrize(\u001b[33m\"\u001b[39;49;00m\u001b[33mname\u001b[39;49;00m\u001b[33m\"\u001b[39;49;00m, [\u001b[33m\"\u001b[39;49;00m\u001b[33mMike\u001b[39;49;00m\u001b[33m\"\u001b[39;49;00m, \u001b[33m\"\u001b[39;49;00m\u001b[33m Mike\u001b[39;49;00m\u001b[33m\"\u001b[39;49;00m, \u001b[33m\"\u001b[39;49;00m\u001b[33mMike \u001b[39;49;00m\u001b[33m\"\u001b[39;49;00m, \u001b[33m\"\u001b[39;49;00m\u001b[33m Mike \u001b[39;49;00m\u001b[33m\"\u001b[39;49;00m, \u001b[33m\"\u001b[39;49;00m\u001b[33m  Mike\u001b[39;49;00m\u001b[33m\"\u001b[39;49;00m, \u001b[33m\"\u001b[39;49;00m\u001b[33m  Mike  \u001b[39;49;00m\u001b[33m\"\u001b[39;49;00m])\u001b[90m\u001b[39;49;00m\n",
      "    \u001b[94mdef\u001b[39;49;00m \u001b[92mtest_spaces\u001b[39;49;00m(name):\u001b[90m\u001b[39;49;00m\n",
      "        greeted_name = Greeter().greet(name).split(\u001b[33m\"\u001b[39;49;00m\u001b[33m \u001b[39;49;00m\u001b[33m\"\u001b[39;49;00m, \u001b[94m1\u001b[39;49;00m)[\u001b[94m1\u001b[39;49;00m]\u001b[90m\u001b[39;49;00m\n",
      ">       \u001b[94massert\u001b[39;49;00m \u001b[95mnot\u001b[39;49;00m greeted_name.startswith(\u001b[33m\"\u001b[39;49;00m\u001b[33m \u001b[39;49;00m\u001b[33m\"\u001b[39;49;00m) \u001b[95mand\u001b[39;49;00m \u001b[95mnot\u001b[39;49;00m greeted_name.endswith(\u001b[33m\"\u001b[39;49;00m\u001b[33m \u001b[39;49;00m\u001b[33m\"\u001b[39;49;00m)\u001b[90m\u001b[39;49;00m\n",
      "\u001b[1m\u001b[31mE       AssertionError: assert (not True)\u001b[0m\n",
      "\u001b[1m\u001b[31mE        +  where True = <built-in method startswith of str object at 0x104833970>(' ')\u001b[0m\n",
      "\u001b[1m\u001b[31mE        +    where <built-in method startswith of str object at 0x104833970> = ' Mike'.startswith\u001b[0m\n",
      "\n",
      "\u001b[1m\u001b[31m/var/folders/yd/025r5hf105g2qqkqfnlkhj35sm08q0/T/ipykernel_16706/2234036477.py\u001b[0m:4: AssertionError\n",
      "\u001b[31m\u001b[1m______________________________________ test_spaces[  Mike  ] _______________________________________\u001b[0m\n",
      "\n",
      "name = '  Mike  '\n",
      "\n",
      "    \u001b[37m@pytest\u001b[39;49;00m.mark.parametrize(\u001b[33m\"\u001b[39;49;00m\u001b[33mname\u001b[39;49;00m\u001b[33m\"\u001b[39;49;00m, [\u001b[33m\"\u001b[39;49;00m\u001b[33mMike\u001b[39;49;00m\u001b[33m\"\u001b[39;49;00m, \u001b[33m\"\u001b[39;49;00m\u001b[33m Mike\u001b[39;49;00m\u001b[33m\"\u001b[39;49;00m, \u001b[33m\"\u001b[39;49;00m\u001b[33mMike \u001b[39;49;00m\u001b[33m\"\u001b[39;49;00m, \u001b[33m\"\u001b[39;49;00m\u001b[33m Mike \u001b[39;49;00m\u001b[33m\"\u001b[39;49;00m, \u001b[33m\"\u001b[39;49;00m\u001b[33m  Mike\u001b[39;49;00m\u001b[33m\"\u001b[39;49;00m, \u001b[33m\"\u001b[39;49;00m\u001b[33m  Mike  \u001b[39;49;00m\u001b[33m\"\u001b[39;49;00m])\u001b[90m\u001b[39;49;00m\n",
      "    \u001b[94mdef\u001b[39;49;00m \u001b[92mtest_spaces\u001b[39;49;00m(name):\u001b[90m\u001b[39;49;00m\n",
      "        greeted_name = Greeter().greet(name).split(\u001b[33m\"\u001b[39;49;00m\u001b[33m \u001b[39;49;00m\u001b[33m\"\u001b[39;49;00m, \u001b[94m1\u001b[39;49;00m)[\u001b[94m1\u001b[39;49;00m]\u001b[90m\u001b[39;49;00m\n",
      ">       \u001b[94massert\u001b[39;49;00m \u001b[95mnot\u001b[39;49;00m greeted_name.startswith(\u001b[33m\"\u001b[39;49;00m\u001b[33m \u001b[39;49;00m\u001b[33m\"\u001b[39;49;00m) \u001b[95mand\u001b[39;49;00m \u001b[95mnot\u001b[39;49;00m greeted_name.endswith(\u001b[33m\"\u001b[39;49;00m\u001b[33m \u001b[39;49;00m\u001b[33m\"\u001b[39;49;00m)\u001b[90m\u001b[39;49;00m\n",
      "\u001b[1m\u001b[31mE       AssertionError: assert (not True)\u001b[0m\n",
      "\u001b[1m\u001b[31mE        +  where True = <built-in method startswith of str object at 0x104864af0>(' ')\u001b[0m\n",
      "\u001b[1m\u001b[31mE        +    where <built-in method startswith of str object at 0x104864af0> = ' Mike '.startswith\u001b[0m\n",
      "\n",
      "\u001b[1m\u001b[31m/var/folders/yd/025r5hf105g2qqkqfnlkhj35sm08q0/T/ipykernel_16706/2234036477.py\u001b[0m:4: AssertionError\n",
      "\u001b[36m\u001b[1m===================================== short test summary info ======================================\u001b[0m\n",
      "\u001b[31mFAILED\u001b[0m t_3c50d0964c5f42a08735cd1a2e28de90.py::\u001b[1mtest_spaces[  Mike]\u001b[0m - AssertionError: assert (not True)\n",
      "\u001b[31mFAILED\u001b[0m t_3c50d0964c5f42a08735cd1a2e28de90.py::\u001b[1mtest_spaces[  Mike  ]\u001b[0m - AssertionError: assert (not True)\n",
      "\u001b[31m\u001b[31m\u001b[1m2 failed\u001b[0m, \u001b[32m4 passed\u001b[0m\u001b[31m in 0.02s\u001b[0m\u001b[0m\n"
     ]
    }
   ],
   "source": [
    "%%ipytest\n",
    "\n",
    "@pytest.mark.parametrize(\"name\", [\"Mike\", \" Mike\", \"Mike \", \" Mike \", \"  Mike\", \"  Mike  \"])\n",
    "def test_spaces(name):\n",
    "    greeted_name = Greeter().greet(name).split(\" \", 1)[1]\n",
    "    assert not greeted_name.startswith(\" \") and not greeted_name.endswith(\" \")"
   ]
  },
  {
   "cell_type": "markdown",
   "metadata": {},
   "source": [
    "Можно давать имена отдельным наборам параметров — тогда будет удобнее читать вывод пайтеста"
   ]
  },
  {
   "cell_type": "code",
   "execution_count": 22,
   "metadata": {},
   "outputs": [
    {
     "name": "stdout",
     "output_type": "stream",
     "text": [
      "\u001b[32m.\u001b[0m\u001b[32m.\u001b[0m\u001b[32m.\u001b[0m\u001b[32m.\u001b[0m\u001b[31mF\u001b[0m\u001b[31mF\u001b[0m\u001b[31m                                                                                       [100%]\u001b[0m\n",
      "============================================= FAILURES =============================================\n",
      "\u001b[31m\u001b[1m____________________________________ test_spaces[double space] _____________________________________\u001b[0m\n",
      "\n",
      "name = '  Mike'\n",
      "\n",
      "    \u001b[37m@pytest\u001b[39;49;00m.mark.parametrize(\u001b[33m\"\u001b[39;49;00m\u001b[33mname\u001b[39;49;00m\u001b[33m\"\u001b[39;49;00m, [\u001b[33m\"\u001b[39;49;00m\u001b[33mMike\u001b[39;49;00m\u001b[33m\"\u001b[39;49;00m, \u001b[33m\"\u001b[39;49;00m\u001b[33m Mike\u001b[39;49;00m\u001b[33m\"\u001b[39;49;00m, \u001b[33m\"\u001b[39;49;00m\u001b[33mMike \u001b[39;49;00m\u001b[33m\"\u001b[39;49;00m, \u001b[33m\"\u001b[39;49;00m\u001b[33m Mike \u001b[39;49;00m\u001b[33m\"\u001b[39;49;00m, \u001b[33m\"\u001b[39;49;00m\u001b[33m  Mike\u001b[39;49;00m\u001b[33m\"\u001b[39;49;00m, \u001b[33m\"\u001b[39;49;00m\u001b[33m  Mike  \u001b[39;49;00m\u001b[33m\"\u001b[39;49;00m],\u001b[90m\u001b[39;49;00m\n",
      "                             ids=[\u001b[33m\"\u001b[39;49;00m\u001b[33mno spaces\u001b[39;49;00m\u001b[33m\"\u001b[39;49;00m, \u001b[33m\"\u001b[39;49;00m\u001b[33mleft space\u001b[39;49;00m\u001b[33m\"\u001b[39;49;00m, \u001b[33m\"\u001b[39;49;00m\u001b[33mright space\u001b[39;49;00m\u001b[33m\"\u001b[39;49;00m,\u001b[90m\u001b[39;49;00m\n",
      "                                  \u001b[33m\"\u001b[39;49;00m\u001b[33mtwo-side space\u001b[39;49;00m\u001b[33m\"\u001b[39;49;00m, \u001b[33m\"\u001b[39;49;00m\u001b[33mdouble space\u001b[39;49;00m\u001b[33m\"\u001b[39;49;00m, \u001b[33m\"\u001b[39;49;00m\u001b[33mtwo-sided double space\u001b[39;49;00m\u001b[33m\"\u001b[39;49;00m])\u001b[90m\u001b[39;49;00m\n",
      "    \u001b[94mdef\u001b[39;49;00m \u001b[92mtest_spaces\u001b[39;49;00m(name):\u001b[90m\u001b[39;49;00m\n",
      "        greeted_name = Greeter().greet(name).split(\u001b[33m\"\u001b[39;49;00m\u001b[33m \u001b[39;49;00m\u001b[33m\"\u001b[39;49;00m, \u001b[94m1\u001b[39;49;00m)[\u001b[94m1\u001b[39;49;00m]\u001b[90m\u001b[39;49;00m\n",
      ">       \u001b[94massert\u001b[39;49;00m \u001b[95mnot\u001b[39;49;00m greeted_name.startswith(\u001b[33m\"\u001b[39;49;00m\u001b[33m \u001b[39;49;00m\u001b[33m\"\u001b[39;49;00m) \u001b[95mand\u001b[39;49;00m \u001b[95mnot\u001b[39;49;00m greeted_name.endswith(\u001b[33m\"\u001b[39;49;00m\u001b[33m \u001b[39;49;00m\u001b[33m\"\u001b[39;49;00m)\u001b[90m\u001b[39;49;00m\n",
      "\u001b[1m\u001b[31mE       AssertionError: assert (not True)\u001b[0m\n",
      "\u001b[1m\u001b[31mE        +  where True = <built-in method startswith of str object at 0x1048883f0>(' ')\u001b[0m\n",
      "\u001b[1m\u001b[31mE        +    where <built-in method startswith of str object at 0x1048883f0> = ' Mike'.startswith\u001b[0m\n",
      "\n",
      "\u001b[1m\u001b[31m/var/folders/yd/025r5hf105g2qqkqfnlkhj35sm08q0/T/ipykernel_16706/3611428070.py\u001b[0m:6: AssertionError\n",
      "\u001b[31m\u001b[1m_______________________________ test_spaces[two-sided double space] ________________________________\u001b[0m\n",
      "\n",
      "name = '  Mike  '\n",
      "\n",
      "    \u001b[37m@pytest\u001b[39;49;00m.mark.parametrize(\u001b[33m\"\u001b[39;49;00m\u001b[33mname\u001b[39;49;00m\u001b[33m\"\u001b[39;49;00m, [\u001b[33m\"\u001b[39;49;00m\u001b[33mMike\u001b[39;49;00m\u001b[33m\"\u001b[39;49;00m, \u001b[33m\"\u001b[39;49;00m\u001b[33m Mike\u001b[39;49;00m\u001b[33m\"\u001b[39;49;00m, \u001b[33m\"\u001b[39;49;00m\u001b[33mMike \u001b[39;49;00m\u001b[33m\"\u001b[39;49;00m, \u001b[33m\"\u001b[39;49;00m\u001b[33m Mike \u001b[39;49;00m\u001b[33m\"\u001b[39;49;00m, \u001b[33m\"\u001b[39;49;00m\u001b[33m  Mike\u001b[39;49;00m\u001b[33m\"\u001b[39;49;00m, \u001b[33m\"\u001b[39;49;00m\u001b[33m  Mike  \u001b[39;49;00m\u001b[33m\"\u001b[39;49;00m],\u001b[90m\u001b[39;49;00m\n",
      "                             ids=[\u001b[33m\"\u001b[39;49;00m\u001b[33mno spaces\u001b[39;49;00m\u001b[33m\"\u001b[39;49;00m, \u001b[33m\"\u001b[39;49;00m\u001b[33mleft space\u001b[39;49;00m\u001b[33m\"\u001b[39;49;00m, \u001b[33m\"\u001b[39;49;00m\u001b[33mright space\u001b[39;49;00m\u001b[33m\"\u001b[39;49;00m,\u001b[90m\u001b[39;49;00m\n",
      "                                  \u001b[33m\"\u001b[39;49;00m\u001b[33mtwo-side space\u001b[39;49;00m\u001b[33m\"\u001b[39;49;00m, \u001b[33m\"\u001b[39;49;00m\u001b[33mdouble space\u001b[39;49;00m\u001b[33m\"\u001b[39;49;00m, \u001b[33m\"\u001b[39;49;00m\u001b[33mtwo-sided double space\u001b[39;49;00m\u001b[33m\"\u001b[39;49;00m])\u001b[90m\u001b[39;49;00m\n",
      "    \u001b[94mdef\u001b[39;49;00m \u001b[92mtest_spaces\u001b[39;49;00m(name):\u001b[90m\u001b[39;49;00m\n",
      "        greeted_name = Greeter().greet(name).split(\u001b[33m\"\u001b[39;49;00m\u001b[33m \u001b[39;49;00m\u001b[33m\"\u001b[39;49;00m, \u001b[94m1\u001b[39;49;00m)[\u001b[94m1\u001b[39;49;00m]\u001b[90m\u001b[39;49;00m\n",
      ">       \u001b[94massert\u001b[39;49;00m \u001b[95mnot\u001b[39;49;00m greeted_name.startswith(\u001b[33m\"\u001b[39;49;00m\u001b[33m \u001b[39;49;00m\u001b[33m\"\u001b[39;49;00m) \u001b[95mand\u001b[39;49;00m \u001b[95mnot\u001b[39;49;00m greeted_name.endswith(\u001b[33m\"\u001b[39;49;00m\u001b[33m \u001b[39;49;00m\u001b[33m\"\u001b[39;49;00m)\u001b[90m\u001b[39;49;00m\n",
      "\u001b[1m\u001b[31mE       AssertionError: assert (not True)\u001b[0m\n",
      "\u001b[1m\u001b[31mE        +  where True = <built-in method startswith of str object at 0x1048892b0>(' ')\u001b[0m\n",
      "\u001b[1m\u001b[31mE        +    where <built-in method startswith of str object at 0x1048892b0> = ' Mike '.startswith\u001b[0m\n",
      "\n",
      "\u001b[1m\u001b[31m/var/folders/yd/025r5hf105g2qqkqfnlkhj35sm08q0/T/ipykernel_16706/3611428070.py\u001b[0m:6: AssertionError\n",
      "\u001b[36m\u001b[1m===================================== short test summary info ======================================\u001b[0m\n",
      "\u001b[31mFAILED\u001b[0m t_3c50d0964c5f42a08735cd1a2e28de90.py::\u001b[1mtest_spaces[double space]\u001b[0m - AssertionError: assert (not True)\n",
      "\u001b[31mFAILED\u001b[0m t_3c50d0964c5f42a08735cd1a2e28de90.py::\u001b[1mtest_spaces[two-sided double space]\u001b[0m - AssertionError: assert (not True)\n",
      "\u001b[31m\u001b[31m\u001b[1m2 failed\u001b[0m, \u001b[32m4 passed\u001b[0m\u001b[31m in 0.02s\u001b[0m\u001b[0m\n"
     ]
    }
   ],
   "source": [
    "%%ipytest\n",
    "\n",
    "@pytest.mark.parametrize(\"name\", [\"Mike\", \" Mike\", \"Mike \", \" Mike \", \"  Mike\", \"  Mike  \"],\n",
    "                         ids=[\"no spaces\", \"left space\", \"right space\", \n",
    "                              \"two-side space\", \"double space\", \"two-sided double space\"])\n",
    "def test_spaces(name):\n",
    "    greeted_name = Greeter().greet(name).split(\" \", 1)[1]\n",
    "    assert not greeted_name.startswith(\" \") and not greeted_name.endswith(\" \")"
   ]
  },
  {
   "cell_type": "markdown",
   "metadata": {},
   "source": [
    "Починим тест:"
   ]
  },
  {
   "cell_type": "code",
   "execution_count": 23,
   "metadata": {},
   "outputs": [],
   "source": [
    "class Greeter:\n",
    "    def greet(self, name):\n",
    "        while name.startswith(\" \"):\n",
    "            name = name[1:]\n",
    "        while name.endswith(\" \"):\n",
    "            name = name[:-1]\n",
    "        return \"Hello \" + name"
   ]
  },
  {
   "cell_type": "code",
   "execution_count": 24,
   "metadata": {},
   "outputs": [
    {
     "name": "stdout",
     "output_type": "stream",
     "text": [
      "\u001b[32m.\u001b[0m\u001b[32m.\u001b[0m\u001b[32m.\u001b[0m\u001b[32m.\u001b[0m\u001b[32m.\u001b[0m\u001b[32m.\u001b[0m\u001b[32m                                                                                       [100%]\u001b[0m\n",
      "\u001b[32m\u001b[32m\u001b[1m6 passed\u001b[0m\u001b[32m in 0.01s\u001b[0m\u001b[0m\n"
     ]
    }
   ],
   "source": [
    "%%ipytest\n",
    "\n",
    "@pytest.mark.parametrize(\"name\", [\"Mike\", \" Mike\", \"Mike \", \" Mike \", \"  Mike\", \"  Mike  \"],\n",
    "                         ids=[\"no spaces\", \"left space\", \"right space\", \n",
    "                              \"two-side space\", \"double space\", \"two-sided double space\"])\n",
    "def test_spaces(name):\n",
    "    greeted_name = Greeter().greet(name).split(\" \", 1)[1]\n",
    "    assert not greeted_name.startswith(\" \") and not greeted_name.endswith(\" \")"
   ]
  },
  {
   "cell_type": "markdown",
   "metadata": {},
   "source": [
    "Код кажется слишком многословным! Но при наличии тестов можно безбоязненно его порефакторить:"
   ]
  },
  {
   "cell_type": "code",
   "execution_count": 25,
   "metadata": {},
   "outputs": [],
   "source": [
    "class Greeter:\n",
    "    def greet(self, name):\n",
    "        return \"Hello \" + name.strip()"
   ]
  },
  {
   "cell_type": "code",
   "execution_count": 26,
   "metadata": {},
   "outputs": [
    {
     "name": "stdout",
     "output_type": "stream",
     "text": [
      "\u001b[32m.\u001b[0m\u001b[32m.\u001b[0m\u001b[32m.\u001b[0m\u001b[32m.\u001b[0m\u001b[32m.\u001b[0m\u001b[32m.\u001b[0m\u001b[32m.\u001b[0m\u001b[32m.\u001b[0m\u001b[32m.\u001b[0m\u001b[32m                                                                                    [100%]\u001b[0m\n",
      "\u001b[32m\u001b[32m\u001b[1m9 passed\u001b[0m\u001b[32m in 0.02s\u001b[0m\u001b[0m\n"
     ]
    }
   ],
   "source": [
    "%%ipytest\n",
    "\n",
    "\n",
    "@pytest.mark.parametrize(\"name, greeting\", [(\"Mike\", \"Hello Mike\"), (\"John\", \"Hello John\"), (\"Greg\", \"Hello Greg\")])\n",
    "def test_greeter(name, greeting):\n",
    "    assert Greeter().greet(name) == greeting\n",
    "\n",
    "\n",
    "@pytest.mark.parametrize(\"name\", [\"Mike\", \" Mike\", \"Mike \", \" Mike \", \"  Mike\", \"  Mike  \"],\n",
    "                         ids=[\"no spaces\", \"left space\", \"right space\", \n",
    "                              \"two-side space\", \"double space\", \"two-sided double space\"])\n",
    "def test_spaces(name):\n",
    "    greeted_name = Greeter().greet(name).split(\" \", 1)[1]\n",
    "    assert not greeted_name.startswith(\" \") and not greeted_name.endswith(\" \")"
   ]
  },
  {
   "cell_type": "markdown",
   "metadata": {},
   "source": [
    "## 3. Рефакторинг тестов и фикстуры"
   ]
  },
  {
   "cell_type": "markdown",
   "metadata": {},
   "source": [
    "Сами тесты тоже надо рефакторить. У нас есть две проблемы.\n",
    "\n",
    "Во-первых, имена тестов не очень информативны. Если упадет тест `test_greater`, будет не совсем понятно, что именно тестировалось и что надо чинить. В целом имена тестам надо давать как можно более подробные — тесты вызываются автоматически, автоматике длина имени безразлична, а вот человеку, читающему выхлоп пайтеста, лучше предоставить как можно больше информации.\n",
    "\n",
    "[Статья на тему](https://enterprisecraftsmanship.com/posts/you-naming-tests-wrong).\n",
    "\n",
    "\n",
    "Переименуем наши тесты:"
   ]
  },
  {
   "cell_type": "code",
   "execution_count": 27,
   "metadata": {},
   "outputs": [
    {
     "name": "stdout",
     "output_type": "stream",
     "text": [
      "\u001b[32m.\u001b[0m\u001b[32m.\u001b[0m\u001b[32m.\u001b[0m\u001b[32m.\u001b[0m\u001b[32m.\u001b[0m\u001b[32m.\u001b[0m\u001b[32m.\u001b[0m\u001b[32m.\u001b[0m\u001b[32m.\u001b[0m\u001b[32m                                                                                    [100%]\u001b[0m\n",
      "\u001b[32m\u001b[32m\u001b[1m9 passed\u001b[0m\u001b[32m in 0.01s\u001b[0m\u001b[0m\n"
     ]
    }
   ],
   "source": [
    "%%ipytest\n",
    "\n",
    "\n",
    "@pytest.mark.parametrize(\"name\", [\"Mike\", \"John\", \"Greg\"])\n",
    "def test_greet_returns_name_with_greeting(name):\n",
    "    assert Greeter().greet(name) == \"Hello \" + name\n",
    "\n",
    "\n",
    "@pytest.mark.parametrize(\"name\", [\"Mike\", \" Mike\", \"Mike \", \" Mike \", \"  Mike\", \"  Mike  \"],\n",
    "                         ids=[\"no spaces\", \"left space\", \"right space\", \n",
    "                              \"two-side space\", \"double space\", \"two-sided double space\"])\n",
    "def test_greet_removes_leading_and_trailing_spaces_from_name(name):\n",
    "    greeted_name = Greeter().greet(name).split(\" \", 1)[1]\n",
    "    assert not greeted_name.startswith(\" \") and not greeted_name.endswith(\" \")"
   ]
  },
  {
   "cell_type": "markdown",
   "metadata": {},
   "source": [
    "Вторая проблема — в обоих тестах мы создаем `greeter`. Это приводит к дублированию кода. Кроме того, на практике вместо `greeter` у нас может быть какой-нибудь тяжелый объект типа базы даных, который надо каждый раз инициализировать и чистить. Решить эти проблемы нам поможет механизм фикстур:"
   ]
  },
  {
   "cell_type": "code",
   "execution_count": null,
   "metadata": {},
   "outputs": [],
   "source": [
    "%%ipytest\n",
    "\n",
    "@pytest.fixture(scope=\"module\")\n",
    "def greeter():\n",
    "    yield Greeter()\n",
    "\n",
    "@pytest.mark.parametrize(\"name\", [\"Mike\", \"John\", \"Greg\"])\n",
    "def test_greet_returns_name_with_greeting(greeter, name):\n",
    "    assert greeter.greet(name) == \"Hello \" + name\n",
    "\n",
    "\n",
    "@pytest.mark.parametrize(\"name\", [\"Mike\", \" Mike\", \"Mike \", \" Mike \", \"  Mike\", \"  Mike  \"],\n",
    "                         ids=[\"no spaces\", \"left space\", \"right space\", \n",
    "                              \"two-side space\", \"double space\", \"two-sided double space\"])\n",
    "def test_greet_removes_leading_and_trailing_spaces_from_name(greeter, name):\n",
    "    greeted_name = greeter.greet(name).split(\" \", 1)[1]\n",
    "    assert not greeted_name.startswith(\" \") and not greeted_name.endswith(\" \")"
   ]
  },
  {
   "cell_type": "markdown",
   "metadata": {},
   "source": [
    "Фикстуры так же могут прибираться за создаваемым объектом в конце теста и иметь разный скоуп, например, создваться на каждый тест, модуль или тред, запускающий тесты. [Подробнее в документации](https://docs.pytest.org/en/stable/fixture.html).\n",
    "\n",
    "Для БД фикстура может выглядеть примерно так:"
   ]
  },
  {
   "cell_type": "code",
   "execution_count": 36,
   "metadata": {},
   "outputs": [
    {
     "name": "stdout",
     "output_type": "stream",
     "text": [
      "init db\n",
      "\u001b[32m.\u001b[0m\u001b[32m.\u001b[0mclose db\n",
      "\n",
      "\u001b[32m\u001b[32m\u001b[1m2 passed\u001b[0m\u001b[32m in 0.01s\u001b[0m\u001b[0m\n"
     ]
    }
   ],
   "source": [
    "%%ipytest -s\n",
    "\n",
    "class DBConnection:\n",
    "    pass\n",
    "\n",
    "class TestDB:\n",
    "    def init_db(self):\n",
    "        print(\"init db\")\n",
    "        \n",
    "    def get_connection(self):\n",
    "        return DBConnection()\n",
    "\n",
    "    def shutdown(self):\n",
    "        print(\"close db\")\n",
    "\n",
    "\n",
    "@pytest.fixture(scope=\"module\")\n",
    "def db_connection():\n",
    "    db = TestDB()\n",
    "    db.init_db()\n",
    "    try:\n",
    "        yield db.get_connection()\n",
    "    finally:\n",
    "        db.shutdown()\n",
    "    \n",
    "def test_db_1(db_connection):\n",
    "    assert db_connection\n",
    "    \n",
    "def test_db_2(db_connection):\n",
    "    assert db_connection"
   ]
  },
  {
   "cell_type": "markdown",
   "metadata": {},
   "source": [
    "Так же в `pytest` есть разные встроенные фикстуры. [Список лежит здесь](https://docs.pytest.org/en/stable/fixture.html). Наиболее интересные:\n",
    "* `monkeypatch` — временно можифицирует методы классов, модулей и т.д.\n",
    "* `testdir` — создает верменную директорию для каждого теста, которую потом чистит\n",
    "\n"
   ]
  },
  {
   "cell_type": "markdown",
   "metadata": {},
   "source": [
    "## 4. Тестирование исключений, сравнение флотов, манкипатчинг\n",
    "\n",
    "Следующий пункт нашей каты:\n",
    "- Метод `greet` должен возвращать ошибку если имя - пустая строка (или строка с пробелами)\n",
    "\n",
    "Для тестирования исключений есть специальная функциональность:"
   ]
  },
  {
   "cell_type": "code",
   "execution_count": 40,
   "metadata": {},
   "outputs": [
    {
     "name": "stdout",
     "output_type": "stream",
     "text": [
      "\u001b[31mF\u001b[0m\u001b[31m                                                                                            [100%]\u001b[0m\n",
      "============================================= FAILURES =============================================\n",
      "\u001b[31m\u001b[1m__________________________ test_greet_raises_value_error_on_empty_string ___________________________\u001b[0m\n",
      "\n",
      "greeter = <__main__.Greeter object at 0x104922490>\n",
      "\n",
      "    \u001b[94mdef\u001b[39;49;00m \u001b[92mtest_greet_raises_value_error_on_empty_string\u001b[39;49;00m(greeter):\u001b[90m\u001b[39;49;00m\n",
      ">       \u001b[94mwith\u001b[39;49;00m pytest.raises(\u001b[96mValueError\u001b[39;49;00m):\u001b[90m\u001b[39;49;00m\n",
      "\u001b[1m\u001b[31mE       Failed: DID NOT RAISE <class 'ValueError'>\u001b[0m\n",
      "\n",
      "\u001b[1m\u001b[31m/var/folders/yd/025r5hf105g2qqkqfnlkhj35sm08q0/T/ipykernel_16706/2039571874.py\u001b[0m:6: Failed\n",
      "\u001b[36m\u001b[1m===================================== short test summary info ======================================\u001b[0m\n",
      "\u001b[31mFAILED\u001b[0m t_3c50d0964c5f42a08735cd1a2e28de90.py::\u001b[1mtest_greet_raises_value_error_on_empty_string\u001b[0m - Failed: DID NOT RAISE <class 'ValueError'>\n",
      "\u001b[31m\u001b[31m\u001b[1m1 failed\u001b[0m\u001b[31m in 0.01s\u001b[0m\u001b[0m\n"
     ]
    }
   ],
   "source": [
    "%%ipytest\n",
    "\n",
    "@pytest.fixture(scope=\"module\")\n",
    "def greeter():\n",
    "    yield Greeter()\n",
    "\n",
    "def test_greet_raises_value_error_on_empty_string(greeter):\n",
    "    with pytest.raises(ValueError):\n",
    "        greeter.greet(\"\")"
   ]
  },
  {
   "cell_type": "markdown",
   "metadata": {},
   "source": [
    "По тексту отчета видим, что тест ожидал исключения, но его не было. Починим тест:"
   ]
  },
  {
   "cell_type": "code",
   "execution_count": 41,
   "metadata": {},
   "outputs": [],
   "source": [
    "class Greeter:\n",
    "    def greet(self, name):\n",
    "        name = name.strip()\n",
    "        if not name:\n",
    "            raise ValueError(\"Empty name!\")\n",
    "        return \"Hello \" + name"
   ]
  },
  {
   "cell_type": "code",
   "execution_count": 45,
   "metadata": {},
   "outputs": [
    {
     "name": "stdout",
     "output_type": "stream",
     "text": [
      "\u001b[32m.\u001b[0m\u001b[32m                                                                                            [100%]\u001b[0m\n",
      "\u001b[32m\u001b[32m\u001b[1m1 passed\u001b[0m\u001b[32m in 0.01s\u001b[0m\u001b[0m\n"
     ]
    }
   ],
   "source": [
    "%%ipytest\n",
    "\n",
    "@pytest.fixture(scope=\"module\")\n",
    "def greeter():\n",
    "    yield Greeter()\n",
    "\n",
    "def test_greet_raises_value_error_on_empty_string(greeter):\n",
    "    with pytest.raises(ValueError):\n",
    "        greeter.greet(\"\")"
   ]
  },
  {
   "cell_type": "markdown",
   "metadata": {},
   "source": [
    "Остался последний пункт нашей каты:\n",
    " - Метод `greet` возвращает \"Good evening <имя>\" если текущее время - 18:00-22:00\n",
    "\n",
    "Реализация скорее всего будет вызывать `datetime.now()` где-то внутри. Чтобы обеспечить в тесте нужное нам поведение, используем специальную фикстуру `monkeypatch`. Подробно про неё можно почитать [тут](https://docs.pytest.org/en/latest/monkeypatch.html)."
   ]
  },
  {
   "cell_type": "code",
   "execution_count": 46,
   "metadata": {},
   "outputs": [
    {
     "name": "stdout",
     "output_type": "stream",
     "text": [
      "\u001b[31mF\u001b[0m\u001b[31m                                                                                            [100%]\u001b[0m\n",
      "============================================= FAILURES =============================================\n",
      "\u001b[31m\u001b[1m_____________________________ test_greeting_is_good_evening_in_evening _____________________________\u001b[0m\n",
      "\n",
      "monkeypatch = <_pytest.monkeypatch.MonkeyPatch object at 0x104ae5890>\n",
      "greeter = <__main__.Greeter object at 0x104af1210>\n",
      "\n",
      "    \u001b[94mdef\u001b[39;49;00m \u001b[92mtest_greeting_is_good_evening_in_evening\u001b[39;49;00m(monkeypatch, greeter):\u001b[90m\u001b[39;49;00m\n",
      "        fake_time = datetime.datetime.strptime(\u001b[33m\"\u001b[39;49;00m\u001b[33m2007-01-01 19:30:00\u001b[39;49;00m\u001b[33m\"\u001b[39;49;00m, \u001b[33m\"\u001b[39;49;00m\u001b[33m%\u001b[39;49;00m\u001b[33mY-\u001b[39;49;00m\u001b[33m%\u001b[39;49;00m\u001b[33mm-\u001b[39;49;00m\u001b[33m%d\u001b[39;49;00m\u001b[33m \u001b[39;49;00m\u001b[33m%\u001b[39;49;00m\u001b[33mH:\u001b[39;49;00m\u001b[33m%\u001b[39;49;00m\u001b[33mM:\u001b[39;49;00m\u001b[33m%\u001b[39;49;00m\u001b[33mS\u001b[39;49;00m\u001b[33m\"\u001b[39;49;00m)\u001b[90m\u001b[39;49;00m\n",
      "        \u001b[94mclass\u001b[39;49;00m \u001b[04m\u001b[92mmydatetime\u001b[39;49;00m:\u001b[90m\u001b[39;49;00m\n",
      "            \u001b[37m@classmethod\u001b[39;49;00m\u001b[90m\u001b[39;49;00m\n",
      "            \u001b[94mdef\u001b[39;49;00m \u001b[92mnow\u001b[39;49;00m(\u001b[96mcls\u001b[39;49;00m):\u001b[90m\u001b[39;49;00m\n",
      "                \u001b[94mreturn\u001b[39;49;00m fake_time\u001b[90m\u001b[39;49;00m\n",
      "    \u001b[90m\u001b[39;49;00m\n",
      "        monkeypatch.setattr(datetime, \u001b[33m'\u001b[39;49;00m\u001b[33mdatetime\u001b[39;49;00m\u001b[33m'\u001b[39;49;00m, mydatetime)\u001b[90m\u001b[39;49;00m\n",
      ">       \u001b[94massert\u001b[39;49;00m greeter.greet(\u001b[33m\"\u001b[39;49;00m\u001b[33mMike\u001b[39;49;00m\u001b[33m\"\u001b[39;49;00m).startswith(\u001b[33m\"\u001b[39;49;00m\u001b[33mGood evening\u001b[39;49;00m\u001b[33m\"\u001b[39;49;00m)\u001b[90m\u001b[39;49;00m\n",
      "\u001b[1m\u001b[31mE       AssertionError: assert False\u001b[0m\n",
      "\u001b[1m\u001b[31mE        +  where False = <built-in method startswith of str object at 0x104af27f0>('Good evening')\u001b[0m\n",
      "\u001b[1m\u001b[31mE        +    where <built-in method startswith of str object at 0x104af27f0> = 'Hello Mike'.startswith\u001b[0m\n",
      "\u001b[1m\u001b[31mE        +      where 'Hello Mike' = <bound method Greeter.greet of <__main__.Greeter object at 0x104af1210>>('Mike')\u001b[0m\n",
      "\u001b[1m\u001b[31mE        +        where <bound method Greeter.greet of <__main__.Greeter object at 0x104af1210>> = <__main__.Greeter object at 0x104af1210>.greet\u001b[0m\n",
      "\n",
      "\u001b[1m\u001b[31m/var/folders/yd/025r5hf105g2qqkqfnlkhj35sm08q0/T/ipykernel_16706/2765790430.py\u001b[0m:15: AssertionError\n",
      "\u001b[36m\u001b[1m===================================== short test summary info ======================================\u001b[0m\n",
      "\u001b[31mFAILED\u001b[0m t_3c50d0964c5f42a08735cd1a2e28de90.py::\u001b[1mtest_greeting_is_good_evening_in_evening\u001b[0m - AssertionError: assert False\n",
      "\u001b[31m\u001b[31m\u001b[1m1 failed\u001b[0m\u001b[31m in 0.01s\u001b[0m\u001b[0m\n"
     ]
    }
   ],
   "source": [
    "%%ipytest\n",
    "\n",
    "import datetime\n",
    "\n",
    "@pytest.fixture(scope=\"module\")\n",
    "def greeter():\n",
    "    yield Greeter()\n",
    "\n",
    "def test_greeting_is_good_evening_in_evening(monkeypatch, greeter):\n",
    "    fake_time = datetime.datetime.strptime(\"2007-01-01 19:30:00\", \"%Y-%m-%d %H:%M:%S\")\n",
    "    class mydatetime:\n",
    "        @classmethod\n",
    "        def now(cls):\n",
    "            return fake_time\n",
    "\n",
    "    monkeypatch.setattr(datetime, 'datetime', mydatetime)\n",
    "    assert greeter.greet(\"Mike\").startswith(\"Good evening\")"
   ]
  },
  {
   "cell_type": "code",
   "execution_count": 49,
   "metadata": {},
   "outputs": [],
   "source": [
    "import datetime\n",
    "\n",
    "class Greeter:\n",
    "    def greet(self, name):\n",
    "        name = name.strip()\n",
    "        if not name:\n",
    "            raise ValueError(\"Empty name!\")\n",
    "        hour = datetime.datetime.now().hour\n",
    "        if 18 <= hour <= 22:\n",
    "            return \"Good evening \" + name\n",
    "        return \"Hello \" + name"
   ]
  },
  {
   "cell_type": "code",
   "execution_count": 48,
   "metadata": {},
   "outputs": [
    {
     "name": "stdout",
     "output_type": "stream",
     "text": [
      "\u001b[32m.\u001b[0m\u001b[32m                                                                                            [100%]\u001b[0m\n",
      "\u001b[32m\u001b[32m\u001b[1m1 passed\u001b[0m\u001b[32m in 0.01s\u001b[0m\u001b[0m\n"
     ]
    }
   ],
   "source": [
    "%%ipytest\n",
    "\n",
    "import datetime\n",
    "\n",
    "@pytest.fixture(scope=\"module\")\n",
    "def greeter():\n",
    "    yield Greeter()\n",
    "\n",
    "def test_greeting_is_good_evening_in_evening(monkeypatch, greeter):\n",
    "    fake_time = datetime.datetime.strptime(\"2007-01-01 19:30:00\", \"%Y-%m-%d %H:%M:%S\")\n",
    "    class mydatetime:\n",
    "        @classmethod\n",
    "        def now(cls):\n",
    "            return fake_time\n",
    "\n",
    "    monkeypatch.setattr(datetime, 'datetime', mydatetime)\n",
    "    assert greeter.greet(\"Mike\").startswith(\"Good evening\")"
   ]
  },
  {
   "cell_type": "markdown",
   "metadata": {},
   "source": [
    "Посмотрим, что со старыми тестами:"
   ]
  },
  {
   "cell_type": "code",
   "execution_count": 50,
   "metadata": {},
   "outputs": [
    {
     "name": "stdout",
     "output_type": "stream",
     "text": [
      "\u001b[32m.\u001b[0m\u001b[32m.\u001b[0m\u001b[32m.\u001b[0m\u001b[32m.\u001b[0m\u001b[32m.\u001b[0m\u001b[32m.\u001b[0m\u001b[32m.\u001b[0m\u001b[32m.\u001b[0m\u001b[32m.\u001b[0m\u001b[32m                                                                                    [100%]\u001b[0m\n",
      "\u001b[32m\u001b[32m\u001b[1m9 passed\u001b[0m\u001b[32m in 0.02s\u001b[0m\u001b[0m\n"
     ]
    }
   ],
   "source": [
    "%%ipytest\n",
    "\n",
    "@pytest.fixture(scope=\"module\")\n",
    "def greeter():\n",
    "    yield Greeter()\n",
    "\n",
    "@pytest.mark.parametrize(\"name\", [\"Mike\", \"John\", \"Greg\"])\n",
    "def test_greet_returns_name_with_greeting(greeter, name):\n",
    "    assert Greeter().greet(name) == \"Hello \" + name\n",
    "\n",
    "\n",
    "@pytest.mark.parametrize(\"name\", [\"Mike\", \" Mike\", \"Mike \", \" Mike \", \"  Mike\", \"  Mike  \"],\n",
    "                         ids=[\"no spaces\", \"left space\", \"right space\", \n",
    "                              \"two-side space\", \"double space\", \"two-sided double space\"])\n",
    "def test_greet_removes_leading_and_trailing_spaces_from_name(greeter, name):\n",
    "    greeted_name = greeter.greet(name).split(\" \", 1)[1]\n",
    "    assert not greeted_name.startswith(\" \") and not greeted_name.endswith(\" \")"
   ]
  },
  {
   "cell_type": "markdown",
   "metadata": {},
   "source": [
    "Всё падает, потому что cейчас вечер. Выставим для тестов дефолтное время при помощи фикстур:"
   ]
  },
  {
   "cell_type": "code",
   "execution_count": 51,
   "metadata": {},
   "outputs": [
    {
     "name": "stdout",
     "output_type": "stream",
     "text": [
      "\u001b[32m.\u001b[0m\u001b[32m.\u001b[0m\u001b[32m.\u001b[0m\u001b[32m.\u001b[0m\u001b[32m.\u001b[0m\u001b[32m.\u001b[0m\u001b[32m.\u001b[0m\u001b[32m.\u001b[0m\u001b[32m.\u001b[0m\u001b[32m.\u001b[0m\u001b[32m                                                                                   [100%]\u001b[0m\n",
      "\u001b[32m\u001b[32m\u001b[1m10 passed\u001b[0m\u001b[32m in 0.01s\u001b[0m\u001b[0m\n"
     ]
    }
   ],
   "source": [
    "%%ipytest\n",
    "\n",
    "import datetime\n",
    "\n",
    "\n",
    "@pytest.fixture(scope=\"function\")\n",
    "def set_time(monkeypatch):\n",
    "    def set_time_(time):\n",
    "        class mydatetime:\n",
    "            @classmethod\n",
    "            def now(cls):\n",
    "                return time\n",
    "\n",
    "        monkeypatch.setattr(datetime, 'datetime', mydatetime)\n",
    "    yield set_time_\n",
    "\n",
    "    \n",
    "@pytest.fixture(scope=\"function\")\n",
    "def set_day_time(set_time):\n",
    "    yield set_time(datetime.datetime.strptime(\"2007-01-01 10:30:00\", \"%Y-%m-%d %H:%M:%S\"))\n",
    "    \n",
    "\n",
    "@pytest.mark.parametrize(\"name\", [\"Mike\", \"John\", \"Greg\"])\n",
    "@pytest.mark.usefixtures(\"set_day_time\")\n",
    "def test_greet_returns_name_with_greeting(greeter, name):\n",
    "    assert greeter.greet(name) == \"Hello \" + name\n",
    "\n",
    "\n",
    "@pytest.mark.parametrize(\"name\", [\"Mike\", \" Mike\", \"Mike \", \" Mike \", \"  Mike\", \"  Mike  \"],\n",
    "                         ids=[\"no spaces\", \"left space\", \"right space\", \n",
    "                              \"two-side space\", \"double space\", \"two-sided double space\"])\n",
    "@pytest.mark.usefixtures(\"set_day_time\")\n",
    "def test_greet_removes_leading_and_trailing_spaces_from_name(greeter, name):\n",
    "    greeted_name = greeter.greet(name).split(\" \", 1)[1]\n",
    "    assert not greeted_name.startswith(\" \") and not greeted_name.endswith(\" \")\n",
    "    \n",
    "\n",
    "def test_greeting_is_good_evening_in_evening(set_time, monkeypatch, greeter):\n",
    "    set_time(datetime.datetime.strptime(\"2007-01-01 19:30:00\", \"%Y-%m-%d %H:%M:%S\"))\n",
    "    assert greeter.greet(\"Mike\").startswith(\"Good evening\")"
   ]
  },
  {
   "cell_type": "markdown",
   "metadata": {},
   "source": [
    "#### Сравнение float"
   ]
  },
  {
   "cell_type": "markdown",
   "metadata": {},
   "source": [
    " Сравнение `float` сталось за кадром, разберем его отдельно.\n",
    " Из-за ошибок округления `float` трудно сравнивать через `==`."
   ]
  },
  {
   "cell_type": "code",
   "execution_count": 52,
   "metadata": {},
   "outputs": [
    {
     "name": "stdout",
     "output_type": "stream",
     "text": [
      "\u001b[31mF\u001b[0m\u001b[31m                                                                                            [100%]\u001b[0m\n",
      "============================================= FAILURES =============================================\n",
      "\u001b[31m\u001b[1m____________________________________________ test_float ____________________________________________\u001b[0m\n",
      "\n",
      "    \u001b[94mdef\u001b[39;49;00m \u001b[92mtest_float\u001b[39;49;00m():\u001b[90m\u001b[39;49;00m\n",
      ">       \u001b[94massert\u001b[39;49;00m \u001b[94m0.1\u001b[39;49;00m + \u001b[94m0.2\u001b[39;49;00m == \u001b[94m0.3\u001b[39;49;00m\u001b[90m\u001b[39;49;00m\n",
      "\u001b[1m\u001b[31mE       assert (0.1 + 0.2) == 0.3\u001b[0m\n",
      "\n",
      "\u001b[1m\u001b[31m/var/folders/yd/025r5hf105g2qqkqfnlkhj35sm08q0/T/ipykernel_16706/3044747023.py\u001b[0m:2: AssertionError\n",
      "\u001b[36m\u001b[1m===================================== short test summary info ======================================\u001b[0m\n",
      "\u001b[31mFAILED\u001b[0m t_3c50d0964c5f42a08735cd1a2e28de90.py::\u001b[1mtest_float\u001b[0m - assert (0.1 + 0.2) == 0.3\n",
      "\u001b[31m\u001b[31m\u001b[1m1 failed\u001b[0m\u001b[31m in 0.01s\u001b[0m\u001b[0m\n"
     ]
    }
   ],
   "source": [
    "%%ipytest\n",
    "def test_float():\n",
    "    assert 0.1 + 0.2 == 0.3"
   ]
  },
  {
   "cell_type": "markdown",
   "metadata": {},
   "source": [
    "Исправить ситуацию поможет `pytest.approx`:"
   ]
  },
  {
   "cell_type": "code",
   "execution_count": 53,
   "metadata": {},
   "outputs": [
    {
     "name": "stdout",
     "output_type": "stream",
     "text": [
      "\u001b[32m.\u001b[0m\u001b[32m                                                                                            [100%]\u001b[0m\n",
      "\u001b[32m\u001b[32m\u001b[1m1 passed\u001b[0m\u001b[32m in 0.01s\u001b[0m\u001b[0m\n"
     ]
    }
   ],
   "source": [
    "%%ipytest\n",
    "def test_float():\n",
    "    assert 0.1 + 0.2 == pytest.approx(0.3)"
   ]
  },
  {
   "cell_type": "markdown",
   "metadata": {},
   "source": [
    "`pytest.approx` работает и с коллекциями:"
   ]
  },
  {
   "cell_type": "code",
   "execution_count": 54,
   "metadata": {},
   "outputs": [
    {
     "name": "stdout",
     "output_type": "stream",
     "text": [
      "\u001b[32m.\u001b[0m\u001b[32m                                                                                            [100%]\u001b[0m\n",
      "\u001b[32m\u001b[32m\u001b[1m1 passed\u001b[0m\u001b[32m in 0.01s\u001b[0m\u001b[0m\n"
     ]
    }
   ],
   "source": [
    "%%ipytest\n",
    "def test_float():\n",
    "    assert [0.1 + 0.2, 0.5] == pytest.approx([0.3, 0.5])"
   ]
  },
  {
   "cell_type": "markdown",
   "metadata": {},
   "source": [
    "#### Манкипатчинг модуля requests"
   ]
  },
  {
   "cell_type": "code",
   "execution_count": 56,
   "metadata": {},
   "outputs": [],
   "source": [
    "import requests\n",
    "\n",
    "\n",
    "def get_json(url):\n",
    "    \"\"\"Takes a URL, and returns the JSON.\"\"\"\n",
    "    r = requests.get(url)\n",
    "    return r.json()"
   ]
  },
  {
   "cell_type": "markdown",
   "metadata": {},
   "source": [
    "Внутри теста очень не хочется ходить по сети, при этом тест написать надо. Воспользуемся `monkeypatch`:"
   ]
  },
  {
   "cell_type": "code",
   "execution_count": 57,
   "metadata": {},
   "outputs": [
    {
     "name": "stdout",
     "output_type": "stream",
     "text": [
      "\u001b[32m.\u001b[0m\n",
      "\u001b[32m\u001b[32m\u001b[1m1 passed\u001b[0m\u001b[32m in 0.01s\u001b[0m\u001b[0m\n"
     ]
    }
   ],
   "source": [
    "%%ipytest -s\n",
    "\n",
    "# импортим модуль requests чтобы потом его модифицировать\n",
    "import requests\n",
    "\n",
    "# делаем mock на  response-объект библиотеки requests\n",
    "class MockResponse:\n",
    "    @staticmethod\n",
    "    def json():\n",
    "        return {\"mock_key\": \"mock_response\"}\n",
    "\n",
    "\n",
    "def test_get_json(monkeypatch):\n",
    "\n",
    "    # Делаем фальшивый метод get\n",
    "    def mock_get(*args, **kwargs):\n",
    "        return MockResponse()\n",
    "\n",
    "    # Подменяем настоящий get на фальшивый\n",
    "    monkeypatch.setattr(requests, \"get\", mock_get)\n",
    "\n",
    "    # Тестируем наш метод\n",
    "    result = get_json(\"https://fakeurl\")\n",
    "    assert result[\"mock_key\"] == \"mock_response\""
   ]
  },
  {
   "cell_type": "markdown",
   "metadata": {},
   "source": [
    "Для манкипатчинга модуля requests есть отдельная библиотека — [requests-mock](https://requests-mock.readthedocs.io/en/latest/)."
   ]
  },
  {
   "cell_type": "markdown",
   "metadata": {},
   "source": [
    "## Итого\n",
    "\n",
    "Мы сделали небольшую кату, познакомились с TDD и основной функциональностью `pytest`:\n",
    "\n",
    "* Как pyteset находит тесты\n",
    "* Ассерты pyteset\n",
    "* Параметризация тестов\n",
    "* Фикстуры \n",
    "* Тестирование исключений\n",
    "* Манкипатчинг\n",
    "\n",
    "Какие в итоге профиты у тестов:\n",
    " - Тесты помогают следить за тем, что код соответствует спецификации\n",
    " - Тесты позволяют рефакторить код и не бояться при этом посадить баг\n",
    " - Тесты документируют код\n",
    " \n",
    "Что осталось за кадром:\n",
    " - Виды тестов — юнит, интеграционные и т.д.\n",
    " - Настройка тестов в ci/cd\n",
    " - Плагины pytest"
   ]
  },
  {
   "cell_type": "code",
   "execution_count": null,
   "metadata": {},
   "outputs": [],
   "source": []
  }
 ],
 "metadata": {
  "kernelspec": {
   "display_name": "Python 3 (ipykernel)",
   "language": "python",
   "name": "python3"
  },
  "language_info": {
   "codemirror_mode": {
    "name": "ipython",
    "version": 3
   },
   "file_extension": ".py",
   "mimetype": "text/x-python",
   "name": "python",
   "nbconvert_exporter": "python",
   "pygments_lexer": "ipython3",
   "version": "3.11.5"
  }
 },
 "nbformat": 4,
 "nbformat_minor": 4
}
