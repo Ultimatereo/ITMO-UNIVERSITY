{
 "cells": [
  {
   "cell_type": "markdown",
   "metadata": {
    "editable": true,
    "slideshow": {
     "slide_type": "slide"
    },
    "tags": []
   },
   "source": [
    "<center>\n",
    "\n",
    "<img src=\"https://upload.wikimedia.org/wikipedia/commons/a/a8/%D0%9B%D0%9E%D0%93%D0%9E_%D0%A8%D0%90%D0%94.png\" width=300px/>\n",
    "\n",
    "<h2>Python: модули, пакеты и система импорта</h2>\n",
    "<h3>Дмитрий Браженко</h3>\n",
    "<br />\n",
    "<h4>2022</h4>\n",
    "\n",
    "</center>"
   ]
  },
  {
   "cell_type": "markdown",
   "metadata": {
    "slideshow": {
     "slide_type": "slide"
    }
   },
   "source": [
    "# Модули"
   ]
  },
  {
   "cell_type": "markdown",
   "metadata": {
    "slideshow": {
     "slide_type": "slide"
    }
   },
   "source": [
    "## Базовый пример [happy_0]"
   ]
  },
  {
   "cell_type": "markdown",
   "metadata": {
    "slideshow": {
     "slide_type": "fragment"
    }
   },
   "source": [
    "Базовый сценарий. Спрятать часть функций/имен в отдельный файл. Создадим файл happy_0.py в директории рядом с нашим ноутбуком"
   ]
  },
  {
   "cell_type": "code",
   "execution_count": 1,
   "metadata": {
    "slideshow": {
     "slide_type": "fragment"
    }
   },
   "outputs": [
    {
     "name": "stdout",
     "output_type": "stream",
     "text": [
      "Overwriting happy_0.py\n"
     ]
    }
   ],
   "source": [
    "%%file happy_0.py\n",
    "\"\"\"I am a happy module\"\"\"\n",
    "\n",
    "foo = 'foobar'\n",
    "\n",
    "def bar():\n",
    "    return foo\n",
    "\n",
    "print('Happy module is running!!')"
   ]
  },
  {
   "cell_type": "code",
   "execution_count": 2,
   "metadata": {
    "slideshow": {
     "slide_type": "fragment"
    }
   },
   "outputs": [
    {
     "name": "stdout",
     "output_type": "stream",
     "text": [
      "Happy module is running!!\n"
     ]
    }
   ],
   "source": [
    "import happy_0"
   ]
  },
  {
   "cell_type": "markdown",
   "metadata": {
    "slideshow": {
     "slide_type": "fragment"
    }
   },
   "source": [
    "В момент импорта файл запускается целиком. То, что написано - выполняется"
   ]
  },
  {
   "cell_type": "code",
   "execution_count": 3,
   "metadata": {
    "slideshow": {
     "slide_type": "fragment"
    }
   },
   "outputs": [
    {
     "data": {
      "text/plain": [
       "'foobar'"
      ]
     },
     "execution_count": 3,
     "metadata": {},
     "output_type": "execute_result"
    }
   ],
   "source": [
    "happy_0.bar()"
   ]
  },
  {
   "cell_type": "code",
   "execution_count": 4,
   "metadata": {
    "slideshow": {
     "slide_type": "skip"
    }
   },
   "outputs": [],
   "source": [
    "exit()"
   ]
  },
  {
   "cell_type": "code",
   "execution_count": 5,
   "metadata": {
    "slideshow": {
     "slide_type": "subslide"
    }
   },
   "outputs": [],
   "source": [
    "from happy_0 import foo, bar\n",
    "# не рекомендуется писать  from happy_0 import *"
   ]
  },
  {
   "cell_type": "code",
   "execution_count": 6,
   "metadata": {
    "slideshow": {
     "slide_type": "fragment"
    }
   },
   "outputs": [
    {
     "data": {
      "text/plain": [
       "'foobar'"
      ]
     },
     "execution_count": 6,
     "metadata": {},
     "output_type": "execute_result"
    }
   ],
   "source": [
    "foo"
   ]
  },
  {
   "cell_type": "code",
   "execution_count": 7,
   "metadata": {
    "slideshow": {
     "slide_type": "fragment"
    }
   },
   "outputs": [
    {
     "data": {
      "text/plain": [
       "'foobar'"
      ]
     },
     "execution_count": 7,
     "metadata": {},
     "output_type": "execute_result"
    }
   ],
   "source": [
    "bar()"
   ]
  },
  {
   "cell_type": "markdown",
   "metadata": {
    "slideshow": {
     "slide_type": "fragment"
    }
   },
   "source": [
    "Про перезагрузку модулей можно прочитать [тут](https://realpython.com/lessons/reloading-module/)"
   ]
  },
  {
   "cell_type": "markdown",
   "metadata": {
    "slideshow": {
     "slide_type": "slide"
    }
   },
   "source": [
    "## Откуда модуль импортируется"
   ]
  },
  {
   "cell_type": "code",
   "execution_count": 8,
   "metadata": {
    "slideshow": {
     "slide_type": "skip"
    }
   },
   "outputs": [],
   "source": [
    "exit()"
   ]
  },
  {
   "cell_type": "code",
   "execution_count": 9,
   "metadata": {
    "slideshow": {
     "slide_type": "fragment"
    }
   },
   "outputs": [],
   "source": [
    "import numpy as np"
   ]
  },
  {
   "cell_type": "code",
   "execution_count": 10,
   "metadata": {
    "slideshow": {
     "slide_type": "fragment"
    }
   },
   "outputs": [
    {
     "name": "stdout",
     "output_type": "stream",
     "text": [
      "['/Users/brazhenko/Desktop/06.1.ModulesPackagesImport', '/Users/brazhenko/.pyenv/versions/3.7.3/lib/python37.zip', '/Users/brazhenko/.pyenv/versions/3.7.3/lib/python3.7', '/Users/brazhenko/.pyenv/versions/3.7.3/lib/python3.7/lib-dynload', '', '/Users/brazhenko/.pyenv/versions/3.7.3/lib/python3.7/site-packages', '/Users/brazhenko/.pyenv/versions/3.7.3/lib/python3.7/site-packages/IPython/extensions', '/Users/brazhenko/.ipython']\n"
     ]
    }
   ],
   "source": [
    "import sys\n",
    "print(sys.path)"
   ]
  },
  {
   "cell_type": "code",
   "execution_count": 11,
   "metadata": {
    "slideshow": {
     "slide_type": "fragment"
    }
   },
   "outputs": [
    {
     "data": {
      "text/plain": [
       "'/Users/brazhenko/.pyenv/versions/3.7.3/lib/python3.7/site-packages/numpy/__init__.py'"
      ]
     },
     "execution_count": 11,
     "metadata": {},
     "output_type": "execute_result"
    }
   ],
   "source": [
    "np.__file__"
   ]
  },
  {
   "cell_type": "markdown",
   "metadata": {
    "slideshow": {
     "slide_type": "subslide"
    }
   },
   "source": [
    "Создадим файл examples/happy.py"
   ]
  },
  {
   "cell_type": "code",
   "execution_count": 12,
   "metadata": {
    "slideshow": {
     "slide_type": "-"
    }
   },
   "outputs": [
    {
     "name": "stdout",
     "output_type": "stream",
     "text": [
      "Overwriting examples/happy.py\n"
     ]
    }
   ],
   "source": [
    "%%file examples/happy.py\n",
    "\"\"\"I am a happy module\"\"\"\n",
    "\n",
    "foo = 'foobar'\n",
    "\n",
    "def bar():\n",
    "    return foo\n",
    "\n",
    "print('Happy module is running!!')"
   ]
  },
  {
   "cell_type": "markdown",
   "metadata": {
    "slideshow": {
     "slide_type": "-"
    }
   },
   "source": [
    "Любой файл с расширением .py, содержащий python-код, является модулем, его можно импортировать. Требуется импортировать модуль "
   ]
  },
  {
   "cell_type": "code",
   "execution_count": 13,
   "metadata": {
    "slideshow": {
     "slide_type": "subslide"
    }
   },
   "outputs": [
    {
     "ename": "ModuleNotFoundError",
     "evalue": "No module named 'happy'",
     "output_type": "error",
     "traceback": [
      "\u001b[0;31m---------------------------------------------------------------------------\u001b[0m",
      "\u001b[0;31mModuleNotFoundError\u001b[0m                       Traceback (most recent call last)",
      "\u001b[0;32m<ipython-input-13-d4eb1f73b2c2>\u001b[0m in \u001b[0;36m<module>\u001b[0;34m\u001b[0m\n\u001b[0;32m----> 1\u001b[0;31m \u001b[0;32mimport\u001b[0m \u001b[0mhappy\u001b[0m\u001b[0;34m\u001b[0m\u001b[0;34m\u001b[0m\u001b[0m\n\u001b[0m",
      "\u001b[0;31mModuleNotFoundError\u001b[0m: No module named 'happy'"
     ]
    }
   ],
   "source": [
    "import happy"
   ]
  },
  {
   "cell_type": "code",
   "execution_count": 2,
   "metadata": {
    "slideshow": {
     "slide_type": "subslide"
    }
   },
   "outputs": [
    {
     "data": {
      "text/plain": [
       "['examples',\n",
       " '/Users/brazhenko/Desktop/06.1.ModulesPackagesImport',\n",
       " '/Users/brazhenko/.pyenv/versions/3.7.3/lib/python37.zip',\n",
       " '/Users/brazhenko/.pyenv/versions/3.7.3/lib/python3.7',\n",
       " '/Users/brazhenko/.pyenv/versions/3.7.3/lib/python3.7/lib-dynload',\n",
       " '',\n",
       " '/Users/brazhenko/.pyenv/versions/3.7.3/lib/python3.7/site-packages',\n",
       " '/Users/brazhenko/.pyenv/versions/3.7.3/lib/python3.7/site-packages/IPython/extensions',\n",
       " '/Users/brazhenko/.ipython']"
      ]
     },
     "execution_count": 2,
     "metadata": {},
     "output_type": "execute_result"
    }
   ],
   "source": [
    "# Добавим папку examples\n",
    "import sys\n",
    "sys.path.insert(0, \"examples\")\n",
    "sys.path"
   ]
  },
  {
   "cell_type": "code",
   "execution_count": 3,
   "metadata": {
    "slideshow": {
     "slide_type": "fragment"
    }
   },
   "outputs": [
    {
     "name": "stdout",
     "output_type": "stream",
     "text": [
      "Happy module is running!!\n"
     ]
    },
    {
     "data": {
      "text/plain": [
       "'foobar'"
      ]
     },
     "execution_count": 3,
     "metadata": {},
     "output_type": "execute_result"
    }
   ],
   "source": [
    "import happy\n",
    "happy.bar()"
   ]
  },
  {
   "cell_type": "markdown",
   "metadata": {
    "slideshow": {
     "slide_type": "fragment"
    }
   },
   "source": [
    "При импорте содержимое модуля исполняется, результат кешируется"
   ]
  },
  {
   "cell_type": "markdown",
   "metadata": {
    "slideshow": {
     "slide_type": "slide"
    }
   },
   "source": [
    "При импорте модуля создаётся объект типа module, его пространство имён наполняется содержимым модуля и специальными атрибутами:"
   ]
  },
  {
   "cell_type": "code",
   "execution_count": 4,
   "metadata": {
    "slideshow": {
     "slide_type": "-"
    }
   },
   "outputs": [
    {
     "name": "stdout",
     "output_type": "stream",
     "text": [
      "<module 'happy' from 'examples/happy.py'>\n",
      "<class 'module'>\n"
     ]
    }
   ],
   "source": [
    "print(happy)\n",
    "print(type(happy))"
   ]
  },
  {
   "cell_type": "code",
   "execution_count": 5,
   "metadata": {
    "slideshow": {
     "slide_type": "-"
    }
   },
   "outputs": [
    {
     "data": {
      "text/plain": [
       "['__builtins__',\n",
       " '__cached__',\n",
       " '__doc__',\n",
       " '__file__',\n",
       " '__loader__',\n",
       " '__name__',\n",
       " '__package__',\n",
       " '__spec__',\n",
       " 'bar',\n",
       " 'foo']"
      ]
     },
     "execution_count": 5,
     "metadata": {},
     "output_type": "execute_result"
    }
   ],
   "source": [
    "dir(happy)"
   ]
  },
  {
   "cell_type": "code",
   "execution_count": 91,
   "metadata": {
    "slideshow": {
     "slide_type": "-"
    }
   },
   "outputs": [
    {
     "name": "stdout",
     "output_type": "stream",
     "text": [
      "happy\n",
      "I am a happy module\n",
      "examples/happy.py\n"
     ]
    }
   ],
   "source": [
    "print(f'{happy.__name__}')\n",
    "print(f'{happy.__doc__}')\n",
    "print(f'{happy.__file__}') "
   ]
  },
  {
   "cell_type": "markdown",
   "metadata": {
    "slideshow": {
     "slide_type": "slide"
    }
   },
   "source": [
    "При запуске модуля как скрипта специальная переменная `__name__` будет иметь значение `\"__main__\"`."
   ]
  },
  {
   "cell_type": "code",
   "execution_count": 7,
   "metadata": {},
   "outputs": [
    {
     "name": "stdout",
     "output_type": "stream",
     "text": [
      "Overwriting examples/happytest.py\n"
     ]
    }
   ],
   "source": [
    "%%file examples/happytest.py\n",
    "import happy\n",
    "\n",
    "def test():\n",
    "    assert happy.bar() == happy.foo\n",
    "\n",
    "if __name__ == \"__main__\":\n",
    "    print('Running test')\n",
    "    test()\n",
    "    print('OK')    "
   ]
  },
  {
   "cell_type": "code",
   "execution_count": 8,
   "metadata": {},
   "outputs": [
    {
     "name": "stdout",
     "output_type": "stream",
     "text": [
      "Happy module is running!!\n",
      "Running test\n",
      "OK\n"
     ]
    }
   ],
   "source": [
    "!python examples/happytest.py"
   ]
  },
  {
   "cell_type": "markdown",
   "metadata": {
    "slideshow": {
     "slide_type": "slide"
    }
   },
   "source": [
    "<div class=\"alert alert-danger\">\n",
    "    <b>Антипаттерн:</b> объекты из <code>if __name__ == \"__main__\":</code> утекают в глобальное пространство имён\n",
    "</div>"
   ]
  },
  {
   "cell_type": "markdown",
   "metadata": {
    "slideshow": {
     "slide_type": "fragment"
    }
   },
   "source": [
    "Пример общеизвестной библиотеки с анти-паттерном: [pyTelegrambotApi](https://github.com/eternnoir/pyTelegramBotAPI/blob/master/telebot/__init__.py)"
   ]
  },
  {
   "cell_type": "code",
   "execution_count": 9,
   "metadata": {
    "slideshow": {
     "slide_type": "-"
    }
   },
   "outputs": [
    {
     "name": "stdout",
     "output_type": "stream",
     "text": [
      "Overwriting examples/nameleak.py\n"
     ]
    }
   ],
   "source": [
    "%%file examples/nameleak.py\n",
    "\n",
    "def foo():\n",
    "    print(message)\n",
    "\n",
    "if __name__ == \"__main__\":\n",
    "    print('Running test...')\n",
    "    message = 'I just leaked to global namespace'\n",
    "    foo()"
   ]
  },
  {
   "cell_type": "code",
   "execution_count": 10,
   "metadata": {},
   "outputs": [
    {
     "name": "stdout",
     "output_type": "stream",
     "text": [
      "Running test...\n",
      "I just leaked to global namespace\n"
     ]
    }
   ],
   "source": [
    "!python examples/nameleak.py"
   ]
  },
  {
   "cell_type": "markdown",
   "metadata": {
    "slideshow": {
     "slide_type": "subslide"
    }
   },
   "source": [
    "Рекомендуем делать функцию `main()` и вызывать её в блоке `if __name__ == \"__main__\"`.\n",
    "Например:\n",
    "```\n",
    "def main():\n",
    "    message = ....\n",
    "    arguments = argparse...\n",
    "    ....\n",
    "\n",
    "if __name__ == \"__main__\":\n",
    "    main()\n",
    "```\n"
   ]
  },
  {
   "cell_type": "markdown",
   "metadata": {
    "slideshow": {
     "slide_type": "slide"
    }
   },
   "source": [
    " Импортировать модули можно по-разному"
   ]
  },
  {
   "cell_type": "code",
   "execution_count": null,
   "metadata": {
    "slideshow": {
     "slide_type": "-"
    }
   },
   "outputs": [],
   "source": [
    "import numpy\n",
    "import numpy, pandas, requests  # bad style\n",
    "import numpy as np\n",
    "from numpy import absolute, array\n",
    "from numpy import absolute as abs, array  # bad style\n",
    "from numpy import absolute as _abs, array\n",
    "from numpy import *  # bad practice\n",
    "from .examples import happy\n",
    "from .examples.happytest import bar"
   ]
  },
  {
   "cell_type": "markdown",
   "metadata": {
    "slideshow": {
     "slide_type": "subslide"
    }
   },
   "source": [
    "### Style guide\n",
    "* Все импорты в начале модуля\n",
    "* Сначала `import`, потом `from ... import`\n",
    "* Отсортированы в лексикографическом порядке\n",
    "* Разбиты на 3 группы:\n",
    "  - Импорты модулей стандартной библиотеки\n",
    "  - Импорты сторонних библиотек\n",
    "  - Собственные импорты\n",
    " \n",
    "Где описано\n",
    "* https://www.python.org/dev/peps/pep-0008/#imports\n",
    "* https://google.github.io/styleguide/pyguide.html#s2.2-imports"
   ]
  },
  {
   "cell_type": "markdown",
   "metadata": {
    "slideshow": {
     "slide_type": "subslide"
    }
   },
   "source": [
    "Пример, как надо:"
   ]
  },
  {
   "cell_type": "markdown",
   "metadata": {
    "slideshow": {
     "slide_type": "-"
    }
   },
   "source": [
    "```python\n",
    "import dataclasses\n",
    "import types\n",
    "import pathlib\n",
    "from pathlib import Path  # bad style according to google\n",
    "\n",
    "import numpy\n",
    "import pytest\n",
    "\n",
    "from .codeops import count_operations\n",
    "```"
   ]
  },
  {
   "cell_type": "markdown",
   "metadata": {
    "slideshow": {
     "slide_type": "slide"
    }
   },
   "source": [
    "`from <name> import *` импортирует все имена из модуля, кроме тех что начинаются с `_`"
   ]
  },
  {
   "cell_type": "code",
   "execution_count": 12,
   "metadata": {},
   "outputs": [
    {
     "name": "stdout",
     "output_type": "stream",
     "text": [
      "Overwriting examples/circle.py\n"
     ]
    }
   ],
   "source": [
    "%%file examples/circle.py\n",
    "from math import pi as _pi\n",
    "\n",
    "some_string = 'some_string'\n",
    "\n",
    "def get_circumference(radius):\n",
    "    return 2 * _pi * radius"
   ]
  },
  {
   "cell_type": "code",
   "execution_count": 13,
   "metadata": {},
   "outputs": [
    {
     "name": "stdout",
     "output_type": "stream",
     "text": [
      "some_string\n"
     ]
    }
   ],
   "source": [
    "from circle import *\n",
    "assert '_pi' not in globals()\n",
    "get_circumference(1)\n",
    "print(some_string)"
   ]
  },
  {
   "cell_type": "markdown",
   "metadata": {
    "slideshow": {
     "slide_type": "subslide"
    }
   },
   "source": [
    "Список импортируемых через `*` имён можно кастомизировать с помощью переменной `__all__`"
   ]
  },
  {
   "cell_type": "code",
   "execution_count": 19,
   "metadata": {},
   "outputs": [
    {
     "name": "stdout",
     "output_type": "stream",
     "text": [
      "Overwriting examples/allstar.py\n"
     ]
    }
   ],
   "source": [
    "%%file examples/allstar.py\n",
    "\n",
    "x = 100\n",
    "y = 200\n",
    "_z = 300\n",
    "\n",
    "__all__ = ['x', '_z']"
   ]
  },
  {
   "cell_type": "code",
   "execution_count": 20,
   "metadata": {},
   "outputs": [
    {
     "name": "stdout",
     "output_type": "stream",
     "text": [
      "100 300\n"
     ]
    }
   ],
   "source": [
    "from allstar import *\n",
    "print(x, _z)\n",
    "assert 'y' not in globals()"
   ]
  },
  {
   "cell_type": "markdown",
   "metadata": {
    "slideshow": {
     "slide_type": "slide"
    }
   },
   "source": [
    "При первом импорте модуля его содержимое компилируется и кешируется в файле с расширением `.pyc`. Это нужно для ускорения повторной загрузки модуля при следующих запусках.   "
   ]
  },
  {
   "cell_type": "code",
   "execution_count": 21,
   "metadata": {},
   "outputs": [
    {
     "data": {
      "text/plain": [
       "'examples/__pycache__/happy.cpython-37.pyc'"
      ]
     },
     "execution_count": 21,
     "metadata": {},
     "output_type": "execute_result"
    }
   ],
   "source": [
    "happy.__cached__"
   ]
  },
  {
   "cell_type": "markdown",
   "metadata": {},
   "source": [
    "При изменении кода модуля он перекомпилируется при следующем запуске."
   ]
  },
  {
   "cell_type": "markdown",
   "metadata": {
    "slideshow": {
     "slide_type": "fragment"
    }
   },
   "source": [
    "... Но не в `ipython`. Для него нужно прописать:"
   ]
  },
  {
   "cell_type": "markdown",
   "metadata": {},
   "source": [
    "> ```python\n",
    "%load_ext autoreload\n",
    "%autoreload 2\n",
    "```"
   ]
  },
  {
   "cell_type": "code",
   "execution_count": 22,
   "metadata": {
    "slideshow": {
     "slide_type": "slide"
    }
   },
   "outputs": [],
   "source": [
    "import math"
   ]
  },
  {
   "cell_type": "code",
   "execution_count": 23,
   "metadata": {
    "slideshow": {
     "slide_type": "fragment"
    }
   },
   "outputs": [
    {
     "data": {
      "text/plain": [
       "'/Users/brazhenko/.pyenv/versions/3.7.3/lib/python3.7/lib-dynload/math.cpython-37m-darwin.so'"
      ]
     },
     "execution_count": 23,
     "metadata": {},
     "output_type": "execute_result"
    }
   ],
   "source": [
    "math.__file__"
   ]
  },
  {
   "cell_type": "markdown",
   "metadata": {
    "slideshow": {
     "slide_type": "fragment"
    }
   },
   "source": [
    "При импорте модуля `<name>`, интерпретатор ищет файл `<name>.py` в списке директорий `sys.path`."
   ]
  },
  {
   "cell_type": "markdown",
   "metadata": {},
   "source": [
    "* `sys.path` включает текущую директорию\n",
    "* Зависит от окружения, модифицируется в модуле `site`, содержит путь к `site-packages`\n",
    "* Можно кастомизировать с помощью переменной окружения PYTHONPATH\n",
    "* Можно менять в рантайме"
   ]
  },
  {
   "cell_type": "code",
   "execution_count": 24,
   "metadata": {
    "scrolled": true,
    "slideshow": {
     "slide_type": "subslide"
    }
   },
   "outputs": [
    {
     "data": {
      "text/plain": [
       "['examples',\n",
       " '/Users/brazhenko/Desktop/06.1.ModulesPackagesImport',\n",
       " '/Users/brazhenko/.pyenv/versions/3.7.3/lib/python37.zip',\n",
       " '/Users/brazhenko/.pyenv/versions/3.7.3/lib/python3.7',\n",
       " '/Users/brazhenko/.pyenv/versions/3.7.3/lib/python3.7/lib-dynload',\n",
       " '',\n",
       " '/Users/brazhenko/.pyenv/versions/3.7.3/lib/python3.7/site-packages',\n",
       " '/Users/brazhenko/.pyenv/versions/3.7.3/lib/python3.7/site-packages/IPython/extensions',\n",
       " '/Users/brazhenko/.ipython']"
      ]
     },
     "execution_count": 24,
     "metadata": {},
     "output_type": "execute_result"
    }
   ],
   "source": [
    "import sys\n",
    "sys.path"
   ]
  },
  {
   "cell_type": "markdown",
   "metadata": {
    "slideshow": {
     "slide_type": "slide"
    }
   },
   "source": [
    "Циклические импорты"
   ]
  },
  {
   "cell_type": "code",
   "execution_count": 25,
   "metadata": {},
   "outputs": [
    {
     "name": "stdout",
     "output_type": "stream",
     "text": [
      "Overwriting examples/cycle_foo.py\n"
     ]
    }
   ],
   "source": [
    "%%file examples/cycle_foo.py\n",
    "from cycle_bar import xyz\n",
    "\n",
    "abc = 100"
   ]
  },
  {
   "cell_type": "code",
   "execution_count": 26,
   "metadata": {},
   "outputs": [
    {
     "name": "stdout",
     "output_type": "stream",
     "text": [
      "Overwriting examples/cycle_bar.py\n"
     ]
    }
   ],
   "source": [
    "%%file examples/cycle_bar.py\n",
    "from cycle_foo import abc\n",
    "\n",
    "xyz = 100"
   ]
  },
  {
   "cell_type": "code",
   "execution_count": 27,
   "metadata": {
    "slideshow": {
     "slide_type": "subslide"
    }
   },
   "outputs": [
    {
     "ename": "ImportError",
     "evalue": "cannot import name 'abc' from 'cycle_foo' (examples/cycle_foo.py)",
     "output_type": "error",
     "traceback": [
      "\u001b[0;31m---------------------------------------------------------------------------\u001b[0m",
      "\u001b[0;31mImportError\u001b[0m                               Traceback (most recent call last)",
      "\u001b[0;32m<ipython-input-27-1ee8b137e500>\u001b[0m in \u001b[0;36m<module>\u001b[0;34m\u001b[0m\n\u001b[0;32m----> 1\u001b[0;31m \u001b[0;32mimport\u001b[0m \u001b[0mcycle_foo\u001b[0m\u001b[0;34m\u001b[0m\u001b[0;34m\u001b[0m\u001b[0m\n\u001b[0m",
      "\u001b[0;32m~/Desktop/06.1.ModulesPackagesImport/examples/cycle_foo.py\u001b[0m in \u001b[0;36m<module>\u001b[0;34m\u001b[0m\n\u001b[0;32m----> 1\u001b[0;31m \u001b[0;32mfrom\u001b[0m \u001b[0mcycle_bar\u001b[0m \u001b[0;32mimport\u001b[0m \u001b[0mxyz\u001b[0m\u001b[0;34m\u001b[0m\u001b[0;34m\u001b[0m\u001b[0m\n\u001b[0m\u001b[1;32m      2\u001b[0m \u001b[0;34m\u001b[0m\u001b[0m\n\u001b[1;32m      3\u001b[0m \u001b[0mabc\u001b[0m \u001b[0;34m=\u001b[0m \u001b[0;36m100\u001b[0m\u001b[0;34m\u001b[0m\u001b[0;34m\u001b[0m\u001b[0m\n",
      "\u001b[0;32m~/Desktop/06.1.ModulesPackagesImport/examples/cycle_bar.py\u001b[0m in \u001b[0;36m<module>\u001b[0;34m\u001b[0m\n\u001b[0;32m----> 1\u001b[0;31m \u001b[0;32mfrom\u001b[0m \u001b[0mcycle_foo\u001b[0m \u001b[0;32mimport\u001b[0m \u001b[0mabc\u001b[0m\u001b[0;34m\u001b[0m\u001b[0;34m\u001b[0m\u001b[0m\n\u001b[0m\u001b[1;32m      2\u001b[0m \u001b[0;34m\u001b[0m\u001b[0m\n\u001b[1;32m      3\u001b[0m \u001b[0mxyz\u001b[0m \u001b[0;34m=\u001b[0m \u001b[0;36m100\u001b[0m\u001b[0;34m\u001b[0m\u001b[0;34m\u001b[0m\u001b[0m\n",
      "\u001b[0;31mImportError\u001b[0m: cannot import name 'abc' from 'cycle_foo' (examples/cycle_foo.py)"
     ]
    }
   ],
   "source": [
    "import cycle_foo"
   ]
  },
  {
   "cell_type": "markdown",
   "metadata": {
    "slideshow": {
     "slide_type": "slide"
    }
   },
   "source": [
    "Что делать с циклическими импортами?\n",
    "\n",
    "* Вынести общую функциональность в отдельный модуль\n",
    "* Забить на pep8!\n",
    "  - Спрятать вызов внутрь функции, где он используется\n",
    "  - Поставить импорт в конец"
   ]
  },
  {
   "cell_type": "code",
   "execution_count": 28,
   "metadata": {},
   "outputs": [
    {
     "name": "stdout",
     "output_type": "stream",
     "text": [
      "Overwriting examples/cycle_foo.py\n"
     ]
    }
   ],
   "source": [
    "%%file examples/cycle_foo.py\n",
    " \n",
    "abc = 100\n",
    "from cycle_bar import xyz"
   ]
  },
  {
   "cell_type": "code",
   "execution_count": 29,
   "metadata": {},
   "outputs": [],
   "source": [
    "import cycle_foo"
   ]
  },
  {
   "cell_type": "markdown",
   "metadata": {
    "slideshow": {
     "slide_type": "slide"
    }
   },
   "source": [
    "# Пакеты"
   ]
  },
  {
   "cell_type": "markdown",
   "metadata": {
    "slideshow": {
     "slide_type": "slide"
    }
   },
   "source": [
    "* Пакеты == директории с модулями\n",
    "* Позволяют строить иерархии модулей и лучше структурировать код\n",
    "* Любая директория с файлом `__init__.py` является пакетом"
   ]
  },
  {
   "cell_type": "code",
   "execution_count": 112,
   "metadata": {
    "slideshow": {
     "slide_type": "slide"
    }
   },
   "outputs": [
    {
     "name": "stdout",
     "output_type": "stream",
     "text": [
      "\u001b[01;34mmypack\u001b[0m\n",
      "├── \u001b[01;34m__pycache__\u001b[0m\n",
      "│   ├── \u001b[00m__init__.cpython-37.pyc\u001b[0m\n",
      "│   └── \u001b[00mfoo.cpython-37.pyc\u001b[0m\n",
      "├── \u001b[01;34mbar\u001b[0m\n",
      "│   ├── \u001b[01;34m__pycache__\u001b[0m\n",
      "│   │   ├── \u001b[00m__init__.cpython-37.pyc\u001b[0m\n",
      "│   │   ├── \u001b[00m__main__.cpython-37.pyc\u001b[0m\n",
      "│   │   └── \u001b[00mspam.cpython-37.pyc\u001b[0m\n",
      "│   ├── \u001b[00m__init__.py\u001b[0m\n",
      "│   ├── \u001b[00m__main__.py\u001b[0m\n",
      "│   └── \u001b[00mspam.py\u001b[0m\n",
      "├── \u001b[01;34mnot_a_packet\u001b[0m\n",
      "├── \u001b[00m__init__.py\u001b[0m\n",
      "└── \u001b[00mfoo.py\u001b[0m\n",
      "\n",
      "4 directories, 10 files\n"
     ]
    }
   ],
   "source": [
    "!tree --dirsfirst mypack"
   ]
  },
  {
   "cell_type": "code",
   "execution_count": 113,
   "metadata": {},
   "outputs": [
    {
     "name": "stdout",
     "output_type": "stream",
     "text": [
      "Overwriting mypack/__init__.py\n"
     ]
    }
   ],
   "source": [
    "%%file mypack/__init__.py\n",
    "\"\"\"I am empty\"\"\"\n",
    "print(\"__init__.py was just loaded\")"
   ]
  },
  {
   "cell_type": "code",
   "execution_count": 1,
   "metadata": {},
   "outputs": [
    {
     "name": "stdout",
     "output_type": "stream",
     "text": [
      "__init__.py was just loaded\n"
     ]
    },
    {
     "data": {
      "text/plain": [
       "<module 'mypack' from '/Users/brazhenko/Desktop/06.1.ModulesPackagesImport/mypack/__init__.py'>"
      ]
     },
     "execution_count": 1,
     "metadata": {},
     "output_type": "execute_result"
    }
   ],
   "source": [
    "import mypack\n",
    "mypack  # импортируется только __init__.py!"
   ]
  },
  {
   "cell_type": "code",
   "execution_count": 37,
   "metadata": {},
   "outputs": [
    {
     "ename": "AttributeError",
     "evalue": "module 'mypack' has no attribute 'foo'",
     "output_type": "error",
     "traceback": [
      "\u001b[0;31m---------------------------------------------------------------------------\u001b[0m",
      "\u001b[0;31mAttributeError\u001b[0m                            Traceback (most recent call last)",
      "\u001b[0;32m<ipython-input-37-efa9a853dc21>\u001b[0m in \u001b[0;36m<module>\u001b[0;34m\u001b[0m\n\u001b[0;32m----> 1\u001b[0;31m \u001b[0mmypack\u001b[0m\u001b[0;34m.\u001b[0m\u001b[0mfoo\u001b[0m\u001b[0;34m\u001b[0m\u001b[0;34m\u001b[0m\u001b[0m\n\u001b[0m",
      "\u001b[0;31mAttributeError\u001b[0m: module 'mypack' has no attribute 'foo'"
     ]
    }
   ],
   "source": [
    "mypack.foo"
   ]
  },
  {
   "cell_type": "markdown",
   "metadata": {
    "slideshow": {
     "slide_type": "slide"
    }
   },
   "source": [
    "Модули, входящие в пакет, нужно импортировать явно"
   ]
  },
  {
   "cell_type": "code",
   "execution_count": 38,
   "metadata": {
    "slideshow": {
     "slide_type": "-"
    }
   },
   "outputs": [],
   "source": [
    "import mypack.foo"
   ]
  },
  {
   "cell_type": "code",
   "execution_count": 39,
   "metadata": {},
   "outputs": [
    {
     "data": {
      "text/plain": [
       "'mypack.foo'"
      ]
     },
     "execution_count": 39,
     "metadata": {},
     "output_type": "execute_result"
    }
   ],
   "source": [
    "mypack.foo.__name__"
   ]
  },
  {
   "cell_type": "markdown",
   "metadata": {
    "slideshow": {
     "slide_type": "slide"
    }
   },
   "source": [
    "В `__init__.py` можно производить инициализацию пакета. Полезны относительные импорты."
   ]
  },
  {
   "cell_type": "code",
   "execution_count": 40,
   "metadata": {},
   "outputs": [
    {
     "name": "stdout",
     "output_type": "stream",
     "text": [
      "Overwriting mypack/bar/__init__.py\n"
     ]
    }
   ],
   "source": [
    "%%file mypack/bar/__init__.py\n",
    "from . import spam\n",
    "from .. import foo\n",
    "\n",
    "__all__ = ['spam', 'foo']"
   ]
  },
  {
   "cell_type": "code",
   "execution_count": 41,
   "metadata": {},
   "outputs": [
    {
     "name": "stdout",
     "output_type": "stream",
     "text": [
      "mypack.bar.spam\n",
      "mypack.foo\n"
     ]
    }
   ],
   "source": [
    "from mypack.bar import *\n",
    "print(spam.__name__)\n",
    "print(foo.__name__)"
   ]
  },
  {
   "cell_type": "markdown",
   "metadata": {
    "slideshow": {
     "slide_type": "subslide"
    }
   },
   "source": [
    "<div class=\"alert alert-danger\">\n",
    "<b>Антипаттерн:</b> реализовывать логику в  __init__.py\n",
    "</div>"
   ]
  },
  {
   "cell_type": "code",
   "execution_count": 42,
   "metadata": {
    "slideshow": {
     "slide_type": "-"
    }
   },
   "outputs": [
    {
     "name": "stdout",
     "output_type": "stream",
     "text": [
      "Overwriting mypack/bar/__init__.py\n"
     ]
    }
   ],
   "source": [
    "%%file mypack/bar/__init__.py\n",
    "from . import spam\n",
    "from .. import foo\n",
    "\n",
    "def abs(a):\n",
    "    return abs(a)\n",
    "\n",
    "__all__ = ['spam', 'foo', 'abs']"
   ]
  },
  {
   "cell_type": "code",
   "execution_count": 43,
   "metadata": {
    "slideshow": {
     "slide_type": "slide"
    }
   },
   "outputs": [
    {
     "name": "stdout",
     "output_type": "stream",
     "text": [
      "python: can't open file 'mypack.bar': [Errno 2] No such file or directory\n"
     ]
    }
   ],
   "source": [
    "!python mypack.bar"
   ]
  },
  {
   "cell_type": "markdown",
   "metadata": {
    "slideshow": {
     "slide_type": "fragment"
    }
   },
   "source": [
    "Пакеты можно исполнять как скрипты. Для этого нужен файл `__main__.py`\n",
    "* Полезно при разработке пайплайнов"
   ]
  },
  {
   "cell_type": "code",
   "execution_count": null,
   "metadata": {},
   "outputs": [],
   "source": [
    "%%file mypack/bar/__main__.py\n",
    "print(\"Hello from bar.__main__!\")"
   ]
  },
  {
   "cell_type": "code",
   "execution_count": 44,
   "metadata": {},
   "outputs": [
    {
     "name": "stdout",
     "output_type": "stream",
     "text": [
      "Hello from bar.__main__!\n"
     ]
    }
   ],
   "source": [
    "!python -m mypack.bar"
   ]
  },
  {
   "cell_type": "markdown",
   "metadata": {
    "slideshow": {
     "slide_type": "slide"
    }
   },
   "source": [
    "# Распространение пакетов\n",
    "\n",
    "\n",
    "Ссылки про сборку и установку пакетов\n",
    "\n",
    "- https://docs.python.org/3/installing/index.html\n",
    "- https://docs.python.org/3/distributing/index.html\n",
    "- https://packaging.python.org/"
   ]
  },
  {
   "cell_type": "code",
   "execution_count": 53,
   "metadata": {
    "slideshow": {
     "slide_type": "slide"
    }
   },
   "outputs": [
    {
     "name": "stdout",
     "output_type": "stream",
     "text": [
      "Collecting numpy\n",
      "  Using cached https://files.pythonhosted.org/packages/32/dd/43d8b2b2ebf424f6555271a4c9f5b50dc3cc0aafa66c72b4d36863f71358/numpy-1.21.6-cp37-cp37m-macosx_10_9_x86_64.whl\n",
      "Installing collected packages: numpy\n",
      "  Found existing installation: numpy 1.21.6\n",
      "    Uninstalling numpy-1.21.6:\n",
      "      Successfully uninstalled numpy-1.21.6\n",
      "Successfully installed numpy-1.21.6\n",
      "\u001b[33mYou are using pip version 19.0.3, however version 22.3 is available.\n",
      "You should consider upgrading via the 'pip install --upgrade pip' command.\u001b[0m\n"
     ]
    }
   ],
   "source": [
    "!pip3 install --upgrade --force-reinstall  numpy"
   ]
  },
  {
   "cell_type": "markdown",
   "metadata": {
    "slideshow": {
     "slide_type": "slide"
    }
   },
   "source": [
    "https://setuptools.pypa.io/en/latest/userguide/declarative_config.html"
   ]
  },
  {
   "cell_type": "markdown",
   "metadata": {},
   "source": [
    "[setup.py vs setup.cfg in Python](https://towardsdatascience.com/setuptools-python-571e7d5500f2)"
   ]
  },
  {
   "cell_type": "code",
   "execution_count": 92,
   "metadata": {
    "slideshow": {
     "slide_type": "-"
    }
   },
   "outputs": [
    {
     "name": "stdout",
     "output_type": "stream",
     "text": [
      "Overwriting setup.cfg\n"
     ]
    }
   ],
   "source": [
    "%%file setup.cfg\n",
    "[metadata]\n",
    "name = mypack\n",
    "version = 0.2.0\n",
    "author=Dmitry Brazhenko & Konstantin Chernyshev\n",
    "description = An awesome package that does something\n",
    "keywords = one, two\n",
    "license = BSD 3-Clause License\n",
    "classifiers =\n",
    "    Programming Language :: Python :: 3\n",
    "    Programming Language :: Python :: 3.9\n",
    "   \n",
    "[options]\n",
    "packages = find:\n",
    "install_requires =\n",
    "    requests"
   ]
  },
  {
   "cell_type": "markdown",
   "metadata": {
    "slideshow": {
     "slide_type": "subslide"
    }
   },
   "source": [
    "\"PEP 517 doesn’t support editable installs so this is currently incompatible with  \n",
    "`pip install -e`\""
   ]
  },
  {
   "cell_type": "code",
   "execution_count": 93,
   "metadata": {},
   "outputs": [
    {
     "name": "stdout",
     "output_type": "stream",
     "text": [
      "Overwriting setup.py\n"
     ]
    }
   ],
   "source": [
    "%%file setup.py\n",
    "from setuptools import setup\n",
    "\n",
    "setup()"
   ]
  },
  {
   "cell_type": "markdown",
   "metadata": {
    "slideshow": {
     "slide_type": "subslide"
    }
   },
   "source": [
    "А чем собирать? \n",
    "\n",
    "pyproject.toml \n",
    "* https://www.python.org/dev/peps/pep-0518/\n",
    "* https://snarky.ca/what-the-heck-is-pyproject-toml/\n",
    "* https://pip.pypa.io/en/stable/reference/build-system/pyproject-toml/\n",
    "* https://packaging.python.org/en/latest/specifications/declaring-project-metadata/#declaring-project-metadata\n",
    "* https://ianhopkinson.org.uk/2022/02/understanding-setup-py-setup-cfg-and-pyproject-toml-in-python/"
   ]
  },
  {
   "cell_type": "markdown",
   "metadata": {},
   "source": [
    "https://www.python.org/dev/peps/pep-0518/#configparser\n",
    "    \n",
    "\n",
    "```\n",
    "[build]\n",
    "requires =\n",
    "    setuptools\n",
    "    wheel>=0.27\n",
    "```"
   ]
  },
  {
   "cell_type": "code",
   "execution_count": 94,
   "metadata": {},
   "outputs": [
    {
     "name": "stdout",
     "output_type": "stream",
     "text": [
      "Writing pyproject.toml\n"
     ]
    }
   ],
   "source": [
    "%%file pyproject.toml\n",
    "[build-system]\n",
    "requires = [\"setuptools\", \"wheel>=0.27\"]\n",
    "build-backend = \"setuptools.build_meta\""
   ]
  },
  {
   "cell_type": "markdown",
   "metadata": {
    "slideshow": {
     "slide_type": "fragment"
    }
   },
   "source": [
    "А может туда ещё и метадату запихнём? \n",
    "\n",
    "https://www.python.org/dev/peps/pep-0621/"
   ]
  },
  {
   "cell_type": "markdown",
   "metadata": {
    "slideshow": {
     "slide_type": "slide"
    }
   },
   "source": [
    "### Wheels\n",
    "https://www.python.org/dev/peps/pep-0427/  \n",
    "https://www.python.org/dev/peps/pep-0491/  "
   ]
  },
  {
   "cell_type": "code",
   "execution_count": 81,
   "metadata": {
    "scrolled": true,
    "slideshow": {
     "slide_type": "-"
    }
   },
   "outputs": [
    {
     "name": "stdout",
     "output_type": "stream",
     "text": [
      "running sdist\n",
      "running egg_info\n",
      "writing mypack.egg-info/PKG-INFO\n",
      "writing dependency_links to mypack.egg-info/dependency_links.txt\n",
      "writing top-level names to mypack.egg-info/top_level.txt\n",
      "reading manifest file 'mypack.egg-info/SOURCES.txt'\n",
      "writing manifest file 'mypack.egg-info/SOURCES.txt'\n",
      "warning: sdist: standard file not found: should have one of README, README.rst, README.txt, README.md\n",
      "\n",
      "running check\n",
      "warning: check: missing required meta-data: url\n",
      "\n",
      "warning: check: missing meta-data: if 'author' supplied, 'author_email' must be supplied too\n",
      "\n",
      "creating mypack-0.2.0\n",
      "creating mypack-0.2.0/mypack\n",
      "creating mypack-0.2.0/mypack.egg-info\n",
      "creating mypack-0.2.0/mypack/bar\n",
      "copying files to mypack-0.2.0...\n",
      "copying setup.cfg -> mypack-0.2.0\n",
      "copying setup.py -> mypack-0.2.0\n",
      "copying mypack/__init__.py -> mypack-0.2.0/mypack\n",
      "copying mypack/foo.py -> mypack-0.2.0/mypack\n",
      "copying mypack.egg-info/PKG-INFO -> mypack-0.2.0/mypack.egg-info\n",
      "copying mypack.egg-info/SOURCES.txt -> mypack-0.2.0/mypack.egg-info\n",
      "copying mypack.egg-info/dependency_links.txt -> mypack-0.2.0/mypack.egg-info\n",
      "copying mypack.egg-info/top_level.txt -> mypack-0.2.0/mypack.egg-info\n",
      "copying mypack/bar/__init__.py -> mypack-0.2.0/mypack/bar\n",
      "copying mypack/bar/__main__.py -> mypack-0.2.0/mypack/bar\n",
      "copying mypack/bar/spam.py -> mypack-0.2.0/mypack/bar\n",
      "Writing mypack-0.2.0/setup.cfg\n",
      "Creating tar archive\n",
      "removing 'mypack-0.2.0' (and everything under it)\n",
      "running bdist_wheel\n",
      "running build\n",
      "running build_py\n",
      "installing to build/bdist.macosx-10.15-x86_64/wheel\n",
      "running install\n",
      "running install_lib\n",
      "creating build/bdist.macosx-10.15-x86_64/wheel\n",
      "creating build/bdist.macosx-10.15-x86_64/wheel/mypack\n",
      "copying build/lib/mypack/__init__.py -> build/bdist.macosx-10.15-x86_64/wheel/mypack\n",
      "creating build/bdist.macosx-10.15-x86_64/wheel/mypack/bar\n",
      "copying build/lib/mypack/bar/spam.py -> build/bdist.macosx-10.15-x86_64/wheel/mypack/bar\n",
      "copying build/lib/mypack/bar/__init__.py -> build/bdist.macosx-10.15-x86_64/wheel/mypack/bar\n",
      "copying build/lib/mypack/bar/__main__.py -> build/bdist.macosx-10.15-x86_64/wheel/mypack/bar\n",
      "copying build/lib/mypack/foo.py -> build/bdist.macosx-10.15-x86_64/wheel/mypack\n",
      "running install_egg_info\n",
      "Copying mypack.egg-info to build/bdist.macosx-10.15-x86_64/wheel/mypack-0.2.0-py3.7.egg-info\n",
      "running install_scripts\n",
      "creating build/bdist.macosx-10.15-x86_64/wheel/mypack-0.2.0.dist-info/WHEEL\n",
      "creating 'dist/mypack-0.2.0-py3-none-any.whl' and adding 'build/bdist.macosx-10.15-x86_64/wheel' to it\n",
      "adding 'mypack/__init__.py'\n",
      "adding 'mypack/foo.py'\n",
      "adding 'mypack/bar/__init__.py'\n",
      "adding 'mypack/bar/__main__.py'\n",
      "adding 'mypack/bar/spam.py'\n",
      "adding 'mypack-0.2.0.dist-info/METADATA'\n",
      "adding 'mypack-0.2.0.dist-info/WHEEL'\n",
      "adding 'mypack-0.2.0.dist-info/top_level.txt'\n",
      "adding 'mypack-0.2.0.dist-info/RECORD'\n",
      "removing build/bdist.macosx-10.15-x86_64/wheel\n"
     ]
    }
   ],
   "source": [
    "!python setup.py sdist bdist_wheel"
   ]
  },
  {
   "cell_type": "code",
   "execution_count": 82,
   "metadata": {
    "slideshow": {
     "slide_type": "subslide"
    }
   },
   "outputs": [
    {
     "name": "stdout",
     "output_type": "stream",
     "text": [
      "\u001b[01;34m.\u001b[0m\n",
      "├── \u001b[01;34mbuild\u001b[0m\n",
      "│   ├── \u001b[01;34mbdist.macosx-10.15-x86_64\u001b[0m\n",
      "│   └── \u001b[01;34mlib\u001b[0m\n",
      "│       └── \u001b[01;34mmypack\u001b[0m\n",
      "│           ├── \u001b[00m__init__.py\u001b[0m\n",
      "│           ├── \u001b[01;34mbar\u001b[0m\n",
      "│           │   ├── \u001b[00m__init__.py\u001b[0m\n",
      "│           │   ├── \u001b[00m__main__.py\u001b[0m\n",
      "│           │   └── \u001b[00mspam.py\u001b[0m\n",
      "│           └── \u001b[00mfoo.py\u001b[0m\n",
      "├── \u001b[00mbuiltins_demo.py\u001b[0m\n",
      "├── \u001b[01;34mdist\u001b[0m\n",
      "│   ├── \u001b[00mmypack-0.2.0-py3-none-any.whl\u001b[0m\n",
      "│   ├── \u001b[00mmypack-0.2.0-py3.7.egg\u001b[0m\n",
      "│   └── \u001b[01;31mmypack-0.2.0.tar.gz\u001b[0m\n",
      "├── \u001b[00mhappy_0.py\u001b[0m\n",
      "├── \u001b[01;34mmypack\u001b[0m\n",
      "│   ├── \u001b[00m__init__.py\u001b[0m\n",
      "│   ├── \u001b[01;34mbar\u001b[0m\n",
      "│   │   ├── \u001b[00m__init__.py\u001b[0m\n",
      "│   │   ├── \u001b[00m__main__.py\u001b[0m\n",
      "│   │   └── \u001b[00mspam.py\u001b[0m\n",
      "│   └── \u001b[00mfoo.py\u001b[0m\n",
      "├── \u001b[01;34mmypack.egg-info\u001b[0m\n",
      "│   ├── \u001b[00mPKG-INFO\u001b[0m\n",
      "│   ├── \u001b[00mSOURCES.txt\u001b[0m\n",
      "│   ├── \u001b[00mdependency_links.txt\u001b[0m\n",
      "│   └── \u001b[00mtop_level.txt\u001b[0m\n",
      "├── \u001b[00msetup.cfg\u001b[0m\n",
      "└── \u001b[00msetup.py\u001b[0m\n",
      "\n",
      "9 directories, 21 files\n"
     ]
    }
   ],
   "source": [
    "!tree -I \"__pycache__|examples|*.ipynb|*.css\""
   ]
  },
  {
   "cell_type": "code",
   "execution_count": 83,
   "metadata": {
    "slideshow": {
     "slide_type": "subslide"
    }
   },
   "outputs": [
    {
     "name": "stdout",
     "output_type": "stream",
     "text": [
      "drwxr-xr-x  0 brazhenko staff       0 Oct 15 18:47 mypack-0.2.0/\n",
      "-rw-r--r--  0 brazhenko staff     340 Oct 15 18:47 mypack-0.2.0/PKG-INFO\n",
      "drwxr-xr-x  0 brazhenko staff       0 Oct 15 18:47 mypack-0.2.0/mypack/\n",
      "-rw-rw-r--  0 brazhenko staff      20 Oct 15 18:30 mypack-0.2.0/mypack/__init__.py\n",
      "drwxr-xr-x  0 brazhenko staff       0 Oct 15 18:47 mypack-0.2.0/mypack/bar/\n",
      "-rw-rw-r--  0 brazhenko staff     103 Oct 15 18:31 mypack-0.2.0/mypack/bar/__init__.py\n",
      "-rw-rw-r--  0 brazhenko staff      34 Jan 27  2022 mypack-0.2.0/mypack/bar/__main__.py\n",
      "-rw-rw-r--  0 brazhenko staff       0 Jan 27  2022 mypack-0.2.0/mypack/bar/spam.py\n",
      "-rw-rw-r--  0 brazhenko staff       0 Jan 27  2022 mypack-0.2.0/mypack/foo.py\n",
      "drwxr-xr-x  0 brazhenko staff       0 Oct 15 18:47 mypack-0.2.0/mypack.egg-info/\n",
      "-rw-r--r--  0 brazhenko staff     340 Oct 15 18:47 mypack-0.2.0/mypack.egg-info/PKG-INFO\n",
      "-rw-r--r--  0 brazhenko staff     236 Oct 15 18:47 mypack-0.2.0/mypack.egg-info/SOURCES.txt\n",
      "-rw-r--r--  0 brazhenko staff       1 Oct 15 18:47 mypack-0.2.0/mypack.egg-info/dependency_links.txt\n",
      "-rw-r--r--  0 brazhenko staff       7 Oct 15 18:47 mypack-0.2.0/mypack.egg-info/top_level.txt\n",
      "-rw-rw-r--  0 brazhenko staff     353 Oct 15 18:47 mypack-0.2.0/setup.cfg\n",
      "-rw-rw-r--  0 brazhenko staff      38 Oct 15 18:35 mypack-0.2.0/setup.py\n"
     ]
    }
   ],
   "source": [
    "!tar -ztvf dist/mypack-0.2.0.tar.gz"
   ]
  },
  {
   "cell_type": "code",
   "execution_count": 84,
   "metadata": {
    "slideshow": {
     "slide_type": "subslide"
    }
   },
   "outputs": [
    {
     "name": "stdout",
     "output_type": "stream",
     "text": [
      "-rw-r--r--  0 0      0          20 Oct 15 16:30 mypack/__init__.py\n",
      "-rw-r--r--  0 0      0           0 Jan 27  2022 mypack/foo.py\n",
      "-rw-r--r--  0 0      0         103 Oct 15 16:31 mypack/bar/__init__.py\n",
      "-rw-r--r--  0 0      0          34 Jan 27  2022 mypack/bar/__main__.py\n",
      "-rw-r--r--  0 0      0           0 Jan 27  2022 mypack/bar/spam.py\n",
      "-rw-r--r--  0 0      0         340 Oct 15 16:47 mypack-0.2.0.dist-info/METADATA\n",
      "-rw-r--r--  0 0      0          92 Oct 15 16:47 mypack-0.2.0.dist-info/WHEEL\n",
      "-rw-r--r--  0 0      0           7 Oct 15 16:47 mypack-0.2.0.dist-info/top_level.txt\n",
      "-rw-rw-r--  0 0      0         659 Oct 15 16:47 mypack-0.2.0.dist-info/RECORD\n"
     ]
    }
   ],
   "source": [
    "!tar -ztvf dist/mypack-0.2.0-py3-none-any.whl"
   ]
  },
  {
   "cell_type": "markdown",
   "metadata": {
    "slideshow": {
     "slide_type": "slide"
    }
   },
   "source": [
    "### Eggs\n",
    "https://www.python.org/dev/peps/pep-0376/"
   ]
  },
  {
   "cell_type": "code",
   "execution_count": 95,
   "metadata": {
    "scrolled": true,
    "slideshow": {
     "slide_type": "-"
    }
   },
   "outputs": [
    {
     "name": "stdout",
     "output_type": "stream",
     "text": [
      "running install\n",
      "running bdist_egg\n",
      "running egg_info\n",
      "writing mypack.egg-info/PKG-INFO\n",
      "writing dependency_links to mypack.egg-info/dependency_links.txt\n",
      "writing requirements to mypack.egg-info/requires.txt\n",
      "writing top-level names to mypack.egg-info/top_level.txt\n",
      "reading manifest file 'mypack.egg-info/SOURCES.txt'\n",
      "writing manifest file 'mypack.egg-info/SOURCES.txt'\n",
      "installing library code to build/bdist.macosx-10.15-x86_64/egg\n",
      "running install_lib\n",
      "running build_py\n",
      "creating build/bdist.macosx-10.15-x86_64/egg\n",
      "creating build/bdist.macosx-10.15-x86_64/egg/mypack\n",
      "copying build/lib/mypack/__init__.py -> build/bdist.macosx-10.15-x86_64/egg/mypack\n",
      "creating build/bdist.macosx-10.15-x86_64/egg/mypack/bar\n",
      "copying build/lib/mypack/bar/spam.py -> build/bdist.macosx-10.15-x86_64/egg/mypack/bar\n",
      "copying build/lib/mypack/bar/__init__.py -> build/bdist.macosx-10.15-x86_64/egg/mypack/bar\n",
      "copying build/lib/mypack/bar/__main__.py -> build/bdist.macosx-10.15-x86_64/egg/mypack/bar\n",
      "copying build/lib/mypack/foo.py -> build/bdist.macosx-10.15-x86_64/egg/mypack\n",
      "byte-compiling build/bdist.macosx-10.15-x86_64/egg/mypack/__init__.py to __init__.cpython-37.pyc\n",
      "byte-compiling build/bdist.macosx-10.15-x86_64/egg/mypack/bar/spam.py to spam.cpython-37.pyc\n",
      "byte-compiling build/bdist.macosx-10.15-x86_64/egg/mypack/bar/__init__.py to __init__.cpython-37.pyc\n",
      "byte-compiling build/bdist.macosx-10.15-x86_64/egg/mypack/bar/__main__.py to __main__.cpython-37.pyc\n",
      "byte-compiling build/bdist.macosx-10.15-x86_64/egg/mypack/foo.py to foo.cpython-37.pyc\n",
      "creating build/bdist.macosx-10.15-x86_64/egg/EGG-INFO\n",
      "copying mypack.egg-info/PKG-INFO -> build/bdist.macosx-10.15-x86_64/egg/EGG-INFO\n",
      "copying mypack.egg-info/SOURCES.txt -> build/bdist.macosx-10.15-x86_64/egg/EGG-INFO\n",
      "copying mypack.egg-info/dependency_links.txt -> build/bdist.macosx-10.15-x86_64/egg/EGG-INFO\n",
      "copying mypack.egg-info/requires.txt -> build/bdist.macosx-10.15-x86_64/egg/EGG-INFO\n",
      "copying mypack.egg-info/top_level.txt -> build/bdist.macosx-10.15-x86_64/egg/EGG-INFO\n",
      "zip_safe flag not set; analyzing archive contents...\n",
      "creating 'dist/mypack-0.2.0-py3.7.egg' and adding 'build/bdist.macosx-10.15-x86_64/egg' to it\n",
      "removing 'build/bdist.macosx-10.15-x86_64/egg' (and everything under it)\n",
      "Processing mypack-0.2.0-py3.7.egg\n",
      "Removing /Users/brazhenko/.pyenv/versions/3.7.3/lib/python3.7/site-packages/mypack-0.2.0-py3.7.egg\n",
      "Copying mypack-0.2.0-py3.7.egg to /Users/brazhenko/.pyenv/versions/3.7.3/lib/python3.7/site-packages\n",
      "mypack 0.2.0 is already the active version in easy-install.pth\n",
      "\n",
      "Installed /Users/brazhenko/.pyenv/versions/3.7.3/lib/python3.7/site-packages/mypack-0.2.0-py3.7.egg\n",
      "Processing dependencies for mypack==0.2.0\n",
      "Searching for requests==2.26.0\n",
      "Best match: requests 2.26.0\n",
      "Adding requests 2.26.0 to easy-install.pth file\n",
      "\n",
      "Using /Users/brazhenko/.pyenv/versions/3.7.3/lib/python3.7/site-packages\n",
      "Searching for charset-normalizer==2.0.4\n",
      "Best match: charset-normalizer 2.0.4\n",
      "Adding charset-normalizer 2.0.4 to easy-install.pth file\n",
      "Installing normalizer script to /Users/brazhenko/.pyenv/versions/3.7.3/bin\n",
      "\n",
      "Using /Users/brazhenko/.pyenv/versions/3.7.3/lib/python3.7/site-packages\n",
      "Searching for certifi==2020.12.5\n",
      "Best match: certifi 2020.12.5\n",
      "Adding certifi 2020.12.5 to easy-install.pth file\n",
      "\n",
      "Using /Users/brazhenko/.pyenv/versions/3.7.3/lib/python3.7/site-packages\n",
      "Searching for urllib3==1.26.2\n",
      "Best match: urllib3 1.26.2\n",
      "Adding urllib3 1.26.2 to easy-install.pth file\n",
      "\n",
      "Using /Users/brazhenko/.pyenv/versions/3.7.3/lib/python3.7/site-packages\n",
      "Searching for idna==2.10\n",
      "Best match: idna 2.10\n",
      "Adding idna 2.10 to easy-install.pth file\n",
      "\n",
      "Using /Users/brazhenko/.pyenv/versions/3.7.3/lib/python3.7/site-packages\n",
      "Finished processing dependencies for mypack==0.2.0\n"
     ]
    }
   ],
   "source": [
    "!python setup.py install\n",
    "#pip install -e . "
   ]
  },
  {
   "cell_type": "code",
   "execution_count": 59,
   "metadata": {
    "scrolled": true
   },
   "outputs": [
    {
     "name": "stdout",
     "output_type": "stream",
     "text": [
      "\u001b[01;34m.\u001b[0m\n",
      "├── \u001b[01;34mbuild\u001b[0m\n",
      "│   ├── \u001b[01;34mbdist.macosx-10.15-x86_64\u001b[0m\n",
      "│   └── \u001b[01;34mlib\u001b[0m\n",
      "│       └── \u001b[01;34mmypack\u001b[0m\n",
      "│           ├── \u001b[00m__init__.py\u001b[0m\n",
      "│           ├── \u001b[01;34mbar\u001b[0m\n",
      "│           │   ├── \u001b[00m__init__.py\u001b[0m\n",
      "│           │   ├── \u001b[00m__main__.py\u001b[0m\n",
      "│           │   └── \u001b[00mspam.py\u001b[0m\n",
      "│           └── \u001b[00mfoo.py\u001b[0m\n",
      "├── \u001b[00mbuiltins_demo.py\u001b[0m\n",
      "├── \u001b[01;34mdist\u001b[0m\n",
      "│   └── \u001b[00mmypack-0.2.0-py3.7.egg\u001b[0m\n",
      "├── \u001b[00mhappy_0.py\u001b[0m\n",
      "├── \u001b[01;34mmypack\u001b[0m\n",
      "│   ├── \u001b[00m__init__.py\u001b[0m\n",
      "│   ├── \u001b[01;34mbar\u001b[0m\n",
      "│   │   ├── \u001b[00m__init__.py\u001b[0m\n",
      "│   │   ├── \u001b[00m__main__.py\u001b[0m\n",
      "│   │   └── \u001b[00mspam.py\u001b[0m\n",
      "│   └── \u001b[00mfoo.py\u001b[0m\n",
      "├── \u001b[01;34mmypack.egg-info\u001b[0m\n",
      "│   ├── \u001b[00mPKG-INFO\u001b[0m\n",
      "│   ├── \u001b[00mSOURCES.txt\u001b[0m\n",
      "│   ├── \u001b[00mdependency_links.txt\u001b[0m\n",
      "│   └── \u001b[00mtop_level.txt\u001b[0m\n",
      "├── \u001b[00msetup.cfg\u001b[0m\n",
      "└── \u001b[00msetup.py\u001b[0m\n",
      "\n",
      "9 directories, 19 files\n"
     ]
    }
   ],
   "source": [
    "!tree -I \"__pycache__|examples|*.ipynb|*.css\""
   ]
  },
  {
   "cell_type": "markdown",
   "metadata": {
    "slideshow": {
     "slide_type": "slide"
    }
   },
   "source": [
    "### Egg vs Wheel \n",
    "\n",
    "> The Egg format was introduced by setuptools in 2004, whereas the Wheel format was introduced by PEP 427 in 2012.\n",
    "\n",
    "\n",
    "https://packaging.python.org/discussions/wheel-vs-egg/\n",
    "\n",
    "> * Wheel has an official PEP. Egg did not.\n",
    "> * Wheel distribution format, Egg - distribution format and a runtime installation format"
   ]
  },
  {
   "cell_type": "markdown",
   "metadata": {
    "slideshow": {
     "slide_type": "slide"
    }
   },
   "source": [
    "## PyPI\n",
    "The Python Package Index\n",
    "\n",
    "https://pypi.org/"
   ]
  },
  {
   "cell_type": "markdown",
   "metadata": {
    "slideshow": {
     "slide_type": "-"
    }
   },
   "source": [
    "Разработчики библиотек публикуют wheel'ы на PyPI"
   ]
  },
  {
   "cell_type": "markdown",
   "metadata": {},
   "source": [
    "> ```bash\n",
    "pip install Faker\n",
    "```"
   ]
  },
  {
   "cell_type": "code",
   "execution_count": 65,
   "metadata": {},
   "outputs": [
    {
     "name": "stdout",
     "output_type": "stream",
     "text": [
      "Uninstalling Faker-15.1.1:\n",
      "  Successfully uninstalled Faker-15.1.1\n",
      "Note: you may need to restart the kernel to use updated packages.\n"
     ]
    }
   ],
   "source": [
    "%pip uninstall -y Faker"
   ]
  },
  {
   "cell_type": "code",
   "execution_count": 66,
   "metadata": {},
   "outputs": [
    {
     "name": "stdout",
     "output_type": "stream",
     "text": [
      "Collecting Faker\n",
      "  Using cached https://files.pythonhosted.org/packages/ca/72/8ec0f59e534dc150942c661611129dd7732d236968d26e744482e19c5701/Faker-15.1.1-py3-none-any.whl\n",
      "Requirement already satisfied: typing-extensions>=3.10.0.1; python_version < \"3.8\" in /Users/brazhenko/.pyenv/versions/3.7.3/lib/python3.7/site-packages (from Faker) (4.4.0)\n",
      "Requirement already satisfied: python-dateutil>=2.4 in /Users/brazhenko/.pyenv/versions/3.7.3/lib/python3.7/site-packages (from Faker) (2.8.2)\n",
      "Requirement already satisfied: six>=1.5 in /Users/brazhenko/.pyenv/versions/3.7.3/lib/python3.7/site-packages (from python-dateutil>=2.4->Faker) (1.15.0)\n",
      "Installing collected packages: Faker\n",
      "Successfully installed Faker-15.1.1\n",
      "\u001b[33mYou are using pip version 19.0.3, however version 22.3 is available.\n",
      "You should consider upgrading via the 'pip install --upgrade pip' command.\u001b[0m\n",
      "Note: you may need to restart the kernel to use updated packages.\n"
     ]
    }
   ],
   "source": [
    "%pip install Faker"
   ]
  },
  {
   "cell_type": "markdown",
   "metadata": {
    "slideshow": {
     "slide_type": "slide"
    }
   },
   "source": [
    "# Система импорта"
   ]
  },
  {
   "cell_type": "markdown",
   "metadata": {
    "slideshow": {
     "slide_type": "slide"
    }
   },
   "source": [
    "Функция `__import__` имеет side-effect: загруженный модуль кешируется в словаре `sys.modules`"
   ]
  },
  {
   "cell_type": "code",
   "execution_count": 68,
   "metadata": {
    "scrolled": true
   },
   "outputs": [
    {
     "data": {
      "text/plain": [
       "True"
      ]
     },
     "execution_count": 68,
     "metadata": {},
     "output_type": "execute_result"
    }
   ],
   "source": [
    "import sys\n",
    "sys.modules['sys'] is sys"
   ]
  },
  {
   "cell_type": "markdown",
   "metadata": {},
   "source": [
    "* При повторном импорте возвращается объект из `sys.modules`.\n",
    "* При импорте модуля в разных частях программы вы получите один и тот же объект.\n",
    "* Благодаря этому свойству модули можно использовать как синглтоны.\n",
    "* Для перезагрузки модулей в интерактивном режиме есть `importlib.reload`, так же ipython-магия `%autoreload`.\n",
    "\n"
   ]
  },
  {
   "cell_type": "markdown",
   "metadata": {},
   "source": [
    "Пример:\n",
    "```\n",
    "# тут установлен numpy версии 1\n",
    "import numpy\n",
    "# тут вы обновили numpy до версии 2, но не перезапустили kernel в jupyter\n",
    "import numpy # <- numpy останется на версии 1\n",
    "```"
   ]
  },
  {
   "cell_type": "markdown",
   "metadata": {
    "slideshow": {
     "slide_type": "slide"
    }
   },
   "source": [
    "Хардкорный доклад Дэвида Бизли про систему импорта в питоне, на 200 слайдов!\n",
    "\n",
    "http://www.dabeaz.com/modulepackage/"
   ]
  },
  {
   "cell_type": "code",
   "execution_count": 73,
   "metadata": {
    "slideshow": {
     "slide_type": "slide"
    }
   },
   "outputs": [
    {
     "name": "stdout",
     "output_type": "stream",
     "text": [
      "Overwriting builtins_demo.py\n"
     ]
    }
   ],
   "source": [
    "%%file builtins_demo.py\n",
    "import builtins\n",
    "\n",
    "def foo():\n",
    "    print('I am imported!')\n",
    "    print(f'{__builtins__ is builtins}')\n",
    "    print(f'{__builtins__ is builtins.__dict__}')\n",
    "\n",
    "if __name__ == '__main__':\n",
    "    print('I am main module!')\n",
    "    print(f'{__builtins__ is builtins}')\n",
    "    print(f'{__builtins__ is builtins.__dict__}')"
   ]
  },
  {
   "cell_type": "code",
   "execution_count": 74,
   "metadata": {},
   "outputs": [
    {
     "name": "stdout",
     "output_type": "stream",
     "text": [
      "I am main module!\n",
      "True\n",
      "False\n"
     ]
    }
   ],
   "source": [
    "!python builtins_demo.py"
   ]
  },
  {
   "cell_type": "code",
   "execution_count": 111,
   "metadata": {},
   "outputs": [
    {
     "name": "stdout",
     "output_type": "stream",
     "text": [
      "I am imported!\n",
      "False\n",
      "True\n"
     ]
    }
   ],
   "source": [
    "!python -c 'from builtins_demo import foo; foo()'"
   ]
  },
  {
   "cell_type": "markdown",
   "metadata": {
    "slideshow": {
     "slide_type": "slide"
    }
   },
   "source": [
    "# Бонус 1: консольные утилиты из Python-пакетов\n",
    "\n",
    "\n",
    "* При установке библиотеки добавить \"console entry_point\". [Пример](https://python-packaging.readthedocs.io/en/latest/command-line-scripts.html)\n",
    "* Для считывания входных аргументов можно исопльзовать [Typer](https://towardsdatascience.com/typer-probably-the-simplest-to-use-python-command-line-interface-library-17abf1a5fd3e), [Click](https://click.palletsprojects.com/en/8.1.x/arguments/), Argparse"
   ]
  },
  {
   "cell_type": "markdown",
   "metadata": {
    "slideshow": {
     "slide_type": "slide"
    }
   },
   "source": [
    "# Бонус 2: ipywidgets для аналитических библиотек\n",
    "\n",
    "[Коллекция примеров](https://github.com/jupyter-widgets/ipywidgets/tree/master/docs/source/examples)\n",
    "\n",
    "* Полезная тулза при разработке аналитических и jupyter-ориентированных библиотек"
   ]
  },
  {
   "cell_type": "code",
   "execution_count": 109,
   "metadata": {},
   "outputs": [
    {
     "data": {
      "application/vnd.jupyter.widget-view+json": {
       "model_id": "ffc3aa30bf3143babb6ef4499b19b29b",
       "version_major": 2,
       "version_minor": 0
      },
      "text/plain": [
       "IntSlider(value=6, max=10)"
      ]
     },
     "execution_count": 109,
     "metadata": {},
     "output_type": "execute_result"
    }
   ],
   "source": [
    "import ipywidgets\n",
    "a = ipywidgets.IntSlider(value=6, min=0, max=10)\n",
    "a"
   ]
  },
  {
   "attachments": {
    "ipywidgets_example.png": {
     "image/png": "[encoded data removed]"
    }
   },
   "cell_type": "markdown",
   "metadata": {},
   "source": [
    "![ipywidgets_example.png](attachment:ipywidgets_example.png)"
   ]
  }
 ],
 "metadata": {
  "celltoolbar": "Slideshow",
  "kernelspec": {
   "display_name": "Python 3 (ipykernel)",
   "language": "python",
   "name": "python3"
  },
  "language_info": {
   "codemirror_mode": {
    "name": "ipython",
    "version": 3
   },
   "file_extension": ".py",
   "mimetype": "text/x-python",
   "name": "python",
   "nbconvert_exporter": "python",
   "pygments_lexer": "ipython3",
   "version": "3.11.5"
  },
  "rise": {
   "enable_chalkboard": true,
   "footer": "<p style=\"margin: 5px; color: #a0a0a0\">YSDA Python Course</p>",
   "scroll": true,
   "start_slideshow_at": "selected",
   "theme": "serif",
   "transition": "none"
  }
 },
 "nbformat": 4,
 "nbformat_minor": 4
}
