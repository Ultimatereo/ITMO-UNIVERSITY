{
 "cells": [
  {
   "cell_type": "markdown",
   "id": "47e5c221",
   "metadata": {
    "slideshow": {
     "slide_type": "slide"
    }
   },
   "source": [
    "<center>\n",
    "    <img src=\"https://upload.wikimedia.org/wikipedia/commons/a/a8/%D0%9B%D0%9E%D0%93%D0%9E_%D0%A8%D0%90%D0%94.png\" width=500px/>\n",
    "    <font>Python 2021</font><br/>\n",
    "    <br/>\n",
    "    <br/>\n",
    "    <b style=\"font-size: 2em\">Разбор задач: ModulesPackagesImport</b><br/>\n",
    "    <br/>\n",
    "    <font>Константин Чернышев</font><br/>\n",
    "</center>"
   ]
  },
  {
   "cell_type": "markdown",
   "id": "f04f5c04",
   "metadata": {
    "slideshow": {
     "slide_type": "slide"
    }
   },
   "source": [
    "### 1. basic_module  → etalon (1/7)"
   ]
  },
  {
   "cell_type": "code",
   "execution_count": 1,
   "id": "01747cc7",
   "metadata": {
    "ExecuteTime": {
     "end_time": "2024-01-09T11:38:58.634408900Z",
     "start_time": "2024-01-09T11:38:57.285159600Z"
    },
    "pycharm": {
     "name": "#%%\n"
    }
   },
   "outputs": [
    {
     "ename": "SyntaxError",
     "evalue": "invalid syntax (3022680200.py, line 4)",
     "output_type": "error",
     "traceback": [
      "\u001b[1;36m  Cell \u001b[1;32mIn[1], line 4\u001b[1;36m\u001b[0m\n\u001b[1;33m    version = 0.0.1\u001b[0m\n\u001b[1;37m                 ^\u001b[0m\n\u001b[1;31mSyntaxError\u001b[0m\u001b[1;31m:\u001b[0m invalid syntax\n"
     ]
    }
   ],
   "source": [
    "# setup.cfg\n",
    "[metadata]\n",
    "name = simple_pass_manager\n",
    "version = 0.0.1\n",
    "author = Konstantin Chernyshev\n",
    "author_email = kdchernyshev@gmail.com\n",
    "description = A small package with simple password manager\n",
    "classifiers =\n",
    "    Programming Language :: Python :: 3\n",
    "    Operating System :: OS Independent\n",
    "\n",
    "[options]\n",
    "package_dir =\n",
    "    = simple_pass_manager\n",
    "packages = find:\n",
    "install_requires =\n",
    "    cryptography\n",
    "python_requires = >=3.9\n",
    "\n",
    "[options.packages.find]\n",
    "where = simple_pass_manager"
   ]
  },
  {
   "cell_type": "code",
   "execution_count": 2,
   "id": "d19c9ed5",
   "metadata": {
    "ExecuteTime": {
     "start_time": "2024-01-09T11:38:57.299392200Z"
    },
    "pycharm": {
     "name": "#%%\n"
    }
   },
   "outputs": [
    {
     "ename": "AttributeError",
     "evalue": "'tuple' object has no attribute 'tb_frame'",
     "output_type": "error",
     "traceback": [
      "\u001b[1;31m---------------------------------------------------------------------------\u001b[0m",
      "\u001b[1;31mGetoptError\u001b[0m                               Traceback (most recent call last)",
      "File \u001b[1;32mD:\\Python\\Lib\\distutils\\fancy_getopt.py:233\u001b[0m, in \u001b[0;36mFancyGetopt.getopt\u001b[1;34m(self, args, object)\u001b[0m\n\u001b[0;32m    232\u001b[0m \u001b[38;5;28;01mtry\u001b[39;00m:\n\u001b[1;32m--> 233\u001b[0m     opts, args \u001b[38;5;241m=\u001b[39m \u001b[43mgetopt\u001b[49m\u001b[38;5;241;43m.\u001b[39;49m\u001b[43mgetopt\u001b[49m\u001b[43m(\u001b[49m\u001b[43margs\u001b[49m\u001b[43m,\u001b[49m\u001b[43m \u001b[49m\u001b[43mshort_opts\u001b[49m\u001b[43m,\u001b[49m\u001b[43m \u001b[49m\u001b[38;5;28;43mself\u001b[39;49m\u001b[38;5;241;43m.\u001b[39;49m\u001b[43mlong_opts\u001b[49m\u001b[43m)\u001b[49m\n\u001b[0;32m    234\u001b[0m \u001b[38;5;28;01mexcept\u001b[39;00m getopt\u001b[38;5;241m.\u001b[39merror \u001b[38;5;28;01mas\u001b[39;00m msg:\n",
      "File \u001b[1;32mD:\\Python\\Lib\\getopt.py:95\u001b[0m, in \u001b[0;36mgetopt\u001b[1;34m(args, shortopts, longopts)\u001b[0m\n\u001b[0;32m     94\u001b[0m     \u001b[38;5;28;01melse\u001b[39;00m:\n\u001b[1;32m---> 95\u001b[0m         opts, args \u001b[38;5;241m=\u001b[39m \u001b[43mdo_shorts\u001b[49m\u001b[43m(\u001b[49m\u001b[43mopts\u001b[49m\u001b[43m,\u001b[49m\u001b[43m \u001b[49m\u001b[43margs\u001b[49m\u001b[43m[\u001b[49m\u001b[38;5;241;43m0\u001b[39;49m\u001b[43m]\u001b[49m\u001b[43m[\u001b[49m\u001b[38;5;241;43m1\u001b[39;49m\u001b[43m:\u001b[49m\u001b[43m]\u001b[49m\u001b[43m,\u001b[49m\u001b[43m \u001b[49m\u001b[43mshortopts\u001b[49m\u001b[43m,\u001b[49m\u001b[43m \u001b[49m\u001b[43margs\u001b[49m\u001b[43m[\u001b[49m\u001b[38;5;241;43m1\u001b[39;49m\u001b[43m:\u001b[49m\u001b[43m]\u001b[49m\u001b[43m)\u001b[49m\n\u001b[0;32m     97\u001b[0m \u001b[38;5;28;01mreturn\u001b[39;00m opts, args\n",
      "File \u001b[1;32mD:\\Python\\Lib\\getopt.py:195\u001b[0m, in \u001b[0;36mdo_shorts\u001b[1;34m(opts, optstring, shortopts, args)\u001b[0m\n\u001b[0;32m    194\u001b[0m opt, optstring \u001b[38;5;241m=\u001b[39m optstring[\u001b[38;5;241m0\u001b[39m], optstring[\u001b[38;5;241m1\u001b[39m:]\n\u001b[1;32m--> 195\u001b[0m \u001b[38;5;28;01mif\u001b[39;00m \u001b[43mshort_has_arg\u001b[49m\u001b[43m(\u001b[49m\u001b[43mopt\u001b[49m\u001b[43m,\u001b[49m\u001b[43m \u001b[49m\u001b[43mshortopts\u001b[49m\u001b[43m)\u001b[49m:\n\u001b[0;32m    196\u001b[0m     \u001b[38;5;28;01mif\u001b[39;00m optstring \u001b[38;5;241m==\u001b[39m \u001b[38;5;124m'\u001b[39m\u001b[38;5;124m'\u001b[39m:\n",
      "File \u001b[1;32mD:\\Python\\Lib\\getopt.py:211\u001b[0m, in \u001b[0;36mshort_has_arg\u001b[1;34m(opt, shortopts)\u001b[0m\n\u001b[0;32m    210\u001b[0m         \u001b[38;5;28;01mreturn\u001b[39;00m shortopts\u001b[38;5;241m.\u001b[39mstartswith(\u001b[38;5;124m'\u001b[39m\u001b[38;5;124m:\u001b[39m\u001b[38;5;124m'\u001b[39m, i\u001b[38;5;241m+\u001b[39m\u001b[38;5;241m1\u001b[39m)\n\u001b[1;32m--> 211\u001b[0m \u001b[38;5;28;01mraise\u001b[39;00m GetoptError(_(\u001b[38;5;124m'\u001b[39m\u001b[38;5;124moption -\u001b[39m\u001b[38;5;132;01m%s\u001b[39;00m\u001b[38;5;124m not recognized\u001b[39m\u001b[38;5;124m'\u001b[39m) \u001b[38;5;241m%\u001b[39m opt, opt)\n",
      "\u001b[1;31mGetoptError\u001b[0m: option -f not recognized",
      "\nDuring handling of the above exception, another exception occurred:\n",
      "\u001b[1;31mDistutilsArgError\u001b[0m                         Traceback (most recent call last)",
      "File \u001b[1;32mD:\\Python\\Lib\\distutils\\core.py:134\u001b[0m, in \u001b[0;36msetup\u001b[1;34m(**attrs)\u001b[0m\n\u001b[0;32m    133\u001b[0m \u001b[38;5;28;01mtry\u001b[39;00m:\n\u001b[1;32m--> 134\u001b[0m     ok \u001b[38;5;241m=\u001b[39m \u001b[43mdist\u001b[49m\u001b[38;5;241;43m.\u001b[39;49m\u001b[43mparse_command_line\u001b[49m\u001b[43m(\u001b[49m\u001b[43m)\u001b[49m\n\u001b[0;32m    135\u001b[0m \u001b[38;5;28;01mexcept\u001b[39;00m DistutilsArgError \u001b[38;5;28;01mas\u001b[39;00m msg:\n",
      "File \u001b[1;32mD:\\Python\\Lib\\distutils\\dist.py:475\u001b[0m, in \u001b[0;36mDistribution.parse_command_line\u001b[1;34m(self)\u001b[0m\n\u001b[0;32m    474\u001b[0m parser\u001b[38;5;241m.\u001b[39mset_aliases({\u001b[38;5;124m'\u001b[39m\u001b[38;5;124mlicence\u001b[39m\u001b[38;5;124m'\u001b[39m: \u001b[38;5;124m'\u001b[39m\u001b[38;5;124mlicense\u001b[39m\u001b[38;5;124m'\u001b[39m})\n\u001b[1;32m--> 475\u001b[0m args \u001b[38;5;241m=\u001b[39m \u001b[43mparser\u001b[49m\u001b[38;5;241;43m.\u001b[39;49m\u001b[43mgetopt\u001b[49m\u001b[43m(\u001b[49m\u001b[43margs\u001b[49m\u001b[38;5;241;43m=\u001b[39;49m\u001b[38;5;28;43mself\u001b[39;49m\u001b[38;5;241;43m.\u001b[39;49m\u001b[43mscript_args\u001b[49m\u001b[43m,\u001b[49m\u001b[43m \u001b[49m\u001b[38;5;28;43mobject\u001b[39;49m\u001b[38;5;241;43m=\u001b[39;49m\u001b[38;5;28;43mself\u001b[39;49m\u001b[43m)\u001b[49m\n\u001b[0;32m    476\u001b[0m option_order \u001b[38;5;241m=\u001b[39m parser\u001b[38;5;241m.\u001b[39mget_option_order()\n",
      "File \u001b[1;32mD:\\Python\\Lib\\distutils\\fancy_getopt.py:235\u001b[0m, in \u001b[0;36mFancyGetopt.getopt\u001b[1;34m(self, args, object)\u001b[0m\n\u001b[0;32m    234\u001b[0m \u001b[38;5;28;01mexcept\u001b[39;00m getopt\u001b[38;5;241m.\u001b[39merror \u001b[38;5;28;01mas\u001b[39;00m msg:\n\u001b[1;32m--> 235\u001b[0m     \u001b[38;5;28;01mraise\u001b[39;00m DistutilsArgError(msg)\n\u001b[0;32m    237\u001b[0m \u001b[38;5;28;01mfor\u001b[39;00m opt, val \u001b[38;5;129;01min\u001b[39;00m opts:\n",
      "\u001b[1;31mDistutilsArgError\u001b[0m: option -f not recognized",
      "\nDuring handling of the above exception, another exception occurred:\n",
      "\u001b[1;31mSystemExit\u001b[0m                                Traceback (most recent call last)",
      "    \u001b[1;31m[... skipping hidden 1 frame]\u001b[0m\n",
      "Cell \u001b[1;32mIn[2], line 4\u001b[0m\n\u001b[0;32m      2\u001b[0m \u001b[38;5;28;01mimport\u001b[39;00m \u001b[38;5;21;01msetuptools\u001b[39;00m\n\u001b[1;32m----> 4\u001b[0m \u001b[43msetuptools\u001b[49m\u001b[38;5;241;43m.\u001b[39;49m\u001b[43msetup\u001b[49m\u001b[43m(\u001b[49m\u001b[43m)\u001b[49m\n",
      "File \u001b[1;32mD:\\PythonEnvs\\PythonCourse\\Lib\\site-packages\\setuptools\\__init__.py:153\u001b[0m, in \u001b[0;36msetup\u001b[1;34m(**attrs)\u001b[0m\n\u001b[0;32m    152\u001b[0m _install_setup_requires(attrs)\n\u001b[1;32m--> 153\u001b[0m \u001b[38;5;28;01mreturn\u001b[39;00m \u001b[43mdistutils\u001b[49m\u001b[38;5;241;43m.\u001b[39;49m\u001b[43mcore\u001b[49m\u001b[38;5;241;43m.\u001b[39;49m\u001b[43msetup\u001b[49m\u001b[43m(\u001b[49m\u001b[38;5;241;43m*\u001b[39;49m\u001b[38;5;241;43m*\u001b[39;49m\u001b[43mattrs\u001b[49m\u001b[43m)\u001b[49m\n",
      "File \u001b[1;32mD:\\Python\\Lib\\distutils\\core.py:136\u001b[0m, in \u001b[0;36msetup\u001b[1;34m(**attrs)\u001b[0m\n\u001b[0;32m    135\u001b[0m \u001b[38;5;28;01mexcept\u001b[39;00m DistutilsArgError \u001b[38;5;28;01mas\u001b[39;00m msg:\n\u001b[1;32m--> 136\u001b[0m     \u001b[38;5;28;01mraise\u001b[39;00m \u001b[38;5;167;01mSystemExit\u001b[39;00m(gen_usage(dist\u001b[38;5;241m.\u001b[39mscript_name) \u001b[38;5;241m+\u001b[39m \u001b[38;5;124m\"\u001b[39m\u001b[38;5;130;01m\\n\u001b[39;00m\u001b[38;5;124merror: \u001b[39m\u001b[38;5;132;01m%s\u001b[39;00m\u001b[38;5;124m\"\u001b[39m \u001b[38;5;241m%\u001b[39m msg)\n\u001b[0;32m    138\u001b[0m \u001b[38;5;28;01mif\u001b[39;00m DEBUG:\n",
      "\u001b[1;31mSystemExit\u001b[0m: usage: ipykernel_launcher.py [global_opts] cmd1 [cmd1_opts] [cmd2 [cmd2_opts] ...]\n   or: ipykernel_launcher.py --help [cmd1 cmd2 ...]\n   or: ipykernel_launcher.py --help-commands\n   or: ipykernel_launcher.py cmd --help\n\nerror: option -f not recognized",
      "\nDuring handling of the above exception, another exception occurred:\n",
      "\u001b[1;31mAttributeError\u001b[0m                            Traceback (most recent call last)",
      "    \u001b[1;31m[... skipping hidden 1 frame]\u001b[0m\n",
      "File \u001b[1;32mD:\\PythonEnvs\\PythonCourse\\Lib\\site-packages\\IPython\\core\\interactiveshell.py:2121\u001b[0m, in \u001b[0;36mInteractiveShell.showtraceback\u001b[1;34m(self, exc_tuple, filename, tb_offset, exception_only, running_compiled_code)\u001b[0m\n\u001b[0;32m   2118\u001b[0m \u001b[38;5;28;01mif\u001b[39;00m exception_only:\n\u001b[0;32m   2119\u001b[0m     stb \u001b[38;5;241m=\u001b[39m [\u001b[38;5;124m'\u001b[39m\u001b[38;5;124mAn exception has occurred, use \u001b[39m\u001b[38;5;124m%\u001b[39m\u001b[38;5;124mtb to see \u001b[39m\u001b[38;5;124m'\u001b[39m\n\u001b[0;32m   2120\u001b[0m            \u001b[38;5;124m'\u001b[39m\u001b[38;5;124mthe full traceback.\u001b[39m\u001b[38;5;130;01m\\n\u001b[39;00m\u001b[38;5;124m'\u001b[39m]\n\u001b[1;32m-> 2121\u001b[0m     stb\u001b[38;5;241m.\u001b[39mextend(\u001b[38;5;28;43mself\u001b[39;49m\u001b[38;5;241;43m.\u001b[39;49m\u001b[43mInteractiveTB\u001b[49m\u001b[38;5;241;43m.\u001b[39;49m\u001b[43mget_exception_only\u001b[49m\u001b[43m(\u001b[49m\u001b[43metype\u001b[49m\u001b[43m,\u001b[49m\n\u001b[0;32m   2122\u001b[0m \u001b[43m                                                     \u001b[49m\u001b[43mvalue\u001b[49m\u001b[43m)\u001b[49m)\n\u001b[0;32m   2123\u001b[0m \u001b[38;5;28;01melse\u001b[39;00m:\n\u001b[0;32m   2125\u001b[0m     \u001b[38;5;28;01mdef\u001b[39;00m \u001b[38;5;21mcontains_exceptiongroup\u001b[39m(val):\n",
      "File \u001b[1;32mD:\\PythonEnvs\\PythonCourse\\Lib\\site-packages\\IPython\\core\\ultratb.py:710\u001b[0m, in \u001b[0;36mListTB.get_exception_only\u001b[1;34m(self, etype, value)\u001b[0m\n\u001b[0;32m    702\u001b[0m \u001b[38;5;28;01mdef\u001b[39;00m \u001b[38;5;21mget_exception_only\u001b[39m(\u001b[38;5;28mself\u001b[39m, etype, value):\n\u001b[0;32m    703\u001b[0m \u001b[38;5;250m    \u001b[39m\u001b[38;5;124;03m\"\"\"Only print the exception type and message, without a traceback.\u001b[39;00m\n\u001b[0;32m    704\u001b[0m \n\u001b[0;32m    705\u001b[0m \u001b[38;5;124;03m    Parameters\u001b[39;00m\n\u001b[1;32m   (...)\u001b[0m\n\u001b[0;32m    708\u001b[0m \u001b[38;5;124;03m    value : exception value\u001b[39;00m\n\u001b[0;32m    709\u001b[0m \u001b[38;5;124;03m    \"\"\"\u001b[39;00m\n\u001b[1;32m--> 710\u001b[0m     \u001b[38;5;28;01mreturn\u001b[39;00m \u001b[43mListTB\u001b[49m\u001b[38;5;241;43m.\u001b[39;49m\u001b[43mstructured_traceback\u001b[49m\u001b[43m(\u001b[49m\u001b[38;5;28;43mself\u001b[39;49m\u001b[43m,\u001b[49m\u001b[43m \u001b[49m\u001b[43metype\u001b[49m\u001b[43m,\u001b[49m\u001b[43m \u001b[49m\u001b[43mvalue\u001b[49m\u001b[43m)\u001b[49m\n",
      "File \u001b[1;32mD:\\PythonEnvs\\PythonCourse\\Lib\\site-packages\\IPython\\core\\ultratb.py:568\u001b[0m, in \u001b[0;36mListTB.structured_traceback\u001b[1;34m(self, etype, evalue, etb, tb_offset, context)\u001b[0m\n\u001b[0;32m    565\u001b[0m     chained_exc_ids\u001b[38;5;241m.\u001b[39madd(\u001b[38;5;28mid\u001b[39m(exception[\u001b[38;5;241m1\u001b[39m]))\n\u001b[0;32m    566\u001b[0m     chained_exceptions_tb_offset \u001b[38;5;241m=\u001b[39m \u001b[38;5;241m0\u001b[39m\n\u001b[0;32m    567\u001b[0m     out_list \u001b[38;5;241m=\u001b[39m (\n\u001b[1;32m--> 568\u001b[0m         \u001b[38;5;28;43mself\u001b[39;49m\u001b[38;5;241;43m.\u001b[39;49m\u001b[43mstructured_traceback\u001b[49m\u001b[43m(\u001b[49m\n\u001b[0;32m    569\u001b[0m \u001b[43m            \u001b[49m\u001b[43metype\u001b[49m\u001b[43m,\u001b[49m\n\u001b[0;32m    570\u001b[0m \u001b[43m            \u001b[49m\u001b[43mevalue\u001b[49m\u001b[43m,\u001b[49m\n\u001b[0;32m    571\u001b[0m \u001b[43m            \u001b[49m\u001b[43m(\u001b[49m\u001b[43metb\u001b[49m\u001b[43m,\u001b[49m\u001b[43m \u001b[49m\u001b[43mchained_exc_ids\u001b[49m\u001b[43m)\u001b[49m\u001b[43m,\u001b[49m\u001b[43m  \u001b[49m\u001b[38;5;66;43;03m# type: ignore\u001b[39;49;00m\n\u001b[0;32m    572\u001b[0m \u001b[43m            \u001b[49m\u001b[43mchained_exceptions_tb_offset\u001b[49m\u001b[43m,\u001b[49m\n\u001b[0;32m    573\u001b[0m \u001b[43m            \u001b[49m\u001b[43mcontext\u001b[49m\u001b[43m,\u001b[49m\n\u001b[0;32m    574\u001b[0m \u001b[43m        \u001b[49m\u001b[43m)\u001b[49m\n\u001b[0;32m    575\u001b[0m         \u001b[38;5;241m+\u001b[39m chained_exception_message\n\u001b[0;32m    576\u001b[0m         \u001b[38;5;241m+\u001b[39m out_list)\n\u001b[0;32m    578\u001b[0m \u001b[38;5;28;01mreturn\u001b[39;00m out_list\n",
      "File \u001b[1;32mD:\\PythonEnvs\\PythonCourse\\Lib\\site-packages\\IPython\\core\\ultratb.py:1435\u001b[0m, in \u001b[0;36mAutoFormattedTB.structured_traceback\u001b[1;34m(self, etype, evalue, etb, tb_offset, number_of_lines_of_context)\u001b[0m\n\u001b[0;32m   1433\u001b[0m \u001b[38;5;28;01melse\u001b[39;00m:\n\u001b[0;32m   1434\u001b[0m     \u001b[38;5;28mself\u001b[39m\u001b[38;5;241m.\u001b[39mtb \u001b[38;5;241m=\u001b[39m etb\n\u001b[1;32m-> 1435\u001b[0m \u001b[38;5;28;01mreturn\u001b[39;00m \u001b[43mFormattedTB\u001b[49m\u001b[38;5;241;43m.\u001b[39;49m\u001b[43mstructured_traceback\u001b[49m\u001b[43m(\u001b[49m\n\u001b[0;32m   1436\u001b[0m \u001b[43m    \u001b[49m\u001b[38;5;28;43mself\u001b[39;49m\u001b[43m,\u001b[49m\u001b[43m \u001b[49m\u001b[43metype\u001b[49m\u001b[43m,\u001b[49m\u001b[43m \u001b[49m\u001b[43mevalue\u001b[49m\u001b[43m,\u001b[49m\u001b[43m \u001b[49m\u001b[43metb\u001b[49m\u001b[43m,\u001b[49m\u001b[43m \u001b[49m\u001b[43mtb_offset\u001b[49m\u001b[43m,\u001b[49m\u001b[43m \u001b[49m\u001b[43mnumber_of_lines_of_context\u001b[49m\n\u001b[0;32m   1437\u001b[0m \u001b[43m\u001b[49m\u001b[43m)\u001b[49m\n",
      "File \u001b[1;32mD:\\PythonEnvs\\PythonCourse\\Lib\\site-packages\\IPython\\core\\ultratb.py:1326\u001b[0m, in \u001b[0;36mFormattedTB.structured_traceback\u001b[1;34m(self, etype, value, tb, tb_offset, number_of_lines_of_context)\u001b[0m\n\u001b[0;32m   1323\u001b[0m mode \u001b[38;5;241m=\u001b[39m \u001b[38;5;28mself\u001b[39m\u001b[38;5;241m.\u001b[39mmode\n\u001b[0;32m   1324\u001b[0m \u001b[38;5;28;01mif\u001b[39;00m mode \u001b[38;5;129;01min\u001b[39;00m \u001b[38;5;28mself\u001b[39m\u001b[38;5;241m.\u001b[39mverbose_modes:\n\u001b[0;32m   1325\u001b[0m     \u001b[38;5;66;03m# Verbose modes need a full traceback\u001b[39;00m\n\u001b[1;32m-> 1326\u001b[0m     \u001b[38;5;28;01mreturn\u001b[39;00m \u001b[43mVerboseTB\u001b[49m\u001b[38;5;241;43m.\u001b[39;49m\u001b[43mstructured_traceback\u001b[49m\u001b[43m(\u001b[49m\n\u001b[0;32m   1327\u001b[0m \u001b[43m        \u001b[49m\u001b[38;5;28;43mself\u001b[39;49m\u001b[43m,\u001b[49m\u001b[43m \u001b[49m\u001b[43metype\u001b[49m\u001b[43m,\u001b[49m\u001b[43m \u001b[49m\u001b[43mvalue\u001b[49m\u001b[43m,\u001b[49m\u001b[43m \u001b[49m\u001b[43mtb\u001b[49m\u001b[43m,\u001b[49m\u001b[43m \u001b[49m\u001b[43mtb_offset\u001b[49m\u001b[43m,\u001b[49m\u001b[43m \u001b[49m\u001b[43mnumber_of_lines_of_context\u001b[49m\n\u001b[0;32m   1328\u001b[0m \u001b[43m    \u001b[49m\u001b[43m)\u001b[49m\n\u001b[0;32m   1329\u001b[0m \u001b[38;5;28;01melif\u001b[39;00m mode \u001b[38;5;241m==\u001b[39m \u001b[38;5;124m'\u001b[39m\u001b[38;5;124mMinimal\u001b[39m\u001b[38;5;124m'\u001b[39m:\n\u001b[0;32m   1330\u001b[0m     \u001b[38;5;28;01mreturn\u001b[39;00m ListTB\u001b[38;5;241m.\u001b[39mget_exception_only(\u001b[38;5;28mself\u001b[39m, etype, value)\n",
      "File \u001b[1;32mD:\\PythonEnvs\\PythonCourse\\Lib\\site-packages\\IPython\\core\\ultratb.py:1173\u001b[0m, in \u001b[0;36mVerboseTB.structured_traceback\u001b[1;34m(self, etype, evalue, etb, tb_offset, number_of_lines_of_context)\u001b[0m\n\u001b[0;32m   1164\u001b[0m \u001b[38;5;28;01mdef\u001b[39;00m \u001b[38;5;21mstructured_traceback\u001b[39m(\n\u001b[0;32m   1165\u001b[0m     \u001b[38;5;28mself\u001b[39m,\n\u001b[0;32m   1166\u001b[0m     etype: \u001b[38;5;28mtype\u001b[39m,\n\u001b[1;32m   (...)\u001b[0m\n\u001b[0;32m   1170\u001b[0m     number_of_lines_of_context: \u001b[38;5;28mint\u001b[39m \u001b[38;5;241m=\u001b[39m \u001b[38;5;241m5\u001b[39m,\n\u001b[0;32m   1171\u001b[0m ):\n\u001b[0;32m   1172\u001b[0m \u001b[38;5;250m    \u001b[39m\u001b[38;5;124;03m\"\"\"Return a nice text document describing the traceback.\"\"\"\u001b[39;00m\n\u001b[1;32m-> 1173\u001b[0m     formatted_exception \u001b[38;5;241m=\u001b[39m \u001b[38;5;28;43mself\u001b[39;49m\u001b[38;5;241;43m.\u001b[39;49m\u001b[43mformat_exception_as_a_whole\u001b[49m\u001b[43m(\u001b[49m\u001b[43metype\u001b[49m\u001b[43m,\u001b[49m\u001b[43m \u001b[49m\u001b[43mevalue\u001b[49m\u001b[43m,\u001b[49m\u001b[43m \u001b[49m\u001b[43metb\u001b[49m\u001b[43m,\u001b[49m\u001b[43m \u001b[49m\u001b[43mnumber_of_lines_of_context\u001b[49m\u001b[43m,\u001b[49m\n\u001b[0;32m   1174\u001b[0m \u001b[43m                                                           \u001b[49m\u001b[43mtb_offset\u001b[49m\u001b[43m)\u001b[49m\n\u001b[0;32m   1176\u001b[0m     colors \u001b[38;5;241m=\u001b[39m \u001b[38;5;28mself\u001b[39m\u001b[38;5;241m.\u001b[39mColors  \u001b[38;5;66;03m# just a shorthand + quicker name lookup\u001b[39;00m\n\u001b[0;32m   1177\u001b[0m     colorsnormal \u001b[38;5;241m=\u001b[39m colors\u001b[38;5;241m.\u001b[39mNormal  \u001b[38;5;66;03m# used a lot\u001b[39;00m\n",
      "File \u001b[1;32mD:\\PythonEnvs\\PythonCourse\\Lib\\site-packages\\IPython\\core\\ultratb.py:1063\u001b[0m, in \u001b[0;36mVerboseTB.format_exception_as_a_whole\u001b[1;34m(self, etype, evalue, etb, number_of_lines_of_context, tb_offset)\u001b[0m\n\u001b[0;32m   1060\u001b[0m \u001b[38;5;28;01massert\u001b[39;00m \u001b[38;5;28misinstance\u001b[39m(tb_offset, \u001b[38;5;28mint\u001b[39m)\n\u001b[0;32m   1061\u001b[0m head \u001b[38;5;241m=\u001b[39m \u001b[38;5;28mself\u001b[39m\u001b[38;5;241m.\u001b[39mprepare_header(\u001b[38;5;28mstr\u001b[39m(etype), \u001b[38;5;28mself\u001b[39m\u001b[38;5;241m.\u001b[39mlong_header)\n\u001b[0;32m   1062\u001b[0m records \u001b[38;5;241m=\u001b[39m (\n\u001b[1;32m-> 1063\u001b[0m     \u001b[38;5;28;43mself\u001b[39;49m\u001b[38;5;241;43m.\u001b[39;49m\u001b[43mget_records\u001b[49m\u001b[43m(\u001b[49m\u001b[43metb\u001b[49m\u001b[43m,\u001b[49m\u001b[43m \u001b[49m\u001b[43mnumber_of_lines_of_context\u001b[49m\u001b[43m,\u001b[49m\u001b[43m \u001b[49m\u001b[43mtb_offset\u001b[49m\u001b[43m)\u001b[49m \u001b[38;5;28;01mif\u001b[39;00m etb \u001b[38;5;28;01melse\u001b[39;00m []\n\u001b[0;32m   1064\u001b[0m )\n\u001b[0;32m   1066\u001b[0m frames \u001b[38;5;241m=\u001b[39m []\n\u001b[0;32m   1067\u001b[0m skipped \u001b[38;5;241m=\u001b[39m \u001b[38;5;241m0\u001b[39m\n",
      "File \u001b[1;32mD:\\PythonEnvs\\PythonCourse\\Lib\\site-packages\\IPython\\core\\ultratb.py:1131\u001b[0m, in \u001b[0;36mVerboseTB.get_records\u001b[1;34m(self, etb, number_of_lines_of_context, tb_offset)\u001b[0m\n\u001b[0;32m   1129\u001b[0m \u001b[38;5;28;01mwhile\u001b[39;00m cf \u001b[38;5;129;01mis\u001b[39;00m \u001b[38;5;129;01mnot\u001b[39;00m \u001b[38;5;28;01mNone\u001b[39;00m:\n\u001b[0;32m   1130\u001b[0m     \u001b[38;5;28;01mtry\u001b[39;00m:\n\u001b[1;32m-> 1131\u001b[0m         mod \u001b[38;5;241m=\u001b[39m inspect\u001b[38;5;241m.\u001b[39mgetmodule(\u001b[43mcf\u001b[49m\u001b[38;5;241;43m.\u001b[39;49m\u001b[43mtb_frame\u001b[49m)\n\u001b[0;32m   1132\u001b[0m         \u001b[38;5;28;01mif\u001b[39;00m mod \u001b[38;5;129;01mis\u001b[39;00m \u001b[38;5;129;01mnot\u001b[39;00m \u001b[38;5;28;01mNone\u001b[39;00m:\n\u001b[0;32m   1133\u001b[0m             mod_name \u001b[38;5;241m=\u001b[39m mod\u001b[38;5;241m.\u001b[39m\u001b[38;5;18m__name__\u001b[39m\n",
      "\u001b[1;31mAttributeError\u001b[0m: 'tuple' object has no attribute 'tb_frame'"
     ]
    }
   ],
   "source": [
    "# setup.py\n",
    "import setuptools\n",
    "\n",
    "setuptools.setup()"
   ]
  },
  {
   "cell_type": "markdown",
   "id": "3c54c1b9",
   "metadata": {
    "slideshow": {
     "slide_type": "subslide"
    }
   },
   "source": [
    "`tree`\n",
    "\n",
    "```\n",
    "06.1.ModulesPackagesImport/basic_module\n",
    "├── setup.cfg\n",
    "├── setup.py\n",
    "└── simple_pass_manager\n",
    "    ├── __init__.py\n",
    "    ├── exceptions.py\n",
    "    ├── manager.py\n",
    "    └── utils\n",
    "        ├── __init__.py\n",
    "        ├── encryption.py\n",
    "        └── generation.py\n",
    "\n",
    "```"
   ]
  },
  {
   "cell_type": "markdown",
   "id": "0dbb88df",
   "metadata": {
    "slideshow": {
     "slide_type": "slide"
    }
   },
   "source": [
    "### 1. basic_module  → setup.py (2/7)\n",
    "\n",
    "Choose `setup.cfg` or `setup.py`.    \n",
    "\n",
    "Or use `setuptools.config.read_configuration`"
   ]
  },
  {
   "cell_type": "code",
   "execution_count": null,
   "id": "fef05a5e",
   "metadata": {
    "ExecuteTime": {
     "end_time": "2024-01-09T11:39:03.854412Z",
     "start_time": "2024-01-09T11:39:03.655662600Z"
    },
    "pycharm": {
     "name": "#%%\n"
    }
   },
   "outputs": [],
   "source": [
    "# setup.py\n",
    "import setuptools\n",
    "\n",
    "setuptools.setup(install_requires=[\"cryptography\"])"
   ]
  },
  {
   "cell_type": "code",
   "execution_count": null,
   "id": "140f1b9a",
   "metadata": {
    "ExecuteTime": {
     "start_time": "2024-01-09T11:39:03.769721600Z"
    },
    "pycharm": {
     "name": "#%%\n"
    }
   },
   "outputs": [],
   "source": [
    "# setup.py\n",
    "import setuptools\n",
    "\n",
    "setuptools.setup(package_dir={\"\": \"src\"}, packages=setuptools.find_packages(where=\"src\"),)"
   ]
  },
  {
   "cell_type": "code",
   "execution_count": null,
   "id": "2c0dcaf5",
   "metadata": {
    "ExecuteTime": {
     "start_time": "2024-01-09T11:39:03.818156500Z"
    },
    "pycharm": {
     "name": "#%%\n"
    }
   },
   "outputs": [],
   "source": [
    "# setup.py\n",
    "from setuptools import setup, find_packages\n",
    "\n",
    "setup(name='simple_pass_manager', packages=find_packages(),\n",
    "      install_requires='cryptography')"
   ]
  },
  {
   "cell_type": "markdown",
   "id": "66335187",
   "metadata": {
    "slideshow": {
     "slide_type": "slide"
    }
   },
   "source": [
    "### 1. basic_module  → strange setup.py (3/7)"
   ]
  },
  {
   "cell_type": "code",
   "execution_count": null,
   "id": "8c337f95",
   "metadata": {
    "ExecuteTime": {
     "start_time": "2024-01-09T11:39:04.020844100Z"
    },
    "pycharm": {
     "name": "#%%\n"
    }
   },
   "outputs": [],
   "source": [
    "# setup.py\n",
    "# u dont need __main__ here\n",
    "\n",
    "import setuptools\n",
    "\n",
    "if __name__ == \"__main__\":\n",
    "    setuptools.setup()  # some comment"
   ]
  },
  {
   "cell_type": "code",
   "execution_count": null,
   "id": "e51160e0",
   "metadata": {
    "ExecuteTime": {
     "start_time": "2024-01-09T11:39:04.132686300Z"
    },
    "pycharm": {
     "name": "#%%\n"
    },
    "slideshow": {
     "slide_type": "fragment"
    }
   },
   "outputs": [],
   "source": [
    "# setup.py\n",
    "\n",
    "from distutils.core import setup\n",
    "\n",
    "setup()"
   ]
  },
  {
   "cell_type": "markdown",
   "id": "395d6361",
   "metadata": {},
   "source": [
    "https://docs.python.org/3/library/distutils.html\n",
    "> distutils is deprecated with removal planned for Python 3.12"
   ]
  },
  {
   "cell_type": "markdown",
   "id": "29021ffd",
   "metadata": {
    "slideshow": {
     "slide_type": "slide"
    }
   },
   "source": [
    "### 1. basic_module  → version (4/7)"
   ]
  },
  {
   "cell_type": "code",
   "execution_count": null,
   "id": "1dca1f7b",
   "metadata": {
    "ExecuteTime": {
     "start_time": "2024-01-09T11:39:04.282123600Z"
    }
   },
   "outputs": [],
   "source": [
    "# setup.cfg\n",
    "\n",
    "[metadata]\n",
    "...\n",
    "version=0.1\n",
    "..."
   ]
  },
  {
   "cell_type": "markdown",
   "id": "772e241f",
   "metadata": {
    "slideshow": {
     "slide_type": "fragment"
    }
   },
   "source": [
    "Semantic Versioning 2.0.0: https://semver.org/\n",
    "\n",
    "```\n",
    "MAJOR.MINOR.PATCH\n",
    "```"
   ]
  },
  {
   "cell_type": "markdown",
   "id": "1e010055",
   "metadata": {
    "slideshow": {
     "slide_type": "subslide"
    }
   },
   "source": [
    "![image.png](https://onlinecommunityhub.nl/images/blog/2020/semver.png)"
   ]
  },
  {
   "cell_type": "markdown",
   "id": "b91ccbbe",
   "metadata": {
    "pycharm": {
     "name": "#%% md\n"
    },
    "slideshow": {
     "slide_type": "subslide"
    }
   },
   "source": [
    "`cryptography` versions  \n",
    "https://pypi.org/project/cryptography/#history\n",
    "\n",
    "* 35.0.0\n",
    "* 3.4.8\n",
    "* ...\n",
    "* 3.4.1\n",
    "* 3.4\n",
    "* 3.3.2\n",
    "* 3.3.1\n",
    "* 3.3\n",
    "* ...\n"
   ]
  },
  {
   "cell_type": "markdown",
   "id": "24b91212",
   "metadata": {
    "slideshow": {
     "font": "monospace",
     "slide_type": "slide"
    }
   },
   "source": [
    "### 1. basic_module  → install_requires:pin requirements version (5/7)\n"
   ]
  },
  {
   "cell_type": "code",
   "execution_count": null,
   "id": "9428bc5d",
   "metadata": {
    "ExecuteTime": {
     "start_time": "2024-01-09T11:39:04.285670500Z"
    },
    "pycharm": {
     "name": "#%%\n"
    }
   },
   "outputs": [],
   "source": [
    "# setup.cfg\n",
    "# bad\n",
    "\n",
    "[options]\n",
    "install_requires =\n",
    "    cryptography"
   ]
  },
  {
   "cell_type": "code",
   "execution_count": null,
   "id": "22014074",
   "metadata": {
    "ExecuteTime": {
     "start_time": "2024-01-09T11:39:04.291691900Z"
    },
    "pycharm": {
     "name": "#%%\n"
    },
    "slideshow": {
     "slide_type": "fragment"
    }
   },
   "outputs": [],
   "source": [
    "# setup.cfg\n",
    "# better\n",
    "\n",
    "[options]\n",
    "install_requires =\n",
    "    cryptography==3.4.8"
   ]
  },
  {
   "cell_type": "code",
   "execution_count": null,
   "id": "0a9151a7",
   "metadata": {
    "ExecuteTime": {
     "start_time": "2024-01-09T11:39:04.298281700Z"
    },
    "cell_style": "split",
    "slideshow": {
     "slide_type": "fragment"
    }
   },
   "outputs": [],
   "source": [
    "# setup.cfg\n",
    "# great\n",
    "\n",
    "[options]\n",
    "install_requires =\n",
    "    cryptography>=3.0.0,<4.0.0\n"
   ]
  },
  {
   "cell_type": "markdown",
   "id": "e34f5810",
   "metadata": {
    "slideshow": {
     "slide_type": "slide"
    }
   },
   "source": [
    "### 1. basic_module  → `__init__.py` (6/7)"
   ]
  },
  {
   "cell_type": "code",
   "execution_count": null,
   "id": "013cdb2a",
   "metadata": {
    "ExecuteTime": {
     "start_time": "2024-01-09T11:39:04.305374100Z"
    }
   },
   "outputs": [],
   "source": [
    "# simple_pass_manager/__init__.py \n",
    "from .manager import PasswordManager\n",
    "\n",
    "__all__ = (\"PasswordManager\",)  # bad: list better than tuple "
   ]
  },
  {
   "cell_type": "code",
   "execution_count": null,
   "id": "83030214",
   "metadata": {
    "ExecuteTime": {
     "start_time": "2024-01-09T11:39:04.312400Z"
    }
   },
   "outputs": [],
   "source": [
    "# simple_pass_manager/__init__.py \n",
    "from .simple_pass_manager import PasswordManager  # bad: import from what?\n",
    "\n",
    "__all__ = ['PasswordManager']"
   ]
  },
  {
   "cell_type": "code",
   "execution_count": null,
   "id": "cf06109e",
   "metadata": {
    "ExecuteTime": {
     "start_time": "2024-01-09T11:39:04.319970400Z"
    }
   },
   "outputs": [],
   "source": [
    "# simple_pass_manager/__init__.py \n",
    "from simple_pass_manager.manager import PasswordManager  # ok\n",
    "\n",
    "__all__ = ['PasswordManager']"
   ]
  },
  {
   "cell_type": "markdown",
   "id": "eaf9381e",
   "metadata": {
    "slideshow": {
     "slide_type": "slide"
    }
   },
   "source": [
    "### 1. basic_module  → bad layout (7/7)"
   ]
  },
  {
   "cell_type": "code",
   "execution_count": null,
   "id": "6b99675a",
   "metadata": {
    "ExecuteTime": {
     "start_time": "2024-01-09T11:39:04.326571600Z"
    }
   },
   "outputs": [],
   "source": [
    "# simple_pass_manager/utils/encryption.py\n",
    "\n",
    "__all__ = [\"generate_key\", \"key_encrypt\", \"key_decrypt\", \"password_encrypt\", \"password_decrypt\"]\n",
    "\n",
    "from cryptography.fernet import Fernet\n",
    "from cryptography.hazmat.backends import default_backend\n",
    "from cryptography.hazmat.primitives import hashes\n",
    "from cryptography.hazmat.primitives.kdf.pbkdf2 import PBKDF2HMAC\n",
    "\n",
    "from base64 import urlsafe_b64encode as b64e, urlsafe_b64decode as b64d\n",
    "\n",
    "import secrets\n",
    "\n",
    "_BACKEND = default_backend()\n",
    "_ITERATIONS = 100_000\n",
    "\n",
    "# ..."
   ]
  },
  {
   "cell_type": "markdown",
   "id": "bcf4f9d2",
   "metadata": {
    "slideshow": {
     "slide_type": "slide"
    }
   },
   "source": [
    "### 2. steganography_tool:setup  → etalon (1/1)"
   ]
  },
  {
   "cell_type": "code",
   "execution_count": null,
   "id": "665641c6",
   "metadata": {
    "ExecuteTime": {
     "start_time": "2024-01-09T11:39:04.331552800Z"
    },
    "pycharm": {
     "name": "#%%\n"
    }
   },
   "outputs": [],
   "source": [
    "# setup.cfg\n",
    "[metadata]\n",
    "name = steganography_tool\n",
    "version = 0.0.1\n",
    "author = Konstantin Chernyshev\n",
    "author_email = kdchernyshev@gmail.com\n",
    "description = A small package for steganography staff\n",
    "classifiers =\n",
    "    Programming Language :: Python :: 3\n",
    "    Operating System :: OS Independent\n",
    "\n",
    "[options]\n",
    "packages = find:\n",
    "include_package_data=True\n",
    "setup_requires =\n",
    "    wheel\n",
    "install_requires =\n",
    "    Pillow\n",
    "    click\n",
    "python_requires = >=3.9\n",
    "\n",
    "[options.entry_points]\n",
    "console_scripts =\n",
    "    steganography-tool = steganography_tool.cli:cli\n",
    "\n",
    "[options.package_data]\n",
    "* = lenna.png"
   ]
  },
  {
   "cell_type": "code",
   "execution_count": null,
   "id": "acdbef86",
   "metadata": {
    "ExecuteTime": {
     "start_time": "2024-01-09T11:39:04.343734100Z"
    },
    "pycharm": {
     "name": "#%%\n"
    }
   },
   "outputs": [],
   "source": [
    "# setup.py\n",
    "import setuptools\n",
    "\n",
    "setuptools.setup()"
   ]
  },
  {
   "cell_type": "markdown",
   "id": "eff3437b",
   "metadata": {},
   "source": [
    "### 2. steganography_tool:cli  → etalon (1/7)\n"
   ]
  },
  {
   "cell_type": "code",
   "execution_count": null,
   "id": "968dc26b",
   "metadata": {
    "ExecuteTime": {
     "start_time": "2024-01-09T11:39:04.349735500Z"
    },
    "pycharm": {
     "name": "#%%\n"
    }
   },
   "outputs": [],
   "source": [
    "import click\n",
    "# import ...\n",
    "\n",
    "\n",
    "@click.group()\n",
    "def cli() -> None:\n",
    "    \"\"\"Base module command\"\"\"\n",
    "    pass\n",
    "\n",
    "\n",
    "@cli.command()\n",
    "@click.argument('output_filename', type=click.Path(exists=False, dir_okay=False, path_type=Path))\n",
    "@click.argument('message', type=str)\n",
    "def encode(output_filename: Path, message: str) -> None:\n",
    "    data = get_base_file()\n",
    "    data = encode_message(data, message)\n",
    "    write_file(data, output_filename)\n",
    "\n",
    "\n",
    "@cli.command()\n",
    "@click.argument('input_filename', type=click.Path(exists=True, dir_okay=False, path_type=Path))\n",
    "def decode(input_filename: Path) -> None:\n",
    "    data = read_file(input_filename)\n",
    "    message = decode_message(data)\n",
    "    print(message)"
   ]
  },
  {
   "cell_type": "markdown",
   "id": "e8f72881",
   "metadata": {},
   "source": [
    "### 2. steganography_tool:cli  → post init cli (2/7)\n"
   ]
  },
  {
   "cell_type": "code",
   "execution_count": null,
   "id": "baca58e7",
   "metadata": {
    "ExecuteTime": {
     "start_time": "2024-01-09T11:39:04.356296100Z"
    },
    "pycharm": {
     "name": "#%%\n"
    }
   },
   "outputs": [],
   "source": [
    "import click\n",
    "\n",
    "\n",
    "@click.group()\n",
    "def cli() -> None:\n",
    "    pass\n",
    "\n",
    "\n",
    "@click.command()\n",
    "@click.argument('path')\n",
    "@click.argument('message')\n",
    "def encode(path: str, message: str) -> None:\n",
    "    # ...\n",
    "    \n",
    "@click.command()\n",
    "@click.argument('path')\n",
    "def decode(path: str) -> None:\n",
    "    # ...\n",
    "\n",
    "\n",
    "# useless here (but can be useful with a large cli)\n",
    "cli.add_command(encode)\n",
    "cli.add_command(decode) \n"
   ]
  },
  {
   "cell_type": "markdown",
   "id": "fcc9ef86",
   "metadata": {
    "slideshow": {
     "slide_type": "slide"
    }
   },
   "source": [
    "### 2. steganography_tool:cli  → bad docstring style (3/7)\n"
   ]
  },
  {
   "cell_type": "code",
   "execution_count": null,
   "id": "3f2d3ebb",
   "metadata": {
    "ExecuteTime": {
     "start_time": "2024-01-09T11:39:04.362311Z"
    },
    "pycharm": {
     "name": "#%%\n"
    }
   },
   "outputs": [],
   "source": [
    "@cli.command()\n",
    "@click.argument('OUTPUT_FILENAME', type=str)\n",
    "@click.argument('SECRET_MESSAGE', type=str)\n",
    "def encode(output_filename: str, secret_message: str) -> None:\n",
    "    '''Cкрывает сообщение в lenna.png и сохраняет в файл.'''\n",
    "    write_file(\n",
    "        encode_message(get_base_file(), secret_message),\n",
    "        output_filename\n",
    "    )\n"
   ]
  },
  {
   "cell_type": "markdown",
   "id": "8271818f",
   "metadata": {
    "slideshow": {
     "slide_type": "slide"
    }
   },
   "source": [
    "### 2. steganography_tool:cli  → super-puper scope (4/7)\n"
   ]
  },
  {
   "cell_type": "code",
   "execution_count": null,
   "id": "717157ac",
   "metadata": {
    "ExecuteTime": {
     "start_time": "2024-01-09T11:39:04.366897600Z"
    },
    "pycharm": {
     "name": "#%%\n"
    }
   },
   "outputs": [],
   "source": [
    "import click\n",
    "# import ...\n",
    "\n",
    "\n",
    "@click.group()\n",
    "def cli() -> None:\n",
    "    pass\n",
    "\n",
    "\n",
    "# ...\n",
    "\n",
    "\n",
    "def main() -> None:\n",
    "    cli()\n",
    "\n",
    "\n",
    "if __name__ == \"__main__\":\n",
    "    main()"
   ]
  },
  {
   "cell_type": "markdown",
   "id": "5a787e42",
   "metadata": {
    "slideshow": {
     "slide_type": "slide"
    }
   },
   "source": [
    "### 2. steganography_tool:cli  → complicate setup (5/7)\n"
   ]
  },
  {
   "cell_type": "code",
   "execution_count": null,
   "id": "60a976e9",
   "metadata": {
    "ExecuteTime": {
     "start_time": "2024-01-09T11:39:04.379448900Z"
    }
   },
   "outputs": [],
   "source": [
    "import click\n",
    "# import ...\n",
    "\n",
    "@click.group()\n",
    "def encode_() -> None:\n",
    "    pass\n",
    "\n",
    "\n",
    "@click.command()\n",
    "@click.argument('output_filename')\n",
    "@click.argument('message', nargs=1)\n",
    "def encode(output_filename: str, message: str) -> None:\n",
    "    # ...\n",
    "\n",
    "\n",
    "@click.group()\n",
    "def decode_() -> None:\n",
    "    pass\n",
    "\n",
    "\n",
    "@click.command()\n",
    "@click.argument('input_filename')\n",
    "def decode(input_filename: str) -> None:\n",
    "    # ...\n",
    "\n",
    "\n",
    "encode_.add_command(encode)\n",
    "decode_.add_command(decode)\n",
    "\n",
    "main = click.CommandCollection(sources=[encode_, decode_])\n",
    "\n",
    "if __name__ == '__main__':\n",
    "    main()"
   ]
  },
  {
   "cell_type": "markdown",
   "id": "3658b069",
   "metadata": {
    "slideshow": {
     "slide_type": "slide"
    }
   },
   "source": [
    "### 2. steganography_tool:cli  → click WTF (6/7)"
   ]
  },
  {
   "cell_type": "code",
   "execution_count": null,
   "id": "201d736d",
   "metadata": {
    "ExecuteTime": {
     "end_time": "2024-01-09T11:39:04.488518Z",
     "start_time": "2024-01-09T11:39:04.386006400Z"
    },
    "cell_style": "split"
   },
   "outputs": [],
   "source": [
    "import click\n",
    "# import ...\n",
    "\n",
    "\n",
    "@click.command(help='encode - to encode\\n\\ndecode - to decode')\n",
    "@click.argument(\"command\", required=1)\n",
    "@click.argument(\"container_name\", required=1)\n",
    "@click.argument(\"message_name\", required=0)\n",
    "def cli(container_name: str, message_name: str, command: typing.Optional[str] = None) -> int:\n",
    "    \"\"\"steganography-tool\"\"\"\n",
    "    if command == 'encode':\n",
    "        np_frame = get_base_file()\n",
    "        out_frame = encode_message(np_frame, message_name)\n",
    "        write_file(out_frame, container_name)\n",
    "    elif command == 'decode':\n",
    "        np_frame = read_file(container_name)\n",
    "        msg = decode_message(np_frame)\n",
    "        print(msg)\n",
    "    return 0\n"
   ]
  },
  {
   "cell_type": "markdown",
   "id": "f093e295",
   "metadata": {
    "slideshow": {
     "slide_type": "slide"
    }
   },
   "source": [
    "### 2. steganography_tool:cli  → not click, but typer - ok (7/7)"
   ]
  },
  {
   "cell_type": "code",
   "execution_count": null,
   "id": "61d9c873",
   "metadata": {
    "ExecuteTime": {
     "start_time": "2024-01-09T11:39:04.403745500Z"
    }
   },
   "outputs": [],
   "source": [
    "import typer\n",
    "# import ...\n",
    "\n",
    "\n",
    "app = typer.Typer()\n",
    "\n",
    "\n",
    "@app.command(help='encodes message in [SECRET-MESSAGE] and saves it in [OUTPUT-PATH] file')\n",
    "def encode(output_path: str, secret_message: str) -> None:\n",
    "    base_file_data = utils.get_base_file()\n",
    "    data = encode_message(base_file_data, secret_message)\n",
    "    utils.write_file(data, output_path)\n",
    "\n",
    "\n",
    "@app.command(help='decode file from [INPUT-PATH] and print secret message')\n",
    "def decode(input_path: str) -> None:\n",
    "    inp_file_data = utils.read_file(input_path)\n",
    "    typer.echo(decode_message(inp_file_data))"
   ]
  }
 ],
 "metadata": {
  "celltoolbar": "Slideshow",
  "kernelspec": {
   "display_name": "Python 3 (ipykernel)",
   "language": "python",
   "name": "python3"
  },
  "language_info": {
   "codemirror_mode": {
    "name": "ipython",
    "version": 3
   },
   "file_extension": ".py",
   "mimetype": "text/x-python",
   "name": "python",
   "nbconvert_exporter": "python",
   "pygments_lexer": "ipython3",
   "version": "3.11.5"
  },
  "rise": {
   "enable_chalkboard": true,
   "footer": "<p style=\"margin: 5px; color: #a0a0a0\">YSDA Python Course</p>",
   "scroll": true,
   "start_slideshow_at": "selected",
   "theme": "serif"
  }
 },
 "nbformat": 4,
 "nbformat_minor": 5
}
