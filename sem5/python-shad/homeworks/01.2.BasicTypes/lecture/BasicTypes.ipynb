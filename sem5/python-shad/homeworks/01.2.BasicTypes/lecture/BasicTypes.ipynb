{
 "cells": [
  {
   "cell_type": "markdown",
   "id": "1d237f11",
   "metadata": {
    "pycharm": {
     "name": "#%% md\n"
    },
    "slideshow": {
     "slide_type": "slide"
    }
   },
   "source": [
    "<center>\n",
    "    <img src=\"https://upload.wikimedia.org/wikipedia/commons/a/a8/%D0%9B%D0%9E%D0%93%D0%9E_%D0%A8%D0%90%D0%94.png\" width=500px/>\n",
    "    <font>Python 2022</font><br/>\n",
    "    <br/>\n",
    "    <br/>\n",
    "    <b style=\"font-size: 2em\">Введение в Python. Простые типы. Управляющие конструкции.</b><br/>\n",
    "    <br/>\n",
    "    <font>Алексей Стыценко</font><br/>\n",
    "</center>"
   ]
  },
  {
   "cell_type": "markdown",
   "id": "6cc26226",
   "metadata": {
    "pycharm": {
     "name": "#%% md\n"
    },
    "slideshow": {
     "slide_type": "slide"
    }
   },
   "source": [
    "### Обо мне\n",
    "\n",
    "- Старший разработчик службы инфраструктуры рекомендательных систем, в Яндексе с 2016 года\n",
    "- Пишу на питоне 10 лет\n",
    "- Занимаюсь обработкой данных поиска и рекламы\n",
    "- Сейчас развиваю инфраструктуру регулярных процессов обработки данных"
   ]
  },
  {
   "cell_type": "markdown",
   "id": "3756f3a2",
   "metadata": {
    "pycharm": {
     "name": "#%% md\n"
    },
    "slideshow": {
     "slide_type": "slide"
    }
   },
   "source": [
    "### Python\n",
    "\n",
    "- интерпретируемый (код исполняется интепретатором, а не компилируется в самостоятельную программу)\n",
    "- строгая типизация (разные типы приводятся друг к другу в ограниченном числе случаев)\n",
    "- динамическая типизация (любая переменая может связываться с объектами любых типов)\n",
    "\n",
    "[подробнее ↪](https://wiki.python.org/moin/Ten%20things%20people%20want%20to%20know%20about%20Python)"
   ]
  },
  {
   "cell_type": "markdown",
   "id": "89f8940f",
   "metadata": {
    "slideshow": {
     "slide_type": "slide"
    }
   },
   "source": [
    "### Реализации\n",
    "\n",
    "- **CPython** (reference)\n",
    "- IronPython\n",
    "- Jython\n",
    "- PyPy\n",
    "\n",
    "[подробнее ↪](https://www.python.org/download/alternatives/)"
   ]
  },
  {
   "cell_type": "markdown",
   "id": "57b52d1f",
   "metadata": {
    "pycharm": {
     "name": "#%% md\n"
    },
    "slideshow": {
     "slide_type": "slide"
    }
   },
   "source": [
    "### Python 2 vs Python 3\n",
    "\n",
    "<center><img src=\"./images/Py2vsPy3.jpg\" width=200px/></center>\n",
    "\n",
    "- Существовало две официальных, несовместимых версии Python - 2.x и 3.x\n",
    "- Мы будем говорить про Python 3.10\n",
    "- Python 2.x не поддерживается с 1-го января 2020"
   ]
  },
  {
   "cell_type": "markdown",
   "id": "6b2ad312",
   "metadata": {
    "slideshow": {
     "slide_type": "slide"
    }
   },
   "source": [
    "### Как пользоваться\n",
    "\n",
    "- REPL\n",
    "- IPython\n",
    "- Jupyter Notebook\n",
    "- Jupyter Lab\n",
    "- Ваша любимая IDE"
   ]
  },
  {
   "cell_type": "markdown",
   "id": "37708314",
   "metadata": {
    "pycharm": {
     "name": "#%% md\n"
    },
    "slideshow": {
     "slide_type": "slide"
    }
   },
   "source": [
    "### Zen of Python"
   ]
  },
  {
   "cell_type": "code",
   "execution_count": null,
   "id": "6096161d",
   "metadata": {
    "pycharm": {
     "name": "#%%\n"
    }
   },
   "outputs": [],
   "source": [
    "import this"
   ]
  },
  {
   "cell_type": "markdown",
   "id": "39aa2456",
   "metadata": {
    "pycharm": {
     "name": "#%% md\n"
    },
    "slideshow": {
     "slide_type": "slide"
    }
   },
   "source": [
    "## Базовые типы"
   ]
  },
  {
   "cell_type": "markdown",
   "id": "1f3fa1d4",
   "metadata": {
    "pycharm": {
     "name": "#%% md\n"
    },
    "slideshow": {
     "slide_type": "slide"
    }
   },
   "source": [
    "### Числовые типы: int, float, complex"
   ]
  },
  {
   "cell_type": "code",
   "execution_count": null,
   "id": "471d672d",
   "metadata": {
    "pycharm": {
     "name": "#%%\n"
    },
    "slideshow": {
     "slide_type": "-"
    }
   },
   "outputs": [],
   "source": [
    "# int, float, complex\n",
    "1, 1.0, 1j"
   ]
  },
  {
   "cell_type": "markdown",
   "id": "2bd3e39a",
   "metadata": {
    "pycharm": {
     "name": "#%% md\n"
    },
    "slideshow": {
     "slide_type": "slide"
    }
   },
   "source": [
    "### Переменные"
   ]
  },
  {
   "cell_type": "code",
   "execution_count": null,
   "id": "bf77f9e3",
   "metadata": {
    "pycharm": {
     "name": "#%%\n"
    }
   },
   "outputs": [],
   "source": [
    "clicks = 2\n",
    "type(clicks)"
   ]
  },
  {
   "cell_type": "code",
   "execution_count": null,
   "id": "e86b0f60",
   "metadata": {
    "pycharm": {
     "name": "#%%\n"
    }
   },
   "outputs": [],
   "source": [
    "# type(объект) == класс объекта"
   ]
  },
  {
   "cell_type": "code",
   "execution_count": null,
   "id": "762a2fdd",
   "metadata": {
    "pycharm": {
     "name": "#%%\n"
    }
   },
   "outputs": [],
   "source": [
    "1\n",
    "2\n",
    "3  # результат работы ячейки в jupyter notebook (в котором сделана эта презентация)\n",
    "   # – значение последнего выражения"
   ]
  },
  {
   "cell_type": "code",
   "execution_count": null,
   "id": "3939612c",
   "metadata": {
    "pycharm": {
     "name": "#%%\n"
    },
    "slideshow": {
     "slide_type": "slide"
    }
   },
   "outputs": [],
   "source": [
    "# связывание нового объекта с переменной\n",
    "\n",
    "temperature = 10\n",
    "temperature = 20\n",
    "temperature = 36.6  # динамическая типизация!"
   ]
  },
  {
   "cell_type": "code",
   "execution_count": null,
   "id": "b1b5e2af",
   "metadata": {
    "pycharm": {
     "name": "#%%\n"
    },
    "slideshow": {
     "slide_type": "slide"
    }
   },
   "outputs": [],
   "source": [
    "shows = 50"
   ]
  },
  {
   "cell_type": "code",
   "execution_count": null,
   "id": "1e3f8642",
   "metadata": {
    "pycharm": {
     "name": "#%%\n"
    }
   },
   "outputs": [],
   "source": [
    "s4ows"
   ]
  },
  {
   "cell_type": "markdown",
   "id": "afbbe021",
   "metadata": {
    "pycharm": {
     "name": "#%% md\n"
    },
    "slideshow": {
     "slide_type": "slide"
    }
   },
   "source": [
    "<div class=\"alert alert-danger\">\n",
    "    <b>Антипаттерн:</b> неговорящие названия переменных\n",
    "</div>"
   ]
  },
  {
   "cell_type": "code",
   "execution_count": null,
   "id": "be1cb13e",
   "metadata": {
    "pycharm": {
     "name": "#%%\n"
    }
   },
   "outputs": [],
   "source": [
    "a = 2\n",
    "b = 10\n",
    "c = b / a\n",
    "c"
   ]
  },
  {
   "cell_type": "markdown",
   "id": "68bd67e9",
   "metadata": {
    "pycharm": {
     "name": "#%% md\n"
    },
    "slideshow": {
     "slide_type": "slide"
    }
   },
   "source": [
    "### int, float, арифметические операции"
   ]
  },
  {
   "cell_type": "code",
   "execution_count": null,
   "id": "593d590d",
   "metadata": {
    "pycharm": {
     "name": "#%%\n"
    }
   },
   "outputs": [],
   "source": [
    "5 + 6 * (7 - 1) / 3"
   ]
  },
  {
   "cell_type": "code",
   "execution_count": null,
   "id": "95ca2544",
   "metadata": {
    "pycharm": {
     "name": "#%%\n"
    }
   },
   "outputs": [],
   "source": [
    "2**10"
   ]
  },
  {
   "cell_type": "code",
   "execution_count": null,
   "id": "2aa1fd80",
   "metadata": {
    "pycharm": {
     "name": "#%%\n"
    },
    "scrolled": true,
    "slideshow": {
     "slide_type": "slide"
    }
   },
   "outputs": [],
   "source": [
    "# int / int = float\n",
    "\n",
    "clicks = 12\n",
    "shows = 10\n",
    "ctr = clicks / shows\n",
    "\n",
    "type(ctr), ctr"
   ]
  },
  {
   "cell_type": "markdown",
   "id": "5d9876fd",
   "metadata": {
    "pycharm": {
     "name": "#%% md\n"
    }
   },
   "source": [
    "<div class=\"alert alert-warning\">\n",
    "    <b>Частая ошибка:</b> Деление / и // приводит к разным результатам\n",
    "</div>"
   ]
  },
  {
   "cell_type": "code",
   "execution_count": null,
   "id": "3cd41e29",
   "metadata": {
    "pycharm": {
     "name": "#%%\n"
    }
   },
   "outputs": [],
   "source": [
    "clicks // shows  # целочисленное деление"
   ]
  },
  {
   "cell_type": "code",
   "execution_count": null,
   "id": "25fc684c",
   "metadata": {
    "pycharm": {
     "name": "#%%\n"
    }
   },
   "outputs": [],
   "source": [
    "clicks % shows  # остаток от деления"
   ]
  },
  {
   "cell_type": "code",
   "execution_count": null,
   "id": "29a4aceb",
   "metadata": {
    "pycharm": {
     "name": "#%%\n"
    },
    "slideshow": {
     "slide_type": "slide"
    }
   },
   "outputs": [],
   "source": [
    "value = 1\n",
    "value += 1\n",
    "value *= 2\n",
    "value /= 2\n",
    "value **= 3\n",
    "\n",
    "value"
   ]
  },
  {
   "cell_type": "markdown",
   "id": "cc3ffc90",
   "metadata": {
    "pycharm": {
     "name": "#%% md\n"
    },
    "slideshow": {
     "slide_type": "slide"
    }
   },
   "source": [
    "### Битовые операции"
   ]
  },
  {
   "cell_type": "code",
   "execution_count": null,
   "id": "07f0b58b",
   "metadata": {
    "pycharm": {
     "name": "#%%\n"
    }
   },
   "outputs": [],
   "source": [
    "1 << 10, 8 >> 3"
   ]
  },
  {
   "cell_type": "code",
   "execution_count": null,
   "id": "2e6ad472",
   "metadata": {
    "pycharm": {
     "name": "#%%\n"
    }
   },
   "outputs": [],
   "source": [
    "0b100 ^ 0b010, 0b011 | 0b010, 0b011 & 0b010"
   ]
  },
  {
   "cell_type": "code",
   "execution_count": null,
   "id": "e884e717",
   "metadata": {
    "pycharm": {
     "name": "#%%\n"
    }
   },
   "outputs": [],
   "source": [
    "bin(1023)"
   ]
  },
  {
   "cell_type": "markdown",
   "id": "0ce83072",
   "metadata": {
    "pycharm": {
     "name": "#%% md\n"
    }
   },
   "source": [
    "<div class=\"alert alert-info\">\n",
    "    <b>Рекомендация:</b> Битовые операции тяжело читать, лучше обходиться без них\n",
    "</div>"
   ]
  },
  {
   "cell_type": "markdown",
   "id": "f1448c1e",
   "metadata": {
    "pycharm": {
     "name": "#%% md\n"
    },
    "slideshow": {
     "slide_type": "slide"
    }
   },
   "source": [
    "### Логический тип: bool"
   ]
  },
  {
   "cell_type": "code",
   "execution_count": null,
   "id": "4f962939",
   "metadata": {
    "pycharm": {
     "name": "#%%\n"
    }
   },
   "outputs": [],
   "source": [
    "True, False"
   ]
  },
  {
   "cell_type": "code",
   "execution_count": null,
   "id": "9a2e6e59",
   "metadata": {
    "pycharm": {
     "name": "#%%\n"
    }
   },
   "outputs": [],
   "source": [
    "type(True), type(False)"
   ]
  },
  {
   "cell_type": "code",
   "execution_count": null,
   "id": "e6ec613a",
   "metadata": {
    "pycharm": {
     "name": "#%%\n"
    }
   },
   "outputs": [],
   "source": [
    "not True, not False"
   ]
  },
  {
   "cell_type": "code",
   "execution_count": null,
   "id": "2d2605e2",
   "metadata": {
    "pycharm": {
     "name": "#%%\n"
    }
   },
   "outputs": [],
   "source": [
    " True and False, True or False, (2 < 3)"
   ]
  },
  {
   "cell_type": "markdown",
   "id": "0b494761",
   "metadata": {
    "pycharm": {
     "name": "#%% md\n"
    },
    "slideshow": {
     "slide_type": "slide"
    }
   },
   "source": [
    "<div class=\"alert alert-danger\">\n",
    "    <b>Антипаттерн:</b> не ставить скобки в вычислениях, где неочевидно, что будет\n",
    "</div>"
   ]
  },
  {
   "cell_type": "code",
   "execution_count": null,
   "id": "4deda308",
   "metadata": {
    "pycharm": {
     "name": "#%%\n"
    },
    "slideshow": {
     "slide_type": "-"
    }
   },
   "outputs": [],
   "source": [
    "# Q: Какой ответ?\n",
    "False == False != True"
   ]
  },
  {
   "cell_type": "code",
   "execution_count": null,
   "id": "0b71c5c8",
   "metadata": {
    "pycharm": {
     "name": "#%%\n"
    },
    "slideshow": {
     "slide_type": "slide"
    }
   },
   "outputs": [],
   "source": [
    "# Как это работает:\n",
    "(False == False) and (False != True)"
   ]
  },
  {
   "cell_type": "code",
   "execution_count": null,
   "id": "b01616c4",
   "metadata": {
    "pycharm": {
     "name": "#%%\n"
    }
   },
   "outputs": [],
   "source": [
    "# Можно сравнить с более очевидной конструкцией\n",
    "2 < 3 < 5 < 7 < 11"
   ]
  },
  {
   "cell_type": "code",
   "execution_count": null,
   "id": "91c657f8",
   "metadata": {
    "pycharm": {
     "name": "#%%\n"
    }
   },
   "outputs": [],
   "source": [
    "(2 < 3) and (3 < 5) and (5 < 7) and (7 < 11)"
   ]
  },
  {
   "cell_type": "markdown",
   "id": "31b5ad8b",
   "metadata": {
    "pycharm": {
     "name": "#%% md\n"
    },
    "slideshow": {
     "slide_type": "slide"
    }
   },
   "source": [
    "### Строковый тип: str"
   ]
  },
  {
   "cell_type": "code",
   "execution_count": null,
   "id": "3f9c1b90",
   "metadata": {
    "pycharm": {
     "name": "#%%\n"
    }
   },
   "outputs": [],
   "source": [
    "greeting = \"Hello\"\n",
    "\n",
    "poem = \"\"\"\n",
    "В сто сорок солнц закат пылал, \n",
    "    в июль катилось лето, \n",
    "        была жара, \n",
    "            жара плыла - \n",
    "                на даче было это. \n",
    "Пригорок Пушкино горбил \n",
    "   Акуловой горою, \n",
    "       а низ горы - \n",
    "           деревней был, \n",
    "       кривился крыш корою. \n",
    "\"\"\"\n",
    "\n",
    "type(greeting), type(poem)   "
   ]
  },
  {
   "cell_type": "markdown",
   "id": "eab74083",
   "metadata": {
    "pycharm": {
     "name": "#%% md\n"
    },
    "slideshow": {
     "slide_type": "slide"
    }
   },
   "source": [
    "### Функция print"
   ]
  },
  {
   "cell_type": "code",
   "execution_count": null,
   "id": "255db530",
   "metadata": {
    "pycharm": {
     "name": "#%%\n"
    },
    "slideshow": {
     "slide_type": "-"
    }
   },
   "outputs": [],
   "source": [
    "print(poem)"
   ]
  },
  {
   "cell_type": "code",
   "execution_count": null,
   "id": "570e7546",
   "metadata": {
    "pycharm": {
     "name": "#%%\n"
    }
   },
   "outputs": [],
   "source": [
    "print(65536)\n",
    "print(10, 20, '123', True, False)"
   ]
  },
  {
   "cell_type": "code",
   "execution_count": null,
   "id": "0c1b068e",
   "metadata": {
    "pycharm": {
     "name": "#%%\n"
    }
   },
   "outputs": [],
   "source": [
    "print('2', '+', 2)\n",
    "print('2', '+', 2, sep='    ', end='!')"
   ]
  },
  {
   "cell_type": "code",
   "execution_count": null,
   "id": "a73b0550",
   "metadata": {
    "pycharm": {
     "name": "#%%\n"
    },
    "slideshow": {
     "slide_type": "slide"
    }
   },
   "outputs": [],
   "source": [
    "# Q: Что получается?\n",
    "print(\"Hello\" + \", world!\")\n",
    "print('Два' * 2)\n",
    "print(\"Two\" + 2)"
   ]
  },
  {
   "cell_type": "markdown",
   "id": "ae8815c1",
   "metadata": {
    "pycharm": {
     "name": "#%% md\n"
    },
    "slideshow": {
     "slide_type": "slide"
    }
   },
   "source": [
    "### str, срезы, подстроки"
   ]
  },
  {
   "cell_type": "code",
   "execution_count": null,
   "id": "54e224e6",
   "metadata": {
    "pycharm": {
     "name": "#%%\n"
    },
    "slideshow": {
     "slide_type": "-"
    }
   },
   "outputs": [],
   "source": [
    "string = \"Hello, world!\"\n",
    "character = string[10]  # нумерация начиная с 0\n",
    "sub_string = string[7:10]\n",
    "\n",
    "type(string), type(character), type(sub_string)"
   ]
  },
  {
   "cell_type": "code",
   "execution_count": null,
   "id": "105c9546",
   "metadata": {
    "pycharm": {
     "name": "#%%\n"
    }
   },
   "outputs": [],
   "source": [
    "character, sub_string"
   ]
  },
  {
   "cell_type": "code",
   "execution_count": null,
   "id": "03288024",
   "metadata": {
    "pycharm": {
     "name": "#%%\n"
    }
   },
   "outputs": [],
   "source": [
    "'закат' in poem"
   ]
  },
  {
   "cell_type": "code",
   "execution_count": null,
   "id": "1e1a42d5",
   "metadata": {
    "pycharm": {
     "name": "#%%\n"
    },
    "slideshow": {
     "slide_type": "slide"
    }
   },
   "outputs": [],
   "source": [
    "string = \"Hello, world!\"\n",
    "print(string[-1])\n",
    "print(string[0])"
   ]
  },
  {
   "cell_type": "code",
   "execution_count": null,
   "id": "86218059",
   "metadata": {
    "pycharm": {
     "name": "#%%\n"
    },
    "slideshow": {
     "slide_type": "-"
    }
   },
   "outputs": [],
   "source": [
    "print(string[:5])\n",
    "print(string[7:])\n",
    "print(string[4:8])\n",
    "print(string[-5:-1])"
   ]
  },
  {
   "cell_type": "code",
   "execution_count": null,
   "id": "1c63173c",
   "metadata": {
    "pycharm": {
     "name": "#%%\n"
    }
   },
   "outputs": [],
   "source": [
    "print(string[::2])  # каждый второй символ\n",
    "print(string[::-1])  # строчка в обратном порядке"
   ]
  },
  {
   "cell_type": "markdown",
   "id": "98373ffd",
   "metadata": {
    "pycharm": {
     "name": "#%% md\n"
    },
    "slideshow": {
     "slide_type": "slide"
    }
   },
   "source": [
    "### Строки, типы кавчек"
   ]
  },
  {
   "cell_type": "code",
   "execution_count": null,
   "id": "65a5f45b",
   "metadata": {
    "pycharm": {
     "name": "#%%\n"
    },
    "slideshow": {
     "slide_type": "-"
    }
   },
   "outputs": [],
   "source": [
    "os = \"Linux\"\n",
    "\n",
    "browser = 'Firefox'\n",
    "\n",
    "program = \"\"\"\n",
    "    function foo() {\n",
    "        echo 123\n",
    "    }\n",
    "\"\"\"\n",
    "\n",
    "zen = '''\n",
    "    ...\n",
    "    Beautiful is better than ugly.\n",
    "    Explicit is better than implicit.\n",
    "    ...\n",
    "'''"
   ]
  },
  {
   "cell_type": "markdown",
   "id": "5fd02b0b",
   "metadata": {
    "pycharm": {
     "name": "#%% md\n"
    },
    "slideshow": {
     "slide_type": "-"
    }
   },
   "source": [
    "<div class=\"alert alert-info\">\n",
    "    <b>Рекомендация:</b> стоит договариваться в своей команде о стиле – многим не нравится большое разнообразие кавычек\n",
    "</div>"
   ]
  },
  {
   "cell_type": "markdown",
   "id": "b80c9bb7",
   "metadata": {
    "pycharm": {
     "name": "#%% md\n"
    },
    "slideshow": {
     "slide_type": "slide"
    }
   },
   "source": [
    "### Перенос строковых литералов"
   ]
  },
  {
   "cell_type": "code",
   "execution_count": null,
   "id": "d34ae328",
   "metadata": {
    "pycharm": {
     "name": "#%%\n"
    }
   },
   "outputs": [],
   "source": [
    "(\n",
    "    'Hello'\n",
    "    ', world'\n",
    "    '!'\n",
    ")"
   ]
  },
  {
   "cell_type": "code",
   "execution_count": null,
   "id": "455ccc41",
   "metadata": {
    "pycharm": {
     "name": "#%%\n"
    }
   },
   "outputs": [],
   "source": [
    "'123' + \\\n",
    "'456' + \\\n",
    "'789'"
   ]
  },
  {
   "cell_type": "code",
   "execution_count": null,
   "id": "d8335df2",
   "metadata": {
    "pycharm": {
     "name": "#%%\n"
    }
   },
   "outputs": [],
   "source": [
    "'123' \\\n",
    "'456' \\\n",
    "'789'"
   ]
  },
  {
   "cell_type": "markdown",
   "id": "41e4cbc6",
   "metadata": {
    "pycharm": {
     "name": "#%% md\n"
    },
    "slideshow": {
     "slide_type": "slide"
    }
   },
   "source": [
    "### Словарь: dict"
   ]
  },
  {
   "cell_type": "code",
   "execution_count": null,
   "id": "d2e6cec0",
   "metadata": {},
   "outputs": [],
   "source": [
    "birthdays = {'Alice': 123, 'Bob': '1999-12-31'}\n",
    "birthdays['Sam'] = '1972-01-01'\n",
    "birthdays['Sam']"
   ]
  },
  {
   "cell_type": "code",
   "execution_count": null,
   "id": "c2ae4319",
   "metadata": {},
   "outputs": [],
   "source": [
    "birthdays.get(123) is None"
   ]
  },
  {
   "cell_type": "code",
   "execution_count": null,
   "id": "aa68373a",
   "metadata": {},
   "outputs": [],
   "source": [
    "del birthdays['Bob']\n",
    "birthdays"
   ]
  },
  {
   "cell_type": "code",
   "execution_count": null,
   "id": "01f206ef",
   "metadata": {},
   "outputs": [],
   "source": [
    "'Alice' in birthdays"
   ]
  },
  {
   "cell_type": "markdown",
   "id": "545ab888",
   "metadata": {
    "pycharm": {
     "name": "#%% md\n"
    },
    "slideshow": {
     "slide_type": "slide"
    }
   },
   "source": [
    "### Список: list"
   ]
  },
  {
   "cell_type": "code",
   "execution_count": null,
   "id": "e86dd194",
   "metadata": {
    "pycharm": {
     "name": "#%%\n"
    }
   },
   "outputs": [],
   "source": [
    "math_names = ['sin', 'cos', 'rot', 'div']\n",
    "type(math_names)"
   ]
  },
  {
   "cell_type": "code",
   "execution_count": null,
   "id": "4189141f",
   "metadata": {},
   "outputs": [],
   "source": [
    "len(math_names)"
   ]
  },
  {
   "cell_type": "code",
   "execution_count": null,
   "id": "90815735",
   "metadata": {
    "pycharm": {
     "name": "#%%\n"
    }
   },
   "outputs": [],
   "source": [
    "'cos' in math_names, 'sos' in math_names"
   ]
  },
  {
   "cell_type": "code",
   "execution_count": null,
   "id": "68cc3ed7",
   "metadata": {
    "pycharm": {
     "name": "#%%\n"
    }
   },
   "outputs": [],
   "source": [
    "math_names[0], math_names[1], math_names[-1]"
   ]
  },
  {
   "cell_type": "code",
   "execution_count": null,
   "id": "a191ba4f",
   "metadata": {
    "pycharm": {
     "name": "#%%\n"
    }
   },
   "outputs": [],
   "source": [
    "math_names[1:3]"
   ]
  },
  {
   "cell_type": "code",
   "execution_count": null,
   "id": "3c9862a7",
   "metadata": {
    "pycharm": {
     "name": "#%%\n"
    }
   },
   "outputs": [],
   "source": [
    "math_names[::-1]"
   ]
  },
  {
   "cell_type": "code",
   "execution_count": null,
   "id": "60f0fac5",
   "metadata": {
    "pycharm": {
     "name": "#%%\n"
    },
    "slideshow": {
     "slide_type": "slide"
    }
   },
   "outputs": [],
   "source": [
    "# Q: Что получается?\n",
    "print([1, 2] + [3, 4])\n",
    "print([2, 3] * 4)\n",
    "print([2, 3] + 4)"
   ]
  },
  {
   "cell_type": "code",
   "execution_count": null,
   "id": "77698b39",
   "metadata": {
    "pycharm": {
     "name": "#%%\n"
    },
    "slideshow": {
     "slide_type": "slide"
    }
   },
   "outputs": [],
   "source": [
    "letters = ['alpha', 'beta', 'gamma']\n",
    "letters.append('delta')\n",
    "\n",
    "letters"
   ]
  },
  {
   "cell_type": "code",
   "execution_count": null,
   "id": "fffe2afd",
   "metadata": {
    "pycharm": {
     "name": "#%%\n"
    },
    "slideshow": {
     "slide_type": "-"
    }
   },
   "outputs": [],
   "source": [
    "books = ['Философский камень', 'Тайная комната']\n",
    "books += ['Узник Азкабана']\n",
    "books"
   ]
  },
  {
   "cell_type": "code",
   "execution_count": null,
   "id": "811c4ded",
   "metadata": {
    "pycharm": {
     "name": "#%%\n"
    }
   },
   "outputs": [],
   "source": [
    "letters.pop(), letters  # метод pop удаляет последний элемент из списка и возвращает его"
   ]
  },
  {
   "cell_type": "code",
   "execution_count": null,
   "id": "2d8226e2",
   "metadata": {
    "pycharm": {
     "name": "#%%\n"
    }
   },
   "outputs": [],
   "source": [
    "letters.pop(1), letters  # удаляет элемент номер 1"
   ]
  },
  {
   "cell_type": "markdown",
   "id": "a3709646",
   "metadata": {
    "pycharm": {
     "name": "#%% md\n"
    },
    "slideshow": {
     "slide_type": "slide"
    }
   },
   "source": [
    "<div class=\"alert alert-info\">\n",
    "    <b>Рекомендация:</b> использовать list как изменяемый набор значений похожих типов \n",
    "</div>"
   ]
  },
  {
   "cell_type": "markdown",
   "id": "8b3615ce",
   "metadata": {
    "pycharm": {
     "name": "#%% md\n"
    },
    "slideshow": {
     "slide_type": "-"
    }
   },
   "source": [
    "<div class=\"alert alert-danger\">\n",
    "    <b>Антипаттерн:</b> смешивание разных типов в списках\n",
    "</div>"
   ]
  },
  {
   "cell_type": "code",
   "execution_count": null,
   "id": "c0df36c2",
   "metadata": {
    "pycharm": {
     "name": "#%%\n"
    }
   },
   "outputs": [],
   "source": [
    "yyyyy = [555, \"World\", [1,2,3], True, 10.5]"
   ]
  },
  {
   "cell_type": "markdown",
   "id": "d620da3f",
   "metadata": {
    "pycharm": {
     "name": "#%% md\n"
    }
   },
   "source": [
    "<div class=\"alert alert-danger\">\n",
    "    <b>Антипаттерн:</b> самозацикливание\n",
    "</div>"
   ]
  },
  {
   "cell_type": "code",
   "execution_count": null,
   "id": "53cc7692",
   "metadata": {
    "pycharm": {
     "name": "#%%\n"
    }
   },
   "outputs": [],
   "source": [
    "inception = ['dream']\n",
    "inception.append(inception)"
   ]
  },
  {
   "cell_type": "code",
   "execution_count": null,
   "id": "1cf26b7f",
   "metadata": {
    "pycharm": {
     "name": "#%%\n"
    }
   },
   "outputs": [],
   "source": [
    "inception"
   ]
  },
  {
   "cell_type": "code",
   "execution_count": null,
   "id": "e258447a",
   "metadata": {
    "pycharm": {
     "name": "#%%\n"
    }
   },
   "outputs": [],
   "source": [
    "inception[1][1][1][1][1][1][1][1][1][1][1][1]"
   ]
  },
  {
   "cell_type": "markdown",
   "id": "7b3f09c4",
   "metadata": {
    "pycharm": {
     "name": "#%% md\n"
    },
    "slideshow": {
     "slide_type": "slide"
    }
   },
   "source": [
    "### Кортеж: tuple"
   ]
  },
  {
   "cell_type": "code",
   "execution_count": null,
   "id": "b3d556c7",
   "metadata": {
    "pycharm": {
     "name": "#%%\n"
    }
   },
   "outputs": [],
   "source": [
    "(1, 2, 3)"
   ]
  },
  {
   "cell_type": "code",
   "execution_count": null,
   "id": "ea440670",
   "metadata": {
    "pycharm": {
     "name": "#%%\n"
    }
   },
   "outputs": [],
   "source": [
    "(True, 100)"
   ]
  },
  {
   "cell_type": "code",
   "execution_count": null,
   "id": "0720ae40",
   "metadata": {
    "pycharm": {
     "name": "#%%\n"
    }
   },
   "outputs": [],
   "source": [
    "(complex, 21, False)"
   ]
  },
  {
   "cell_type": "code",
   "execution_count": null,
   "id": "3aae3e9a",
   "metadata": {
    "pycharm": {
     "name": "#%%\n"
    }
   },
   "outputs": [],
   "source": [
    "21 in (complex, 21, False)"
   ]
  },
  {
   "cell_type": "code",
   "execution_count": null,
   "id": "8f0d9adc",
   "metadata": {
    "pycharm": {
     "name": "#%%\n"
    },
    "slideshow": {
     "slide_type": "slide"
    }
   },
   "outputs": [],
   "source": [
    "print((1, 2) + (3, 4))\n",
    "print((True, False) * 10)"
   ]
  },
  {
   "cell_type": "code",
   "execution_count": null,
   "id": "e3fa145e",
   "metadata": {
    "pycharm": {
     "name": "#%%\n"
    },
    "slideshow": {
     "slide_type": "-"
    }
   },
   "outputs": [],
   "source": [
    "print((20, 30) + 40)"
   ]
  },
  {
   "cell_type": "markdown",
   "id": "4a6b75e7",
   "metadata": {
    "pycharm": {
     "name": "#%% md\n"
    },
    "slideshow": {
     "slide_type": "slide"
    }
   },
   "source": [
    "### packing, unpacking"
   ]
  },
  {
   "cell_type": "code",
   "execution_count": null,
   "id": "fed894f8",
   "metadata": {
    "pycharm": {
     "name": "#%%\n"
    }
   },
   "outputs": [],
   "source": [
    "int, 21, False"
   ]
  },
  {
   "cell_type": "code",
   "execution_count": null,
   "id": "3b860ffb",
   "metadata": {
    "pycharm": {
     "name": "#%%\n"
    }
   },
   "outputs": [],
   "source": [
    "type(_)  # в переменную _ в интерактивном режиме\n",
    "         # записывается результат последнего выражения"
   ]
  },
  {
   "cell_type": "code",
   "execution_count": null,
   "id": "c34764e6",
   "metadata": {
    "pycharm": {
     "name": "#%%\n"
    },
    "slideshow": {
     "slide_type": "slide"
    }
   },
   "outputs": [],
   "source": [
    "numbers = (4, 8, 15, 16, 23, 42)\n",
    "a, b, c, d, e, f = numbers"
   ]
  },
  {
   "cell_type": "code",
   "execution_count": null,
   "id": "8a494a8d",
   "metadata": {
    "pycharm": {
     "name": "#%%\n"
    }
   },
   "outputs": [],
   "source": [
    "a"
   ]
  },
  {
   "cell_type": "code",
   "execution_count": null,
   "id": "3cd935e4",
   "metadata": {
    "pycharm": {
     "name": "#%%\n"
    }
   },
   "outputs": [],
   "source": [
    "e"
   ]
  },
  {
   "cell_type": "code",
   "execution_count": null,
   "id": "71104a98",
   "metadata": {
    "pycharm": {
     "name": "#%%\n"
    },
    "slideshow": {
     "slide_type": "slide"
    }
   },
   "outputs": [],
   "source": [
    "colors = ('red', 'green', 'blue')\n",
    "red_variable, *other_colors = colors"
   ]
  },
  {
   "cell_type": "code",
   "execution_count": null,
   "id": "1121ed3e",
   "metadata": {
    "pycharm": {
     "name": "#%%\n"
    }
   },
   "outputs": [],
   "source": [
    "red_variable"
   ]
  },
  {
   "cell_type": "code",
   "execution_count": null,
   "id": "9041e6a2",
   "metadata": {
    "pycharm": {
     "name": "#%%\n"
    }
   },
   "outputs": [],
   "source": [
    "other_colors"
   ]
  },
  {
   "cell_type": "code",
   "execution_count": null,
   "id": "a4fb545d",
   "metadata": {
    "pycharm": {
     "name": "#%%\n"
    }
   },
   "outputs": [],
   "source": [
    "letters = 'abcdefgh'\n",
    "*other, prev, last = letters"
   ]
  },
  {
   "cell_type": "code",
   "execution_count": null,
   "id": "7f3f0e35",
   "metadata": {
    "pycharm": {
     "name": "#%%\n"
    }
   },
   "outputs": [],
   "source": [
    "print(other, prev, last)"
   ]
  },
  {
   "cell_type": "markdown",
   "id": "2c08e2b4",
   "metadata": {
    "pycharm": {
     "name": "#%% md\n"
    },
    "slideshow": {
     "slide_type": "slide"
    }
   },
   "source": [
    "#### Примеры packing, unpacking"
   ]
  },
  {
   "cell_type": "code",
   "execution_count": null,
   "id": "a781557b",
   "metadata": {
    "pycharm": {
     "name": "#%%\n"
    }
   },
   "outputs": [],
   "source": [
    "# упаковать несколько объектов в один кортеж,\n",
    "# передать его дальше\n",
    "# и распаковать потом\n",
    "\n",
    "type_of_object = float\n",
    "text = '-273.15'\n",
    "\n",
    "pack = (type_of_object, text)\n",
    "# ..."
   ]
  },
  {
   "cell_type": "code",
   "execution_count": null,
   "id": "3a29a28d",
   "metadata": {
    "pycharm": {
     "name": "#%%\n"
    }
   },
   "outputs": [],
   "source": [
    "call, value = pack\n",
    "call(value)"
   ]
  },
  {
   "cell_type": "code",
   "execution_count": null,
   "id": "cac6ec53",
   "metadata": {
    "pycharm": {
     "name": "#%%\n"
    }
   },
   "outputs": [],
   "source": [
    "# поменять значения a и b местами\n",
    "a = 10\n",
    "b = 20\n",
    "print(a, b)\n",
    "\n",
    "a, b = b, a\n",
    "print(a, b)"
   ]
  },
  {
   "cell_type": "markdown",
   "id": "4dc417c9",
   "metadata": {
    "pycharm": {
     "name": "#%% md\n"
    },
    "slideshow": {
     "slide_type": "slide"
    }
   },
   "source": [
    "### Конвертация типов – неявная"
   ]
  },
  {
   "cell_type": "code",
   "execution_count": null,
   "id": "5450b401",
   "metadata": {
    "pycharm": {
     "name": "#%%\n"
    }
   },
   "outputs": [],
   "source": [
    "# Q: Что получится?"
   ]
  },
  {
   "cell_type": "code",
   "execution_count": null,
   "id": "6f1f01b2",
   "metadata": {
    "pycharm": {
     "name": "#%%\n"
    }
   },
   "outputs": [],
   "source": [
    "True + 1"
   ]
  },
  {
   "cell_type": "code",
   "execution_count": null,
   "id": "3ab20166",
   "metadata": {
    "pycharm": {
     "name": "#%%\n"
    }
   },
   "outputs": [],
   "source": [
    "1 + 1.0"
   ]
  },
  {
   "cell_type": "code",
   "execution_count": null,
   "id": "fec29220",
   "metadata": {
    "pycharm": {
     "name": "#%%\n"
    }
   },
   "outputs": [],
   "source": [
    "True + 1.0"
   ]
  },
  {
   "cell_type": "code",
   "execution_count": null,
   "id": "6e9e7fa5",
   "metadata": {
    "pycharm": {
     "name": "#%%\n"
    }
   },
   "outputs": [],
   "source": [
    "True == 1, \\\n",
    "1.0 == 1, \\\n",
    "\"1\" == 1"
   ]
  },
  {
   "cell_type": "markdown",
   "id": "500a6f75",
   "metadata": {
    "pycharm": {
     "name": "#%% md\n"
    },
    "slideshow": {
     "slide_type": "slide"
    }
   },
   "source": [
    "### Конвертация типов – явная"
   ]
  },
  {
   "cell_type": "code",
   "execution_count": null,
   "id": "61557d05",
   "metadata": {
    "pycharm": {
     "name": "#%%\n"
    }
   },
   "outputs": [],
   "source": [
    "# Q: Что получится?"
   ]
  },
  {
   "cell_type": "code",
   "execution_count": null,
   "id": "10dec09e",
   "metadata": {
    "pycharm": {
     "name": "#%%\n"
    }
   },
   "outputs": [],
   "source": [
    "int(4.3), int(\"345\"), float(-7), float(\"1.4\")"
   ]
  },
  {
   "cell_type": "code",
   "execution_count": null,
   "id": "1cd796fd",
   "metadata": {
    "pycharm": {
     "name": "#%%\n"
    }
   },
   "outputs": [],
   "source": [
    "float(\"-inf\"), float(\"inf\"), float(\"nan\")"
   ]
  },
  {
   "cell_type": "code",
   "execution_count": null,
   "id": "a5189016",
   "metadata": {
    "pycharm": {
     "name": "#%%\n"
    }
   },
   "outputs": [],
   "source": [
    "list(\"abc\")"
   ]
  },
  {
   "cell_type": "code",
   "execution_count": null,
   "id": "c012524b",
   "metadata": {
    "pycharm": {
     "name": "#%%\n"
    }
   },
   "outputs": [],
   "source": [
    "str([1,2,3])"
   ]
  },
  {
   "cell_type": "code",
   "execution_count": null,
   "id": "1860085e",
   "metadata": {
    "pycharm": {
     "name": "#%%\n"
    }
   },
   "outputs": [],
   "source": [
    "tuple([\"Obi\", \"Wan\", \"Kenobi\"])"
   ]
  },
  {
   "cell_type": "code",
   "execution_count": null,
   "id": "97cbfacb",
   "metadata": {
    "pycharm": {
     "name": "#%%\n"
    },
    "slideshow": {
     "slide_type": "slide"
    }
   },
   "outputs": [],
   "source": [
    "bool(-2), bool(-1), bool(0), bool(1), bool(2)"
   ]
  },
  {
   "cell_type": "code",
   "execution_count": null,
   "id": "7b05e7d0",
   "metadata": {
    "pycharm": {
     "name": "#%%\n"
    }
   },
   "outputs": [],
   "source": [
    "# Q: что будет?"
   ]
  },
  {
   "cell_type": "code",
   "execution_count": null,
   "id": "99ef8420",
   "metadata": {
    "pycharm": {
     "name": "#%%\n"
    }
   },
   "outputs": [],
   "source": [
    "bool(-100.0), bool(0.0), bool(1000.0)"
   ]
  },
  {
   "cell_type": "code",
   "execution_count": null,
   "id": "66a057fc",
   "metadata": {
    "pycharm": {
     "name": "#%%\n"
    }
   },
   "outputs": [],
   "source": [
    "bool(-1j), bool(0j+0), bool(3j)"
   ]
  },
  {
   "cell_type": "code",
   "execution_count": null,
   "id": "4886376f",
   "metadata": {
    "pycharm": {
     "name": "#%%\n"
    }
   },
   "outputs": [],
   "source": [
    "# Q: что будет?"
   ]
  },
  {
   "cell_type": "code",
   "execution_count": null,
   "id": "61b37ed8",
   "metadata": {
    "pycharm": {
     "name": "#%%\n"
    },
    "slideshow": {
     "slide_type": "slide"
    }
   },
   "outputs": [],
   "source": [
    "bool(\"\"), bool(\"True\"), bool(\"False\"), bool(\"[]\")"
   ]
  },
  {
   "cell_type": "code",
   "execution_count": null,
   "id": "e95cace6",
   "metadata": {
    "pycharm": {
     "name": "#%%\n"
    },
    "slideshow": {
     "slide_type": "-"
    }
   },
   "outputs": [],
   "source": [
    "bool([]), bool([10, 20, 30]), bool([True]), bool([False])"
   ]
  },
  {
   "cell_type": "code",
   "execution_count": null,
   "id": "c98b3f14",
   "metadata": {
    "pycharm": {
     "name": "#%%\n"
    }
   },
   "outputs": [],
   "source": [
    "bool(()), bool((False)), bool((False,))"
   ]
  },
  {
   "cell_type": "markdown",
   "id": "79eb3c77",
   "metadata": {
    "pycharm": {
     "name": "#%% md\n"
    },
    "slideshow": {
     "slide_type": "slide"
    }
   },
   "source": [
    "## Управляющие конструкции"
   ]
  },
  {
   "cell_type": "markdown",
   "id": "af5dbf94",
   "metadata": {
    "pycharm": {
     "name": "#%% md\n"
    },
    "slideshow": {
     "slide_type": "slide"
    }
   },
   "source": [
    "### Условный оператор, if, elif, else"
   ]
  },
  {
   "cell_type": "code",
   "execution_count": null,
   "id": "22d42181",
   "metadata": {
    "pycharm": {
     "name": "#%%\n"
    },
    "slideshow": {
     "slide_type": "-"
    }
   },
   "outputs": [],
   "source": [
    "print(20, \"Делится на 10\")\n",
    "print(25, \"Делится на 5\")\n",
    "print(13, \"Не делится на 5\")"
   ]
  },
  {
   "cell_type": "code",
   "execution_count": null,
   "id": "3b775f2e",
   "metadata": {
    "pycharm": {
     "name": "#%%\n"
    }
   },
   "outputs": [],
   "source": [
    "x = 30"
   ]
  },
  {
   "cell_type": "code",
   "execution_count": null,
   "id": "b0734349",
   "metadata": {
    "pycharm": {
     "name": "#%%\n"
    },
    "slideshow": {
     "slide_type": "slide"
    }
   },
   "outputs": [],
   "source": [
    "x = 30"
   ]
  },
  {
   "cell_type": "code",
   "execution_count": null,
   "id": "e7e53f98",
   "metadata": {
    "pycharm": {
     "name": "#%%\n"
    },
    "slideshow": {
     "slide_type": "-"
    }
   },
   "outputs": [],
   "source": [
    "if x % 10 == 0:  # двоеточие означает, что далее будет выделенный блок кода\n",
    "    \n",
    "    # отступ выделяет блок кода. В данном случае -\n",
    "    # одну или несколько комманд, выполняющихся,\n",
    "    # когда условие верно.\n",
    "    \n",
    "    # Выделение блока выполняется только отступами, т.е.,\n",
    "    # например, фигурные скобки как в C++ – не требуются\n",
    "\n",
    "    print(x, \"Делится на 10\")\n",
    "elif x % 5 == 0:\n",
    "    print(x, \"Делится на 5\")\n",
    "else:\n",
    "    print(x, \"Не делится на 5\")"
   ]
  },
  {
   "cell_type": "code",
   "execution_count": null,
   "id": "b7b7d901",
   "metadata": {
    "pycharm": {
     "name": "#%%\n"
    },
    "slideshow": {
     "slide_type": "slide"
    }
   },
   "outputs": [],
   "source": [
    "value = 5\n",
    "\n",
    "if value > 5:\n",
    "    print('> 5')\n",
    "elif value == 5:\n",
    "    print('5')\n",
    "elif value < 5:\n",
    "    print('< 5')\n",
    "else:\n",
    "    print('HOW?!')  # Q: на что можно заменить value чтоб напечаталось \"HOW?!\" ?"
   ]
  },
  {
   "cell_type": "markdown",
   "id": "6c2384b6",
   "metadata": {
    "pycharm": {
     "name": "#%% md\n"
    },
    "slideshow": {
     "slide_type": "slide"
    }
   },
   "source": [
    "<div class=\"alert alert-danger\">\n",
    "<b>Антипаттерн:</b> ставить лишние скобки\n",
    "</div>"
   ]
  },
  {
   "cell_type": "code",
   "execution_count": null,
   "id": "451ce466",
   "metadata": {
    "pycharm": {
     "name": "#%%\n"
    }
   },
   "outputs": [],
   "source": [
    "if (x % 10 == 0):  # не требуется и усложняет чтение\n",
    "    print(x, \"Делится на 10\")\n",
    "elif (x % 5 == 0):\n",
    "    print(x, \"Делится на 5\")\n",
    "else:\n",
    "    print(x, \"Не делится на 5\")"
   ]
  },
  {
   "cell_type": "markdown",
   "id": "acfcee5e",
   "metadata": {
    "pycharm": {
     "name": "#%% md\n"
    },
    "slideshow": {
     "slide_type": "slide"
    }
   },
   "source": [
    "### Тренарный оператор"
   ]
  },
  {
   "cell_type": "code",
   "execution_count": null,
   "id": "6285879c",
   "metadata": {
    "pycharm": {
     "name": "#%%\n"
    }
   },
   "outputs": [],
   "source": [
    "if x % 10 == 0:\n",
    "    answer = \"Делится на 10\"\n",
    "else:\n",
    "    answer = \"Не делится на 10\""
   ]
  },
  {
   "cell_type": "code",
   "execution_count": null,
   "id": "9cc6c327",
   "metadata": {
    "pycharm": {
     "name": "#%%\n"
    }
   },
   "outputs": [],
   "source": [
    "answer = \"Делится на 10\" if x % 10 == 0 else \"Не делится на 10\""
   ]
  },
  {
   "cell_type": "markdown",
   "id": "661e2ffb",
   "metadata": {
    "pycharm": {
     "name": "#%% md\n"
    },
    "slideshow": {
     "slide_type": "slide"
    }
   },
   "source": [
    "<div class=\"alert alert-danger\">\n",
    "<b>Антипаттерн:</b> использовать тренарный оператор для длинных выражений\n",
    "</div>"
   ]
  },
  {
   "cell_type": "markdown",
   "id": "45884346",
   "metadata": {
    "pycharm": {
     "name": "#%% md\n"
    }
   },
   "source": [
    "<img src=\"./images/big_ternary.png\" />"
   ]
  },
  {
   "cell_type": "markdown",
   "id": "51dcbc6c",
   "metadata": {
    "pycharm": {
     "name": "#%% md\n"
    },
    "slideshow": {
     "slide_type": "slide"
    }
   },
   "source": [
    "<div class=\"alert alert-danger\">\n",
    "<b>Антипаттерн:</b> возвращать разные типы в зависимости от условия\n",
    "</div>"
   ]
  },
  {
   "cell_type": "code",
   "execution_count": null,
   "id": "a496830c",
   "metadata": {
    "pycharm": {
     "name": "#%%\n"
    }
   },
   "outputs": [],
   "source": [
    "x = 13\n",
    "\n",
    "answer = x % 10 if x > 0 else \"Wrong value!\""
   ]
  },
  {
   "cell_type": "markdown",
   "id": "85f8d3f2",
   "metadata": {
    "pycharm": {
     "name": "#%% md\n"
    },
    "slideshow": {
     "slide_type": "slide"
    }
   },
   "source": [
    "### or и and"
   ]
  },
  {
   "cell_type": "code",
   "execution_count": null,
   "id": "ae44a14e",
   "metadata": {
    "pycharm": {
     "name": "#%%\n"
    }
   },
   "outputs": [],
   "source": [
    "bool(20), bool(0)"
   ]
  },
  {
   "cell_type": "code",
   "execution_count": null,
   "id": "a7a2a1cf",
   "metadata": {
    "pycharm": {
     "name": "#%%\n"
    }
   },
   "outputs": [],
   "source": [
    "bool(20 or 0), bool(20 and 0)"
   ]
  },
  {
   "cell_type": "code",
   "execution_count": null,
   "id": "921257d9",
   "metadata": {
    "pycharm": {
     "name": "#%%\n"
    }
   },
   "outputs": [],
   "source": [
    "type(20 or 0), type(20 and 0)"
   ]
  },
  {
   "cell_type": "code",
   "execution_count": null,
   "id": "c6d5fef0",
   "metadata": {
    "pycharm": {
     "name": "#%%\n"
    },
    "slideshow": {
     "slide_type": "slide"
    }
   },
   "outputs": [],
   "source": [
    "x = \"\"\n",
    "if x:\n",
    "    pass  # pass это оператор, который просто не делает ничего.\n",
    "else:\n",
    "    x = \"default\"\n",
    "    \n",
    "x"
   ]
  },
  {
   "cell_type": "code",
   "execution_count": null,
   "id": "d4b7838b",
   "metadata": {
    "pycharm": {
     "name": "#%%\n"
    }
   },
   "outputs": [],
   "source": [
    "x = \"\"\n",
    "x = x or \"default\"  # частый способ заменить пустое значение на другое\n",
    "\n",
    "x"
   ]
  },
  {
   "cell_type": "code",
   "execution_count": null,
   "id": "2c5b7f89",
   "metadata": {
    "pycharm": {
     "name": "#%%\n"
    }
   },
   "outputs": [],
   "source": [
    "x = [1, 2,]\n",
    "\n",
    "print(x + [0] if x else x)\n",
    "\n",
    "print(x and (x + [0]))  # непонятно; обычно так не делают"
   ]
  },
  {
   "cell_type": "markdown",
   "id": "2010077a",
   "metadata": {
    "pycharm": {
     "name": "#%% md\n"
    },
    "slideshow": {
     "slide_type": "slide"
    }
   },
   "source": [
    "### Ленивое вычисление or и and"
   ]
  },
  {
   "cell_type": "code",
   "execution_count": null,
   "id": "cc9f50a7",
   "metadata": {
    "pycharm": {
     "name": "#%%\n"
    }
   },
   "outputs": [],
   "source": [
    "#Q: что произойдёт?\n",
    "print(0 and NEVER_EXISTED_VARIABLE)\n",
    "print([10] or NEVER_EXISTED_VARIABLE)"
   ]
  },
  {
   "cell_type": "code",
   "execution_count": null,
   "id": "75b7547c",
   "metadata": {
    "pycharm": {
     "name": "#%%\n"
    }
   },
   "outputs": [],
   "source": [
    "print(10 and NEVER_EXISTED_VARIABLE)"
   ]
  },
  {
   "cell_type": "code",
   "execution_count": null,
   "id": "e8fdda50",
   "metadata": {
    "pycharm": {
     "name": "#%%\n"
    }
   },
   "outputs": [],
   "source": [
    "10 or print(\"lazy\")"
   ]
  },
  {
   "cell_type": "code",
   "execution_count": null,
   "id": "92ffd304",
   "metadata": {
    "pycharm": {
     "name": "#%%\n"
    }
   },
   "outputs": [],
   "source": [
    "print(\"start\") or print(\"end\")"
   ]
  },
  {
   "cell_type": "markdown",
   "id": "39dbec55",
   "metadata": {
    "pycharm": {
     "name": "#%% md\n"
    },
    "slideshow": {
     "slide_type": "slide"
    }
   },
   "source": [
    "### Базовый тип None"
   ]
  },
  {
   "cell_type": "code",
   "execution_count": null,
   "id": "4d569c71",
   "metadata": {
    "pycharm": {
     "name": "#%%\n"
    }
   },
   "outputs": [],
   "source": [
    "# None обозначает отсутствие значения\n",
    "None"
   ]
  },
  {
   "cell_type": "code",
   "execution_count": null,
   "id": "e56cd60b",
   "metadata": {
    "pycharm": {
     "name": "#%%\n"
    }
   },
   "outputs": [],
   "source": [
    "type(_)  # sic! None не записывается в _ (ведь означает \"значение отсувует\")\n",
    "         # поэтому в _ осталось одно из прошлых значений"
   ]
  },
  {
   "cell_type": "code",
   "execution_count": null,
   "id": "89bdaf3a",
   "metadata": {
    "pycharm": {
     "name": "#%%\n"
    }
   },
   "outputs": [],
   "source": [
    "type(None)"
   ]
  },
  {
   "cell_type": "code",
   "execution_count": null,
   "id": "8b9f8abe",
   "metadata": {
    "pycharm": {
     "name": "#%%\n"
    }
   },
   "outputs": [],
   "source": [
    "bool(None), str(None)"
   ]
  },
  {
   "cell_type": "markdown",
   "id": "2f4031aa",
   "metadata": {
    "pycharm": {
     "name": "#%% md\n"
    },
    "slideshow": {
     "slide_type": "slide"
    }
   },
   "source": [
    "### Примеры использования None"
   ]
  },
  {
   "cell_type": "code",
   "execution_count": null,
   "id": "8dba4159",
   "metadata": {
    "pycharm": {
     "name": "#%%\n"
    }
   },
   "outputs": [],
   "source": [
    "# Включаем видео на ноутбуке\n",
    "# ...\n",
    "is_working = False  # ноутбук сломался\n",
    "\n",
    "if is_working:\n",
    "    channel = 'Megasuper Channel'\n",
    "else:\n",
    "    channel = None "
   ]
  },
  {
   "cell_type": "code",
   "execution_count": null,
   "id": "eaf7a4b2",
   "metadata": {
    "pycharm": {
     "name": "#%%\n"
    }
   },
   "outputs": [],
   "source": [
    "value = print(\"I am print!\")  # print просто печатает объекты,\n",
    "                              # поэтому не возвращает ничего\n",
    "\n",
    "    \n",
    "print(\"value\", \"=\", value)"
   ]
  },
  {
   "cell_type": "markdown",
   "id": "a83a793a",
   "metadata": {
    "pycharm": {
     "name": "#%% md\n"
    },
    "slideshow": {
     "slide_type": "slide"
    }
   },
   "source": [
    "<div class=\"alert alert-danger\">\n",
    "<b>Антипаттерн:</b> проверка на `== None` вместо `is None`\n",
    "</div>"
   ]
  },
  {
   "cell_type": "code",
   "execution_count": null,
   "id": "8fbadab9",
   "metadata": {
    "pycharm": {
     "name": "#%%\n"
    }
   },
   "outputs": [],
   "source": [
    "# Напечатай размер value, если value не None\n",
    "\n",
    "value = None\n",
    "# value = \"Football\"\n",
    "# value = \"\"\n",
    "\n",
    "# Новичок\n",
    "if value != None:  # работает для базовых типов, но \n",
    "                   # нестандартные объекты могут быть равны None,\n",
    "                   # не являясь None\n",
    "    print(len(value))\n",
    "\n",
    "# Новичок 2\n",
    "if value:  # пустой список тоже приводится к False \n",
    "    print(len(value))\n",
    "    \n",
    "# Опытный\n",
    "if value is not None:  # is - проверка на то, что в value лежит\n",
    "                       # тот же самый объект (а не просто равный)\n",
    "    print(len(value))"
   ]
  },
  {
   "cell_type": "markdown",
   "id": "0768ea06",
   "metadata": {
    "pycharm": {
     "name": "#%% md\n"
    },
    "slideshow": {
     "slide_type": "slide"
    }
   },
   "source": [
    "### Циклы: for"
   ]
  },
  {
   "cell_type": "code",
   "execution_count": null,
   "id": "e86f2806",
   "metadata": {
    "pycharm": {
     "name": "#%%\n"
    }
   },
   "outputs": [],
   "source": [
    "# Напечатать числа от 1 до 10\n",
    "print(1)\n",
    "print(2)\n",
    "print(3)\n",
    "print(4)\n",
    "print(5)\n",
    "print(6)\n",
    "print(7)\n",
    "print(8)\n",
    "print(9)\n",
    "print(10)"
   ]
  },
  {
   "cell_type": "code",
   "execution_count": null,
   "id": "34ba49df",
   "metadata": {
    "pycharm": {
     "name": "#%%\n"
    },
    "slideshow": {
     "slide_type": "slide"
    }
   },
   "outputs": [],
   "source": [
    "for n in [1, 2, 3, 4, 5, 6, 7, 8, 9, 10]:\n",
    "    print(n)"
   ]
  },
  {
   "cell_type": "code",
   "execution_count": null,
   "id": "627ca93e",
   "metadata": {
    "pycharm": {
     "name": "#%%\n"
    },
    "slideshow": {
     "slide_type": "slide"
    }
   },
   "outputs": [],
   "source": [
    "for letter in \"ABCDE\":\n",
    "    print(\"Letter\", letter)"
   ]
  },
  {
   "cell_type": "code",
   "execution_count": null,
   "id": "90fc8723",
   "metadata": {
    "pycharm": {
     "name": "#%%\n"
    }
   },
   "outputs": [],
   "source": [
    "for obj in (int, 10.1, True, None):\n",
    "    print(obj)"
   ]
  },
  {
   "cell_type": "code",
   "execution_count": null,
   "id": "a6a3db74",
   "metadata": {},
   "outputs": [],
   "source": [
    "for k in {\"a\": 1, \"b\": 2}:\n",
    "    print(k)"
   ]
  },
  {
   "cell_type": "code",
   "execution_count": null,
   "id": "f409bdc5",
   "metadata": {
    "pycharm": {
     "name": "#%%\n"
    },
    "slideshow": {
     "slide_type": "slide"
    }
   },
   "outputs": [],
   "source": [
    "# Напечатать числа от 1 до 1000000\n",
    "\n",
    "for n in [1, 2, 3, ]:  # очень долго писать...\n",
    "    print(n)"
   ]
  },
  {
   "cell_type": "markdown",
   "id": "87fc6fbc",
   "metadata": {
    "pycharm": {
     "name": "#%% md\n"
    },
    "slideshow": {
     "slide_type": "slide"
    }
   },
   "source": [
    "### Базовый тип range"
   ]
  },
  {
   "cell_type": "code",
   "execution_count": null,
   "id": "d55531c4",
   "metadata": {
    "pycharm": {
     "name": "#%%\n"
    }
   },
   "outputs": [],
   "source": [
    "numbers = range(10)"
   ]
  },
  {
   "cell_type": "code",
   "execution_count": null,
   "id": "c9c63412",
   "metadata": {
    "pycharm": {
     "name": "#%%\n"
    }
   },
   "outputs": [],
   "source": [
    "type(numbers)"
   ]
  },
  {
   "cell_type": "code",
   "execution_count": null,
   "id": "197bb6d6",
   "metadata": {
    "pycharm": {
     "name": "#%%\n"
    }
   },
   "outputs": [],
   "source": [
    "numbers[0], numbers[-1]"
   ]
  },
  {
   "cell_type": "code",
   "execution_count": null,
   "id": "6c3a67da",
   "metadata": {
    "pycharm": {
     "name": "#%%\n"
    }
   },
   "outputs": [],
   "source": [
    "reversed_numbers = numbers[::-1]\n",
    "reversed_numbers"
   ]
  },
  {
   "cell_type": "code",
   "execution_count": null,
   "id": "e790b365",
   "metadata": {
    "pycharm": {
     "name": "#%%\n"
    },
    "slideshow": {
     "slide_type": "slide"
    }
   },
   "outputs": [],
   "source": [
    "list(range(10))"
   ]
  },
  {
   "cell_type": "code",
   "execution_count": null,
   "id": "7b2c2c8b",
   "metadata": {
    "pycharm": {
     "name": "#%%\n"
    }
   },
   "outputs": [],
   "source": [
    "list(range(4, 14))  # полуинтервал – включается первый аргумент, но исключается последний"
   ]
  },
  {
   "cell_type": "code",
   "execution_count": null,
   "id": "1614641d",
   "metadata": {
    "pycharm": {
     "name": "#%%\n"
    }
   },
   "outputs": [],
   "source": [
    "list(range(4, 14, 3))"
   ]
  },
  {
   "cell_type": "code",
   "execution_count": null,
   "id": "f22a6ce2",
   "metadata": {
    "pycharm": {
     "name": "#%%\n"
    }
   },
   "outputs": [],
   "source": [
    "list(range(14, 4, -2))"
   ]
  },
  {
   "cell_type": "code",
   "execution_count": null,
   "id": "a498800d",
   "metadata": {
    "pycharm": {
     "name": "#%%\n"
    }
   },
   "outputs": [],
   "source": [
    "range(10**100)  # в память не поместилось бы, но range и не хранится в памяти"
   ]
  },
  {
   "cell_type": "code",
   "execution_count": null,
   "id": "3f522cb4",
   "metadata": {
    "pycharm": {
     "name": "#%%\n"
    },
    "slideshow": {
     "slide_type": "-"
    }
   },
   "outputs": [],
   "source": [
    "range('a', 'f', 2)  # Q: что будет?"
   ]
  },
  {
   "cell_type": "markdown",
   "id": "0e7f730b",
   "metadata": {
    "pycharm": {
     "name": "#%% md\n"
    },
    "slideshow": {
     "slide_type": "slide"
    }
   },
   "source": [
    "### Циклы: for"
   ]
  },
  {
   "cell_type": "code",
   "execution_count": null,
   "id": "ea394d46",
   "metadata": {
    "pycharm": {
     "name": "#%%\n"
    },
    "slideshow": {
     "slide_type": "-"
    }
   },
   "outputs": [],
   "source": [
    "# Напечатать числа от 1 до 1000000\n",
    "\n",
    "for n in range(1000000):\n",
    "    # print(n)  # закомментировано, чтоб случайно не напечатать и не подвесить jupyter ;]\n",
    "    pass"
   ]
  },
  {
   "cell_type": "code",
   "execution_count": null,
   "id": "a045dfd3",
   "metadata": {
    "pycharm": {
     "name": "#%%\n"
    },
    "slideshow": {
     "slide_type": "slide"
    }
   },
   "outputs": [],
   "source": [
    "# напечатать алфавит сначала в прямом, потом в обратном порядке\n",
    "alphabet = 'abcdefghijklmnopqrstuvwxyz'\n",
    "for letter in alphabet:\n",
    "    print(letter, end=' ')\n",
    "    \n",
    "print()\n",
    "    \n",
    "for letter in alphabet[::-1]:\n",
    "    print(letter, end=' ')"
   ]
  },
  {
   "cell_type": "markdown",
   "id": "f3121500",
   "metadata": {
    "pycharm": {
     "name": "#%% md\n"
    },
    "slideshow": {
     "slide_type": "slide"
    }
   },
   "source": [
    "<div class=\"alert alert-danger\">\n",
    "<b>Антипаттерн:</b> [::-1] плохо читается. Лучше использовать reversed\n",
    "</div>"
   ]
  },
  {
   "cell_type": "code",
   "execution_count": null,
   "id": "9a0e3ad8",
   "metadata": {
    "pycharm": {
     "name": "#%%\n"
    }
   },
   "outputs": [],
   "source": [
    "reversed(alphabet)"
   ]
  },
  {
   "cell_type": "code",
   "execution_count": null,
   "id": "75223b0c",
   "metadata": {
    "pycharm": {
     "name": "#%%\n"
    }
   },
   "outputs": [],
   "source": [
    "for letter in reversed(alphabet):\n",
    "    print(letter, end=' ')"
   ]
  },
  {
   "cell_type": "code",
   "execution_count": null,
   "id": "a017c6c4",
   "metadata": {
    "pycharm": {
     "name": "#%%\n"
    }
   },
   "outputs": [],
   "source": [
    "for value in range(9, -1, -1):\n",
    "    print(value, end=' ')\n",
    "\n",
    "print()\n",
    "\n",
    "for value in reversed(range(10)):\n",
    "    print(value, end=' ')"
   ]
  },
  {
   "cell_type": "markdown",
   "id": "1b856149",
   "metadata": {
    "pycharm": {
     "name": "#%% md\n"
    },
    "slideshow": {
     "slide_type": "slide"
    }
   },
   "source": [
    "### Циклы: while"
   ]
  },
  {
   "cell_type": "code",
   "execution_count": null,
   "id": "10bb3597",
   "metadata": {
    "pycharm": {
     "name": "#%%\n"
    },
    "scrolled": true
   },
   "outputs": [],
   "source": [
    "x = 17\n",
    "\n",
    "while x != 1:  # выполняется любое число раз, пока верно условие\n",
    "    \n",
    "    if x % 2 == 0:\n",
    "        x //= 2\n",
    "    else:\n",
    "        x = 3 * x + 1\n",
    "    \n",
    "    print(x)"
   ]
  },
  {
   "cell_type": "code",
   "execution_count": null,
   "id": "e0d21df0",
   "metadata": {
    "pycharm": {
     "name": "#%%\n"
    },
    "slideshow": {
     "slide_type": "slide"
    }
   },
   "outputs": [],
   "source": [
    "data = [.0, .0, .0, 1.2]\n",
    "\n",
    "while len(data) > data[-1]:\n",
    "    last = data[-1]\n",
    "    data.append(last * last)\n",
    "    \n",
    "    print(data)"
   ]
  },
  {
   "cell_type": "markdown",
   "id": "82866a75",
   "metadata": {
    "pycharm": {
     "name": "#%% md\n"
    },
    "slideshow": {
     "slide_type": "slide"
    }
   },
   "source": [
    "<div class=\"alert alert-info\">\n",
    "    <b>Рекомендация:</b> использовать <b>for</b>, когда нужно работать с элементами последовательно и независимо друг от друга\n",
    "</div>"
   ]
  },
  {
   "cell_type": "code",
   "execution_count": null,
   "id": "b0aa3219",
   "metadata": {
    "pycharm": {
     "name": "#%%\n"
    }
   },
   "outputs": [],
   "source": [
    "data = [10, 20, 30, 40]\n",
    "\n",
    "print(\"Для каждого элемента из списка напечатай его\")\n",
    "\n",
    "for value in data:\n",
    "    print(value, end=', ')\n",
    "\n",
    "print()\n",
    "print(\"Для каждого элемента из списка напечатай пару: (порядковый номер, элемент)\")\n",
    "\n",
    "for i, value in enumerate(data):\n",
    "    # enumerate отображает объекты data в кортежи (индекс, объект)\n",
    "    print(i, value, end=', ')\n",
    "\n",
    "print()\n",
    "print(\"Для каждого элемента из списка напечатай его индекс\")\n",
    "\n",
    "for i in range(len(data)):\n",
    "    print(i, end=', ')"
   ]
  },
  {
   "cell_type": "markdown",
   "id": "69348eb1",
   "metadata": {
    "pycharm": {
     "name": "#%% md\n"
    },
    "slideshow": {
     "slide_type": "slide"
    }
   },
   "source": [
    "<div class=\"alert alert-danger\">\n",
    "<b>Антипаттерн:</b> изменять объект, по которому сейчас запущен цикл for\n",
    "</div>"
   ]
  },
  {
   "cell_type": "code",
   "execution_count": null,
   "id": "f6341c2d",
   "metadata": {
    "pycharm": {
     "name": "#%%\n"
    }
   },
   "outputs": [],
   "source": [
    "data = [0,1,2,3,4,5,6,7,8,9,10]\n",
    "\n",
    "for value in data:\n",
    "    print(value, end=', ')\n",
    "    data.pop(0)  # удаление начального элемента"
   ]
  },
  {
   "cell_type": "markdown",
   "id": "3efd1703",
   "metadata": {
    "pycharm": {
     "name": "#%% md\n"
    },
    "slideshow": {
     "slide_type": "slide"
    }
   },
   "source": [
    "<div class=\"alert alert-info\">\n",
    "    <b>Рекомендация:</b> использовать <b>while</b> если список изменяется на каждой итерации, если заранее сложно предсказать количество итераций\n",
    "</div>"
   ]
  },
  {
   "cell_type": "code",
   "execution_count": null,
   "id": "2ca51c85",
   "metadata": {
    "pycharm": {
     "name": "#%%\n"
    }
   },
   "outputs": [],
   "source": [
    "data = [0,1,2,3,4,5,6,7,8,9,10]\n",
    "\n",
    "while data:\n",
    "    value = data.pop(0)\n",
    "    print(value, end=', ')"
   ]
  },
  {
   "cell_type": "code",
   "execution_count": null,
   "id": "9bb4f8f2",
   "metadata": {
    "pycharm": {
     "name": "#%%\n"
    }
   },
   "outputs": [],
   "source": [
    "n = 257\n",
    "while n > 1:\n",
    "    print(n, end=', ')\n",
    "    if n % 2 == 0:\n",
    "        n //= 2\n",
    "    else:\n",
    "        n *= 3\n",
    "        n += 1"
   ]
  },
  {
   "cell_type": "markdown",
   "id": "8455860e",
   "metadata": {
    "pycharm": {
     "name": "#%% md\n"
    },
    "slideshow": {
     "slide_type": "slide"
    }
   },
   "source": [
    "### Циклы: break, continue, else"
   ]
  },
  {
   "cell_type": "markdown",
   "id": "3de4c070",
   "metadata": {
    "pycharm": {
     "name": "#%% md\n"
    }
   },
   "source": [
    "#### contnue"
   ]
  },
  {
   "cell_type": "code",
   "execution_count": null,
   "id": "9e99e5a8",
   "metadata": {
    "pycharm": {
     "name": "#%%\n"
    }
   },
   "outputs": [],
   "source": [
    "# continue заканчивает исполнение текущей итерации\n",
    "# и сразу же переходит к следущей"
   ]
  },
  {
   "cell_type": "code",
   "execution_count": null,
   "id": "7b3ddab5",
   "metadata": {
    "pycharm": {
     "name": "#%%\n"
    }
   },
   "outputs": [],
   "source": [
    "skip = 7\n",
    "\n",
    "for n in range(10):\n",
    "    if n == skip:\n",
    "        print('*', end=', ')\n",
    "        continue\n",
    "    print(n, end=', ')"
   ]
  },
  {
   "cell_type": "code",
   "execution_count": null,
   "id": "d6f82cd0",
   "metadata": {
    "pycharm": {
     "name": "#%%\n"
    }
   },
   "outputs": [],
   "source": [
    "data = [1, 2, 3, 4, 5, 6, 7]\n",
    "\n",
    "while data:\n",
    "    value = data.pop()  # удаляем последний элемент\n",
    "    if 2 <= len(data) <= 4:\n",
    "        continue\n",
    "    print(value, end=', ')"
   ]
  },
  {
   "cell_type": "markdown",
   "id": "b1975132",
   "metadata": {
    "pycharm": {
     "name": "#%% md\n"
    },
    "slideshow": {
     "slide_type": "slide"
    }
   },
   "source": [
    "#### break"
   ]
  },
  {
   "cell_type": "code",
   "execution_count": null,
   "id": "a105c4da",
   "metadata": {
    "pycharm": {
     "name": "#%%\n"
    }
   },
   "outputs": [],
   "source": [
    "# break полностью прерывает исполнение цикла"
   ]
  },
  {
   "cell_type": "code",
   "execution_count": null,
   "id": "ea600005",
   "metadata": {
    "pycharm": {
     "name": "#%%\n"
    }
   },
   "outputs": [],
   "source": [
    "for natural in [1, 2, 3, 4, -1, 20]:\n",
    "    if natural < 0:\n",
    "        print(\"ERROR\")\n",
    "        break"
   ]
  },
  {
   "cell_type": "code",
   "execution_count": null,
   "id": "c9a8d42d",
   "metadata": {
    "pycharm": {
     "name": "#%%\n"
    }
   },
   "outputs": [],
   "source": [
    "bad = [13, 5, 10]\n",
    "errors = 0\n",
    "\n",
    "n = 17\n",
    "while n > 1:\n",
    "    print(n, end=', ')\n",
    "    n = n // 2 if n % 2 == 0 else n * 3 + 1\n",
    "        \n",
    "    if n in bad:\n",
    "        print('ERROR', end='! ')\n",
    "        errors += 1\n",
    "        if errors == len(bad):\n",
    "            print(\"FATAL ERROR - BREAK\")\n",
    "            break"
   ]
  },
  {
   "cell_type": "markdown",
   "id": "adeeab3e",
   "metadata": {
    "pycharm": {
     "name": "#%% md\n"
    },
    "slideshow": {
     "slide_type": "slide"
    }
   },
   "source": [
    "#### else"
   ]
  },
  {
   "cell_type": "code",
   "execution_count": null,
   "id": "2fdc2764",
   "metadata": {
    "pycharm": {
     "name": "#%%\n"
    }
   },
   "outputs": [],
   "source": [
    "# Если цикл не прерывался на break то выполняется блок else"
   ]
  },
  {
   "cell_type": "code",
   "execution_count": null,
   "id": "446ea51d",
   "metadata": {
    "pycharm": {
     "name": "#%%\n"
    }
   },
   "outputs": [],
   "source": [
    "for line in ['Hello', 'World', 'Library']:\n",
    "    if len(line) > 7:\n",
    "        print(\"Found long line!\")\n",
    "        break\n",
    "else:\n",
    "    print(\"All lines are short\")"
   ]
  },
  {
   "cell_type": "code",
   "execution_count": null,
   "id": "78759789",
   "metadata": {
    "pycharm": {
     "name": "#%%\n"
    }
   },
   "outputs": [],
   "source": [
    "vault = 257\n",
    "while vault > 1:\n",
    "    vault = vault // 2 if vault % 2 == 0 else vault * 3 + 1\n",
    "    if vault == 13:\n",
    "        break\n",
    "else:\n",
    "    print(\"Vault 13 not found!\")"
   ]
  },
  {
   "cell_type": "markdown",
   "id": "3d9f8ffb",
   "metadata": {
    "pycharm": {
     "name": "#%% md\n"
    },
    "slideshow": {
     "slide_type": "slide"
    }
   },
   "source": [
    "<center><h1>Встроенные функции и типы</h1></center>"
   ]
  },
  {
   "cell_type": "code",
   "execution_count": null,
   "id": "0c388fcc",
   "metadata": {
    "pycharm": {
     "name": "#%%\n"
    },
    "scrolled": true,
    "slideshow": {
     "slide_type": "slide"
    }
   },
   "outputs": [],
   "source": [
    "dir(__builtins__)"
   ]
  },
  {
   "cell_type": "markdown",
   "id": "c77381a1",
   "metadata": {
    "pycharm": {
     "name": "#%% md\n"
    },
    "slideshow": {
     "slide_type": "slide"
    }
   },
   "source": [
    "<div class=\"alert alert-danger\">\n",
    "<b>Антипаттерн:</b> использовать объекты из builtins в качестве имен переменных\n",
    "</div>"
   ]
  },
  {
   "cell_type": "code",
   "execution_count": null,
   "id": "a1405f6f",
   "metadata": {
    "pycharm": {
     "name": "#%%\n"
    },
    "slideshow": {
     "slide_type": "-"
    }
   },
   "outputs": [],
   "source": [
    "# Q: Что тут получится?\n",
    "str = 'hello'\n",
    "str(1)"
   ]
  },
  {
   "cell_type": "code",
   "execution_count": null,
   "id": "81e0ba06",
   "metadata": {
    "pycharm": {
     "name": "#%%\n"
    }
   },
   "outputs": [],
   "source": [
    "str = __builtins__.str  # Восстанавливаем"
   ]
  },
  {
   "cell_type": "code",
   "execution_count": null,
   "id": "29ad217e",
   "metadata": {
    "pycharm": {
     "name": "#%%\n"
    },
    "slideshow": {
     "slide_type": "slide"
    }
   },
   "outputs": [],
   "source": [
    "# типы, которые уже были выше\n",
    "print, reversed, enumerate"
   ]
  },
  {
   "cell_type": "code",
   "execution_count": null,
   "id": "71311282",
   "metadata": {
    "pycharm": {
     "name": "#%%\n"
    }
   },
   "outputs": [],
   "source": [
    "# другие функции и типы\n",
    "min, max, sum, ..."
   ]
  },
  {
   "cell_type": "markdown",
   "id": "12ab2ad1",
   "metadata": {
    "pycharm": {
     "name": "#%% md\n"
    },
    "slideshow": {
     "slide_type": "slide"
    }
   },
   "source": [
    "<div class=\"alert alert-danger\">\n",
    "<b>Антипаттерн:</b> не использовать встроенные функции для простых операций\n",
    "</div>"
   ]
  },
  {
   "cell_type": "code",
   "execution_count": null,
   "id": "2cef30bd",
   "metadata": {
    "pycharm": {
     "name": "#%%\n"
    }
   },
   "outputs": [],
   "source": [
    "data = [1, 2, 3, 4, 5]\n",
    "\n",
    "# Новичок\n",
    "total = 0\n",
    "for el in data:\n",
    "    total += el\n",
    "    \n",
    "# Опытный\n",
    "total = sum(data)\n",
    "\n",
    "total"
   ]
  },
  {
   "cell_type": "code",
   "execution_count": null,
   "id": "1d9467d5",
   "metadata": {
    "pycharm": {
     "name": "#%%\n"
    },
    "slideshow": {
     "slide_type": "slide"
    }
   },
   "outputs": [],
   "source": [
    "data = [1, 2, 3, 4, 5]\n",
    "\n",
    "# Новичок\n",
    "\n",
    "min_value = None\n",
    "\n",
    "for el in data:\n",
    "    if min_value is None:\n",
    "        min_value = el\n",
    "    else:\n",
    "        if el < min_value:\n",
    "            min_value = el\n",
    "    \n",
    "# Опытный\n",
    "min_value = min(data)"
   ]
  },
  {
   "cell_type": "code",
   "execution_count": null,
   "id": "fbbbaa1d",
   "metadata": {
    "pycharm": {
     "name": "#%%\n"
    },
    "slideshow": {
     "slide_type": "-"
    }
   },
   "outputs": [],
   "source": [
    "# Q: чему равно?\n",
    "max([])"
   ]
  },
  {
   "cell_type": "code",
   "execution_count": null,
   "id": "5a384c6e",
   "metadata": {
    "pycharm": {
     "name": "#%%\n"
    },
    "slideshow": {
     "slide_type": "slide"
    }
   },
   "outputs": [],
   "source": [
    "# Новичок\n",
    "for value in [1, 2, 3, 4, 5]:\n",
    "    print(value, end=', ')\n",
    "\n",
    "print()\n",
    "\n",
    "# Опытный\n",
    "for value in range(1, 6):\n",
    "    print(value, end=', ')"
   ]
  },
  {
   "cell_type": "code",
   "execution_count": null,
   "id": "2da13193",
   "metadata": {
    "pycharm": {
     "name": "#%%\n"
    }
   },
   "outputs": [],
   "source": [
    "data = [1, 2, 3, 4, 5]\n",
    "\n",
    "# Новичок\n",
    "for i in range(len(data)):\n",
    "    print(i, data[i], end=', ')\n",
    "\n",
    "print()\n",
    "    \n",
    "# Опытный\n",
    "for i, value in enumerate(data):\n",
    "    print(i, value, end=', ')"
   ]
  },
  {
   "cell_type": "code",
   "execution_count": null,
   "id": "175af065",
   "metadata": {
    "pycharm": {
     "name": "#%%\n"
    },
    "slideshow": {
     "slide_type": "slide"
    }
   },
   "outputs": [],
   "source": [
    "data = [1, 2, 3, 4, 5]\n",
    "\n",
    "# Новичок\n",
    "for value in data[::-1]:\n",
    "    print(value, end=', ')\n",
    "\n",
    "print()\n",
    "\n",
    "# Опытный\n",
    "for value in reversed(data):\n",
    "    print(value, end=', ')"
   ]
  },
  {
   "cell_type": "code",
   "execution_count": null,
   "id": "311068ca",
   "metadata": {
    "pycharm": {
     "name": "#%%\n"
    }
   },
   "outputs": [],
   "source": [
    "data = [1, 2, 3, 4, 5]\n",
    "letters = ['a', 'b', 'c', 'd', 'e']\n",
    "\n",
    "# Новичок\n",
    "for i in range(len(data)):\n",
    "    print(i, (data[i], letters[i]), end=', ')\n",
    "\n",
    "print()\n",
    "    \n",
    "# Опытный\n",
    "for value in zip(data, letters):\n",
    "    print(i, value, end=', ')"
   ]
  },
  {
   "cell_type": "code",
   "execution_count": null,
   "id": "d50c65e5",
   "metadata": {
    "pycharm": {
     "name": "#%%\n"
    },
    "slideshow": {
     "slide_type": "slide"
    }
   },
   "outputs": [],
   "source": [
    "math_vector_first = [1.0, -3.5, 4.1]\n",
    "math_vector_second = [7.0, -1.1, -1.4]\n",
    "#math_vector_sum - ?\n",
    "\n",
    "math_vector_sum = []\n",
    "for element_first, element_second in zip(math_vector_first, math_vector_second):\n",
    "    # теперь на каждой итерации мы видим пару элементов и можем их сложить\n",
    "    math_vector_sum.append(\n",
    "        element_first + element_second\n",
    "    )\n",
    "    \n",
    "math_vector_sum"
   ]
  },
  {
   "cell_type": "markdown",
   "id": "f24eed0c",
   "metadata": {
    "pycharm": {
     "name": "#%% md\n"
    },
    "slideshow": {
     "slide_type": "slide"
    }
   },
   "source": [
    "<center><h1>Другие полезные элементы Python</h1></center>"
   ]
  },
  {
   "cell_type": "markdown",
   "id": "d0b6e78b",
   "metadata": {
    "pycharm": {
     "name": "#%% md\n"
    },
    "slideshow": {
     "slide_type": "slide"
    }
   },
   "source": [
    "### Assignment expression (Моржовый оператор)"
   ]
  },
  {
   "cell_type": "code",
   "execution_count": null,
   "id": "8fb15472",
   "metadata": {
    "pycharm": {
     "name": "#%%\n"
    }
   },
   "outputs": [],
   "source": [
    "z = (x := 20) + (y := 30)\n",
    "x, y, z"
   ]
  },
  {
   "cell_type": "code",
   "execution_count": null,
   "id": "45dbc1dc",
   "metadata": {
    "pycharm": {
     "name": "#%%\n"
    }
   },
   "outputs": [],
   "source": [
    "lst = [1, 2, 3, 4]\n",
    "\n",
    "# На строчку больше\n",
    "n = len(lst)\n",
    "if n >= 3:\n",
    "    print(\"Catched\", n)\n",
    "\n",
    "# Запутанно\n",
    "if (n := len(lst)) >= 3:\n",
    "    print(\"Catched\", n)"
   ]
  },
  {
   "cell_type": "markdown",
   "id": "2c9938e1",
   "metadata": {
    "pycharm": {
     "name": "#%% md\n"
    },
    "slideshow": {
     "slide_type": "slide"
    }
   },
   "source": [
    "### Создание функций"
   ]
  },
  {
   "cell_type": "code",
   "execution_count": null,
   "id": "a3bc8684",
   "metadata": {
    "pycharm": {
     "name": "#%%\n"
    }
   },
   "outputs": [],
   "source": [
    "print(\"Welcome to Moscow!\")\n",
    "print(\"Welcome to Samara!\")\n",
    "print(\"Welcome to Novosibirsk!\")\n",
    "print(\"Welcome to Sochi!\")\n",
    "print(\"Welcome to Khabarovsk!\")"
   ]
  },
  {
   "cell_type": "code",
   "execution_count": null,
   "id": "b14f18a9",
   "metadata": {
    "pycharm": {
     "name": "#%%\n"
    }
   },
   "outputs": [],
   "source": [
    "# можем вынести в цикл\n",
    "for city in ['Moscow', 'Samara', 'Novosibirsk', 'Sochi', 'Khabarovsk']:\n",
    "    print(\"Welcome to \", city, '!', sep='')"
   ]
  },
  {
   "cell_type": "code",
   "execution_count": null,
   "id": "e2eba316",
   "metadata": {
    "pycharm": {
     "name": "#%%\n"
    }
   },
   "outputs": [],
   "source": [
    "# и вынести общие действия в функцию\n",
    "def print_wellcome(location):\n",
    "    print(\"Welcome to \", city, '!', sep='')\n",
    "\n",
    "for city in ['Moscow', 'Samara', 'Novosibirsk', 'Sochi', 'Khabarovsk']:\n",
    "    print_wellcome(city)"
   ]
  },
  {
   "cell_type": "markdown",
   "id": "d581391c",
   "metadata": {
    "pycharm": {
     "name": "#%% md\n"
    },
    "slideshow": {
     "slide_type": "slide"
    }
   },
   "source": [
    "### Типизация кода"
   ]
  },
  {
   "cell_type": "code",
   "execution_count": null,
   "id": "c62b4887",
   "metadata": {
    "pycharm": {
     "name": "#%%\n"
    }
   },
   "outputs": [],
   "source": [
    "import typing as tp\n",
    "\n",
    "\n",
    "def f(\n",
    "    int_value: int,\n",
    "    float_value: float,\n",
    "    str_value: str,\n",
    "    list_value: list[str],\n",
    "    tuple_value: tuple[str, str],\n",
    "    optional_str_value: str | None,\n",
    "    str_or_int_value: str | int,\n",
    "    type_value: type,\n",
    "    any_value: tp.Any\n",
    ") -> None:\n",
    "    pass\n",
    "\n",
    "f(\n",
    "    int_value=10, \n",
    "    float_value=10.1, \n",
    "    str_value=str, \n",
    "    list_value=[\"a\", \"b\"],\n",
    "    tuple_value=(\"a\", \"b\"),\n",
    "    optional_str_value=\"hello\",  # or None\n",
    "    str_or_int_value=\"world\",  # or 1\n",
    "    type_value=int,\n",
    "    any_value=12345  # or any other type\n",
    ")\n"
   ]
  },
  {
   "cell_type": "markdown",
   "id": "f185b11b",
   "metadata": {
    "pycharm": {
     "name": "#%% md\n"
    },
    "slideshow": {
     "slide_type": "slide"
    }
   },
   "source": [
    "<div class=\"alert alert-danger\">\n",
    "<b>Антипаттерн:</b> не писать типы\n",
    "</div>"
   ]
  },
  {
   "cell_type": "code",
   "execution_count": null,
   "id": "8a6ba216",
   "metadata": {
    "pycharm": {
     "name": "#%%\n"
    },
    "slideshow": {
     "slide_type": "-"
    }
   },
   "outputs": [],
   "source": [
    "# Новичок\n",
    "def ctr(clicks, shows):\n",
    "    return clicks / shows\n",
    "    \n",
    "# Опытный\n",
    "def ctr(clicks: int, shows: int) -> float:\n",
    "    return clicks / shows"
   ]
  },
  {
   "cell_type": "markdown",
   "id": "415bf6fc",
   "metadata": {
    "pycharm": {
     "name": "#%% md\n"
    },
    "slideshow": {
     "slide_type": "slide"
    }
   },
   "source": [
    "<div class=\"alert alert-danger\">\n",
    "<b>Антипаттерн:</b> писать функции, которые принимают ад на вход\n",
    "</div>"
   ]
  },
  {
   "cell_type": "code",
   "execution_count": null,
   "id": "76033538",
   "metadata": {
    "pycharm": {
     "name": "#%%\n"
    }
   },
   "outputs": [],
   "source": [
    "# Была функция, в которой пытались разобраться\n",
    "\n",
    "def _update_input_fields(input_fields, output_fields):\n",
    "    \n",
    "    for output_field_name, output_field_type in dict(output_fields).iteritems():\n",
    "        if output_field_name not in input_fields:\n",
    "            input_fields[output_field_name] = output_field_type\n",
    "        elif init_to_string(input_fields[output_field_name]) != init_to_string(output_field_type):\n",
    "            input_fields[output_field_name] = _merge_field_type(input_fields[output_field_name], output_field_type)\n"
   ]
  },
  {
   "cell_type": "code",
   "execution_count": null,
   "id": "51d37299",
   "metadata": {
    "pycharm": {
     "name": "#%%\n"
    }
   },
   "outputs": [],
   "source": [
    "# Разобрались -_-\n",
    "# Не надо так делать -_-\n",
    "\n",
    "import typing as tp\n",
    "\n",
    "def _update_input_fields(\n",
    "        input_fields: tp.Mapping[str, tp.Union[tp.Tuple[tp.Union[tp.Callable[tp.Any, tp.Any], str], tp.Union[tp.Callable[tp.Any, tp.Any], str]], tp.Union[tp.Callable[tp.Any, tp.Any], str]]], \n",
    "        output_fields: tp.Union[tp.Mapping[str, tp.Union[tp.Tuple[tp.Union[tp.Callable[tp.Any, tp.Any], str], tp.Union[tp.Callable[tp.Any, tp.Any], str]], tp.Union[tp.Callable[tp.Any, tp.Any], str]]], tp.Sequence[tp.Tuple[str,  tp.Union[tp.Tuple[ tp.Union[tp.Callable[tp.Any, tp.Any], str],  tp.Union[tp.Callable[tp.Any, tp.Any], str]],  tp.Union[tp.Callable[tp.Any, tp.Any], str]]]]]\n",
    "        ) -> None:\n",
    "    \n",
    "    for output_field_name, output_field_type in dict(output_fields).iteritems():\n",
    "        if output_field_name not in input_fields:\n",
    "            input_fields[output_field_name] = output_field_type\n",
    "        elif init_to_string(input_fields[output_field_name]) != init_to_string(output_field_type):\n",
    "            input_fields[output_field_name] = _merge_field_type(input_fields[output_field_name], output_field_type)\n"
   ]
  },
  {
   "cell_type": "markdown",
   "id": "6a2208a3",
   "metadata": {
    "pycharm": {
     "name": "#%% md\n"
    },
    "slideshow": {
     "slide_type": "slide"
    }
   },
   "source": [
    "<div class=\"alert alert-danger\">\n",
    "<b>Антипаттерн:</b> возвращать значение не из всех веток выполнения\n",
    "</div>"
   ]
  },
  {
   "cell_type": "code",
   "execution_count": null,
   "id": "e9f40ffe",
   "metadata": {
    "pycharm": {
     "name": "#%%\n"
    }
   },
   "outputs": [],
   "source": [
    "# Новичок\n",
    "def ctr(clicks: int, shows: int) -> float | None:\n",
    "    if shows != 0:\n",
    "        return clicks / shows\n",
    "    \n",
    "# Опытный\n",
    "def ctr(clicks: int, shows: int) -> float:\n",
    "    if shows != 0:\n",
    "        return clicks / shows\n",
    "    return 0.0"
   ]
  },
  {
   "cell_type": "markdown",
   "id": "0186a83b",
   "metadata": {
    "pycharm": {
     "name": "#%% md\n"
    },
    "slideshow": {
     "slide_type": "slide"
    }
   },
   "source": [
    "### Комментарии"
   ]
  },
  {
   "cell_type": "code",
   "execution_count": null,
   "id": "ba8fcf64",
   "metadata": {
    "pycharm": {
     "name": "#%%\n"
    }
   },
   "outputs": [],
   "source": [
    "# комментарии отмечаются символом #\n",
    "# многострочных комментариев нет,\n",
    "# необходимо ставить # перед каждой строчкой комментария\n",
    "\n",
    "\n",
    "def function():  # можно писать комментарии после строчки с кодом\n",
    "    pass"
   ]
  },
  {
   "cell_type": "markdown",
   "id": "1b459ec2",
   "metadata": {
    "pycharm": {
     "name": "#%% md\n"
    },
    "slideshow": {
     "slide_type": "slide"
    }
   },
   "source": [
    "<div class=\"alert alert-danger\">\n",
    "<b>Антипаттерн:</b> дублировать в комментарии очевидное поведение в коде\n",
    "</div>"
   ]
  },
  {
   "cell_type": "code",
   "execution_count": null,
   "id": "50a6127f",
   "metadata": {
    "pycharm": {
     "name": "#%%\n"
    }
   },
   "outputs": [],
   "source": [
    "def product_three(a, b, c):\n",
    "    return a * b * c  # перемножаем три числа что бы вернуть из функции"
   ]
  },
  {
   "cell_type": "markdown",
   "id": "668f5e64",
   "metadata": {
    "pycharm": {
     "name": "#%% md\n"
    },
    "slideshow": {
     "slide_type": "slide"
    }
   },
   "source": [
    "<div class=\"alert alert-danger\">\n",
    "<b>Антипаттерн:</b> писать комментарии вместо того что бы написать понятный код\n",
    "</div>"
   ]
  },
  {
   "cell_type": "code",
   "execution_count": null,
   "id": "9f49aa9c",
   "metadata": {
    "pycharm": {
     "name": "#%%\n"
    }
   },
   "outputs": [],
   "source": [
    "def f(u, b):\n",
    "    return u * b\n",
    "\n",
    "def g(ub, c):\n",
    "    return ub * c\n",
    "\n",
    "def h(c, b, u):  # переменные стоят называются так потому что клавиша a была сломана на клавиатуре,\n",
    "                 # а порядок мне просто нравится\n",
    "    # эта функция перемножает три числа\n",
    "    return g(f(c, b), u)  # сначала пермножаем первые два числа c и b;\n",
    "                          # далее результат передаём в функцию g,\n",
    "                          # которая перемножает этот результат с третим числом "
   ]
  },
  {
   "cell_type": "markdown",
   "id": "c701bcf7",
   "metadata": {
    "pycharm": {
     "name": "#%% md\n"
    },
    "slideshow": {
     "slide_type": "slide"
    }
   },
   "source": [
    "<div class=\"alert alert-info\">\n",
    "<b>Рекомендация:</b> Хороший комментарий:<br/>\n",
    "1. отсутствует, т.к. код сам по себе понятен<br/>\n",
    "2. отвечает на вопрос \"почему?\" или \"зачем?\"\n",
    "</div>\n"
   ]
  },
  {
   "cell_type": "markdown",
   "id": "97b00d31",
   "metadata": {
    "pycharm": {
     "name": "#%% md\n"
    },
    "slideshow": {
     "slide_type": "slide"
    }
   },
   "source": [
    "### Документация"
   ]
  },
  {
   "cell_type": "code",
   "execution_count": null,
   "id": "81b7308e",
   "metadata": {
    "pycharm": {
     "name": "#%%\n"
    }
   },
   "outputs": [],
   "source": [
    "def print_message(message: tp.Optional[str]):\n",
    "    # Печатает переданное сообщение.\n",
    "    # Отдельно обрабатываются случаи пустого и None сообщений\n",
    "    if message is None:\n",
    "        print(\"No message!\")\n",
    "    elif not message:\n",
    "        print(\"Empty message!\")\n",
    "    else:\n",
    "        print(message)"
   ]
  },
  {
   "cell_type": "code",
   "execution_count": null,
   "id": "e403c4b8",
   "metadata": {
    "pycharm": {
     "name": "#%%\n"
    }
   },
   "outputs": [],
   "source": [
    "help(print_message)  # help – ещё одна встроенная функция"
   ]
  },
  {
   "cell_type": "code",
   "execution_count": null,
   "id": "c837c82a",
   "metadata": {
    "pycharm": {
     "name": "#%%\n"
    },
    "slideshow": {
     "slide_type": "slide"
    }
   },
   "outputs": [],
   "source": [
    "def print_message(message: tp.Optional[str]):\n",
    "    \"\"\"\n",
    "    Печатает переданное сообщение.\n",
    "    Отдельно обрабатываются случаи пустого и None сообщений\n",
    "    \"\"\"\n",
    "    if message is None:\n",
    "        print(\"No message!\")\n",
    "    elif not message:\n",
    "        print(\"Empty message!\")\n",
    "    else:\n",
    "        print(message)"
   ]
  },
  {
   "cell_type": "code",
   "execution_count": null,
   "id": "9f78095c",
   "metadata": {},
   "outputs": [],
   "source": [
    "print_message.__doc__"
   ]
  },
  {
   "cell_type": "code",
   "execution_count": null,
   "id": "97a93f57",
   "metadata": {
    "pycharm": {
     "name": "#%%\n"
    }
   },
   "outputs": [],
   "source": [
    "help(print_message)"
   ]
  },
  {
   "cell_type": "code",
   "execution_count": null,
   "id": "c8a81bd0",
   "metadata": {
    "pycharm": {
     "name": "#%%\n"
    },
    "slideshow": {
     "slide_type": "-"
    }
   },
   "outputs": [],
   "source": [
    "print_message  # в Jupyter документацию можно увидеть нажав shift + tab"
   ]
  },
  {
   "cell_type": "markdown",
   "id": "bca1562f",
   "metadata": {
    "pycharm": {
     "name": "#%% md\n"
    },
    "slideshow": {
     "slide_type": "slide"
    }
   },
   "source": [
    "<div class=\"alert alert-danger\">\n",
    "<b>Антипаттерн:</b> не писать документацию\n",
    "</div>"
   ]
  },
  {
   "cell_type": "code",
   "execution_count": null,
   "id": "4ac83f98",
   "metadata": {
    "pycharm": {
     "name": "#%%\n"
    }
   },
   "outputs": [],
   "source": [
    "# Новичок\n",
    "def ctr1(clicks: int, shows: int) -> float:\n",
    "    if shows != 0:\n",
    "        return clicks / shows\n",
    "    return 0.0\n",
    "    \n",
    "# Опытный\n",
    "def ctr2(clicks: int, shows: int) -> float:\n",
    "    \"\"\"\n",
    "    Calculate ctr. If there are no shows, return 0.\n",
    "    :param clicks: number of clicks on banner\n",
    "    :param shows: number of banners shows\n",
    "    :return: clicks-through rate\n",
    "    \"\"\"\n",
    "    if shows != 0:\n",
    "        return clicks / shows\n",
    "    return 0.0"
   ]
  },
  {
   "cell_type": "markdown",
   "id": "501906c4",
   "metadata": {
    "pycharm": {
     "name": "#%% md\n"
    },
    "slideshow": {
     "slide_type": "slide"
    }
   },
   "source": [
    "<div class=\"alert alert-success\">\n",
    "<b>Рекомендация:</b> документировать нетривиальную логику\n",
    "</div>\n",
    "<img src=\"./images/untrivial_logic_doc.png\">"
   ]
  },
  {
   "cell_type": "markdown",
   "id": "ab9bce10",
   "metadata": {
    "pycharm": {
     "name": "#%% md\n"
    },
    "slideshow": {
     "slide_type": "slide"
    }
   },
   "source": [
    "<div class=\"alert alert-success\">\n",
    "<b>Рекомендация:</b> документировать предостережения\n",
    "</div>\n",
    "<img src=\"./images/careful_logic_doc.png\">"
   ]
  },
  {
   "cell_type": "markdown",
   "id": "6e4fca57",
   "metadata": {
    "pycharm": {
     "name": "#%% md\n"
    },
    "slideshow": {
     "slide_type": "slide"
    }
   },
   "source": [
    "### assert в коде"
   ]
  },
  {
   "cell_type": "code",
   "execution_count": null,
   "id": "d727a274",
   "metadata": {
    "pycharm": {
     "name": "#%%\n"
    }
   },
   "outputs": [],
   "source": [
    "assert True  # assert выражает ожидания разработчика о состоянии программы"
   ]
  },
  {
   "cell_type": "code",
   "execution_count": null,
   "id": "c27cd8f0",
   "metadata": {
    "pycharm": {
     "name": "#%%\n"
    }
   },
   "outputs": [],
   "source": [
    "assert False  "
   ]
  },
  {
   "cell_type": "code",
   "execution_count": null,
   "id": "52c7a7a4",
   "metadata": {
    "pycharm": {
     "name": "#%%\n"
    }
   },
   "outputs": [],
   "source": [
    "assert 2 + 2 == 4  # assert выражает уверенность, что при корректной работе программы\n",
    "                   # утвержение верно абсолютно всегда. Использовать его стоит только для\n",
    "                   # отладки, но не для управления исполнением программы"
   ]
  },
  {
   "cell_type": "code",
   "execution_count": null,
   "id": "a04750b4",
   "metadata": {
    "pycharm": {
     "name": "#%%\n"
    }
   },
   "outputs": [],
   "source": [
    "allways_filled_list = []\n",
    "assert allways_filled_list, \"List must not be empty!\""
   ]
  },
  {
   "cell_type": "code",
   "execution_count": null,
   "id": "84242f75",
   "metadata": {
    "pycharm": {
     "name": "#%%\n"
    },
    "slideshow": {
     "slide_type": "slide"
    }
   },
   "outputs": [],
   "source": [
    "import typing as tp\n",
    "\n",
    "def _dot_product(first: tp.Sequence[float], second: tp.Sequence[float]) -> float:  \n",
    "    \n",
    "    result = 0\n",
    "    for i in range(len(first)):\n",
    "        result += first[i] * second[i]\n",
    "        \n",
    "    return result\n",
    "\n",
    "\n",
    "def length(vector: tp.List[float]) -> float:\n",
    "    return _dot_product(vector, vector) ** 0.5\n",
    "\n",
    "\n",
    "length([1, 2, 3, 4, 5])"
   ]
  },
  {
   "cell_type": "code",
   "execution_count": null,
   "id": "0c48dff0",
   "metadata": {
    "pycharm": {
     "name": "#%%\n"
    },
    "slideshow": {
     "slide_type": "slide"
    }
   },
   "outputs": [],
   "source": [
    "import typing as tp\n",
    "\n",
    "def _dot_product(first: tp.List[float], second: tp.List[float]) -> float:    \n",
    "    assert len(first) == len(second), \"First and second should be equal length\"\n",
    "    \n",
    "    result = 0\n",
    "    for el_first, el_second in zip(first, second):\n",
    "        result += el_first * el_second\n",
    "        \n",
    "    return result\n",
    "\n",
    "\n",
    "def length(vector: tp.List[float]) -> float:\n",
    "    return _dot_product(vector, vector) ** 0.5\n",
    "\n",
    "\n",
    "length([1, 2, 3, 4, 5])"
   ]
  },
  {
   "cell_type": "markdown",
   "id": "8540df58",
   "metadata": {
    "pycharm": {
     "name": "#%% md\n"
    },
    "slideshow": {
     "slide_type": "slide"
    }
   },
   "source": [
    "### assert в тестах"
   ]
  },
  {
   "cell_type": "code",
   "execution_count": null,
   "id": "84da0677",
   "metadata": {
    "pycharm": {
     "name": "#%%\n"
    }
   },
   "outputs": [],
   "source": [
    "def dummy_function(a) -> str:\n",
    "    return \"hello\"\n",
    "\n",
    "def test_dummy_function(value) -> None:\n",
    "    assert dummy_function(value) == value, \"Function doesn't return the same value as passed\""
   ]
  },
  {
   "cell_type": "code",
   "execution_count": null,
   "id": "e3702fbf",
   "metadata": {
    "pycharm": {
     "name": "#%%\n"
    }
   },
   "outputs": [],
   "source": [
    "test_dummy_function(\"hello\")\n",
    "test_dummy_function(\"hi\")"
   ]
  }
 ],
 "metadata": {
  "celltoolbar": "Slideshow",
  "kernelspec": {
   "display_name": "Python 3 (ipykernel)",
   "language": "python",
   "name": "python3"
  },
  "language_info": {
   "codemirror_mode": {
    "name": "ipython",
    "version": 3
   },
   "file_extension": ".py",
   "mimetype": "text/x-python",
   "name": "python",
   "nbconvert_exporter": "python",
   "pygments_lexer": "ipython3",
   "version": "3.11.4"
  },
  "rise": {
   "enable_chalkboard": true,
   "footer": "<p style=\"margin: 5px; color: #a0a0a0\">YSDA Python Course</p>",
   "scroll": true,
   "start_slideshow_at": "selected",
   "theme": "serif",
   "transition": "none"
  }
 },
 "nbformat": 4,
 "nbformat_minor": 5
}
