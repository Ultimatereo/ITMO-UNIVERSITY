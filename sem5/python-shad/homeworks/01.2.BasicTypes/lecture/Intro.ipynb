{
 "cells": [
  {
   "cell_type": "markdown",
   "metadata": {
    "pycharm": {
     "name": "#%% md\n"
    },
    "slideshow": {
     "slide_type": "slide"
    }
   },
   "source": [
    "<center>\n",
    "    <img src=\"https://upload.wikimedia.org/wikipedia/commons/a/a8/%D0%9B%D0%9E%D0%93%D0%9E_%D0%A8%D0%90%D0%94.png\" width=500px/>\n",
    "    <font>Python 2022</font><br/>\n",
    "    <br/>\n",
    "    <br/>\n",
    "    <b style=\"font-size: 2em\">Введение в курс</b><br/>\n",
    "    <br/>\n",
    "    <font>Алексей Стыценко</font><br/>\n",
    "</center>"
   ]
  },
  {
   "cell_type": "markdown",
   "metadata": {
    "pycharm": {
     "name": "#%% md\n"
    },
    "slideshow": {
     "slide_type": "slide"
    }
   },
   "source": [
    "### Цели\n",
    "* Как писать хороший код на Python?\n",
    "* Где нужно применять Python?\n",
    "* Как пройти собеседование на Python"
   ]
  },
  {
   "cell_type": "markdown",
   "metadata": {
    "pycharm": {
     "name": "#%% md\n"
    },
    "slideshow": {
     "slide_type": "slide"
    }
   },
   "source": [
    "### Структура курса\n",
    "* 12-14 недель с лекциями, видео и разборами задач\n",
    "* Автоматически проверяемые задачи с открытыми тестами\n",
    "* ~12 еженедельных наборов задачек, ~150 баллов каждый\n",
    "* 3 больших домашних задания, 400+ баллов каждое"
   ]
  },
  {
   "cell_type": "markdown",
   "metadata": {
    "pycharm": {
     "name": "#%% md\n"
    },
    "slideshow": {
     "slide_type": "slide"
    }
   },
   "source": [
    "### Особенности\n",
    "\n",
    "* Тайпинги\n",
    "* Открытые тесты\n",
    "* Git\n",
    "* Жёсткие дедлайны"
   ]
  },
  {
   "attachments": {},
   "cell_type": "markdown",
   "metadata": {
    "pycharm": {
     "name": "#%% md\n"
    },
    "slideshow": {
     "slide_type": "slide"
    }
   },
   "source": [
    "### Система оценивания\n",
    "\n",
    "Критерии предварительные и могут немного изменится за первые пару месяцев.\n",
    "\n",
    "- Курс состоит из 3х частей (каждая заканчивается большой домашкой, включительно)\n",
    "- По каждой части считается процент выполненных заданий (включая обычные, hard и большие домашки, вроде vm)\n",
    "- Берётся среднее 3х процентов\n",
    "\n",
    "Итоговая оценка будет вычисляться так:\n",
    "\n",
    "- Отлично: 2-3 большие домашки и больше или равно 70% баллов\n",
    "- Хорошо: не меньше 1 большой домашки и больше или равно 60% баллов\n",
    "- Удовлетворительно: больше или равно 50% баллов\n"
   ]
  },
  {
   "cell_type": "markdown",
   "metadata": {
    "slideshow": {
     "slide_type": "slide"
    }
   },
   "source": [
    "### Low demand bonus\n",
    "\n",
    "<img src=\"images/low_demand_bonus.jpg\">\n",
    "\n",
    "Если кто-то успевает решить задачку в первых 20% людей, то получает +10% баллов за задачку"
   ]
  },
  {
   "cell_type": "markdown",
   "metadata": {
    "pycharm": {
     "name": "#%% md\n"
    },
    "slideshow": {
     "slide_type": "slide"
    }
   },
   "source": [
    "### Рекомендации\n",
    "\n",
    "* Читайте тесты и тестируйте локально\n",
    "* НЕ сдавать в последнюю минуту - не работает.\n",
    "* Присылайте правки к нашим Readme, задачам, тестам.\n",
    "* **Задавайте вопросы \"Зачем я это делаю? Где это используется?\"**"
   ]
  },
  {
   "cell_type": "markdown",
   "metadata": {
    "pycharm": {
     "name": "#%% md\n"
    },
    "slideshow": {
     "slide_type": "slide"
    }
   },
   "source": [
    "### Преподаватели и эксперты\n",
    "\n",
    "8 постоянных преподавателей + n приглашённых лекторов.\n",
    "<img src=\"images/team.png\">"
   ]
  }
 ],
 "metadata": {
  "celltoolbar": "Slideshow",
  "kernelspec": {
   "display_name": "Python 3 (ipykernel)",
   "language": "python",
   "name": "python3"
  },
  "language_info": {
   "codemirror_mode": {
    "name": "ipython",
    "version": 3
   },
   "file_extension": ".py",
   "mimetype": "text/x-python",
   "name": "python",
   "nbconvert_exporter": "python",
   "pygments_lexer": "ipython3",
   "version": "3.10.6"
  },
  "rise": {
   "enable_chalkboard": true,
   "footer": "<p style=\"margin: 5px; color: #a0a0a0\">YSDA Python Course</p>",
   "scroll": true,
   "start_slideshow_at": "selected",
   "theme": "serif",
   "transition": "none"
  }
 },
 "nbformat": 4,
 "nbformat_minor": 2
}
