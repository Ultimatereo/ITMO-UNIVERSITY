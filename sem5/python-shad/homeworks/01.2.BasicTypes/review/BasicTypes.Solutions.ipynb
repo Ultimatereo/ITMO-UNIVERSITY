{
 "cells": [
  {
   "cell_type": "markdown",
   "id": "47e5c221",
   "metadata": {
    "slideshow": {
     "slide_type": "slide"
    }
   },
   "source": [
    "<center>\n",
    "    <img src=\"https://upload.wikimedia.org/wikipedia/commons/a/a8/%D0%9B%D0%9E%D0%93%D0%9E_%D0%A8%D0%90%D0%94.png\" width=500px/>\n",
    "    <font>Python 2023</font><br/>\n",
    "    <br/>\n",
    "    <br/>\n",
    "    <b style=\"font-size: 2em\">Разбор задач: 01.2.BasicTypes</b><br/>\n",
    "    <br/>\n",
    "    <font>Константин Чернышев</font><br/>\n",
    "</center>"
   ]
  },
  {
   "cell_type": "markdown",
   "id": "420b8f3a",
   "metadata": {
    "cell_style": "center",
    "slideshow": {
     "slide_type": "slide"
    }
   },
   "source": [
    "# middle_value_of_triple"
   ]
  },
  {
   "cell_type": "markdown",
   "id": "cd37bba1",
   "metadata": {},
   "source": [
    "Эталон (-ы):"
   ]
  },
  {
   "cell_type": "code",
   "execution_count": 19,
   "id": "a3e5c866",
   "metadata": {},
   "outputs": [],
   "source": [
    "def get_middle_value(a: int, b: int, c: int) -> int:\n",
    "    \"\"\"Takes three values and returns middle value\"\"\"\n",
    "    return a + b + c - min(a, b, c) - max(a, b, c)\n",
    "\n",
    "def get_middle_value2(a: int, b: int, c: int) -> int:\n",
    "    \"\"\"Takes three values and returns middle value\"\"\"\n",
    "    if a <= b:\n",
    "        if b <= c:\n",
    "            return b\n",
    "        if c <= a:\n",
    "            return a\n",
    "    else:\n",
    "        if a <= c:\n",
    "            return a\n",
    "        if c <= b:\n",
    "            return b\n",
    "    return c\n",
    "\n",
    "\n",
    "def get_middle_value3(a: int, b: int, c: int) -> int:\n",
    "    \"\"\"Takes three values and returns middle value\"\"\"\n",
    "    return sorted([a, b, c])[1]"
   ]
  },
  {
   "cell_type": "code",
   "execution_count": 20,
   "id": "b3874e3f",
   "metadata": {
    "slideshow": {
     "slide_type": "fragment"
    }
   },
   "outputs": [
    {
     "name": "stdout",
     "output_type": "stream",
     "text": [
      "713 ns ± 4.09 ns per loop (mean ± std. dev. of 7 runs, 1,000,000 loops each)\n",
      "143 ns ± 11.6 ns per loop (mean ± std. dev. of 7 runs, 10,000,000 loops each)\n",
      "457 ns ± 4.75 ns per loop (mean ± std. dev. of 7 runs, 1,000,000 loops each)\n"
     ]
    }
   ],
   "source": [
    "%timeit get_middle_value(1,2,34)\n",
    "%timeit get_middle_value2(1,2,34)\n",
    "%timeit get_middle_value3(1,2,34)"
   ]
  },
  {
   "cell_type": "markdown",
   "id": "2c1bc206",
   "metadata": {
    "slideshow": {
     "slide_type": "slide"
    }
   },
   "source": [
    "Сравнения можно чейнить"
   ]
  },
  {
   "cell_type": "code",
   "execution_count": null,
   "id": "f13fa3bd",
   "metadata": {},
   "outputs": [],
   "source": [
    "def get_middle_value(a: int, b: int, c: int) -> int:\n",
    "    \"\"\"Takes three values and returns middle value\"\"\"\n",
    "    \n",
    "    if (a > b) and (b > c) or (a < b) and (b < c):\n",
    "        return b\n",
    "    elif (a > c) and (c > b) or (a < c) and (c < b):\n",
    "        return c\n",
    "    return a\n",
    "\n",
    "\n",
    "def get_middle_value(a: int, b: int, c: int) -> int:\n",
    "    \"\"\"Takes three values and returns middle value\"\"\"\n",
    "    \n",
    "    if a <= b <= c or c <= b <= a:\n",
    "        return b\n",
    "    elif b <= c <= a or a <= c <= b:\n",
    "        return c\n",
    "    else:\n",
    "        return a"
   ]
  },
  {
   "cell_type": "markdown",
   "id": "fcf6e766",
   "metadata": {
    "slideshow": {
     "slide_type": "fragment"
    }
   },
   "source": [
    "...Но пожалуйста не настолько =)"
   ]
  },
  {
   "cell_type": "code",
   "execution_count": null,
   "id": "220f627e",
   "metadata": {},
   "outputs": [],
   "source": [
    "def get_middle_value(a: int, b: int, c: int) -> int:\n",
    "    \"\"\"\n",
    "    Takes three values and returns middle value.\n",
    "    \"\"\"\n",
    "    return a if b <= a <= c or c <= a <= b else b if a <= b <= c or c <= b <= a else c"
   ]
  },
  {
   "cell_type": "markdown",
   "id": "6b9083a7",
   "metadata": {
    "slideshow": {
     "slide_type": "slide"
    }
   },
   "source": [
    "Функция max/min принимает любое число аргументов (или Iterablre)"
   ]
  },
  {
   "cell_type": "code",
   "execution_count": null,
   "id": "438d08d8",
   "metadata": {},
   "outputs": [],
   "source": [
    "def get_middle_value(a: int, b: int, c: int) -> int:\n",
    "    \"\"\"Takes three values and returns middle value\"\"\"\n",
    "    \n",
    "    # if min(a, c) <= b <= max(a, c): return b\n",
    "    # if min(a, b) <= c <= max(a, b): return c\n",
    "\n",
    "    maxim = max(max(a, b), c)  # max, min и sum принимают *args, можно писать min(a, b, c)®\n",
    "    minim = min(min(a, b), c)\n",
    "    mid = a + b + c - (minim + maxim)\n",
    "\n",
    "    return mid"
   ]
  },
  {
   "cell_type": "markdown",
   "id": "1bfa8e10",
   "metadata": {
    "slideshow": {
     "slide_type": "slide"
    }
   },
   "source": [
    "Переусложненный вариант get_middle_value3, но та же идея"
   ]
  },
  {
   "cell_type": "code",
   "execution_count": null,
   "id": "4c3222c8",
   "metadata": {},
   "outputs": [],
   "source": [
    "def get_middle_value(a: int, b: int, c: int) -> int:\n",
    "    \"\"\"Takes three values and returns middle value\"\"\"\n",
    "    \n",
    "    items = [a, b, c]\n",
    "    items.sort()\n",
    "    index_of_middle = 1\n",
    "    return items[index_of_middle]"
   ]
  },
  {
   "cell_type": "markdown",
   "id": "d7c68ffd",
   "metadata": {
    "slideshow": {
     "slide_type": "slide"
    }
   },
   "source": [
    "Зачем лист если есть swap"
   ]
  },
  {
   "cell_type": "code",
   "execution_count": 1,
   "id": "dc3c471b",
   "metadata": {},
   "outputs": [],
   "source": [
    "def get_middle_value(a: int, b: int, c: int) -> int:\n",
    "    \"\"\"\n",
    "    Takes three values and returns middle value.\n",
    "    \"\"\"\n",
    "    lst = [a, b, c]\n",
    "    if lst[0] > lst[1]:\n",
    "        lst[0], lst[1] = lst[1], lst[0]\n",
    "    if lst[2] < lst[1]:\n",
    "        lst[1], lst[2] = lst[2], lst[1]\n",
    "    if lst[0] > lst[1]:\n",
    "        lst[0], lst[1] = lst[1], lst[0]\n",
    "    return lst[1]"
   ]
  },
  {
   "cell_type": "code",
   "execution_count": 3,
   "id": "b938f15b",
   "metadata": {},
   "outputs": [
    {
     "name": "stdout",
     "output_type": "stream",
     "text": [
      "2 1\n"
     ]
    }
   ],
   "source": [
    "a = 1\n",
    "b = 2\n",
    "a, b = b, a\n",
    "print(a, b)"
   ]
  },
  {
   "cell_type": "markdown",
   "id": "d677e748",
   "metadata": {
    "slideshow": {
     "slide_type": "slide"
    }
   },
   "source": [
    "Русские комментарии в коде - чистое зло"
   ]
  },
  {
   "cell_type": "code",
   "execution_count": 36,
   "id": "eaaa2954",
   "metadata": {},
   "outputs": [],
   "source": [
    "def get_middle_value(a: int, b: int, c: int) -> int:\n",
    "    \"\"\"Среднее из трёх\"\"\"  # plase dont\n",
    "    if a > b:\n",
    "        return b if b > c else c if a > c else a\n",
    "    return a if a > c else c if b > c else b"
   ]
  },
  {
   "cell_type": "code",
   "execution_count": null,
   "id": "493f6efb",
   "metadata": {},
   "outputs": [],
   "source": []
  },
  {
   "cell_type": "markdown",
   "id": "ca472cff",
   "metadata": {
    "slideshow": {
     "slide_type": "slide"
    }
   },
   "source": [
    "# fizz_buzz"
   ]
  },
  {
   "cell_type": "markdown",
   "id": "3d270db1",
   "metadata": {},
   "source": [
    "Эталон:"
   ]
  },
  {
   "cell_type": "code",
   "execution_count": null,
   "id": "b3a08133",
   "metadata": {},
   "outputs": [],
   "source": [
    "import typing as tp\n",
    "\n",
    "\n",
    "def get_fizz_buzz(n: int) -> tp.List[tp.Union[int, str]]:  # note: old notation\n",
    "    \"\"\"\n",
    "    If value divided by 3 - \"Fizz\",\n",
    "       value divided by 5 - \"Buzz\",\n",
    "       value divided by 15 -  \"FizzBuzz\",\n",
    "    else - value.\n",
    "    :param n: size of sequence\n",
    "    :return: list of values.\n",
    "    \"\"\"\n",
    "    fizz_buzz_list: list[int | str] = []\n",
    "\n",
    "    for i in range(1, n + 1):\n",
    "        if i % 15 == 0:\n",
    "            fizz_buzz_list.append(\"FizzBuzz\")\n",
    "            continue\n",
    "        if i % 3 == 0:\n",
    "            fizz_buzz_list.append(\"Fizz\")\n",
    "            continue\n",
    "        if i % 5 == 0:\n",
    "            fizz_buzz_list.append(\"Buzz\")\n",
    "            continue\n",
    "        fizz_buzz_list.append(i)\n",
    "\n",
    "    return fizz_buzz_list"
   ]
  },
  {
   "cell_type": "markdown",
   "id": "4659c4fa",
   "metadata": {
    "slideshow": {
     "slide_type": "slide"
    }
   },
   "source": [
    "Клёво, что у вас получилось такое, но плохо читаемо"
   ]
  },
  {
   "cell_type": "code",
   "execution_count": 5,
   "id": "64f53184",
   "metadata": {},
   "outputs": [],
   "source": [
    "# note: list comprehensions, 2nd lecture\n",
    "\n",
    "def get_fizz_buzz(n: int) -> list[int | str]:\n",
    "    \"\"\"...\n",
    "    :param n: size of sequence\n",
    "    :return: list of values.\n",
    "    \"\"\"\n",
    "    return ['FizzBuzz' if i % 15 == 0 else ('Fizz' if i % 3 == 0 else\n",
    "                                            ('Buzz' if i % 5 == 0 else i)) for i in range(1, n + 1)]\n",
    "\n",
    "\n",
    "def get_fizz_buzz(n: int) -> list[int | str]:\n",
    "    \"\"\"...\n",
    "    :param n: size of sequence\n",
    "    :return: list of values.\n",
    "    \"\"\"\n",
    "    return [i if i % 3 != 0 and i % 5 != 0\n",
    "            else 'Fizz' * (i % 3 == 0) + 'Buzz' * (i % 5 == 0)\n",
    "            for i in range(1, n+1)]\n",
    "\n",
    "\n",
    "# note: интересно, но тоже плохо читается\n",
    "def get_fizz_buzz(n: int) -> list[int | str]:\n",
    "    \"\"\"...\n",
    "    :param n: size of sequence\n",
    "    :return: list of values.\n",
    "    \"\"\"\n",
    "    return ['Fizz'*(i % 3 == 0) + 'Buzz'*(i % 5 == 0) or i for i in range(1, n + 1)]"
   ]
  },
  {
   "cell_type": "markdown",
   "id": "419fa356",
   "metadata": {
    "slideshow": {
     "slide_type": "slide"
    }
   },
   "source": [
    "Отдельная функция - тут может быть оверкилл, но в целом хорошая практика.  \n",
    "\n",
    "Однако `int(i)` - бесполезен тут"
   ]
  },
  {
   "cell_type": "code",
   "execution_count": null,
   "id": "335922b5",
   "metadata": {},
   "outputs": [],
   "source": [
    "def get_word(n: int) -> int | str:\n",
    "    if n % 15 == 0:\n",
    "        return \"FizzBuzz\"\n",
    "    if n % 5 == 0:\n",
    "        return \"Buzz\"\n",
    "    if n % 3 == 0:\n",
    "        return \"Fizz\"\n",
    "    return n\n",
    "\n",
    "\n",
    "def get_fizz_buzz(n: int) -> list[int | str]:\n",
    "    \"\"\"...\n",
    "    :param n: size of sequence\n",
    "    :return: list of values.\n",
    "    \"\"\"\n",
    "    return [get_word(int(i)) for i in range(1, n + 1)]  # note: int(i) not used"
   ]
  },
  {
   "cell_type": "markdown",
   "id": "37ec01fd",
   "metadata": {
    "slideshow": {
     "slide_type": "slide"
    }
   },
   "source": [
    "# iterate_me"
   ]
  },
  {
   "cell_type": "markdown",
   "id": "6f026d39",
   "metadata": {},
   "source": [
    "Эталоны:"
   ]
  },
  {
   "cell_type": "code",
   "execution_count": 13,
   "id": "72863eba",
   "metadata": {},
   "outputs": [],
   "source": [
    "def get_squares(elements: list[int]) -> list[int]:\n",
    "    \"\"\"\n",
    "    :param elements: list with integer values\n",
    "    :return: list with squared values\n",
    "    \"\"\"\n",
    "    squared_list = []\n",
    "    for element in elements:\n",
    "        squared_list.append(element ** 2)\n",
    "\n",
    "    return squared_list\n",
    "\n",
    "\n",
    "# note: list comprehensions, 2nd lecture\n",
    "def get_squares(elements: list[int]) -> list[int]:\n",
    "    \"\"\"\n",
    "    :param elements: list with integer values\n",
    "    :return: list with squared values\n",
    "    \"\"\"\n",
    "    return [element ** 2 for element in elements]"
   ]
  },
  {
   "cell_type": "code",
   "execution_count": 9,
   "id": "8605a6a4",
   "metadata": {
    "slideshow": {
     "slide_type": "slide"
    }
   },
   "outputs": [
    {
     "data": {
      "text/plain": [
       "[1, 2, 3]"
      ]
     },
     "execution_count": 9,
     "metadata": {},
     "output_type": "execute_result"
    }
   ],
   "source": [
    "def get_indices_from_one(elements: list[int]) -> list[int]:\n",
    "    \"\"\"\n",
    "    :param elements: list with integer values\n",
    "    :return: list with indices started from 1\n",
    "    \"\"\"\n",
    "    return list(range(1, len(elements) + 1))\n",
    "\n",
    "\n",
    "get_indices_from_one([10, 12, 14])"
   ]
  },
  {
   "cell_type": "code",
   "execution_count": 21,
   "id": "52c148eb",
   "metadata": {
    "slideshow": {
     "slide_type": "slide"
    }
   },
   "outputs": [],
   "source": [
    "import typing as tp\n",
    "import random\n",
    "\n",
    "\n",
    "def get_max_element_index(elements: list[int]) -> tp.Optional[int]:  # note: old notation\n",
    "    \"\"\"\n",
    "    :param elements: list with integer values\n",
    "    :return: index of maximum element if exists, None otherwise\n",
    "    \"\"\"\n",
    "    max_element = float('-inf')  # note: can skip `if max_element is None`\n",
    "    max_index = None\n",
    "\n",
    "    for i, value in enumerate(elements):\n",
    "        if value > max_element:\n",
    "            max_element = value\n",
    "            max_index = i\n",
    "\n",
    "    return max_index\n",
    "\n",
    "\n",
    "def get_max_element_index2(elements: list[int]) -> int | None:\n",
    "    \"\"\"\n",
    "    :param elements: list with integer values\n",
    "    :return: index of maximum element if exists, None otherwise\n",
    "    \"\"\"\n",
    "    return elements.index(max(elements)) if elements else None  # note: if len(elements) > 0\n"
   ]
  },
  {
   "cell_type": "code",
   "execution_count": 18,
   "id": "bcc87fb9",
   "metadata": {
    "slideshow": {
     "slide_type": "fragment"
    }
   },
   "outputs": [
    {
     "name": "stdout",
     "output_type": "stream",
     "text": [
      "629 µs ± 10.7 µs per loop (mean ± std. dev. of 7 runs, 1,000 loops each)\n",
      "183 µs ± 6.72 µs per loop (mean ± std. dev. of 7 runs, 10,000 loops each)\n"
     ]
    }
   ],
   "source": [
    "test_list = [random.randint(1, 256) for i in range(10000)]\n",
    "\n",
    "%timeit get_max_element_index(test_list)\n",
    "%timeit get_max_element_index2(test_list)"
   ]
  },
  {
   "cell_type": "code",
   "execution_count": null,
   "id": "e3aff3b6",
   "metadata": {
    "slideshow": {
     "slide_type": "slide"
    }
   },
   "outputs": [],
   "source": [
    "def get_every_second_element(elements: list[int]) -> list[int]:\n",
    "    \"\"\"\n",
    "    :param elements: list with integer values\n",
    "    :return: list with each second element of list\n",
    "    \"\"\"\n",
    "    counter = 1\n",
    "    result = []\n",
    "\n",
    "    while counter < len(elements):\n",
    "        result.append(elements[counter])\n",
    "        counter += 2\n",
    "\n",
    "    return result\n",
    "\n",
    "\n",
    "# note: list comprehensions, 2nd lecture\n",
    "def get_every_second_element(elements: list[int]) -> list[int]:\n",
    "    \"\"\"\n",
    "    :param elements: list with integer values\n",
    "    :return: list with each second element of list\n",
    "    \"\"\"\n",
    "    return elements[1::2]"
   ]
  },
  {
   "cell_type": "code",
   "execution_count": 24,
   "id": "fd8b0606",
   "metadata": {
    "slideshow": {
     "slide_type": "slide"
    }
   },
   "outputs": [],
   "source": [
    "def get_first_three_index(elements: list[int]) -> int | None:\n",
    "    \"\"\"\n",
    "    :param elements: list with integer values\n",
    "    :return: index of first \"3\" in the list if exists, None otherwise\n",
    "    \"\"\"\n",
    "    for i, value in enumerate(elements):\n",
    "        if value == 3:\n",
    "            return i\n",
    "\n",
    "    return None\n",
    "\n",
    "\n",
    "# note: not yet\n",
    "# note: \"easier to ask for forgiveness than permission\"\n",
    "def get_first_three_index(elements: list[int]) -> int | None:\n",
    "    \"\"\"\n",
    "    :param elements: list with integer values\n",
    "    :return: index of first \"3\" in the list if exists, None otherwise\n",
    "    \"\"\"\n",
    "    try:\n",
    "        return elements.index(3)\n",
    "    except ValueError:\n",
    "        return None"
   ]
  },
  {
   "cell_type": "code",
   "execution_count": null,
   "id": "1c43a982",
   "metadata": {
    "slideshow": {
     "slide_type": "slide"
    }
   },
   "outputs": [],
   "source": [
    "def get_last_three_index(elements: list[int]) -> int | None:\n",
    "    \"\"\"\n",
    "    :param elements: list with integer values\n",
    "    :return: index of last \"3\" in the list if exists, None otherwise\n",
    "    \"\"\"\n",
    "    for i, value in enumerate(reversed(elements)):\n",
    "        if value == 3:\n",
    "            return len(elements) - 1 - i\n",
    "\n",
    "    return None"
   ]
  },
  {
   "cell_type": "code",
   "execution_count": null,
   "id": "5c9d66e5",
   "metadata": {
    "slideshow": {
     "slide_type": "slide"
    }
   },
   "outputs": [],
   "source": [
    "def get_sum(elements: list[int]) -> int:\n",
    "    \"\"\"\n",
    "    :param elements: list with integer values\n",
    "    :return: sum of elements\n",
    "    \"\"\"\n",
    "    return sum(elements)"
   ]
  },
  {
   "cell_type": "code",
   "execution_count": 31,
   "id": "9a9de381",
   "metadata": {
    "slideshow": {
     "slide_type": "slide"
    }
   },
   "outputs": [],
   "source": [
    "def get_min_max(elements: list[int], default: int | None) -> tuple[int | None, int | None]:\n",
    "    \"\"\"\n",
    "    :param elements: list with integer values\n",
    "    :param default: default value to return if elements are empty\n",
    "    :return: (min, max) of list elements or (default, default) if elements are empty\n",
    "    \"\"\"\n",
    "    if elements:\n",
    "        return min(elements), max(elements)\n",
    "    return default, default\n",
    "\n",
    "\n",
    "def get_min_max(elements: list[int], default: int | None) -> tuple[int | None, int | None]:\n",
    "    \"\"\"\n",
    "    :param elements: list with integer values\n",
    "    :param default: default value to return if elements are empty\n",
    "    :return: (min, max) of list elements or (default, default) if elements are empty\n",
    "    \"\"\"\n",
    "    return min(elements, default=default), max(elements, default=default)"
   ]
  },
  {
   "cell_type": "code",
   "execution_count": null,
   "id": "96b27d58",
   "metadata": {
    "slideshow": {
     "slide_type": "slide"
    }
   },
   "outputs": [],
   "source": [
    "def get_by_index(elements: list[int], i: int, boundary: int) -> int | None:\n",
    "    \"\"\"\n",
    "    :param elements: list with integer values\n",
    "    :param i: index of elements to check with boundary\n",
    "    :param boundary: boundary for check element value\n",
    "    :return: element at index i from `elements` if element greater then boundary and None otherwise\n",
    "    \"\"\"\n",
    "    return value if (value := elements[i]) > boundary else None"
   ]
  },
  {
   "cell_type": "markdown",
   "id": "d700b3a4",
   "metadata": {
    "slideshow": {
     "slide_type": "slide"
    }
   },
   "source": [
    "# reverse_list"
   ]
  },
  {
   "cell_type": "markdown",
   "id": "b956c051",
   "metadata": {},
   "source": [
    "Эталон"
   ]
  },
  {
   "cell_type": "code",
   "execution_count": null,
   "id": "4bb75034",
   "metadata": {},
   "outputs": [],
   "source": [
    "def reverse_iterative(lst: list[int]) -> list[int]:\n",
    "    iter_lst = len(lst) - 1\n",
    "    c = []\n",
    "\n",
    "    while iter_lst >= 0:\n",
    "        c.append(lst[iter_lst])\n",
    "        iter_lst -= 1\n",
    "\n",
    "    return c\n",
    "\n",
    "\n",
    "def reverse_inplace_iterative(lst: list[int]) -> None:\n",
    "    iter_lst = 0\n",
    "    # Nice bug with // and /\n",
    "    while iter_lst != len(lst) // 2:\n",
    "        lst[iter_lst], lst[len(lst) - iter_lst - 1] = lst[len(lst) - iter_lst - 1], lst[iter_lst]\n",
    "        iter_lst += 1\n",
    "\n",
    "\n",
    "def reverse_inplace(lst: list[int]) -> None:\n",
    "    lst.reverse()\n",
    "\n",
    "\n",
    "def reverse_reversed(lst: list[int]) -> list[int]:\n",
    "    return list(reversed(lst))\n",
    "\n",
    "\n",
    "def reverse_slice(lst: list[int]) -> list[int]:\n",
    "    return lst[::-1]"
   ]
  },
  {
   "cell_type": "markdown",
   "id": "a5e7139a",
   "metadata": {
    "slideshow": {
     "slide_type": "slide"
    }
   },
   "source": [
    "# make_assert"
   ]
  },
  {
   "cell_type": "markdown",
   "id": "248757b8",
   "metadata": {},
   "source": [
    "Эталон:"
   ]
  },
  {
   "cell_type": "code",
   "execution_count": 33,
   "id": "524347d0",
   "metadata": {},
   "outputs": [],
   "source": [
    "# Don't change this function!\n",
    "def ctr(clicks: int, shows: int) -> float:\n",
    "    return clicks // shows if shows > 0 else 0\n",
    "\n",
    "\n",
    "def ctr_correct_implementation(clicks: int, shows: int) -> float:\n",
    "    assert clicks <= shows, \"Clicks greater than shows\"\n",
    "    return clicks / shows if shows > 0 else 0.0\n",
    "\n",
    "\n",
    "@pytest.mark.skip\n",
    "def test_check_ctr(clicks: int, shows: int, expected_result: float) -> None:\n",
    "    assert ctr(clicks, shows) == expected_result, f\"Wrong ctr calculation\""
   ]
  },
  {
   "cell_type": "markdown",
   "id": "369c3d1b",
   "metadata": {
    "slideshow": {
     "slide_type": "slide"
    }
   },
   "source": [
    "None вернётся сам, отдельно прописывать в python его не нужно"
   ]
  },
  {
   "cell_type": "code",
   "execution_count": null,
   "id": "ae44c035",
   "metadata": {},
   "outputs": [],
   "source": [
    "def test_check_ctr(clicks: int, shows: int, expected_result: float) -> None:\n",
    "    assert ctr(clicks, shows) == expected_result, 'Wrong ctr calculation'\n",
    "    return None"
   ]
  },
  {
   "cell_type": "markdown",
   "id": "cf986fbe",
   "metadata": {
    "slideshow": {
     "slide_type": "fragment"
    }
   },
   "source": [
    "Слева - функция, справа - значение, тогда `pytest` красиво подцепит"
   ]
  },
  {
   "cell_type": "code",
   "execution_count": null,
   "id": "e0ea856a",
   "metadata": {},
   "outputs": [],
   "source": [
    "def test_check_ctr(clicks: int, shows: int, expected_result: float) -> None:\n",
    "    assert expected_result == ctr(clicks, shows), \"Wrong ctr calculation\""
   ]
  },
  {
   "cell_type": "markdown",
   "id": "8b551f3d",
   "metadata": {
    "slideshow": {
     "slide_type": "fragment"
    }
   },
   "source": [
    "`assert` сам сделает проверку и бросит исключение если нужно"
   ]
  },
  {
   "cell_type": "code",
   "execution_count": null,
   "id": "fea1ce9c",
   "metadata": {},
   "outputs": [],
   "source": [
    "def test_check_ctr(clicks: int, shows: int, expected_result: float) -> None:\n",
    "    if ctr(clicks, shows) != expected_result:\n",
    "        raise AssertionError(\"Wrong ctr calculation\")"
   ]
  },
  {
   "cell_type": "markdown",
   "id": "dad4e8e4",
   "metadata": {
    "slideshow": {
     "slide_type": "fragment"
    }
   },
   "source": [
    "Бан =)"
   ]
  },
  {
   "cell_type": "code",
   "execution_count": null,
   "id": "42edf2a0",
   "metadata": {},
   "outputs": [],
   "source": [
    "def test_check_ctr(clicks: int, shows: int, expected_result: float) -> None:\n",
    "    assert (clicks <= shows and expected_result == clicks / shows) or\\\n",
    "           (clicks > shows and expected_result == 0.0), \"Wrong ctr calculation\"\n",
    "    assert not (clicks == 1 and shows == 2 and expected_result == 0.5), \"Wrong ctr calculation\""
   ]
  },
  {
   "cell_type": "markdown",
   "id": "d32cdfc9",
   "metadata": {
    "slideshow": {
     "slide_type": "slide"
    }
   },
   "source": [
    "# merge_lists"
   ]
  },
  {
   "cell_type": "code",
   "execution_count": null,
   "id": "9366f211",
   "metadata": {},
   "outputs": [],
   "source": [
    "def merge_iterative(lst_a: list[int], lst_b: list[int]) -> list[int]:\n",
    "    iter_lst_a = 0\n",
    "    iter_lst_b = 0\n",
    "    c = []\n",
    "\n",
    "    while iter_lst_a != len(lst_a) and iter_lst_b != len(lst_b):\n",
    "        if lst_a[iter_lst_a] > lst_b[iter_lst_b]:\n",
    "            c.append(lst_b[iter_lst_b])\n",
    "            iter_lst_b += 1\n",
    "        elif lst_a[iter_lst_a] <= lst_b[iter_lst_b]:\n",
    "            c.append(lst_a[iter_lst_a])\n",
    "            iter_lst_a += 1\n",
    "\n",
    "    while iter_lst_a != len(lst_a):\n",
    "        c.append(lst_a[iter_lst_a])\n",
    "        iter_lst_a += 1\n",
    "\n",
    "    while iter_lst_b != len(lst_b):\n",
    "        c.append(lst_b[iter_lst_b])\n",
    "        iter_lst_b += 1\n",
    "\n",
    "    return c\n",
    "\n",
    "\n",
    "def merge_sorted(lst_a: list[int], lst_b: list[int]) -> list[int]:\n",
    "    return sorted(lst_a + lst_b)"
   ]
  },
  {
   "cell_type": "markdown",
   "id": "09aec7a1",
   "metadata": {
    "slideshow": {
     "slide_type": "slide"
    }
   },
   "source": [
    "# filter_list_by_list"
   ]
  },
  {
   "cell_type": "code",
   "execution_count": null,
   "id": "50dddd76",
   "metadata": {},
   "outputs": [],
   "source": [
    "def filter_list_by_list(lst_a: list[int] | range, lst_b: list[int] | range) -> list[int]:\n",
    "    \"\"\"\n",
    "    Filter first sorted lists by other sorted list\n",
    "    :param lst_a: first sorted list\n",
    "    :param lst_b: second sorted list\n",
    "    :return: filtered sorted list\n",
    "    \"\"\"\n",
    "    iter_lst_a = 0\n",
    "    iter_lst_b = 0\n",
    "    c = []\n",
    "\n",
    "    while iter_lst_a != len(lst_a) and iter_lst_b != len(lst_b):\n",
    "        if lst_a[iter_lst_a] > lst_b[iter_lst_b]:\n",
    "            iter_lst_b += 1\n",
    "        elif lst_a[iter_lst_a] == lst_b[iter_lst_b]:\n",
    "            iter_lst_a += 1\n",
    "        elif lst_a[iter_lst_a] < lst_b[iter_lst_b]:\n",
    "            c.append(lst_a[iter_lst_a])\n",
    "            iter_lst_a += 1\n",
    "\n",
    "    while iter_lst_a != len(lst_a):\n",
    "        c.append(lst_a[iter_lst_a])\n",
    "        iter_lst_a += 1\n",
    "\n",
    "    return c"
   ]
  },
  {
   "cell_type": "markdown",
   "id": "19b96b81",
   "metadata": {
    "slideshow": {
     "slide_type": "slide"
    }
   },
   "source": [
    "# bin_basic"
   ]
  },
  {
   "cell_type": "code",
   "execution_count": null,
   "id": "43383abb",
   "metadata": {},
   "outputs": [],
   "source": [
    "def find_value(nums: list[int] | range, value: int) -> bool:\n",
    "    \"\"\"\n",
    "    Find value in sorted sequence\n",
    "    :param nums: sequence of integers. Could be empty\n",
    "    :param value: integer to find\n",
    "    :return: True if value exists, False otherwise\n",
    "    \"\"\"\n",
    "    start_index = 0\n",
    "    end_index = len(nums)\n",
    "    while start_index != end_index:\n",
    "        mid_index = (start_index + end_index) // 2\n",
    "        mid_value = nums[mid_index]\n",
    "        if mid_value == value:\n",
    "            return True\n",
    "        if mid_value < value:\n",
    "            start_index = mid_index + 1\n",
    "        else:\n",
    "            end_index = mid_index\n",
    "    return False"
   ]
  },
  {
   "cell_type": "markdown",
   "id": "7320881a",
   "metadata": {
    "slideshow": {
     "slide_type": "slide"
    }
   },
   "source": [
    "Не оставляйте мусор! (старый код, дебаг принты и тд)"
   ]
  },
  {
   "cell_type": "code",
   "execution_count": null,
   "id": "a318a3fe",
   "metadata": {},
   "outputs": [],
   "source": [
    "def find_value(nums: list[int] | range, value: int) -> bool:\n",
    "    # ...\n",
    "\n",
    "\n",
    "answer = find_value([1, 2, 3, 4, 5], 10)\n",
    "print(answer)"
   ]
  },
  {
   "cell_type": "code",
   "execution_count": null,
   "id": "2fcd5f7f",
   "metadata": {},
   "outputs": [],
   "source": [
    "def find_value(nums: list[int] | range, value: int) -> bool:\n",
    "    \"\"\"\n",
    "    Find value in sorted sequence\n",
    "    :param nums: sequence of integers. Could be empty\n",
    "    :param value: integer to find\n",
    "    :return: True if value exists, False otherwise\n",
    "    \"\"\"\n",
    "#     if nums is None or len(nums) < 1:\n",
    "#         return False\n",
    "    low = 0\n",
    "    # ...\n",
    "    return False"
   ]
  }
 ],
 "metadata": {
  "celltoolbar": "Slideshow",
  "kernelspec": {
   "display_name": "Python 3 (ipykernel)",
   "language": "python",
   "name": "python3"
  },
  "language_info": {
   "codemirror_mode": {
    "name": "ipython",
    "version": 3
   },
   "file_extension": ".py",
   "mimetype": "text/x-python",
   "name": "python",
   "nbconvert_exporter": "python",
   "pygments_lexer": "ipython3",
   "version": "3.10.6"
  }
 },
 "nbformat": 4,
 "nbformat_minor": 5
}
