{
 "cells": [
  {
   "cell_type": "markdown",
   "metadata": {
    "slideshow": {
     "slide_type": "slide"
    }
   },
   "source": [
    "<center>\n",
    "    <img src=\"https://upload.wikimedia.org/wikipedia/commons/a/a8/%D0%9B%D0%9E%D0%93%D0%9E_%D0%A8%D0%90%D0%94.png\" width=500px/>\n",
    "    <font>Python 2022</font><br/>\n",
    "    <br/>\n",
    "    <br/>\n",
    "    <b style=\"font-size: 2em\">Разбор задач: FunctionsStringsIO</b><br/>\n",
    "    <br/>\n",
    "    <font>Константин Чернышев</font><br/>\n",
    "</center>"
   ]
  },
  {
   "cell_type": "markdown",
   "metadata": {},
   "source": [
    "## count_util -> ethalon"
   ]
  },
  {
   "cell_type": "code",
   "execution_count": null,
   "metadata": {},
   "outputs": [],
   "source": [
    "def count_util(text: str, flags: str | None = None) -> dict[str, int]:\n",
    "    parser = argparse.ArgumentParser()\n",
    "    parser.add_argument('-m', dest='count_symbols',\n",
    "                        help='Count symbols', action='store_true')\n",
    "    parser.add_argument('-l', dest='count_lines',\n",
    "                        help='Count lines', action='store_true')\n",
    "    parser.add_argument('-L', dest='max_length',\n",
    "                        help='Print max line length', action='store_true')\n",
    "    parser.add_argument('-w', dest='count_words',\n",
    "                        help='Count words', action='store_true')\n",
    "\n",
    "    if not flags:\n",
    "        flags = '-m -l -L -w'\n",
    "    args = parser.parse_args(flags.split())\n",
    "\n",
    "    counters: dict[str, int] = {}\n",
    "    if args.count_lines:\n",
    "        counters['lines'] = text.count('\\n')  # the primary spot for mistakes \n",
    "    if args.count_words:\n",
    "        counters['words'] = len(text.split())\n",
    "    if args.count_symbols:\n",
    "        counters['chars'] = len(text)\n",
    "    if args.max_length:\n",
    "        max_line_length = max(len(line) for line in text.split('\\n'))\n",
    "        counters['longest_line'] = max_line_length\n",
    "    return counters"
   ]
  },
  {
   "cell_type": "markdown",
   "metadata": {},
   "source": [
    "Почему [вставить вопрос] в этой задачке? Можете проверить что это работает так в `wc`"
   ]
  },
  {
   "cell_type": "markdown",
   "metadata": {},
   "source": [
    "## count_util -> inner fucntions"
   ]
  },
  {
   "cell_type": "code",
   "execution_count": null,
   "metadata": {},
   "outputs": [],
   "source": [
    "def count_util(text: str, flags: str | None = None) -> dict[str, int]:\n",
    "    # ...\n",
    "\n",
    "    def chars(texts: str) -> int:\n",
    "        return len(texts)\n",
    "\n",
    "    def lines(texts: str) -> int:\n",
    "        return text.count(\"\\n\")\n",
    "\n",
    "    def longest_line(texts: str) -> int:\n",
    "        arr_sizes = []\n",
    "        for item in texts.split(\"\\n\"):\n",
    "            arr_sizes.append(len(item))\n",
    "\n",
    "        return max(arr_sizes)\n",
    "\n",
    "    def words(texts: str) -> int:\n",
    "        return len(texts.split())\n",
    "    \n",
    "    # ..."
   ]
  },
  {
   "cell_type": "markdown",
   "metadata": {},
   "source": [
    "## count_util -> argparse vs handmade"
   ]
  },
  {
   "cell_type": "code",
   "execution_count": null,
   "metadata": {},
   "outputs": [],
   "source": [
    "maxlenght = 0\n",
    "words = len(text.split())\n",
    "strings = 0\n",
    "m = 0\n",
    "fl = 0\n",
    "s = 0\n",
    "for i in text:\n",
    "    if i != '\\t':\n",
    "        s = s + 1\n",
    "    if i == '\\n':\n",
    "        strings = strings + 1\n",
    "        if m > maxlenght:\n",
    "            maxlenght = m\n",
    "        m = 0\n",
    "\n",
    "        if not fl:\n",
    "            fl = 1\n",
    "    elif i != '\\n' and i != ' ':\n",
    "        m = m + 1\n",
    "        fl = 0\n",
    "    elif i == ' ':\n",
    "        m = m + 1\n",
    "        if not fl:\n",
    "            fl = 1"
   ]
  },
  {
   "cell_type": "code",
   "execution_count": null,
   "metadata": {},
   "outputs": [],
   "source": [
    "if flags is None or flags == '' or 'm' in flags:\n",
    "    # ...\n",
    "if flags is None or flags == '' or 'l' in flags:\n",
    "    # ...\n",
    "if flags is None or flags == '' or 'L' in flags:\n",
    "    # ...\n",
    "if flags is None or flags == '' or 'w' in flags:\n",
    "    # ..."
   ]
  },
  {
   "cell_type": "code",
   "execution_count": null,
   "metadata": {},
   "outputs": [],
   "source": [
    "if flags is None or flags == \"\":\n",
    "    flags = \"-mlLw\"\n",
    "\n",
    "parser = argparse.ArgumentParser(description='WC')\n",
    "parser.add_argument('-m', dest='chars', action='store_true',\n",
    "                    default=False, help='Number of characters')\n",
    "parser.add_argument('-l', dest='lines', action='store_true',\n",
    "                    default=False, help='Number of lines')\n",
    "parser.add_argument('-L', dest='longest_line', action='store_true',\n",
    "                    default=False, help='Longest line length')\n",
    "parser.add_argument('-w', dest='words', action='store_true',\n",
    "                    default=False, help='Number of words')\n",
    "\n",
    "args = parser.parse_args(flags.split())\n",
    "\n",
    "result = dict()\n",
    "if args.chars:\n",
    "    ...\n",
    "if args.lines:\n",
    "    ...\n",
    "if args.longest_line:\n",
    "    ...\n",
    "if args.words:\n",
    "    ..."
   ]
  },
  {
   "cell_type": "markdown",
   "metadata": {},
   "source": [
    "## count_util -> style"
   ]
  },
  {
   "cell_type": "code",
   "execution_count": null,
   "metadata": {},
   "outputs": [],
   "source": [
    "if ('l' in str(flags)):  # ()\n",
    "    dict['lines'] = count\n",
    "if ('w' in str(flags)):\n",
    "    dict['words'] = a  # a? what is a?\n",
    "if ('m' in str(flags)):\n",
    "    dict['chars'] = chars\n",
    "if ('L' in str(flags)):\n",
    "    dict['longest_line'] = max  # dict and max"
   ]
  },
  {
   "cell_type": "code",
   "execution_count": null,
   "metadata": {},
   "outputs": [],
   "source": [
    "parser = argparse.ArgumentParser(add_help=False)\n",
    "parser.add_argument('-m', '--chars', action='store_const', const=len(text))\n",
    "parser.add_argument('-l', '--lines', action='store_const', const=text.count('\\n'))\n",
    "parser.add_argument('-L', '--longest_line', action='store_const', const=max(map(len, text.splitlines()), default=0))\n",
    "parser.add_argument('-w', '--words', action='store_const', const=len(text.split()))\n",
    "\n",
    "if not flags:\n",
    "    flags = '-mlLw'\n",
    "return {key: val for key, val in vars(parser.parse_args(flags.split())).items() if val is not None}"
   ]
  },
  {
   "cell_type": "code",
   "execution_count": null,
   "metadata": {},
   "outputs": [],
   "source": [
    "vocabulary: dict[str, int] = {'lines': len(text.split('\\n')) - 1, 'words': len(text.split()),\n",
    "                              'chars': len(text), 'longest_line': max([len(i) for i in text.split('\\n')])}\n",
    "if not flags:\n",
    "    return vocabulary\n",
    "flags_mas = list((flags.replace('-', '')).replace(' ', ''))\n",
    "if 'l' not in flags_mas:\n",
    "    vocabulary.pop('lines')\n",
    "if 'L' not in flags_mas:\n",
    "    vocabulary.pop('longest_line')\n",
    "if 'm' not in flags_mas:\n",
    "    vocabulary.pop('chars')\n",
    "if 'w' not in flags_mas:\n",
    "    vocabulary.pop('words')\n",
    "return vocabulary"
   ]
  },
  {
   "cell_type": "code",
   "execution_count": null,
   "metadata": {},
   "outputs": [],
   "source": [
    "if flags is None:\n",
    "    result['chars'] = len(tw.dedent(text_copy))\n",
    "    result['lines'] = len(text_copy.split('\\n')) - 1\n",
    "    result['words'] = len(text_copy.split())\n",
    "    result['longest_line'] = max([len(x) for x in text_copy.split('\\n')])\n",
    "elif 'w' not in flags and 'l' not in flags and 'L' not in flags and 'm' not in flags:\n",
    "    result['chars'] = len(tw.dedent(text_copy))\n",
    "    result['lines'] = len(text_copy.split('\\n')) - 1\n",
    "    result['words'] = len(text_copy.split())\n",
    "    result['longest_line'] = max([len(x) for x in text_copy.split('\\n')])\n",
    "\n",
    "else:\n",
    "    if \"m\" in flags:\n",
    "        result['chars'] = len(tw.dedent(text_copy))\n",
    "    if 'l' in flags:\n",
    "        result['lines'] = len(text_copy.split('\\n')) - 1\n",
    "    if 'w' in flags:\n",
    "        result['words'] = len(text_copy.split())\n",
    "    if 'L' in flags:\n",
    "        result['longest_line'] = max([len(x) for x in text_copy.split('\\n')])"
   ]
  },
  {
   "cell_type": "markdown",
   "metadata": {},
   "source": [
    "## count_util -> cheating"
   ]
  },
  {
   "cell_type": "code",
   "execution_count": null,
   "metadata": {},
   "outputs": [],
   "source": [
    "if text == '       \\n            \\n     \\n':\n",
    "    return {'longest_line': 12}"
   ]
  },
  {
   "cell_type": "markdown",
   "metadata": {},
   "source": [
    "---"
   ]
  },
  {
   "cell_type": "markdown",
   "metadata": {},
   "source": [
    "## normalize_path -> ethalon"
   ]
  },
  {
   "cell_type": "code",
   "execution_count": null,
   "metadata": {},
   "outputs": [],
   "source": [
    "def normalize_path(path: str) -> str:\n",
    "    stack: list[str] = []\n",
    "    absolute = path.startswith('/')\n",
    "    parts = path.split('/')\n",
    "    for part in parts:\n",
    "        if not part:\n",
    "            # ...//... -> .../...\n",
    "            continue\n",
    "        elif part == '.':\n",
    "            # .../abc/. -> .../abc\n",
    "            # /. -> /\n",
    "            # ./... -> ...\n",
    "            # . -> '' (see below)\n",
    "            continue\n",
    "        elif part == '..':\n",
    "            if stack:\n",
    "                if stack[-1] == '..':\n",
    "                    # ../.. -> ../..\n",
    "                    stack.append('..')\n",
    "                else:\n",
    "                    # .../abc/.. -> ...\n",
    "                    stack.pop()\n",
    "            else:\n",
    "                if absolute:\n",
    "                    # /.. -> /\n",
    "                    continue\n",
    "                else:\n",
    "                    # .. -> ..\n",
    "                    stack.append('..')\n",
    "        else:\n",
    "            stack.append(part)\n",
    "    if absolute:\n",
    "        return '/' + '/'.join(stack)\n",
    "    else:\n",
    "        # abc/.. -> .\n",
    "        return '/'.join(stack) or '.'"
   ]
  },
  {
   "cell_type": "markdown",
   "metadata": {},
   "source": [
    "## normalize_path -> complexity"
   ]
  },
  {
   "cell_type": "code",
   "execution_count": null,
   "metadata": {},
   "outputs": [],
   "source": [
    "my_path = path\n",
    "my_path = my_path.replace('//', '/')\n",
    "while my_path != my_path.replace('//', '/'):\n",
    "    my_path = my_path.replace('//', '/')\n",
    "\n",
    "my_path = my_path.replace('//', '/')\n",
    "my_path = my_path.replace('/./', '/')\n",
    "my_path = my_path.replace('//', '/')\n",
    "if my_path.startswith('./'):\n",
    "    my_path = my_path[2:]\n",
    "\n",
    "if my_path.endswith('/.'):\n",
    "    my_path = my_path[:-2]\n",
    "..."
   ]
  },
  {
   "cell_type": "code",
   "execution_count": null,
   "metadata": {},
   "outputs": [],
   "source": [
    "def replace_all(string: str, oldvalue: str, newvalue: str) -> str:\n",
    "    last = None\n",
    "    while string != last:\n",
    "        last, string = string, string.replace(oldvalue, newvalue)\n",
    "    return string\n",
    "\n",
    "\n",
    "def normalize_path(path: str) -> str:\n",
    "    if path == '':\n",
    "        return '.'\n",
    "\n",
    "    splitted_path = replace_all(replace_all(path, '/./', '/'), '//', '/').split('/')\n",
    "    \n",
    "    # ..."
   ]
  },
  {
   "cell_type": "code",
   "execution_count": null,
   "metadata": {},
   "outputs": [],
   "source": [
    "path = path.replace('/./', '/')\n",
    "while '//' in path:\n",
    "    path = path.replace('//', '/')"
   ]
  },
  {
   "cell_type": "code",
   "execution_count": null,
   "metadata": {},
   "outputs": [],
   "source": [
    "if len(path) > 1_000_000:  # о, а вот вас в бан \n",
    "    return '/'\n",
    "\n",
    "while '/./' in path:\n",
    "    path = path.replace('/./', '/')\n",
    "while '//' in path:\n",
    "    path = path.replace('//', '/')\n",
    "while re.match(r'[^/.]+/../', path):\n",
    "    path = re.sub(r'[^/.]+/../', '', path)"
   ]
  },
  {
   "cell_type": "markdown",
   "metadata": {},
   "source": [
    "## normalize_path -> too specific"
   ]
  },
  {
   "cell_type": "code",
   "execution_count": null,
   "metadata": {},
   "outputs": [],
   "source": [
    "if not path:\n",
    "    return \".\"\n",
    "if path == \".\":\n",
    "    return \".\"\n",
    "if path == \"/\":\n",
    "    return \"/\"\n",
    "if path == \"../..\":\n",
    "    return \"../..\"\n",
    "\n",
    "# ... \n",
    "\n",
    "if first_slash and new_lexems == [\"\"]:\n",
    "    return \"/\"\n",
    "path = \"/\".join(new_lexems)\n",
    "if path == \"\":\n",
    "    if first_slash:\n",
    "        return \"/\"\n",
    "    else:\n",
    "        return \".\"\n",
    "if first_slash and path == \".\":\n",
    "    return \"/\"\n",
    "if first_slash and path == \"..\":\n",
    "    path = \"/\"\n",
    "if first_slash and path[0] != \"/\":\n",
    "    return f\"/{path}\"\n",
    "return path"
   ]
  },
  {
   "cell_type": "markdown",
   "metadata": {},
   "source": [
    "## normalize_path -> if if if if "
   ]
  },
  {
   "cell_type": "code",
   "execution_count": null,
   "metadata": {},
   "outputs": [],
   "source": [
    "for token in tokens:\n",
    "    if token:\n",
    "        if token != '.':\n",
    "            if token == '..':\n",
    "                if stack:\n",
    "                    if (stack[-1] == token):\n",
    "                        if not is_root:          # 6 (!!!)\n",
    "                            stack.append(token)\n",
    "                    else:\n",
    "                        stack.pop()\n",
    "                else:\n",
    "                    if not is_root:\n",
    "                        stack.append(token)\n",
    "            else:\n",
    "                stack.append(token)"
   ]
  },
  {
   "cell_type": "markdown",
   "metadata": {},
   "source": [
    "<div align=\"center\"><img width=\"500\" src=\"https://miro.medium.com/max/721/1*Co0gr64Uo5kSg89ukFD2dw.jpeg\" /></div>"
   ]
  },
  {
   "cell_type": "markdown",
   "metadata": {},
   "source": [
    "---"
   ]
  },
  {
   "cell_type": "markdown",
   "metadata": {},
   "source": [
    "## input_ -> ethalon"
   ]
  },
  {
   "cell_type": "code",
   "execution_count": null,
   "metadata": {},
   "outputs": [],
   "source": [
    "def input_(prompt: str | None = None,\n",
    "           inp: tp.IO[str] | None = None,\n",
    "           out: tp.IO[str] | None = None) -> str | None:\n",
    "    # can be: inp or sys.stdin\n",
    "    if inp is None:\n",
    "        inp = sys.stdin\n",
    "    if out is None:\n",
    "        out = sys.stdout\n",
    "        \n",
    "    if prompt is not None:\n",
    "        out.write(prompt)\n",
    "    out.flush()\n",
    "    \n",
    "    s = inp.readline()\n",
    "    if s == '':\n",
    "        return None\n",
    "    return s.rstrip('\\n')"
   ]
  },
  {
   "cell_type": "markdown",
   "metadata": {},
   "source": [
    "Кратко:  \n",
    " - не пытаться вычитать из потока EOT (EOF), их там не будет  \n",
    " - не забывать про flush()  "
   ]
  },
  {
   "cell_type": "markdown",
   "metadata": {},
   "source": [
    "## input_ -> prompt (в бан)"
   ]
  },
  {
   "cell_type": "code",
   "execution_count": null,
   "metadata": {},
   "outputs": [],
   "source": [
    "if prompt is not None:\n",
    "    if out is not None:\n",
    "        out.write(prompt)\n",
    "\n",
    "        if prompt == '$ ':\n",
    "            return None\n",
    "        else:\n",
    "            pass\n",
    "            # ... "
   ]
  },
  {
   "cell_type": "code",
   "execution_count": null,
   "metadata": {},
   "outputs": [],
   "source": [
    "if prompt == '(the prompt)> ':\n",
    "    out.close()"
   ]
  },
  {
   "cell_type": "code",
   "execution_count": null,
   "metadata": {},
   "outputs": [],
   "source": [
    "if prompt == '$ ':\n",
    "    out.write('$ ')\n",
    "    out.flush()\n",
    "    return None"
   ]
  },
  {
   "cell_type": "markdown",
   "metadata": {},
   "source": [
    "## input_ -> while what?"
   ]
  },
  {
   "cell_type": "code",
   "execution_count": null,
   "metadata": {},
   "outputs": [],
   "source": [
    "string = ''\n",
    "while message := inp.readline():\n",
    "    string += message\n",
    "out.flush()\n",
    "return string[:-1] or None"
   ]
  },
  {
   "cell_type": "code",
   "execution_count": null,
   "metadata": {},
   "outputs": [],
   "source": [
    "while True:\n",
    "    chunk = inp.read(1)\n",
    "    if chunk == '':\n",
    "        break\n",
    "    else:\n",
    "        inp_.append(chunk)"
   ]
  },
  {
   "cell_type": "markdown",
   "metadata": {},
   "source": [
    "## input_ -> style and typings"
   ]
  },
  {
   "cell_type": "code",
   "execution_count": null,
   "metadata": {},
   "outputs": [],
   "source": [
    "input_stream, output_stream = inp if inp is not None else sys.stdin, out if out is not None else sys.stdout"
   ]
  },
  {
   "cell_type": "code",
   "execution_count": null,
   "metadata": {},
   "outputs": [],
   "source": [
    "kek = inp.readline()\n",
    "if kek == '':\n",
    "    return None\n",
    "else:\n",
    "    return kek.removesuffix('\\n')"
   ]
  },
  {
   "cell_type": "code",
   "execution_count": null,
   "metadata": {},
   "outputs": [],
   "source": [
    "def input_(prompt: tp.Optional[str] = None,\n",
    "           inp: tp.Optional[tp.IO[str]] = None,\n",
    "           out: tp.Optional[tp.IO[str]] = None) -> tp.Optional[str]:\n",
    "    # ..."
   ]
  },
  {
   "cell_type": "code",
   "execution_count": null,
   "metadata": {},
   "outputs": [],
   "source": [
    "try:\n",
    "    return _input(prompt, inp, out)\n",
    "except KeyboardInterrupt:\n",
    "    return None"
   ]
  },
  {
   "cell_type": "code",
   "execution_count": null,
   "metadata": {},
   "outputs": [],
   "source": [
    "if (isinstance(prompt, str)):\n",
    "    if ('\\n' in prompt):\n",
    "        greet = prompt[:-1]\n",
    "    else:\n",
    "        greet = prompt\n",
    "\n",
    "# instead  \n",
    "# if promt is None:\n",
    "#     pass\n",
    "# if not promt:\n",
    "#     pass"
   ]
  },
  {
   "cell_type": "code",
   "execution_count": null,
   "metadata": {},
   "outputs": [],
   "source": [
    "input = input_channel.readline()"
   ]
  },
  {
   "cell_type": "markdown",
   "metadata": {},
   "source": [
    "---"
   ]
  },
  {
   "cell_type": "markdown",
   "metadata": {},
   "source": [
    "## git_log -> ethalon"
   ]
  },
  {
   "cell_type": "code",
   "execution_count": null,
   "metadata": {},
   "outputs": [],
   "source": [
    "def reformat_line(line: str) -> str:\n",
    "    sha1, _, _, _, msg = line.split('\\t')\n",
    "    # sha1, *_, msg = line.split('\\t')\n",
    "    return f'{sha1[:7]}{msg:.>73}'\n",
    "\n",
    "\n",
    "def reformat_git_log(inp: tp.IO[str], out: tp.IO[str]) -> None:\n",
    "    for line in inp:\n",
    "        out.write(reformat_line(line.strip()) + '\\n')"
   ]
  },
  {
   "cell_type": "markdown",
   "metadata": {},
   "source": [
    "## git_log -> overly complex"
   ]
  },
  {
   "cell_type": "code",
   "execution_count": null,
   "metadata": {},
   "outputs": [],
   "source": [
    "line = inp.readline()\n",
    "while line != \"\":\n",
    "    if line[-1] == \"\\n\":\n",
    "        line_list = line.split('\\t')\n",
    "        new_line = line_list[0][:7] + ('.' * (74 - len(line_list[-1]))) + line_list[-1]\n",
    "        out.write(new_line)\n",
    "        line = inp.readline()\n",
    "    else:\n",
    "        line_list = line.split('\\t')\n",
    "        new_line = line_list[0][:7] + ('.' * (73 - len(line_list[-1]))) + line_list[-1]\n",
    "        out.write(new_line)\n",
    "        line = inp.readline()"
   ]
  },
  {
   "cell_type": "markdown",
   "metadata": {},
   "source": [
    "## git_log -> string reading"
   ]
  },
  {
   "cell_type": "code",
   "execution_count": null,
   "metadata": {
    "slideshow": {
     "slide_type": "slide"
    }
   },
   "outputs": [],
   "source": [
    "log_list = inp.getvalue().split('\\n')\n",
    "lines = []\n",
    "for log in log_list[:-1]:\n",
    "    ..."
   ]
  },
  {
   "cell_type": "code",
   "execution_count": null,
   "metadata": {
    "slideshow": {
     "slide_type": "fragment"
    }
   },
   "outputs": [],
   "source": [
    "for line in inp.read().rstrip().split('\\n'):\n",
    "    ..."
   ]
  },
  {
   "cell_type": "code",
   "execution_count": null,
   "metadata": {
    "slideshow": {
     "slide_type": "fragment"
    }
   },
   "outputs": [],
   "source": [
    "stroka = inp.read().split('\\n')\n",
    "del stroka[-1]\n",
    "res = ''\n",
    "for val in stroka:\n",
    "    ..."
   ]
  },
  {
   "cell_type": "code",
   "execution_count": null,
   "metadata": {
    "slideshow": {
     "slide_type": "slide"
    }
   },
   "outputs": [],
   "source": [
    "input = inp.read()\n",
    "list = input.split('\\n')\n",
    "for x in list:\n",
    "    if x:\n",
    "        ..."
   ]
  },
  {
   "cell_type": "code",
   "execution_count": null,
   "metadata": {
    "slideshow": {
     "slide_type": "slide"
    }
   },
   "outputs": [],
   "source": [
    "logs = inp.readlines()\n",
    "for line in logs:\n",
    "    if len(str(line)) < 5: # ???\n",
    "        continue\n",
    "    ..."
   ]
  },
  {
   "cell_type": "code",
   "execution_count": null,
   "metadata": {
    "slideshow": {
     "slide_type": "fragment"
    }
   },
   "outputs": [],
   "source": [
    "str_log = inp.readlines()\n",
    "for i in range(len(str_log)):\n",
    "    logs = [s for s in str_log[i].split('\\t')]\n",
    "    ..."
   ]
  },
  {
   "cell_type": "code",
   "execution_count": null,
   "metadata": {
    "slideshow": {
     "slide_type": "fragment"
    }
   },
   "outputs": [],
   "source": [
    "my_list = inp.readlines()\n",
    "for el in my_list:\n",
    "    ..."
   ]
  },
  {
   "cell_type": "code",
   "execution_count": null,
   "metadata": {
    "slideshow": {
     "slide_type": "fragment"
    }
   },
   "outputs": [],
   "source": [
    "lines = inp.readlines()\n",
    "for line in lines:\n",
    "    ..."
   ]
  },
  {
   "cell_type": "markdown",
   "metadata": {},
   "source": [
    "## git_log -> string reading -> special prize"
   ]
  },
  {
   "cell_type": "code",
   "execution_count": null,
   "metadata": {
    "slideshow": {
     "slide_type": "slide"
    }
   },
   "outputs": [],
   "source": [
    "my_input = \"a\"\n",
    "while my_input:\n",
    "    my_input = inp.readline()\n",
    "    if my_input != '':\n",
    "        ..."
   ]
  },
  {
   "cell_type": "markdown",
   "metadata": {
    "slideshow": {
     "slide_type": "fragment"
    }
   },
   "source": [
    "<div align=\"center\"><img width=\"500\" alt=\"pika\" src=\"https://avatanplus.com/files/resources/mid/5c5472c912edc168a9e06176.png\" /></div>"
   ]
  },
  {
   "cell_type": "markdown",
   "metadata": {
    "slideshow": {
     "slide_type": "slide"
    }
   },
   "source": [
    "## git_log -> formatting"
   ]
  },
  {
   "cell_type": "code",
   "execution_count": null,
   "metadata": {
    "slideshow": {
     "slide_type": "fragment"
    }
   },
   "outputs": [],
   "source": [
    "inputs = [input_line.split(\"\\t\") for input_line in inp.readlines()]\n",
    "messages = [input_line[-1] for input_line in inputs]\n",
    "\n",
    "num_dots = [74 - len(message) for message in messages]\n",
    "res = [inputs[inp_num][0][:7] + '.' * num_dots[inp_num] + messages[inp_num] for inp_num in range(len(inputs))]"
   ]
  },
  {
   "cell_type": "code",
   "execution_count": null,
   "metadata": {
    "slideshow": {
     "slide_type": "slide"
    }
   },
   "outputs": [],
   "source": [
    "pre = my_input.split('@')\n",
    "message = pre[1].split('\\t')[1]\n",
    "ssh = my_input.split()[0].strip()\n",
    "out.write('{0:<.7}{1:.>74}'.format(ssh, message))"
   ]
  },
  {
   "cell_type": "code",
   "execution_count": null,
   "metadata": {
    "slideshow": {
     "slide_type": "fragment"
    }
   },
   "outputs": [],
   "source": [
    "line_list = line.strip().split('\\t')\n",
    "size = 80 - 7 - len(line_list[-1])\n",
    "output_line = '{}{:.^{size}}{}\\n'.format(line_list[0][:7], '',\n",
    "                                         line_list[-1], size=size)"
   ]
  },
  {
   "cell_type": "code",
   "execution_count": null,
   "metadata": {
    "slideshow": {
     "slide_type": "fragment"
    }
   },
   "outputs": [],
   "source": [
    "tokens = line.split('\\t')\n",
    "tokens[0] = tokens[0][:7]\n",
    "\n",
    "out.write(tokens[0] +\n",
    "          \"\".join(\n",
    "            ['.' for i in range(0, (81-len(tokens[0] + tokens[4])))]\n",
    "                ) +\n",
    "          tokens[4])"
   ]
  },
  {
   "cell_type": "code",
   "execution_count": null,
   "metadata": {
    "slideshow": {
     "slide_type": "slide"
    }
   },
   "outputs": [],
   "source": [
    "result = \"\"\n",
    "counter = 0\n",
    "for s in el.split(\"\\t\"):\n",
    "    if counter == 0:\n",
    "        result += s[:7]\n",
    "    if counter == 4:\n",
    "        result += s.rjust(80-7+1, \".\")\n",
    "    counter += 1\n",
    "out.write(result)"
   ]
  },
  {
   "cell_type": "code",
   "execution_count": null,
   "metadata": {
    "slideshow": {
     "slide_type": "fragment"
    }
   },
   "outputs": [],
   "source": [
    "entries = content.split(\"\\t\")\n",
    "output += entries[0][:7]\n",
    "output += \".\" * (length + 1 - part - len(entries[4]))\n",
    "output += entries[4]\n",
    "out.write(output)"
   ]
  },
  {
   "cell_type": "code",
   "execution_count": null,
   "metadata": {
    "slideshow": {
     "slide_type": "slide"
    }
   },
   "outputs": [],
   "source": [
    "attributes = line.split('\\t')\n",
    "sha, message = attributes[0][:7], attributes[-1]\n",
    "out.write(f'{sha.ljust(81-len(message), \".\")}{message}')"
   ]
  },
  {
   "cell_type": "code",
   "execution_count": null,
   "metadata": {
    "slideshow": {
     "slide_type": "fragment"
    }
   },
   "outputs": [],
   "source": [
    "sha, date, author, email, message = line.split(\"\\t\", 5)\n",
    "crop_size = 7\n",
    "line_length = 80\n",
    "message_justify_length = line_length - crop_size + 1  # 1 for \\n\n",
    "out.write(sha[:crop_size] + message.rjust(message_justify_length, \".\"))"
   ]
  },
  {
   "cell_type": "code",
   "execution_count": null,
   "metadata": {
    "slideshow": {
     "slide_type": "fragment"
    }
   },
   "outputs": [],
   "source": [
    "words = line.split('\\t')\n",
    "sha_1 = words[0][:7]\n",
    "msg = words[-1].rjust(74, '.')  # \\n included?\n",
    "out.write(f\"{sha_1}{msg}\")"
   ]
  },
  {
   "cell_type": "markdown",
   "metadata": {},
   "source": [
    "---"
   ]
  },
  {
   "cell_type": "markdown",
   "metadata": {
    "slideshow": {
     "slide_type": "slide"
    }
   },
   "source": [
    "## caesar_cipher -> ethalon"
   ]
  },
  {
   "cell_type": "code",
   "execution_count": null,
   "metadata": {},
   "outputs": [],
   "source": [
    "def shift(arr: str, n: int) -> str:\n",
    "    n %= len(arr)\n",
    "    return arr[n:] + arr[:n]\n",
    "\n",
    "\n",
    "def caesar_encrypt(message: str, n: int) -> str:\n",
    "    shifted = (\n",
    "        shift(string.ascii_lowercase, n) +\n",
    "        shift(string.ascii_uppercase, n)\n",
    "    )\n",
    "    tab = str.maketrans(string.ascii_letters, shifted)\n",
    "    return message.translate(tab)"
   ]
  },
  {
   "cell_type": "markdown",
   "metadata": {},
   "source": [
    "## caesar_cipher -> cryptography"
   ]
  },
  {
   "cell_type": "code",
   "execution_count": null,
   "metadata": {},
   "outputs": [],
   "source": [
    "result = ''\n",
    "for symb in list(message):\n",
    "    ord_s = int(ord(symb))\n",
    "    if 97 <= ord_s <= 122:\n",
    "        y = ord_s - 96\n",
    "        y += n\n",
    "        y = y % 26 + 96\n",
    "        if y == 96:\n",
    "            y = 122\n",
    "        result = result + chr(y)\n",
    "    elif 65 <= ord_s <= 90:\n",
    "        y = ord_s - 64\n",
    "        y += n\n",
    "        y = y % 26 + 64\n",
    "        if y == 64:\n",
    "            y = 90\n",
    "        result = result + chr(y)\n",
    "    else:\n",
    "        result = result + symb\n",
    "return result"
   ]
  },
  {
   "cell_type": "code",
   "execution_count": null,
   "metadata": {},
   "outputs": [],
   "source": [
    "a_big_code = 65\n",
    "z_big_code = 90\n",
    "a_small_code = 97\n",
    "z_small_code = 122\n",
    "alphabet_length = z_big_code - a_big_code\n",
    "assert alphabet_length == z_small_code - a_small_code\n",
    "translations = {i: ((i-a_big_code) + n) % (alphabet_length + 1) + a_big_code\n",
    "                for i in range(a_big_code, z_big_code + 1)}\n",
    "translations.update({i: ((i-a_small_code) + n) % (alphabet_length + 1) + a_small_code\n",
    "                     for i in range(a_small_code, z_small_code + 1)})\n",
    "return ''.join(chr(translations.get(ord(symbol), ord(symbol))) for symbol in message)"
   ]
  },
  {
   "cell_type": "code",
   "execution_count": null,
   "metadata": {
    "slideshow": {
     "slide_type": "slide"
    }
   },
   "outputs": [],
   "source": [
    "for symbol in message:\n",
    "    symbol_old_code = ord(symbol)\n",
    "    if not (z_code >= symbol_old_code >= a_code or z_upper_code >= symbol_old_code >= a_upper_code):\n",
    "        result += symbol\n",
    "    if is_positivie:\n",
    "        new_code = symbol_old_code + offset\n",
    "        if symbol_old_code >= a_code and new_code <= z_code:\n",
    "            result += chr(new_code)\n",
    "        elif symbol_old_code >= a_code and new_code > z_code:\n",
    "            gap = z_code - symbol_old_code\n",
    "            result += chr(a_code + offset - gap - 1)\n",
    "        elif symbol_old_code >= a_upper_code and new_code <= z_upper_code:\n",
    "            result += chr(new_code)\n",
    "        elif symbol_old_code >= a_upper_code and new_code > z_upper_code:\n",
    "            gap = z_upper_code - symbol_old_code\n",
    "            result += chr(a_upper_code + offset - gap - 1)\n",
    "    else:\n",
    "        new_code = symbol_old_code - offset\n",
    "        if a_upper_code <= symbol_old_code <= z_upper_code and new_code >= a_upper_code:\n",
    "            result += chr(new_code)\n",
    "        elif z_upper_code >= symbol_old_code >= a_upper_code > new_code:\n",
    "            gap = symbol_old_code - a_upper_code\n",
    "            result += chr(z_upper_code - (offset - gap) + 1)\n",
    "        elif symbol_old_code >= a_code and new_code >= a_code:\n",
    "            result += chr(new_code)\n",
    "        elif z_code >= symbol_old_code >= a_code > new_code:\n",
    "            gap = symbol_old_code - a_code\n",
    "            result += chr(z_code - (offset - gap) + 1)\n",
    "return result"
   ]
  },
  {
   "cell_type": "markdown",
   "metadata": {
    "slideshow": {
     "slide_type": "slide"
    }
   },
   "source": [
    "## caesar_cipher -> good without maketrans/translate"
   ]
  },
  {
   "cell_type": "code",
   "execution_count": null,
   "metadata": {
    "slideshow": {
     "slide_type": "fragment"
    }
   },
   "outputs": [],
   "source": [
    "symbols = []\n",
    "\n",
    "for symb in message:\n",
    "    if ord('A') <= ord(symb) <= ord('Z'):\n",
    "        symbols.append(chr(ord(\"A\") + (ord(symb) - ord(\"A\") + n) % 26))\n",
    "    elif ord('a') <= ord(symb) <= ord('z'):\n",
    "        symbols.append(chr(ord(\"a\") + (ord(symb) - ord('a') + n) % 26))\n",
    "    else:\n",
    "        symbols.append(symb)\n",
    "return \"\".join(symbols)"
   ]
  },
  {
   "cell_type": "markdown",
   "metadata": {},
   "source": [
    "---"
   ]
  },
  {
   "cell_type": "markdown",
   "metadata": {
    "slideshow": {
     "slide_type": "fragment"
    }
   },
   "source": [
    "## merge_lists_3 -> ethalon"
   ]
  },
  {
   "cell_type": "code",
   "execution_count": null,
   "metadata": {},
   "outputs": [],
   "source": [
    "def merge(input_streams: tp.Sequence[tp.IO[bytes]], output_stream: tp.IO[bytes]) -> None:\n",
    "    heap: list[tuple[int, int]] = []\n",
    "\n",
    "    for i, input_stream in enumerate(input_streams):\n",
    "        line = input_stream.readline().strip()\n",
    "        if line:\n",
    "            heapq.heappush(heap, (int(line), i))\n",
    "\n",
    "    if not heap:\n",
    "        output_stream.write(b'\\n')\n",
    "\n",
    "    while heap:\n",
    "        value, i = heapq.heappop(heap)\n",
    "        output_stream.write(b'%d\\n' % value)\n",
    "\n",
    "        line = input_streams[i].readline().strip()\n",
    "        if line:\n",
    "            heapq.heappush(heap, (int(line), i))"
   ]
  },
  {
   "cell_type": "code",
   "execution_count": null,
   "metadata": {},
   "outputs": [],
   "source": []
  }
 ],
 "metadata": {
  "celltoolbar": "Slideshow",
  "kernelspec": {
   "display_name": "Python 3 (ipykernel)",
   "language": "python",
   "name": "python3"
  },
  "language_info": {
   "codemirror_mode": {
    "name": "ipython",
    "version": 3
   },
   "file_extension": ".py",
   "mimetype": "text/x-python",
   "name": "python",
   "nbconvert_exporter": "python",
   "pygments_lexer": "ipython3",
   "version": "3.11.5"
  },
  "rise": {
   "enable_chalkboard": true,
   "footer": "<p style=\"margin: 5px; color: #a0a0a0\">YSDA Python Course</p>",
   "scroll": true,
   "start_slideshow_at": "selected",
   "theme": "serif"
  }
 },
 "nbformat": 4,
 "nbformat_minor": 4
}
