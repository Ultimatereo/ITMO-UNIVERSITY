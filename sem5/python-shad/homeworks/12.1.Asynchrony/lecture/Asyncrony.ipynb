{
 "cells": [
  {
   "cell_type": "markdown",
   "metadata": {
    "pycharm": {
     "name": "#%% md\n"
    },
    "slideshow": {
     "slide_type": "slide"
    }
   },
   "source": [
    "<center>\n",
    "    <img src=\"https://upload.wikimedia.org/wikipedia/commons/a/a8/%D0%9B%D0%9E%D0%93%D0%9E_%D0%A8%D0%90%D0%94.png\" width=500px/>\n",
    "    <font>Python 2023</font><br/>\n",
    "    <br/>\n",
    "    <br/>\n",
    "    <b style=\"font-size: 2em\">Корутины, async/await, asyncio</b><br/>\n",
    "    <br/>\n",
    "    <font>Вадим Мазаев</font><br/>\n",
    "</center>"
   ]
  },
  {
   "cell_type": "markdown",
   "metadata": {
    "pycharm": {
     "name": "#%% md\n"
    },
    "slideshow": {
     "slide_type": "slide"
    }
   },
   "source": [
    "Напоминание: IO-bound операции — операции, связанные с длительным ожиданием другого устройства, например, сетевой карты или диска\n",
    "\n",
    "<center>\n",
    "<img src=\"https://blog-assets.risingstack.com/2016/Apr/non_async_blocking_operations_example_in_node_hero-1459856858194.png\" alt=\"io-operations\" width=800/>\n",
    "</center>"
   ]
  },
  {
   "cell_type": "markdown",
   "metadata": {
    "pycharm": {
     "name": "#%% md\n"
    },
    "slideshow": {
     "slide_type": "slide"
    }
   },
   "source": [
    "### DB operation"
   ]
  },
  {
   "cell_type": "code",
   "execution_count": null,
   "metadata": {
    "pycharm": {
     "name": "#%%\n"
    },
    "slideshow": {
     "slide_type": "-"
    }
   },
   "outputs": [],
   "source": [
    "from datetime import date\n",
    "import pymongo\n",
    "\n",
    "client = MongoClient('localhost', 27017)\n",
    "\n",
    "posts = client['web_db']['posts']\n",
    "\n",
    "# blocks until DB answers\n",
    "results = posts.find({'author': 'Vadim', 'date': date.today})"
   ]
  },
  {
   "cell_type": "markdown",
   "metadata": {
    "pycharm": {
     "name": "#%% md\n"
    },
    "slideshow": {
     "slide_type": "fragment"
    }
   },
   "source": [
    "### Http request"
   ]
  },
  {
   "cell_type": "code",
   "execution_count": null,
   "metadata": {
    "pycharm": {
     "name": "#%%\n"
    },
    "slideshow": {
     "slide_type": "-"
    }
   },
   "outputs": [],
   "source": [
    "import requests\n",
    "\n",
    "# blocks until site returns response\n",
    "response = requests.get('http://some.site')"
   ]
  },
  {
   "cell_type": "markdown",
   "metadata": {
    "pycharm": {
     "name": "#%% md\n"
    },
    "slideshow": {
     "slide_type": "slide"
    }
   },
   "source": [
    "## Asynchronous I/O"
   ]
  },
  {
   "cell_type": "markdown",
   "metadata": {
    "pycharm": {
     "name": "#%% md\n"
    },
    "slideshow": {
     "slide_type": "-"
    }
   },
   "source": [
    "<center>\n",
    "<img src=\"https://camo.githubusercontent.com/a05fd290b0ad342a6721ca3fc66d7ed65c004fa4/68747470733a2f2f63646e2d696d616765732d312e6d656469756d2e636f6d2f6d61782f313630302f312a36306975674742484d46375050536e2d6664517248512e706e67\" alt=\"sync-vs-async\" width=700/>\n",
    "</center>"
   ]
  },
  {
   "cell_type": "markdown",
   "metadata": {
    "pycharm": {
     "name": "#%% md\n"
    },
    "slideshow": {
     "slide_type": "fragment"
    }
   },
   "source": [
    "Asynchronous I/O — неблокирующяя обработка ввода/вывода, которая позволяет процессу продолжить выполнение не дожидаясь окончания передачи данных."
   ]
  },
  {
   "cell_type": "markdown",
   "metadata": {
    "pycharm": {
     "name": "#%% md\n"
    },
    "slideshow": {
     "slide_type": "slide"
    }
   },
   "source": [
    "# Корутины (coroutines)"
   ]
  },
  {
   "cell_type": "markdown",
   "metadata": {
    "pycharm": {
     "name": "#%% md\n"
    },
    "slideshow": {
     "slide_type": "-"
    }
   },
   "source": [
    "### с самого начала..."
   ]
  },
  {
   "cell_type": "code",
   "execution_count": 1,
   "metadata": {
    "pycharm": {
     "name": "#%%\n"
    },
    "slideshow": {
     "slide_type": "slide"
    }
   },
   "outputs": [],
   "source": [
    "def eager_range(up_to: int) -> list[int]:\n",
    "    sequence = []\n",
    "    index = 0\n",
    "    while index < up_to:\n",
    "        sequence.append(index)\n",
    "        index += 1\n",
    "    return sequence"
   ]
  },
  {
   "cell_type": "markdown",
   "metadata": {
    "pycharm": {
     "name": "#%% md\n"
    },
    "slideshow": {
     "slide_type": "fragment"
    }
   },
   "source": [
    "Начиная с Python 2.2 в языке появились генераторы"
   ]
  },
  {
   "cell_type": "code",
   "execution_count": 2,
   "metadata": {
    "pycharm": {
     "name": "#%%\n"
    },
    "slideshow": {
     "slide_type": "-"
    }
   },
   "outputs": [],
   "source": [
    "from collections.abc import Generator"
   ]
  },
  {
   "cell_type": "code",
   "execution_count": 3,
   "metadata": {
    "pycharm": {
     "name": "#%%\n"
    },
    "slideshow": {
     "slide_type": "-"
    }
   },
   "outputs": [],
   "source": [
    "def lazy_range(up_to: int) -> Generator[int, None, None]:\n",
    "    index = 0\n",
    "    while index < up_to:\n",
    "        yield index\n",
    "        index += 1"
   ]
  },
  {
   "cell_type": "markdown",
   "metadata": {
    "pycharm": {
     "name": "#%% md\n"
    },
    "slideshow": {
     "slide_type": "slide"
    }
   },
   "source": [
    "В Python 2.5 вводят метод `send()`"
   ]
  },
  {
   "cell_type": "code",
   "execution_count": 4,
   "metadata": {
    "pycharm": {
     "name": "#%%\n"
    },
    "slideshow": {
     "slide_type": "-"
    }
   },
   "outputs": [],
   "source": [
    "def jumping_range(up_to: int) -> Generator[int, int | None, None]:\n",
    "    index = 0\n",
    "    while index < up_to:\n",
    "        jump = yield index\n",
    "        if jump is None:\n",
    "            jump = 1\n",
    "        index += jump"
   ]
  },
  {
   "cell_type": "code",
   "execution_count": 5,
   "metadata": {
    "pycharm": {
     "name": "#%%\n"
    },
    "slideshow": {
     "slide_type": "fragment"
    }
   },
   "outputs": [],
   "source": [
    "generator = jumping_range(5)"
   ]
  },
  {
   "cell_type": "code",
   "execution_count": 6,
   "metadata": {
    "pycharm": {
     "name": "#%%\n"
    },
    "slideshow": {
     "slide_type": "-"
    }
   },
   "outputs": [
    {
     "name": "stdout",
     "output_type": "stream",
     "text": [
      "next   : 0\n",
      "send  2: 2\n",
      "next   : 3\n",
      "send -1: 2\n"
     ]
    }
   ],
   "source": [
    "print('next   :', next(generator))\n",
    "print('send  2:', generator.send(2))\n",
    "print('next   :', next(generator))\n",
    "print('send -1:', generator.send(-1))"
   ]
  },
  {
   "cell_type": "markdown",
   "metadata": {
    "pycharm": {
     "name": "#%% md\n"
    },
    "slideshow": {
     "slide_type": "slide"
    }
   },
   "source": [
    "В Python 3.3 добавляется важный синтаксический сахар `yield from`"
   ]
  },
  {
   "cell_type": "code",
   "execution_count": 7,
   "metadata": {
    "pycharm": {
     "name": "#%%\n"
    },
    "slideshow": {
     "slide_type": "fragment"
    }
   },
   "outputs": [],
   "source": [
    "def bottom() -> Generator[int, None, int]:\n",
    "    yield 42\n",
    "    yield 84\n",
    "    return 0"
   ]
  },
  {
   "cell_type": "code",
   "execution_count": 8,
   "metadata": {
    "pycharm": {
     "name": "#%%\n"
    },
    "slideshow": {
     "slide_type": "-"
    }
   },
   "outputs": [],
   "source": [
    "def top() -> Generator[int, None, None]:\n",
    "    value = yield from bottom()\n",
    "    print(value)"
   ]
  },
  {
   "cell_type": "code",
   "execution_count": 9,
   "metadata": {
    "pycharm": {
     "name": "#%%\n"
    },
    "slideshow": {
     "slide_type": "-"
    }
   },
   "outputs": [
    {
     "name": "stdout",
     "output_type": "stream",
     "text": [
      "0\n"
     ]
    },
    {
     "data": {
      "text/plain": [
       "[42, 84]"
      ]
     },
     "execution_count": 9,
     "metadata": {},
     "output_type": "execute_result"
    }
   ],
   "source": [
    "list(top())"
   ]
  },
  {
   "cell_type": "markdown",
   "metadata": {
    "pycharm": {
     "name": "#%% md\n"
    },
    "slideshow": {
     "slide_type": "slide"
    }
   },
   "source": [
    "Наконец, в Python 3.4 вводят фреймворк `asyncio`"
   ]
  },
  {
   "cell_type": "code",
   "execution_count": 10,
   "metadata": {
    "pycharm": {
     "name": "#%%\n"
    },
    "slideshow": {
     "slide_type": "-"
    }
   },
   "outputs": [],
   "source": [
    "import asyncio\n",
    "import types"
   ]
  },
  {
   "cell_type": "code",
   "execution_count": 11,
   "metadata": {
    "pycharm": {
     "name": "#%%\n"
    },
    "scrolled": true,
    "slideshow": {
     "slide_type": "fragment"
    }
   },
   "outputs": [],
   "source": [
    "@types.coroutine  # asyncio.coroutine\n",
    "def countdown(n: int) -> Generator[asyncio.Future, None, None]:\n",
    "    while n > 0:\n",
    "        print(n)\n",
    "        yield from asyncio.sleep(1)\n",
    "        n -= 1"
   ]
  },
  {
   "cell_type": "code",
   "execution_count": 12,
   "metadata": {
    "pycharm": {
     "name": "#%%\n"
    },
    "slideshow": {
     "slide_type": "fragment"
    }
   },
   "outputs": [
    {
     "name": "stdout",
     "output_type": "stream",
     "text": [
      "3\n"
     ]
    },
    {
     "data": {
      "text/plain": [
       "<Future pending>"
      ]
     },
     "execution_count": 12,
     "metadata": {},
     "output_type": "execute_result"
    }
   ],
   "source": [
    "next(countdown(3))"
   ]
  },
  {
   "cell_type": "code",
   "execution_count": 13,
   "metadata": {
    "pycharm": {
     "name": "#%%\n"
    },
    "slideshow": {
     "slide_type": "slide"
    }
   },
   "outputs": [],
   "source": [
    "# to start nested event loop inside jupyter notebook\n",
    "import nest_asyncio\n",
    "nest_asyncio.apply()"
   ]
  },
  {
   "cell_type": "code",
   "execution_count": 14,
   "metadata": {
    "pycharm": {
     "name": "#%%\n"
    },
    "scrolled": true,
    "slideshow": {
     "slide_type": "fragment"
    }
   },
   "outputs": [
    {
     "name": "stdout",
     "output_type": "stream",
     "text": [
      "3\n",
      "2\n",
      "1\n"
     ]
    }
   ],
   "source": [
    "loop = asyncio.get_event_loop()\n",
    "loop.run_until_complete(countdown(3))"
   ]
  },
  {
   "cell_type": "markdown",
   "metadata": {
    "pycharm": {
     "name": "#%% md\n"
    },
    "slideshow": {
     "slide_type": "slide"
    }
   },
   "source": [
    "Довольно быстро становится понятно, что в языке теперь есть некоторая путаница между генераторами и корутинами"
   ]
  },
  {
   "cell_type": "markdown",
   "metadata": {
    "pycharm": {
     "name": "#%% md\n"
    },
    "slideshow": {
     "slide_type": "fragment"
    }
   },
   "source": [
    "И уже в Python 3.5 вводят `async/await`, заменив generator-based корутины на встроенные в язык"
   ]
  },
  {
   "cell_type": "code",
   "execution_count": 15,
   "metadata": {
    "pycharm": {
     "name": "#%%\n"
    },
    "slideshow": {
     "slide_type": "-"
    }
   },
   "outputs": [],
   "source": [
    "async def compute(a: int, b: int) -> int:\n",
    "    print('Compute...')\n",
    "    await asyncio.sleep(1)\n",
    "    return a + b"
   ]
  },
  {
   "cell_type": "code",
   "execution_count": 16,
   "metadata": {
    "pycharm": {
     "name": "#%%\n"
    },
    "slideshow": {
     "slide_type": "fragment"
    }
   },
   "outputs": [
    {
     "data": {
      "text/plain": [
       "<coroutine object compute at 0x7f44cd1a3920>"
      ]
     },
     "execution_count": 16,
     "metadata": {},
     "output_type": "execute_result"
    }
   ],
   "source": [
    "compute(3, 5)"
   ]
  },
  {
   "cell_type": "code",
   "execution_count": 20,
   "metadata": {
    "scrolled": true,
    "slideshow": {
     "slide_type": "slide"
    }
   },
   "outputs": [
    {
     "name": "stderr",
     "output_type": "stream",
     "text": [
      "/tmp/ipykernel_186852/1950243043.py:1: RuntimeWarning: coroutine 'compute' was never awaited\n",
      "  next(compute(3, 5))\n",
      "RuntimeWarning: Enable tracemalloc to get the object allocation traceback\n"
     ]
    },
    {
     "ename": "TypeError",
     "evalue": "'coroutine' object is not an iterator",
     "output_type": "error",
     "traceback": [
      "\u001b[0;31m---------------------------------------------------------------------------\u001b[0m",
      "\u001b[0;31mTypeError\u001b[0m                                 Traceback (most recent call last)",
      "Cell \u001b[0;32mIn[20], line 1\u001b[0m\n\u001b[0;32m----> 1\u001b[0m \u001b[38;5;28;43mnext\u001b[39;49m\u001b[43m(\u001b[49m\u001b[43mcompute\u001b[49m\u001b[43m(\u001b[49m\u001b[38;5;241;43m3\u001b[39;49m\u001b[43m,\u001b[49m\u001b[43m \u001b[49m\u001b[38;5;241;43m5\u001b[39;49m\u001b[43m)\u001b[49m\u001b[43m)\u001b[49m\n",
      "\u001b[0;31mTypeError\u001b[0m: 'coroutine' object is not an iterator"
     ]
    }
   ],
   "source": [
    "next(compute(3, 5))"
   ]
  },
  {
   "cell_type": "code",
   "execution_count": 21,
   "metadata": {
    "slideshow": {
     "slide_type": "fragment"
    }
   },
   "outputs": [
    {
     "name": "stdout",
     "output_type": "stream",
     "text": [
      "Compute...\n"
     ]
    },
    {
     "data": {
      "text/plain": [
       "<Future pending>"
      ]
     },
     "execution_count": 21,
     "metadata": {},
     "output_type": "execute_result"
    }
   ],
   "source": [
    "next(compute(3, 5).__await__())  # awaitable"
   ]
  },
  {
   "cell_type": "code",
   "execution_count": 22,
   "metadata": {
    "pycharm": {
     "name": "#%%\n"
    },
    "slideshow": {
     "slide_type": "fragment"
    }
   },
   "outputs": [
    {
     "name": "stdout",
     "output_type": "stream",
     "text": [
      "Compute...\n"
     ]
    },
    {
     "data": {
      "text/plain": [
       "8"
      ]
     },
     "execution_count": 22,
     "metadata": {},
     "output_type": "execute_result"
    }
   ],
   "source": [
    "loop = asyncio.get_event_loop()\n",
    "loop.run_until_complete(compute(3, 5))"
   ]
  },
  {
   "cell_type": "markdown",
   "metadata": {
    "pycharm": {
     "name": "#%% md\n"
    },
    "slideshow": {
     "slide_type": "slide"
    }
   },
   "source": [
    "А затем в Python 3.6 появится возможность реализовывать асинхронные генераторы"
   ]
  },
  {
   "cell_type": "code",
   "execution_count": 23,
   "metadata": {
    "pycharm": {
     "name": "#%%\n"
    },
    "slideshow": {
     "slide_type": "-"
    }
   },
   "outputs": [],
   "source": [
    "async def ticker(upto: int) -> Generator[int, None, None]:\n",
    "    for i in range(upto):\n",
    "        await asyncio.sleep(1)\n",
    "        yield i"
   ]
  },
  {
   "cell_type": "code",
   "execution_count": 24,
   "metadata": {
    "scrolled": true,
    "slideshow": {
     "slide_type": "fragment"
    }
   },
   "outputs": [
    {
     "data": {
      "text/plain": [
       "<Future pending>"
      ]
     },
     "execution_count": 24,
     "metadata": {},
     "output_type": "execute_result"
    }
   ],
   "source": [
    "next(ticker(2).__anext__().__await__())"
   ]
  },
  {
   "cell_type": "code",
   "execution_count": 25,
   "metadata": {},
   "outputs": [
    {
     "data": {
      "text/plain": [
       "0"
      ]
     },
     "execution_count": 25,
     "metadata": {},
     "output_type": "execute_result"
    }
   ],
   "source": [
    "loop = asyncio.get_event_loop()\n",
    "loop.run_until_complete(ticker(2).__anext__())  # anext(...) from 3.10"
   ]
  },
  {
   "cell_type": "markdown",
   "metadata": {
    "pycharm": {
     "name": "#%% md\n"
    },
    "slideshow": {
     "slide_type": "slide"
    }
   },
   "source": [
    "# Event Loop"
   ]
  },
  {
   "cell_type": "code",
   "execution_count": 26,
   "metadata": {
    "pycharm": {
     "name": "#%%\n"
    },
    "slideshow": {
     "slide_type": "slide"
    }
   },
   "outputs": [],
   "source": [
    "async def compute(a: int, b: int) -> int:\n",
    "    print('Compute...')\n",
    "    await asyncio.sleep(1)\n",
    "    return a + b"
   ]
  },
  {
   "cell_type": "code",
   "execution_count": 27,
   "metadata": {
    "pycharm": {
     "name": "#%%\n"
    },
    "slideshow": {
     "slide_type": "-"
    }
   },
   "outputs": [],
   "source": [
    "async def print_sum(a: int, b: int) -> None:\n",
    "    result = await compute(a, b)\n",
    "    print(f'{a} + {b} = {result}')"
   ]
  },
  {
   "cell_type": "code",
   "execution_count": 28,
   "metadata": {
    "pycharm": {
     "name": "#%%\n"
    },
    "slideshow": {
     "slide_type": "-"
    }
   },
   "outputs": [
    {
     "name": "stdout",
     "output_type": "stream",
     "text": [
      "Compute...\n",
      "1 + 2 = 3\n"
     ]
    }
   ],
   "source": [
    "loop = asyncio.get_event_loop()\n",
    "loop.run_until_complete(print_sum(1, 2))"
   ]
  },
  {
   "cell_type": "markdown",
   "metadata": {
    "pycharm": {
     "name": "#%% md\n"
    },
    "slideshow": {
     "slide_type": "slide"
    }
   },
   "source": [
    "<center>\n",
    "<img src=\"http://ntoll.org/static/images/tulip_coro.png\" alt=\"event-loop\" width=1200/>\n",
    "</center>"
   ]
  },
  {
   "cell_type": "code",
   "execution_count": null,
   "metadata": {
    "slideshow": {
     "slide_type": "slide"
    }
   },
   "outputs": [],
   "source": [
    "# Simplified code from\n",
    "# https://github.com/python/cpython/blob/1d1bb95abdcafe92c771fb3dc4722351b032cc24/Lib/asyncio/tasks.py#L630\n",
    "async def sleep(delay: float) -> None:\n",
    "    if delay <= 0:\n",
    "        await __sleep0()\n",
    "        return result\n",
    "\n",
    "    loop = asyncio.get_running_loop()\n",
    "    future = loop.create_future()\n",
    "    loop.call_later(\n",
    "        delay,\n",
    "        future.set_result,\n",
    "        None,\n",
    "    )\n",
    "    \n",
    "    await future"
   ]
  },
  {
   "cell_type": "code",
   "execution_count": null,
   "metadata": {
    "slideshow": {
     "slide_type": "fragment"
    }
   },
   "outputs": [],
   "source": [
    "@types.coroutine\n",
    "def __sleep0() -> Generator[None, None, None]:\n",
    "    yield"
   ]
  },
  {
   "cell_type": "markdown",
   "metadata": {
    "pycharm": {
     "name": "#%% md\n"
    },
    "slideshow": {
     "slide_type": "slide"
    }
   },
   "source": [
    "# Современный asyncio"
   ]
  },
  {
   "cell_type": "markdown",
   "metadata": {
    "pycharm": {
     "name": "#%% md\n"
    },
    "slideshow": {
     "slide_type": "fragment"
    }
   },
   "source": [
    "## python 3.9+"
   ]
  },
  {
   "cell_type": "markdown",
   "metadata": {
    "pycharm": {
     "name": "#%% md\n"
    },
    "slideshow": {
     "slide_type": "slide"
    }
   },
   "source": [
    "## Hello world"
   ]
  },
  {
   "cell_type": "code",
   "execution_count": 29,
   "metadata": {
    "pycharm": {
     "name": "#%%\n"
    },
    "slideshow": {
     "slide_type": "fragment"
    }
   },
   "outputs": [],
   "source": [
    "async def main() -> None:\n",
    "    print('Hello ...')\n",
    "    await asyncio.sleep(1)\n",
    "    print('... World!')"
   ]
  },
  {
   "cell_type": "code",
   "execution_count": 30,
   "metadata": {
    "pycharm": {
     "name": "#%%\n"
    },
    "scrolled": false,
    "slideshow": {
     "slide_type": "-"
    }
   },
   "outputs": [
    {
     "name": "stdout",
     "output_type": "stream",
     "text": [
      "Hello ...\n",
      "... World!\n"
     ]
    }
   ],
   "source": [
    "asyncio.run(main())"
   ]
  },
  {
   "cell_type": "markdown",
   "metadata": {
    "pycharm": {
     "name": "#%% md\n"
    },
    "slideshow": {
     "slide_type": "slide"
    }
   },
   "source": [
    "## Шедулинг корутин"
   ]
  },
  {
   "cell_type": "code",
   "execution_count": 31,
   "metadata": {
    "pycharm": {
     "name": "#%%\n"
    },
    "slideshow": {
     "slide_type": "-"
    }
   },
   "outputs": [],
   "source": [
    "async def say_after(delay: int, what: str) -> None:\n",
    "    print(f'wait for {delay}s')\n",
    "    await asyncio.sleep(delay)\n",
    "    print(what)"
   ]
  },
  {
   "cell_type": "code",
   "execution_count": 32,
   "metadata": {
    "pycharm": {
     "name": "#%%\n"
    },
    "slideshow": {
     "slide_type": "fragment"
    }
   },
   "outputs": [],
   "source": [
    "import time"
   ]
  },
  {
   "cell_type": "code",
   "execution_count": 33,
   "metadata": {
    "pycharm": {
     "name": "#%%\n"
    },
    "slideshow": {
     "slide_type": "-"
    }
   },
   "outputs": [
    {
     "name": "stdout",
     "output_type": "stream",
     "text": [
      "started at 15:01:26\n",
      "wait for 1s\n",
      "hello\n",
      "wait for 2s\n",
      "world\n",
      "finished at 15:01:29\n"
     ]
    }
   ],
   "source": [
    "print(f\"started at {time.strftime('%X')}\")\n",
    "\n",
    "await say_after(1, 'hello')\n",
    "await say_after(2, 'world')\n",
    "\n",
    "print(f\"finished at {time.strftime('%X')}\")"
   ]
  },
  {
   "cell_type": "code",
   "execution_count": 34,
   "metadata": {
    "pycharm": {
     "name": "#%%\n"
    },
    "slideshow": {
     "slide_type": "slide"
    }
   },
   "outputs": [
    {
     "name": "stdout",
     "output_type": "stream",
     "text": [
      "started at 15:01:29\n",
      "wait for 2s\n",
      "wait for 1s\n",
      "world\n",
      "hello\n",
      "finished at 15:01:31\n"
     ]
    }
   ],
   "source": [
    "task1 = asyncio.create_task(say_after(2, 'hello'))\n",
    "task2 = asyncio.create_task(say_after(1, 'world'))\n",
    "\n",
    "print(f\"started at {time.strftime('%X')}\")\n",
    "\n",
    "await task1\n",
    "await task2\n",
    "\n",
    "print(f\"finished at {time.strftime('%X')}\")"
   ]
  },
  {
   "cell_type": "markdown",
   "metadata": {
    "pycharm": {
     "name": "#%% md\n"
    },
    "slideshow": {
     "slide_type": "slide"
    }
   },
   "source": [
    "Задачи (tasks) используются, чтобы запланировать (schedule)\n",
    "\n",
    "корутины на выполнение \"параллельно\""
   ]
  },
  {
   "cell_type": "markdown",
   "metadata": {
    "pycharm": {
     "name": "#%% md\n"
    },
    "slideshow": {
     "slide_type": "-"
    }
   },
   "source": [
    "Когда из корутины создают задачу через `asyncio.create_task()`,\n",
    "\n",
    "она автоматически запускается на следующем такте event loop'а (run soon)"
   ]
  },
  {
   "cell_type": "markdown",
   "metadata": {
    "pycharm": {
     "name": "#%% md\n"
    },
    "slideshow": {
     "slide_type": "slide"
    }
   },
   "source": [
    "## asyncio.gather"
   ]
  },
  {
   "cell_type": "code",
   "execution_count": 35,
   "metadata": {
    "pycharm": {
     "name": "#%%\n"
    },
    "slideshow": {
     "slide_type": "fragment"
    }
   },
   "outputs": [],
   "source": [
    "async def factorial(name: str, number: int) -> None:\n",
    "    result = 1\n",
    "    for i in range(2, number + 1):\n",
    "        print(f'Task {name}: Compute factorial({i})...')\n",
    "        await asyncio.sleep(1)\n",
    "        result *= i\n",
    "    print(f'Task {name}: factorial({number}) = {result}')\n",
    "    return result"
   ]
  },
  {
   "cell_type": "code",
   "execution_count": 36,
   "metadata": {
    "pycharm": {
     "name": "#%%\n"
    },
    "slideshow": {
     "slide_type": "slide"
    }
   },
   "outputs": [
    {
     "name": "stdout",
     "output_type": "stream",
     "text": [
      "Task A: Compute factorial(2)...\n",
      "Task B: Compute factorial(2)...\n",
      "Task C: Compute factorial(2)...\n",
      "Task A: factorial(2) = 2\n",
      "Task B: Compute factorial(3)...\n",
      "Task C: Compute factorial(3)...\n",
      "Task B: factorial(3) = 6\n",
      "Task C: Compute factorial(4)...\n",
      "Task C: factorial(4) = 24\n"
     ]
    },
    {
     "data": {
      "text/plain": [
       "[2, 6, 24]"
      ]
     },
     "execution_count": 36,
     "metadata": {},
     "output_type": "execute_result"
    }
   ],
   "source": [
    "await asyncio.gather(\n",
    "    factorial('A', 2),\n",
    "    factorial('B', 3),\n",
    "    factorial('C', 4),\n",
    "#     return_exceptions=True,\n",
    ")"
   ]
  },
  {
   "cell_type": "markdown",
   "metadata": {
    "pycharm": {
     "name": "#%% md\n"
    },
    "slideshow": {
     "slide_type": "slide"
    }
   },
   "source": [
    "## asyncio.TaskGroup\n",
    "#### python 3.11+"
   ]
  },
  {
   "cell_type": "code",
   "execution_count": 37,
   "metadata": {},
   "outputs": [
    {
     "name": "stdout",
     "output_type": "stream",
     "text": [
      "tasks pending to start\n",
      "Task A: Compute factorial(2)...\n",
      "Task B: Compute factorial(2)...\n",
      "Task C: Compute factorial(2)...\n",
      "Task A: factorial(2) = 2\n",
      "Task B: Compute factorial(3)...\n",
      "Task C: Compute factorial(3)...\n",
      "Task B: factorial(3) = 6\n",
      "Task C: Compute factorial(4)...\n",
      "Task C: factorial(4) = 24\n",
      "tasks complete\n"
     ]
    }
   ],
   "source": [
    "async with asyncio.TaskGroup() as tg:\n",
    "    tg.create_task(factorial('A', 2))\n",
    "    tg.create_task(factorial('B', 3))\n",
    "    tg.create_task(factorial('C', 4))\n",
    "    print('tasks pending to start')\n",
    "print('tasks complete')"
   ]
  },
  {
   "cell_type": "markdown",
   "metadata": {
    "pycharm": {
     "name": "#%% md\n"
    },
    "slideshow": {
     "slide_type": "slide"
    }
   },
   "source": [
    "## Ожидание & таймауты"
   ]
  },
  {
   "cell_type": "code",
   "execution_count": 38,
   "metadata": {
    "pycharm": {
     "name": "#%%\n"
    },
    "slideshow": {
     "slide_type": "fragment"
    }
   },
   "outputs": [],
   "source": [
    "async def eternity() -> None:\n",
    "    await asyncio.sleep(3600)  # 1 hour sleep\n",
    "    print('yay!')"
   ]
  },
  {
   "cell_type": "code",
   "execution_count": 44,
   "metadata": {
    "pycharm": {
     "name": "#%%\n"
    },
    "slideshow": {
     "slide_type": "fragment"
    }
   },
   "outputs": [
    {
     "name": "stdout",
     "output_type": "stream",
     "text": [
      "timeout!\n"
     ]
    }
   ],
   "source": [
    "try:\n",
    "    await asyncio.wait_for(eternity(), timeout=1)  # wait for at most 1 second\n",
    "except TimeoutError:\n",
    "    print('timeout!')"
   ]
  },
  {
   "cell_type": "markdown",
   "metadata": {
    "pycharm": {
     "name": "#%% md\n"
    },
    "slideshow": {
     "slide_type": "slide"
    }
   },
   "source": [
    "## Отмена (cancellation) корутин"
   ]
  },
  {
   "cell_type": "code",
   "execution_count": 47,
   "metadata": {
    "pycharm": {
     "name": "#%%\n"
    },
    "slideshow": {
     "slide_type": "fragment"
    }
   },
   "outputs": [],
   "source": [
    "async def another_eternity() -> None:\n",
    "    try:\n",
    "        await asyncio.sleep(3600)\n",
    "        print(f'{time.strftime(\"%X\")} yay!')\n",
    "    finally:\n",
    "        print(f'{time.strftime(\"%X\")} cancelled')\n",
    "        await asyncio.sleep(5)"
   ]
  },
  {
   "cell_type": "code",
   "execution_count": 48,
   "metadata": {
    "pycharm": {
     "name": "#%%\n"
    },
    "scrolled": true,
    "slideshow": {
     "slide_type": "fragment"
    }
   },
   "outputs": [
    {
     "name": "stdout",
     "output_type": "stream",
     "text": [
      "15:59:15 started\n",
      "15:59:16 cancelled\n",
      "15:59:21 timeout!\n",
      "15:59:21 finished\n"
     ]
    }
   ],
   "source": [
    "print(f'{time.strftime(\"%X\")} started')\n",
    "try:\n",
    "    # Send CancelledError to coro after 1 sec and wait for coro completion\n",
    "    await asyncio.wait_for(another_eternity(), timeout=1)\n",
    "except TimeoutError:\n",
    "    print(f'{time.strftime(\"%X\")} timeout!')\n",
    "print(f'{time.strftime(\"%X\")} finished')"
   ]
  },
  {
   "cell_type": "markdown",
   "metadata": {},
   "source": [
    "## Защита (shield) от отмены корутин"
   ]
  },
  {
   "cell_type": "code",
   "execution_count": 49,
   "metadata": {
    "pycharm": {
     "name": "#%%\n"
    },
    "slideshow": {
     "slide_type": "slide"
    }
   },
   "outputs": [],
   "source": [
    "async def important_task() -> None:\n",
    "    print(f'{time.strftime(\"%X\")} important task started')\n",
    "    await asyncio.sleep(5)\n",
    "    print(f'{time.strftime(\"%X\")} important task finished')"
   ]
  },
  {
   "cell_type": "code",
   "execution_count": 50,
   "metadata": {
    "pycharm": {
     "name": "#%%\n"
    },
    "slideshow": {
     "slide_type": "fragment"
    }
   },
   "outputs": [
    {
     "name": "stdout",
     "output_type": "stream",
     "text": [
      "16:14:54 started\n",
      "16:14:54 important task started\n",
      "16:14:55 timeout!\n",
      "16:14:56 finished\n",
      "16:14:59 important task finished\n"
     ]
    }
   ],
   "source": [
    "print(f'{time.strftime(\"%X\")} started')\n",
    "try:\n",
    "    await asyncio.wait_for(asyncio.shield(important_task()), timeout=1.0)\n",
    "except asyncio.TimeoutError:\n",
    "    print(f'{time.strftime(\"%X\")} timeout!')\n",
    "print(f'{time.strftime(\"%X\")} finished')"
   ]
  },
  {
   "cell_type": "markdown",
   "metadata": {
    "pycharm": {
     "name": "#%% md\n"
    },
    "slideshow": {
     "slide_type": "slide"
    }
   },
   "source": [
    "## as_completed"
   ]
  },
  {
   "cell_type": "code",
   "execution_count": 51,
   "metadata": {
    "pycharm": {
     "name": "#%%\n"
    },
    "slideshow": {
     "slide_type": "-"
    }
   },
   "outputs": [],
   "source": [
    "async def factorial(number: int) -> tuple[int, int]:\n",
    "    result = 1\n",
    "    for i in range(2, number + 1):\n",
    "        await asyncio.sleep(1)\n",
    "        result *= i\n",
    "    return number, result"
   ]
  },
  {
   "cell_type": "code",
   "execution_count": 52,
   "metadata": {
    "pycharm": {
     "name": "#%%\n"
    },
    "slideshow": {
     "slide_type": "fragment"
    }
   },
   "outputs": [
    {
     "name": "stdout",
     "output_type": "stream",
     "text": [
      "Factorial(2) = 2\n",
      "Factorial(3) = 6\n",
      "Factorial(4) = 24\n",
      "Factorial(5) = 120\n"
     ]
    }
   ],
   "source": [
    "for i, future in enumerate(asyncio.as_completed([factorial(4), factorial(3),\n",
    "                                                 factorial(5), factorial(2)])):\n",
    "    number, result = await future\n",
    "    print(f\"Factorial({number}) = {result}\")"
   ]
  },
  {
   "cell_type": "markdown",
   "metadata": {
    "pycharm": {
     "name": "#%% md\n"
    },
    "slideshow": {
     "slide_type": "slide"
    }
   },
   "source": [
    "## async with"
   ]
  },
  {
   "cell_type": "markdown",
   "metadata": {
    "pycharm": {
     "name": "#%% md\n"
    },
    "slideshow": {
     "slide_type": "-"
    }
   },
   "source": [
    "Асинхронный контекстный менеджер - это контекстный менеджер,\n",
    "\n",
    "который умеет приостанавливать выполнение в методах\n",
    "\n",
    "входа и выхода: `__aenter__()`, `__aexit__()`"
   ]
  },
  {
   "cell_type": "code",
   "execution_count": null,
   "metadata": {
    "pycharm": {
     "name": "#%%\n"
    },
    "slideshow": {
     "slide_type": "fragment"
    }
   },
   "outputs": [],
   "source": [
    "lock = asyncio.Lock()\n",
    "\n",
    "async with lock:\n",
    "    # access shared state"
   ]
  },
  {
   "cell_type": "markdown",
   "metadata": {
    "pycharm": {
     "name": "#%% md\n"
    },
    "slideshow": {
     "slide_type": "slide"
    }
   },
   "source": [
    "### aiohttp"
   ]
  },
  {
   "cell_type": "code",
   "execution_count": 55,
   "metadata": {
    "pycharm": {
     "name": "#%%\n"
    },
    "slideshow": {
     "slide_type": "fragment"
    }
   },
   "outputs": [],
   "source": [
    "import aiohttp"
   ]
  },
  {
   "cell_type": "code",
   "execution_count": 56,
   "metadata": {
    "pycharm": {
     "name": "#%%\n"
    },
    "slideshow": {
     "slide_type": "-"
    }
   },
   "outputs": [
    {
     "name": "stdout",
     "output_type": "stream",
     "text": [
      "<body></body><script nonce='fd1167015079d0121b861dfe9f3c7747'>var it = ...\n"
     ]
    }
   ],
   "source": [
    "async with aiohttp.ClientSession() as session:\n",
    "    async with session.get('http://ya.ru') as resp:\n",
    "        text = await resp.text()\n",
    "        print(text[:70], '...')"
   ]
  },
  {
   "cell_type": "code",
   "execution_count": 58,
   "metadata": {
    "pycharm": {
     "name": "#%%\n"
    },
    "slideshow": {
     "slide_type": "fragment"
    }
   },
   "outputs": [],
   "source": [
    "import requests"
   ]
  },
  {
   "cell_type": "code",
   "execution_count": 59,
   "metadata": {
    "pycharm": {
     "name": "#%%\n"
    },
    "slideshow": {
     "slide_type": "-"
    }
   },
   "outputs": [
    {
     "name": "stdout",
     "output_type": "stream",
     "text": [
      "<body></body><script nonce='172ca618a0fc5e3b31850ee88eb4c372'>var it = ...\n"
     ]
    }
   ],
   "source": [
    "with requests.Session() as session:\n",
    "    with session.get('http://ya.ru') as resp:\n",
    "        text = resp.text\n",
    "        print(text[:70], '...')"
   ]
  },
  {
   "cell_type": "markdown",
   "metadata": {
    "pycharm": {
     "name": "#%% md\n"
    },
    "slideshow": {
     "slide_type": "slide"
    }
   },
   "source": [
    "## async for"
   ]
  },
  {
   "cell_type": "markdown",
   "metadata": {
    "pycharm": {
     "name": "#%% md\n"
    },
    "slideshow": {
     "slide_type": "-"
    }
   },
   "source": [
    "Асинхронный итерируемый (iterable) объект должен возвращать\n",
    "\n",
    "асинхронный итератор из его iter-метода (`__aiter__()`)."
   ]
  },
  {
   "cell_type": "markdown",
   "metadata": {
    "pycharm": {
     "name": "#%% md\n"
    },
    "slideshow": {
     "slide_type": "fragment"
    }
   },
   "source": [
    "Асинхронный итератор должен возвращать awaitable-объект,\n",
    "\n",
    "который возвращает следующее значение итератора при вызове `await`,\n",
    "\n",
    "либо кидать `StopAsyncIteration` из его next-метода (`__anext__()`)."
   ]
  },
  {
   "cell_type": "code",
   "execution_count": 64,
   "metadata": {
    "slideshow": {
     "slide_type": "slide"
    }
   },
   "outputs": [],
   "source": [
    "from collections.abc import Iterator"
   ]
  },
  {
   "cell_type": "code",
   "execution_count": 65,
   "metadata": {
    "pycharm": {
     "name": "#%%\n"
    },
    "slideshow": {
     "slide_type": "-"
    }
   },
   "outputs": [],
   "source": [
    "async def ticker(upto: int) -> Iterator[int]:\n",
    "    for i in range(upto):\n",
    "        await asyncio.sleep(1)\n",
    "        yield i"
   ]
  },
  {
   "cell_type": "code",
   "execution_count": 73,
   "metadata": {
    "pycharm": {
     "name": "#%%\n"
    },
    "slideshow": {
     "slide_type": "fragment"
    }
   },
   "outputs": [
    {
     "name": "stdout",
     "output_type": "stream",
     "text": [
      "0 1 2 "
     ]
    }
   ],
   "source": [
    "async for i in ticker(3):\n",
    "    print(i, end=' ')"
   ]
  },
  {
   "cell_type": "code",
   "execution_count": 69,
   "metadata": {
    "slideshow": {
     "slide_type": "slide"
    }
   },
   "outputs": [
    {
     "data": {
      "text/plain": [
       "<async_generator object ticker at 0x7fdac90c4820>"
      ]
     },
     "execution_count": 69,
     "metadata": {},
     "output_type": "execute_result"
    }
   ],
   "source": [
    "async_iter = aiter(ticker(2))  # 3.10+\n",
    "async_iter"
   ]
  },
  {
   "cell_type": "code",
   "execution_count": 70,
   "metadata": {
    "slideshow": {
     "slide_type": "fragment"
    }
   },
   "outputs": [
    {
     "data": {
      "text/plain": [
       "0"
      ]
     },
     "execution_count": 70,
     "metadata": {},
     "output_type": "execute_result"
    }
   ],
   "source": [
    "await anext(async_iter)  # 3.10+"
   ]
  },
  {
   "cell_type": "code",
   "execution_count": 71,
   "metadata": {
    "slideshow": {
     "slide_type": "fragment"
    }
   },
   "outputs": [
    {
     "data": {
      "text/plain": [
       "1"
      ]
     },
     "execution_count": 71,
     "metadata": {},
     "output_type": "execute_result"
    }
   ],
   "source": [
    "await anext(async_iter)"
   ]
  },
  {
   "cell_type": "code",
   "execution_count": 72,
   "metadata": {
    "slideshow": {
     "slide_type": "fragment"
    }
   },
   "outputs": [
    {
     "ename": "StopAsyncIteration",
     "evalue": "",
     "output_type": "error",
     "traceback": [
      "\u001b[0;31m---------------------------------------------------------------------------\u001b[0m",
      "\u001b[0;31mStopAsyncIteration\u001b[0m                        Traceback (most recent call last)",
      "Cell \u001b[0;32mIn[72], line 1\u001b[0m\n\u001b[0;32m----> 1\u001b[0m \u001b[38;5;28;01mawait\u001b[39;00m anext(async_iter)\n",
      "\u001b[0;31mStopAsyncIteration\u001b[0m: "
     ]
    }
   ],
   "source": [
    "await anext(async_iter)"
   ]
  },
  {
   "cell_type": "markdown",
   "metadata": {
    "pycharm": {
     "name": "#%% md\n"
    },
    "slideshow": {
     "slide_type": "slide"
    }
   },
   "source": [
    "### Motor"
   ]
  },
  {
   "cell_type": "code",
   "execution_count": 75,
   "metadata": {
    "pycharm": {
     "name": "#%%\n"
    },
    "slideshow": {
     "slide_type": "fragment"
    }
   },
   "outputs": [],
   "source": [
    "from motor.motor_asyncio import AsyncIOMotorClient"
   ]
  },
  {
   "cell_type": "code",
   "execution_count": 76,
   "metadata": {
    "pycharm": {
     "name": "#%%\n"
    },
    "slideshow": {
     "slide_type": "fragment"
    }
   },
   "outputs": [],
   "source": [
    "client = AsyncIOMotorClient('localhost', 27017)"
   ]
  },
  {
   "cell_type": "code",
   "execution_count": 77,
   "metadata": {
    "pycharm": {
     "name": "#%%\n"
    },
    "slideshow": {
     "slide_type": "fragment"
    }
   },
   "outputs": [
    {
     "data": {
      "text/plain": [
       "<pymongo.results.InsertOneResult at 0x7fdac91da9b0>"
      ]
     },
     "execution_count": 77,
     "metadata": {},
     "output_type": "execute_result"
    }
   ],
   "source": [
    "await client.test_database.test_collection.insert_one({'key': 'value'})"
   ]
  },
  {
   "cell_type": "code",
   "execution_count": 78,
   "metadata": {
    "pycharm": {
     "name": "#%%\n"
    },
    "scrolled": true,
    "slideshow": {
     "slide_type": "fragment"
    }
   },
   "outputs": [
    {
     "name": "stdout",
     "output_type": "stream",
     "text": [
      "{'_id': ObjectId('63860ad828a2dab29b375700'), 'key': 'value'}\n"
     ]
    }
   ],
   "source": [
    "async for document in client.test_database.test_collection.find({'key': 'value'}):\n",
    "    print(document)"
   ]
  },
  {
   "cell_type": "markdown",
   "metadata": {
    "pycharm": {
     "name": "#%% md\n"
    },
    "slideshow": {
     "slide_type": "slide"
    }
   },
   "source": [
    "## Запуск синхронного кода"
   ]
  },
  {
   "cell_type": "code",
   "execution_count": 79,
   "metadata": {
    "pycharm": {
     "name": "#%%\n"
    },
    "slideshow": {
     "slide_type": "fragment"
    }
   },
   "outputs": [],
   "source": [
    "def blocking_io() -> None:\n",
    "    print(f\"{time.strftime('%X')} start blocking IO\")\n",
    "    time.sleep(5)\n",
    "    print(f\"{time.strftime('%X')} finished blocking IO\")"
   ]
  },
  {
   "cell_type": "code",
   "execution_count": 80,
   "metadata": {
    "pycharm": {
     "name": "#%%\n"
    },
    "slideshow": {
     "slide_type": "fragment"
    }
   },
   "outputs": [],
   "source": [
    "non_blocking_io = asyncio.to_thread(blocking_io)"
   ]
  },
  {
   "cell_type": "code",
   "execution_count": 81,
   "metadata": {
    "pycharm": {
     "name": "#%%\n"
    },
    "slideshow": {
     "slide_type": "fragment"
    }
   },
   "outputs": [
    {
     "name": "stdout",
     "output_type": "stream",
     "text": [
      "17:37:00 start gather\n",
      "17:37:00 start blocking IO\n",
      "17:37:05 finished blocking IO\n",
      "17:37:05 finished gather\n"
     ]
    }
   ],
   "source": [
    "print(f\"{time.strftime('%X')} start gather\")\n",
    "await asyncio.gather(non_blocking_io, asyncio.sleep(5))\n",
    "print(f\"{time.strftime('%X')} finished gather\")"
   ]
  },
  {
   "cell_type": "markdown",
   "metadata": {
    "pycharm": {
     "name": "#%% md\n"
    },
    "slideshow": {
     "slide_type": "slide"
    }
   },
   "source": [
    "## Debugging asyncio"
   ]
  },
  {
   "cell_type": "markdown",
   "metadata": {
    "pycharm": {
     "name": "#%% md\n"
    },
    "slideshow": {
     "slide_type": "fragment"
    }
   },
   "source": [
    "`$ PYTHONASYNCIODEBUG=1 python asyncio_program_to_debug.py`"
   ]
  },
  {
   "cell_type": "markdown",
   "metadata": {
    "pycharm": {
     "name": "#%% md\n"
    },
    "slideshow": {
     "slide_type": "fragment"
    }
   },
   "source": [
    "https://docs.python.org/3/library/asyncio-dev.html"
   ]
  },
  {
   "cell_type": "markdown",
   "metadata": {
    "pycharm": {
     "name": "#%% md\n"
    },
    "slideshow": {
     "slide_type": "slide"
    }
   },
   "source": [
    "# Спасибо за внимание!"
   ]
  }
 ],
 "metadata": {
  "celltoolbar": "Slideshow",
  "kernelspec": {
   "display_name": "Python 3 (ipykernel)",
   "language": "python",
   "name": "python3"
  },
  "language_info": {
   "codemirror_mode": {
    "name": "ipython",
    "version": 3
   },
   "file_extension": ".py",
   "mimetype": "text/x-python",
   "name": "python",
   "nbconvert_exporter": "python",
   "pygments_lexer": "ipython3",
   "version": "3.11.0"
  },
  "rise": {
   "enable_chalkboard": true,
   "footer": "<p style=\"margin: 5px; color: #a0a0a0\">YSDA Python Course</p>",
   "scroll": true,
   "start_slideshow_at": "selected",
   "theme": "serif",
   "transition": "none"
  }
 },
 "nbformat": 4,
 "nbformat_minor": 1
}
