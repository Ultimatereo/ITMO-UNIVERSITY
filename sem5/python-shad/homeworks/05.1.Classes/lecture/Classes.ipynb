{
 "cells": [
  {
   "cell_type": "markdown",
   "metadata": {
    "pycharm": {
     "name": "#%% md\n"
    },
    "slideshow": {
     "slide_type": "slide"
    }
   },
   "source": [
    "<center>\n",
    "    <img src=\"https://upload.wikimedia.org/wikipedia/commons/a/a8/%D0%9B%D0%9E%D0%93%D0%9E_%D0%A8%D0%90%D0%94.png\" width=500px/>\n",
    "    <font>Python 2022</font><br/>\n",
    "    <br/>\n",
    "    <br/>\n",
    "    <b style=\"font-size: 2em\">Классы</b><br/>\n",
    "    <br/>\n",
    "    <font>Дарима Мылзенова</font><br/>\n",
    "</center>"
   ]
  },
  {
   "cell_type": "markdown",
   "metadata": {
    "slideshow": {
     "slide_type": "slide"
    }
   },
   "source": [
    "## План лекции\n",
    "* Пара слов про ООП\n",
    "* Синтаксис классов, переменные, методы, staticmethod, classmethod, property\n",
    "* Антипатерны - как делать не надо\n",
    "* Dunder methods explained \n",
    "* Полезности - dataclass и Enum\n",
    "* Наследование и MRO"
   ]
  },
  {
   "cell_type": "markdown",
   "metadata": {
    "pycharm": {
     "name": "#%% md\n"
    },
    "slideshow": {
     "slide_type": "slide"
    }
   },
   "source": [
    "## Бла-бла-бла про ООП\n",
    "\n",
    "* Инкапсуляция\n",
    "* Абстракция\n",
    "* Наследование\n",
    "* Полиморфизм\n",
    "\n",
    "Прикольная статья https://www.freecodecamp.org/news/object-oriented-programming-concepts-21bb035f7260/"
   ]
  },
  {
   "cell_type": "markdown",
   "metadata": {
    "slideshow": {
     "slide_type": "slide"
    }
   },
   "source": [
    "## Инкапсуляция\n",
    "<img src=\"images/cat.png\" alt=\"unfunny meme again\"/>"
   ]
  },
  {
   "cell_type": "markdown",
   "metadata": {
    "slideshow": {
     "slide_type": "slide"
    }
   },
   "source": [
    "## Абстракция \n",
    "<img src=\"images/phone.png\" alt=\"unfunny meme again\"/>"
   ]
  },
  {
   "cell_type": "markdown",
   "metadata": {
    "slideshow": {
     "slide_type": "slide"
    }
   },
   "source": [
    "## Наследование\n",
    "<img src=\"images/teacher.png\" alt=\"unfunny meme again\"/>"
   ]
  },
  {
   "cell_type": "markdown",
   "metadata": {
    "slideshow": {
     "slide_type": "slide"
    }
   },
   "source": [
    "## Полиморфизм\n",
    "<img src=\"images/figures.png\"  alt=\"unfunny meme again\"/>"
   ]
  },
  {
   "cell_type": "markdown",
   "metadata": {
    "pycharm": {
     "name": "#%% md\n"
    },
    "slideshow": {
     "slide_type": "slide"
    }
   },
   "source": [
    "### Тип → Класс → Объект\n",
    "\n",
    "* **Тип**    - контракт на набор значений и операций над ними\n",
    "* **Класс**  - конкретная реализация типа\n",
    "* **Объект** - экземпляр (instance) класса\n",
    "\n",
    "Что-то близкое описано в первом абзаце любимой доки\n",
    "https://docs.python.org/3/tutorial/classes.html\n",
    "Можно еще почитать [в бложике](https://blog.kotlin-academy.com/programmer-dictionary-class-vs-type-vs-object-e6d1f74d1e2e)"
   ]
  },
  {
   "cell_type": "markdown",
   "metadata": {
    "pycharm": {
     "name": "#%% md\n"
    },
    "slideshow": {
     "slide_type": "slide"
    }
   },
   "source": [
    "### Примеры типов, классов и объектов?"
   ]
  },
  {
   "cell_type": "markdown",
   "metadata": {
    "pycharm": {
     "name": "#%% md\n"
    },
    "slideshow": {
     "slide_type": "-"
    }
   },
   "source": [
    "\"Логический тип\" → bool → True, False\n",
    "\n",
    "\"Целочисленный тип\" → int → 1, 2, 3\n",
    "\n",
    "\"Строковый тип\" → str → \"hello\", \"world\". \n",
    "\n",
    "\"Множество\" → set → {1, 2, 3}, {4, 5, 6}\n",
    "\n",
    "\"Упорядоченный набор фиксированной длины\" → tuple → (1, 2, 3), (3, 4)\n",
    "\n",
    "\"Питоновский класс\" → type → int, str, float"
   ]
  },
  {
   "cell_type": "markdown",
   "metadata": {
    "pycharm": {
     "name": "#%% md\n"
    },
    "slideshow": {
     "slide_type": "slide"
    }
   },
   "source": [
    "### Инстансы/классы базовых типов"
   ]
  },
  {
   "cell_type": "code",
   "execution_count": 1,
   "metadata": {
    "ExecuteTime": {
     "end_time": "2024-01-07T07:01:25.826750100Z",
     "start_time": "2024-01-07T07:01:10.768674600Z"
    },
    "pycharm": {
     "name": "#%%\n"
    },
    "slideshow": {
     "slide_type": "-"
    }
   },
   "outputs": [
    {
     "data": {
      "text/plain": [
       "(int, int)"
      ]
     },
     "execution_count": 1,
     "metadata": {},
     "output_type": "execute_result"
    }
   ],
   "source": [
    "# Инстанс\n",
    "1\n",
    "\n",
    "# Класс/тип\n",
    "(1).__class__, type(1)"
   ]
  },
  {
   "cell_type": "code",
   "execution_count": 2,
   "metadata": {
    "ExecuteTime": {
     "end_time": "2024-01-07T07:01:25.838778500Z",
     "start_time": "2024-01-07T07:01:10.786677400Z"
    },
    "pycharm": {
     "name": "#%%\n"
    },
    "slideshow": {
     "slide_type": "-"
    }
   },
   "outputs": [
    {
     "data": {
      "text/plain": [
       "(tuple, tuple)"
      ]
     },
     "execution_count": 2,
     "metadata": {},
     "output_type": "execute_result"
    }
   ],
   "source": [
    "# Инстанс класса tuple \n",
    "t = tuple()\n",
    "\n",
    "# Класс tuple\n",
    "t.__class__, type(t)"
   ]
  },
  {
   "cell_type": "markdown",
   "metadata": {
    "pycharm": {
     "name": "#%% md\n"
    },
    "slideshow": {
     "slide_type": "slide"
    }
   },
   "source": [
    "<img src=\"images/geraklit.png\" width=\"500\" alt=\"unfunny meme again\"/>"
   ]
  },
  {
   "cell_type": "markdown",
   "metadata": {
    "pycharm": {
     "name": "#%% md\n"
    },
    "slideshow": {
     "slide_type": "skip"
    }
   },
   "source": [
    "### Инстансы/классы базовых типов (2)"
   ]
  },
  {
   "cell_type": "code",
   "execution_count": 3,
   "metadata": {
    "ExecuteTime": {
     "end_time": "2024-01-07T07:01:25.839772900Z",
     "start_time": "2024-01-07T07:01:10.801218100Z"
    },
    "pycharm": {
     "name": "#%%\n"
    },
    "slideshow": {
     "slide_type": "-"
    }
   },
   "outputs": [
    {
     "data": {
      "text/plain": [
       "(type, type, type)"
      ]
     },
     "execution_count": 3,
     "metadata": {},
     "output_type": "execute_result"
    }
   ],
   "source": [
    "# Инстанс\n",
    "int\n",
    "\n",
    "# Класс/тип\n",
    "(int).__class__, type(int), type(type)"
   ]
  },
  {
   "cell_type": "code",
   "execution_count": 3,
   "metadata": {
    "ExecuteTime": {
     "end_time": "2024-01-07T07:01:25.839772900Z",
     "start_time": "2024-01-07T07:01:10.821456400Z"
    }
   },
   "outputs": [],
   "source": []
  },
  {
   "cell_type": "markdown",
   "metadata": {
    "pycharm": {
     "name": "#%% md\n"
    },
    "slideshow": {
     "slide_type": "slide"
    }
   },
   "source": [
    "### Инстансы/классы созданные нами"
   ]
  },
  {
   "cell_type": "code",
   "execution_count": 4,
   "metadata": {
    "ExecuteTime": {
     "end_time": "2024-01-07T07:01:25.840776900Z",
     "start_time": "2024-01-07T07:01:10.833474100Z"
    },
    "pycharm": {
     "name": "#%%\n"
    },
    "slideshow": {
     "slide_type": "-"
    }
   },
   "outputs": [],
   "source": [
    "# Класс ThisIsASampleClass\n",
    "class ThisIsASampleClass:\n",
    "    pass\n",
    "\n",
    "# Инстансы класса ThisIsASampleClass\n",
    "a = ThisIsASampleClass(); b = ThisIsASampleClass()"
   ]
  },
  {
   "cell_type": "code",
   "execution_count": 5,
   "metadata": {
    "ExecuteTime": {
     "end_time": "2024-01-07T07:01:25.841778400Z",
     "start_time": "2024-01-07T07:01:10.846396900Z"
    },
    "pycharm": {
     "name": "#%%\n"
    },
    "slideshow": {
     "slide_type": "-"
    }
   },
   "outputs": [
    {
     "data": {
      "text/plain": [
       "(__main__.ThisIsASampleClass, __main__.ThisIsASampleClass, type)"
      ]
     },
     "execution_count": 5,
     "metadata": {},
     "output_type": "execute_result"
    }
   ],
   "source": [
    "a.__class__, b.__class__, ThisIsASampleClass.__class__"
   ]
  },
  {
   "cell_type": "markdown",
   "metadata": {
    "pycharm": {
     "name": "#%% md\n"
    },
    "slideshow": {
     "slide_type": "slide"
    }
   },
   "source": [
    "### Классы → Синтаксис"
   ]
  },
  {
   "cell_type": "code",
   "execution_count": 6,
   "metadata": {
    "ExecuteTime": {
     "end_time": "2024-01-07T07:01:25.841778400Z",
     "start_time": "2024-01-07T07:01:10.860397900Z"
    },
    "pycharm": {
     "name": "#%%\n"
    },
    "slideshow": {
     "slide_type": "-"
    }
   },
   "outputs": [],
   "source": [
    "class A:\n",
    "    X = 10                       # Переменная класса\n",
    "\n",
    "    def __init__(self, x: int):  # Инициализация состояния инстанса self\n",
    "        self._x = x              # Переменная инстанса self\n",
    "    \n",
    "    def foo(self) -> None:       # Метод класса\n",
    "        self._x += 1             # Обновление переменной инстанса self\n",
    "        \n",
    "    @staticmethod                # Статический метод класса\n",
    "    def bar() -> str:            # ! Не передаем инстанс self\n",
    "        return \"bar\"\n",
    "    \n",
    "    @classmethod                 # Класс-метод класса\n",
    "    def baz(cls: type) -> str:   # ! Вместо инстанса self передается класс cls\n",
    "        return cls.__name__\n",
    "    \n",
    "    @property                    # Проперти-метод класса\n",
    "    def x(self) -> int:            \n",
    "        return self._x\n",
    "    \n",
    "    @x.setter                    # Сеттер-проперти метод класса\n",
    "    def x(self, x: int) -> None:\n",
    "        self_x = x"
   ]
  },
  {
   "cell_type": "markdown",
   "metadata": {
    "pycharm": {
     "name": "#%% md\n"
    },
    "slideshow": {
     "slide_type": "slide"
    }
   },
   "source": [
    "### Объекты → Инстaнцирование"
   ]
  },
  {
   "cell_type": "markdown",
   "metadata": {
    "pycharm": {
     "name": "#%% md\n"
    },
    "slideshow": {
     "slide_type": "-"
    }
   },
   "source": [
    "Создается класс → Конструируется инстанс → Инициализируется инстанс"
   ]
  },
  {
   "cell_type": "code",
   "execution_count": 7,
   "metadata": {
    "ExecuteTime": {
     "end_time": "2024-01-07T07:01:25.867320600Z",
     "start_time": "2024-01-07T07:01:10.870748100Z"
    },
    "pycharm": {
     "name": "#%%\n"
    },
    "slideshow": {
     "slide_type": "-"
    }
   },
   "outputs": [],
   "source": [
    "class A:\n",
    "    \"\"\"My class A\"\"\"\n",
    "    def __init__(self): # != __new__ \n",
    "        print(f\"Called init, {self}\")\n",
    "    \n",
    "    def foo(self):\n",
    "        print(f\"Called foo, {self}\")\n",
    "        "
   ]
  },
  {
   "cell_type": "code",
   "execution_count": 7,
   "metadata": {
    "ExecuteTime": {
     "end_time": "2024-01-07T07:01:25.869324800Z",
     "start_time": "2024-01-07T07:01:10.883118900Z"
    }
   },
   "outputs": [],
   "source": []
  },
  {
   "cell_type": "code",
   "execution_count": 8,
   "metadata": {
    "ExecuteTime": {
     "end_time": "2024-01-07T07:01:25.869324800Z",
     "start_time": "2024-01-07T07:01:10.898110500Z"
    },
    "pycharm": {
     "name": "#%%\n"
    },
    "slideshow": {
     "slide_type": "-"
    }
   },
   "outputs": [
    {
     "name": "stdout",
     "output_type": "stream",
     "text": [
      "Called init, <__main__.A object at 0x0000025F6B9C4910>\n",
      "Called init, <__main__.A object at 0x0000025F6B9B61D0>\n"
     ]
    }
   ],
   "source": [
    "a = A(); b = A()"
   ]
  },
  {
   "cell_type": "code",
   "execution_count": 8,
   "metadata": {
    "ExecuteTime": {
     "end_time": "2024-01-07T07:01:25.870327900Z",
     "start_time": "2024-01-07T07:01:10.919126700Z"
    }
   },
   "outputs": [],
   "source": []
  },
  {
   "cell_type": "markdown",
   "metadata": {
    "pycharm": {
     "name": "#%% md\n"
    },
    "slideshow": {
     "slide_type": "slide"
    }
   },
   "source": [
    "### Объекты → Переменные объекта"
   ]
  },
  {
   "cell_type": "code",
   "execution_count": 9,
   "metadata": {
    "ExecuteTime": {
     "end_time": "2024-01-07T07:01:25.871324100Z",
     "start_time": "2024-01-07T07:01:10.929157300Z"
    },
    "pycharm": {
     "name": "#%%\n"
    },
    "slideshow": {
     "slide_type": "-"
    }
   },
   "outputs": [],
   "source": [
    "class A:\n",
    "    def __init__(self, x: int):\n",
    "        self.x = x\n",
    "        \n",
    "a = A(1); b = A(2)"
   ]
  },
  {
   "cell_type": "code",
   "execution_count": 10,
   "metadata": {
    "ExecuteTime": {
     "end_time": "2024-01-07T07:01:25.871324100Z",
     "start_time": "2024-01-07T07:01:10.938153100Z"
    },
    "pycharm": {
     "name": "#%%\n"
    },
    "slideshow": {
     "slide_type": "-"
    }
   },
   "outputs": [
    {
     "data": {
      "text/plain": [
       "(1, 2)"
      ]
     },
     "execution_count": 10,
     "metadata": {},
     "output_type": "execute_result"
    }
   ],
   "source": [
    "a.x, b.x"
   ]
  },
  {
   "cell_type": "code",
   "execution_count": 11,
   "metadata": {
    "ExecuteTime": {
     "end_time": "2024-01-07T07:01:25.875318600Z",
     "start_time": "2024-01-07T07:01:10.955898200Z"
    },
    "pycharm": {
     "name": "#%%\n"
    },
    "slideshow": {
     "slide_type": "-"
    }
   },
   "outputs": [
    {
     "data": {
      "text/plain": [
       "({'x': 1}, {'x': 2})"
      ]
     },
     "execution_count": 11,
     "metadata": {},
     "output_type": "execute_result"
    }
   ],
   "source": [
    "a.__dict__, b.__dict__"
   ]
  },
  {
   "cell_type": "markdown",
   "metadata": {
    "pycharm": {
     "name": "#%% md\n"
    },
    "slideshow": {
     "slide_type": "slide"
    }
   },
   "source": [
    "### Объекты → Переменные объекта → Обновление"
   ]
  },
  {
   "cell_type": "code",
   "execution_count": 12,
   "metadata": {
    "ExecuteTime": {
     "end_time": "2024-01-07T07:01:25.875318600Z",
     "start_time": "2024-01-07T07:01:10.970303300Z"
    },
    "pycharm": {
     "name": "#%%\n"
    },
    "slideshow": {
     "slide_type": "-"
    }
   },
   "outputs": [],
   "source": [
    "class A:\n",
    "    def __init__(self, x: int):\n",
    "        self.x = x\n",
    "        \n",
    "a = A(1); b = A(2)\n",
    "a.x = 3"
   ]
  },
  {
   "cell_type": "code",
   "execution_count": 13,
   "metadata": {
    "ExecuteTime": {
     "end_time": "2024-01-07T07:01:25.876330200Z",
     "start_time": "2024-01-07T07:01:10.983732300Z"
    },
    "pycharm": {
     "name": "#%%\n"
    },
    "slideshow": {
     "slide_type": "-"
    }
   },
   "outputs": [
    {
     "data": {
      "text/plain": [
       "({'x': 3}, {'x': 2})"
      ]
     },
     "execution_count": 13,
     "metadata": {},
     "output_type": "execute_result"
    }
   ],
   "source": [
    "a.__dict__, b.__dict__"
   ]
  },
  {
   "cell_type": "markdown",
   "metadata": {
    "pycharm": {
     "name": "#%% md\n"
    },
    "slideshow": {
     "slide_type": "slide"
    }
   },
   "source": [
    "### Классы → Атрибуты"
   ]
  },
  {
   "cell_type": "code",
   "execution_count": 14,
   "metadata": {
    "ExecuteTime": {
     "end_time": "2024-01-07T07:01:25.879329700Z",
     "start_time": "2024-01-07T07:01:10.997733200Z"
    },
    "pycharm": {
     "name": "#%%\n"
    },
    "slideshow": {
     "slide_type": "-"
    }
   },
   "outputs": [],
   "source": [
    "# Класс А\n",
    "class A:\n",
    "    \"\"\"My class A\"\"\"\n",
    "\n",
    "# Инстансы класса А\n",
    "a = A(); b = A()"
   ]
  },
  {
   "cell_type": "code",
   "execution_count": 15,
   "metadata": {
    "ExecuteTime": {
     "end_time": "2024-01-07T07:01:25.880329500Z",
     "start_time": "2024-01-07T07:01:11.008712700Z"
    },
    "pycharm": {
     "name": "#%%\n"
    },
    "slideshow": {
     "slide_type": "-"
    }
   },
   "outputs": [
    {
     "data": {
      "text/plain": [
       "mappingproxy({'__module__': '__main__',\n",
       "              '__doc__': 'My class A',\n",
       "              '__dict__': <attribute '__dict__' of 'A' objects>,\n",
       "              '__weakref__': <attribute '__weakref__' of 'A' objects>})"
      ]
     },
     "execution_count": 15,
     "metadata": {},
     "output_type": "execute_result"
    }
   ],
   "source": [
    "# Атрибуты класса\n",
    "A.__dict__"
   ]
  },
  {
   "cell_type": "code",
   "execution_count": 16,
   "metadata": {
    "ExecuteTime": {
     "end_time": "2024-01-07T07:01:25.882338500Z",
     "start_time": "2024-01-07T07:01:11.035446500Z"
    },
    "pycharm": {
     "name": "#%%\n"
    },
    "slideshow": {
     "slide_type": "-"
    }
   },
   "outputs": [
    {
     "data": {
      "text/plain": [
       "({}, {})"
      ]
     },
     "execution_count": 16,
     "metadata": {},
     "output_type": "execute_result"
    }
   ],
   "source": [
    "# Атрибуты объекта\n",
    "a.__dict__, b.__dict__"
   ]
  },
  {
   "cell_type": "code",
   "execution_count": 17,
   "metadata": {
    "ExecuteTime": {
     "end_time": "2024-01-07T07:01:25.884318900Z",
     "start_time": "2024-01-07T07:01:11.049990500Z"
    },
    "cell_style": "center",
    "pycharm": {
     "name": "#%%\n"
    },
    "slideshow": {
     "slide_type": "-"
    }
   },
   "outputs": [],
   "source": [
    "# Что в аттрибутах?\n",
    "# A { }\n",
    "#          ---> a { }\n",
    "#          ---> b { }"
   ]
  },
  {
   "cell_type": "markdown",
   "metadata": {
    "pycharm": {
     "name": "#%% md\n"
    },
    "slideshow": {
     "slide_type": "-"
    }
   },
   "source": [
    "Все атрибуты класса доступны из объекта"
   ]
  },
  {
   "cell_type": "code",
   "execution_count": 18,
   "metadata": {
    "ExecuteTime": {
     "end_time": "2024-01-07T07:01:25.885327600Z",
     "start_time": "2024-01-07T07:01:11.055988500Z"
    },
    "pycharm": {
     "name": "#%%\n"
    },
    "slideshow": {
     "slide_type": "-"
    }
   },
   "outputs": [
    {
     "data": {
      "text/plain": [
       "('My class A', 'My class A', 'My class A')"
      ]
     },
     "execution_count": 18,
     "metadata": {},
     "output_type": "execute_result"
    }
   ],
   "source": [
    "A.__doc__, a.__doc__, getattr(a, '__doc__')"
   ]
  },
  {
   "cell_type": "markdown",
   "metadata": {
    "pycharm": {
     "name": "#%% md\n"
    },
    "slideshow": {
     "slide_type": "slide"
    }
   },
   "source": [
    "### Классы → Методы класса"
   ]
  },
  {
   "cell_type": "code",
   "execution_count": 19,
   "metadata": {
    "ExecuteTime": {
     "end_time": "2024-01-07T07:01:25.887323400Z",
     "start_time": "2024-01-07T07:01:11.072453700Z"
    },
    "pycharm": {
     "name": "#%%\n"
    },
    "slideshow": {
     "slide_type": "-"
    }
   },
   "outputs": [],
   "source": [
    "class A:\n",
    "    def __init__(self, x1: int):\n",
    "        self.y, self.z = None, None\n",
    "        self.x = x1\n",
    "        \n",
    "    def foo(self) -> None:\n",
    "        self.x += 1\n",
    "\n",
    "a = A(1); b = A(2)\n",
    "b.foo()"
   ]
  },
  {
   "cell_type": "code",
   "execution_count": 20,
   "metadata": {
    "ExecuteTime": {
     "end_time": "2024-01-07T07:01:25.887323400Z",
     "start_time": "2024-01-07T07:01:11.088850600Z"
    },
    "pycharm": {
     "name": "#%%\n"
    },
    "slideshow": {
     "slide_type": "-"
    }
   },
   "outputs": [],
   "source": [
    "# Что в аттрибутах?\n",
    "# A {  } \n",
    "#          ---> a { }\n",
    "#          ---> b { }"
   ]
  },
  {
   "cell_type": "code",
   "execution_count": 21,
   "metadata": {
    "ExecuteTime": {
     "end_time": "2024-01-07T07:01:25.888332300Z",
     "start_time": "2024-01-07T07:01:11.104619900Z"
    },
    "pycharm": {
     "name": "#%%\n"
    },
    "slideshow": {
     "slide_type": "-"
    }
   },
   "outputs": [
    {
     "data": {
      "text/plain": [
       "mappingproxy({'__module__': '__main__',\n",
       "              '__init__': <function __main__.A.__init__(self, x1: int)>,\n",
       "              'foo': <function __main__.A.foo(self) -> None>,\n",
       "              '__dict__': <attribute '__dict__' of 'A' objects>,\n",
       "              '__weakref__': <attribute '__weakref__' of 'A' objects>,\n",
       "              '__doc__': None})"
      ]
     },
     "execution_count": 21,
     "metadata": {},
     "output_type": "execute_result"
    }
   ],
   "source": [
    "A.__dict__"
   ]
  },
  {
   "cell_type": "code",
   "execution_count": 22,
   "metadata": {
    "ExecuteTime": {
     "end_time": "2024-01-07T07:01:25.889329300Z",
     "start_time": "2024-01-07T07:01:11.122586600Z"
    },
    "pycharm": {
     "name": "#%%\n"
    },
    "slideshow": {
     "slide_type": "-"
    }
   },
   "outputs": [
    {
     "data": {
      "text/plain": [
       "({'y': None, 'z': None, 'x': 1}, {'y': None, 'z': None, 'x': 3})"
      ]
     },
     "execution_count": 22,
     "metadata": {},
     "output_type": "execute_result"
    }
   ],
   "source": [
    "a.__dict__, b.__dict__"
   ]
  },
  {
   "cell_type": "code",
   "execution_count": 23,
   "metadata": {
    "ExecuteTime": {
     "end_time": "2024-01-07T07:01:25.893326100Z",
     "start_time": "2024-01-07T07:01:11.136116800Z"
    },
    "pycharm": {
     "name": "#%%\n"
    },
    "slideshow": {
     "slide_type": "-"
    }
   },
   "outputs": [],
   "source": [
    "# Как вызвать foo напрямую из класса?\n",
    "A.foo(a)"
   ]
  },
  {
   "cell_type": "code",
   "execution_count": 24,
   "metadata": {
    "ExecuteTime": {
     "end_time": "2024-01-07T07:01:25.894324100Z",
     "start_time": "2024-01-07T07:01:11.149873500Z"
    },
    "pycharm": {
     "name": "#%%\n"
    },
    "slideshow": {
     "slide_type": "-"
    }
   },
   "outputs": [
    {
     "data": {
      "text/plain": [
       "{'y': None, 'z': None, 'x': 2}"
      ]
     },
     "execution_count": 24,
     "metadata": {},
     "output_type": "execute_result"
    }
   ],
   "source": [
    "a.__dict__"
   ]
  },
  {
   "cell_type": "markdown",
   "metadata": {
    "pycharm": {
     "name": "#%% md\n"
    },
    "slideshow": {
     "slide_type": "slide"
    }
   },
   "source": [
    "### Классы → Переменные класса"
   ]
  },
  {
   "cell_type": "code",
   "execution_count": 25,
   "metadata": {
    "ExecuteTime": {
     "end_time": "2024-01-07T07:01:25.895327600Z",
     "start_time": "2024-01-07T07:01:11.166870900Z"
    },
    "pycharm": {
     "name": "#%%\n"
    },
    "slideshow": {
     "slide_type": "-"
    }
   },
   "outputs": [],
   "source": [
    "class A:\n",
    "    GRAVITY: float = 9.81\n",
    "\n",
    "a = A(); b = A()"
   ]
  },
  {
   "cell_type": "code",
   "execution_count": 26,
   "metadata": {
    "ExecuteTime": {
     "end_time": "2024-01-07T07:01:25.895327600Z",
     "start_time": "2024-01-07T07:01:11.183588100Z"
    },
    "pycharm": {
     "name": "#%%\n"
    },
    "slideshow": {
     "slide_type": "-"
    }
   },
   "outputs": [],
   "source": [
    "# Что в аттрибутах?\n",
    "# A {  } \n",
    "#          ---> a { }\n",
    "#          ---> b { }"
   ]
  },
  {
   "cell_type": "code",
   "execution_count": 27,
   "metadata": {
    "ExecuteTime": {
     "end_time": "2024-01-07T07:01:25.897325Z",
     "start_time": "2024-01-07T07:01:11.202910300Z"
    },
    "pycharm": {
     "name": "#%%\n"
    },
    "slideshow": {
     "slide_type": "-"
    }
   },
   "outputs": [
    {
     "data": {
      "text/plain": [
       "mappingproxy({'__module__': '__main__',\n",
       "              '__annotations__': {'GRAVITY': float},\n",
       "              'GRAVITY': 9.81,\n",
       "              '__dict__': <attribute '__dict__' of 'A' objects>,\n",
       "              '__weakref__': <attribute '__weakref__' of 'A' objects>,\n",
       "              '__doc__': None})"
      ]
     },
     "execution_count": 27,
     "metadata": {},
     "output_type": "execute_result"
    }
   ],
   "source": [
    "A.__dict__"
   ]
  },
  {
   "cell_type": "code",
   "execution_count": 28,
   "metadata": {
    "ExecuteTime": {
     "end_time": "2024-01-07T07:01:25.899323Z",
     "start_time": "2024-01-07T07:01:11.223864800Z"
    },
    "pycharm": {
     "name": "#%%\n"
    },
    "slideshow": {
     "slide_type": "-"
    }
   },
   "outputs": [
    {
     "data": {
      "text/plain": [
       "({}, {})"
      ]
     },
     "execution_count": 28,
     "metadata": {},
     "output_type": "execute_result"
    }
   ],
   "source": [
    "a.__dict__, b.__dict__"
   ]
  },
  {
   "cell_type": "code",
   "execution_count": 29,
   "metadata": {
    "ExecuteTime": {
     "end_time": "2024-01-07T07:01:25.901322Z",
     "start_time": "2024-01-07T07:01:11.243694200Z"
    },
    "pycharm": {
     "name": "#%%\n"
    },
    "slideshow": {
     "slide_type": "-"
    }
   },
   "outputs": [
    {
     "data": {
      "text/plain": [
       "(9.81, 9.81)"
      ]
     },
     "execution_count": 29,
     "metadata": {},
     "output_type": "execute_result"
    }
   ],
   "source": [
    "# Как доступиться к X?\n",
    "A.GRAVITY, a.GRAVITY"
   ]
  },
  {
   "cell_type": "markdown",
   "metadata": {
    "pycharm": {
     "name": "#%% md\n"
    },
    "slideshow": {
     "slide_type": "slide"
    }
   },
   "source": [
    "### Классы → Переменные класса → Обновление "
   ]
  },
  {
   "cell_type": "code",
   "execution_count": 30,
   "metadata": {
    "ExecuteTime": {
     "end_time": "2024-01-07T07:01:25.902326700Z",
     "start_time": "2024-01-07T07:01:11.268771200Z"
    },
    "pycharm": {
     "name": "#%%\n"
    },
    "slideshow": {
     "slide_type": "-"
    }
   },
   "outputs": [],
   "source": [
    "class A:\n",
    "    GRAVITY: int = 9.81\n",
    "\n",
    "a = A(); b = A()\n",
    "A.GRAVITY = 3.86"
   ]
  },
  {
   "cell_type": "code",
   "execution_count": 31,
   "metadata": {
    "ExecuteTime": {
     "end_time": "2024-01-07T07:01:25.902326700Z",
     "start_time": "2024-01-07T07:01:11.289370500Z"
    },
    "pycharm": {
     "name": "#%%\n"
    },
    "slideshow": {
     "slide_type": "-"
    }
   },
   "outputs": [],
   "source": [
    "# Что в аттрибутах?\n",
    "# A {  } \n",
    "#          ---> a { }\n",
    "#          ---> b { }"
   ]
  },
  {
   "cell_type": "code",
   "execution_count": 32,
   "metadata": {
    "ExecuteTime": {
     "end_time": "2024-01-07T07:01:25.903329600Z",
     "start_time": "2024-01-07T07:01:11.302280100Z"
    },
    "pycharm": {
     "name": "#%%\n"
    },
    "slideshow": {
     "slide_type": "-"
    }
   },
   "outputs": [
    {
     "data": {
      "text/plain": [
       "mappingproxy({'__module__': '__main__',\n",
       "              '__annotations__': {'GRAVITY': int},\n",
       "              'GRAVITY': 3.86,\n",
       "              '__dict__': <attribute '__dict__' of 'A' objects>,\n",
       "              '__weakref__': <attribute '__weakref__' of 'A' objects>,\n",
       "              '__doc__': None})"
      ]
     },
     "execution_count": 32,
     "metadata": {},
     "output_type": "execute_result"
    }
   ],
   "source": [
    "A.__dict__"
   ]
  },
  {
   "cell_type": "code",
   "execution_count": 33,
   "metadata": {
    "ExecuteTime": {
     "end_time": "2024-01-07T07:01:25.904334800Z",
     "start_time": "2024-01-07T07:01:11.325371Z"
    },
    "pycharm": {
     "name": "#%%\n"
    },
    "slideshow": {
     "slide_type": "-"
    }
   },
   "outputs": [
    {
     "data": {
      "text/plain": [
       "({}, {})"
      ]
     },
     "execution_count": 33,
     "metadata": {},
     "output_type": "execute_result"
    }
   ],
   "source": [
    "a.__dict__, b.__dict__"
   ]
  },
  {
   "cell_type": "code",
   "execution_count": 34,
   "metadata": {
    "ExecuteTime": {
     "end_time": "2024-01-07T07:01:25.906336700Z",
     "start_time": "2024-01-07T07:01:11.341770400Z"
    },
    "pycharm": {
     "name": "#%%\n"
    },
    "slideshow": {
     "slide_type": "-"
    }
   },
   "outputs": [
    {
     "data": {
      "text/plain": [
       "(3.86, 3.86, 3.86)"
      ]
     },
     "execution_count": 34,
     "metadata": {},
     "output_type": "execute_result"
    }
   ],
   "source": [
    "# Как доступиться до переменной X класса?\n",
    "a.GRAVITY, b.GRAVITY, A.GRAVITY"
   ]
  },
  {
   "cell_type": "markdown",
   "metadata": {
    "pycharm": {
     "name": "#%% md\n"
    },
    "slideshow": {
     "slide_type": "slide"
    }
   },
   "source": [
    "### Классы → Переменные класса → Коллизия с переменными объекта "
   ]
  },
  {
   "cell_type": "code",
   "execution_count": 35,
   "metadata": {
    "ExecuteTime": {
     "end_time": "2024-01-07T07:01:25.906336700Z",
     "start_time": "2024-01-07T07:01:11.362361300Z"
    },
    "pycharm": {
     "name": "#%%\n"
    },
    "slideshow": {
     "slide_type": "-"
    }
   },
   "outputs": [],
   "source": [
    "class A:\n",
    "    GRAVITY: int = 9.81\n",
    "    def __init__(self):\n",
    "        self.GRAVITY = 5\n",
    "\n",
    "a = A(); b = A()"
   ]
  },
  {
   "cell_type": "code",
   "execution_count": 36,
   "metadata": {
    "ExecuteTime": {
     "end_time": "2024-01-07T07:01:25.907321600Z",
     "start_time": "2024-01-07T07:01:11.378146Z"
    },
    "pycharm": {
     "name": "#%%\n"
    },
    "slideshow": {
     "slide_type": "-"
    }
   },
   "outputs": [],
   "source": [
    "# Что в аттрибутах?\n",
    "# A {  } \n",
    "#          ---> a { }\n",
    "#          ---> b { }"
   ]
  },
  {
   "cell_type": "code",
   "execution_count": 37,
   "metadata": {
    "ExecuteTime": {
     "end_time": "2024-01-07T07:01:25.908320800Z",
     "start_time": "2024-01-07T07:01:11.397214800Z"
    },
    "pycharm": {
     "name": "#%%\n"
    },
    "slideshow": {
     "slide_type": "-"
    }
   },
   "outputs": [
    {
     "data": {
      "text/plain": [
       "mappingproxy({'__module__': '__main__',\n",
       "              '__annotations__': {'GRAVITY': int},\n",
       "              'GRAVITY': 9.81,\n",
       "              '__init__': <function __main__.A.__init__(self)>,\n",
       "              '__dict__': <attribute '__dict__' of 'A' objects>,\n",
       "              '__weakref__': <attribute '__weakref__' of 'A' objects>,\n",
       "              '__doc__': None})"
      ]
     },
     "execution_count": 37,
     "metadata": {},
     "output_type": "execute_result"
    }
   ],
   "source": [
    "A.__dict__"
   ]
  },
  {
   "cell_type": "code",
   "execution_count": 38,
   "metadata": {
    "ExecuteTime": {
     "end_time": "2024-01-07T07:01:25.909333Z",
     "start_time": "2024-01-07T07:01:11.418844300Z"
    }
   },
   "outputs": [
    {
     "data": {
      "text/plain": [
       "9.81"
      ]
     },
     "execution_count": 38,
     "metadata": {},
     "output_type": "execute_result"
    }
   ],
   "source": [
    "A.GRAVITY"
   ]
  },
  {
   "cell_type": "code",
   "execution_count": 39,
   "metadata": {
    "ExecuteTime": {
     "end_time": "2024-01-07T07:01:25.911325100Z",
     "start_time": "2024-01-07T07:01:11.436988400Z"
    }
   },
   "outputs": [
    {
     "data": {
      "text/plain": [
       "5"
      ]
     },
     "execution_count": 39,
     "metadata": {},
     "output_type": "execute_result"
    }
   ],
   "source": [
    "a.GRAVITY"
   ]
  },
  {
   "cell_type": "code",
   "execution_count": 40,
   "metadata": {
    "ExecuteTime": {
     "end_time": "2024-01-07T07:01:25.912325600Z",
     "start_time": "2024-01-07T07:01:11.464702300Z"
    }
   },
   "outputs": [],
   "source": [
    "a.GRAVITY += 1"
   ]
  },
  {
   "cell_type": "code",
   "execution_count": 41,
   "metadata": {
    "ExecuteTime": {
     "end_time": "2024-01-07T07:01:25.913325300Z",
     "start_time": "2024-01-07T07:01:11.483013200Z"
    },
    "pycharm": {
     "name": "#%%\n"
    },
    "slideshow": {
     "slide_type": "-"
    }
   },
   "outputs": [
    {
     "data": {
      "text/plain": [
       "({'GRAVITY': 6}, {'GRAVITY': 5})"
      ]
     },
     "execution_count": 41,
     "metadata": {},
     "output_type": "execute_result"
    }
   ],
   "source": [
    "a.__dict__, b.__dict__"
   ]
  },
  {
   "cell_type": "code",
   "execution_count": 42,
   "metadata": {
    "ExecuteTime": {
     "end_time": "2024-01-07T07:01:25.915328300Z",
     "start_time": "2024-01-07T07:01:11.505276700Z"
    },
    "pycharm": {
     "name": "#%%\n"
    },
    "slideshow": {
     "slide_type": "fragment"
    }
   },
   "outputs": [
    {
     "data": {
      "text/plain": [
       "(9.81, 9.81)"
      ]
     },
     "execution_count": 42,
     "metadata": {},
     "output_type": "execute_result"
    }
   ],
   "source": [
    "# Как доступиться до переменной X класса?\n",
    "A.GRAVITY, a.__class__.GRAVITY"
   ]
  },
  {
   "cell_type": "markdown",
   "metadata": {
    "pycharm": {
     "name": "#%% md\n"
    },
    "slideshow": {
     "slide_type": "slide"
    }
   },
   "source": [
    "### Классы → @staticmethod"
   ]
  },
  {
   "cell_type": "code",
   "execution_count": 43,
   "metadata": {
    "ExecuteTime": {
     "end_time": "2024-01-07T07:01:25.915328300Z",
     "start_time": "2024-01-07T07:01:11.521830600Z"
    },
    "pycharm": {
     "name": "#%%\n"
    },
    "slideshow": {
     "slide_type": "-"
    }
   },
   "outputs": [],
   "source": [
    "class A:\n",
    "    @staticmethod\n",
    "    def foo() -> int:\n",
    "        return 1\n",
    "\n",
    "a = A(); b = A()"
   ]
  },
  {
   "cell_type": "code",
   "execution_count": 44,
   "metadata": {
    "ExecuteTime": {
     "end_time": "2024-01-07T07:01:25.916319900Z",
     "start_time": "2024-01-07T07:01:11.538747100Z"
    },
    "pycharm": {
     "name": "#%%\n"
    },
    "slideshow": {
     "slide_type": "-"
    }
   },
   "outputs": [],
   "source": [
    "# Что в аттрибутах?\n",
    "# A {  } \n",
    "#          ---> a { }\n",
    "#          ---> b { }"
   ]
  },
  {
   "cell_type": "code",
   "execution_count": 45,
   "metadata": {
    "ExecuteTime": {
     "end_time": "2024-01-07T07:01:25.917333700Z",
     "start_time": "2024-01-07T07:01:11.554463500Z"
    },
    "pycharm": {
     "name": "#%%\n"
    },
    "slideshow": {
     "slide_type": "-"
    }
   },
   "outputs": [
    {
     "data": {
      "text/plain": [
       "mappingproxy({'__module__': '__main__',\n",
       "              'foo': <staticmethod(<function A.foo at 0x0000025F6BA28400>)>,\n",
       "              '__dict__': <attribute '__dict__' of 'A' objects>,\n",
       "              '__weakref__': <attribute '__weakref__' of 'A' objects>,\n",
       "              '__doc__': None})"
      ]
     },
     "execution_count": 45,
     "metadata": {},
     "output_type": "execute_result"
    }
   ],
   "source": [
    "A.__dict__"
   ]
  },
  {
   "cell_type": "code",
   "execution_count": 46,
   "metadata": {
    "ExecuteTime": {
     "end_time": "2024-01-07T07:01:25.919331100Z",
     "start_time": "2024-01-07T07:01:11.587963800Z"
    },
    "pycharm": {
     "name": "#%%\n"
    },
    "slideshow": {
     "slide_type": "-"
    }
   },
   "outputs": [
    {
     "data": {
      "text/plain": [
       "({}, {})"
      ]
     },
     "execution_count": 46,
     "metadata": {},
     "output_type": "execute_result"
    }
   ],
   "source": [
    "a.__dict__, b.__dict__"
   ]
  },
  {
   "cell_type": "code",
   "execution_count": 47,
   "metadata": {
    "ExecuteTime": {
     "end_time": "2024-01-07T07:01:25.920330300Z",
     "start_time": "2024-01-07T07:01:11.615143800Z"
    },
    "pycharm": {
     "name": "#%%\n"
    },
    "slideshow": {
     "slide_type": "-"
    }
   },
   "outputs": [
    {
     "data": {
      "text/plain": [
       "(1, 1)"
      ]
     },
     "execution_count": 47,
     "metadata": {},
     "output_type": "execute_result"
    }
   ],
   "source": [
    "# Как доступиться к foo из класса и инстанса?\n",
    "a.foo(), A.foo()"
   ]
  },
  {
   "cell_type": "markdown",
   "metadata": {
    "pycharm": {
     "name": "#%% md\n"
    },
    "slideshow": {
     "slide_type": "slide"
    }
   },
   "source": [
    "### Классы → @staticmethod → альтернатива __init__"
   ]
  },
  {
   "cell_type": "code",
   "execution_count": 48,
   "metadata": {
    "ExecuteTime": {
     "end_time": "2024-01-07T07:01:25.921331800Z",
     "start_time": "2024-01-07T07:01:11.641699800Z"
    },
    "pycharm": {
     "name": "#%%\n"
    },
    "slideshow": {
     "slide_type": "-"
    }
   },
   "outputs": [
    {
     "ename": "FileNotFoundError",
     "evalue": "[WinError 3] Системе не удается найти указанный путь: '/home/darima/data/EMOvDB/'",
     "output_type": "error",
     "traceback": [
      "\u001b[1;31m---------------------------------------------------------------------------\u001b[0m",
      "\u001b[1;31mFileNotFoundError\u001b[0m                         Traceback (most recent call last)",
      "Cell \u001b[1;32mIn[48], line 20\u001b[0m\n\u001b[0;32m     18\u001b[0m a \u001b[38;5;241m=\u001b[39m A(\u001b[38;5;124m\"\u001b[39m\u001b[38;5;124m/home/phil\u001b[39m\u001b[38;5;124m\"\u001b[39m, \u001b[38;5;124m\"\u001b[39m\u001b[38;5;124mlecture5.ipynb\u001b[39m\u001b[38;5;124m\"\u001b[39m)\n\u001b[0;32m     19\u001b[0m b \u001b[38;5;241m=\u001b[39m A\u001b[38;5;241m.\u001b[39mfrom_path(\u001b[38;5;124m\"\u001b[39m\u001b[38;5;124m/home/ilariia/lecture5.ipynb\u001b[39m\u001b[38;5;124m\"\u001b[39m)\n\u001b[1;32m---> 20\u001b[0m cs \u001b[38;5;241m=\u001b[39m \u001b[43mA\u001b[49m\u001b[38;5;241;43m.\u001b[39;49m\u001b[43mfrom_folder\u001b[49m\u001b[43m(\u001b[49m\u001b[38;5;124;43m\"\u001b[39;49m\u001b[38;5;124;43m/home/darima/data/EMOvDB/\u001b[39;49m\u001b[38;5;124;43m\"\u001b[39;49m\u001b[43m)\u001b[49m\n",
      "Cell \u001b[1;32mIn[48], line 15\u001b[0m, in \u001b[0;36mA.from_folder\u001b[1;34m(folder)\u001b[0m\n\u001b[0;32m     13\u001b[0m \u001b[38;5;129m@staticmethod\u001b[39m\n\u001b[0;32m     14\u001b[0m \u001b[38;5;28;01mdef\u001b[39;00m \u001b[38;5;21mfrom_folder\u001b[39m(folder: \u001b[38;5;28mstr\u001b[39m)\u001b[38;5;241m-\u001b[39m\u001b[38;5;241m>\u001b[39m \u001b[38;5;28mlist\u001b[39m[\u001b[38;5;124m'\u001b[39m\u001b[38;5;124mA\u001b[39m\u001b[38;5;124m'\u001b[39m]:\n\u001b[1;32m---> 15\u001b[0m     \u001b[38;5;28;01mreturn\u001b[39;00m [A(folder, filename) \u001b[38;5;28;01mfor\u001b[39;00m filename \u001b[38;5;129;01min\u001b[39;00m \u001b[43mos\u001b[49m\u001b[38;5;241;43m.\u001b[39;49m\u001b[43mlistdir\u001b[49m\u001b[43m(\u001b[49m\u001b[43mfolder\u001b[49m\u001b[43m)\u001b[49m]\n",
      "\u001b[1;31mFileNotFoundError\u001b[0m: [WinError 3] Системе не удается найти указанный путь: '/home/darima/data/EMOvDB/'"
     ]
    }
   ],
   "source": [
    "import os\n",
    "\n",
    "class A:\n",
    "    def __init__(self, folder: str, file_name: str):\n",
    "        self.folder = folder\n",
    "        self.file_name = file_name\n",
    "    \n",
    "    @staticmethod\n",
    "    def from_path(path: str) -> 'A':\n",
    "        folder, file_name = path.rsplit(\"/\", 1)\n",
    "        return A(folder, file_name)\n",
    "    \n",
    "    @staticmethod\n",
    "    def from_folder(folder: str)-> list['A']:\n",
    "        return [A(folder, filename) for filename in os.listdir(folder)]\n",
    "        \n",
    "\n",
    "a = A(\"/home/phil\", \"lecture5.ipynb\")\n",
    "b = A.from_path(\"/home/ilariia/lecture5.ipynb\")\n",
    "cs = A.from_folder(\"/home/darima/data/EMOvDB/\")"
   ]
  },
  {
   "cell_type": "code",
   "execution_count": null,
   "metadata": {
    "ExecuteTime": {
     "start_time": "2024-01-07T07:01:12.351050700Z"
    },
    "pycharm": {
     "name": "#%%\n"
    },
    "slideshow": {
     "slide_type": "-"
    }
   },
   "outputs": [],
   "source": [
    "a.__dict__"
   ]
  },
  {
   "cell_type": "code",
   "execution_count": null,
   "metadata": {
    "ExecuteTime": {
     "start_time": "2024-01-07T07:01:12.355044800Z"
    },
    "pycharm": {
     "name": "#%%\n"
    },
    "slideshow": {
     "slide_type": "-"
    }
   },
   "outputs": [],
   "source": [
    "b.__dict__"
   ]
  },
  {
   "cell_type": "code",
   "execution_count": null,
   "metadata": {
    "ExecuteTime": {
     "start_time": "2024-01-07T07:01:12.361046100Z"
    },
    "pycharm": {
     "name": "#%%\n"
    },
    "slideshow": {
     "slide_type": "-"
    }
   },
   "outputs": [],
   "source": [
    "for c in cs:\n",
    "    print(c.__dict__)"
   ]
  },
  {
   "cell_type": "markdown",
   "metadata": {
    "pycharm": {
     "name": "#%% md\n"
    },
    "slideshow": {
     "slide_type": "slide"
    }
   },
   "source": [
    "### Классы → @classmethod"
   ]
  },
  {
   "cell_type": "code",
   "execution_count": null,
   "metadata": {
    "ExecuteTime": {
     "start_time": "2024-01-07T07:01:12.368045400Z"
    },
    "pycharm": {
     "name": "#%%\n"
    },
    "slideshow": {
     "slide_type": "-"
    }
   },
   "outputs": [],
   "source": [
    "class A:\n",
    "    @classmethod\n",
    "    def foo(cls):\n",
    "        return cls.__name__\n",
    "\n",
    "a = A(); b = A()"
   ]
  },
  {
   "cell_type": "code",
   "execution_count": null,
   "metadata": {
    "ExecuteTime": {
     "start_time": "2024-01-07T07:01:12.375051400Z"
    },
    "pycharm": {
     "name": "#%%\n"
    },
    "slideshow": {
     "slide_type": "-"
    }
   },
   "outputs": [],
   "source": [
    "A.__dict__"
   ]
  },
  {
   "cell_type": "code",
   "execution_count": null,
   "metadata": {
    "ExecuteTime": {
     "start_time": "2024-01-07T07:01:12.382044800Z"
    },
    "pycharm": {
     "name": "#%%\n"
    },
    "slideshow": {
     "slide_type": "-"
    }
   },
   "outputs": [],
   "source": [
    "a.__dict__, b.__dict__"
   ]
  },
  {
   "cell_type": "code",
   "execution_count": null,
   "metadata": {
    "ExecuteTime": {
     "start_time": "2024-01-07T07:01:12.390059900Z"
    },
    "pycharm": {
     "name": "#%%\n"
    },
    "slideshow": {
     "slide_type": "-"
    }
   },
   "outputs": [],
   "source": [
    "# Как доступиться к foo из класса и инстанса?\n",
    "a.foo(), A.foo()"
   ]
  },
  {
   "cell_type": "markdown",
   "metadata": {
    "slideshow": {
     "slide_type": "slide"
    }
   },
   "source": [
    "### Классы → @classmethod  → Пример"
   ]
  },
  {
   "cell_type": "code",
   "execution_count": null,
   "metadata": {
    "ExecuteTime": {
     "start_time": "2024-01-07T07:01:12.400046300Z"
    },
    "slideshow": {
     "slide_type": "-"
    }
   },
   "outputs": [],
   "source": [
    "class A:\n",
    "    Y = 10\n",
    "\n",
    "    @classmethod\n",
    "    def print_y(cls):\n",
    "        return f\"{cls.__name__} has Y={cls.Y}\"\n",
    "\n",
    "class B(A):\n",
    "    Y = 20\n",
    "    pass"
   ]
  },
  {
   "cell_type": "code",
   "execution_count": null,
   "metadata": {
    "ExecuteTime": {
     "start_time": "2024-01-07T07:01:12.410051100Z"
    }
   },
   "outputs": [],
   "source": [
    "b = B()\n",
    "a = A()\n",
    "a.print_y(), b.print_y()"
   ]
  },
  {
   "cell_type": "code",
   "execution_count": null,
   "metadata": {
    "ExecuteTime": {
     "start_time": "2024-01-07T07:01:12.419044Z"
    }
   },
   "outputs": [],
   "source": [
    "import os\n",
    "from typing import TypeVar, Type\n",
    "\n",
    "# Create a generic variable that can be 'Parent', or any subclass.\n",
    "T = TypeVar('A', bound='Parent')\n",
    "\n",
    "class A:\n",
    "    def __init__(self, folder: str, file_name: str):\n",
    "        self.folder = folder\n",
    "        self.file_name = file_name\n",
    "    \n",
    "    @classmethod\n",
    "    def from_path(cls: Type[T], path: str) -> T:\n",
    "        folder, file_name = path.rsplit(\"/\", 1)\n",
    "        return cls(folder, file_name)"
   ]
  },
  {
   "cell_type": "markdown",
   "metadata": {
    "pycharm": {
     "name": "#%% md\n"
    },
    "slideshow": {
     "slide_type": "slide"
    }
   },
   "source": [
    "### Классы → @property"
   ]
  },
  {
   "cell_type": "code",
   "execution_count": null,
   "metadata": {
    "ExecuteTime": {
     "start_time": "2024-01-07T07:01:12.427066700Z"
    }
   },
   "outputs": [],
   "source": []
  },
  {
   "cell_type": "code",
   "execution_count": null,
   "metadata": {
    "ExecuteTime": {
     "start_time": "2024-01-07T07:01:12.439063100Z"
    },
    "pycharm": {
     "name": "#%%\n"
    },
    "slideshow": {
     "slide_type": "-"
    }
   },
   "outputs": [],
   "source": [
    "class A:\n",
    "    def __init__(self, x: int):\n",
    "        self._x = x\n",
    "\n",
    "    @property\n",
    "    def x(self) -> int:\n",
    "        return self._x\n",
    "\n",
    "a = A(1); b = A(2)"
   ]
  },
  {
   "cell_type": "code",
   "execution_count": null,
   "metadata": {
    "ExecuteTime": {
     "start_time": "2024-01-07T07:01:12.451619400Z"
    },
    "pycharm": {
     "name": "#%%\n"
    },
    "slideshow": {
     "slide_type": "-"
    }
   },
   "outputs": [],
   "source": [
    "a.x, b.x"
   ]
  },
  {
   "cell_type": "code",
   "execution_count": null,
   "metadata": {
    "ExecuteTime": {
     "start_time": "2024-01-07T07:01:12.464618200Z"
    },
    "pycharm": {
     "name": "#%%\n"
    },
    "slideshow": {
     "slide_type": "-"
    }
   },
   "outputs": [],
   "source": [
    "a.x = 3"
   ]
  },
  {
   "cell_type": "code",
   "execution_count": null,
   "metadata": {
    "ExecuteTime": {
     "start_time": "2024-01-07T07:01:12.474614700Z"
    },
    "pycharm": {
     "name": "#%%\n"
    },
    "slideshow": {
     "slide_type": "-"
    }
   },
   "outputs": [],
   "source": [
    "# Что в аттрибутах?\n",
    "# A {  } \n",
    "#          ---> a { }\n",
    "#          ---> b { }"
   ]
  },
  {
   "cell_type": "code",
   "execution_count": null,
   "metadata": {
    "ExecuteTime": {
     "start_time": "2024-01-07T07:01:12.482613700Z"
    },
    "pycharm": {
     "name": "#%%\n"
    },
    "slideshow": {
     "slide_type": "-"
    }
   },
   "outputs": [],
   "source": [
    "A.__dict__"
   ]
  },
  {
   "cell_type": "code",
   "execution_count": null,
   "metadata": {
    "ExecuteTime": {
     "start_time": "2024-01-07T07:01:12.492612Z"
    },
    "pycharm": {
     "name": "#%%\n"
    },
    "slideshow": {
     "slide_type": "-"
    }
   },
   "outputs": [],
   "source": [
    "a.__dict__, b.__dict__"
   ]
  },
  {
   "cell_type": "markdown",
   "metadata": {
    "pycharm": {
     "name": "#%% md\n"
    },
    "slideshow": {
     "slide_type": "slide"
    }
   },
   "source": [
    "### Классы → @property → setter"
   ]
  },
  {
   "cell_type": "code",
   "execution_count": null,
   "metadata": {
    "ExecuteTime": {
     "start_time": "2024-01-07T07:01:12.501611400Z"
    },
    "pycharm": {
     "name": "#%%\n"
    },
    "slideshow": {
     "slide_type": "-"
    }
   },
   "outputs": [],
   "source": [
    "class A:\n",
    "    def __init__(self, x: int):\n",
    "        self._x = x\n",
    "        \n",
    "    @property\n",
    "    def x(self) -> int:\n",
    "        return self._x + 1\n",
    "    \n",
    "    @x.setter\n",
    "    def x1(self, x: int) -> None:\n",
    "        self._x = x - 1\n",
    "\n",
    "a = A(1); b = A(2)"
   ]
  },
  {
   "cell_type": "code",
   "execution_count": null,
   "metadata": {
    "ExecuteTime": {
     "start_time": "2024-01-07T07:01:12.509612900Z"
    },
    "pycharm": {
     "name": "#%%\n"
    },
    "slideshow": {
     "slide_type": "-"
    }
   },
   "outputs": [],
   "source": [
    "# a.x = 5\n",
    "a.x1 = 10"
   ]
  },
  {
   "cell_type": "code",
   "execution_count": null,
   "metadata": {
    "ExecuteTime": {
     "start_time": "2024-01-07T07:01:12.517612400Z"
    }
   },
   "outputs": [],
   "source": [
    "a.x"
   ]
  },
  {
   "cell_type": "code",
   "execution_count": null,
   "metadata": {
    "ExecuteTime": {
     "start_time": "2024-01-07T07:01:12.526621900Z"
    },
    "pycharm": {
     "name": "#%%\n"
    },
    "slideshow": {
     "slide_type": "-"
    }
   },
   "outputs": [],
   "source": [
    "# Что в аттрибутах?\n",
    "# A {  } \n",
    "#          ---> a { }\n",
    "#          ---> b { }"
   ]
  },
  {
   "cell_type": "code",
   "execution_count": null,
   "metadata": {
    "ExecuteTime": {
     "start_time": "2024-01-07T07:01:12.534622900Z"
    },
    "pycharm": {
     "name": "#%%\n"
    },
    "slideshow": {
     "slide_type": "-"
    }
   },
   "outputs": [],
   "source": [
    "A.__dict__"
   ]
  },
  {
   "cell_type": "code",
   "execution_count": null,
   "metadata": {
    "ExecuteTime": {
     "start_time": "2024-01-07T07:01:12.543180300Z"
    },
    "pycharm": {
     "name": "#%%\n"
    },
    "slideshow": {
     "slide_type": "-"
    }
   },
   "outputs": [],
   "source": [
    "a.__dict__, b.__dict__"
   ]
  },
  {
   "cell_type": "markdown",
   "metadata": {
    "pycharm": {
     "name": "#%% md\n"
    },
    "slideshow": {
     "slide_type": "slide"
    }
   },
   "source": [
    "### Классы → итого"
   ]
  },
  {
   "cell_type": "code",
   "execution_count": null,
   "metadata": {
    "ExecuteTime": {
     "start_time": "2024-01-07T07:01:12.552842100Z"
    },
    "pycharm": {
     "name": "#%%\n"
    },
    "slideshow": {
     "slide_type": "-"
    }
   },
   "outputs": [],
   "source": [
    "class A:\n",
    "    X: int = 10                  # Переменная класса\n",
    "\n",
    "    def __init__(self, x: int):  # Инициализация состояния инстанса self\n",
    "        self._x = x              # Переменная инстанса self\n",
    "    \n",
    "    def foo(self) -> None:       # Метод класса\n",
    "        self._x += 1             # Обновление переменной инстанса self\n",
    "        \n",
    "    @staticmethod                # Статический метод класса\n",
    "    def bar() -> str:            # ! Не передаем инстанс self\n",
    "        return \"bar\"\n",
    "    \n",
    "    @classmethod                 # Класс-метод класса\n",
    "    def baz(cls) -> str:         # ! Вместо инстанса self передается класс cls\n",
    "        return cls.__name__\n",
    "    \n",
    "    @property                    # Проперти-метод класса\n",
    "    def x(self) -> int:            \n",
    "        return self._x\n",
    "    \n",
    "    @x.setter                    # Сеттер-проперти метод класса\n",
    "    def x(self, x: int) -> None:\n",
    "        self._x = x"
   ]
  },
  {
   "cell_type": "code",
   "execution_count": null,
   "metadata": {
    "ExecuteTime": {
     "start_time": "2024-01-07T07:01:12.562842300Z"
    },
    "pycharm": {
     "name": "#%%\n"
    },
    "slideshow": {
     "slide_type": "-"
    }
   },
   "outputs": [],
   "source": [
    "# Что из этого аттрибуты класса, а что объекта?"
   ]
  },
  {
   "cell_type": "markdown",
   "metadata": {
    "pycharm": {
     "name": "#%% md\n"
    },
    "slideshow": {
     "slide_type": "slide"
    }
   },
   "source": [
    "<div class=\"alert alert-danger\">\n",
    "<b>Антипаттерн:</b> устанавливать атрибуты после конструирования\n",
    "</div>"
   ]
  },
  {
   "cell_type": "markdown",
   "metadata": {},
   "source": [
    "<img src=\"images/girl.jpg\" width=\"500\" alt=\"unfunny meme again\"/>"
   ]
  },
  {
   "cell_type": "code",
   "execution_count": null,
   "metadata": {
    "ExecuteTime": {
     "start_time": "2024-01-07T07:01:12.572841100Z"
    }
   },
   "outputs": [],
   "source": [
    "class A:\n",
    "    pass\n",
    "        \n",
    "\n",
    "a = A()\n",
    "a.x = 10\n",
    "a.x"
   ]
  },
  {
   "cell_type": "code",
   "execution_count": null,
   "metadata": {
    "ExecuteTime": {
     "start_time": "2024-01-07T07:01:12.582844400Z"
    },
    "cell_style": "split",
    "pycharm": {
     "name": "#%%\n"
    },
    "slideshow": {
     "slide_type": "-"
    }
   },
   "outputs": [],
   "source": [
    "class A:\n",
    "    def __init__(self, x: int):\n",
    "        self.x = x\n",
    "        \n",
    "\n",
    "a = A(10)\n",
    "a.x"
   ]
  },
  {
   "cell_type": "markdown",
   "metadata": {
    "pycharm": {
     "name": "#%% md\n"
    },
    "slideshow": {
     "slide_type": "slide"
    }
   },
   "source": [
    "<div class=\"alert alert-danger\">\n",
    "<b>Антипаттерн:</b> обращаться к атрибутам объекта, не объявленым в __init__\n",
    "</div>"
   ]
  },
  {
   "cell_type": "code",
   "execution_count": null,
   "metadata": {
    "ExecuteTime": {
     "start_time": "2024-01-07T07:01:12.590842Z"
    },
    "cell_style": "split",
    "pycharm": {
     "name": "#%%\n"
    },
    "slideshow": {
     "slide_type": "-"
    }
   },
   "outputs": [],
   "source": [
    "class A:\n",
    "    x: int = 0\n",
    "    \n",
    "    def foo(self):\n",
    "        self.x += 1\n",
    "        \n",
    "a = A()\n",
    "b = A()\n",
    "a.foo()\n",
    "a.foo()\n",
    "a.x, b.x, A.x"
   ]
  },
  {
   "cell_type": "code",
   "execution_count": null,
   "metadata": {
    "ExecuteTime": {
     "start_time": "2024-01-07T07:01:12.597843100Z"
    },
    "cell_style": "split",
    "pycharm": {
     "name": "#%%\n"
    },
    "slideshow": {
     "slide_type": "-"
    }
   },
   "outputs": [],
   "source": [
    "class A:\n",
    "    def __init__(self):\n",
    "        self.x = 0\n",
    "    \n",
    "    def foo(self) -> None:\n",
    "        self.x += 1\n",
    "        \n",
    "a = A()\n",
    "a.foo()\n",
    "a.foo()\n",
    "a.x"
   ]
  },
  {
   "cell_type": "markdown",
   "metadata": {
    "pycharm": {
     "name": "#%% md\n"
    },
    "slideshow": {
     "slide_type": "slide"
    }
   },
   "source": [
    "<div class=\"alert alert-danger\">\n",
    "<b>Антипаттерн:</b> мутировать атрибуты класса\n",
    "</div>"
   ]
  },
  {
   "cell_type": "code",
   "execution_count": null,
   "metadata": {
    "ExecuteTime": {
     "start_time": "2024-01-07T07:01:12.616858700Z"
    },
    "cell_style": "split",
    "pycharm": {
     "name": "#%%\n"
    },
    "slideshow": {
     "slide_type": "-"
    }
   },
   "outputs": [],
   "source": [
    "\n",
    "class A:\n",
    "    names: list[str] = []\n",
    "\n",
    "    def add_name(self, name: str) -> None:\n",
    "        self.names.append(name)\n",
    "\n",
    "a = A(); b = A()\n",
    "\n",
    "a.add_name('Ilariia')\n",
    "b.add_name('Lesha')\n",
    "a.names, b.names"
   ]
  },
  {
   "cell_type": "code",
   "execution_count": null,
   "metadata": {
    "ExecuteTime": {
     "start_time": "2024-01-07T07:01:12.635875300Z"
    },
    "cell_style": "split",
    "pycharm": {
     "name": "#%%\n"
    },
    "slideshow": {
     "slide_type": "-"
    }
   },
   "outputs": [],
   "source": [
    "class A:\n",
    "    def __init__(self):\n",
    "        self.names: list[str] = []\n",
    "\n",
    "    def add_name(self, name: str) -> None:\n",
    "        self.names.append(name)\n",
    "\n",
    "a = A(); b = A()\n",
    "\n",
    "a.add_name('Ilariia')\n",
    "b.add_name('Lesha')\n",
    "a.names, b.names"
   ]
  },
  {
   "cell_type": "markdown",
   "metadata": {
    "pycharm": {
     "name": "#%% md\n"
    },
    "slideshow": {
     "slide_type": "slide"
    }
   },
   "source": [
    "### Классы → public/private метки"
   ]
  },
  {
   "cell_type": "code",
   "execution_count": null,
   "metadata": {
    "ExecuteTime": {
     "start_time": "2024-01-07T07:01:12.644403400Z"
    },
    "pycharm": {
     "name": "#%%\n"
    },
    "slideshow": {
     "slide_type": "-"
    }
   },
   "outputs": [],
   "source": [
    "class A:\n",
    "    def __init__(self):\n",
    "        self.x: int = 1     # Публичный\n",
    "        self._x: int = 2    # Приватный\n",
    "        self.__x: int = 3   # Супер приватный\n",
    "\n",
    "    def foo(self) -> str:   # Публичный\n",
    "        return \"foo\"\n",
    "    \n",
    "    def _foo(self) -> str:  # Приватный\n",
    "        return \"_foo\"\n",
    "    \n",
    "    def __foo(self) -> str: # Супер приватный\n",
    "        return \"__foo\"\n",
    "    \n",
    "\n",
    "a = A()\n",
    "\n",
    "print(a.x)\n",
    "print(a._x)\n",
    "print(a._A__x)\n",
    "print(a.foo())\n",
    "print(a._foo())\n",
    "print(a._A__foo())"
   ]
  },
  {
   "cell_type": "markdown",
   "metadata": {
    "pycharm": {
     "name": "#%% md\n"
    },
    "slideshow": {
     "slide_type": "slide"
    }
   },
   "source": [
    "### Классы → Dunder методы"
   ]
  },
  {
   "cell_type": "markdown",
   "metadata": {
    "pycharm": {
     "name": "#%% md\n"
    },
    "slideshow": {
     "slide_type": "-"
    }
   },
   "source": [
    "Dunder методы классов -- это методы придающие им какие-то свойства. Их имена начинаются с двух подчеркиваний, например -- метод `__init__`. Вызов магических методов в интерпретаторе происходит неявно."
   ]
  },
  {
   "cell_type": "code",
   "execution_count": null,
   "metadata": {
    "ExecuteTime": {
     "start_time": "2024-01-07T07:01:12.652404900Z"
    },
    "pycharm": {
     "name": "#%%\n"
    },
    "slideshow": {
     "slide_type": "-"
    }
   },
   "outputs": [],
   "source": [
    "class A:\n",
    "    def __init__(self, x: int):\n",
    "        self.x = x"
   ]
  },
  {
   "cell_type": "markdown",
   "metadata": {
    "pycharm": {
     "name": "#%% md\n"
    },
    "slideshow": {
     "slide_type": "slide"
    }
   },
   "source": [
    "### Классы → Dunder методы → `__str__`/`__repr__`"
   ]
  },
  {
   "cell_type": "code",
   "execution_count": null,
   "metadata": {
    "ExecuteTime": {
     "start_time": "2024-01-07T07:01:12.682410800Z"
    },
    "cell_style": "split",
    "pycharm": {
     "name": "#%%\n"
    },
    "slideshow": {
     "slide_type": "-"
    }
   },
   "outputs": [],
   "source": [
    "class A:\n",
    "    def __init__(self, x: int):\n",
    "        self.x = x\n",
    "\n",
    "\n",
    "a = A(6)\n",
    "\n",
    "print(a)\n",
    "a"
   ]
  },
  {
   "cell_type": "code",
   "execution_count": null,
   "metadata": {
    "ExecuteTime": {
     "start_time": "2024-01-07T07:01:12.696408800Z"
    }
   },
   "outputs": [],
   "source": [
    "class A:\n",
    "    def __init__(self, x: int):\n",
    "        self.x = x\n",
    "        \n",
    "    def __str__(self) -> str: # what for?\n",
    "        return f\"A with attr {self.x}\"\n",
    "    \n",
    "    def __repr__(self) -> str:\n",
    "        return f\"A({self.x})\"\n",
    "\n",
    "a = A(6)\n",
    "\n",
    "print(a)\n",
    "a"
   ]
  },
  {
   "cell_type": "code",
   "execution_count": null,
   "metadata": {
    "ExecuteTime": {
     "start_time": "2024-01-07T07:01:12.709412400Z"
    }
   },
   "outputs": [],
   "source": [
    "str(a), repr(a)"
   ]
  },
  {
   "cell_type": "code",
   "execution_count": null,
   "metadata": {
    "ExecuteTime": {
     "start_time": "2024-01-07T07:01:12.721410700Z"
    },
    "slideshow": {
     "slide_type": "slide"
    }
   },
   "outputs": [],
   "source": [
    "class Polynomial:\n",
    "    def __init__(self, coefficients: tuple):\n",
    "        self.coefficients = coefficients \n",
    "    \n",
    "    def __repr__(self) -> str:\n",
    "        return \"Polynomial\" + str(self.coefficients)\n",
    "\n",
    "    \n",
    "    @staticmethod\n",
    "    def x_expr(k: int) -> str:\n",
    "        if k == 0:\n",
    "            res = \"\"\n",
    "        elif k == 1:\n",
    "            res = \"x\"\n",
    "        else:\n",
    "            res = \"x^\"+str(k)\n",
    "        return res\n",
    "\n",
    "    def __str__(self) -> str:\n",
    "        degree = len(self.coefficients) - 1\n",
    "        res = \"\"\n",
    "        for a_n, n in zip(self.coefficients, range(0, degree + 1)):\n",
    "            if abs(a_n) == 1 and n < degree:\n",
    "                sign = '+' if a_n > 0 else '-'\n",
    "                res += f\"{sign}{self.x_expr(degree - n)}\"  \n",
    "            elif a_n != 0:\n",
    "                res += f\"{a_n:+g}{self.x_expr(degree - n)}\"\n",
    "\n",
    "        return res.lstrip('+')"
   ]
  },
  {
   "cell_type": "code",
   "execution_count": null,
   "metadata": {
    "ExecuteTime": {
     "start_time": "2024-01-07T07:01:12.728434100Z"
    }
   },
   "outputs": [],
   "source": [
    "polynom = Polynomial((1, 0, -4, 3, 1))\n",
    "\n",
    "polynom"
   ]
  },
  {
   "cell_type": "code",
   "execution_count": null,
   "metadata": {
    "ExecuteTime": {
     "start_time": "2024-01-07T07:01:12.737432600Z"
    }
   },
   "outputs": [],
   "source": [
    "print(polynom)"
   ]
  },
  {
   "cell_type": "code",
   "execution_count": null,
   "metadata": {
    "ExecuteTime": {
     "start_time": "2024-01-07T07:01:12.745975800Z"
    }
   },
   "outputs": [],
   "source": [
    "from IPython.display import display, Math\n",
    "\n",
    "display(Math(str(polynom)))"
   ]
  },
  {
   "cell_type": "markdown",
   "metadata": {
    "pycharm": {
     "name": "#%% md\n"
    },
    "slideshow": {
     "slide_type": "slide"
    }
   },
   "source": [
    "### Классы → Dunder методы → арифметика"
   ]
  },
  {
   "cell_type": "code",
   "execution_count": null,
   "metadata": {
    "ExecuteTime": {
     "start_time": "2024-01-07T07:01:12.753973800Z"
    },
    "cell_style": "center",
    "pycharm": {
     "name": "#%%\n"
    },
    "slideshow": {
     "slide_type": "-"
    }
   },
   "outputs": [],
   "source": [
    "class A:\n",
    "    def __init__(self, x: int):\n",
    "        self.x = x\n",
    "\n",
    "    def __add__(self, other: 'A') -> 'A':\n",
    "        return A(self.x + other.x)\n",
    "    \n",
    "    def __iadd__(self, other: 'A') -> 'A':\n",
    "        self.x += other.x  # be aware of the semantics\n",
    "        return self\n",
    "\n",
    "a = A(6)\n",
    "b = A(4)\n",
    "id_A = id(a)\n",
    "\n",
    "a += b\n",
    "print(id(a) == id_A)\n",
    "\n",
    "a = a + b\n",
    "print(id(a) == id_A)\n",
    "\n",
    "a.x"
   ]
  },
  {
   "cell_type": "markdown",
   "metadata": {
    "pycharm": {
     "name": "#%% md\n"
    },
    "slideshow": {
     "slide_type": "slide"
    }
   },
   "source": [
    "### Классы → Dunder методы → `__call__`"
   ]
  },
  {
   "cell_type": "code",
   "execution_count": null,
   "metadata": {
    "ExecuteTime": {
     "start_time": "2024-01-07T07:01:12.761974900Z"
    },
    "pycharm": {
     "name": "#%%\n"
    },
    "slideshow": {
     "slide_type": "-"
    }
   },
   "outputs": [],
   "source": [
    "from math import factorial, sqrt\n",
    "\n",
    "class Power:\n",
    "    def __init__(self, p: float):\n",
    "        self.p = p\n",
    "        \n",
    "    def __call__(self, a: float) -> float:\n",
    "        return a**self.p\n",
    "    \n",
    "power = Power(3)\n",
    "power(4)"
   ]
  },
  {
   "cell_type": "markdown",
   "metadata": {
    "pycharm": {
     "name": "#%% md\n"
    },
    "slideshow": {
     "slide_type": "slide"
    }
   },
   "source": [
    "### Классы → Dunder методы → `__len__`"
   ]
  },
  {
   "cell_type": "code",
   "execution_count": null,
   "metadata": {
    "ExecuteTime": {
     "start_time": "2024-01-07T07:01:12.777981800Z"
    },
    "pycharm": {
     "name": "#%%\n"
    },
    "slideshow": {
     "slide_type": "-"
    }
   },
   "outputs": [],
   "source": [
    "class PythonDudes:\n",
    "    def __init__(self, names: list[str]):\n",
    "        self.names = names\n",
    "    \n",
    "    def __len__(self) -> int:\n",
    "        return len(self.names)\n",
    "    \n",
    "    def add(self, name: str) -> None:\n",
    "        return self.names.append(name)\n",
    "    \n",
    "    \n",
    "catalog = PythonDudes([\"ilariia\", \"alex\", \"vadim\", \"nikita\"])\n",
    "catalog.add(\"kostya\")\n",
    "len(catalog)"
   ]
  },
  {
   "cell_type": "markdown",
   "metadata": {
    "pycharm": {
     "name": "#%% md\n"
    },
    "slideshow": {
     "slide_type": "slide"
    }
   },
   "source": [
    "### Классы → Dunder методы → `__getattr__`/`__setattr__`"
   ]
  },
  {
   "cell_type": "code",
   "execution_count": null,
   "metadata": {
    "ExecuteTime": {
     "start_time": "2024-01-07T07:01:12.786976900Z"
    }
   },
   "outputs": [],
   "source": [
    "import typing as tp\n",
    "class StorageBox:\n",
    "    def __init__(self):\n",
    "        self.test = 1\n",
    "\n",
    "    def __getattr__(self, x: str) -> tp.Any:\n",
    "        print(f'Getting the {x} attribute')\n",
    "        return self.__dict__.get(x, 0)\n",
    "\n",
    "    def __setattr__(self, x: str, value: tp.Any) -> None:\n",
    "        print(f'Setting the {x} attribute with value {value}')\n",
    "        self.__dict__[x] = value\n",
    "\n",
    "s = StorageBox()\n",
    "print(s.test)\n",
    "print(\"===\")\n",
    "s.test = 2\n",
    "print(\"===\")\n",
    "print(s.test)"
   ]
  },
  {
   "cell_type": "code",
   "execution_count": null,
   "metadata": {
    "ExecuteTime": {
     "start_time": "2024-01-07T07:01:12.792976300Z"
    },
    "pycharm": {
     "name": "#%%\n"
    },
    "slideshow": {
     "slide_type": "-"
    }
   },
   "outputs": [],
   "source": [
    "import typing as tp\n",
    "class StorageBox:\n",
    "\n",
    "    def __getattr__(self, x: str) -> tp.Any:\n",
    "        print(f'Getting the {x} attribute')\n",
    "        return self.__dict__.get(x, 0)\n",
    "        \n",
    "    def __getattribute__(self, x: str) -> tp.Any:\n",
    "        print(f'In getattribute looking for {x} attribute')\n",
    "        if x != \"__dict__\" and x.startswith(\"_\"):\n",
    "            raise ValueError(\"Access to private attributes is prohibitted.\")\n",
    "        return object.__getattribute__(self, x)\n",
    "\n",
    "    def __setattr__(self, x: str, value: tp.Any) -> None:\n",
    "        print(f'Setting the {x} attribute with value {value}')\n",
    "        self.__dict__[x] = value\n",
    "\n",
    "    \n",
    "s = StorageBox()\n",
    "print(s.test)\n",
    "print(\"===\")\n",
    "s.test = 2\n",
    "print(\"===\")\n",
    "print(s.test)"
   ]
  },
  {
   "cell_type": "code",
   "execution_count": null,
   "metadata": {
    "ExecuteTime": {
     "start_time": "2024-01-07T07:01:12.800978500Z"
    }
   },
   "outputs": [],
   "source": [
    "s._x = 123\n",
    "s.x"
   ]
  },
  {
   "cell_type": "markdown",
   "metadata": {
    "pycharm": {
     "name": "#%% md\n"
    },
    "slideshow": {
     "slide_type": "slide"
    }
   },
   "source": [
    "### Классы → Dunder методы → `__eq__`"
   ]
  },
  {
   "cell_type": "code",
   "execution_count": null,
   "metadata": {
    "ExecuteTime": {
     "start_time": "2024-01-07T07:01:12.806971800Z"
    },
    "pycharm": {
     "name": "#%%\n"
    },
    "slideshow": {
     "slide_type": "-"
    }
   },
   "outputs": [],
   "source": [
    "class A:\n",
    "    def __init__(self, x: int):\n",
    "        self.x = x\n",
    "    \n",
    "    def __eq__(self, other: 'A') -> bool:  \n",
    "        return self.x == other.x\n",
    "    \n",
    "#     def __ne__(self, other: 'A') -> bool:  \n",
    "#         return self.x != other.x\n",
    "\n",
    "# a1 = A(3)\n",
    "A(3) == A(3),  A(3) != A(5), A(3) != A(3),\n",
    "\n",
    "# https://docs.python.org/3/reference/datamodel.html#object.__lt__\n",
    "# https://stackoverflow.com/questions/4352244/should-ne-be-implemented-as-the-negation-of-eq"
   ]
  },
  {
   "cell_type": "markdown",
   "metadata": {
    "pycharm": {
     "name": "#%% md\n"
    },
    "slideshow": {
     "slide_type": "slide"
    }
   },
   "source": [
    "### Классы → Dunder методы → `__lt__`/`__gt__`"
   ]
  },
  {
   "cell_type": "code",
   "execution_count": null,
   "metadata": {
    "ExecuteTime": {
     "start_time": "2024-01-07T07:01:12.811978900Z"
    },
    "pycharm": {
     "name": "#%%\n"
    },
    "slideshow": {
     "slide_type": "-"
    }
   },
   "outputs": [],
   "source": [
    "class A:\n",
    "    def __init__(self, x: int):\n",
    "        self.x = x\n",
    "\n",
    "    def __lt__(self, other: 'A') -> bool:\n",
    "        print(self.x)\n",
    "        return self.x < other.x\n",
    "\n",
    "    def __gt__(self, other: 'A') -> bool:\n",
    "        print(self.x)\n",
    "        return self.x < other.x\n",
    "\n",
    "        \n",
    "A(5) < A(3),  A(5) > A(3)"
   ]
  },
  {
   "cell_type": "markdown",
   "metadata": {
    "pycharm": {
     "name": "#%% md\n"
    },
    "slideshow": {
     "slide_type": "slide"
    }
   },
   "source": [
    "### Классы → Dunder методы → `__le__`/`__ge__`"
   ]
  },
  {
   "cell_type": "code",
   "execution_count": null,
   "metadata": {
    "ExecuteTime": {
     "start_time": "2024-01-07T07:01:12.818970100Z"
    },
    "pycharm": {
     "name": "#%%\n"
    },
    "slideshow": {
     "slide_type": "-"
    }
   },
   "outputs": [],
   "source": [
    "class A:\n",
    "    def __init__(self, x: int):\n",
    "        self.x = x\n",
    "\n",
    "    def __le__(self, other: 'A') -> bool:\n",
    "        print(self.x)\n",
    "        return self.x < other.x\n",
    "\n",
    "        \n",
    "A(5) <= A(3),  A(5) >= A(3)"
   ]
  },
  {
   "cell_type": "markdown",
   "metadata": {
    "pycharm": {
     "name": "#%% md\n"
    },
    "slideshow": {
     "slide_type": "slide"
    }
   },
   "source": [
    "### Классы → Dunder методы → `__hash__` → ничего не переопределяем"
   ]
  },
  {
   "cell_type": "code",
   "execution_count": null,
   "metadata": {
    "ExecuteTime": {
     "start_time": "2024-01-07T07:01:12.824967700Z"
    },
    "cell_style": "center",
    "pycharm": {
     "name": "#%%\n"
    },
    "slideshow": {
     "slide_type": "-"
    }
   },
   "outputs": [],
   "source": [
    "class A:\n",
    "    def __init__(self, x: int):\n",
    "        self.x = x\n",
    "        \n",
    "    def __repr__(self) -> str:\n",
    "        return f\"A({self.x})\""
   ]
  },
  {
   "cell_type": "code",
   "execution_count": null,
   "metadata": {
    "ExecuteTime": {
     "start_time": "2024-01-07T07:01:12.830983800Z"
    }
   },
   "outputs": [],
   "source": [
    "object.__dict__"
   ]
  },
  {
   "cell_type": "code",
   "execution_count": null,
   "metadata": {
    "ExecuteTime": {
     "start_time": "2024-01-07T07:01:12.835994600Z"
    },
    "pycharm": {
     "name": "#%%\n"
    },
    "slideshow": {
     "slide_type": "-"
    }
   },
   "outputs": [],
   "source": [
    "s = set()\n",
    "\n",
    "for i in [1, 1, 2, 2]:\n",
    "    a = A(i)\n",
    "    s.add(a)\n",
    "\n",
    "s"
   ]
  },
  {
   "cell_type": "code",
   "execution_count": null,
   "metadata": {
    "ExecuteTime": {
     "start_time": "2024-01-07T07:01:12.840989Z"
    },
    "pycharm": {
     "name": "#%%\n"
    },
    "slideshow": {
     "slide_type": "-"
    }
   },
   "outputs": [],
   "source": [
    "a = A(5)\n",
    "b = A(5)\n",
    "\n",
    "print(hash(a) == hash(a), a == a)\n",
    "print(hash(a) == hash(b), a == b)"
   ]
  },
  {
   "cell_type": "code",
   "execution_count": null,
   "metadata": {
    "ExecuteTime": {
     "start_time": "2024-01-07T07:01:12.847369100Z"
    },
    "pycharm": {
     "name": "#%%\n"
    },
    "slideshow": {
     "slide_type": "-"
    }
   },
   "outputs": [],
   "source": [
    "A.__hash__"
   ]
  },
  {
   "cell_type": "markdown",
   "metadata": {
    "pycharm": {
     "name": "#%% md\n"
    },
    "slideshow": {
     "slide_type": "slide"
    }
   },
   "source": [
    "### Классы → Dunder методы → `__hash__` → переопределяем только `__eq__`"
   ]
  },
  {
   "cell_type": "code",
   "execution_count": null,
   "metadata": {
    "ExecuteTime": {
     "start_time": "2024-01-07T07:01:12.852365500Z"
    },
    "pycharm": {
     "name": "#%%\n"
    },
    "slideshow": {
     "slide_type": "-"
    }
   },
   "outputs": [],
   "source": [
    "# Переопределяем __eq__\n",
    "\n",
    "class A:\n",
    "    def __init__(self, x: int):\n",
    "        self.x = x\n",
    "        \n",
    "    def __repr__(self) -> str:\n",
    "        return f\"A({self.x})\"\n",
    "    \n",
    "    def __eq__(self, other: 'A') -> bool:\n",
    "        return self.x == other.x"
   ]
  },
  {
   "cell_type": "code",
   "execution_count": null,
   "metadata": {
    "ExecuteTime": {
     "start_time": "2024-01-07T07:01:12.858380300Z"
    }
   },
   "outputs": [],
   "source": [
    "A.__dict__"
   ]
  },
  {
   "cell_type": "code",
   "execution_count": null,
   "metadata": {
    "ExecuteTime": {
     "start_time": "2024-01-07T07:01:12.867381900Z"
    },
    "pycharm": {
     "name": "#%%\n"
    },
    "slideshow": {
     "slide_type": "-"
    }
   },
   "outputs": [],
   "source": [
    "s = set()\n",
    "\n",
    "for i in [1, 1, 2, 2]:\n",
    "    a = A(i)\n",
    "    s.add(a)\n",
    "\n",
    "s"
   ]
  },
  {
   "cell_type": "code",
   "execution_count": null,
   "metadata": {
    "ExecuteTime": {
     "start_time": "2024-01-07T07:01:12.875376Z"
    },
    "pycharm": {
     "name": "#%%\n"
    },
    "slideshow": {
     "slide_type": "-"
    }
   },
   "outputs": [],
   "source": [
    "A.__dict__"
   ]
  },
  {
   "cell_type": "markdown",
   "metadata": {
    "pycharm": {
     "name": "#%% md\n"
    },
    "slideshow": {
     "slide_type": "slide"
    }
   },
   "source": [
    "### Классы → Dunder методы → `__hash__` → переопределяем только `__hash__`"
   ]
  },
  {
   "cell_type": "code",
   "execution_count": null,
   "metadata": {
    "ExecuteTime": {
     "start_time": "2024-01-07T07:01:12.882376500Z"
    },
    "cell_style": "center",
    "pycharm": {
     "name": "#%%\n"
    },
    "slideshow": {
     "slide_type": "-"
    }
   },
   "outputs": [],
   "source": [
    "# Переопределяем __hash__\n",
    "\n",
    "class A:\n",
    "    def __init__(self, x: int):\n",
    "        self.x = x\n",
    "        \n",
    "    def __repr__(self) -> str:\n",
    "        return f\"A({self.x})\"\n",
    "    \n",
    "    def __hash__(self) -> int:\n",
    "        return hash(self.x)"
   ]
  },
  {
   "cell_type": "code",
   "execution_count": null,
   "metadata": {
    "ExecuteTime": {
     "start_time": "2024-01-07T07:01:12.891373400Z"
    },
    "pycharm": {
     "name": "#%%\n"
    },
    "slideshow": {
     "slide_type": "-"
    }
   },
   "outputs": [],
   "source": [
    "s = set()\n",
    "\n",
    "for i in [1, 1, 2, 2]:\n",
    "    a = A(i)\n",
    "    s.add(a)\n",
    "\n",
    "s"
   ]
  },
  {
   "cell_type": "markdown",
   "metadata": {
    "pycharm": {
     "name": "#%% md\n"
    },
    "slideshow": {
     "slide_type": "slide"
    }
   },
   "source": [
    "### Классы → Dunder методы → `__hash__` → переопределяем `__eq__` и `__hash__`"
   ]
  },
  {
   "cell_type": "code",
   "execution_count": null,
   "metadata": {
    "ExecuteTime": {
     "start_time": "2024-01-07T07:01:12.898378100Z"
    },
    "pycharm": {
     "name": "#%%\n"
    },
    "slideshow": {
     "slide_type": "-"
    }
   },
   "outputs": [],
   "source": [
    "class A:\n",
    "    def __init__(self, x: int):\n",
    "        self.x = x\n",
    "        \n",
    "    def __repr__(self) -> str:\n",
    "        return f\"A({self.x})\"\n",
    "    \n",
    "    def __hash__(self) -> int:\n",
    "        return hash(self.x)\n",
    "\n",
    "    def __eq__(self, other: 'A') -> bool:\n",
    "        return self.x == other.x"
   ]
  },
  {
   "cell_type": "code",
   "execution_count": null,
   "metadata": {
    "ExecuteTime": {
     "start_time": "2024-01-07T07:01:12.903371300Z"
    },
    "pycharm": {
     "name": "#%%\n"
    },
    "slideshow": {
     "slide_type": "-"
    }
   },
   "outputs": [],
   "source": [
    "s = set()\n",
    "\n",
    "for i in [1, 1, 2, 2]:\n",
    "    a = A(i)\n",
    "    s.add(a)\n",
    "\n",
    "s"
   ]
  },
  {
   "cell_type": "markdown",
   "metadata": {
    "pycharm": {
     "name": "#%% md\n"
    },
    "slideshow": {
     "slide_type": "slide"
    }
   },
   "source": [
    "### Классы → dataclass"
   ]
  },
  {
   "cell_type": "code",
   "execution_count": null,
   "metadata": {
    "ExecuteTime": {
     "start_time": "2024-01-07T07:01:12.909370800Z"
    },
    "cell_style": "center",
    "pycharm": {
     "name": "#%%\n"
    },
    "slideshow": {
     "slide_type": "-"
    }
   },
   "outputs": [],
   "source": [
    "from dataclasses import dataclass\n",
    "\n",
    "@dataclass\n",
    "class Case:\n",
    "    name: str\n",
    "    given: int\n",
    "    expected: int\n",
    "\n",
    "c = Case(\"test_name\", 2, 10)\n",
    "c"
   ]
  },
  {
   "cell_type": "code",
   "execution_count": null,
   "metadata": {
    "ExecuteTime": {
     "start_time": "2024-01-07T07:01:12.915371800Z"
    },
    "pycharm": {
     "name": "#%%\n"
    },
    "slideshow": {
     "slide_type": "-"
    }
   },
   "outputs": [],
   "source": [
    "# class Case:\n",
    "#     def __init__(self, name: str, given: int, expected: int):\n",
    "#         self.name = name\n",
    "#         self.given = given\n",
    "#         self.expected = expected\n",
    "\n",
    "#     def __eq__(self, other):\n",
    "#         return (self.name, self.given, self.expected) == (other.name, other.given, other.expected)\n",
    "\n",
    "#     def __repr__(self, other):\n",
    "#         return f\"Case(name='{self.name}', given='{self.given}', expected='{self.expected}')\""
   ]
  },
  {
   "cell_type": "code",
   "execution_count": null,
   "metadata": {
    "ExecuteTime": {
     "start_time": "2024-01-07T07:01:12.921381Z"
    }
   },
   "outputs": [],
   "source": [
    "Case.__dict__"
   ]
  },
  {
   "cell_type": "code",
   "execution_count": null,
   "metadata": {
    "ExecuteTime": {
     "start_time": "2024-01-07T07:01:12.926412500Z"
    }
   },
   "outputs": [],
   "source": [
    "c = Case('smth', 1, 2)\n",
    "c.__dict__"
   ]
  },
  {
   "cell_type": "markdown",
   "metadata": {
    "pycharm": {
     "name": "#%% md\n"
    },
    "slideshow": {
     "slide_type": "slide"
    }
   },
   "source": [
    "### Классы → dataclass → конфигурирование"
   ]
  },
  {
   "cell_type": "code",
   "execution_count": null,
   "metadata": {
    "ExecuteTime": {
     "start_time": "2024-01-07T07:01:12.932399700Z"
    },
    "pycharm": {
     "name": "#%%\n"
    },
    "slideshow": {
     "slide_type": "-"
    }
   },
   "outputs": [],
   "source": [
    "# Поиграем с параметрами, посмотрим в дикты\n",
    "\n",
    "import typing as tp\n",
    "from dataclasses import dataclass, field\n",
    "\n",
    "@dataclass(init=True, repr=True, eq=True, order=True, unsafe_hash=True, frozen=True)\n",
    "class Case:\n",
    "    name: str\n",
    "    given: int\n",
    "    expected: object\n",
    "\n",
    "c = Case(\"test_name\", 2, 1)"
   ]
  },
  {
   "cell_type": "code",
   "execution_count": null,
   "metadata": {
    "ExecuteTime": {
     "start_time": "2024-01-07T07:01:12.939406200Z"
    },
    "pycharm": {
     "name": "#%%\n"
    },
    "slideshow": {
     "slide_type": "-"
    }
   },
   "outputs": [],
   "source": [
    "Case.__dict__"
   ]
  },
  {
   "cell_type": "code",
   "execution_count": null,
   "metadata": {
    "ExecuteTime": {
     "start_time": "2024-01-07T07:01:12.944960100Z"
    }
   },
   "outputs": [],
   "source": [
    "d = Case(\"test_name\", 3, 4)"
   ]
  },
  {
   "cell_type": "code",
   "execution_count": null,
   "metadata": {
    "ExecuteTime": {
     "start_time": "2024-01-07T07:01:12.949950400Z"
    }
   },
   "outputs": [],
   "source": [
    "c < d"
   ]
  },
  {
   "cell_type": "markdown",
   "metadata": {
    "pycharm": {
     "name": "#%% md\n"
    },
    "slideshow": {
     "slide_type": "slide"
    }
   },
   "source": [
    "### Классы → Enum"
   ]
  },
  {
   "cell_type": "code",
   "execution_count": null,
   "metadata": {
    "ExecuteTime": {
     "start_time": "2024-01-07T07:01:12.953954100Z"
    },
    "pycharm": {
     "name": "#%%\n"
    },
    "slideshow": {
     "slide_type": "-"
    }
   },
   "outputs": [],
   "source": [
    "from enum import Enum\n",
    "\n",
    "class DeviceType(Enum):\n",
    "    ANDROID = \"android\"\n",
    "    WINDOWS = \"windows\"\n",
    "    IOS = \"ios\"\n",
    "    LINUX = \"linux\"\n",
    "    OTHER = \"other\"\n",
    "\n",
    "# https://www.python.org/dev/peps/pep-0435/#motivation"
   ]
  },
  {
   "cell_type": "code",
   "execution_count": null,
   "metadata": {
    "ExecuteTime": {
     "start_time": "2024-01-07T07:01:12.957950300Z"
    },
    "pycharm": {
     "name": "#%%\n"
    },
    "slideshow": {
     "slide_type": "-"
    }
   },
   "outputs": [],
   "source": [
    "type(DeviceType.ANDROID)"
   ]
  },
  {
   "cell_type": "code",
   "execution_count": null,
   "metadata": {
    "ExecuteTime": {
     "start_time": "2024-01-07T07:01:12.961950200Z"
    },
    "pycharm": {
     "name": "#%%\n"
    },
    "slideshow": {
     "slide_type": "-"
    }
   },
   "outputs": [],
   "source": [
    "d1 = DeviceType.ANDROID\n",
    "d2 = DeviceType.ANDROID\n",
    "d1 == d2, d1 is d2"
   ]
  },
  {
   "cell_type": "code",
   "execution_count": null,
   "metadata": {
    "ExecuteTime": {
     "start_time": "2024-01-07T07:01:12.966947900Z"
    },
    "pycharm": {
     "name": "#%%\n"
    },
    "slideshow": {
     "slide_type": "-"
    }
   },
   "outputs": [],
   "source": [
    "DeviceType.ANDROID.name, DeviceType.ANDROID.value"
   ]
  },
  {
   "cell_type": "code",
   "execution_count": null,
   "metadata": {
    "ExecuteTime": {
     "start_time": "2024-01-07T07:01:12.972951200Z"
    },
    "pycharm": {
     "name": "#%%\n"
    },
    "slideshow": {
     "slide_type": "-"
    }
   },
   "outputs": [],
   "source": [
    "{DeviceType.ANDROID: 1, DeviceType.WINDOWS: 2}"
   ]
  },
  {
   "cell_type": "markdown",
   "metadata": {
    "pycharm": {
     "name": "#%% md\n"
    },
    "slideshow": {
     "slide_type": "slide"
    }
   },
   "source": [
    "### Классы → Enum → Использование "
   ]
  },
  {
   "cell_type": "code",
   "execution_count": null,
   "metadata": {
    "ExecuteTime": {
     "start_time": "2024-01-07T07:01:12.977948Z"
    },
    "pycharm": {
     "name": "#%%\n"
    },
    "slideshow": {
     "slide_type": "-"
    }
   },
   "outputs": [],
   "source": [
    "import typing as tp\n",
    "TRecord = dict[str, tp.Any]\n",
    "\n",
    "def filter_records(records: list[TRecord], device_type: DeviceType) -> list[TRecord]:\n",
    "    return [r for r in records if r['DeviceType'] == device_type.value]\n",
    "\n",
    "records = [\n",
    "    {'ID': 1, 'DeviceType': \"android\"},\n",
    "    {'ID': 2, 'DeviceType': \"linux\"},\n",
    "    {'ID': 3, 'DeviceType': \"android\"}\n",
    "]\n",
    "\n",
    "filter_records(records, DeviceType.ANDROID)"
   ]
  },
  {
   "cell_type": "markdown",
   "metadata": {
    "pycharm": {
     "name": "#%% md\n"
    },
    "slideshow": {
     "slide_type": "slide"
    }
   },
   "source": [
    "### Классы → Enum → Уникальность"
   ]
  },
  {
   "cell_type": "code",
   "execution_count": null,
   "metadata": {
    "ExecuteTime": {
     "start_time": "2024-01-07T07:01:12.982956300Z"
    },
    "pycharm": {
     "name": "#%%\n"
    },
    "slideshow": {
     "slide_type": "-"
    }
   },
   "outputs": [],
   "source": [
    "from enum import Enum\n",
    "\n",
    "class DeviceType(Enum):\n",
    "    ANDROID = \"android\"\n",
    "    ANDROID = \"android2\""
   ]
  },
  {
   "cell_type": "code",
   "execution_count": null,
   "metadata": {
    "ExecuteTime": {
     "start_time": "2024-01-07T07:01:12.987953100Z"
    },
    "pycharm": {
     "name": "#%%\n"
    },
    "slideshow": {
     "slide_type": "-"
    }
   },
   "outputs": [],
   "source": [
    "from enum import Enum\n",
    "\n",
    "class DeviceType(Enum):\n",
    "    ANDROID = \"android\"\n",
    "    ALIAS_ANDROID = \"android\"\n",
    "    \n",
    "DeviceType.ANDROID == DeviceType.ALIAS_ANDROID"
   ]
  },
  {
   "cell_type": "code",
   "execution_count": null,
   "metadata": {
    "ExecuteTime": {
     "start_time": "2024-01-07T07:01:12.992955600Z"
    },
    "pycharm": {
     "name": "#%%\n"
    },
    "slideshow": {
     "slide_type": "-"
    }
   },
   "outputs": [],
   "source": [
    "from enum import Enum, unique\n",
    "\n",
    "@unique\n",
    "class DeviceType(Enum):\n",
    "    ANDROID = \"android\"\n",
    "    ALIAS_ANDROID = \"android\""
   ]
  },
  {
   "cell_type": "markdown",
   "metadata": {
    "pycharm": {
     "name": "#%% md\n"
    },
    "slideshow": {
     "slide_type": "slide"
    }
   },
   "source": [
    "### Классы → Enum → Итерация"
   ]
  },
  {
   "cell_type": "code",
   "execution_count": null,
   "metadata": {
    "ExecuteTime": {
     "start_time": "2024-01-07T07:01:12.997953300Z"
    },
    "pycharm": {
     "name": "#%%\n"
    },
    "slideshow": {
     "slide_type": "-"
    }
   },
   "outputs": [],
   "source": [
    "from enum import Enum\n",
    "\n",
    "class DeviceType(Enum):\n",
    "    ANDROID = \"android\"\n",
    "    WINDOWS = \"windows\"\n",
    "    IOS = \"ios\"\n",
    "    LINUX = \"linux\"\n",
    "    OTHER = \"other\""
   ]
  },
  {
   "cell_type": "code",
   "execution_count": null,
   "metadata": {
    "ExecuteTime": {
     "start_time": "2024-01-07T07:01:13.002951400Z"
    },
    "pycharm": {
     "name": "#%%\n"
    },
    "slideshow": {
     "slide_type": "-"
    }
   },
   "outputs": [],
   "source": [
    "list(DeviceType.__members__.items())"
   ]
  },
  {
   "cell_type": "code",
   "execution_count": null,
   "metadata": {
    "ExecuteTime": {
     "start_time": "2024-01-07T07:01:13.006953500Z"
    },
    "pycharm": {
     "name": "#%%\n"
    },
    "slideshow": {
     "slide_type": "-"
    }
   },
   "outputs": [],
   "source": [
    "list(DeviceType)"
   ]
  },
  {
   "cell_type": "markdown",
   "metadata": {
    "slideshow": {
     "slide_type": "slide"
    }
   },
   "source": [
    "### Классы → Enum → Auto"
   ]
  },
  {
   "cell_type": "code",
   "execution_count": null,
   "metadata": {
    "ExecuteTime": {
     "start_time": "2024-01-07T07:01:13.012950700Z"
    }
   },
   "outputs": [],
   "source": [
    "from enum import auto\n",
    "\n",
    "class DeviceType(Enum):\n",
    "    ANDROID = auto()\n",
    "    WINDOWS = auto()\n",
    "    IOS = auto()\n",
    "    LINUX = auto()\n",
    "    OTHER = auto()"
   ]
  },
  {
   "cell_type": "code",
   "execution_count": null,
   "metadata": {
    "ExecuteTime": {
     "start_time": "2024-01-07T07:01:13.016949400Z"
    }
   },
   "outputs": [],
   "source": [
    "DeviceType.ANDROID, DeviceType.WINDOWS, DeviceType.IOS"
   ]
  },
  {
   "cell_type": "markdown",
   "metadata": {
    "pycharm": {
     "name": "#%% md\n"
    },
    "slideshow": {
     "slide_type": "slide"
    }
   },
   "source": [
    "### Типы → Subtyping"
   ]
  },
  {
   "cell_type": "raw",
   "metadata": {
    "pycharm": {
     "name": "#%%\n"
    },
    "slideshow": {
     "slide_type": "-"
    }
   },
   "source": [
    "Определение подтипа:\n",
    "    ∀ A: A -> A\n",
    "    A -> B  =>  A.values ⊇ B.values\n",
    "    A -> B  =>  A.functions ⊆ B.functions"
   ]
  },
  {
   "cell_type": "markdown",
   "metadata": {},
   "source": [
    "* Nominal subtyping - прямое наследование\n",
    "* Structural subtyping - наследование свойств по определению"
   ]
  },
  {
   "cell_type": "markdown",
   "metadata": {
    "pycharm": {
     "name": "#%% md\n"
    },
    "slideshow": {
     "slide_type": "slide"
    }
   },
   "source": [
    "### Типы → Subtyping → Nominal → Примеры"
   ]
  },
  {
   "cell_type": "markdown",
   "metadata": {
    "pycharm": {
     "name": "#%% md\n"
    },
    "slideshow": {
     "slide_type": "-"
    }
   },
   "source": [
    "Nominal subtyping в питоне реализуется через механизм наследования классов\n",
    "* int → bool\n",
    "\n",
    "Structural subtyping example - наследование абстрактных классов [numbers](https://peps.python.org/pep-3141/#numeric-classes)\n",
    "* numbers.Number → numbers.Complex → numbers.Real → numbers.Rational → numbers.Integral"
   ]
  },
  {
   "cell_type": "markdown",
   "metadata": {
    "slideshow": {
     "slide_type": "slide"
    }
   },
   "source": [
    "### Abstract class → класс с абстрактными методами"
   ]
  },
  {
   "cell_type": "code",
   "execution_count": null,
   "metadata": {
    "ExecuteTime": {
     "start_time": "2024-01-07T07:01:13.020946700Z"
    },
    "slideshow": {
     "slide_type": "-"
    }
   },
   "outputs": [],
   "source": [
    "from abc import abstractmethod, ABC\n",
    "import numbers\n",
    "\n",
    "class Number(ABC): pass\n",
    "\n",
    "\n",
    "class Complex(numbers.Number):\n",
    "    \"\"\"Complex defines the operations that work on the builtin complex type.\n",
    "\n",
    "    In short, those are: conversion to complex, bool(), .real, .imag,\n",
    "    +, -, *, /, **, abs(), .conjugate(), ==, and !=.\n",
    "\n",
    "    If it is given heterogeneous arguments, and doesn't have special\n",
    "    knowledge about them, it should fall back to the builtin complex\n",
    "    type as described below.\n",
    "    \"\"\"\n",
    "\n",
    "    @abstractmethod\n",
    "    def __complex__(self):\n",
    "        \"\"\"Return a builtin complex instance.\"\"\"\n",
    "\n",
    "    def __bool__(self):\n",
    "        \"\"\"True if self != 0.\"\"\"\n",
    "        return self != 0\n",
    "\n",
    "    @property\n",
    "    @abstractmethod\n",
    "    def real(self):\n",
    "        \"\"\"Retrieve the real component of this number.\n",
    "\n",
    "        This should subclass Real.\n",
    "        \"\"\"\n",
    "        raise NotImplementedError\n",
    "\n",
    "    @property\n",
    "    @abstractmethod\n",
    "    def imag(self):\n",
    "        \"\"\"Retrieve the real component of this number.\n",
    "\n",
    "        This should subclass Real.\n",
    "        \"\"\"\n",
    "        raise NotImplementedError\n",
    "\n",
    "    @abstractmethod\n",
    "    def __add__(self, other):\n",
    "        raise NotImplementedError"
   ]
  },
  {
   "cell_type": "code",
   "execution_count": null,
   "metadata": {
    "ExecuteTime": {
     "start_time": "2024-01-07T07:01:13.024956800Z"
    }
   },
   "outputs": [],
   "source": [
    "class MyClass(Complex):\n",
    "    pass\n",
    "\n",
    "a = MyClass()"
   ]
  },
  {
   "cell_type": "code",
   "execution_count": null,
   "metadata": {
    "ExecuteTime": {
     "start_time": "2024-01-07T07:01:13.027969700Z"
    }
   },
   "outputs": [],
   "source": []
  },
  {
   "cell_type": "markdown",
   "metadata": {
    "slideshow": {
     "slide_type": "slide"
    }
   },
   "source": [
    "## Structural subtyping пример"
   ]
  },
  {
   "cell_type": "code",
   "execution_count": null,
   "metadata": {
    "ExecuteTime": {
     "start_time": "2024-01-07T07:01:13.031968900Z"
    },
    "cell_style": "split",
    "pycharm": {
     "name": "#%%\n"
    },
    "slideshow": {
     "slide_type": "-"
    }
   },
   "outputs": [],
   "source": [
    "import numbers\n",
    "set(dir(numbers.Integral)) - set(dir(numbers.Real))"
   ]
  },
  {
   "cell_type": "code",
   "execution_count": null,
   "metadata": {
    "ExecuteTime": {
     "start_time": "2024-01-07T07:01:13.035968300Z"
    },
    "cell_style": "split",
    "pycharm": {
     "name": "#%%\n"
    },
    "slideshow": {
     "slide_type": "-"
    }
   },
   "outputs": [],
   "source": [
    "import numbers\n",
    "set(dir(numbers.Real)) - set(dir(numbers.Integral))"
   ]
  },
  {
   "cell_type": "markdown",
   "metadata": {
    "pycharm": {
     "name": "#%% md\n"
    },
    "slideshow": {
     "slide_type": "slide"
    }
   },
   "source": [
    "### Классы → Наследование → Наследование от object"
   ]
  },
  {
   "cell_type": "code",
   "execution_count": null,
   "metadata": {
    "ExecuteTime": {
     "start_time": "2024-01-07T07:01:13.039970100Z"
    },
    "pycharm": {
     "name": "#%%\n"
    },
    "slideshow": {
     "slide_type": "-"
    }
   },
   "outputs": [],
   "source": [
    "class A(object):\n",
    "    pass\n",
    "\n",
    "a = A()"
   ]
  },
  {
   "cell_type": "code",
   "execution_count": null,
   "metadata": {
    "ExecuteTime": {
     "start_time": "2024-01-07T07:01:13.043513300Z"
    },
    "pycharm": {
     "name": "#%%\n"
    },
    "slideshow": {
     "slide_type": "-"
    }
   },
   "outputs": [],
   "source": [
    "object.__dict__"
   ]
  },
  {
   "cell_type": "code",
   "execution_count": null,
   "metadata": {
    "ExecuteTime": {
     "start_time": "2024-01-07T07:01:13.049521700Z"
    },
    "pycharm": {
     "name": "#%%\n"
    },
    "slideshow": {
     "slide_type": "-"
    }
   },
   "outputs": [],
   "source": [
    "A.__dict__"
   ]
  },
  {
   "cell_type": "markdown",
   "metadata": {
    "pycharm": {
     "name": "#%% md\n"
    },
    "slideshow": {
     "slide_type": "slide"
    }
   },
   "source": [
    "### Классы → Наследование → Наследование методов"
   ]
  },
  {
   "cell_type": "code",
   "execution_count": null,
   "metadata": {
    "ExecuteTime": {
     "start_time": "2024-01-07T07:01:13.054513500Z"
    },
    "pycharm": {
     "name": "#%%\n"
    },
    "slideshow": {
     "slide_type": "-"
    }
   },
   "outputs": [],
   "source": [
    "class A:\n",
    "    def __init__(self, x: str):\n",
    "        self.x = x\n",
    "\n",
    "class B(A):\n",
    "    pass\n",
    "\n",
    "b = B(\"hello\")"
   ]
  },
  {
   "cell_type": "code",
   "execution_count": null,
   "metadata": {
    "ExecuteTime": {
     "start_time": "2024-01-07T07:01:13.062509500Z"
    },
    "pycharm": {
     "name": "#%%\n"
    },
    "slideshow": {
     "slide_type": "-"
    }
   },
   "outputs": [],
   "source": [
    "A.__dict__"
   ]
  },
  {
   "cell_type": "code",
   "execution_count": null,
   "metadata": {
    "ExecuteTime": {
     "start_time": "2024-01-07T07:01:13.068517400Z"
    },
    "pycharm": {
     "name": "#%%\n"
    },
    "slideshow": {
     "slide_type": "-"
    }
   },
   "outputs": [],
   "source": [
    "B.__dict__"
   ]
  },
  {
   "cell_type": "code",
   "execution_count": null,
   "metadata": {
    "ExecuteTime": {
     "start_time": "2024-01-07T07:01:13.073511800Z"
    },
    "pycharm": {
     "name": "#%%\n"
    },
    "slideshow": {
     "slide_type": "-"
    }
   },
   "outputs": [],
   "source": [
    "b.__dict__"
   ]
  },
  {
   "cell_type": "markdown",
   "metadata": {
    "pycharm": {
     "name": "#%% md\n"
    },
    "slideshow": {
     "slide_type": "slide"
    }
   },
   "source": [
    "### Классы → Наследование → Overriding методов"
   ]
  },
  {
   "cell_type": "code",
   "execution_count": null,
   "metadata": {
    "ExecuteTime": {
     "start_time": "2024-01-07T07:01:13.076511600Z"
    },
    "pycharm": {
     "name": "#%%\n"
    },
    "slideshow": {
     "slide_type": "-"
    }
   },
   "outputs": [],
   "source": [
    "class A:\n",
    "    def __init__(self, x: str):\n",
    "        self.x = x\n",
    "\n",
    "class B(A):\n",
    "    def __init__(self, y: str):\n",
    "        self.y = y\n",
    "\n",
    "b = B(\"hello\")"
   ]
  },
  {
   "cell_type": "code",
   "execution_count": null,
   "metadata": {
    "ExecuteTime": {
     "start_time": "2024-01-07T07:01:13.080504800Z"
    },
    "pycharm": {
     "name": "#%%\n"
    },
    "slideshow": {
     "slide_type": "-"
    }
   },
   "outputs": [],
   "source": [
    "A.__dict__"
   ]
  },
  {
   "cell_type": "code",
   "execution_count": null,
   "metadata": {
    "ExecuteTime": {
     "start_time": "2024-01-07T07:01:13.084511800Z"
    },
    "pycharm": {
     "name": "#%%\n"
    },
    "slideshow": {
     "slide_type": "-"
    }
   },
   "outputs": [],
   "source": [
    "B.__dict__"
   ]
  },
  {
   "cell_type": "code",
   "execution_count": null,
   "metadata": {
    "ExecuteTime": {
     "start_time": "2024-01-07T07:01:13.088512600Z"
    },
    "pycharm": {
     "name": "#%%\n"
    },
    "slideshow": {
     "slide_type": "-"
    }
   },
   "outputs": [],
   "source": [
    "b.__dict__"
   ]
  },
  {
   "cell_type": "markdown",
   "metadata": {
    "pycharm": {
     "name": "#%% md\n"
    },
    "slideshow": {
     "slide_type": "slide"
    }
   },
   "source": [
    "### Классы → Наследование → Использование родительского метода в override-методе"
   ]
  },
  {
   "cell_type": "code",
   "execution_count": null,
   "metadata": {
    "ExecuteTime": {
     "start_time": "2024-01-07T07:01:13.092504300Z"
    },
    "pycharm": {
     "name": "#%%\n"
    },
    "slideshow": {
     "slide_type": "-"
    }
   },
   "outputs": [],
   "source": [
    "class A:\n",
    "    def __init__(self, x: str):\n",
    "        self.x = x\n",
    "\n",
    "class B(A):\n",
    "    def __init__(self, x: str, y: str):\n",
    "        A.__init__(self, x)\n",
    "        self.y = y\n",
    "\n",
    "b = B(\"xxx\", \"yyy\")"
   ]
  },
  {
   "cell_type": "code",
   "execution_count": null,
   "metadata": {
    "ExecuteTime": {
     "start_time": "2024-01-07T07:01:13.096505200Z"
    },
    "pycharm": {
     "name": "#%%\n"
    },
    "slideshow": {
     "slide_type": "-"
    }
   },
   "outputs": [],
   "source": [
    "A.__dict__"
   ]
  },
  {
   "cell_type": "code",
   "execution_count": null,
   "metadata": {
    "ExecuteTime": {
     "start_time": "2024-01-07T07:01:13.099514800Z"
    },
    "pycharm": {
     "name": "#%%\n"
    },
    "slideshow": {
     "slide_type": "-"
    }
   },
   "outputs": [],
   "source": [
    "B.__dict__"
   ]
  },
  {
   "cell_type": "code",
   "execution_count": null,
   "metadata": {
    "ExecuteTime": {
     "start_time": "2024-01-07T07:01:13.103506400Z"
    },
    "pycharm": {
     "name": "#%%\n"
    },
    "slideshow": {
     "slide_type": "-"
    }
   },
   "outputs": [],
   "source": [
    "b.__dict__"
   ]
  },
  {
   "cell_type": "markdown",
   "metadata": {
    "pycharm": {
     "name": "#%% md\n"
    },
    "slideshow": {
     "slide_type": "slide"
    }
   },
   "source": [
    "### Классы → Наследование → MRO"
   ]
  },
  {
   "cell_type": "markdown",
   "metadata": {
    "pycharm": {
     "name": "#%% md\n"
    },
    "slideshow": {
     "slide_type": "-"
    }
   },
   "source": [
    "- У класса может быть один или несколько предков (по умолчанию один - object)\n",
    "- При обращении к полям и методам обьекта Python пытается найти в самом объекте (== в его \\_\\_dict\\_\\_), потом в его классе, потом в его предках в порядке называемом MRO (Method resolution order) (описание алгоритма https://en.wikipedia.org/wiki/C3_linearization)\n",
    "- Посмотреть MRO обьекта можно позвав метод .mro()"
   ]
  },
  {
   "cell_type": "code",
   "execution_count": null,
   "metadata": {
    "ExecuteTime": {
     "start_time": "2024-01-07T07:01:13.107508Z"
    },
    "pycharm": {
     "name": "#%%\n"
    },
    "slideshow": {
     "slide_type": "-"
    }
   },
   "outputs": [],
   "source": [
    "class A(object):\n",
    "    pass\n",
    "\n",
    "A.mro()"
   ]
  },
  {
   "cell_type": "code",
   "execution_count": null,
   "metadata": {
    "ExecuteTime": {
     "start_time": "2024-01-07T07:01:13.111505100Z"
    },
    "pycharm": {
     "name": "#%%\n"
    },
    "slideshow": {
     "slide_type": "slide"
    }
   },
   "outputs": [],
   "source": [
    "class A(object):\n",
    "    pass\n",
    "\n",
    "class B(A):\n",
    "    pass\n",
    "\n",
    "class C(B):\n",
    "    pass\n",
    "\n",
    "class D(C):\n",
    "    pass\n",
    "\n",
    "D.mro()"
   ]
  },
  {
   "cell_type": "markdown",
   "metadata": {
    "pycharm": {
     "name": "#%% md\n"
    },
    "slideshow": {
     "slide_type": "slide"
    }
   },
   "source": [
    "### Классы → Наследование → Diamond Inheritance problems"
   ]
  },
  {
   "cell_type": "code",
   "execution_count": null,
   "metadata": {
    "ExecuteTime": {
     "start_time": "2024-01-07T07:01:13.115508100Z"
    },
    "pycharm": {
     "name": "#%%\n"
    },
    "slideshow": {
     "slide_type": "-"
    }
   },
   "outputs": [],
   "source": [
    "class A(object):\n",
    "    def __init__(self):\n",
    "        print('A::Init')\n",
    "        self.x = 0\n",
    "        \n",
    "class B(A):\n",
    "    def __init__(self):\n",
    "        print('B::Init')\n",
    "        A.__init__(self)\n",
    "        self.x = 4\n",
    "        \n",
    "class C(A):\n",
    "    def __init__(self): \n",
    "        print('C::Init')\n",
    "        A.__init__(self)\n",
    "        self.y = True\n",
    "        \n",
    "class D(B, C):\n",
    "    def __init__(self):\n",
    "        print('D::Init')\n",
    "        B.__init__(self)\n",
    "        C.__init__(self)\n",
    "         \n",
    "        \n",
    "d = D()\n",
    "d.x"
   ]
  },
  {
   "cell_type": "code",
   "execution_count": null,
   "metadata": {
    "ExecuteTime": {
     "start_time": "2024-01-07T07:01:13.119507300Z"
    },
    "pycharm": {
     "name": "#%%\n"
    },
    "slideshow": {
     "slide_type": "-"
    }
   },
   "outputs": [],
   "source": [
    "# Cхема инициализации\n",
    "#                   / B -> {x: 4}           \\\n",
    "# A -> { x: 0 }                              D -> {x: 0, y: True}\n",
    "#                   \\ C -> {x: 0, y: True} /"
   ]
  },
  {
   "cell_type": "markdown",
   "metadata": {
    "pycharm": {
     "name": "#%% md\n"
    },
    "slideshow": {
     "slide_type": "slide"
    }
   },
   "source": [
    "### Классы → Наследование → super"
   ]
  },
  {
   "cell_type": "code",
   "execution_count": null,
   "metadata": {
    "ExecuteTime": {
     "start_time": "2024-01-07T07:01:13.122510100Z"
    },
    "pycharm": {
     "name": "#%%\n"
    },
    "slideshow": {
     "slide_type": "-"
    }
   },
   "outputs": [],
   "source": [
    "class A(object):\n",
    "    def __init__(self):\n",
    "        print('A::Init')\n",
    "        super().__init__()\n",
    "        self.x = 0\n",
    "    \n",
    "class E:\n",
    "    def __init__(self):\n",
    "        print('E::Init')\n",
    "        super().__init__()\n",
    "\n",
    "class B(A, E):\n",
    "    def __init__(self):\n",
    "        print('B::Init')\n",
    "        super().__init__()\n",
    "        self.x = 4\n",
    "        \n",
    "class C(A): \n",
    "    def __init__(self): \n",
    "        print('C::Init')\n",
    "        super().__init__()\n",
    "        self.y = True\n",
    "        \n",
    "class D(B, C):\n",
    "    def __init__(self):\n",
    "        print('D::Init')\n",
    "        super().__init__()\n",
    "         \n",
    "        \n",
    "d = D()\n",
    "d.x\n",
    "D.mro()"
   ]
  },
  {
   "cell_type": "markdown",
   "metadata": {
    "pycharm": {
     "name": "#%% md\n"
    },
    "slideshow": {
     "slide_type": "slide"
    }
   },
   "source": [
    "### Классы → Наследование → isinstance"
   ]
  },
  {
   "cell_type": "markdown",
   "metadata": {
    "pycharm": {
     "name": "#%% md\n"
    },
    "slideshow": {
     "slide_type": "-"
    }
   },
   "source": [
    "Return true if the object argument is an instance of the classinfo argument, or of a (direct, indirect or virtual) subclass thereof"
   ]
  },
  {
   "cell_type": "code",
   "execution_count": null,
   "metadata": {
    "ExecuteTime": {
     "start_time": "2024-01-07T07:01:13.127539100Z"
    },
    "pycharm": {
     "name": "#%%\n"
    },
    "slideshow": {
     "slide_type": "-"
    }
   },
   "outputs": [],
   "source": [
    "class A:\n",
    "    pass\n",
    "\n",
    "class B(A):\n",
    "    pass\n",
    "\n",
    "a = A()\n",
    "b = B()"
   ]
  },
  {
   "cell_type": "code",
   "execution_count": null,
   "metadata": {
    "ExecuteTime": {
     "start_time": "2024-01-07T07:01:13.132537Z"
    },
    "pycharm": {
     "name": "#%%\n"
    },
    "slideshow": {
     "slide_type": "-"
    }
   },
   "outputs": [],
   "source": [
    "isinstance(a, A), isinstance(a, B)"
   ]
  },
  {
   "cell_type": "code",
   "execution_count": null,
   "metadata": {
    "ExecuteTime": {
     "start_time": "2024-01-07T07:01:13.137534300Z"
    },
    "pycharm": {
     "name": "#%%\n"
    },
    "slideshow": {
     "slide_type": "-"
    }
   },
   "outputs": [],
   "source": [
    "isinstance(b, B), isinstance(b, A)"
   ]
  },
  {
   "cell_type": "code",
   "execution_count": null,
   "metadata": {
    "ExecuteTime": {
     "start_time": "2024-01-07T07:01:13.143081400Z"
    },
    "pycharm": {
     "name": "#%%\n"
    },
    "slideshow": {
     "slide_type": "-"
    }
   },
   "outputs": [],
   "source": [
    "isinstance(A, B), isinstance(B, A)"
   ]
  },
  {
   "cell_type": "code",
   "execution_count": null,
   "metadata": {
    "ExecuteTime": {
     "start_time": "2024-01-07T07:01:13.148082700Z"
    }
   },
   "outputs": [],
   "source": [
    "isinstance(A, type), isinstance(B, type)"
   ]
  },
  {
   "cell_type": "code",
   "execution_count": null,
   "metadata": {
    "ExecuteTime": {
     "start_time": "2024-01-07T07:01:13.152088300Z"
    },
    "pycharm": {
     "name": "#%%\n"
    },
    "slideshow": {
     "slide_type": "-"
    }
   },
   "outputs": [],
   "source": [
    "isinstance(object, type), isinstance(type, object)"
   ]
  },
  {
   "cell_type": "markdown",
   "metadata": {
    "pycharm": {
     "name": "#%% md\n"
    },
    "slideshow": {
     "slide_type": "slide"
    }
   },
   "source": [
    "### Классы → Наследование → issubclass"
   ]
  },
  {
   "cell_type": "markdown",
   "metadata": {
    "pycharm": {
     "name": "#%% md\n"
    },
    "slideshow": {
     "slide_type": "-"
    }
   },
   "source": [
    "Return true if class is a subclass (direct, indirect or virtual) of classinfo."
   ]
  },
  {
   "cell_type": "code",
   "execution_count": null,
   "metadata": {
    "ExecuteTime": {
     "start_time": "2024-01-07T07:01:13.157078800Z"
    },
    "pycharm": {
     "name": "#%%\n"
    },
    "slideshow": {
     "slide_type": "-"
    }
   },
   "outputs": [],
   "source": [
    "class A:\n",
    "    pass\n",
    "\n",
    "class B(A):\n",
    "    pass\n",
    "\n",
    "a = A()\n",
    "b = B()"
   ]
  },
  {
   "cell_type": "code",
   "execution_count": null,
   "metadata": {
    "ExecuteTime": {
     "start_time": "2024-01-07T07:01:13.162078500Z"
    },
    "pycharm": {
     "name": "#%%\n"
    },
    "slideshow": {
     "slide_type": "-"
    }
   },
   "outputs": [],
   "source": [
    "issubclass(a, A), issubclass(a, B)"
   ]
  },
  {
   "cell_type": "code",
   "execution_count": null,
   "metadata": {
    "ExecuteTime": {
     "start_time": "2024-01-07T07:01:13.167078900Z"
    },
    "pycharm": {
     "name": "#%%\n"
    },
    "slideshow": {
     "slide_type": "-"
    }
   },
   "outputs": [],
   "source": [
    "issubclass(b, A), issubclass(b, B)"
   ]
  },
  {
   "cell_type": "code",
   "execution_count": null,
   "metadata": {
    "ExecuteTime": {
     "start_time": "2024-01-07T07:01:13.171090600Z"
    },
    "pycharm": {
     "name": "#%%\n"
    },
    "slideshow": {
     "slide_type": "-"
    }
   },
   "outputs": [],
   "source": [
    "issubclass(A, B), issubclass(B, A), issubclass(A, A), issubclass(B, B)"
   ]
  },
  {
   "cell_type": "code",
   "execution_count": null,
   "metadata": {
    "ExecuteTime": {
     "start_time": "2024-01-07T07:01:13.176079500Z"
    },
    "pycharm": {
     "name": "#%%\n"
    },
    "slideshow": {
     "slide_type": "-"
    }
   },
   "outputs": [],
   "source": [
    "issubclass(object, type), issubclass(type, object)"
   ]
  },
  {
   "cell_type": "code",
   "execution_count": null,
   "metadata": {
    "ExecuteTime": {
     "start_time": "2024-01-07T07:01:13.180082Z"
    },
    "pycharm": {
     "name": "#%%\n"
    }
   },
   "outputs": [],
   "source": []
  },
  {
   "cell_type": "code",
   "execution_count": null,
   "metadata": {
    "ExecuteTime": {
     "start_time": "2024-01-07T07:01:13.184079500Z"
    }
   },
   "outputs": [],
   "source": []
  },
  {
   "cell_type": "code",
   "execution_count": null,
   "metadata": {
    "ExecuteTime": {
     "start_time": "2024-01-07T07:01:13.187085400Z"
    }
   },
   "outputs": [],
   "source": []
  },
  {
   "cell_type": "code",
   "execution_count": null,
   "metadata": {
    "ExecuteTime": {
     "start_time": "2024-01-07T07:01:13.191080Z"
    }
   },
   "outputs": [],
   "source": []
  },
  {
   "cell_type": "code",
   "execution_count": null,
   "metadata": {
    "ExecuteTime": {
     "start_time": "2024-01-07T07:01:13.195078100Z"
    }
   },
   "outputs": [],
   "source": []
  }
 ],
 "metadata": {
  "celltoolbar": "Slideshow",
  "kernelspec": {
   "display_name": "Python 3 (ipykernel)",
   "language": "python",
   "name": "python3"
  },
  "language_info": {
   "codemirror_mode": {
    "name": "ipython",
    "version": 3
   },
   "file_extension": ".py",
   "mimetype": "text/x-python",
   "name": "python",
   "nbconvert_exporter": "python",
   "pygments_lexer": "ipython3",
   "version": "3.11.5"
  },
  "rise": {
   "enable_chalkboard": true,
   "footer": "<p style=\"margin: 5px; color: #a0a0a0\">YSDA Python Course</p>",
   "scroll": true,
   "start_slideshow_at": "selected",
   "theme": "serif",
   "transition": "none"
  }
 },
 "nbformat": 4,
 "nbformat_minor": 4
}
