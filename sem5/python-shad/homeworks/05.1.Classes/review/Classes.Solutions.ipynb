{
 "cells": [
  {
   "cell_type": "markdown",
   "id": "47e5c221",
   "metadata": {
    "slideshow": {
     "slide_type": "slide"
    }
   },
   "source": [
    "<center>\n",
    "    <img src=\"https://upload.wikimedia.org/wikipedia/commons/a/a8/%D0%9B%D0%9E%D0%93%D0%9E_%D0%A8%D0%90%D0%94.png\" width=500px/>\n",
    "    <font>Python 2021</font><br/>\n",
    "    <br/>\n",
    "    <br/>\n",
    "    <b style=\"font-size: 2em\">Разбор задач: Classes</b><br/>\n",
    "    <br/>\n",
    "    <font>Никита Бондарцев</font><br/>\n",
    "</center>"
   ]
  },
  {
   "cell_type": "markdown",
   "id": "29021ffd",
   "metadata": {
    "slideshow": {
     "slide_type": "slide"
    }
   },
   "source": [
    "### 1. orders  → etalon (1)"
   ]
  },
  {
   "cell_type": "code",
   "execution_count": 1,
   "id": "f64a3c25",
   "metadata": {
    "slideshow": {
     "slide_type": "-"
    }
   },
   "outputs": [],
   "source": [
    "from dataclasses import dataclass, field, InitVar\n",
    "from abc import abstractmethod, ABC\n",
    "from typing import Union\n",
    "\n",
    "\n",
    "DISCOUNT_PERCENTS = 15\n",
    "\n",
    "\n",
    "@dataclass(order=True, frozen=True)\n",
    "class Item:\n",
    "    item_id: int = field(compare=False)\n",
    "    title: str\n",
    "    cost: int\n",
    "\n",
    "    def __post_init__(self) -> None:\n",
    "        assert self.title\n",
    "        assert self.cost > 0\n",
    "\n",
    "        \n",
    "# Do not remove `# type: ignore`\n",
    "# It is [a really old issue](https://github.com/python/mypy/issues/5374)\n",
    "@dataclass  # type: ignore\n",
    "class Position(ABC):\n",
    "    item: Item\n",
    "\n",
    "    @property\n",
    "    @abstractmethod\n",
    "    def cost(self) -> Union[float, int]:\n",
    "        pass\n"
   ]
  },
  {
   "cell_type": "code",
   "execution_count": 2,
   "id": "834ede2a",
   "metadata": {
    "slideshow": {
     "slide_type": "slide"
    }
   },
   "outputs": [],
   "source": [
    "@dataclass\n",
    "class CountedPosition(Position):\n",
    "    count: int = 1\n",
    "\n",
    "    @property\n",
    "    def cost(self) -> Union[float, int]:\n",
    "        return self.count * self.item.cost\n",
    "\n",
    "\n",
    "@dataclass\n",
    "class WeightedPosition(Position):\n",
    "    weight: float = 1.0\n",
    "\n",
    "    @property\n",
    "    def cost(self) -> Union[float, int]:\n",
    "        return self.weight * self.item.cost\n",
    "\n",
    "@dataclass\n",
    "class Order:\n",
    "    order_id: int\n",
    "    positions: list[Position] = field(default_factory=list)\n",
    "    cost: int = field(init=False)\n",
    "    have_promo: InitVar[bool] = False\n",
    "\n",
    "    def __post_init__(self, have_promo: bool) -> None:\n",
    "        cost = sum(position.cost for position in self.positions)\n",
    "        if have_promo:\n",
    "            promo_multiplier = (1.0 - DISCOUNT_PERCENTS / 100)\n",
    "            cost *= promo_multiplier\n",
    "        self.cost = int(cost)\n"
   ]
  },
  {
   "cell_type": "markdown",
   "id": "9318d33f",
   "metadata": {
    "slideshow": {
     "slide_type": "slide"
    }
   },
   "source": [
    "### 1. orders  → злоупотребление # type:ignore (2)"
   ]
  },
  {
   "cell_type": "code",
   "execution_count": 14,
   "id": "1dca1f7b",
   "metadata": {
    "slideshow": {
     "slide_type": "-"
    }
   },
   "outputs": [],
   "source": [
    " \n",
    "# Do not remove `# type: ignore`\n",
    "# It is [a really old issue](https://github.com/python/mypy/issues/5374)\n",
    "@dataclass  # type: ignore\n",
    "class Position(ABC):\n",
    "    item: Item\n",
    "\n",
    "    @abstractmethod\n",
    "    def cost(self):  # type:ignore\n",
    "        pass\n",
    "\n",
    "    def __post_init__(self):  # type:ignore\n",
    "        self.cost = self.cost()\n",
    "\n",
    "    def __getattr__(self, item):  # type:ignore\n",
    "        if item == 'cost':\n",
    "            return self.cost\n",
    "\n",
    "        \n",
    "@dataclass\n",
    "class Order:\n",
    "    order_id: int\n",
    "    positions: list[Position] = field(default_factory=list)\n",
    "    cost: int = 0\n",
    "    have_promo: InitVar[bool] = False\n",
    "\n",
    "    def __post_init__(self, have_promo):  # type:ignore\n",
    "        for elem in self.positions:\n",
    "            self.cost += elem.cost\n",
    "        self.cost = int(self.cost * (100 - DISCOUNT_PERCENTS) / 100) if have_promo else int(self.cost)\n"
   ]
  },
  {
   "cell_type": "markdown",
   "id": "9179b4f6",
   "metadata": {
    "slideshow": {
     "slide_type": "slide"
    }
   },
   "source": [
    "### 1. orders  → ручная реализация `__lt__` (3)"
   ]
  },
  {
   "cell_type": "code",
   "execution_count": null,
   "id": "a5cb3a59",
   "metadata": {
    "slideshow": {
     "slide_type": "-"
    }
   },
   "outputs": [],
   "source": [
    "@dataclass(frozen=True)\n",
    "class Item:\n",
    "    item_id: int\n",
    "    title: str\n",
    "    cost: int\n",
    "\n",
    "    def __post_init__(self) -> None:\n",
    "        assert self.title != '' and self.cost > 0\n",
    "\n",
    "    def __eq__(self, other: object) -> bool:\n",
    "        if not isinstance(other, Item):\n",
    "            return NotImplemented\n",
    "        # Предметы должны сравниваться по названию, а после по цене\n",
    "        if self.title == other.title:\n",
    "            return True\n",
    "        elif self.cost == other.cost:\n",
    "            return True\n",
    "        else:\n",
    "            return False\n",
    "\n",
    "    def __lt__(self, other: object) -> bool:\n",
    "        if not isinstance(other, Item):\n",
    "            return NotImplemented\n",
    "        if self.title < other.title:\n",
    "            return True\n",
    "        elif self.title > other.title:\n",
    "            return False\n",
    "        else:\n",
    "            if self.cost < other.cost:\n",
    "                return True\n",
    "            elif self.cost > other.cost:\n",
    "                return False\n",
    "            else:\n",
    "                return False"
   ]
  },
  {
   "cell_type": "markdown",
   "id": "3d483c60",
   "metadata": {
    "slideshow": {
     "slide_type": "slide"
    }
   },
   "source": [
    "### 1. orders  → игнорирование константы количества процентов (4)"
   ]
  },
  {
   "cell_type": "code",
   "execution_count": null,
   "id": "0ed741de",
   "metadata": {
    "slideshow": {
     "slide_type": "-"
    }
   },
   "outputs": [],
   "source": [
    "@dataclass\n",
    "class Order:\n",
    "    order_id: int\n",
    "    cost: int = 0\n",
    "    positions: list[Position] = field(default_factory=list)\n",
    "    have_promo: InitVar[bool] = field(init=True, default=False)\n",
    "\n",
    "    def __post_init__(self, have_promo: bool) -> None:\n",
    "        sum_ = 0\n",
    "        for position in self.positions:\n",
    "            sum_ += position.cost  # type: ignore\n",
    "        if have_promo:\n",
    "            self.cost = int(sum_ * 0.85)\n",
    "        else:\n",
    "            self.cost = int(sum_)\n"
   ]
  },
  {
   "cell_type": "markdown",
   "id": "b42572fb",
   "metadata": {
    "slideshow": {
     "slide_type": "slide"
    }
   },
   "source": [
    "### 1. orders  → значение по умолчанию через None (5)"
   ]
  },
  {
   "cell_type": "code",
   "execution_count": null,
   "id": "9629dbbe",
   "metadata": {
    "slideshow": {
     "slide_type": "-"
    }
   },
   "outputs": [],
   "source": [
    "@dataclass\n",
    "class Order:\n",
    "    order_id: int\n",
    "    positions: list[Position] = None  # type: ignore\n",
    "    cost: Union[int, float] = field(init=False)\n",
    "    have_promo: InitVar[bool] = False\n",
    "\n",
    "    def __post_init__(self, have_promo) -> None:   # type: ignore\n",
    "        self.cost = 0\n",
    "        if self.positions and len(self.positions):\n",
    "            for pos in self.positions:\n",
    "                self.cost += pos.cost\n",
    "            if have_promo:\n",
    "                self.cost = int(self.cost * (1.0 - 0.01 * DISCOUNT_PERCENTS))\n",
    "            self.cost = int(self.cost)\n",
    "        else:\n",
    "            self.positions = []"
   ]
  },
  {
   "cell_type": "markdown",
   "id": "2fb26527",
   "metadata": {
    "slideshow": {
     "slide_type": "slide"
    }
   },
   "source": [
    "### 1. orders  → использование map вместо компрехеншена (6)"
   ]
  },
  {
   "cell_type": "code",
   "execution_count": null,
   "id": "37a0a705",
   "metadata": {
    "slideshow": {
     "slide_type": "-"
    }
   },
   "outputs": [],
   "source": [
    "@dataclass\n",
    "class Order:\n",
    "    order_id: int\n",
    "    positions: list[Position] = field(default_factory=list)\n",
    "    cost: int = field(init=False)\n",
    "    have_promo: InitVar[bool] = field(default=False)\n",
    "\n",
    "    def __post_init__(self, have_promo: bool) -> None:\n",
    "        pre_cost = sum(map(lambda item: item.cost, self.positions), start=0.0)\n",
    "        self.cost = int(pre_cost * (100 - have_promo * DISCOUNT_PERCENTS) / 100)"
   ]
  },
  {
   "cell_type": "markdown",
   "id": "02a53a27",
   "metadata": {
    "slideshow": {
     "slide_type": "slide"
    }
   },
   "source": [
    "### 2. life_game  → ethalon (1)"
   ]
  },
  {
   "cell_type": "code",
   "execution_count": null,
   "id": "e4e86ca5",
   "metadata": {
    "slideshow": {
     "slide_type": "-"
    }
   },
   "outputs": [],
   "source": [
    "class LifeGame:\n",
    "    \"\"\"\n",
    "    Class for Game life\n",
    "    \"\"\"\n",
    "    EMPTY = 0\n",
    "    STONE = 1\n",
    "    FISH = 2\n",
    "    SHRIMP = 3\n",
    "\n",
    "    def __init__(self, start_board: list[list[int]]) -> None:\n",
    "        \"\"\"\n",
    "        :param start_board: rectangle-shape list of lists, which represents ocean, with numbers in cells:\n",
    "                0 - empty, 1 - stone, 2 - fish, 3 - shrimp\n",
    "        \"\"\"\n",
    "        self._board = start_board\n",
    "        self._rows = len(start_board)\n",
    "        self._columns = len(start_board[0])\n",
    "\n",
    "    def __str__(self) -> str:\n",
    "        lines = [' '.join([str(i) for i in line]) for line in self._board]\n",
    "        return '\\n'.join(lines)\n",
    "\n",
    "    def _get_neighbour_indexes(self, i: int, j: int) -> list[tuple[int, int]]:\n",
    "        return [\n",
    "            (ni, nj)\n",
    "            for ni in range(i - 1, i + 2)\n",
    "            for nj in range(j - 1, j + 2)\n",
    "            if 0 <= nj < self._columns and 0 <= ni < self._rows and (ni, nj) != (i, j)\n",
    "        ]\n"
   ]
  },
  {
   "cell_type": "code",
   "execution_count": null,
   "id": "0705eb11",
   "metadata": {
    "slideshow": {
     "slide_type": "slide"
    }
   },
   "outputs": [],
   "source": [
    "# ...\n",
    "    def _get_neighbours(self, i: int, j: int, content: int) -> int:\n",
    "        return sum(\n",
    "            self._board[k][m] == content\n",
    "            for k, m in self._get_neighbour_indexes(i, j)\n",
    "        )\n",
    "\n",
    "    def _get_next_state(self, i: int, j: int) -> int:\n",
    "        current_content = self._board[i][j]\n",
    "        if current_content == self.EMPTY:\n",
    "            if self._get_neighbours(i, j, self.FISH) == 3:\n",
    "                return self.FISH\n",
    "            elif self._get_neighbours(i, j, self.SHRIMP) == 3:\n",
    "                return self.SHRIMP\n",
    "        elif current_content in (self.FISH, self.SHRIMP):\n",
    "            if self._get_neighbours(i, j, current_content) not in (2, 3):\n",
    "                return self.EMPTY\n",
    "        return current_content\n",
    "\n",
    "    def get_next_generation(self) -> list[list[int]]:\n",
    "        \"\"\"\n",
    "        :return: updated state of the ocean board\n",
    "        \"\"\"\n",
    "        self._board = [\n",
    "            [self._get_next_state(i, j) for j in range(self._columns)] for i in range(self._rows)\n",
    "        ]\n",
    "        return self._board\n"
   ]
  },
  {
   "cell_type": "markdown",
   "id": "4f587589",
   "metadata": {
    "slideshow": {
     "slide_type": "slide"
    }
   },
   "source": [
    "### 2. life_game  → private instead of protected (2)"
   ]
  },
  {
   "cell_type": "code",
   "execution_count": null,
   "id": "df4c96f7",
   "metadata": {
    "slideshow": {
     "slide_type": "-"
    }
   },
   "outputs": [],
   "source": [
    "\n",
    "    def __get_neighbors(self, i: int, j: int) -> tp.Tuple[int, int]:\n",
    "\n",
    "        fish = 0\n",
    "        shrimp = 0\n",
    "\n",
    "        for k in range(8):\n",
    "            new_i = i + self.__di[k]\n",
    "            new_j = j + self.__dj[k]\n",
    "            if not (0 <= new_i < self.__n and 0 <= new_j < self.__m):\n",
    "                continue\n",
    "            fish += self.__board[new_i][new_j] == FISH\n",
    "            shrimp += self.__board[new_i][new_j] == SHRIMP\n",
    "\n",
    "        return fish, shrimp"
   ]
  },
  {
   "cell_type": "markdown",
   "id": "6f065512",
   "metadata": {
    "slideshow": {
     "slide_type": "slide"
    }
   },
   "source": [
    "### 2. life_game  → дублирование кода (3)"
   ]
  },
  {
   "cell_type": "code",
   "execution_count": null,
   "id": "153d8eb0",
   "metadata": {
    "slideshow": {
     "slide_type": "-"
    }
   },
   "outputs": [],
   "source": [
    "    def __fish_die(self, i: int, j: int) -> int:\n",
    "        fish, shrimp = self.__get_neighbors(i, j)\n",
    "\n",
    "        if fish <= 1 or fish >= 4:\n",
    "            return EMPTY\n",
    "        return FISH\n",
    "\n",
    "    def __shrimp_die(self, i: int, j: int) -> int:\n",
    "        fish, shrimp = self.__get_neighbors(i, j)\n",
    "\n",
    "        if shrimp <= 1 or shrimp >= 4:\n",
    "            return EMPTY\n",
    "        return SHRIMP"
   ]
  },
  {
   "cell_type": "markdown",
   "id": "c8a13487",
   "metadata": {
    "slideshow": {
     "slide_type": "slide"
    }
   },
   "source": [
    "### 2. life_game  → просто оставлю это здесь (4)"
   ]
  },
  {
   "cell_type": "code",
   "execution_count": null,
   "id": "9e660b25",
   "metadata": {
    "slideshow": {
     "slide_type": "-"
    }
   },
   "outputs": [],
   "source": [
    "    def _get_neighbours(self, i: int, j: int) -> list[int]:\n",
    "        if self._n * self._m == 0:\n",
    "            return []\n",
    "        if self._n * self._m == 1:\n",
    "            return []\n",
    "        if self._n == 1:\n",
    "            if j == 0:\n",
    "                return [self._grid[0][j + 1]]\n",
    "            if j == self._m - 1:\n",
    "                return [self._grid[0][j - 1]]\n",
    "            return [self._grid[0][j - 1], self._grid[0][j + 1]]\n",
    "\n",
    "        if self._m == 1:\n",
    "            if i == 0:\n",
    "                return [self._grid[i + 1][0]]\n",
    "            if i == self._n - 1:\n",
    "                return [self._grid[i - 1][0]]\n",
    "            return [self._grid[i - 1][0], self._grid[i + 1][0]]\n",
    "\n",
    "        if i * j != 0 and i != self._n - 1 and j != self._m - 1:\n",
    "            return self._grid[i - 1][j - 1:j + 2] + self._grid[i + 1][j - 1:j + 2] + \\\n",
    "                   [self._grid[i][j - 1], self._grid[i][j + 1]]\n",
    "        if i == 0 and j == 0:\n",
    "            return [self._grid[i + 1][j], self._grid[i][j + 1], self._grid[i + 1][j + 1]]\n",
    "        if i == 0 and j == self._m - 1:\n",
    "            return [self._grid[i + 1][j], self._grid[i][j - 1], self._grid[i + 1][j - 1]]\n",
    "        if i == self._n - 1 and j == 0:\n",
    "            return [self._grid[i - 1][j], self._grid[i][j + 1], self._grid[i - 1][j + 1]]\n",
    "        if i == self._n - 1 and j == self._m - 1:\n",
    "            return [self._grid[i - 1][j], self._grid[i][j - 1], self._grid[i - 1][j - 1]]\n",
    "        if i == 0:\n",
    "            return [self._grid[i][j - 1], self._grid[i][j + 1], self._grid[i + 1][j - 1],\n",
    "                    self._grid[i + 1][j + 1], self._grid[i + 1][j]]\n",
    "        if i == self._n - 1:\n",
    "            return [self._grid[i][j - 1], self._grid[i][j + 1], self._grid[i - 1][j - 1],\n",
    "                    self._grid[i - 1][j + 1], self._grid[i - 1][j]]\n",
    "        if j == 0:\n",
    "            return [self._grid[i - 1][j], self._grid[i + 1][j], self._grid[i - 1][j + 1],\n",
    "                    self._grid[i + 1][j + 1], self._grid[i][j + 1]]\n",
    "        if j == self._m - 1:\n",
    "            return [self._grid[i - 1][j], self._grid[i + 1][j], self._grid[i - 1][j - 1],\n",
    "                    self._grid[i + 1][j - 1], self._grid[i][j - 1]]\n",
    "        return []"
   ]
  },
  {
   "cell_type": "markdown",
   "id": "30c8c482",
   "metadata": {
    "slideshow": {
     "slide_type": "slide"
    }
   },
   "source": [
    "### 2. life_game  → использование filter (5)"
   ]
  },
  {
   "cell_type": "code",
   "execution_count": null,
   "id": "fca4274e",
   "metadata": {
    "slideshow": {
     "slide_type": "-"
    }
   },
   "outputs": [],
   "source": [
    "\n",
    "    def _get_neis(self, i: int, j: int) -> list[int]:\n",
    "        positions = [(i + 1, j), (i - 1, j), (i, j + 1), (i, j - 1),\n",
    "                     (i + 1, j + 1), (i - 1, j - 1), (i + 1, j - 1), (i - 1, j + 1)]\n",
    "        filtered_positions = filter(\n",
    "            lambda x: x[0] >= 0 and x[0] < len(self.matrix)\n",
    "            and x[1] >= 0 and x[1] < len(self.matrix[0]),\n",
    "            positions)\n",
    "        return [self.matrix[pos[0]][pos[1]] for pos in filtered_positions]"
   ]
  },
  {
   "cell_type": "markdown",
   "id": "b66aa59b",
   "metadata": {
    "slideshow": {
     "slide_type": "slide"
    }
   },
   "source": [
    "### 3. list_twist  → ethalon (1)"
   ]
  },
  {
   "cell_type": "code",
   "execution_count": null,
   "id": "9c30bbaf",
   "metadata": {
    "slideshow": {
     "slide_type": "-"
    }
   },
   "outputs": [],
   "source": [
    "from collections import UserList\n",
    "import typing as tp\n",
    "\n",
    "\n",
    "# https://github.com/python/mypy/issues/5264#issuecomment-399407428\n",
    "if tp.TYPE_CHECKING:\n",
    "    BaseList = UserList[tp.Optional[tp.Any]]\n",
    "else:\n",
    "    BaseList = UserList\n",
    "\n",
    "\n",
    "class ListTwist(BaseList):\n",
    "    REVERSED = ['reversed', 'R']\n",
    "    FIRST = ['first', 'F']\n",
    "    LAST = ['last', 'L']\n",
    "    SIZE = ['size', 'S']\n",
    "\n",
    "    def __getattr__(self, name: str) -> tp.Any:\n",
    "        if name in self.REVERSED:\n",
    "            return list(reversed(self.data))\n",
    "        elif name in self.FIRST:\n",
    "            return self.data[0]\n",
    "        elif name in self.LAST:\n",
    "            return self.data[-1]\n",
    "        elif name in self.SIZE:\n",
    "            return len(self)\n",
    "        else:\n",
    "            return super().__getattribute__(name)\n",
    "\n",
    "    def __setattr__(self, name: str, value: tp.Any) -> None:\n",
    "        if name in self.FIRST:\n",
    "            self.data[0] = value\n",
    "        elif name in self.LAST:\n",
    "            self.data[-1] = value\n",
    "        elif name in self.SIZE:\n",
    "            if value < len(self):\n",
    "                del self.data[value:]\n",
    "            elif value > len(self):\n",
    "                self.data += [None] * (value - len(self.data))\n",
    "        else:\n",
    "            return super().__setattr__(name, value)\n"
   ]
  },
  {
   "cell_type": "markdown",
   "id": "9053f203",
   "metadata": {
    "slideshow": {
     "slide_type": "slide"
    }
   },
   "source": [
    "### 3. list_twist  → repeated property (2)"
   ]
  },
  {
   "cell_type": "code",
   "execution_count": null,
   "id": "94130c0f",
   "metadata": {
    "slideshow": {
     "slide_type": "-"
    }
   },
   "outputs": [],
   "source": [
    "    # First\n",
    "    @property\n",
    "    def F(self) -> tp.Any:\n",
    "        return self.data[0]\n",
    "\n",
    "    @F.setter\n",
    "    def F(self, new_val: tp.Any) -> None:\n",
    "        self.data[0] = new_val\n",
    "\n",
    "    @property\n",
    "    def first(self) -> tp.Any:\n",
    "        return self.data[0]\n",
    "\n",
    "    @first.setter\n",
    "    def first(self, new_val: tp.Any) -> None:\n",
    "        self.data[0] = new_val"
   ]
  },
  {
   "cell_type": "markdown",
   "id": "ad64afe5",
   "metadata": {
    "slideshow": {
     "slide_type": "slide"
    }
   },
   "source": [
    "### 3. list_twist  → assigned property (3)"
   ]
  },
  {
   "cell_type": "code",
   "execution_count": null,
   "id": "75cca21b",
   "metadata": {
    "slideshow": {
     "slide_type": "-"
    }
   },
   "outputs": [],
   "source": [
    "\n",
    "    @property\n",
    "    def first(self) -> tp.Any:\n",
    "        return self[0]\n",
    "\n",
    "    @first.setter\n",
    "    def first(self, value: int) -> None:\n",
    "        self[0] = value\n",
    "\n",
    "    F: tp.Any = first\n",
    "\n",
    "    @property\n",
    "    def last(self) -> tp.Any:\n",
    "        return self[-1]\n",
    "\n",
    "    @last.setter\n",
    "    def last(self, value: int) -> None:\n",
    "        self[-1] = value\n",
    "\n",
    "    L: tp.Any = last"
   ]
  },
  {
   "cell_type": "markdown",
   "id": "66978029",
   "metadata": {
    "slideshow": {
     "slide_type": "slide"
    }
   },
   "source": [
    "### 3. list_twist  → typings ignored (4)"
   ]
  },
  {
   "cell_type": "code",
   "execution_count": null,
   "id": "19bb6c08",
   "metadata": {
    "slideshow": {
     "slide_type": "-"
    }
   },
   "outputs": [],
   "source": [
    "\n",
    "    def __setattr__(self, attr, value):  # type: ignore\n",
    "        if attr in [\"reversed\", \"R\"]:\n",
    "            BaseList.data = reversed(value)\n",
    "        elif attr in [\"size\", \"S\"]:\n",
    "            if len(UserList.data) > value:\n",
    "                BaseList.data = BaseList.data[:value]\n",
    "            else:\n",
    "                BaseList.data.extend([None] * (value - len(BaseList.data)))\n",
    "        elif attr in [\"first\", \"F\"]:\n",
    "            BaseList.data[0] = value\n",
    "        elif attr in [\"last\", \"L\"]:\n",
    "            BaseList.data[-1] = value"
   ]
  },
  {
   "cell_type": "code",
   "execution_count": null,
   "id": "9448a48e",
   "metadata": {},
   "outputs": [],
   "source": []
  }
 ],
 "metadata": {
  "celltoolbar": "Slideshow",
  "kernelspec": {
   "display_name": "Python 3 (ipykernel)",
   "language": "python",
   "name": "python3"
  },
  "language_info": {
   "codemirror_mode": {
    "name": "ipython",
    "version": 3
   },
   "file_extension": ".py",
   "mimetype": "text/x-python",
   "name": "python",
   "nbconvert_exporter": "python",
   "pygments_lexer": "ipython3",
   "version": "3.9.12"
  },
  "rise": {
   "enable_chalkboard": true,
   "footer": "<p style=\"margin: 5px; color: #a0a0a0\">YSDA Python Course</p>",
   "scroll": true,
   "start_slideshow_at": "selected",
   "theme": "serif"
  }
 },
 "nbformat": 4,
 "nbformat_minor": 5
}
