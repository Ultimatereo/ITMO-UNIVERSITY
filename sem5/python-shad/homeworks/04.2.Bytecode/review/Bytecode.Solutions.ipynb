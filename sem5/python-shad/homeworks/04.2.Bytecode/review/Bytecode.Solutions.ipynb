{
 "cells": [
  {
   "cell_type": "markdown",
   "id": "47e5c221",
   "metadata": {
    "cell_style": "center",
    "slideshow": {
     "slide_type": "slide"
    }
   },
   "source": [
    "<center>\n",
    "    <img src=\"https://upload.wikimedia.org/wikipedia/commons/a/a8/%D0%9B%D0%9E%D0%93%D0%9E_%D0%A8%D0%90%D0%94.png\" width=500px/>\n",
    "    <font>Python 2022</font><br/>\n",
    "    <br/>\n",
    "    <br/>\n",
    "    <b style=\"font-size: 2em\">Разбор задач: 04.2.Bytecode</b><br/>\n",
    "    <br/>\n",
    "    <font>Алексей Стыценко</font><br/>\n",
    "</center>"
   ]
  },
  {
   "cell_type": "markdown",
   "id": "420b8f3a",
   "metadata": {
    "cell_style": "center",
    "slideshow": {
     "slide_type": "slide"
    }
   },
   "source": [
    "# codeops"
   ]
  },
  {
   "cell_type": "code",
   "execution_count": null,
   "id": "5fd7a57f",
   "metadata": {},
   "outputs": [],
   "source": [
    "from collections import Counter\n",
    "\n",
    "\n",
    "def count_operations(source_code: types.CodeType) -> dict[str, int]:\n",
    "    \"\"\"Count byte code operations in given source code.\n",
    "\n",
    "    :param source_code: the bytecode operation names to be extracted from\n",
    "    :return: operation counts\n",
    "    \"\"\"\n",
    "    result: tp.Counter[str] = Counter()  # defaultdict(int)\n",
    "    for instruction in dis.get_instructions(source_code):\n",
    "        result.update([instruction.opname])\n",
    "        if isinstance(instruction.argval, types.CodeType):\n",
    "            result.update(count_operations(instruction.argval))\n",
    "    return dict(result)"
   ]
  },
  {
   "cell_type": "markdown",
   "id": "688a64a8",
   "metadata": {
    "slideshow": {
     "slide_type": "slide"
    }
   },
   "source": [
    "# byteme - f0"
   ]
  },
  {
   "cell_type": "markdown",
   "id": "cc017b8e",
   "metadata": {
    "cell_style": "split"
   },
   "source": [
    "   0 LOAD_CONST               0 (None)\n",
    "   2 RETURN_VALUE"
   ]
  },
  {
   "cell_type": "code",
   "execution_count": null,
   "id": "dc1670e7",
   "metadata": {
    "cell_style": "split"
   },
   "outputs": [],
   "source": [
    "def f0() -> Any:\n",
    "    pass"
   ]
  },
  {
   "cell_type": "markdown",
   "id": "605437dc",
   "metadata": {
    "slideshow": {
     "slide_type": "slide"
    }
   },
   "source": [
    "# byteme - f1"
   ]
  },
  {
   "cell_type": "markdown",
   "id": "723e2106",
   "metadata": {
    "cell_style": "split",
    "slideshow": {
     "slide_type": "-"
    }
   },
   "source": [
    "   0 LOAD_CONST               1 (0)\n",
    "   2 STORE_FAST               0 (a)\n",
    "   4 LOAD_FAST                0 (a)\n",
    "   6 RETURN_VALUE"
   ]
  },
  {
   "cell_type": "code",
   "execution_count": null,
   "id": "83106bb3",
   "metadata": {
    "cell_style": "split"
   },
   "outputs": [],
   "source": [
    "def f1() -> Any:\n",
    "    a = 0\n",
    "    return a"
   ]
  },
  {
   "cell_type": "markdown",
   "id": "b847689b",
   "metadata": {
    "slideshow": {
     "slide_type": "slide"
    }
   },
   "source": [
    "# byteme - f2"
   ]
  },
  {
   "cell_type": "markdown",
   "id": "66b76733",
   "metadata": {
    "cell_style": "split",
    "slideshow": {
     "slide_type": "-"
    }
   },
   "source": [
    "   0 LOAD_CONST               1 (0)\n",
    "   2 STORE_FAST               0 (a)\n",
    "   4 LOAD_GLOBAL              0 (print)\n",
    "   6 LOAD_FAST                0 (a)\n",
    "   8 CALL_FUNCTION            1\n",
    "  10 POP_TOP\n",
    "  12 LOAD_CONST               0 (None)\n",
    "  14 RETURN_VALUE"
   ]
  },
  {
   "cell_type": "code",
   "execution_count": null,
   "id": "9e48da3f",
   "metadata": {
    "cell_style": "split"
   },
   "outputs": [],
   "source": [
    "def f2() -> Any:\n",
    "    a = 0\n",
    "    print(a)"
   ]
  },
  {
   "cell_type": "markdown",
   "id": "009dbe49",
   "metadata": {
    "slideshow": {
     "slide_type": "slide"
    }
   },
   "source": [
    "# byteme - f3"
   ]
  },
  {
   "cell_type": "markdown",
   "id": "ac735191",
   "metadata": {
    "cell_style": "split",
    "slideshow": {
     "slide_type": "-"
    }
   },
   "source": [
    "   0 LOAD_CONST               1 (0)\n",
    "   2 STORE_FAST               0 (a)\n",
    "   4 LOAD_FAST                0 (a)\n",
    "   6 LOAD_CONST               2 (1)\n",
    "   8 INPLACE_ADD\n",
    "  10 STORE_FAST               0 (a)\n",
    "  12 LOAD_GLOBAL              0 (print)\n",
    "  14 LOAD_FAST                0 (a)\n",
    "  16 CALL_FUNCTION            1\n",
    "  18 POP_TOP\n",
    "  20 LOAD_CONST               0 (None)\n",
    "  22 RETURN_VALUE"
   ]
  },
  {
   "cell_type": "code",
   "execution_count": null,
   "id": "611ef533",
   "metadata": {
    "cell_style": "split"
   },
   "outputs": [],
   "source": [
    "def f3() -> Any:\n",
    "    a = 0\n",
    "    a += 1\n",
    "    print(a)"
   ]
  },
  {
   "cell_type": "markdown",
   "id": "d68fc370",
   "metadata": {
    "slideshow": {
     "slide_type": "slide"
    }
   },
   "source": [
    "# byteme - f4"
   ]
  },
  {
   "cell_type": "markdown",
   "id": "70fe9cb1",
   "metadata": {
    "cell_style": "split",
    "slideshow": {
     "slide_type": "-"
    }
   },
   "source": [
    "   0 LOAD_GLOBAL              0 (range)\n",
    "   2 LOAD_CONST               1 (10)\n",
    "   4 CALL_FUNCTION            1\n",
    "   6 RETURN_VALUE"
   ]
  },
  {
   "cell_type": "code",
   "execution_count": null,
   "id": "43480b7d",
   "metadata": {
    "cell_style": "split"
   },
   "outputs": [],
   "source": [
    "def f4() -> Any:\n",
    "    return range(10)"
   ]
  },
  {
   "cell_type": "markdown",
   "id": "6e815288",
   "metadata": {
    "slideshow": {
     "slide_type": "slide"
    }
   },
   "source": [
    "# byteme - f5"
   ]
  },
  {
   "cell_type": "markdown",
   "id": "c44062ba",
   "metadata": {
    "cell_style": "split",
    "slideshow": {
     "slide_type": "-"
    }
   },
   "source": [
    "   0 LOAD_GLOBAL              0 (range)\n",
    "   2 LOAD_CONST               1 (10)\n",
    "   4 CALL_FUNCTION            1\n",
    "   6 GET_ITER\n",
    "   8 FOR_ITER                 6 (to 22)\n",
    "  10 STORE_FAST               0 (i)\n",
    "  12 LOAD_GLOBAL              1 (print)\n",
    "  14 LOAD_FAST                0 (i)\n",
    "  16 CALL_FUNCTION            1\n",
    "  18 POP_TOP\n",
    "  20 JUMP_ABSOLUTE            4 (to 8)\n",
    "  22 LOAD_CONST               0 (None)\n",
    "  24 RETURN_VALUE"
   ]
  },
  {
   "cell_type": "code",
   "execution_count": null,
   "id": "29014803",
   "metadata": {
    "cell_style": "split"
   },
   "outputs": [],
   "source": [
    "def f5() -> Any:\n",
    "    for i in range(10):\n",
    "        print(i)"
   ]
  },
  {
   "cell_type": "markdown",
   "id": "41e680ce",
   "metadata": {
    "slideshow": {
     "slide_type": "slide"
    }
   },
   "source": [
    "# byteme - f6"
   ]
  },
  {
   "cell_type": "markdown",
   "id": "33a7285d",
   "metadata": {
    "cell_style": "split",
    "slideshow": {
     "slide_type": "-"
    }
   },
   "source": [
    "   0 LOAD_CONST               1 (0)\n",
    "   2 STORE_FAST               0 (a)\n",
    "   4 LOAD_GLOBAL              0 (range)\n",
    "   6 LOAD_CONST               2 (10)\n",
    "   8 CALL_FUNCTION            1\n",
    "  10 GET_ITER\n",
    "  12 FOR_ITER                 6 (to 26)\n",
    "  14 STORE_FAST               1 (i)\n",
    "  16 LOAD_FAST                0 (a)\n",
    "  18 LOAD_CONST               3 (1)\n",
    "  20 INPLACE_ADD\n",
    "  22 STORE_FAST               0 (a)\n",
    "  24 JUMP_ABSOLUTE            6 (to 12)\n",
    "  26 LOAD_GLOBAL              1 (print)\n",
    "  28 LOAD_FAST                0 (a)\n",
    "  30 CALL_FUNCTION            1\n",
    "  32 POP_TOP\n",
    "  34 LOAD_CONST               0 (None)\n",
    "  36 RETURN_VALUE"
   ]
  },
  {
   "cell_type": "code",
   "execution_count": null,
   "id": "cfce2025",
   "metadata": {
    "cell_style": "split"
   },
   "outputs": [],
   "source": [
    "def f6() -> Any:\n",
    "    a = 0\n",
    "    for i in range(10):\n",
    "        a += 1\n",
    "    print(a)"
   ]
  },
  {
   "cell_type": "markdown",
   "id": "964449f6",
   "metadata": {
    "slideshow": {
     "slide_type": "slide"
    }
   },
   "source": [
    "# byteme - f8"
   ]
  },
  {
   "cell_type": "markdown",
   "id": "ba85d5e3",
   "metadata": {
    "cell_style": "split",
    "slideshow": {
     "slide_type": "-"
    }
   },
   "source": [
    "   0 LOAD_CONST               1 ((1, 2))\n",
    "   2 UNPACK_SEQUENCE          2\n",
    "   4 STORE_FAST               0 (x)\n",
    "   6 STORE_FAST               1 (y)\n",
    "   8 LOAD_CONST               0 (None)\n",
    "  10 RETURN_VALUE"
   ]
  },
  {
   "cell_type": "code",
   "execution_count": null,
   "id": "5133aad2",
   "metadata": {
    "cell_style": "split"
   },
   "outputs": [],
   "source": [
    "def f8() -> Any:\n",
    "    x, y = 1, 2"
   ]
  },
  {
   "cell_type": "markdown",
   "id": "88bfe89f",
   "metadata": {
    "slideshow": {
     "slide_type": "slide"
    }
   },
   "source": [
    "# byteme - f9"
   ]
  },
  {
   "cell_type": "markdown",
   "id": "f5927b9d",
   "metadata": {
    "cell_style": "split",
    "slideshow": {
     "slide_type": "-"
    }
   },
   "source": [
    "   0 LOAD_CONST               1 (1)\n",
    "   2 LOAD_CONST               1 (1)\n",
    "   4 COMPARE_OP               2 (==)\n",
    "   6 POP_JUMP_IF_FALSE        6 (to 12)\n",
    "   8 LOAD_CONST               1 (1)\n",
    "  10 RETURN_VALUE\n",
    "  12 LOAD_CONST               2 (2)\n",
    "  14 RETURN_VALUE"
   ]
  },
  {
   "cell_type": "code",
   "execution_count": null,
   "id": "feb47735",
   "metadata": {
    "cell_style": "split"
   },
   "outputs": [],
   "source": [
    "def f9() -> Any:\n",
    "    return 1 if 1 == 1 else 2"
   ]
  },
  {
   "cell_type": "markdown",
   "id": "79d6fb56",
   "metadata": {
    "slideshow": {
     "slide_type": "slide"
    }
   },
   "source": [
    "# byteme - f10"
   ]
  },
  {
   "cell_type": "markdown",
   "id": "42a05891",
   "metadata": {
    "cell_style": "split",
    "slideshow": {
     "slide_type": "-"
    }
   },
   "source": [
    "   0 LOAD_GLOBAL              0 (range)\n",
    "   2 LOAD_CONST               1 (10)\n",
    "   4 CALL_FUNCTION            1\n",
    "   6 GET_ITER\n",
    "   8 FOR_ITER                 9 (to 28)\n",
    "  10 STORE_FAST               0 (i)\n",
    "  12 LOAD_FAST                0 (i)\n",
    "  14 LOAD_CONST               2 (3)\n",
    "  16 COMPARE_OP               2 (==)\n",
    "  18 POP_JUMP_IF_FALSE       13 (to 26)\n",
    "  20 POP_TOP\n",
    "  22 LOAD_CONST               0 (None)\n",
    "  24 RETURN_VALUE\n",
    "  26 JUMP_ABSOLUTE            4 (to 8)\n",
    "  28 LOAD_CONST               0 (None)\n",
    "  30 RETURN_VALUE"
   ]
  },
  {
   "cell_type": "code",
   "execution_count": null,
   "id": "e36e58da",
   "metadata": {
    "cell_style": "split"
   },
   "outputs": [],
   "source": [
    "def f10() -> Any:\n",
    "    for i in range(10):\n",
    "        if i == 3:\n",
    "            break"
   ]
  },
  {
   "cell_type": "markdown",
   "id": "5ce79498",
   "metadata": {
    "slideshow": {
     "slide_type": "slide"
    }
   },
   "source": [
    "# byteme - f11"
   ]
  },
  {
   "cell_type": "markdown",
   "id": "d66ee693",
   "metadata": {
    "cell_style": "split",
    "slideshow": {
     "slide_type": "-"
    }
   },
   "source": [
    "   0 BUILD_LIST               0\n",
    "   2 LOAD_CONST               1 ((1, 2, 3))\n",
    "   4 LIST_EXTEND              1\n",
    "   6 STORE_FAST               0 (list_)\n",
    "   8 LOAD_CONST               2 (1)\n",
    "  10 LOAD_CONST               3 (2)\n",
    "  12 LOAD_CONST               4 (('a', 'b'))\n",
    "  14 BUILD_CONST_KEY_MAP      2\n",
    "  16 STORE_FAST               1 (dict_)\n",
    "  18 LOAD_FAST                0 (list_)\n",
    "  20 LOAD_FAST                1 (dict_)\n",
    "  22 BUILD_TUPLE              2\n",
    "  24 RETURN_VALUE"
   ]
  },
  {
   "cell_type": "code",
   "execution_count": null,
   "id": "893c1ee3",
   "metadata": {
    "cell_style": "split"
   },
   "outputs": [],
   "source": [
    "def f11() -> Any:\n",
    "    list_ = [1, 2, 3]\n",
    "    dict_ = {'a': 1, 'b': 2}\n",
    "    return list_, dict_"
   ]
  },
  {
   "cell_type": "markdown",
   "id": "f3b2a92e",
   "metadata": {
    "slideshow": {
     "slide_type": "slide"
    }
   },
   "source": [
    "# byteme - f12"
   ]
  },
  {
   "cell_type": "markdown",
   "id": "0fc22307",
   "metadata": {
    "cell_style": "split",
    "slideshow": {
     "slide_type": "-"
    }
   },
   "source": [
    "   0 LOAD_CONST               1 (1)\n",
    "   2 STORE_FAST               0 (a)\n",
    "   4 LOAD_CONST               2 (2)\n",
    "   6 STORE_FAST               1 (b)\n",
    "   8 LOAD_CONST               3 (3)\n",
    "  10 STORE_FAST               2 (c)\n",
    "  12 LOAD_CONST               4 (4)\n",
    "  14 STORE_FAST               3 (d)\n",
    "  16 LOAD_CONST               5 (5)\n",
    "  18 STORE_FAST               4 (e)\n",
    "  20 LOAD_FAST                0 (a)\n",
    "  22 LOAD_FAST                1 (b)\n",
    "  24 LOAD_FAST                2 (c)\n",
    "  26 BINARY_MULTIPLY\n",
    "  28 LOAD_FAST                3 (d)\n",
    "  30 LOAD_FAST                4 (e)\n",
    "  32 BINARY_POWER\n",
    "  34 BINARY_TRUE_DIVIDE\n",
    "  36 BINARY_ADD\n",
    "  38 RETURN_VALUE"
   ]
  },
  {
   "cell_type": "code",
   "execution_count": null,
   "id": "fca0094b",
   "metadata": {
    "cell_style": "split"
   },
   "outputs": [],
   "source": [
    "def f12() -> Any:\n",
    "    a = 1\n",
    "    b = 2\n",
    "    c = 3\n",
    "    d = 4\n",
    "    e = 5\n",
    "    return a + b * c / d ** e"
   ]
  },
  {
   "cell_type": "markdown",
   "id": "04a10d45",
   "metadata": {
    "slideshow": {
     "slide_type": "slide"
    }
   },
   "source": [
    "# arg_binding"
   ]
  },
  {
   "cell_type": "code",
   "execution_count": 2,
   "id": "d9a63d36",
   "metadata": {},
   "outputs": [],
   "source": [
    "def foo(a, b, /, c, d=1, *args, e, f='a', **wtf):\n",
    "    x, y = 123, 456\n",
    "    print(f'{a=} {b=} {c=} {d=} {args=} {e=} {f=} {wtf=}')"
   ]
  },
  {
   "cell_type": "code",
   "execution_count": 3,
   "id": "dded41a8",
   "metadata": {},
   "outputs": [
    {
     "name": "stdout",
     "output_type": "stream",
     "text": [
      "a=1 b=2 c=3 d=4 args=(5, 6) e=4 f='bar' wtf={'q': 100500}\n"
     ]
    }
   ],
   "source": [
    "foo(1, 2, 3, 4, 5, 6, e=4, f='bar', q=100500)"
   ]
  },
  {
   "cell_type": "code",
   "execution_count": 6,
   "id": "eda920a9",
   "metadata": {},
   "outputs": [
    {
     "name": "stdout",
     "output_type": "stream",
     "text": [
      "code.co_varnames=('a', 'b', 'c', 'd', 'e', 'f', 'args', 'wtf', 'x', 'y')\n",
      "code.co_argcount=4\n",
      "code.co_kwonlyargcount=2\n",
      "code.co_posonlyargcount=2\n",
      "0b1001111\n",
      "foo.__defaults__=(1,)\n",
      "foo.__kwdefaults__={'f': 'a'}\n",
      "\n"
     ]
    }
   ],
   "source": [
    "code = foo.__code__\n",
    "print(f'''\\\n",
    "{code.co_varnames=}\n",
    "{code.co_argcount=}\n",
    "{code.co_kwonlyargcount=}\n",
    "{code.co_posonlyargcount=}\n",
    "{bin(code.co_flags)}\n",
    "{foo.__defaults__=}\n",
    "{foo.__kwdefaults__=}\n",
    "''')"
   ]
  },
  {
   "cell_type": "markdown",
   "id": "356d118c",
   "metadata": {
    "slideshow": {
     "slide_type": "slide"
    }
   },
   "source": [
    "# arg_binding"
   ]
  },
  {
   "cell_type": "code",
   "execution_count": null,
   "id": "92ee1856",
   "metadata": {
    "slideshow": {
     "slide_type": "-"
    }
   },
   "outputs": [],
   "source": [
    "from types import FunctionType\n",
    "from typing import Any\n",
    "CO_VARARGS = 4\n",
    "CO_VARKEYWORDS = 8\n",
    "\n",
    "ERR_TOO_MANY_POS_ARGS = 'Too many positional arguments'\n",
    "ERR_TOO_MANY_KW_ARGS = 'Too many keyword arguments'\n",
    "ERR_MULT_VALUES_FOR_ARG = 'Multiple values for arguments'\n",
    "ERR_MISSING_POS_ARGS = 'Missing positional arguments'\n",
    "ERR_MISSING_KWONLY_ARGS = 'Missing keyword-only arguments'\n",
    "ERR_POSONLY_PASSED_AS_KW = 'Positional-only argument passed as keyword argument'\n",
    "\n",
    "\n",
    "def bind_args(func: FunctionType, *args: Any, **kwargs: Any) -> dict[str, Any]:\n",
    "    \"\"\"Bind values from `args` and `kwargs` to corresponding arguments of `func`\n",
    "\n",
    "    :param func: function to be inspected\n",
    "    :param args: positional arguments to be bound\n",
    "    :param kwargs: keyword arguments to be bound\n",
    "    :return: `dict[argument_name] = argument_value` if binding was successful,\n",
    "             raise TypeError with one of `ERR_*` error descriptions otherwise\n",
    "    \"\"\"\n",
    "    code = func.__code__\n",
    "    default_values = func.__defaults__ or ()\n",
    "    kwonlydefaults = func.__kwdefaults__ or {}\n",
    "\n",
    "    has_varargs = bool(code.co_flags & CO_VARARGS)\n",
    "    has_varkwargs = bool(code.co_flags & CO_VARKEYWORDS)\n",
    "\n",
    "    posonly_slice = slice(None, code.co_posonlyargcount)  # [:code.co_posonlyargcount]\n",
    "    pos_or_kw_slice = slice(code.co_posonlyargcount, code.co_argcount)\n",
    "    kwonly_slice = slice(code.co_argcount, code.co_argcount + code.co_kwonlyargcount)\n",
    "    defaults_slice = slice(code.co_argcount - len(default_values), code.co_argcount)\n",
    "\n",
    "    # parse defaults\n",
    "    default_names = code.co_varnames[defaults_slice]\n",
    "    defaults = dict(zip(default_names, default_values))\n",
    "\n",
    "    # parse args\n",
    "    parsed_posonlyargs = dict(zip(\n",
    "        code.co_varnames[posonly_slice],\n",
    "        args[posonly_slice]\n",
    "    ))\n",
    "    parsed_posargs = dict(zip(\n",
    "        code.co_varnames[pos_or_kw_slice],\n",
    "        args[pos_or_kw_slice]\n",
    "    ))\n",
    "    varargs = args[code.co_argcount:]\n",
    "\n",
    "    # parse kwargs\n",
    "    posonly_names = frozenset(code.co_varnames[posonly_slice])\n",
    "    pos_or_kw_names = frozenset(code.co_varnames[pos_or_kw_slice])\n",
    "    kwonly_names = frozenset(code.co_varnames[kwonly_slice])\n",
    "\n",
    "    parsed_kwargs = {}\n",
    "    parsed_kwonlyargs = {}\n",
    "    varkwargs = {}\n",
    "    for k, v in kwargs.items():\n",
    "        if k in pos_or_kw_names:\n",
    "            parsed_kwargs[k] = v\n",
    "        elif k in kwonly_names:\n",
    "            parsed_kwonlyargs[k] = v\n",
    "        else:\n",
    "            varkwargs[k] = v\n",
    "\n",
    "    # checks\n",
    "    if parsed_posargs.keys() & parsed_kwargs.keys():\n",
    "        raise TypeError(ERR_MULT_VALUES_FOR_ARG)\n",
    "\n",
    "    if varkwargs.keys() & posonly_names and not has_varkwargs:\n",
    "        raise TypeError(ERR_POSONLY_PASSED_AS_KW)\n",
    "\n",
    "    if varkwargs and not has_varkwargs:\n",
    "        raise TypeError(ERR_TOO_MANY_KW_ARGS)\n",
    "\n",
    "    if varargs and not has_varargs:\n",
    "        raise TypeError(ERR_TOO_MANY_POS_ARGS)\n",
    "\n",
    "    if (\n",
    "        (posonly_names | pos_or_kw_names)\n",
    "        - parsed_posonlyargs.keys()\n",
    "        - parsed_posargs.keys()\n",
    "        - parsed_kwargs.keys()\n",
    "        - defaults.keys()\n",
    "    ):\n",
    "        raise TypeError(ERR_MISSING_POS_ARGS)\n",
    "\n",
    "    if kwonly_names - parsed_kwonlyargs.keys() - kwonlydefaults.keys():\n",
    "        raise TypeError(ERR_MISSING_KWONLY_ARGS)\n",
    "\n",
    "    # make result\n",
    "    bound_args = {}\n",
    "    bound_args.update(defaults)\n",
    "    bound_args.update(kwonlydefaults)\n",
    "    bound_args.update(parsed_posonlyargs)\n",
    "    bound_args.update(parsed_posargs)\n",
    "    bound_args.update(parsed_kwargs)\n",
    "    bound_args.update(parsed_kwonlyargs)\n",
    "\n",
    "    if has_varargs:\n",
    "        varargs_name = code.co_varnames[code.co_argcount + code.co_kwonlyargcount]\n",
    "        bound_args[varargs_name] = varargs\n",
    "\n",
    "    if has_varkwargs:\n",
    "        varkwargs_name = code.co_varnames[code.co_argcount + code.co_kwonlyargcount + has_varargs]\n",
    "        bound_args[varkwargs_name] = varkwargs\n",
    "\n",
    "    return bound_args"
   ]
  }
 ],
 "metadata": {
  "celltoolbar": "Slideshow",
  "kernelspec": {
   "display_name": "Python 3 (ipykernel)",
   "language": "python",
   "name": "python3"
  },
  "language_info": {
   "codemirror_mode": {
    "name": "ipython",
    "version": 3
   },
   "file_extension": ".py",
   "mimetype": "text/x-python",
   "name": "python",
   "nbconvert_exporter": "python",
   "pygments_lexer": "ipython3",
   "version": "3.10.6"
  }
 },
 "nbformat": 4,
 "nbformat_minor": 5
}
