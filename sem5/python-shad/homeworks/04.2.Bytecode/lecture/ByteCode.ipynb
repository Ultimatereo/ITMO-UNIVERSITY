{
 "cells": [
  {
   "cell_type": "markdown",
   "metadata": {
    "pycharm": {
     "name": "#%% md\n"
    },
    "slideshow": {
     "slide_type": "slide"
    },
    "tags": []
   },
   "source": [
    "<center>\n",
    "    <img src=\"https://upload.wikimedia.org/wikipedia/commons/a/a8/%D0%9B%D0%9E%D0%93%D0%9E_%D0%A8%D0%90%D0%94.png\" width=500px/>\n",
    "    <font>Python 2023</font><br/>\n",
    "    <br/>\n",
    "    <br/>\n",
    "    <b style=\"font-size: 2em\">Python Byte Code</b><br/>\n",
    "    <br/>\n",
    "    <font>Алексей Стыценко</font><br/>\n",
    "</center>"
   ]
  },
  {
   "cell_type": "markdown",
   "metadata": {
    "pycharm": {
     "name": "#%% md\n"
    },
    "slideshow": {
     "slide_type": "slide"
    }
   },
   "source": [
    "Возьмём простую программу"
   ]
  },
  {
   "cell_type": "code",
   "execution_count": 11,
   "metadata": {
    "pycharm": {
     "name": "#%%\n"
    },
    "slideshow": {
     "slide_type": ""
    },
    "tags": []
   },
   "outputs": [],
   "source": [
    "program = \"\"\"\\\n",
    "x = 1\n",
    "y = 2\n",
    "print(3*(x+y))\n",
    "\"\"\""
   ]
  },
  {
   "cell_type": "code",
   "execution_count": 12,
   "metadata": {
    "pycharm": {
     "name": "#%%\n"
    },
    "slideshow": {
     "slide_type": ""
    },
    "tags": []
   },
   "outputs": [
    {
     "name": "stdout",
     "output_type": "stream",
     "text": [
      "9\n"
     ]
    }
   ],
   "source": [
    "exec(program)"
   ]
  },
  {
   "cell_type": "markdown",
   "metadata": {
    "pycharm": {
     "name": "#%% md\n"
    },
    "slideshow": {
     "slide_type": ""
    },
    "tags": []
   },
   "source": [
    "Как интерпретатор её выполняет?"
   ]
  },
  {
   "cell_type": "markdown",
   "metadata": {
    "pycharm": {
     "name": "#%% md\n"
    },
    "slideshow": {
     "slide_type": "slide"
    }
   },
   "source": [
    "Шаг 1: Токенизация"
   ]
  },
  {
   "cell_type": "code",
   "execution_count": 13,
   "metadata": {
    "pycharm": {
     "name": "#%%\n"
    }
   },
   "outputs": [
    {
     "data": {
      "text/plain": [
       "[TokenInfo(type=1 (NAME), string='x', start=(1, 0), end=(1, 1), line='x = 1\\n'),\n",
       " TokenInfo(type=54 (OP), string='=', start=(1, 2), end=(1, 3), line='x = 1\\n'),\n",
       " TokenInfo(type=2 (NUMBER), string='1', start=(1, 4), end=(1, 5), line='x = 1\\n'),\n",
       " TokenInfo(type=4 (NEWLINE), string='\\n', start=(1, 5), end=(1, 6), line='x = 1\\n'),\n",
       " TokenInfo(type=1 (NAME), string='y', start=(2, 0), end=(2, 1), line='y = 2\\n'),\n",
       " TokenInfo(type=54 (OP), string='=', start=(2, 2), end=(2, 3), line='y = 2\\n'),\n",
       " TokenInfo(type=2 (NUMBER), string='2', start=(2, 4), end=(2, 5), line='y = 2\\n'),\n",
       " TokenInfo(type=4 (NEWLINE), string='\\n', start=(2, 5), end=(2, 6), line='y = 2\\n'),\n",
       " TokenInfo(type=1 (NAME), string='print', start=(3, 0), end=(3, 5), line='print(3*(x+y))\\n'),\n",
       " TokenInfo(type=54 (OP), string='(', start=(3, 5), end=(3, 6), line='print(3*(x+y))\\n'),\n",
       " TokenInfo(type=2 (NUMBER), string='3', start=(3, 6), end=(3, 7), line='print(3*(x+y))\\n'),\n",
       " TokenInfo(type=54 (OP), string='*', start=(3, 7), end=(3, 8), line='print(3*(x+y))\\n'),\n",
       " TokenInfo(type=54 (OP), string='(', start=(3, 8), end=(3, 9), line='print(3*(x+y))\\n'),\n",
       " TokenInfo(type=1 (NAME), string='x', start=(3, 9), end=(3, 10), line='print(3*(x+y))\\n'),\n",
       " TokenInfo(type=54 (OP), string='+', start=(3, 10), end=(3, 11), line='print(3*(x+y))\\n'),\n",
       " TokenInfo(type=1 (NAME), string='y', start=(3, 11), end=(3, 12), line='print(3*(x+y))\\n'),\n",
       " TokenInfo(type=54 (OP), string=')', start=(3, 12), end=(3, 13), line='print(3*(x+y))\\n'),\n",
       " TokenInfo(type=54 (OP), string=')', start=(3, 13), end=(3, 14), line='print(3*(x+y))\\n'),\n",
       " TokenInfo(type=4 (NEWLINE), string='\\n', start=(3, 14), end=(3, 15), line='print(3*(x+y))\\n'),\n",
       " TokenInfo(type=0 (ENDMARKER), string='', start=(4, 0), end=(4, 0), line='')]"
      ]
     },
     "execution_count": 13,
     "metadata": {},
     "output_type": "execute_result"
    }
   ],
   "source": [
    "import io\n",
    "import tokenize\n",
    "\n",
    "list(tokenize.generate_tokens(io.StringIO(program).readline))"
   ]
  },
  {
   "cell_type": "markdown",
   "metadata": {
    "pycharm": {
     "name": "#%% md\n"
    },
    "slideshow": {
     "slide_type": "slide"
    }
   },
   "source": [
    "Шаг 2: Построение дерева разбора"
   ]
  },
  {
   "cell_type": "markdown",
   "metadata": {
    "pycharm": {
     "name": "#%% md\n"
    }
   },
   "source": [
    "Грамматика языка: https://docs.python.org/3/reference/grammar.html"
   ]
  },
  {
   "cell_type": "markdown",
   "metadata": {},
   "source": [
    "<div class=\"alert alert-warning\">\n",
    "На самом деле c версии 3.9 промежуточное дерево разбора не строится, строится сразу AST.\n",
    "\n",
    "До версии 3.10 в стандартной библиотеке был модуль `parser`, с помощью которого можно было построить дерево разбора. Он устарел, и с версии 3.10 был удалён. На следующем слайде дерево разбора, построенное в версии 3.9.\n",
    "</div>"
   ]
  },
  {
   "cell_type": "markdown",
   "metadata": {
    "pycharm": {
     "name": "#%% md\n"
    },
    "slideshow": {
     "slide_type": "slide"
    }
   },
   "source": [
    "Шаг 2: Построение дерева разбора (python 3.9)"
   ]
  },
  {
   "cell_type": "code",
   "execution_count": 18,
   "metadata": {
    "pycharm": {
     "name": "#%%\n"
    }
   },
   "outputs": [],
   "source": [
    "import symbol\n",
    "import token\n",
    "import parser\n",
    "\n",
    "# хелпер для вывода дерева разбора в читаемом виде\n",
    "# https://realpython.com/cpython-source-code-guide/#lexing-and-parsing\n",
    "def lex(expression):\n",
    "    symbols = {v: k for k, v in symbol.__dict__.items() if isinstance(v, int)}\n",
    "    tokens = {v: k for k, v in token.__dict__.items() if isinstance(v, int)}\n",
    "    lexicon = {**symbols, **tokens}\n",
    "    st = parser.expr(expression)\n",
    "    st_list = parser.st2list(st)\n",
    "\n",
    "    def replace(l: list):\n",
    "        r = []\n",
    "        for i in l:\n",
    "            if isinstance(i, list):\n",
    "                r.append(replace(i))\n",
    "            else:\n",
    "                if i in lexicon:\n",
    "                    r.append(lexicon[i])\n",
    "                else:\n",
    "                    r.append(i)\n",
    "        return r\n",
    "\n",
    "    return replace(st_list)"
   ]
  },
  {
   "cell_type": "markdown",
   "metadata": {
    "pycharm": {
     "name": "#%% md\n"
    },
    "slideshow": {
     "slide_type": "slide"
    }
   },
   "source": [
    "Шаг 2: Построение дерева разбора (python 3.9)"
   ]
  },
  {
   "cell_type": "code",
   "execution_count": 19,
   "metadata": {
    "pycharm": {
     "name": "#%%\n"
    }
   },
   "outputs": [
    {
     "data": {
      "text/plain": [
       "['eval_input',\n",
       " ['testlist',\n",
       "  ['test',\n",
       "   ['or_test',\n",
       "    ['and_test',\n",
       "     ['not_test',\n",
       "      ['comparison',\n",
       "       ['expr',\n",
       "        ['xor_expr',\n",
       "         ['and_expr',\n",
       "          ['shift_expr',\n",
       "           ['arith_expr',\n",
       "            ['term',\n",
       "             ['factor', ['power', ['atom_expr', ['atom', ['NUMBER', '3']]]]],\n",
       "             ['STAR', '*'],\n",
       "             ['factor',\n",
       "              ['power',\n",
       "               ['atom_expr',\n",
       "                ['atom',\n",
       "                 ['LPAR', '('],\n",
       "                 ['testlist_comp',\n",
       "                  ['namedexpr_test',\n",
       "                   ['test',\n",
       "                    ['or_test',\n",
       "                     ['and_test',\n",
       "                      ['not_test',\n",
       "                       ['comparison',\n",
       "                        ['expr',\n",
       "                         ['xor_expr',\n",
       "                          ['and_expr',\n",
       "                           ['shift_expr',\n",
       "                            ['arith_expr',\n",
       "                             ['term',\n",
       "                              ['factor',\n",
       "                               ['power',\n",
       "                                ['atom_expr', ['atom', ['NAME', 'x']]]]]],\n",
       "                             ['PLUS', '+'],\n",
       "                             ['term',\n",
       "                              ['factor',\n",
       "                               ['power',\n",
       "                                ['atom_expr',\n",
       "                                 ['atom', ['NAME', 'y']]]]]]]]]]]]]]]]]],\n",
       "                 ['RPAR', ')']]]]]]]]]]]]]]]]],\n",
       " ['NEWLINE', ''],\n",
       " ['ENDMARKER', '']]"
      ]
     },
     "execution_count": 19,
     "metadata": {},
     "output_type": "execute_result"
    }
   ],
   "source": [
    "lex('3*(x+y)')"
   ]
  },
  {
   "cell_type": "markdown",
   "metadata": {
    "pycharm": {
     "name": "#%% md\n"
    },
    "slideshow": {
     "slide_type": "slide"
    }
   },
   "source": [
    "Шаг 3: Абстрактное синтаксическое дерево (AST)"
   ]
  },
  {
   "cell_type": "code",
   "execution_count": 14,
   "metadata": {
    "pycharm": {
     "name": "#%%\n"
    }
   },
   "outputs": [
    {
     "name": "stdout",
     "output_type": "stream",
     "text": [
      "Module(\n",
      "    body=[\n",
      "        Assign(\n",
      "            targets=[\n",
      "                Name(id='x', ctx=Store())],\n",
      "            value=Constant(value=1)),\n",
      "        Assign(\n",
      "            targets=[\n",
      "                Name(id='y', ctx=Store())],\n",
      "            value=Constant(value=2)),\n",
      "        Expr(\n",
      "            value=Call(\n",
      "                func=Name(id='print', ctx=Load()),\n",
      "                args=[\n",
      "                    BinOp(\n",
      "                        left=Constant(value=3),\n",
      "                        op=Mult(),\n",
      "                        right=BinOp(\n",
      "                            left=Name(id='x', ctx=Load()),\n",
      "                            op=Add(),\n",
      "                            right=Name(id='y', ctx=Load())))],\n",
      "                keywords=[]))],\n",
      "    type_ignores=[])\n"
     ]
    }
   ],
   "source": [
    "import ast\n",
    "print(ast.dump(ast.parse(program), indent=4))"
   ]
  },
  {
   "cell_type": "markdown",
   "metadata": {
    "pycharm": {
     "name": "#%% md\n"
    },
    "slideshow": {
     "slide_type": "slide"
    }
   },
   "source": [
    "Шаг 4: Компиляция в байткод"
   ]
  },
  {
   "cell_type": "code",
   "execution_count": 24,
   "metadata": {
    "pycharm": {
     "name": "#%%\n"
    }
   },
   "outputs": [],
   "source": [
    "code = compile(program, '<string>', 'exec')"
   ]
  },
  {
   "cell_type": "code",
   "execution_count": 25,
   "metadata": {},
   "outputs": [
    {
     "data": {
      "text/plain": [
       "<code object <module> at 0x10fe15980, file \"<string>\", line 1>"
      ]
     },
     "execution_count": 25,
     "metadata": {},
     "output_type": "execute_result"
    }
   ],
   "source": [
    "code"
   ]
  },
  {
   "cell_type": "code",
   "execution_count": 26,
   "metadata": {
    "pycharm": {
     "name": "#%%\n"
    }
   },
   "outputs": [
    {
     "data": {
      "text/plain": [
       "b'\\x97\\x00d\\x00Z\\x00d\\x01Z\\x01\\x02\\x00e\\x02d\\x02e\\x00e\\x01z\\x00\\x00\\x00z\\x05\\x00\\x00\\xa6\\x01\\x00\\x00\\xab\\x01\\x00\\x00\\x00\\x00\\x00\\x00\\x00\\x00\\x01\\x00d\\x03S\\x00'"
      ]
     },
     "execution_count": 26,
     "metadata": {},
     "output_type": "execute_result"
    }
   ],
   "source": [
    "code.co_code"
   ]
  },
  {
   "cell_type": "code",
   "execution_count": 27,
   "metadata": {
    "pycharm": {
     "name": "#%%\n"
    }
   },
   "outputs": [
    {
     "data": {
      "text/plain": [
       "48"
      ]
     },
     "execution_count": 27,
     "metadata": {},
     "output_type": "execute_result"
    }
   ],
   "source": [
    "len(code.co_code)"
   ]
  },
  {
   "cell_type": "code",
   "execution_count": 28,
   "metadata": {
    "pycharm": {
     "name": "#%%\n"
    }
   },
   "outputs": [
    {
     "name": "stdout",
     "output_type": "stream",
     "text": [
      "[151, 0, 100, 0, 90, 0, 100, 1, 90, 1, 2, 0, 101, 2, 100, 2, 101, 0, 101, 1, 122, 0, 0, 0, 122, 5, 0, 0, 166, 1, 0, 0, 171, 1, 0, 0, 0, 0, 0, 0, 0, 0, 1, 0, 100, 3, 83, 0]\n"
     ]
    }
   ],
   "source": [
    "print(list(code.co_code))"
   ]
  },
  {
   "cell_type": "code",
   "execution_count": 51,
   "metadata": {
    "pycharm": {
     "name": "#%%\n"
    }
   },
   "outputs": [
    {
     "data": {
      "text/plain": [
       "('LOAD_CONST', 'STORE_NAME', 'BINARY_OP', 'CALL', 'CACHE')"
      ]
     },
     "execution_count": 51,
     "metadata": {},
     "output_type": "execute_result"
    }
   ],
   "source": [
    "import dis\n",
    "dis.opname[100], dis.opname[90], dis.opname[122], dis.opname[171], dis.opname[0]"
   ]
  },
  {
   "cell_type": "markdown",
   "metadata": {
    "pycharm": {
     "name": "#%% md\n"
    },
    "slideshow": {
     "slide_type": "slide"
    }
   },
   "source": [
    "Байткод"
   ]
  },
  {
   "cell_type": "code",
   "execution_count": 52,
   "metadata": {
    "pycharm": {
     "name": "#%%\n"
    }
   },
   "outputs": [
    {
     "name": "stdout",
     "output_type": "stream",
     "text": [
      "  0           0 RESUME                   0\n",
      "\n",
      "  1           2 LOAD_CONST               0 (1)\n",
      "              4 STORE_NAME               0 (x)\n",
      "\n",
      "  2           6 LOAD_CONST               1 (2)\n",
      "              8 STORE_NAME               1 (y)\n",
      "\n",
      "  3          10 PUSH_NULL\n",
      "             12 LOAD_NAME                2 (print)\n",
      "             14 LOAD_CONST               2 (3)\n",
      "             16 LOAD_NAME                0 (x)\n",
      "             18 LOAD_NAME                1 (y)\n",
      "             20 BINARY_OP                0 (+)\n",
      "             24 BINARY_OP                5 (*)\n",
      "             28 PRECALL                  1\n",
      "             32 CALL                     1\n",
      "             42 POP_TOP\n",
      "             44 LOAD_CONST               3 (None)\n",
      "             46 RETURN_VALUE\n"
     ]
    }
   ],
   "source": [
    "dis.dis(program)"
   ]
  },
  {
   "cell_type": "markdown",
   "metadata": {
    "pycharm": {
     "name": "#%% md\n"
    }
   },
   "source": [
    "Как читать вывод dis: https://stackoverflow.com/a/47529318\n",
    "\n",
    "Что делают инструкции: https://docs.python.org/3.11/library/dis.html#python-bytecode-instructions"
   ]
  },
  {
   "cell_type": "markdown",
   "metadata": {
    "pycharm": {
     "name": "#%% md\n"
    },
    "slideshow": {
     "slide_type": "slide"
    }
   },
   "source": [
    "Байткод"
   ]
  },
  {
   "cell_type": "code",
   "execution_count": 53,
   "metadata": {
    "pycharm": {
     "name": "#%%\n"
    }
   },
   "outputs": [
    {
     "name": "stdout",
     "output_type": "stream",
     "text": [
      "  0           0 RESUME                   0\n",
      "\n",
      "  1           2 LOAD_CONST               0 (<code object foo at 0x10f5a0440, file \"<dis>\", line 1>)\n",
      "              4 MAKE_FUNCTION            0\n",
      "              6 STORE_NAME               0 (foo)\n",
      "\n",
      "  3           8 PUSH_NULL\n",
      "             10 LOAD_NAME                0 (foo)\n",
      "             12 LOAD_CONST               1 (1)\n",
      "             14 LOAD_CONST               2 (2)\n",
      "             16 PRECALL                  2\n",
      "             20 CALL                     2\n",
      "             30 POP_TOP\n",
      "             32 LOAD_CONST               3 (None)\n",
      "             34 RETURN_VALUE\n",
      "\n",
      "Disassembly of <code object foo at 0x10f5a0440, file \"<dis>\", line 1>:\n",
      "  1           0 RESUME                   0\n",
      "\n",
      "  2           2 LOAD_CONST               1 (3)\n",
      "              4 LOAD_FAST                0 (x)\n",
      "              6 LOAD_FAST                1 (y)\n",
      "              8 BINARY_OP                0 (+)\n",
      "             12 BINARY_OP                5 (*)\n",
      "             16 RETURN_VALUE\n"
     ]
    }
   ],
   "source": [
    "program = '''\\\n",
    "def foo(x, y):\n",
    "    return 3*(x + y)\n",
    "foo(1, 2)\n",
    "'''\n",
    "dis.dis(program)"
   ]
  },
  {
   "cell_type": "markdown",
   "metadata": {
    "pycharm": {
     "name": "#%% md\n"
    },
    "slideshow": {
     "slide_type": "slide"
    }
   },
   "source": [
    "Байткод"
   ]
  },
  {
   "cell_type": "code",
   "execution_count": 54,
   "metadata": {
    "pycharm": {
     "name": "#%%\n"
    }
   },
   "outputs": [
    {
     "data": {
      "text/plain": [
       "[Instruction(opname='RESUME', opcode=151, arg=0, argval=0, argrepr='', offset=0, starts_line=0, is_jump_target=False, positions=Positions(lineno=0, end_lineno=1, col_offset=0, end_col_offset=0)),\n",
       " Instruction(opname='LOAD_CONST', opcode=100, arg=0, argval=<code object foo at 0x10f5a0440, file \"<disassembly>\", line 1>, argrepr='<code object foo at 0x10f5a0440, file \"<disassembly>\", line 1>', offset=2, starts_line=1, is_jump_target=False, positions=Positions(lineno=1, end_lineno=2, col_offset=0, end_col_offset=20)),\n",
       " Instruction(opname='MAKE_FUNCTION', opcode=132, arg=0, argval=0, argrepr='', offset=4, starts_line=None, is_jump_target=False, positions=Positions(lineno=1, end_lineno=2, col_offset=0, end_col_offset=20)),\n",
       " Instruction(opname='STORE_NAME', opcode=90, arg=0, argval='foo', argrepr='foo', offset=6, starts_line=None, is_jump_target=False, positions=Positions(lineno=1, end_lineno=2, col_offset=0, end_col_offset=20)),\n",
       " Instruction(opname='PUSH_NULL', opcode=2, arg=None, argval=None, argrepr='', offset=8, starts_line=3, is_jump_target=False, positions=Positions(lineno=3, end_lineno=3, col_offset=0, end_col_offset=3)),\n",
       " Instruction(opname='LOAD_NAME', opcode=101, arg=0, argval='foo', argrepr='foo', offset=10, starts_line=None, is_jump_target=False, positions=Positions(lineno=3, end_lineno=3, col_offset=0, end_col_offset=3)),\n",
       " Instruction(opname='LOAD_CONST', opcode=100, arg=1, argval=1, argrepr='1', offset=12, starts_line=None, is_jump_target=False, positions=Positions(lineno=3, end_lineno=3, col_offset=4, end_col_offset=5)),\n",
       " Instruction(opname='LOAD_CONST', opcode=100, arg=2, argval=2, argrepr='2', offset=14, starts_line=None, is_jump_target=False, positions=Positions(lineno=3, end_lineno=3, col_offset=7, end_col_offset=8)),\n",
       " Instruction(opname='PRECALL', opcode=166, arg=2, argval=2, argrepr='', offset=16, starts_line=None, is_jump_target=False, positions=Positions(lineno=3, end_lineno=3, col_offset=0, end_col_offset=9)),\n",
       " Instruction(opname='CALL', opcode=171, arg=2, argval=2, argrepr='', offset=20, starts_line=None, is_jump_target=False, positions=Positions(lineno=3, end_lineno=3, col_offset=0, end_col_offset=9)),\n",
       " Instruction(opname='POP_TOP', opcode=1, arg=None, argval=None, argrepr='', offset=30, starts_line=None, is_jump_target=False, positions=Positions(lineno=3, end_lineno=3, col_offset=0, end_col_offset=9)),\n",
       " Instruction(opname='LOAD_CONST', opcode=100, arg=3, argval=None, argrepr='None', offset=32, starts_line=None, is_jump_target=False, positions=Positions(lineno=3, end_lineno=3, col_offset=0, end_col_offset=9)),\n",
       " Instruction(opname='RETURN_VALUE', opcode=83, arg=None, argval=None, argrepr='', offset=34, starts_line=None, is_jump_target=False, positions=Positions(lineno=3, end_lineno=3, col_offset=0, end_col_offset=9))]"
      ]
     },
     "execution_count": 54,
     "metadata": {},
     "output_type": "execute_result"
    }
   ],
   "source": [
    "list(dis.get_instructions(program))"
   ]
  },
  {
   "cell_type": "markdown",
   "metadata": {
    "pycharm": {
     "name": "#%% md\n"
    },
    "slideshow": {
     "slide_type": "slide"
    }
   },
   "source": [
    "Ссылки"
   ]
  },
  {
   "cell_type": "markdown",
   "metadata": {
    "pycharm": {
     "name": "#%% md\n"
    }
   },
   "source": [
    "- https://leanpub.com/insidethepythonvirtualmachine/read\n",
    "- https://realpython.com/cpython-source-code-guide/"
   ]
  }
 ],
 "metadata": {
  "celltoolbar": "Slideshow",
  "kernelspec": {
   "display_name": "Python 3 (ipykernel)",
   "language": "python",
   "name": "python3"
  },
  "language_info": {
   "codemirror_mode": {
    "name": "ipython",
    "version": 3
   },
   "file_extension": ".py",
   "mimetype": "text/x-python",
   "name": "python",
   "nbconvert_exporter": "python",
   "pygments_lexer": "ipython3",
   "version": "3.11.5"
  },
  "rise": {
   "enable_chalkboard": true,
   "footer": "<p style=\"margin: 5px; color: #a0a0a0\">YSDA Python Course</p>",
   "scroll": true,
   "start_slideshow_at": "selected",
   "theme": "serif",
   "transition": "none"
  }
 },
 "nbformat": 4,
 "nbformat_minor": 4
}
