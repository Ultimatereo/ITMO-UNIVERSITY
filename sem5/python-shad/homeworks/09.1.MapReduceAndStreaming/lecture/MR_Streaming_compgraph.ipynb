{
 "cells": [
  {
   "cell_type": "markdown",
   "id": "7f581b46",
   "metadata": {
    "slideshow": {
     "slide_type": "slide"
    }
   },
   "source": [
    "<center>\n",
    "    <img src=\"https://upload.wikimedia.org/wikipedia/commons/a/a8/%D0%9B%D0%9E%D0%93%D0%9E_%D0%A8%D0%90%D0%94.png\" width=500px/>\n",
    "    <font>Python 2023</font><br/>\n",
    "    <br/>\n",
    "    <br/>\n",
    "    <b style=\"font-size: 2em\">MapReduce (в т. ч. в Python)</b><br/>\n",
    "    <br/>\n",
    "    <font>Золотарёв Ярослав, по материалам Максима Ахмедова 🫡</font><br/>\n",
    "</center>"
   ]
  },
  {
   "cell_type": "markdown",
   "id": "a4e45ea5",
   "metadata": {
    "slideshow": {
     "slide_type": "slide"
    }
   },
   "source": [
    "### План лекции\n",
    "\n",
    "**Первая часть: Map-Reduce (50m)**\n",
    "1. Map-Reduce\n",
    "2. Модель данных \"распределённая система\"\n",
    "\n",
    "**Вторая часть: Стриминг (30m)** \n",
    "1. Стриминг в обычной жизни\n",
    "2. Модель данных \"стриминг\"\n",
    "\n",
    "**Третья часть: Выдача домашки (<1h)**\n",
    "1. `diesel_power`\n",
    "2. `compgraph` "
   ]
  },
  {
   "cell_type": "markdown",
   "id": "a2496511",
   "metadata": {
    "slideshow": {
     "slide_type": "slide"
    }
   },
   "source": [
    "# Map-Reduce"
   ]
  },
  {
   "cell_type": "markdown",
   "id": "81df4948",
   "metadata": {
    "slideshow": {
     "slide_type": "slide"
    }
   },
   "source": [
    "## Что такое Map-Reduce\n",
    "\n",
    "* Вычислительная парадигма, придуманная в Google\n",
    "* Представлена широкой публике в статье 2004 году\n",
    "* В 2006 году появился свой прототип в Яндексе\n",
    "* В 2007 году появился Apache Hadoop -- первая открытая реализация\n",
    "* Используется и по сей день в хоть сколько-то больших вычислительных кластерах"
   ]
  },
  {
   "cell_type": "markdown",
   "id": "f719b938",
   "metadata": {
    "slideshow": {
     "slide_type": "slide"
    }
   },
   "source": [
    "### Табличная модель вычислений\n",
    "* Графы, деревья, другие содержательные структуры данных -- слишком сложно для внешней памяти распределенных систем\n",
    "* Таблицы со строками -- просто и удобно\n",
    "* $\\sf{table} := \\sf{sequence\\;of\\;rows}$\n",
    "* $\\sf{row} := \\sf{dictionary}:\\; \\{\\sf{column\\;name} \\rightarrow \\sf{field} \\}$"
   ]
  },
  {
   "cell_type": "code",
   "execution_count": 1,
   "id": "7a5027c5",
   "metadata": {
    "hide_input": true,
    "slideshow": {
     "slide_type": "skip"
    }
   },
   "outputs": [],
   "source": [
    "try:\n",
    "    import polars as pl\n",
    "except ImportError:\n",
    "    !pip install polars\n",
    "    import polars as pl\n",
    "    \n",
    "_EX1 = [\n",
    "    {\"name\": \"Max\", \"age\": 24, \"height\": 183},\n",
    "    {\"name\": \"Peter\", \"age\": 30, \"height\": 162},\n",
    "    {\"name\": \"Maria\", \"age\": 20, \"height\": 200}\n",
    "]\n",
    "\n",
    "_DF_EX1 = pl.DataFrame(_EX1)"
   ]
  },
  {
   "cell_type": "code",
   "execution_count": 2,
   "id": "b9d5c0f8",
   "metadata": {
    "code_folding": [],
    "hide_input": true,
    "run_control": {
     "marked": true
    },
    "slideshow": {
     "slide_type": "slide"
    }
   },
   "outputs": [
    {
     "name": "stdout",
     "output_type": "stream",
     "text": [
      "Как мы видим базу данных: \n",
      "shape: (3, 3)\n",
      "┌───────┬─────┬────────┐\n",
      "│ name  ┆ age ┆ height │\n",
      "│ ---   ┆ --- ┆ ---    │\n",
      "│ str   ┆ i64 ┆ i64    │\n",
      "╞═══════╪═════╪════════╡\n",
      "│ Max   ┆ 24  ┆ 183    │\n",
      "│ Peter ┆ 30  ┆ 162    │\n",
      "│ Maria ┆ 20  ┆ 200    │\n",
      "└───────┴─────┴────────┘\n",
      "Как она может быть представлена логически: \n",
      "{'name': 'Max', 'age': 24, 'height': 183}\n",
      "{'name': 'Peter', 'age': 30, 'height': 162}\n",
      "{'name': 'Maria', 'age': 20, 'height': 200}\n"
     ]
    }
   ],
   "source": [
    "print('Как мы видим базу данных: ')\n",
    "print(_DF_EX1)\n",
    "print('Как она может быть представлена логически: ')\n",
    "for row in _EX1:\n",
    "    print(row)"
   ]
  },
  {
   "cell_type": "markdown",
   "id": "9c5972da",
   "metadata": {
    "slideshow": {
     "slide_type": "slide"
    }
   },
   "source": [
    "### Табличная модель вычислений на практике\n",
    "\n",
    "* Физически таблица может находиться на одной машине, а может быть нарезана на произвольное число кусков, находящихся на разных машинах.\n",
    "* Замечательная черта парадигмы Map-Reduce: она хорошо масштабируется в распределённых системах, позволяя мыслить таблицами и не задумываться о физическом аспекте хранения."
   ]
  },
  {
   "cell_type": "code",
   "execution_count": 3,
   "id": "3fe7083a",
   "metadata": {
    "hide_input": false,
    "slideshow": {
     "slide_type": "skip"
    }
   },
   "outputs": [],
   "source": [
    "_EX2 = [\n",
    "    {\"ts\": 14211307, \"query_text\": \"Где скачать Death Stranding?\", \"device\": \"PC\"},\n",
    "    {\"ts\": 14211396, \"query_text\": \"Где растёт кокос\", \"device\": \"Android\"},\n",
    "    {\"ts\": 14211402, \"query_text\": \"дора слушать онлайн\", \"device\": \"Android\"}\n",
    "]\n",
    "\n",
    "_DF_EX2 = pl.DataFrame(_EX2)"
   ]
  },
  {
   "cell_type": "markdown",
   "id": "f70abb63",
   "metadata": {
    "slideshow": {
     "slide_type": "slide"
    }
   },
   "source": [
    "### Другой пример - дневной лог запросов к поиску Яндекса\n",
    "\n",
    "Размер таблицы с подобным дневным логом продакшн-сервиса может достигать петабайт данных."
   ]
  },
  {
   "cell_type": "code",
   "execution_count": 4,
   "id": "1f56aeec",
   "metadata": {
    "hide_input": true,
    "slideshow": {
     "slide_type": "-"
    }
   },
   "outputs": [
    {
     "name": "stdout",
     "output_type": "stream",
     "text": [
      "shape: (3, 3)\n",
      "┌──────────┬──────────────────────────────┬─────────┐\n",
      "│ ts       ┆ query_text                   ┆ device  │\n",
      "│ ---      ┆ ---                          ┆ ---     │\n",
      "│ i64      ┆ str                          ┆ str     │\n",
      "╞══════════╪══════════════════════════════╪═════════╡\n",
      "│ 14211307 ┆ Где скачать Death Stranding? ┆ PC      │\n",
      "│ 14211396 ┆ Где растёт кокос             ┆ Android │\n",
      "│ 14211402 ┆ дора слушать онлайн          ┆ Android │\n",
      "└──────────┴──────────────────────────────┴─────────┘\n"
     ]
    }
   ],
   "source": [
    "print(_DF_EX2)"
   ]
  },
  {
   "cell_type": "markdown",
   "id": "c667b97c",
   "metadata": {
    "slideshow": {
     "slide_type": "slide"
    }
   },
   "source": [
    "### Word Count\n",
    "* Классическая задача, на которой можно проиллюстрировать парадигму Map-Reduce, это Word Count.\n",
    "* Дан текст, представленный в виде набора строковых значений в столбце (потенциально большой) таблицы.\n",
    "* Посчитать количество вхождений каждого слова в текст.\n",
    "* Иными словами, сформировать таблицу из пар $(word_i,\\,count_i)$."
   ]
  },
  {
   "cell_type": "markdown",
   "id": "7929c0db",
   "metadata": {
    "slideshow": {
     "slide_type": "slide"
    }
   },
   "source": [
    "### Map\n",
    "* Первая операция в нашей модели -- ${\\sf Map}_M(T)$, которая применяет **маппер** $M$ к таблице $T$.\n",
    "* Маппер -- правило, по которому одну строку таблицы можно преобразовать в одну или несколько (возможно ноль) строк новой таблицы.\n",
    "* $M: {\\sf row} \\rightarrow {\\sf row}^*$.\n",
    "* Операция ${\\sf Map}_M(T)$ применяет $M$ ко всем строкам входной таблицы и составляет выходную таблицу из объединения результатов.\n",
    "* ${\\sf Map}_M : table \\rightarrow table$."
   ]
  },
  {
   "cell_type": "markdown",
   "id": "9f68a850",
   "metadata": {
    "slideshow": {
     "slide_type": "slide"
    }
   },
   "source": [
    "### Примеры мапперов:\n",
    "* Project: оставить одно и то же подмножество столбцов в каждой строке.\n",
    "* StripPunctuation: избавить строковое значение от символов пунктуации в конкретном столбце.\n",
    "* ToLowercase: привести к нижнему регистру строковые значения в конкретном столбце.\n",
    "            \n",
    "Все эти мапперы биективны, то есть они переводят строку таблицы ровно в одну строку таблицы.  \n",
    "\n",
    "Подействуем по очереди мап-операциями с описанными мапперами на таблицу из предыдущего примера."
   ]
  },
  {
   "cell_type": "markdown",
   "id": "5eae6d29",
   "metadata": {
    "slideshow": {
     "slide_type": "slide"
    }
   },
   "source": [
    "### Word Count, шаг 1\n",
    "Пусть $T_0$ -- наша исходная база данных. \n",
    "\n",
    "Тогда $T_1 = {\\sf Map}_{\\sf Project}(T_0)$ (проецируем на колонку $query\\_text$):"
   ]
  },
  {
   "cell_type": "code",
   "execution_count": 5,
   "id": "119fdb58",
   "metadata": {
    "hide_input": true,
    "slideshow": {
     "slide_type": "-"
    }
   },
   "outputs": [
    {
     "name": "stdout",
     "output_type": "stream",
     "text": [
      "T_0:\n",
      "shape: (3, 3)\n",
      "┌──────────┬──────────────────────────────┬─────────┐\n",
      "│ ts       ┆ query_text                   ┆ device  │\n",
      "│ ---      ┆ ---                          ┆ ---     │\n",
      "│ i64      ┆ str                          ┆ str     │\n",
      "╞══════════╪══════════════════════════════╪═════════╡\n",
      "│ 14211307 ┆ Где скачать Death Stranding? ┆ PC      │\n",
      "│ 14211396 ┆ Где растёт кокос             ┆ Android │\n",
      "│ 14211402 ┆ дора слушать онлайн          ┆ Android │\n",
      "└──────────┴──────────────────────────────┴─────────┘\n",
      "T_1:\n",
      "shape: (3, 1)\n",
      "┌──────────────────────────────┐\n",
      "│ query_text                   │\n",
      "│ ---                          │\n",
      "│ str                          │\n",
      "╞══════════════════════════════╡\n",
      "│ Где скачать Death Stranding? │\n",
      "│ Где растёт кокос             │\n",
      "│ дора слушать онлайн          │\n",
      "└──────────────────────────────┘\n"
     ]
    }
   ],
   "source": [
    "print('T_0:')\n",
    "print(_DF_EX2)\n",
    "ex2_query = _DF_EX2.select(pl.col('query_text'))\n",
    "print('T_1:')\n",
    "print(ex2_query)"
   ]
  },
  {
   "cell_type": "markdown",
   "id": "86deff6b",
   "metadata": {
    "slideshow": {
     "slide_type": "slide"
    }
   },
   "source": [
    "### Word Count, шаг 2\n",
    "$T_2 = {\\sf Map}_{StripPunctuation}(T_1)$"
   ]
  },
  {
   "cell_type": "code",
   "execution_count": 6,
   "id": "eef7492a",
   "metadata": {
    "hide_input": true,
    "slideshow": {
     "slide_type": "-"
    }
   },
   "outputs": [
    {
     "name": "stdout",
     "output_type": "stream",
     "text": [
      "T_1:\n",
      "shape: (3, 1)\n",
      "┌──────────────────────────────┐\n",
      "│ query_text                   │\n",
      "│ ---                          │\n",
      "│ str                          │\n",
      "╞══════════════════════════════╡\n",
      "│ Где скачать Death Stranding? │\n",
      "│ Где растёт кокос             │\n",
      "│ дора слушать онлайн          │\n",
      "└──────────────────────────────┘\n",
      "T_2:\n",
      "shape: (3, 1)\n",
      "┌─────────────────────────────┐\n",
      "│ query_text                  │\n",
      "│ ---                         │\n",
      "│ str                         │\n",
      "╞═════════════════════════════╡\n",
      "│ Где скачать Death Stranding │\n",
      "│ Где растёт кокос            │\n",
      "│ дора слушать онлайн         │\n",
      "└─────────────────────────────┘\n"
     ]
    }
   ],
   "source": [
    "from functools import partial\n",
    "_PUNCT = r'!\"#$%&\\'()*+,-./:;<=>?@[\\]^_`{|}~'\n",
    "print('T_1:')\n",
    "print(ex2_query)\n",
    "ex2_stripped = ex2_query.select(\n",
    "    pl.col('query_text').map_elements(\n",
    "        lambda x: str.translate(x, str.maketrans('', '', _PUNCT))\n",
    "    )\n",
    ")\n",
    "print('T_2:')\n",
    "print(ex2_stripped)"
   ]
  },
  {
   "cell_type": "markdown",
   "id": "4fd551c8",
   "metadata": {
    "slideshow": {
     "slide_type": "slide"
    }
   },
   "source": [
    "### Word Count, шаг 3\n",
    "$T_3 = {\\sf Map}_{ToLowercase}(T_2)$"
   ]
  },
  {
   "cell_type": "code",
   "execution_count": 7,
   "id": "5899ad7c",
   "metadata": {
    "hide_input": true,
    "slideshow": {
     "slide_type": "-"
    }
   },
   "outputs": [
    {
     "name": "stdout",
     "output_type": "stream",
     "text": [
      "T_2:\n",
      "shape: (3, 1)\n",
      "┌─────────────────────────────┐\n",
      "│ query_text                  │\n",
      "│ ---                         │\n",
      "│ str                         │\n",
      "╞═════════════════════════════╡\n",
      "│ Где скачать Death Stranding │\n",
      "│ Где растёт кокос            │\n",
      "│ дора слушать онлайн         │\n",
      "└─────────────────────────────┘\n",
      "T_3:\n",
      "shape: (3, 1)\n",
      "┌─────────────────────────────┐\n",
      "│ query_text                  │\n",
      "│ ---                         │\n",
      "│ str                         │\n",
      "╞═════════════════════════════╡\n",
      "│ где скачать death stranding │\n",
      "│ где растёт кокос            │\n",
      "│ дора слушать онлайн         │\n",
      "└─────────────────────────────┘\n"
     ]
    }
   ],
   "source": [
    "print('T_2:')\n",
    "print(ex2_stripped)\n",
    "ex2_lower = ex2_stripped.select(pl.col('query_text').map_elements(str.lower))\n",
    "print('T_3:')\n",
    "print(ex2_lower)"
   ]
  },
  {
   "cell_type": "markdown",
   "id": "c2604cb5",
   "metadata": {
    "slideshow": {
     "slide_type": "slide"
    }
   },
   "source": [
    "### Word Count, шаг 4\n",
    "* Split: взять строковое значение из строки и породить по одной строке на каждое слово в этом строковом значении\n",
    "* Split - уже не биективный маппер!\n",
    "\n",
    "$T_4 = {\\sf Map}_{Split}(T_3)$"
   ]
  },
  {
   "cell_type": "code",
   "execution_count": 8,
   "id": "b8c89987",
   "metadata": {
    "hide_input": true,
    "slideshow": {
     "slide_type": "-"
    }
   },
   "outputs": [
    {
     "name": "stdout",
     "output_type": "stream",
     "text": [
      "T_4:\n"
     ]
    },
    {
     "data": {
      "text/html": [
       "<div><style>\n",
       ".dataframe > thead > tr > th,\n",
       ".dataframe > tbody > tr > td {\n",
       "  text-align: right;\n",
       "  white-space: pre-wrap;\n",
       "}\n",
       "</style>\n",
       "<small>shape: (10, 1)</small><table border=\"1\" class=\"dataframe\"><thead><tr><th>query_text</th></tr><tr><td>str</td></tr></thead><tbody><tr><td>&quot;где&quot;</td></tr><tr><td>&quot;скачать&quot;</td></tr><tr><td>&quot;death&quot;</td></tr><tr><td>&quot;stranding&quot;</td></tr><tr><td>&quot;где&quot;</td></tr><tr><td>&quot;растёт&quot;</td></tr><tr><td>&quot;кокос&quot;</td></tr><tr><td>&quot;дора&quot;</td></tr><tr><td>&quot;слушать&quot;</td></tr><tr><td>&quot;онлайн&quot;</td></tr></tbody></table></div>"
      ],
      "text/plain": [
       "shape: (10, 1)\n",
       "┌────────────┐\n",
       "│ query_text │\n",
       "│ ---        │\n",
       "│ str        │\n",
       "╞════════════╡\n",
       "│ где        │\n",
       "│ скачать    │\n",
       "│ death      │\n",
       "│ stranding  │\n",
       "│ …          │\n",
       "│ кокос      │\n",
       "│ дора       │\n",
       "│ слушать    │\n",
       "│ онлайн     │\n",
       "└────────────┘"
      ]
     },
     "execution_count": 8,
     "metadata": {},
     "output_type": "execute_result"
    }
   ],
   "source": [
    "# print('T_3:')\n",
    "# print(ex2_lower)\n",
    "ex2_split = ex2_lower.select(pl.col('query_text').map_elements(str.split).explode())\n",
    "print('T_4:')\n",
    "ex2_split"
   ]
  },
  {
   "cell_type": "markdown",
   "id": "57a847e0",
   "metadata": {
    "slideshow": {
     "slide_type": "slide"
    }
   },
   "source": [
    "### Reduce\n",
    "\n",
    "* Вторая операция модели -- Reduce.\n",
    "* ${\\sf Reduce}_{R,cols}(T)$ логически состоит из двух шагов:\n",
    "     * разбить строки таблицы по группам согласно кортежу значений в наборе колонок $cols$;\n",
    "     * применить редьюсер $R$ к каждой подобной группе.\n",
    "* Таким образом, $R$ должен быть функцией $R: {\\sf row}^* \\rightarrow {\\sf row}^*$.\n",
    "* ${\\sf Reduce}_{R,cols}: {\\sf table} \\rightarrow {\\sf table}$.\n",
    "* $cols$ называется **ключом** редьюса."
   ]
  },
  {
   "cell_type": "markdown",
   "id": "5876640c",
   "metadata": {
    "slideshow": {
     "slide_type": "slide"
    }
   },
   "source": [
    "### Считающий редьюсер\n",
    "\n",
    "* ${\\sf Count}$: простейший пример редьюсера, считающего количество строк в каждой группе.\n",
    "* Формально, пусть ${\\sf rows}$ -- это группа строк с одинаковым значением `row[\"word\"]`. Тогда:     \n",
    "${\\sf Count}({\\sf rows})$ = `[{'word': rows[0]['word'], 'count': len(rows)}]`\n",
    "* Это агрегирующий редьюсер, он принимает пачку строк и возвращает одну агрегированную строку."
   ]
  },
  {
   "cell_type": "markdown",
   "id": "7d4c63ca",
   "metadata": {
    "slideshow": {
     "slide_type": "slide"
    }
   },
   "source": [
    "### Word Count, шаг 5\n",
    "$T_5 = {\\sf Reduce}_{Count,\\{\"{\\sf word}\"\\}}(T_4)$"
   ]
  },
  {
   "cell_type": "code",
   "execution_count": 9,
   "id": "0467c4f9",
   "metadata": {
    "hide_input": true
   },
   "outputs": [
    {
     "name": "stdout",
     "output_type": "stream",
     "text": [
      "T_5:\n"
     ]
    },
    {
     "data": {
      "text/html": [
       "<div><style>\n",
       ".dataframe > thead > tr > th,\n",
       ".dataframe > tbody > tr > td {\n",
       "  text-align: right;\n",
       "  white-space: pre-wrap;\n",
       "}\n",
       "</style>\n",
       "<small>shape: (9, 2)</small><table border=\"1\" class=\"dataframe\"><thead><tr><th>query_text</th><th>count</th></tr><tr><td>str</td><td>u32</td></tr></thead><tbody><tr><td>&quot;скачать&quot;</td><td>1</td></tr><tr><td>&quot;онлайн&quot;</td><td>1</td></tr><tr><td>&quot;слушать&quot;</td><td>1</td></tr><tr><td>&quot;растёт&quot;</td><td>1</td></tr><tr><td>&quot;кокос&quot;</td><td>1</td></tr><tr><td>&quot;где&quot;</td><td>2</td></tr><tr><td>&quot;stranding&quot;</td><td>1</td></tr><tr><td>&quot;death&quot;</td><td>1</td></tr><tr><td>&quot;дора&quot;</td><td>1</td></tr></tbody></table></div>"
      ],
      "text/plain": [
       "shape: (9, 2)\n",
       "┌────────────┬───────┐\n",
       "│ query_text ┆ count │\n",
       "│ ---        ┆ ---   │\n",
       "│ str        ┆ u32   │\n",
       "╞════════════╪═══════╡\n",
       "│ скачать    ┆ 1     │\n",
       "│ онлайн     ┆ 1     │\n",
       "│ слушать    ┆ 1     │\n",
       "│ растёт     ┆ 1     │\n",
       "│ кокос      ┆ 1     │\n",
       "│ где        ┆ 2     │\n",
       "│ stranding  ┆ 1     │\n",
       "│ death      ┆ 1     │\n",
       "│ дора       ┆ 1     │\n",
       "└────────────┴───────┘"
      ]
     },
     "execution_count": 9,
     "metadata": {},
     "output_type": "execute_result"
    }
   ],
   "source": [
    "# print('T_4:')\n",
    "# print(ex2_split)\n",
    "ex2_count = ex2_split.group_by('query_text').count()\n",
    "print('T_5:')\n",
    "ex2_count"
   ]
  },
  {
   "cell_type": "markdown",
   "id": "a86928e5",
   "metadata": {
    "slideshow": {
     "slide_type": "slide"
    }
   },
   "source": [
    "### Парадигма Map-Reduce\n",
    "* Резюмируем.\n",
    "* Мы сформулировали две логические операции:\n",
    "    * ${\\sf Map}_M: {\\sf table} \\rightarrow {\\sf table}$\n",
    "    * ${\\sf Reduce}_{R,cols}: {\\sf table} \\rightarrow {\\sf table}$\n",
    "* Простая и понятная абстрактная модель\n",
    "* Чем же она хороша?"
   ]
  },
  {
   "cell_type": "markdown",
   "id": "83a1adc8",
   "metadata": {
    "slideshow": {
     "slide_type": "slide"
    }
   },
   "source": [
    "## Модель данных \"распределённая система\""
   ]
  },
  {
   "cell_type": "markdown",
   "id": "d031a0c5",
   "metadata": {
    "slideshow": {
     "slide_type": "slide"
    }
   },
   "source": [
    "### Хранение таблиц\n",
    "\n",
    "* setup1:\n",
    "    * есть одна машина c $HDD = 4TB$ и $CPU = 20$ cores\n",
    "    * таблица размером $1TB$ хранится на HDD;\n",
    "    * маппер $M$ применяется к таблице в 10 потоков\n",
    "    \n",
    "* setup2:\n",
    "    * есть 10 машин в той же конфигурации\n",
    "    * таблица размером $1TB$ разбита на 10 кусков по $100GB$ на HDD на каждой машине\n",
    "    * маппер $M$ применяется к каждому куску на своей машине независимо в один поток\n",
    "\n",
    "**Вопрос**: какой setup отработает быстрее?"
   ]
  },
  {
   "cell_type": "markdown",
   "id": "c0a0603a",
   "metadata": {
    "slideshow": {
     "slide_type": "fragment"
    }
   },
   "source": [
    "**Ответ**: setup2, т.к. IO сильно медленнее CPU"
   ]
  },
  {
   "cell_type": "markdown",
   "id": "add0c06d",
   "metadata": {
    "slideshow": {
     "slide_type": "slide"
    }
   },
   "source": [
    "### Распределённый Map\n",
    "\n",
    "* Устроен предельно легко\n",
    "* Независимо обрабатываем порции таблицы на каждой машине в отдельности"
   ]
  },
  {
   "cell_type": "markdown",
   "id": "47e500d7",
   "metadata": {
    "slideshow": {
     "slide_type": "slide"
    }
   },
   "source": [
    "### Распределённый Reduce\n",
    "\n",
    "* Всё сложнее\n",
    "* Группа строк с одинаковым значением ключа может быть разбросана по произвольному набор машин\n",
    "* **Вопрос**: что же делать?"
   ]
  },
  {
   "cell_type": "markdown",
   "id": "0365bb66",
   "metadata": {
    "slideshow": {
     "slide_type": "slide"
    }
   },
   "source": [
    "### Сортировка\n",
    "    \n",
    "* Расширим нашу модель третьей операцией: ${\\sf Sort}$\n",
    "* ${\\sf Sort}_{cols}: {\\sf table} \\rightarrow {\\sf table}$\n",
    "* После сортировки строки с одним значением ключа $cols$ окажутся рядом."
   ]
  },
  {
   "cell_type": "markdown",
   "id": "ee9d68e7",
   "metadata": {
    "slideshow": {
     "slide_type": "slide"
    }
   },
   "source": [
    "### Sorted Reduce\n",
    "    \n",
    "* Получаем первый вариант стратегии для Reduce: SortedReduce.\n",
    "* SortedReduce реализует ${\\sf Reduce}_{R, cols}(T)$ при выполнении **предусловия**: таблица $T$ сортирована по набору колонок $cols$.\n",
    "* Типичный паттерн действий: ${\\sf Map}, {\\sf Sort}, {\\sf Reduce}$."
   ]
  },
  {
   "cell_type": "markdown",
   "id": "483c2078",
   "metadata": {
    "slideshow": {
     "slide_type": "slide"
    }
   },
   "source": [
    "### Shuffle\n",
    "    \n",
    "* Опишем альтернативный путь\n",
    "* Вместо сортировки часто используется примитив ${\\sf Shuffle}$ (иногда называется партицирование)\n",
    "* ${\\sf Shuffle}$ раскладывает строки по корзинам согласно некоторой функции от ключа $key$, типично -- $hash(key) \\bmod bucketCount$\n",
    "* Каждая корзина целиком живёт на одной машине, значит одинаковые ключи снова оказались \"рядышком\"\n",
    "* Обрабатываем каждую корзину независимо"
   ]
  },
  {
   "cell_type": "markdown",
   "id": "28360f8d",
   "metadata": {
    "slideshow": {
     "slide_type": "slide"
    }
   },
   "source": [
    "### Распределённые Sort и Shuffle\n",
    "  \n",
    "* **Вопрос**: как устроены?\n",
    "* **Подумайте** сами на досуге :)"
   ]
  },
  {
   "cell_type": "markdown",
   "id": "b55612a8",
   "metadata": {
    "slideshow": {
     "slide_type": "slide"
    }
   },
   "source": [
    "# Стриминг"
   ]
  },
  {
   "cell_type": "markdown",
   "id": "20861aab",
   "metadata": {
    "slideshow": {
     "slide_type": "slide"
    }
   },
   "source": [
    "## Стриминг в обычной жизни и Python"
   ]
  },
  {
   "cell_type": "markdown",
   "id": "d60cce96",
   "metadata": {
    "hide_input": true,
    "slideshow": {
     "slide_type": "slide"
    }
   },
   "source": [
    "### Shell\n",
    "    \n",
    "* Утилиты командной строки, превращащие вход (из stdin) в выход (в stdout):\n",
    "\n",
    "| ? | ? | ? |\n",
    "|---------|---------|---------|\n",
    "| `cat` | `rev` | `sort` |\n",
    "| `sed -s 's/foo/bar/g'` | `grep 'foo'` | `tac` |\n",
    "| `wc -l` | `tail -n 10` | `shuf` |\n",
    "| `cut -f2` | `uniq -c`  \n",
    "| `md5sum` |  \n",
    "| `head -c 1024` \n",
    "| `tail -c 1024` \n",
    "| `gzip -f` \n",
    "| `head -n 10`\n",
    "\n",
    "**Вопрос**: по какому принципу сгруппированы утилиты?"
   ]
  },
  {
   "cell_type": "markdown",
   "id": "70c88a27",
   "metadata": {
    "slideshow": {
     "slide_type": "slide"
    }
   },
   "source": [
    "### Pipe'ы\n",
    "     \n",
    "* Программы можно сцеплять друг за дружкой посредством пайпов:\n",
    "* `cut -f2 | sed -s 's/foo/bar/g' | md5sum`\n",
    "* Если все программы являются потоковыми, то комбинация через пайпы -- тоже!\n",
    "* Ядро ОС будет перекладывать небольшие кусочки данных из выхода одной программы во вход следующей, следя, чтобы в буферах пайпов не накапливалось слишком много необработанных данных\n",
    "* Простейший пример парадигмы потоковой обработки aka \"streaming\"."
   ]
  },
  {
   "cell_type": "markdown",
   "id": "dc1f5456",
   "metadata": {
    "slideshow": {
     "slide_type": "slide"
    }
   },
   "source": [
    "### Итераторы и генераторы в Python\n",
    "    \n",
    "* Основные примитивы для потока данных в Python -- итераторы и генераторы.\n",
    "* `range(n)` -- поток чисел до $n$\n",
    "* `open(\"file.txt\", \"r\")` -- поток строк из файла `file.txt`\n",
    "* `(x * x for x in iterable)` -- generator expression\n",
    "* Предыдущее -- частный случай генератора (функции с yield'ами)."
   ]
  },
  {
   "cell_type": "markdown",
   "id": "d5b201ef",
   "metadata": {
    "slideshow": {
     "slide_type": "slide"
    }
   },
   "source": [
    "### range\n",
    "    \n",
    "* **Вопрос**: что содержится в состоянии у `range(n)`?"
   ]
  },
  {
   "cell_type": "markdown",
   "id": "aa3d67fb",
   "metadata": {
    "slideshow": {
     "slide_type": "fragment"
    }
   },
   "source": [
    "* Несколько интов: текущее число, граница, шаг. \n",
    "* $O(1)$ state."
   ]
  },
  {
   "cell_type": "markdown",
   "id": "5b2fa5d6",
   "metadata": {
    "slideshow": {
     "slide_type": "slide"
    }
   },
   "source": [
    "### open\n",
    "    \n",
    "* **Вопрос**: что содержится в состоянии у `open(\"file.txt\", \"r\")`?"
   ]
  },
  {
   "cell_type": "markdown",
   "id": "efd9964e",
   "metadata": {
    "slideshow": {
     "slide_type": "fragment"
    }
   },
   "source": [
    "* Номер файлового дескриптора (идентификатор открытого файла в ядре ОС)\n",
    "* Буфер чтения (порядка 64 KiB, чтобы не делать random read на каждую новую строку)"
   ]
  },
  {
   "cell_type": "markdown",
   "id": "93d966fa",
   "metadata": {
    "slideshow": {
     "slide_type": "slide"
    }
   },
   "source": [
    "### Материализация\n",
    "    \n",
    "* Рассмотрим функцию, которая используется следующим образом:"
   ]
  },
  {
   "cell_type": "code",
   "execution_count": 10,
   "id": "6bb6defc",
   "metadata": {
    "slideshow": {
     "slide_type": "-"
    }
   },
   "outputs": [],
   "source": [
    "def filter_even(seq):\n",
    "    result = []\n",
    "    for item in seq:\n",
    "        if item % 2 == 0:\n",
    "            result.append(item)\n",
    "    return result\n",
    "\n",
    "def print_even(seq):\n",
    "    for even_item in filter_even(seq):\n",
    "        print(even_item)"
   ]
  },
  {
   "cell_type": "markdown",
   "id": "ecf43a2f",
   "metadata": {
    "slideshow": {
     "slide_type": "-"
    }
   },
   "source": [
    "**Вопрос**: какое у неё потребление памяти?"
   ]
  },
  {
   "cell_type": "markdown",
   "id": "a1c19f0e",
   "metadata": {
    "slideshow": {
     "slide_type": "fragment"
    }
   },
   "source": [
    "* Линейное, она материализует ответ в список."
   ]
  },
  {
   "cell_type": "markdown",
   "id": "0bb5d46e",
   "metadata": {
    "slideshow": {
     "slide_type": "slide"
    }
   },
   "source": [
    "### Генератор\n",
    "    \n",
    "* Рассмотрим альтернативную реализацию:"
   ]
  },
  {
   "cell_type": "code",
   "execution_count": 11,
   "id": "363f3403",
   "metadata": {
    "slideshow": {
     "slide_type": "-"
    }
   },
   "outputs": [],
   "source": [
    "def xfilter_even(seq):\n",
    "    for item in seq:\n",
    "        if item % 2 == 0:\n",
    "            yield item"
   ]
  },
  {
   "cell_type": "markdown",
   "id": "18b085f9",
   "metadata": {
    "slideshow": {
     "slide_type": "-"
    }
   },
   "source": [
    "**Вопрос**: какое у неё потребление памяти?"
   ]
  },
  {
   "cell_type": "markdown",
   "id": "c737a528",
   "metadata": {
    "slideshow": {
     "slide_type": "fragment"
    }
   },
   "source": [
    "* $O(1)$"
   ]
  },
  {
   "cell_type": "markdown",
   "id": "a6fa7428",
   "metadata": {
    "slideshow": {
     "slide_type": "slide"
    }
   },
   "source": [
    "### Устройство генератора\n",
    "    \n",
    "* Можно думать про генератор как про функцию, \"замороженную\" в процессе исполнения."
   ]
  },
  {
   "cell_type": "code",
   "execution_count": 12,
   "id": "baf0907b",
   "metadata": {
    "slideshow": {
     "slide_type": "-"
    }
   },
   "outputs": [],
   "source": [
    "def xprint_even(seq):\n",
    "    gen = xfilter_even(seq)\n",
    "    for i in gen:\n",
    "        print(i)"
   ]
  },
  {
   "cell_type": "markdown",
   "id": "cf7b8949",
   "metadata": {
    "slideshow": {
     "slide_type": "-"
    }
   },
   "source": [
    "* Хронология одной итерации:\n",
    "    * `for` зовёт `next(gen)`\n",
    "    * функция генератора \"просыпается\"\n",
    "    * функция дорабатывает до следующего `yield smth`\n",
    "    * функция \"засыпает\"\n",
    "    * `smth` возвращается из `next(gen)`"
   ]
  },
  {
   "cell_type": "markdown",
   "id": "a8537b69",
   "metadata": {
    "slideshow": {
     "slide_type": "slide"
    }
   },
   "source": [
    "### Состояние генератора\n",
    "    \n",
    "* Резюмируем, из чего состоит объект генератора:\n",
    "    * служебная структура, указывающая на байт-код функции-генератора в интерпретаторе\n",
    "    * позиция в коде, на которой \"спит\" функция\n",
    "    * состояния локальных переменных в момент \"засыпания\" функции\n",
    "\n",
    "* В примере выше -- $O(1)$ state!\n",
    "* Эквивалентная форма записи: \n",
    "`(item for item in seq if item % 2 == 0)`"
   ]
  },
  {
   "cell_type": "markdown",
   "id": "3061f99f",
   "metadata": {
    "slideshow": {
     "slide_type": "slide"
    }
   },
   "source": [
    "### Эффективность\n",
    "    \n",
    "Сравним две реализации.\n",
    "* `xfilter_even`:\n",
    "    * $O(1)$ памяти - отлично для интерпретатора;\n",
    "    * context switch на каждом `next` - может быть bottleneck'ом.\n",
    "\n",
    "* `filter_even`:\n",
    "    * линейные затраты по памяти;\n",
    "    * тривиальная имплементация и ни одного `context switch`;\n",
    "    * на больших входах может замедлять интерпретатор питона или даже приводить к OOM.\n",
    "    \n",
    "**Вопрос**: что же выбрать?\n",
    "Подумайте, как взять лучшее от обоих подходов."
   ]
  },
  {
   "cell_type": "markdown",
   "id": "9437b064",
   "metadata": {
    "slideshow": {
     "slide_type": "slide"
    }
   },
   "source": [
    "## Модель данных \"стриминг\" в Python"
   ]
  },
  {
   "cell_type": "markdown",
   "id": "d59fc4f6",
   "metadata": {
    "slideshow": {
     "slide_type": "slide"
    }
   },
   "source": [
    "### Табличный поток данных\n",
    "    \n",
    "* Рассмотрим модель данных, схожую с использовавшейся в MR\n",
    "* ${\\sf stream := iterator\\, of\\, rows}$.\n",
    "* ${\\sf row}$ -- как и раньше, словарь.\n",
    "* Рассматриваемые нами операции будут теперь иметь сигнатуру ${\\sf operation}: {\\sf stream} \\rightarrow {\\sf stream}$.\n",
    "* Критерий \"хорошести\" операции: она работает потоковым образом, то есть обладает небольшим (ограниченным) state'ом.\n",
    "* Потоковая операция может \"бесконечно\" сидеть на входном потоке, порождая выходной, и не OOMиться.\n",
    "* Поток данных можно мыслить как \"бесконечную вниз\" таблицу."
   ]
  },
  {
   "cell_type": "markdown",
   "id": "fbcd722b",
   "metadata": {
    "slideshow": {
     "slide_type": "slide"
    }
   },
   "source": [
    "### Streaming Map\n",
    "    \n",
    "* ${\\sf Map}_M: {\\sf stream} \\rightarrow {\\sf stream}$.\n",
    "* Устроен очень просто.\n",
    "    * вытаскиваем из потока строку;\n",
    "    * применяем к ней $M$;\n",
    "    * кладём результат в выходной поток."
   ]
  },
  {
   "cell_type": "markdown",
   "id": "9161ae74",
   "metadata": {
    "slideshow": {
     "slide_type": "slide"
    }
   },
   "source": [
    "### Streaming Reduce\n",
    "    \n",
    "* ${\\sf Reduce}_{R, cols}: {\\sf stream} \\rightarrow {\\sf stream}$.\n",
    "* Как и в обычном MR, тут всё немного сложнее.\n",
    "* Потребуем выполнения двух предусловий:\n",
    "    * входной поток отсортирован;\n",
    "    * размер каждой группы редьюса небольшой.\n",
    "* Тогда понятно, как делать потоковый ${\\sf Reduce}$.\n",
    "    * накапливаем группу, пока ключ совпадает с предыдущим;\n",
    "    * когда ключ переключился, вызываем $R$ от накопленной группы\n",
    "    * кладём результат в выходной поток."
   ]
  },
  {
   "cell_type": "markdown",
   "id": "7d5b2d7a",
   "metadata": {
    "slideshow": {
     "slide_type": "slide"
    }
   },
   "source": [
    "### Join\n",
    "    \n",
    "* Обсудим небольшое (и очень удобное) расширение нашей модели операций.\n",
    "* В этом месте Макс устал техать таблички, я тоже не хочу их техать, но их за меня нарисует Python"
   ]
  },
  {
   "cell_type": "code",
   "execution_count": 13,
   "id": "20c3d9b0",
   "metadata": {
    "hide_input": true,
    "slideshow": {
     "slide_type": "-"
    }
   },
   "outputs": [
    {
     "name": "stdout",
     "output_type": "stream",
     "text": [
      "shape: (3, 2)\n",
      "┌─────────┬───────────┐\n",
      "│ user_id ┆ user_name │\n",
      "│ ---     ┆ ---       │\n",
      "│ i64     ┆ str       │\n",
      "╞═════════╪═══════════╡\n",
      "│ 15      ┆ Alex      │\n",
      "│ 17      ┆ Marci     │\n",
      "│ 42      ┆ Max       │\n",
      "└─────────┴───────────┘\n",
      "shape: (5, 2)\n",
      "┌─────────┬──────────────┐\n",
      "│ user_id ┆ product_name │\n",
      "│ ---     ┆ ---          │\n",
      "│ i64     ┆ str          │\n",
      "╞═════════╪══════════════╡\n",
      "│ 15      ┆ bread        │\n",
      "│ 17      ┆ orchid       │\n",
      "│ 30      ┆ water        │\n",
      "│ 15      ┆ milk         │\n",
      "│ 50      ┆ hammer       │\n",
      "└─────────┴──────────────┘\n"
     ]
    }
   ],
   "source": [
    "_EX3_users = [\n",
    "    {\"user_id\": 15, \"user_name\": \"Alex\"},\n",
    "    {\"user_id\": 17, \"user_name\": \"Marci\"},\n",
    "    {\"user_id\": 42, \"user_name\": \"Max\"}\n",
    "]\n",
    "\n",
    "_EX3_orders = [\n",
    "    {\"user_id\": 15, \"product_name\": \"bread\"},\n",
    "    {\"user_id\": 17, \"product_name\": \"orchid\"},\n",
    "    {\"user_id\": 30, \"product_name\": \"water\"},\n",
    "    {\"user_id\": 15, \"product_name\": \"milk\"},\n",
    "    {\"user_id\": 50, \"product_name\": \"hammer\"}\n",
    "]\n",
    "\n",
    "_DF_EX3_users = pl.DataFrame(_EX3_users)\n",
    "_DF_EX3_orders = pl.DataFrame(_EX3_orders)\n",
    "print(_DF_EX3_users)\n",
    "print(_DF_EX3_orders)"
   ]
  },
  {
   "cell_type": "code",
   "execution_count": 14,
   "id": "ead713df",
   "metadata": {
    "hide_input": false,
    "slideshow": {
     "slide_type": "slide"
    }
   },
   "outputs": [
    {
     "name": "stdout",
     "output_type": "stream",
     "text": [
      "shape: (4, 3)\n",
      "┌─────────┬───────────┬──────────────┐\n",
      "│ user_id ┆ user_name ┆ product_name │\n",
      "│ ---     ┆ ---       ┆ ---          │\n",
      "│ i64     ┆ str       ┆ str          │\n",
      "╞═════════╪═══════════╪══════════════╡\n",
      "│ 15      ┆ Alex      ┆ bread        │\n",
      "│ 15      ┆ Alex      ┆ milk         │\n",
      "│ 17      ┆ Marci     ┆ orchid       │\n",
      "│ 42      ┆ Max       ┆ null         │\n",
      "└─────────┴───────────┴──────────────┘\n"
     ]
    }
   ],
   "source": [
    "print(\n",
    "    _DF_EX3_users.join(_DF_EX3_orders, on='user_id', how='left') # 'inner', left', 'outer'  - no right join in polars :( \n",
    ")"
   ]
  },
  {
   "cell_type": "markdown",
   "id": "027a494a",
   "metadata": {
    "slideshow": {
     "slide_type": "slide"
    }
   },
   "source": [
    "### Join\n",
    "    \n",
    "* Подчеркнём один момент -- формально говоря, Join не является потоковой операцией согласно предыдущему определению, так как он обрабатывает два потока одновременно.\n",
    "* Join'ы слишком полезные, чтобы их выкинуть, поэтому придётся исправить определение :)\n",
    "* ${\\sf operation}: {\\sf stream}^* \\rightarrow {\\sf stream}$\n",
    "* **Вопрос**: а можно ли сказать, что потоковая операция порождает больше одного потока?"
   ]
  },
  {
   "cell_type": "markdown",
   "id": "97268edf",
   "metadata": {
    "slideshow": {
     "slide_type": "slide"
    }
   },
   "source": [
    "`... 5 5 5 7 7 9 10 10 11 ...`\n",
    "\n",
    "`... 4 5 8 8 8 9 10 10 10 12 ...`"
   ]
  },
  {
   "cell_type": "markdown",
   "id": "c5be804a",
   "metadata": {
    "slideshow": {
     "slide_type": "slide"
    }
   },
   "source": [
    "### Tee\n",
    "    \n",
    "* Рассмотрим классическую операцию, которая порождает два потока -- это Tee.\n",
    "* ${\\sf Tee}: {\\sf stream} \\rightarrow {\\sf stream}  \\times {\\sf stream}$.\n",
    "* Логически устроена так: любая запись из входного потока перекладывается в оба выходных потока. \n",
    "* **Вопрос**: является ли эта операция потоковой?"
   ]
  },
  {
   "cell_type": "markdown",
   "id": "8334031a",
   "metadata": {
    "slideshow": {
     "slide_type": "fragment"
    }
   },
   "source": [
    "* Нет. Один выходной поток может дальше обрабатываться сильно медленнее, чем другой. В таком случае Tee должен помнить материализованное \"окно\" между позициями двух потоков."
   ]
  },
  {
   "cell_type": "markdown",
   "id": "ddee1b10",
   "metadata": {
    "slideshow": {
     "slide_type": "slide"
    }
   },
   "source": [
    "### Sort\n",
    "    \n",
    "* Как и в MR, остаётся интересный и нераскрытый **вопрос**: как может быть устроен потоковый ${\\sf Sort}$?"
   ]
  },
  {
   "cell_type": "markdown",
   "id": "59a4de03",
   "metadata": {
    "run_control": {
     "marked": true
    },
    "slideshow": {
     "slide_type": "fragment"
    }
   },
   "source": [
    "* Честно -- никак, это невозможно :) \n",
    "* В промышленности стриминг используется на временных окнах ограниченного размера, скажем, 15 секунд.\n",
    "* Соответственно, поток данных становится \"локально сортированным\".\n",
    "* Применения ${\\sf Reduce}$ и ${\\sf Join}$ к этому обычно готовы, так как их смысл зачастую это \"агрегация\" (подсчёт суммарной статистики, разбиение на субпотоки по корзинам), которую можно делать порциями произвольного размера."
   ]
  },
  {
   "cell_type": "markdown",
   "id": "a480c2eb",
   "metadata": {
    "slideshow": {
     "slide_type": "slide"
    }
   },
   "source": [
    "# Конец :)\n",
    "\n",
    "## Спасибо за внимание, перекатываемся в свободное обсуждение домашки"
   ]
  }
 ],
 "metadata": {
  "celltoolbar": "Слайд-шоу",
  "kernelspec": {
   "display_name": "Python 3 (ipykernel)",
   "language": "python",
   "name": "python3"
  },
  "language_info": {
   "codemirror_mode": {
    "name": "ipython",
    "version": 3
   },
   "file_extension": ".py",
   "mimetype": "text/x-python",
   "name": "python",
   "nbconvert_exporter": "python",
   "pygments_lexer": "ipython3",
   "version": "3.11.4"
  },
  "toc": {
   "base_numbering": 1,
   "nav_menu": {},
   "number_sections": true,
   "sideBar": true,
   "skip_h1_title": false,
   "title_cell": "Table of Contents",
   "title_sidebar": "Contents",
   "toc_cell": false,
   "toc_position": {},
   "toc_section_display": true,
   "toc_window_display": false
  },
  "varInspector": {
   "cols": {
    "lenName": 16,
    "lenType": 16,
    "lenVar": 40
   },
   "kernels_config": {
    "python": {
     "delete_cmd_postfix": "",
     "delete_cmd_prefix": "del ",
     "library": "var_list.py",
     "varRefreshCmd": "print(var_dic_list())"
    },
    "r": {
     "delete_cmd_postfix": ") ",
     "delete_cmd_prefix": "rm(",
     "library": "var_list.r",
     "varRefreshCmd": "cat(var_dic_list()) "
    }
   },
   "types_to_exclude": [
    "module",
    "function",
    "builtin_function_or_method",
    "instance",
    "_Feature"
   ],
   "window_display": false
  }
 },
 "nbformat": 4,
 "nbformat_minor": 5
}
