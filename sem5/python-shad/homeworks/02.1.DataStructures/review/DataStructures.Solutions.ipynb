{
 "cells": [
  {
   "cell_type": "markdown",
   "id": "47e5c221",
   "metadata": {
    "slideshow": {
     "slide_type": "slide"
    }
   },
   "source": [
    "<center>\n",
    "    <img src=\"https://upload.wikimedia.org/wikipedia/commons/a/a8/%D0%9B%D0%9E%D0%93%D0%9E_%D0%A8%D0%90%D0%94.png\" width=500px/>\n",
    "    <font>Python 2023</font><br/>\n",
    "    <br/>\n",
    "    <br/>\n",
    "    <b style=\"font-size: 2em\">Разбор задач: DataStructures</b><br/>\n",
    "    <br/>\n",
    "</center>"
   ]
  },
  {
   "cell_type": "markdown",
   "id": "29021ffd",
   "metadata": {
    "slideshow": {
     "slide_type": "slide"
    }
   },
   "source": [
    "### 1. reverse_dict  → etalon"
   ]
  },
  {
   "cell_type": "code",
   "execution_count": 1,
   "id": "1dca1f7b",
   "metadata": {},
   "outputs": [
    {
     "name": "stdout",
     "output_type": "stream",
     "text": [
      "44.3 ms ± 1.4 ms per loop (mean ± std. dev. of 7 runs, 10 loops each)\n"
     ]
    }
   ],
   "source": [
    "import typing as tp\n",
    "\n",
    "from collections import defaultdict\n",
    "\n",
    "\n",
    "def revert(dct: tp.Mapping[str, str]) -> dict[str, list[str]]:\n",
    "    \"\"\"\n",
    "    :param dct: dictionary to revert in format {key: value}\n",
    "    :return: reverted dictionary {value: [key1, key2, key3]}\n",
    "    \"\"\"\n",
    "\n",
    "    new_dct: dict[str, list[str]] = defaultdict(list)\n",
    "\n",
    "    for key, value in dct.items():\n",
    "        new_dct[value].append(key)\n",
    "\n",
    "    return new_dct\n",
    "\n",
    "a = {str(i): \"1\" for i in range(1005000)}\n",
    "%timeit revert(a)"
   ]
  },
  {
   "cell_type": "markdown",
   "id": "24b91212",
   "metadata": {
    "slideshow": {
     "font": "monospace",
     "slide_type": "slide"
    }
   },
   "source": [
    "### 1. reverse_dict  → Сложение списков"
   ]
  },
  {
   "cell_type": "code",
   "execution_count": 2,
   "id": "e8396476",
   "metadata": {},
   "outputs": [
    {
     "name": "stdout",
     "output_type": "stream",
     "text": [
      "136 ms ± 1 ms per loop (mean ± std. dev. of 7 runs, 10 loops each)\n"
     ]
    }
   ],
   "source": [
    "def revert(dct: tp.Mapping[str, str]) -> dict[str, list[str]]:\n",
    "    ans = {}\n",
    "    for key, value in dct.items():\n",
    "        if value not in ans:\n",
    "            ans[value] = [key]\n",
    "        else:\n",
    "            ans[value] += [key]\n",
    "    return ans\n",
    "\n",
    "a = {str(i): \"1\" for i in range(1005000)}\n",
    "%timeit revert(a)"
   ]
  },
  {
   "cell_type": "code",
   "execution_count": 3,
   "id": "201d736d",
   "metadata": {
    "cell_style": "split"
   },
   "outputs": [
    {
     "name": "stdout",
     "output_type": "stream",
     "text": [
      "59.9 ms ± 907 µs per loop (mean ± std. dev. of 7 runs, 10 loops each)\n"
     ]
    }
   ],
   "source": [
    "def revert(dct: tp.Mapping[str, str]) -> dict[str, list[str]]:\n",
    "    ans: dict[str, list[str]] = {}\n",
    "    for k, v in dct.items():\n",
    "        if ans.get(v) is None:\n",
    "            ans[v] = [k]\n",
    "        else:\n",
    "            ans[v].append(k)\n",
    "    return ans\n",
    "\n",
    "a = {str(i): \"1\" for i in range(1005000)}\n",
    "%timeit revert(a)"
   ]
  },
  {
   "cell_type": "markdown",
   "id": "4af7faab",
   "metadata": {},
   "source": [
    "### 1. reverse_dict  → Итератор по keys()"
   ]
  },
  {
   "cell_type": "code",
   "execution_count": 4,
   "id": "1080f9c0",
   "metadata": {},
   "outputs": [
    {
     "name": "stdout",
     "output_type": "stream",
     "text": [
      "270 ms ± 1.19 ms per loop (mean ± std. dev. of 7 runs, 1 loop each)\n"
     ]
    }
   ],
   "source": [
    "def revert(dct: tp.Mapping[str, str]) -> dict[str, list[str]]:\n",
    "    ans: dict[str, list[str]] = {value: [] for value in dct.values()}\n",
    "    for key in dct.keys():\n",
    "        val = dct[key]\n",
    "        ans[val].append(key)\n",
    "    return ans\n",
    "\n",
    "a = {str(i): \"1\" for i in range(1005000)}\n",
    "%timeit revert(a)"
   ]
  },
  {
   "cell_type": "markdown",
   "id": "a3db90b4",
   "metadata": {},
   "source": [
    "### 1. reverse_dict  → Медленная проверка на вхождение"
   ]
  },
  {
   "cell_type": "code",
   "execution_count": 5,
   "id": "b3bd543b",
   "metadata": {},
   "outputs": [
    {
     "name": "stdout",
     "output_type": "stream",
     "text": [
      "86.2 ms ± 1.77 ms per loop (mean ± std. dev. of 7 runs, 10 loops each)\n"
     ]
    }
   ],
   "source": [
    "def revert(dct: tp.Mapping[str, str]) -> dict[str, list[str]]:\n",
    "    new_d: dict[str, list[str]] = dict()\n",
    "    for k, v in dct.items():\n",
    "        if v not in new_d.keys():\n",
    "            new_d[v] = []\n",
    "            new_d[v].append(k)\n",
    "        else:\n",
    "            new_d[v].append(k)\n",
    "    return new_d\n",
    "\n",
    "a = {str(i): \"1\" for i in range(1005000)}\n",
    "%timeit revert(a)"
   ]
  },
  {
   "cell_type": "code",
   "execution_count": 6,
   "id": "6cbfdb52",
   "metadata": {},
   "outputs": [
    {
     "name": "stdout",
     "output_type": "stream",
     "text": [
      "58.4 ms ± 1.02 ms per loop (mean ± std. dev. of 7 runs, 10 loops each)\n"
     ]
    }
   ],
   "source": [
    "def revert(dct: tp.Mapping[str, str]) -> dict[str, list[str]]:\n",
    "    new_d: dict[str, list[str]] = dict()\n",
    "    for k, v in dct.items():\n",
    "        if v not in new_d:\n",
    "            new_d[v] = []\n",
    "            new_d[v].append(k)\n",
    "        else:\n",
    "            new_d[v].append(k)\n",
    "    return new_d\n",
    "\n",
    "a = {str(i): \"1\" for i in range(1005000)}\n",
    "%timeit revert(a)"
   ]
  },
  {
   "cell_type": "markdown",
   "id": "81334fb0",
   "metadata": {
    "slideshow": {
     "slide_type": "slide"
    }
   },
   "source": [
    "### 1. reverse_dict  → Каст к дикту"
   ]
  },
  {
   "cell_type": "code",
   "execution_count": 7,
   "id": "a31c82fa",
   "metadata": {
    "cell_style": "split"
   },
   "outputs": [
    {
     "name": "stdout",
     "output_type": "stream",
     "text": [
      "42.3 ms ± 219 µs per loop (mean ± std. dev. of 7 runs, 10 loops each)\n"
     ]
    }
   ],
   "source": [
    "def revert(dct: tp.Mapping[str, str]) -> dict[str, list[str]]:\n",
    "    result: dict[str, list[str]] = defaultdict(list[str])\n",
    "    for key, value in dct.items():\n",
    "        result[value].append(key)\n",
    "    return dict(result)\n",
    "\n",
    "a = {str(i): \"1\" for i in range(1005000)}\n",
    "%timeit revert(a)"
   ]
  },
  {
   "cell_type": "code",
   "execution_count": 8,
   "id": "6ae44a43",
   "metadata": {
    "cell_style": "split"
   },
   "outputs": [
    {
     "name": "stdout",
     "output_type": "stream",
     "text": [
      "43 ms ± 377 µs per loop (mean ± std. dev. of 7 runs, 10 loops each)\n"
     ]
    }
   ],
   "source": [
    "def revert(dct: tp.Mapping[str, str]) -> dict[str, list[str]]:\n",
    "    result: dict[str, list[str]] = defaultdict(list[str])\n",
    "    for key, value in dct.items():\n",
    "        result[value].append(key)\n",
    "    return result\n",
    "\n",
    "a = {str(i): \"1\" for i in range(1005000)}\n",
    "%timeit revert(a)"
   ]
  },
  {
   "cell_type": "markdown",
   "id": "ecad1f83",
   "metadata": {},
   "source": [
    "### 1. reverse_dict  → try/except"
   ]
  },
  {
   "cell_type": "code",
   "execution_count": 9,
   "id": "dd937b57",
   "metadata": {},
   "outputs": [],
   "source": [
    "def revert(dct: tp.Mapping[str, str]) -> dict[str, list[str]]:\n",
    "    result: dict[str, list[str]] = {}\n",
    "    for k, v in dct.items():\n",
    "        try:\n",
    "            result.get(v)\n",
    "            result[v].append(k)\n",
    "        except KeyError:\n",
    "            result.update({v: [k]})\n",
    "    return result"
   ]
  },
  {
   "cell_type": "code",
   "execution_count": 10,
   "id": "68d46cd9",
   "metadata": {},
   "outputs": [
    {
     "name": "stdout",
     "output_type": "stream",
     "text": [
      "61.4 ms ± 1.02 ms per loop (mean ± std. dev. of 7 runs, 10 loops each)\n"
     ]
    }
   ],
   "source": [
    "a = {str(i): \"1\" for i in range(1005000)}\n",
    "%timeit revert(a)  # что замедляет?"
   ]
  },
  {
   "cell_type": "markdown",
   "id": "0cb82e73",
   "metadata": {
    "slideshow": {
     "slide_type": "slide"
    }
   },
   "source": [
    "### 1. reverse_dict  → Альтернативный setdefault"
   ]
  },
  {
   "cell_type": "code",
   "execution_count": 11,
   "id": "18949f7b",
   "metadata": {
    "cell_style": "split"
   },
   "outputs": [
    {
     "name": "stdout",
     "output_type": "stream",
     "text": [
      "93.3 ms ± 1.12 ms per loop (mean ± std. dev. of 7 runs, 10 loops each)\n"
     ]
    }
   ],
   "source": [
    "def revert(dct: tp.Mapping[str, str]) -> tp.Dict[str, tp.List[str]]:\n",
    "    revert_dict: dict[str, list[str]] = dict()\n",
    "    for key, value in dct.items():\n",
    "        revert_dict.setdefault(value, list()).append(key)\n",
    "    return revert_dict\n",
    "\n",
    "a = {str(i): \"1\" for i in range(1005000)}\n",
    "%timeit revert(a)"
   ]
  },
  {
   "cell_type": "markdown",
   "id": "2ea03db4",
   "metadata": {
    "slideshow": {
     "slide_type": "slide"
    }
   },
   "source": [
    "### 1. reverse_dict  → Усложненный код"
   ]
  },
  {
   "cell_type": "code",
   "execution_count": 12,
   "id": "573e4ab3",
   "metadata": {},
   "outputs": [],
   "source": [
    "def revert(dct: tp.Mapping[str, str]) -> dict[str, list[str]]:\n",
    "    reverse_dct: dict[str, list[str]] = {}\n",
    "    keys: list[str] = list(dct.keys())\n",
    "    for i in range(len(keys)):\n",
    "        if dct.get(keys[i]) not in reverse_dct and dct.get(keys[i]) is not None:\n",
    "            reverse_dct[str(dct.get(keys[i]))] = [keys[i]]\n",
    "        elif dct.get(keys[i]) and dct.get(keys[i]) is not None:\n",
    "            reverse_dct[str(dct.get(keys[i]))] = reverse_dct[str(dct.get(keys[i]))] + [keys[i]]\n",
    "        else:\n",
    "            reverse_dct[\"\"] = [keys[i]]\n",
    "    return reverse_dct"
   ]
  },
  {
   "cell_type": "code",
   "execution_count": 13,
   "id": "339927f0",
   "metadata": {
    "cell_style": "split"
   },
   "outputs": [],
   "source": [
    "def revert(dct: tp.Mapping[str, str]) -> dict[str, list[str]]:\n",
    "    res: dict[str, list[str]] = dict()\n",
    "    for pair in dct:\n",
    "        if dct[pair] in res.keys():\n",
    "            res[dct[pair]].append(pair)\n",
    "        else:\n",
    "            res.update({dct[pair]: [pair]})\n",
    "    return res"
   ]
  },
  {
   "cell_type": "markdown",
   "id": "d1afd00c",
   "metadata": {},
   "source": [
    "### 1. reverse_dict  → Косяк из 2022"
   ]
  },
  {
   "cell_type": "code",
   "execution_count": 14,
   "id": "08f1dfb4",
   "metadata": {},
   "outputs": [
    {
     "name": "stdout",
     "output_type": "stream",
     "text": [
      "40.1 ms ± 2.29 ms per loop (mean ± std. dev. of 7 runs, 10 loops each)\n"
     ]
    }
   ],
   "source": [
    "def revert(dct: tp.Mapping[str, str]) -> dict[str, list[str]]:\n",
    "    return {val: [key for key in dct.keys() if dct[key] == val] for val in dct.values()}\n",
    "\n",
    "a = {str(i): \"1\" for i in range(1005)}\n",
    "%timeit revert(a)"
   ]
  },
  {
   "cell_type": "markdown",
   "id": "7f7887c2",
   "metadata": {},
   "source": [
    "### 1. reverse_dict  → Создание set"
   ]
  },
  {
   "cell_type": "code",
   "execution_count": 15,
   "id": "e501d4c9",
   "metadata": {},
   "outputs": [
    {
     "name": "stdout",
     "output_type": "stream",
     "text": [
      "298 ms ± 10.3 ms per loop (mean ± std. dev. of 7 runs, 1 loop each)\n"
     ]
    }
   ],
   "source": [
    "def revert(dct: tp.Mapping[str, str]) -> dict[str, list[str]]:\n",
    "    revert_dict: dict[str, list[str]] = {}\n",
    "    for value in set(dct.values()):\n",
    "        current_keys: list[str] = []\n",
    "        for key in dct:\n",
    "            if dct[key] == value:\n",
    "                current_keys.append(key)\n",
    "        revert_dict[value] = current_keys\n",
    "\n",
    "    return revert_dict\n",
    "\n",
    "a = {str(i): \"1\" for i in range(1005000)}\n",
    "%timeit revert(a)"
   ]
  },
  {
   "cell_type": "code",
   "execution_count": 16,
   "id": "1ee0ea94",
   "metadata": {},
   "outputs": [
    {
     "name": "stdout",
     "output_type": "stream",
     "text": [
      "55.3 ms ± 2.1 ms per loop (mean ± std. dev. of 7 runs, 10 loops each)\n"
     ]
    }
   ],
   "source": [
    "def revert(dct: tp.Mapping[str, str]) -> dict[str, list[str]]:\n",
    "    res: tp.Mapping[str, list[str]]\n",
    "    res = {v: list() for v in set(dct.values())}\n",
    "    for k, v in dct.items():\n",
    "        res[v].append(k)\n",
    "    return res\n",
    "\n",
    "a = {str(i): \"1\" for i in range(1005000)}\n",
    "%timeit revert(a)"
   ]
  },
  {
   "cell_type": "markdown",
   "id": "676c8b9b",
   "metadata": {
    "slideshow": {
     "slide_type": "slide"
    }
   },
   "source": [
    "### 2. min_to_drop "
   ]
  },
  {
   "cell_type": "code",
   "execution_count": 17,
   "id": "309078ab",
   "metadata": {},
   "outputs": [
    {
     "name": "stdout",
     "output_type": "stream",
     "text": [
      "103 ms ± 3.64 ms per loop (mean ± std. dev. of 7 runs, 10 loops each)\n"
     ]
    }
   ],
   "source": [
    "import typing as tp\n",
    "\n",
    "from collections import Counter\n",
    "\n",
    "def get_min_to_drop(seq: tp.Sequence[tp.Any]) -> int:\n",
    "    \"\"\"\n",
    "    :param seq: sequence of elements\n",
    "    :return: number of elements need to drop to leave equal elements\n",
    "    \"\"\"\n",
    "    return len(seq) - max(Counter(seq).values()) if seq else 0\n",
    "\n",
    "%timeit get_min_to_drop(range(1005000))"
   ]
  },
  {
   "cell_type": "markdown",
   "id": "754d720c",
   "metadata": {},
   "source": [
    "### 2. min_to_drop → Поиск максимума руками"
   ]
  },
  {
   "cell_type": "code",
   "execution_count": 18,
   "id": "cceef919",
   "metadata": {},
   "outputs": [
    {
     "name": "stdout",
     "output_type": "stream",
     "text": [
      "280 ms ± 9.11 ms per loop (mean ± std. dev. of 7 runs, 1 loop each)\n"
     ]
    }
   ],
   "source": [
    "def get_min_to_drop(seq: tp.Sequence[tp.Any]) -> int:\n",
    "    cnt_max = 0\n",
    "    for el in seq:\n",
    "        cnt_max = max(cnt_max, seq.count(el))\n",
    "    return len(seq) - cnt_max\n",
    "\n",
    "%timeit get_min_to_drop(range(1005000))"
   ]
  },
  {
   "cell_type": "markdown",
   "id": "4eb6ff0b",
   "metadata": {},
   "source": [
    "### 2. min_to_drop → Забыли про длину последовательности"
   ]
  },
  {
   "cell_type": "code",
   "execution_count": 19,
   "id": "f4adb831",
   "metadata": {},
   "outputs": [
    {
     "name": "stdout",
     "output_type": "stream",
     "text": [
      "114 ms ± 11.9 ms per loop (mean ± std. dev. of 7 runs, 10 loops each)\n"
     ]
    }
   ],
   "source": [
    "def get_min_to_drop(seq: tp.Sequence[tp.Any]) -> int:\n",
    "    seq_counter = Counter(seq)\n",
    "    return sum(seq_counter.values()) - max(seq_counter.values()) if len(seq) > 0 else 0\n",
    "\n",
    "%timeit get_min_to_drop(range(1005000))"
   ]
  },
  {
   "cell_type": "markdown",
   "id": "a1d82168",
   "metadata": {
    "slideshow": {
     "slide_type": "slide"
    }
   },
   "source": [
    "### 2. min_to_drop  → Касты"
   ]
  },
  {
   "cell_type": "code",
   "execution_count": 20,
   "id": "f048c9a3",
   "metadata": {
    "cell_style": "split"
   },
   "outputs": [
    {
     "name": "stdout",
     "output_type": "stream",
     "text": [
      "127 ms ± 9.65 ms per loop (mean ± std. dev. of 7 runs, 10 loops each)\n"
     ]
    }
   ],
   "source": [
    "def get_min_to_drop(seq: tp.Sequence[tp.Any]) -> int:\n",
    "    elements_and_quantity = dict(Counter(seq))\n",
    "    max_quantity = 0\n",
    "    for key in elements_and_quantity:\n",
    "        if elements_and_quantity[key] > max_quantity:\n",
    "            max_quantity = elements_and_quantity[key]\n",
    "    return len(seq) - max_quantity\n",
    "\n",
    "%timeit get_min_to_drop(range(1005000))"
   ]
  },
  {
   "cell_type": "code",
   "execution_count": 21,
   "id": "4e10ffbf",
   "metadata": {},
   "outputs": [
    {
     "name": "stdout",
     "output_type": "stream",
     "text": [
      "99.6 ms ± 1.75 ms per loop (mean ± std. dev. of 7 runs, 10 loops each)\n"
     ]
    }
   ],
   "source": [
    "def get_min_to_drop(seq: tp.Sequence[tp.Any]) -> int:\n",
    "    cnt: list[int] = list(Counter(seq).values())\n",
    "    if cnt:\n",
    "        cnt.remove(max(cnt))\n",
    "    return sum(cnt)\n",
    "\n",
    "%timeit get_min_to_drop(range(1005000))"
   ]
  },
  {
   "cell_type": "markdown",
   "id": "e6b77fc3",
   "metadata": {
    "slideshow": {
     "slide_type": "slide"
    }
   },
   "source": [
    "### 2. min_to_drop  → Counter как словарь"
   ]
  },
  {
   "cell_type": "code",
   "execution_count": 22,
   "id": "e7194d7d",
   "metadata": {},
   "outputs": [
    {
     "name": "stdout",
     "output_type": "stream",
     "text": [
      "364 ms ± 4.72 ms per loop (mean ± std. dev. of 7 runs, 1 loop each)\n"
     ]
    }
   ],
   "source": [
    "def get_min_to_drop(seq: tp.Sequence[tp.Any]) -> int:\n",
    "    if len(seq) == 0:\n",
    "        return 0\n",
    "    cnt: dict[tp.Any, int] = Counter()\n",
    "    for el in seq:\n",
    "        cnt[el] += 1\n",
    "    return len(seq) - max(cnt.values())\n",
    "\n",
    "%timeit get_min_to_drop(range(1005000))"
   ]
  },
  {
   "cell_type": "markdown",
   "id": "c37cfcd1",
   "metadata": {
    "slideshow": {
     "slide_type": "slide"
    }
   },
   "source": [
    "### 2. min_to_drop  → <a href=\"https://github.com/python/cpython/blob/3.11/Lib/collections/__init__.py#L611\">most_common</a>\n"
   ]
  },
  {
   "cell_type": "code",
   "execution_count": 23,
   "id": "f69a7b5c",
   "metadata": {
    "cell_style": "split"
   },
   "outputs": [
    {
     "name": "stdout",
     "output_type": "stream",
     "text": [
      "141 ms ± 871 µs per loop (mean ± std. dev. of 7 runs, 10 loops each)\n"
     ]
    }
   ],
   "source": [
    "def get_min_to_drop(seq: tp.Sequence[tp.Any]) -> int:\n",
    "    if len(seq) == 0:\n",
    "        return 0\n",
    "\n",
    "    return len(seq) - Counter(seq).most_common(1)[0][1]\n",
    "\n",
    "%timeit get_min_to_drop(range(1005000))"
   ]
  },
  {
   "cell_type": "code",
   "execution_count": 24,
   "id": "5ac5fc89",
   "metadata": {
    "cell_style": "split"
   },
   "outputs": [
    {
     "name": "stdout",
     "output_type": "stream",
     "text": [
      "161 ms ± 827 µs per loop (mean ± std. dev. of 7 runs, 10 loops each)\n"
     ]
    }
   ],
   "source": [
    "def get_min_to_drop(seq: tp.Sequence[tp.Any]) -> int:\n",
    "    if not seq:\n",
    "        return 0\n",
    "\n",
    "    return len(seq) - Counter(seq).most_common()[0][1]\n",
    "\n",
    "%timeit get_min_to_drop(range(1005000))"
   ]
  },
  {
   "cell_type": "markdown",
   "id": "6c6529b2",
   "metadata": {
    "slideshow": {
     "slide_type": "slide"
    }
   },
   "source": [
    "### 3. comprehensions  → Лишний конструктор (забанено)"
   ]
  },
  {
   "cell_type": "code",
   "execution_count": 25,
   "id": "d3d533d0",
   "metadata": {
    "cell_style": "split"
   },
   "outputs": [],
   "source": [
    "def get_unique_page_ids(records):\n",
    "    # return set(cell['PageID'] for cell in records)\n",
    "    return {cell['PageID'] for cell in records}"
   ]
  },
  {
   "cell_type": "markdown",
   "id": "eb0bf488",
   "metadata": {
    "slideshow": {
     "slide_type": "slide"
    }
   },
   "source": [
    "### 3. comprehensions  → Лишняя индексация"
   ]
  },
  {
   "cell_type": "code",
   "execution_count": 26,
   "id": "a51e6c1d",
   "metadata": {
    "cell_style": "split"
   },
   "outputs": [],
   "source": [
    "def get_unique_page_ids(records):\n",
    "    ans = {records[i][\"PageID\"] for i in range(len(records))}\n",
    "    return ans"
   ]
  },
  {
   "cell_type": "code",
   "execution_count": 27,
   "id": "758f61e8",
   "metadata": {
    "cell_style": "split"
   },
   "outputs": [],
   "source": [
    "def get_unique_page_ids(records):\n",
    "    return {event['PageID'] for event in records}"
   ]
  },
  {
   "cell_type": "markdown",
   "id": "f6aa8106",
   "metadata": {},
   "source": [
    "### 3. comprehensions  → Не пользуетесь сложными comprehensions"
   ]
  },
  {
   "cell_type": "code",
   "execution_count": 28,
   "id": "261b5018",
   "metadata": {},
   "outputs": [],
   "source": [
    "def get_record_with_none_if_key_not_in_keys(\n",
    "        r: tp.Mapping[str, tp.Any],\n",
    "        keys: set[str]\n",
    ") -> dict[str, tp.Any]:\n",
    "    result = {key: r.get(key) for key in keys}\n",
    "    for key in set(r.keys()) - keys:\n",
    "        result[key] = None\n",
    "    return result"
   ]
  },
  {
   "cell_type": "code",
   "execution_count": 29,
   "id": "053cc66b",
   "metadata": {},
   "outputs": [],
   "source": [
    "def get_record_with_none_if_key_not_in_keys(\n",
    "        r: tp.Mapping[str, tp.Any],\n",
    "        keys: set[str]\n",
    ") -> dict[str, tp.Any]:\n",
    "    return {key: value if key in keys else None for key, value in r.items()}"
   ]
  },
  {
   "cell_type": "markdown",
   "id": "1f969a8f",
   "metadata": {
    "slideshow": {
     "slide_type": "slide"
    }
   },
   "source": [
    "### 3. comprehensions  → Есть не только items"
   ]
  },
  {
   "cell_type": "code",
   "execution_count": 30,
   "id": "51f51ebb",
   "metadata": {
    "cell_style": "split"
   },
   "outputs": [],
   "source": [
    "def get_keys_if_key_in_keys(r, keys):\n",
    "    return {key for key, value in r.items() if key in keys}"
   ]
  },
  {
   "cell_type": "code",
   "execution_count": 31,
   "id": "ed787642",
   "metadata": {
    "cell_style": "split"
   },
   "outputs": [],
   "source": [
    "def get_keys_if_key_in_keys(r, keys):\n",
    "    return {elem for elem in r if elem in keys}"
   ]
  },
  {
   "cell_type": "markdown",
   "id": "c83ec8e5",
   "metadata": {
    "slideshow": {
     "slide_type": "slide"
    }
   },
   "source": [
    "### 4. traverse_dictionary →  etalon 1"
   ]
  },
  {
   "cell_type": "code",
   "execution_count": 32,
   "id": "fd3f6f6a",
   "metadata": {
    "slideshow": {
     "slide_type": "-"
    }
   },
   "outputs": [],
   "source": [
    "import typing as tp\n",
    "\n",
    "\n",
    "def traverse_dictionary_immutable(\n",
    "        dct: tp.Mapping[str, tp.Any],\n",
    "        prefix: str = \"\") -> list[tuple[str, int]]:\n",
    "    \"\"\"\n",
    "    :param dct: dictionary of undefined depth with integers or other dicts as leaves with same properties\n",
    "    :param prefix: basic prefix for key\n",
    "    :return: list with pairs: (full key from root to leaf joined by \".\", value)\n",
    "    \"\"\"\n",
    "    result: list[tuple[str, int]] = []\n",
    "\n",
    "    for key, value in dct.items():\n",
    "        full_key = f'{prefix}.{key}' if prefix else key\n",
    "        if type(value) == dict:\n",
    "            result += traverse_dictionary_immutable(value, full_key)\n",
    "        else:\n",
    "            result.append((full_key, value))\n",
    "\n",
    "    return result"
   ]
  },
  {
   "cell_type": "markdown",
   "id": "448931b1",
   "metadata": {
    "slideshow": {
     "slide_type": "slide"
    }
   },
   "source": [
    "### 4. traverse_dictionary →  etalon 2"
   ]
  },
  {
   "cell_type": "code",
   "execution_count": 33,
   "id": "44a0705d",
   "metadata": {
    "slideshow": {
     "slide_type": "-"
    }
   },
   "outputs": [],
   "source": [
    "def traverse_dictionary_mutable(\n",
    "        dct: tp.Mapping[str, tp.Any],\n",
    "        result: list[tuple[str, int]],\n",
    "        prefix: str = \"\") -> None:\n",
    "    \"\"\"\n",
    "    :param dct: dictionary of undefined depth with integers or other dicts as leaves with same properties\n",
    "    :param result: list with pairs: (full key from root to leaf joined by \".\", value)\n",
    "    :param prefix: basic prefix for key\n",
    "    :return: None\n",
    "    \"\"\"\n",
    "    for key, value in dct.items():\n",
    "        full_key = f'{prefix}.{key}' if prefix else key\n",
    "        if isinstance(value, dict):\n",
    "            traverse_dictionary_mutable(value, result, full_key)\n",
    "        else:\n",
    "            result.append((full_key, value))"
   ]
  },
  {
   "cell_type": "markdown",
   "id": "4d94892f",
   "metadata": {
    "slideshow": {
     "slide_type": "slide"
    }
   },
   "source": [
    "### 4. traverse_dictionary →  etalon 3"
   ]
  },
  {
   "cell_type": "code",
   "execution_count": 34,
   "id": "2a9bc2d0",
   "metadata": {
    "slideshow": {
     "slide_type": "-"
    }
   },
   "outputs": [],
   "source": [
    "# Bfs version\n",
    "def traverse_dictionary_iterative(\n",
    "        dct: tp.Mapping[str, tp.Any]\n",
    "        ) -> list[tuple[str, int]]:\n",
    "    \"\"\"\n",
    "    :param dct: dictionary of undefined depth with integers or other dicts as leaves with same properties\n",
    "    :return: list with pairs: (full key from root to leaf joined by \".\", value)\n",
    "    \"\"\"\n",
    "    stack = [(dct, '')]\n",
    "    result = []\n",
    "\n",
    "    while stack:\n",
    "        dct, prefix = stack.pop()\n",
    "        for key, value in dct.items():\n",
    "            full_key = f'{prefix}.{key}' if prefix else key\n",
    "            if isinstance(value, dict):\n",
    "                stack.append((value, full_key))\n",
    "            else:\n",
    "                result.append((full_key, value))\n",
    "\n",
    "    return result"
   ]
  },
  {
   "cell_type": "markdown",
   "id": "547f09d2",
   "metadata": {
    "slideshow": {
     "slide_type": "slide"
    }
   },
   "source": [
    "### 4. traverse_dictionary →  Потерянная ветка "
   ]
  },
  {
   "cell_type": "code",
   "execution_count": 35,
   "id": "7da7e222",
   "metadata": {},
   "outputs": [],
   "source": [
    "def traverse_dictionary_mutable(\n",
    "        dct: tp.Mapping[str, tp.Any],\n",
    "        result: list[tuple[str, int]],\n",
    "        prefix: str = \"\") -> None:\n",
    "\n",
    "    for key, value in dct.items():\n",
    "        new_prefix = f\"{prefix}.{key}\" if prefix else key\n",
    "        if type(value) == dict:\n",
    "            result += traverse_dictionary_immutable(value, new_prefix)\n",
    "        elif type(value) == int:\n",
    "            result.append((new_prefix, value))"
   ]
  },
  {
   "cell_type": "markdown",
   "id": "276b621f",
   "metadata": {
    "slideshow": {
     "slide_type": "slide"
    }
   },
   "source": [
    "### 4. traverse_dictionary →  Лень писать функцию"
   ]
  },
  {
   "cell_type": "code",
   "execution_count": 36,
   "id": "8e042606",
   "metadata": {},
   "outputs": [],
   "source": [
    "def traverse_dictionary_immutable(\n",
    "        dct: tp.Mapping[str, tp.Any],\n",
    "        prefix: str = \"\") -> list[tuple[str, int]]:\n",
    "    result: tp.List[tp.Tuple[str, int]] = []\n",
    "    traverse_dictionary_mutable(dct, result, prefix)\n",
    "    return result"
   ]
  },
  {
   "cell_type": "markdown",
   "id": "aef90eda",
   "metadata": {
    "slideshow": {
     "slide_type": "slide"
    }
   },
   "source": [
    "### 5. merge_lists_2 → etalon"
   ]
  },
  {
   "cell_type": "code",
   "execution_count": 37,
   "id": "b833882a",
   "metadata": {},
   "outputs": [],
   "source": [
    "import heapq\n",
    "import typing as tp\n",
    "\n",
    "\n",
    "def merge(seq: tp.Sequence[tp.Sequence[int]]) -> list[int]:\n",
    "    \"\"\"\n",
    "    :param seq: sequence of sorted sequences\n",
    "    :return: merged sorted list\n",
    "    \"\"\"\n",
    "    merged_list = []  # heapify пустого листа можно не делать\n",
    "\n",
    "    heap: list[tuple[int, int, int]] = []\n",
    "\n",
    "    for i, subseq in enumerate(seq):  # многие вместо i клали 2 элемента и отдельный список pointer'ов\n",
    "        if subseq:\n",
    "            ind = 0\n",
    "            value = subseq[ind]\n",
    "            heapq.heappush(heap, (value, i, ind))\n",
    "\n",
    "    while heap:\n",
    "        value, i, ind = heapq.heappop(heap)\n",
    "        merged_list.append(value)\n",
    "        subseq = seq[i]\n",
    "\n",
    "        if ind != len(subseq) - 1:\n",
    "            ind += 1\n",
    "            new_value = subseq[ind]\n",
    "            heapq.heappush(heap, (new_value, i, ind))\n",
    "\n",
    "    return merged_list\n"
   ]
  },
  {
   "cell_type": "markdown",
   "id": "a3d2f531",
   "metadata": {
    "slideshow": {
     "slide_type": "slide"
    }
   },
   "source": [
    "### 5. merge_lists_2 → Альтернатива heapq.merge"
   ]
  },
  {
   "cell_type": "code",
   "execution_count": 38,
   "id": "ad9c5aed",
   "metadata": {},
   "outputs": [],
   "source": [
    "import typing as tp\n",
    "import heapq\n",
    "\n",
    "\n",
    "def merge(seq: tp.Sequence[tp.Sequence[int]]) -> tp.List[int]:\n",
    "    \"\"\"\n",
    "    :param seq: sequence of sorted sequences\n",
    "    :return: merged sorted list\n",
    "    \"\"\"\n",
    "    return list(heapq.merge(*seq))"
   ]
  },
  {
   "cell_type": "markdown",
   "id": "e7a6484a",
   "metadata": {
    "slideshow": {
     "slide_type": "slide"
    }
   },
   "source": [
    "### 5. merge_lists_2 → Потеря преимущества heapq по времени"
   ]
  },
  {
   "cell_type": "code",
   "execution_count": 39,
   "id": "d9657547",
   "metadata": {},
   "outputs": [],
   "source": [
    "def merge(seq: tp.Sequence[tp.Sequence[int]]) -> list[int]:\n",
    "    \"\"\"\n",
    "    :param seq: sequence of sorted sequences\n",
    "    :return: merged sorted list\n",
    "    \"\"\"\n",
    "    heap: list[int] = []\n",
    "    result: list[int] = []\n",
    "    for s in seq:\n",
    "        for i in s:\n",
    "            heapq.heappush(heap, i)\n",
    "\n",
    "    while heap:\n",
    "        result.append(heapq.heappop(heap))\n",
    "\n",
    "    return result"
   ]
  },
  {
   "cell_type": "code",
   "execution_count": 40,
   "id": "743b61a2",
   "metadata": {},
   "outputs": [],
   "source": [
    "def merge(seq: tp.Sequence[tp.Sequence[int]]) -> list[int]:\n",
    "    lst: list[int] = list(itertools.chain.from_iterable(seq))\n",
    "    heap: list[int] = []\n",
    "    for val in lst:\n",
    "        heap.append(val)\n",
    "    heapq.heapify(heap)\n",
    "    return [heapq.heappop(heap) for idx in range(len(heap))]"
   ]
  }
 ],
 "metadata": {
  "celltoolbar": "Slideshow",
  "kernelspec": {
   "display_name": "Python 3 (ipykernel)",
   "language": "python",
   "name": "python3"
  },
  "language_info": {
   "codemirror_mode": {
    "name": "ipython",
    "version": 3
   },
   "file_extension": ".py",
   "mimetype": "text/x-python",
   "name": "python",
   "nbconvert_exporter": "python",
   "pygments_lexer": "ipython3",
   "version": "3.11.4"
  },
  "rise": {
   "enable_chalkboard": true,
   "footer": "<p style=\"margin: 5px; color: #a0a0a0\">YSDA Python Course</p>",
   "scroll": true,
   "start_slideshow_at": "selected",
   "theme": "serif"
  },
  "toc": {
   "base_numbering": 1,
   "nav_menu": {},
   "number_sections": false,
   "sideBar": true,
   "skip_h1_title": false,
   "title_cell": "Table of Contents",
   "title_sidebar": "Contents",
   "toc_cell": false,
   "toc_position": {},
   "toc_section_display": true,
   "toc_window_display": false
  },
  "varInspector": {
   "cols": {
    "lenName": 16,
    "lenType": 16,
    "lenVar": 40
   },
   "kernels_config": {
    "python": {
     "delete_cmd_postfix": "",
     "delete_cmd_prefix": "del ",
     "library": "var_list.py",
     "varRefreshCmd": "print(var_dic_list())"
    },
    "r": {
     "delete_cmd_postfix": ") ",
     "delete_cmd_prefix": "rm(",
     "library": "var_list.r",
     "varRefreshCmd": "cat(var_dic_list()) "
    }
   },
   "types_to_exclude": [
    "module",
    "function",
    "builtin_function_or_method",
    "instance",
    "_Feature"
   ],
   "window_display": false
  }
 },
 "nbformat": 4,
 "nbformat_minor": 5
}
