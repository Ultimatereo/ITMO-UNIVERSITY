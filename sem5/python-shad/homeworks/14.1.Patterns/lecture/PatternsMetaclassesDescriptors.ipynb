{
 "cells": [
  {
   "cell_type": "markdown",
   "metadata": {
    "pycharm": {
     "name": "#%% md\n"
    },
    "slideshow": {
     "slide_type": "slide"
    }
   },
   "source": [
    "<center>\n",
    "    <img src=\"https://upload.wikimedia.org/wikipedia/commons/a/a8/%D0%9B%D0%9E%D0%93%D0%9E_%D0%A8%D0%90%D0%94.png\" width=500px/>\n",
    "    <font>Python 2020</font><br/>\n",
    "    <br/>\n",
    "    <br/>\n",
    "    <b style=\"font-size: 2em\">Простые паттерны проектирования,</b><br/>\n",
    "    <b style=\"font-size: 2em\">метаклассы, дескрипторы</b><br/>\n",
    "    <br/>\n",
    "    <font>Михаил Максимов</font><br/>\n",
    "</center>"
   ]
  },
  {
   "cell_type": "code",
   "execution_count": 3,
   "metadata": {
    "pycharm": {
     "name": "#%%\n"
    },
    "slideshow": {
     "slide_type": "slide"
    }
   },
   "outputs": [],
   "source": [
    "from abc import abstractmethod, ABC\n",
    "import typing as tp\n",
    "\n",
    "TRow = tp.Dict[str, tp.Any]\n",
    "TRowsIterable = tp.Iterable[TRow]\n",
    "TRowsGenerator = tp.Generator[TRow, None, None]\n",
    "\n",
    "class Operation(ABC):\n",
    "    @abstractmethod\n",
    "    def __call__(self, rows: TRowsIterable, *args: tp.Any, **kwargs: tp.Any) -> TRowsGenerator:\n",
    "        pass"
   ]
  },
  {
   "cell_type": "markdown",
   "metadata": {
    "pycharm": {
     "name": "#%% md\n"
    },
    "slideshow": {
     "slide_type": "slide"
    }
   },
   "source": [
    "### ABC"
   ]
  },
  {
   "cell_type": "code",
   "execution_count": null,
   "metadata": {
    "pycharm": {
     "name": "#%%\n"
    },
    "slideshow": {
     "slide_type": "slide"
    }
   },
   "outputs": [],
   "source": [
    "class Bird():\n",
    "    def fly(self):\n",
    "        raise NotImplementedError()\n",
    "        \n",
    "class Crow(Bird):\n",
    "    pass\n",
    "\n",
    "print(1)\n",
    "c = Crow()\n",
    "print(2)\n",
    "c.fly()\n",
    "print(3)"
   ]
  },
  {
   "cell_type": "code",
   "execution_count": 2,
   "metadata": {
    "cell_style": "center",
    "pycharm": {
     "name": "#%%\n"
    },
    "scrolled": true,
    "slideshow": {
     "slide_type": "slide"
    }
   },
   "outputs": [
    {
     "name": "stdout",
     "output_type": "stream",
     "text": [
      "1\n",
      "2\n"
     ]
    },
    {
     "ename": "NotImplementedError",
     "evalue": "",
     "output_type": "error",
     "traceback": [
      "\u001b[0;31m---------------------------------------------------------------------------\u001b[0m",
      "\u001b[0;31mNotImplementedError\u001b[0m                       Traceback (most recent call last)",
      "\u001b[0;32m<ipython-input-2-99903d834e7e>\u001b[0m in \u001b[0;36m<module>\u001b[0;34m\u001b[0m\n\u001b[1;32m      9\u001b[0m \u001b[0mc\u001b[0m \u001b[0;34m=\u001b[0m \u001b[0mCrow\u001b[0m\u001b[0;34m(\u001b[0m\u001b[0;34m)\u001b[0m\u001b[0;34m\u001b[0m\u001b[0;34m\u001b[0m\u001b[0m\n\u001b[1;32m     10\u001b[0m \u001b[0mprint\u001b[0m\u001b[0;34m(\u001b[0m\u001b[0;36m2\u001b[0m\u001b[0;34m)\u001b[0m\u001b[0;34m\u001b[0m\u001b[0;34m\u001b[0m\u001b[0m\n\u001b[0;32m---> 11\u001b[0;31m \u001b[0mc\u001b[0m\u001b[0;34m.\u001b[0m\u001b[0mfly\u001b[0m\u001b[0;34m(\u001b[0m\u001b[0;34m)\u001b[0m\u001b[0;34m\u001b[0m\u001b[0;34m\u001b[0m\u001b[0m\n\u001b[0m\u001b[1;32m     12\u001b[0m \u001b[0mprint\u001b[0m\u001b[0;34m(\u001b[0m\u001b[0;36m3\u001b[0m\u001b[0;34m)\u001b[0m\u001b[0;34m\u001b[0m\u001b[0;34m\u001b[0m\u001b[0m\n",
      "\u001b[0;32m<ipython-input-2-99903d834e7e>\u001b[0m in \u001b[0;36mfly\u001b[0;34m(self)\u001b[0m\n\u001b[1;32m      1\u001b[0m \u001b[0;32mclass\u001b[0m \u001b[0mBird\u001b[0m\u001b[0;34m(\u001b[0m\u001b[0;34m)\u001b[0m\u001b[0;34m:\u001b[0m\u001b[0;34m\u001b[0m\u001b[0;34m\u001b[0m\u001b[0m\n\u001b[1;32m      2\u001b[0m     \u001b[0;32mdef\u001b[0m \u001b[0mfly\u001b[0m\u001b[0;34m(\u001b[0m\u001b[0mself\u001b[0m\u001b[0;34m)\u001b[0m\u001b[0;34m:\u001b[0m\u001b[0;34m\u001b[0m\u001b[0;34m\u001b[0m\u001b[0m\n\u001b[0;32m----> 3\u001b[0;31m         \u001b[0;32mraise\u001b[0m \u001b[0mNotImplementedError\u001b[0m\u001b[0;34m(\u001b[0m\u001b[0;34m)\u001b[0m\u001b[0;34m\u001b[0m\u001b[0;34m\u001b[0m\u001b[0m\n\u001b[0m\u001b[1;32m      4\u001b[0m \u001b[0;34m\u001b[0m\u001b[0m\n\u001b[1;32m      5\u001b[0m \u001b[0;32mclass\u001b[0m \u001b[0mCrow\u001b[0m\u001b[0;34m(\u001b[0m\u001b[0mBird\u001b[0m\u001b[0;34m)\u001b[0m\u001b[0;34m:\u001b[0m\u001b[0;34m\u001b[0m\u001b[0;34m\u001b[0m\u001b[0m\n",
      "\u001b[0;31mNotImplementedError\u001b[0m: "
     ]
    }
   ],
   "source": [
    "class Bird():\n",
    "    def fly(self):\n",
    "        raise NotImplementedError()\n",
    "        \n",
    "class Crow(Bird):\n",
    "    pass\n",
    "\n",
    "print(1)\n",
    "c = Crow()\n",
    "print(2)\n",
    "c.fly()\n",
    "print(3)"
   ]
  },
  {
   "cell_type": "code",
   "execution_count": null,
   "metadata": {
    "pycharm": {
     "name": "#%%\n"
    },
    "slideshow": {
     "slide_type": "slide"
    }
   },
   "outputs": [],
   "source": [
    "from abc import ABC, abstractmethod\n",
    "\n",
    "class Bird(ABC):\n",
    "    @abstractmethod\n",
    "    def fly(self):\n",
    "        pass\n",
    "\n",
    "class Crow(Bird):\n",
    "    pass\n",
    "\n",
    "print(1)\n",
    "c = Crow()\n",
    "print(2)\n",
    "c.fly()\n",
    "print(3)"
   ]
  },
  {
   "cell_type": "code",
   "execution_count": 3,
   "metadata": {
    "cell_style": "center",
    "pycharm": {
     "name": "#%%\n"
    },
    "scrolled": true,
    "slideshow": {
     "slide_type": "slide"
    }
   },
   "outputs": [
    {
     "name": "stdout",
     "output_type": "stream",
     "text": [
      "1\n"
     ]
    },
    {
     "ename": "TypeError",
     "evalue": "Can't instantiate abstract class Crow with abstract methods fly",
     "output_type": "error",
     "traceback": [
      "\u001b[0;31m---------------------------------------------------------------------------\u001b[0m",
      "\u001b[0;31mTypeError\u001b[0m                                 Traceback (most recent call last)",
      "\u001b[0;32m<ipython-input-3-dc6e8d5078fd>\u001b[0m in \u001b[0;36m<module>\u001b[0;34m\u001b[0m\n\u001b[1;32m     10\u001b[0m \u001b[0;34m\u001b[0m\u001b[0m\n\u001b[1;32m     11\u001b[0m \u001b[0mprint\u001b[0m\u001b[0;34m(\u001b[0m\u001b[0;36m1\u001b[0m\u001b[0;34m)\u001b[0m\u001b[0;34m\u001b[0m\u001b[0;34m\u001b[0m\u001b[0m\n\u001b[0;32m---> 12\u001b[0;31m \u001b[0mc\u001b[0m \u001b[0;34m=\u001b[0m \u001b[0mCrow\u001b[0m\u001b[0;34m(\u001b[0m\u001b[0;34m)\u001b[0m\u001b[0;34m\u001b[0m\u001b[0;34m\u001b[0m\u001b[0m\n\u001b[0m\u001b[1;32m     13\u001b[0m \u001b[0mprint\u001b[0m\u001b[0;34m(\u001b[0m\u001b[0;36m2\u001b[0m\u001b[0;34m)\u001b[0m\u001b[0;34m\u001b[0m\u001b[0;34m\u001b[0m\u001b[0m\n\u001b[1;32m     14\u001b[0m \u001b[0mc\u001b[0m\u001b[0;34m.\u001b[0m\u001b[0mfly\u001b[0m\u001b[0;34m(\u001b[0m\u001b[0;34m)\u001b[0m\u001b[0;34m\u001b[0m\u001b[0;34m\u001b[0m\u001b[0m\n",
      "\u001b[0;31mTypeError\u001b[0m: Can't instantiate abstract class Crow with abstract methods fly"
     ]
    }
   ],
   "source": [
    "from abc import ABC, abstractmethod\n",
    "\n",
    "class Bird(ABC):\n",
    "    @abstractmethod\n",
    "    def fly(self):\n",
    "        pass\n",
    "\n",
    "class Crow(Bird):\n",
    "    pass\n",
    "\n",
    "print(1)\n",
    "c = Crow()\n",
    "print(2)\n",
    "c.fly()\n",
    "print(3)"
   ]
  },
  {
   "cell_type": "code",
   "execution_count": 4,
   "metadata": {
    "pycharm": {
     "name": "#%%\n"
    },
    "slideshow": {
     "slide_type": "slide"
    }
   },
   "outputs": [],
   "source": [
    "from abc import ABC, abstractmethod\n",
    "\n",
    "class Iterable(ABC):\n",
    "    @abstractmethod\n",
    "    def __iter__(self) -> tp.Any:\n",
    "        pass\n",
    "\n",
    "class Sized(ABC):\n",
    "    @abstractmethod\n",
    "    def __len__(self) -> int:\n",
    "        pass\n",
    "\n",
    "class Container(ABC):\n",
    "    @abstractmethod\n",
    "    def __contains__(self, x: tp.Any) -> bool:\n",
    "        pass\n",
    "    \n",
    "class Collection(Sized, Iterable, Container):\n",
    "    pass"
   ]
  },
  {
   "cell_type": "markdown",
   "metadata": {
    "pycharm": {
     "name": "#%% md\n"
    },
    "slideshow": {
     "slide_type": "slide"
    }
   },
   "source": [
    "### А также"
   ]
  },
  {
   "cell_type": "code",
   "execution_count": 5,
   "metadata": {
    "pycharm": {
     "name": "#%%\n"
    },
    "scrolled": true,
    "slideshow": {
     "slide_type": "slide"
    }
   },
   "outputs": [],
   "source": [
    "class Reducer(ABC):\n",
    "    \"\"\"Base class for reducers\"\"\"\n",
    "    @abstractmethod\n",
    "    def __call__(self, group_key: tp.Tuple[str, ...], rows: TRowsIterable) -> TRowsGenerator:\n",
    "        \"\"\"\n",
    "        :param rows: table rows\n",
    "        \"\"\"\n",
    "        pass\n",
    "\n",
    "\n",
    "class Reduce(Operation):\n",
    "    def __init__(self, reducer: Reducer, keys: tp.Sequence[str]) -> None:\n",
    "        self.reducer = reducer\n",
    "        self.keys = keys\n",
    "\n",
    "    def __call__(self, rows: TRowsIterable, *args: tp.Any, **kwargs: tp.Any) -> TRowsGenerator:\n",
    "        pass"
   ]
  },
  {
   "cell_type": "markdown",
   "metadata": {
    "pycharm": {
     "name": "#%% md\n"
    },
    "slideshow": {
     "slide_type": "slide"
    }
   },
   "source": [
    "![alt text](bridge.png \"Bridge\")"
   ]
  },
  {
   "cell_type": "markdown",
   "metadata": {
    "pycharm": {
     "name": "#%% md\n"
    },
    "slideshow": {
     "slide_type": "slide"
    }
   },
   "source": [
    "### Bridge\n",
    "https://sourcemaking.com/design_patterns/bridge\n",
    "\n",
    "Паттерн проектирования - обобщенное и воспроизводимое решение распространенной проблемы в области инженерии ПО"
   ]
  },
  {
   "cell_type": "markdown",
   "metadata": {
    "pycharm": {
     "name": "#%% md\n"
    },
    "slideshow": {
     "slide_type": "slide"
    }
   },
   "source": [
    "![alt text](factory.png \"Factory\")"
   ]
  },
  {
   "cell_type": "markdown",
   "metadata": {
    "pycharm": {
     "name": "#%% md\n"
    },
    "slideshow": {
     "slide_type": "slide"
    }
   },
   "source": [
    "https://sourcemaking.com/design_patterns/bridge"
   ]
  },
  {
   "cell_type": "markdown",
   "metadata": {
    "pycharm": {
     "name": "#%% md\n"
    },
    "slideshow": {
     "slide_type": "slide"
    }
   },
   "source": [
    "![no_bridge](no_bridge.png \"No bridge\")"
   ]
  },
  {
   "cell_type": "code",
   "execution_count": 8,
   "metadata": {
    "pycharm": {
     "name": "#%%\n"
    },
    "slideshow": {
     "slide_type": "slide"
    }
   },
   "outputs": [],
   "source": [
    "class FirstRecordReducer(Reducer):\n",
    "    def __call__(self, group_key: tp.Tuple[str, ...], rows: TRowsIterable) -> TRowsGenerator:\n",
    "        yield next(iter(rows))"
   ]
  },
  {
   "cell_type": "code",
   "execution_count": 9,
   "metadata": {
    "pycharm": {
     "name": "#%%\n"
    },
    "slideshow": {
     "slide_type": "fragment"
    }
   },
   "outputs": [],
   "source": [
    "def test_first_record_reducer_returns_first_record():\n",
    "    input_data = [\n",
    "        {\"a\": 1, \"b\": 1},\n",
    "        {\"a\": 1, \"b\": 2}\n",
    "    ]\n",
    "    reducer = FirstRecordReducer()\n",
    "    result = list(reducer(\"a\", input_data))\n",
    "    assert result[0] == input_data[0]\n",
    "    \n",
    "test_first_record_reducer_returns_first_record()"
   ]
  },
  {
   "cell_type": "code",
   "execution_count": 10,
   "metadata": {
    "pycharm": {
     "name": "#%%\n"
    },
    "scrolled": true,
    "slideshow": {
     "slide_type": "slide"
    }
   },
   "outputs": [],
   "source": [
    "import itertools\n",
    "import operator\n",
    "        \n",
    "class SortReduce(Reduce):\n",
    "    def __call__(self, rows: TRowsIterable, *args: tp.Any, **kwargs: tp.Any) -> TRowsGenerator:\n",
    "        data = sorted(rows, key=operator.itemgetter(*self.keys))# better use Sort\n",
    "        for key, group in itertools.groupby(data, key=operator.itemgetter(*self.keys)):\n",
    "            yield self.reducer(key, list(group)) "
   ]
  },
  {
   "cell_type": "code",
   "execution_count": 11,
   "metadata": {
    "pycharm": {
     "name": "#%%\n"
    },
    "scrolled": true,
    "slideshow": {
     "slide_type": "slide"
    }
   },
   "outputs": [],
   "source": [
    "class GroupKeyReducer(Reducer):        \n",
    "    def __call__(self, group_key: tp.Tuple[str, ...], rows: TRowsIterable) -> TRowsGenerator:\n",
    "        return group_key\n",
    "        \n",
    "\n",
    "def test_sort_reduce():\n",
    "    input_data = [\n",
    "        {\"a\": 1},\n",
    "        {\"a\": 1},\n",
    "        {\"a\": 2},\n",
    "        {\"a\": 2},\n",
    "        {\"a\": 1},\n",
    "    ]\n",
    "    reduce = SortReduce(reducer=GroupKeyReducer(), keys=(\"a\", ))\n",
    "    result = list(reduce(input_data))\n",
    "    assert len(result) == len(set(result)) \n",
    "    \n",
    "test_sort_reduce()"
   ]
  },
  {
   "cell_type": "markdown",
   "metadata": {
    "pycharm": {
     "name": "#%% md\n"
    },
    "slideshow": {
     "slide_type": "slide"
    }
   },
   "source": [
    "## Лекция про два слова"
   ]
  },
  {
   "cell_type": "markdown",
   "metadata": {
    "pycharm": {
     "name": "#%% md\n"
    },
    "slideshow": {
     "slide_type": "fragment"
    }
   },
   "source": [
    "![maintainability](maintainability.png \"Maintainability\")"
   ]
  },
  {
   "cell_type": "markdown",
   "metadata": {
    "pycharm": {
     "name": "#%% md\n"
    },
    "slideshow": {
     "slide_type": "fragment"
    }
   },
   "source": [
    "![extendability](extendability.png \"EXtensibility\")"
   ]
  },
  {
   "cell_type": "markdown",
   "metadata": {
    "pycharm": {
     "name": "#%% md\n"
    },
    "slideshow": {
     "slide_type": "slide"
    }
   },
   "source": [
    "1. Три распространённые проблемы\n",
    "2. Три паттерна проектирования\n",
    "3. Дескрипторы\n",
    "4. Property\n",
    "5. Путь создания объекта (Метаклассы)\n",
    "6. Свой ABC"
   ]
  },
  {
   "cell_type": "markdown",
   "metadata": {
    "pycharm": {
     "name": "#%% md\n"
    },
    "slideshow": {
     "slide_type": "slide"
    }
   },
   "source": [
    "### Проблема 1"
   ]
  },
  {
   "cell_type": "code",
   "execution_count": 12,
   "metadata": {
    "pycharm": {
     "name": "#%%\n"
    },
    "slideshow": {
     "slide_type": "skip"
    }
   },
   "outputs": [],
   "source": [
    "Server = tp.TypeVar"
   ]
  },
  {
   "cell_type": "code",
   "execution_count": null,
   "metadata": {
    "pycharm": {
     "name": "#%%\n"
    },
    "scrolled": true,
    "slideshow": {
     "slide_type": "slide"
    }
   },
   "outputs": [],
   "source": [
    "def send_data(data: str, recipient: Server) -> None:\n",
    "    if data is not None:\n",
    "        if len(data) > 0 and not data.isspace():\n",
    "            recipient.process(data)\n",
    "        else:\n",
    "            raise ValueError(\"Data is empty\")\n",
    "    else:\n",
    "        raise ValueError(\"Data is invalid\")"
   ]
  },
  {
   "cell_type": "code",
   "execution_count": null,
   "metadata": {
    "pycharm": {
     "name": "#%%\n"
    },
    "scrolled": true,
    "slideshow": {
     "slide_type": "fragment"
    }
   },
   "outputs": [],
   "source": [
    "def receive_data(sender: Server) -> str:\n",
    "    data = sender.recieve()\n",
    "    if data is not None:\n",
    "        if len(data) > 0 and not data.isspace():\n",
    "            return data\n",
    "        else:\n",
    "            raise ValueError(\"Data is empty\")\n",
    "    else:\n",
    "        raise ValueError(\"Data is invalid\")"
   ]
  },
  {
   "cell_type": "markdown",
   "metadata": {
    "pycharm": {
     "name": "#%% md\n"
    },
    "slideshow": {
     "slide_type": "slide"
    }
   },
   "source": [
    "### Copy-paste base development\n",
    "https://sourcemaking.com/antipatterns/cut-and-paste-programming"
   ]
  },
  {
   "cell_type": "code",
   "execution_count": null,
   "metadata": {
    "pycharm": {
     "name": "#%%\n"
    },
    "scrolled": true,
    "slideshow": {
     "slide_type": "slide"
    }
   },
   "outputs": [],
   "source": [
    "def validate_data(data: str) -> None:\n",
    "    if data is None:\n",
    "        raise ValueError(\"Data is invalid\")\n",
    "    elif len(data) == 0 or data.isspace():\n",
    "        raise ValueError(\"Data is empty\")\n",
    "    \n",
    "def send_data(data: str, recipient: Server) -> None:\n",
    "    validate_data(data)\n",
    "    recipient.process(data)\n",
    "\n",
    "def receive_data(sender: Server) -> str:\n",
    "    data = sender.recieve()\n",
    "    validate_data(data)\n",
    "    return data"
   ]
  },
  {
   "cell_type": "markdown",
   "metadata": {
    "pycharm": {
     "name": "#%% md\n"
    },
    "slideshow": {
     "slide_type": "slide"
    }
   },
   "source": [
    "### Проблема 2"
   ]
  },
  {
   "cell_type": "code",
   "execution_count": null,
   "metadata": {
    "pycharm": {
     "name": "#%%\n"
    },
    "scrolled": true,
    "slideshow": {
     "slide_type": "slide"
    }
   },
   "outputs": [],
   "source": [
    "def is_less_than_zero(x: float) -> bool:\n",
    "    return x < 0\n",
    "\n",
    "def is_greater_than_one(x: float) -> bool:\n",
    "    return x > 1\n",
    "\n",
    "def weird_modulo(x: float) -> float:\n",
    "    if is_less_than_zero(x):\n",
    "        return -x\n",
    "    elif is_greater_than_one(x):\n",
    "        return 0\n",
    "    else:\n",
    "        return x"
   ]
  },
  {
   "cell_type": "markdown",
   "metadata": {
    "pycharm": {
     "name": "#%% md\n"
    },
    "slideshow": {
     "slide_type": "slide"
    }
   },
   "source": [
    "### Too abstract development"
   ]
  },
  {
   "cell_type": "code",
   "execution_count": null,
   "metadata": {
    "pycharm": {
     "name": "#%%\n"
    },
    "scrolled": true,
    "slideshow": {
     "slide_type": "slide"
    }
   },
   "outputs": [],
   "source": [
    "def weird_modulo(x: float) -> float:\n",
    "    if x < 0:\n",
    "        return -x\n",
    "    elif x > 1:\n",
    "        return 0\n",
    "    else:\n",
    "        return x"
   ]
  },
  {
   "cell_type": "markdown",
   "metadata": {
    "pycharm": {
     "name": "#%% md\n"
    },
    "slideshow": {
     "slide_type": "slide"
    }
   },
   "source": [
    "### Проблема 3"
   ]
  },
  {
   "cell_type": "code",
   "execution_count": null,
   "metadata": {
    "pycharm": {
     "name": "#%%\n"
    },
    "scrolled": true,
    "slideshow": {
     "slide_type": "slide"
    }
   },
   "outputs": [],
   "source": [
    "class Bird(ABC):\n",
    "    @abstractmethod\n",
    "    def eat(self) -> None:\n",
    "        pass\n",
    "\n",
    "    @abstractmethod\n",
    "    def fly(self) -> None:\n",
    "        pass"
   ]
  },
  {
   "cell_type": "code",
   "execution_count": null,
   "metadata": {
    "pycharm": {
     "name": "#%%\n"
    },
    "slideshow": {
     "slide_type": "fragment"
    }
   },
   "outputs": [],
   "source": [
    "class Crow(Bird):\n",
    "    def eat(self) -> None:\n",
    "        # some code\n",
    "        \n",
    "    def fly(self) -> None:\n",
    "        # some code"
   ]
  },
  {
   "cell_type": "code",
   "execution_count": null,
   "metadata": {
    "pycharm": {
     "name": "#%%\n"
    },
    "slideshow": {
     "slide_type": "fragment"
    }
   },
   "outputs": [],
   "source": [
    "birds = [...]\n",
    "for bird in birds:\n",
    "    bird.eat()\n",
    "    bird.fly()"
   ]
  },
  {
   "cell_type": "markdown",
   "metadata": {
    "pycharm": {
     "name": "#%% md\n"
    },
    "slideshow": {
     "slide_type": "fragment"
    }
   },
   "source": [
    "Угадайте какая птица на следующем слайде?"
   ]
  },
  {
   "cell_type": "markdown",
   "metadata": {
    "pycharm": {
     "name": "#%% md\n"
    },
    "slideshow": {
     "slide_type": "slide"
    }
   },
   "source": [
    "## Какапо\n",
    "![kakapo](kakapo.jpg \"Kakapo\")"
   ]
  },
  {
   "cell_type": "code",
   "execution_count": null,
   "metadata": {
    "pycharm": {
     "name": "#%%\n"
    },
    "slideshow": {
     "slide_type": "slide"
    }
   },
   "outputs": [],
   "source": [
    "class Kakapo(Bird):\n",
    "    def eat(self) -> None:\n",
    "        # some code\n",
    "\n",
    "    def fly(self) -> None:\n",
    "        # ???"
   ]
  },
  {
   "cell_type": "markdown",
   "metadata": {
    "pycharm": {
     "name": "#%% md\n"
    },
    "slideshow": {
     "slide_type": "fragment"
    }
   },
   "source": [
    "## Scott Meyers\n",
    "## Effective C++: 55 Specific Ways to Improve Your Programs and Designs\n",
    "### Item 32: Make sure public inheritance models \"is-a\""
   ]
  },
  {
   "cell_type": "code",
   "execution_count": null,
   "metadata": {
    "pycharm": {
     "name": "#%%\n"
    },
    "slideshow": {
     "slide_type": "slide"
    }
   },
   "outputs": [],
   "source": [
    "# Решение 1\n",
    "class Kakapo(Bird):\n",
    "    def eat(self) -> None:\n",
    "        # some code\n",
    "\n",
    "    def fly(self) -> None:\n",
    "        raise NotImplementedError()  # Какапо умеет летать, но это вызывает ошибку"
   ]
  },
  {
   "cell_type": "code",
   "execution_count": null,
   "metadata": {
    "pycharm": {
     "name": "#%%\n"
    },
    "slideshow": {
     "slide_type": "fragment"
    }
   },
   "outputs": [],
   "source": [
    "for bird in birds:\n",
    "    bird.fly()"
   ]
  },
  {
   "cell_type": "code",
   "execution_count": null,
   "metadata": {
    "pycharm": {
     "name": "#%%\n"
    },
    "slideshow": {
     "slide_type": "fragment"
    }
   },
   "outputs": [],
   "source": [
    "# Решение 2\n",
    "\n",
    "class Kakapo(Bird):\n",
    "    def eat(self):\n",
    "        # some code\n",
    "\n",
    "    def fly(self):\n",
    "        pass  # Какапо умеет летать, но в полёте ничего не происходит"
   ]
  },
  {
   "cell_type": "markdown",
   "metadata": {
    "pycharm": {
     "name": "#%% md\n"
    },
    "slideshow": {
     "slide_type": "slide"
    }
   },
   "source": [
    "## - Из-за чего у нас проблема?"
   ]
  },
  {
   "cell_type": "markdown",
   "metadata": {
    "pycharm": {
     "name": "#%% md\n"
    },
    "slideshow": {
     "slide_type": "fragment"
    }
   },
   "source": [
    "## - В нашей модели какапо не является птицей!"
   ]
  },
  {
   "cell_type": "markdown",
   "metadata": {
    "pycharm": {
     "name": "#%% md\n"
    },
    "slideshow": {
     "slide_type": "fragment"
    }
   },
   "source": [
    "# <font color=red> Наследование всегда выражает зависимость \"есть\" </font>"
   ]
  },
  {
   "cell_type": "code",
   "execution_count": null,
   "metadata": {
    "pycharm": {
     "name": "#%%\n"
    },
    "slideshow": {
     "slide_type": "fragment"
    }
   },
   "outputs": [],
   "source": [
    "class Parent:\n",
    "    pass\n",
    "\n",
    "class Child(Parent):\n",
    "    pass\n",
    "\n",
    "# Child есть Parent"
   ]
  },
  {
   "cell_type": "markdown",
   "metadata": {
    "pycharm": {
     "name": "#%% md\n"
    },
    "slideshow": {
     "slide_type": "slide"
    }
   },
   "source": [
    "# Принцип подстановки Барбары Лисков\n",
    "## Подкласс не должен требовать от вызывающего кода больше, чем базовый класс.\n",
    "## И не должен предоставлять вызывающему коду меньше, чем базовый класс."
   ]
  },
  {
   "cell_type": "code",
   "execution_count": null,
   "metadata": {
    "pycharm": {
     "name": "#%%\n"
    },
    "slideshow": {
     "slide_type": "slide"
    }
   },
   "outputs": [],
   "source": [
    "# Решение 3\n",
    "\n",
    "class Bird(ABC):\n",
    "    @abstractmethod\n",
    "    def eat(self):\n",
    "        pass\n",
    "\n",
    "class FlyingBird(Bird):\n",
    "    @abstractmethod\n",
    "    def fly(self):\n",
    "        pass\n",
    "    \n",
    "class Crow(FlyingBird):\n",
    "    def eat(self) -> None:\n",
    "        # some code\n",
    "        \n",
    "    def fly(self) -> None:\n",
    "        # some code\n",
    "    \n",
    "class Kakapo(Bird):\n",
    "    def eat(self) -> None:\n",
    "        # some code"
   ]
  },
  {
   "cell_type": "code",
   "execution_count": null,
   "metadata": {
    "pycharm": {
     "name": "#%%\n"
    },
    "slideshow": {
     "slide_type": "slide"
    }
   },
   "outputs": [],
   "source": [
    "# Решение 4\n",
    "\n",
    "class Beak(ABC):  # клюв\n",
    "    @abstractmethod\n",
    "    def eat(self):\n",
    "        pass\n",
    "    \n",
    "class SharpBeak(Beak):  # острый клюв\n",
    "    # some code\n",
    "    \n",
    "class ShortBeak(Beak):  # короткий клюв\n",
    "    # some code"
   ]
  },
  {
   "cell_type": "code",
   "execution_count": null,
   "metadata": {
    "pycharm": {
     "name": "#%%\n"
    },
    "slideshow": {
     "slide_type": "fragment"
    }
   },
   "outputs": [],
   "source": [
    "class Wings(ABC):  # крылья\n",
    "    @abstractmethod\n",
    "    def fly(self):\n",
    "        pass\n",
    "    \n",
    "class FlyingWings(Wings):  # летучие крылья\n",
    "    # some code\n",
    "    \n",
    "class FlylessWings(Wings):  # нелетучие крылья\n",
    "    # some code"
   ]
  },
  {
   "cell_type": "code",
   "execution_count": null,
   "metadata": {
    "pycharm": {
     "name": "#%%\n"
    },
    "slideshow": {
     "slide_type": "slide"
    }
   },
   "outputs": [],
   "source": [
    "class Bird:\n",
    "    def __init__(self, wings: Wings, beak: Beak) -> None:\n",
    "        self.wings = wings\n",
    "        self.beak = beak\n",
    "        \n",
    "    def eat(self) -> None:\n",
    "        self.beak.eat()\n",
    "        \n",
    "    def fly(self) -> None:\n",
    "        self.wings.fly()\n",
    "        \n",
    "class Crow(Bird):\n",
    "    def __init__(self) -> None:\n",
    "        super().__init__(FlyingWings(), SharpBeak())\n",
    "        \n",
    "class Kakapo(Bird):\n",
    "    def __init__(self) -> None:\n",
    "        super().__init__(FlylessWings(), ShortBeak())"
   ]
  },
  {
   "cell_type": "markdown",
   "metadata": {
    "pycharm": {
     "name": "#%% md\n"
    },
    "slideshow": {
     "slide_type": "slide"
    }
   },
   "source": [
    "# <font color=green> Наследование всегда выражает зависимость \"есть\" </font>"
   ]
  },
  {
   "cell_type": "markdown",
   "metadata": {
    "pycharm": {
     "name": "#%% md\n"
    },
    "slideshow": {
     "slide_type": "fragment"
    }
   },
   "source": [
    "# <font color=blue> Наследование всегда выражает зависимость \"есть\" </font>"
   ]
  },
  {
   "cell_type": "markdown",
   "metadata": {
    "pycharm": {
     "name": "#%% md\n"
    },
    "slideshow": {
     "slide_type": "fragment"
    }
   },
   "source": [
    "# <font color=red> Наследование всегда выражает зависимость \"есть\" </font>"
   ]
  },
  {
   "cell_type": "markdown",
   "metadata": {
    "pycharm": {
     "name": "#%% md\n"
    },
    "slideshow": {
     "slide_type": "slide"
    }
   },
   "source": [
    "## Паттерны\n",
    "### Паттерн 1"
   ]
  },
  {
   "cell_type": "code",
   "execution_count": 22,
   "metadata": {
    "pycharm": {
     "name": "#%%\n"
    },
    "scrolled": true,
    "slideshow": {
     "slide_type": "slide"
    }
   },
   "outputs": [],
   "source": [
    "# /system/unix.py\n",
    "class NativeUnixButton(object):\n",
    "    def set_color(self, color: str) -> None:\n",
    "        pass\n",
    "\n",
    "class NativeUnixWindow(object):\n",
    "    def add_button(self, button: NativeUnixButton) -> None:\n",
    "        pass"
   ]
  },
  {
   "cell_type": "code",
   "execution_count": 23,
   "metadata": {
    "pycharm": {
     "name": "#%%\n"
    },
    "scrolled": true,
    "slideshow": {
     "slide_type": "fragment"
    }
   },
   "outputs": [],
   "source": [
    "# /system/windows.py\n",
    "class NativeWindowsButton(object):\n",
    "    def __init__(self) -> None:\n",
    "        self.color = None\n",
    "\n",
    "class NativeWindowsWindow(object):\n",
    "    def addButton(self, button: NativeWindowsButton) -> None:\n",
    "        pass"
   ]
  },
  {
   "cell_type": "markdown",
   "metadata": {
    "pycharm": {
     "name": "#%% md\n"
    },
    "slideshow": {
     "slide_type": "slide"
    }
   },
   "source": [
    "1. Создать кнопку\n",
    "2. Покрасить кнопку\n",
    "3. Создать окно\n",
    "4. Добавить кнопку на окно"
   ]
  },
  {
   "cell_type": "code",
   "execution_count": 24,
   "metadata": {
    "cell_style": "center",
    "pycharm": {
     "name": "#%%\n"
    },
    "scrolled": true,
    "slideshow": {
     "slide_type": "slide"
    }
   },
   "outputs": [],
   "source": [
    "# /project/main.py\n",
    "\n",
    "import platform\n",
    "\n",
    "if platform.system() in (\"Unix\", \"Darwin\"):\n",
    "    window = NativeUnixWindow()\n",
    "    button = NativeUnixButton()\n",
    "    button.set_color(\"red\")\n",
    "    window.add_button(button)\n",
    "elif platform.system() == \"Windows\":\n",
    "    window = NativeWindowsWindow()\n",
    "    button = NativeWindowsButton()\n",
    "    button.color = (255, 0, 0)\n",
    "    window.addButton(button)\n",
    "else:\n",
    "    raise ValueError(\"Unsupported platform\")"
   ]
  },
  {
   "cell_type": "markdown",
   "metadata": {
    "pycharm": {
     "name": "#%% md\n"
    },
    "slideshow": {
     "slide_type": "slide"
    }
   },
   "source": [
    "# Adapter\n",
    "https://sourcemaking.com/design_patterns/adapter"
   ]
  },
  {
   "cell_type": "markdown",
   "metadata": {
    "pycharm": {
     "name": "#%% md\n"
    },
    "slideshow": {
     "slide_type": "slide"
    }
   },
   "source": [
    "![no_adapter](no_adapter.png \"No adapter\")"
   ]
  },
  {
   "cell_type": "markdown",
   "metadata": {
    "pycharm": {
     "name": "#%% md\n"
    },
    "slideshow": {
     "slide_type": "slide"
    }
   },
   "source": [
    "![adapter](adapter.png \"Adapter\")"
   ]
  },
  {
   "cell_type": "code",
   "execution_count": 25,
   "metadata": {
    "pycharm": {
     "name": "#%%\n"
    },
    "scrolled": true,
    "slideshow": {
     "slide_type": "slide"
    }
   },
   "outputs": [],
   "source": [
    "# /project/interface.py\n",
    "# Создаём общий интерфейс взаимодействия\n",
    "\n",
    "from abc import ABC, abstractmethod\n",
    "from enum import Enum\n",
    "\n",
    "\n",
    "class Color(Enum):\n",
    "    RED = 1\n",
    "    GREEN = 2\n",
    "\n",
    "\n",
    "class ButtonAdapter(ABC):\n",
    "    @abstractmethod\n",
    "    def set_color(self, color: Color) -> None:\n",
    "        pass\n",
    "    \n",
    "    \n",
    "class WindowAdapter(ABC):\n",
    "    @abstractmethod\n",
    "    def add_button(self, button: ButtonAdapter) -> None:\n",
    "        pass"
   ]
  },
  {
   "cell_type": "code",
   "execution_count": 26,
   "metadata": {
    "pycharm": {
     "name": "#%%\n"
    },
    "scrolled": true,
    "slideshow": {
     "slide_type": "slide"
    }
   },
   "outputs": [],
   "source": [
    "# /project/unix.py\n",
    "# Реализуем интерфйес для unix\n",
    "\n",
    "def _color_to_str(color: Color):\n",
    "    if color == Color.RED:\n",
    "        return \"red\"\n",
    "    elif color == Color.GREEN:\n",
    "        return \"green\"\n",
    "    else:\n",
    "        raise ValueError(\"Invalid color for unix: '{}'\".format(color))\n",
    "\n",
    "\n",
    "class UnixButton(ButtonAdapter):\n",
    "    def __init__(self) -> None:\n",
    "        self._native_button = NativeUnixButton()\n",
    "\n",
    "    def set_color(self, color: Color) -> None:\n",
    "        self._native_button.set_color(_color_to_str(color))\n",
    "        \n",
    "        \n",
    "class UnixWindow(WindowAdapter):\n",
    "    def __init__(self) -> None:\n",
    "        self._native_window = NativeUnixWindow()\n",
    "        \n",
    "    def add_button(self, button: ButtonAdapter) -> None:\n",
    "        assert isinstance(button, UnixButton)  # may be done with visitor\n",
    "        self._native_window.add_button(button._native_button)"
   ]
  },
  {
   "cell_type": "code",
   "execution_count": 27,
   "metadata": {
    "pycharm": {
     "name": "#%%\n"
    },
    "scrolled": true,
    "slideshow": {
     "slide_type": "slide"
    }
   },
   "outputs": [],
   "source": [
    "# /project/windows.py\n",
    "# Реализуем интерфйес для windows\n",
    "\n",
    "def _color_to_tuple(color: Color) -> tp.Tuple[float, float, float]:\n",
    "    if color == Color.RED:\n",
    "        return (255, 0, 0)\n",
    "    elif color == Color.GREEN:\n",
    "        return (0, 255, 0)\n",
    "    else:\n",
    "        raise ValueError(\"Invalid color for unix: '{}'\".format(color))\n",
    "\n",
    "\n",
    "class WindowsButton(ButtonAdapter):\n",
    "    def __init__(self) -> None:\n",
    "        self._native_button = NativeWindowsButton()\n",
    "    \n",
    "    def set_color(self, color: Color) -> None:\n",
    "        self.native_button.color = _color_to_tuple(color)\n",
    "        \n",
    "        \n",
    "class WindowsWindow(WindowAdapter):\n",
    "    def add_button(self, button: ButtonAdapter) -> None:\n",
    "        assert isinstance(button, WindowsButton)  # may be done with visitor\n",
    "        self.native_window.addButton(button.native_button)"
   ]
  },
  {
   "cell_type": "code",
   "execution_count": 28,
   "metadata": {
    "pycharm": {
     "name": "#%%\n"
    },
    "slideshow": {
     "slide_type": "slide"
    }
   },
   "outputs": [],
   "source": [
    "if platform.system() in (\"Unix\", \"Darwin\"):\n",
    "    window = UnixWindow()\n",
    "    button = UnixButton()\n",
    "elif platform.system() == \"Windows\":\n",
    "    window = WindowsWindow()\n",
    "    button = WindowsButton()\n",
    "\n",
    "button.set_color(Color.RED)\n",
    "window.add_button(button)"
   ]
  },
  {
   "cell_type": "code",
   "execution_count": 29,
   "metadata": {
    "pycharm": {
     "name": "#%%\n"
    },
    "slideshow": {
     "slide_type": "fragment"
    }
   },
   "outputs": [],
   "source": [
    "if platform.system() in (\"Unix\", \"Darwin\"):\n",
    "    window = NativeUnixWindow()\n",
    "    button = NativeUnixButton()\n",
    "    button.set_color(\"red\")\n",
    "    window.add_button(button)\n",
    "elif platform.system() == \"Windows\":\n",
    "    window = NativeWindowsWindow()\n",
    "    button = NativeWindowsButton()\n",
    "    button.color = (255, 0, 0)\n",
    "    window.addButton(button)"
   ]
  },
  {
   "cell_type": "markdown",
   "metadata": {
    "pycharm": {
     "name": "#%% md\n"
    },
    "slideshow": {
     "slide_type": "slide"
    }
   },
   "source": [
    "## Плюсы"
   ]
  },
  {
   "cell_type": "markdown",
   "metadata": {
    "pycharm": {
     "name": "#%% md\n"
    },
    "slideshow": {
     "slide_type": "fragment"
    }
   },
   "source": [
    "1. Сокращён спагетти код\n",
    "2. Явный контракт для новых систем"
   ]
  },
  {
   "cell_type": "markdown",
   "metadata": {
    "pycharm": {
     "name": "#%% md\n"
    },
    "slideshow": {
     "slide_type": "fragment"
    }
   },
   "source": [
    "## Минусы"
   ]
  },
  {
   "cell_type": "markdown",
   "metadata": {
    "pycharm": {
     "name": "#%% md\n"
    },
    "slideshow": {
     "slide_type": "fragment"
    }
   },
   "source": [
    "1. Размер кода увеличился в х раз\n",
    "2. Адаптер съел особенности"
   ]
  },
  {
   "cell_type": "code",
   "execution_count": null,
   "metadata": {
    "pycharm": {
     "name": "#%%\n"
    },
    "slideshow": {
     "slide_type": "slide"
    }
   },
   "outputs": [],
   "source": [
    "# unix умеет мигать кнопкой\n",
    "class NativeUnixButton(object):\n",
    "    def set_color(self, color: str) -> None:\n",
    "        pass\n",
    "    \n",
    "    def blink(self) -> None:\n",
    "        pass\n",
    "\n",
    "# windows не умеет мигать кнопкой\n",
    "class NativeWindowButton(object):\n",
    "    pass"
   ]
  },
  {
   "cell_type": "code",
   "execution_count": null,
   "metadata": {
    "pycharm": {
     "name": "#%%\n"
    },
    "slideshow": {
     "slide_type": "fragment"
    }
   },
   "outputs": [],
   "source": [
    "class UnixButton(ButtonAdapter):\n",
    "    def blink(self) -> None:\n",
    "        self._native_button.blink()"
   ]
  },
  {
   "cell_type": "code",
   "execution_count": null,
   "metadata": {
    "pycharm": {
     "name": "#%%\n"
    },
    "slideshow": {
     "slide_type": "fragment"
    }
   },
   "outputs": [],
   "source": [
    "class WindowsButton(ButtonAdapter):\n",
    "    def blink(self) -> None:\n",
    "        # ???"
   ]
  },
  {
   "cell_type": "markdown",
   "metadata": {
    "pycharm": {
     "name": "#%% md\n"
    },
    "slideshow": {
     "slide_type": "slide"
    }
   },
   "source": [
    "### Паттерн 2"
   ]
  },
  {
   "cell_type": "code",
   "execution_count": null,
   "metadata": {
    "pycharm": {
     "name": "#%%\n"
    },
    "slideshow": {
     "slide_type": "fragment"
    }
   },
   "outputs": [],
   "source": [
    "window = UnixWindow()\n",
    "button = WindowsButton()\n",
    "window.add_button(button)"
   ]
  },
  {
   "cell_type": "markdown",
   "metadata": {
    "pycharm": {
     "name": "#%% md\n"
    },
    "slideshow": {
     "slide_type": "slide"
    }
   },
   "source": [
    "# AbstractFactory\n",
    "https://sourcemaking.com/design_patterns/abstract_factory"
   ]
  },
  {
   "cell_type": "markdown",
   "metadata": {
    "pycharm": {
     "name": "#%% md\n"
    }
   },
   "source": [
    "![abstract_factory](abstract_factory.png \"AbstractFactory\")"
   ]
  },
  {
   "cell_type": "code",
   "execution_count": 30,
   "metadata": {
    "pycharm": {
     "name": "#%%\n"
    },
    "scrolled": true,
    "slideshow": {
     "slide_type": "slide"
    }
   },
   "outputs": [],
   "source": [
    "# /project/factory.py\n",
    "\n",
    "import platform\n",
    "\n",
    "# AbstractFactory\n",
    "class PlatformFactory(ABC):\n",
    "    @abstractmethod\n",
    "    def create_window(self) -> WindowAdapter:\n",
    "        pass\n",
    "\n",
    "    @abstractmethod\n",
    "    def create_button(self) -> ButtonAdapter:\n",
    "        pass"
   ]
  },
  {
   "cell_type": "code",
   "execution_count": 31,
   "metadata": {
    "pycharm": {
     "name": "#%%\n"
    },
    "slideshow": {
     "slide_type": "slide"
    }
   },
   "outputs": [],
   "source": [
    "class UnixFactory(PlatformFactory):\n",
    "    def create_window(self) -> WindowAdapter:\n",
    "        return UnixWindow()\n",
    "\n",
    "    def create_button(self) -> ButtonAdapter:\n",
    "        return UnixButton()\n",
    "\n",
    "\n",
    "class WindowsFactory(PlatformFactory):\n",
    "    def create_window(self) -> WindowAdapter:\n",
    "        return WindowsWindow()\n",
    "\n",
    "    def create_button(self) -> ButtonAdapter:\n",
    "        return WindowsButton()"
   ]
  },
  {
   "cell_type": "code",
   "execution_count": 32,
   "metadata": {
    "cell_style": "center",
    "pycharm": {
     "name": "#%%\n"
    },
    "scrolled": true,
    "slideshow": {
     "slide_type": "slide"
    }
   },
   "outputs": [],
   "source": [
    "if platform.system() in (\"Unix\", \"Darwin\"):\n",
    "    factory = UnixFactory()\n",
    "elif platform.system() == \"Windows\":\n",
    "    factory = WindowsFactory()\n",
    "\n",
    "window = factory.create_window()\n",
    "button = factory.create_button()\n",
    "button.set_color(Color.RED)\n",
    "window.add_button(button)"
   ]
  },
  {
   "cell_type": "code",
   "execution_count": null,
   "metadata": {
    "cell_style": "center",
    "pycharm": {
     "name": "#%%\n"
    },
    "scrolled": true,
    "slideshow": {
     "slide_type": "fragment"
    }
   },
   "outputs": [],
   "source": [
    "if platform.system() in (\"Unix\", \"Darwin\"):\n",
    "    window = NativeUnixWindow()\n",
    "    button = NativeUnixButton()\n",
    "    button.set_color(\"red\")\n",
    "    window.add_button(button)\n",
    "elif platform.system() == \"Windows\":\n",
    "    window = NativeWindowsWindow()\n",
    "    button = NativeWindowsButton()\n",
    "    button.color = (255, 0, 0)\n",
    "    window.addButton(button)"
   ]
  },
  {
   "cell_type": "markdown",
   "metadata": {
    "pycharm": {
     "name": "#%% md\n"
    },
    "slideshow": {
     "slide_type": "slide"
    }
   },
   "source": [
    "## Плюсы"
   ]
  },
  {
   "cell_type": "markdown",
   "metadata": {
    "pycharm": {
     "name": "#%% md\n"
    },
    "slideshow": {
     "slide_type": "fragment"
    }
   },
   "source": [
    "1. Убран спагетти код\n",
    "2. Компоненты созданные фабрикой точно совместимы"
   ]
  },
  {
   "cell_type": "markdown",
   "metadata": {
    "pycharm": {
     "name": "#%% md\n"
    },
    "slideshow": {
     "slide_type": "fragment"
    }
   },
   "source": [
    "## Минусы"
   ]
  },
  {
   "cell_type": "markdown",
   "metadata": {
    "pycharm": {
     "name": "#%% md\n"
    },
    "slideshow": {
     "slide_type": "fragment"
    }
   },
   "source": [
    "1. Размера кода увеличился в х раз\n",
    "2. Скованность создания объектов нового типа"
   ]
  },
  {
   "cell_type": "code",
   "execution_count": null,
   "metadata": {
    "pycharm": {
     "name": "#%%\n"
    },
    "slideshow": {
     "slide_type": "slide"
    }
   },
   "outputs": [],
   "source": [
    "class NativeUnixButton(object):\n",
    "    def __init__(self, title: str) -> None:\n",
    "        self._title = title"
   ]
  },
  {
   "cell_type": "code",
   "execution_count": null,
   "metadata": {
    "pycharm": {
     "name": "#%%\n"
    },
    "slideshow": {
     "slide_type": "fragment"
    }
   },
   "outputs": [],
   "source": [
    "class UnixButton(ButtonAdapter):\n",
    "    def __init__(self, title: str) -> None:\n",
    "        self._native_button = NativeUnixButton(title)\n",
    "        \n",
    "class PlatformFactory(ABC):\n",
    "    @abstractmethod\n",
    "    def create_button(self, title: str) -> ButtonAdapter:\n",
    "        pass\n",
    "        \n",
    "class UnixFactory(PlatformFactory):\n",
    "    def create_button(self, title: str) -> ButtonAdapter:\n",
    "        return UnixButton(title)\n",
    "    \n",
    "class NativeWindowsButton(object):\n",
    "    def __init__(self) -> None:\n",
    "        # No title"
   ]
  },
  {
   "cell_type": "markdown",
   "metadata": {
    "pycharm": {
     "name": "#%% md\n"
    },
    "slideshow": {
     "slide_type": "slide"
    }
   },
   "source": [
    "### Паттерн 3"
   ]
  },
  {
   "cell_type": "code",
   "execution_count": 33,
   "metadata": {
    "pycharm": {
     "name": "#%%\n"
    },
    "scrolled": true,
    "slideshow": {
     "slide_type": "slide"
    }
   },
   "outputs": [],
   "source": [
    "# /project/interface.py\n",
    "from enum import Enum\n",
    "\n",
    "\n",
    "class Color(Enum):\n",
    "    RED = 1\n",
    "    GREEN = 2\n",
    "    \n",
    "\n",
    "class InteractiveElement(ABC):\n",
    "    pass\n",
    "\n",
    "\n",
    "class ButtonAdapter(InteractiveElement):\n",
    "    @abstractmethod\n",
    "    def set_color(self, color: Color) -> None:\n",
    "        pass\n",
    "    \n",
    "    \n",
    "class CheckboxAdapter(InteractiveElement):\n",
    "    @abstractmethod\n",
    "    def set_color(self, color: Color) -> None:\n",
    "        pass\n",
    "    \n",
    "    \n",
    "class WindowAdapter(ABC):\n",
    "    @abstractmethod\n",
    "    def add_element(self, element: InteractiveElement) -> None:\n",
    "        pass"
   ]
  },
  {
   "cell_type": "code",
   "execution_count": 34,
   "metadata": {
    "pycharm": {
     "name": "#%%\n"
    },
    "scrolled": true,
    "slideshow": {
     "slide_type": "slide"
    }
   },
   "outputs": [],
   "source": [
    "json_string = \"\"\"\n",
    "[\n",
    "    {\"type\": \"button\", \"color\": \"red\"},\n",
    "    {\"type\": \"button\", \"color\": \"green\"},\n",
    "    {\"type\": \"checkbox\", \"color\": \"red\"}\n",
    "]\n",
    "\"\"\""
   ]
  },
  {
   "cell_type": "code",
   "execution_count": 35,
   "metadata": {
    "pycharm": {
     "name": "#%%\n"
    },
    "scrolled": true,
    "slideshow": {
     "slide_type": "fragment"
    }
   },
   "outputs": [
    {
     "name": "stdout",
     "output_type": "stream",
     "text": [
      "[{'type': 'button', 'color': 'red'}, {'type': 'button', 'color': 'green'}, {'type': 'checkbox', 'color': 'red'}]\n"
     ]
    }
   ],
   "source": [
    "import json\n",
    "\n",
    "config = json.loads(json_string)\n",
    "print(config)"
   ]
  },
  {
   "cell_type": "code",
   "execution_count": null,
   "metadata": {
    "pycharm": {
     "name": "#%%\n"
    },
    "scrolled": true,
    "slideshow": {
     "slide_type": "slide"
    }
   },
   "outputs": [],
   "source": [
    "# /project/main.py\n",
    "import json\n",
    "\n",
    "def factory_for_system(system: tp.Optional[str]=None):\n",
    "    system = system or platform.system()\n",
    "    if platform.system() in (\"Unix\", \"Darwin\"):\n",
    "        return UnixFactory()\n",
    "    elif platform.system() == \"Windows\":\n",
    "        return WindowsFactory()\n",
    "\n",
    "factory = factory_for_system()\n",
    "config = json.loads(json_string)\n",
    "for element in config:\n",
    "    color_str = element[\"color\"]\n",
    "    if color_str == \"red\":\n",
    "        color = Color.RED\n",
    "    elif color_str == \"green\":\n",
    "        color = Color.GREEN\n",
    "    else:\n",
    "        raise ValueError(\"Wrong color value in config: '{}'\".format(color_str))\n",
    "    what = element[\"type\"]\n",
    "    if what == \"button\":\n",
    "        element = factory.create_button()\n",
    "    elif what == \"checkbox\":\n",
    "        element = factory.create_checkbox()\n",
    "    else:\n",
    "        raise ValueError(\"Wrong element in config: '{}'\".format(what))\n",
    "    element.set_color(color)"
   ]
  },
  {
   "cell_type": "markdown",
   "metadata": {
    "pycharm": {
     "name": "#%% md\n"
    },
    "slideshow": {
     "slide_type": "slide"
    }
   },
   "source": [
    "# FactoryMethod\n",
    "https://sourcemaking.com/design_patterns/factory_method"
   ]
  },
  {
   "cell_type": "code",
   "execution_count": 37,
   "metadata": {
    "pycharm": {
     "name": "#%%\n"
    },
    "scrolled": true,
    "slideshow": {
     "slide_type": "slide"
    }
   },
   "outputs": [],
   "source": [
    "# /project/interface.py\n",
    "\n",
    "class Color(Enum):\n",
    "    RED = 1\n",
    "    GREEN = 2\n",
    "    \n",
    "    @staticmethod\n",
    "    def from_string(color_str: str) -> \"Color\":\n",
    "        if color_str in (\"red\", \"RED\"):\n",
    "            return Color.RED\n",
    "        elif color_str in (\"green\", \"GREEN\"):\n",
    "            return Color.GREEN\n",
    "        else:\n",
    "            raise ValueError(\"Wrong color value in config: '{}'\".format(color_str))"
   ]
  },
  {
   "cell_type": "code",
   "execution_count": 38,
   "metadata": {
    "pycharm": {
     "name": "#%%\n"
    },
    "slideshow": {
     "slide_type": "fragment"
    }
   },
   "outputs": [
    {
     "data": {
      "text/plain": [
       "<Color.GREEN: 2>"
      ]
     },
     "execution_count": 38,
     "metadata": {},
     "output_type": "execute_result"
    }
   ],
   "source": [
    "Color.from_string(\"green\")"
   ]
  },
  {
   "cell_type": "code",
   "execution_count": 41,
   "metadata": {
    "pycharm": {
     "name": "#%%\n"
    },
    "slideshow": {
     "slide_type": "fragment"
    }
   },
   "outputs": [
    {
     "data": {
      "text/plain": [
       "<Color.RED: 1>"
      ]
     },
     "execution_count": 41,
     "metadata": {},
     "output_type": "execute_result"
    }
   ],
   "source": [
    "Color(1)"
   ]
  },
  {
   "cell_type": "code",
   "execution_count": null,
   "metadata": {
    "pycharm": {
     "name": "#%%\n"
    },
    "slideshow": {
     "slide_type": "slide"
    }
   },
   "outputs": [],
   "source": [
    "# /project/main.py\n",
    "import json\n",
    "\n",
    "factory = factory_for_system()\n",
    "config = json.loads(json_string)\n",
    "for element in config:\n",
    "    color = Color.from_string(element[\"color\"])\n",
    "    what = element[\"type\"]\n",
    "    if what == \"button\":\n",
    "        element = factory.create_button()\n",
    "    elif what == \"checkbox\":\n",
    "        element = factory.create_checkbox()\n",
    "    element.set_color(color)"
   ]
  },
  {
   "cell_type": "code",
   "execution_count": null,
   "metadata": {
    "pycharm": {
     "name": "#%%\n"
    },
    "slideshow": {
     "slide_type": "slide"
    }
   },
   "outputs": [],
   "source": [
    "class PlatformFactory(ABC):\n",
    "    @abstractmethod\n",
    "    def create_window(self) -> WindowAdapter:\n",
    "        pass\n",
    "\n",
    "    @abstractmethod\n",
    "    def create_button(self) -> ButtonAdapter:\n",
    "        pass\n",
    "    \n",
    "    @abstractmethod\n",
    "    def create_checkbox(self) -> ButtonAdapter:\n",
    "        pass\n",
    "    \n",
    "    # FactoryMethod inside AbstractFactory \n",
    "    def interactive_element_from_str(element_str: str) -> InteractiveElement:\n",
    "        if element_str == \"button\":\n",
    "            return self.create_button()\n",
    "        elif element_str == \"checkbox\":\n",
    "            return self.create_checkbox()\n",
    "        else:\n",
    "            raise ValueError(\"Unknown element type: '{}'\".format(element_str))"
   ]
  },
  {
   "cell_type": "code",
   "execution_count": null,
   "metadata": {
    "pycharm": {
     "name": "#%%\n"
    },
    "slideshow": {
     "slide_type": "slide"
    }
   },
   "outputs": [],
   "source": [
    "# /project/main.py\n",
    "import json\n",
    "\n",
    "from project.factory import factory_for_system\n",
    "\n",
    "factory = factory_for_system()\n",
    "config = json.loads(json_string)\n",
    "for element in config:\n",
    "    color = Color.from_string(element[\"color\"])\n",
    "    element = factory.interactive_element_from_str(element[\"type\"])\n",
    "    element.set_color(color)"
   ]
  },
  {
   "cell_type": "markdown",
   "metadata": {
    "pycharm": {
     "name": "#%% md\n"
    },
    "slideshow": {
     "slide_type": "slide"
    }
   },
   "source": [
    "## Плюсы"
   ]
  },
  {
   "cell_type": "markdown",
   "metadata": {
    "pycharm": {
     "name": "#%% md\n"
    },
    "slideshow": {
     "slide_type": "fragment"
    }
   },
   "source": [
    "\n",
    "1. Убран спагетти код\n",
    "2. Явные зоны ответственности"
   ]
  },
  {
   "cell_type": "markdown",
   "metadata": {
    "pycharm": {
     "name": "#%% md\n"
    },
    "slideshow": {
     "slide_type": "fragment"
    }
   },
   "source": [
    "## Минусы"
   ]
  },
  {
   "cell_type": "markdown",
   "metadata": {
    "pycharm": {
     "name": "#%% md\n"
    },
    "slideshow": {
     "slide_type": "fragment"
    }
   },
   "source": [
    "1. Размер кода увеличился в x раз\n",
    "2. Скованность одним интерфейсом создания объектов"
   ]
  },
  {
   "cell_type": "code",
   "execution_count": null,
   "metadata": {
    "pycharm": {
     "name": "#%%\n"
    },
    "slideshow": {
     "slide_type": "slide"
    }
   },
   "outputs": [],
   "source": [
    "# Новая опция hold\n",
    "class ButtonAdapter(InteractiveElement):\n",
    "    def __init__(self, hold: bool = False) -> None:\n",
    "        self._hold = hold\n",
    "    \n",
    "    @abstractmethod\n",
    "    def set_color(self, color: Color) -> None:\n",
    "        pass\n",
    "    \n",
    "# Новая опция checked\n",
    "class CheckboxAdapter(InteractiveElement):\n",
    "    def __init__(self, checked: bool = False) -> None:\n",
    "        self._checked = checked\n",
    "    \n",
    "    @abstractmethod\n",
    "    def set_color(self, color: Color) -> None:\n",
    "        pass"
   ]
  },
  {
   "cell_type": "code",
   "execution_count": null,
   "metadata": {
    "pycharm": {
     "name": "#%%\n"
    },
    "slideshow": {
     "slide_type": "slide"
    }
   },
   "outputs": [],
   "source": [
    "# Обе опции тут\n",
    "class PlatformFactory(ABC):\n",
    "    def interactive_element_from_str(element_str: str, hold: bool, checked: bool) -> InteractiveElement:\n",
    "        if element_str == \"button\":\n",
    "            return self.create_button(hold)\n",
    "        elif element_str == \"checkbox\":\n",
    "            return self.create_checkbox(checked)\n",
    "        else:\n",
    "            raise ValueError(\"Unknown element type: '{}'\".format(element_str))"
   ]
  },
  {
   "cell_type": "markdown",
   "metadata": {
    "pycharm": {
     "name": "#%% md\n"
    },
    "slideshow": {
     "slide_type": "slide"
    }
   },
   "source": [
    "### Сериалзовывать json в dict - плохой способ настраивать опции программы"
   ]
  },
  {
   "cell_type": "markdown",
   "metadata": {
    "pycharm": {
     "name": "#%% md\n"
    },
    "slideshow": {
     "slide_type": "slide"
    }
   },
   "source": [
    "## Дескрипторы"
   ]
  },
  {
   "cell_type": "code",
   "execution_count": 48,
   "metadata": {
    "pycharm": {
     "name": "#%%\n"
    },
    "scrolled": true,
    "slideshow": {
     "slide_type": "slide"
    }
   },
   "outputs": [
    {
     "name": "stdout",
     "output_type": "stream",
     "text": [
      "Expected type <str> for name, got <int>\n",
      "Name should be non-empty alphanumeric string\n",
      "Name should be non-empty alphanumeric string\n"
     ]
    }
   ],
   "source": [
    "class Cow:\n",
    "    def __init__(self, name: str) -> None:\n",
    "        self._name = name\n",
    "        \n",
    "    # Проверяем имя коровы\n",
    "    def set_name(self, name: str) -> None:\n",
    "        if not isinstance(name, str):\n",
    "            raise ValueError(\"Expected type <str> for name, got <{}>\".format(type(name).__name__))\n",
    "        if not name or not name.isalnum():\n",
    "            raise ValueError(\"Name should be non-empty alphanumeric string\")\n",
    "        self._name = name\n",
    "        \n",
    "cow = Cow(\"Isabella\")\n",
    "for name in (1, \"\", \"Ja Ra\"):\n",
    "    try:\n",
    "        cow.set_name(name)\n",
    "    except ValueError as e:\n",
    "        print(e)"
   ]
  },
  {
   "cell_type": "code",
   "execution_count": null,
   "metadata": {
    "pycharm": {
     "name": "#%%\n"
    },
    "scrolled": true,
    "slideshow": {
     "slide_type": "slide"
    }
   },
   "outputs": [],
   "source": [
    "class Sheep:\n",
    "    def __init__(self, name: str):\n",
    "        self._name = name\n",
    "        \n",
    "    def set_name(self, name: str) -> None:\n",
    "        if not isinstance(name, str):\n",
    "            raise ValueError(\"Expected type <str> for name, got <{}>\".format(type(name).__name__))\n",
    "        if not name or not name.isalnum():\n",
    "            raise ValueError(\"Name should be non-empty alphanumeric string\")\n",
    "        self._name = name"
   ]
  },
  {
   "cell_type": "markdown",
   "metadata": {
    "pycharm": {
     "name": "#%% md\n"
    },
    "slideshow": {
     "slide_type": "slide"
    }
   },
   "source": [
    "## Решения\n",
    "### Наследование"
   ]
  },
  {
   "cell_type": "code",
   "execution_count": 49,
   "metadata": {
    "pycharm": {
     "name": "#%%\n"
    },
    "scrolled": true,
    "slideshow": {
     "slide_type": "slide"
    }
   },
   "outputs": [
    {
     "name": "stdout",
     "output_type": "stream",
     "text": [
      "Name should be non-empty alphanumeric string\n",
      "Name should be non-empty alphanumeric string\n"
     ]
    }
   ],
   "source": [
    "class Animal:\n",
    "    def __init__(self, name: str) -> None:\n",
    "        self._name = name\n",
    "        \n",
    "    def set_name(self, name: str) -> None:\n",
    "        if not isinstance(name, str):\n",
    "            raise ValueError(\"Expected type <str> for name, got <{}>\".format(type(name).__name__))\n",
    "        if not name or not name.isalnum():\n",
    "            raise ValueError(\"Name should be non-empty alphanumeric string\")\n",
    "        self._name = name\n",
    "        \n",
    "class Cow(Animal):\n",
    "    pass\n",
    "\n",
    "class Sheep(Animal):\n",
    "    pass\n",
    "\n",
    "cow = Cow(\"Isabella\")\n",
    "sheep = Sheep(\"Boris\")\n",
    "for animal in (cow, sheep):\n",
    "    try:\n",
    "        cow.set_name(\"\")\n",
    "    except ValueError as e:\n",
    "        print(e)"
   ]
  },
  {
   "cell_type": "markdown",
   "metadata": {
    "pycharm": {
     "name": "#%% md\n"
    },
    "slideshow": {
     "slide_type": "slide"
    }
   },
   "source": [
    "### Проблема"
   ]
  },
  {
   "cell_type": "code",
   "execution_count": null,
   "metadata": {
    "cell_style": "center",
    "pycharm": {
     "name": "#%%\n"
    },
    "scrolled": true,
    "slideshow": {
     "slide_type": "fragment"
    }
   },
   "outputs": [],
   "source": [
    "class Farmer:\n",
    "    def __init__(self, name: str, surname: str) -> None:\n",
    "        self._name = name\n",
    "        self._surname = surname\n",
    "        \n",
    "    def set_name(self, name: str) -> None:\n",
    "        if not isinstance(name, str):\n",
    "            raise ValueError(\"Expected type <str> for name, got <{}>\".format(type(name).__name__))\n",
    "        if not name or name.isalnum():\n",
    "            raise ValueError(\"Name should be non-empty alphanumeric string\")\n",
    "        self._name = name\n",
    "        \n",
    "    def set_surname(self, surname: str) -> None:\n",
    "        if not isinstance(surname, str):\n",
    "            raise ValueError(\"Expected type <str> for surname, got <{}>\".format(type(surname).__name__))\n",
    "        if not surname or not surname.isalnum():\n",
    "            raise ValueError(\"Name should be non-empty alphanumeric string\")\n",
    "        self._surname = surname"
   ]
  },
  {
   "cell_type": "code",
   "execution_count": null,
   "metadata": {
    "cell_style": "center",
    "pycharm": {
     "name": "#%%\n"
    },
    "scrolled": true,
    "slideshow": {
     "slide_type": "slide"
    }
   },
   "outputs": [],
   "source": [
    "class Farmer(Animal):\n",
    "    def __init__(self, name: str, surname: str) -> None:\n",
    "        super().__init__()\n",
    "        self._surname = surname\n",
    "        \n",
    "    def set_surname(self, surname: str) -> None:\n",
    "        if not isinstance(surname, str):\n",
    "            raise ValueError(\"Expected type <str> for surname, got <{}>\".format(type(surname).__name__))\n",
    "        if not surname or not surname.isalnum():\n",
    "            raise ValueError(\"Name should be non-empty alphanumeric string\")\n",
    "        self._surname = surname"
   ]
  },
  {
   "cell_type": "markdown",
   "metadata": {
    "pycharm": {
     "name": "#%% md\n"
    },
    "slideshow": {
     "slide_type": "slide"
    }
   },
   "source": [
    "### Дескрипторы\n",
    "https://docs.python.org/3/howto/descriptor.html"
   ]
  },
  {
   "cell_type": "code",
   "execution_count": null,
   "metadata": {
    "pycharm": {
     "name": "#%%\n"
    },
    "scrolled": true,
    "slideshow": {
     "slide_type": "slide"
    }
   },
   "outputs": [],
   "source": [
    "# https://docs.python.org/3/howto/descriptor.html#overview-of-descriptor-invocation\n",
    "b.x"
   ]
  },
  {
   "cell_type": "code",
   "execution_count": null,
   "metadata": {
    "pycharm": {
     "name": "#%%\n"
    },
    "slideshow": {
     "slide_type": "fragment"
    }
   },
   "outputs": [],
   "source": [
    "b.__getattribute__(\"x\")\n",
    "b.__getattribute__ == object.__getattribute__"
   ]
  },
  {
   "cell_type": "code",
   "execution_count": null,
   "metadata": {
    "pycharm": {
     "name": "#%%\n"
    },
    "slideshow": {
     "slide_type": "slide"
    }
   },
   "outputs": [],
   "source": [
    "class object:\n",
    "    def __getattribute__(obj: tp.Any, name: str) -> tp.Any:\n",
    "        null = object()\n",
    "        objtype = type(obj)\n",
    "        cls_var = getattr(objtype, name, null)\n",
    "        descr_get = getattr(type(cls_var), '__get__', null)\n",
    "        if descr_get is not null:\n",
    "            if (hasattr(type(cls_var), '__set__')\n",
    "                or hasattr(type(cls_var), '__delete__')):\n",
    "                return descr_get(cls_var, obj, objtype)     # data descriptor\n",
    "        if hasattr(obj, '__dict__') and name in vars(obj):\n",
    "            return vars(obj)[name]                          # instance variable\n",
    "        if descr_get is not null:\n",
    "            return descr_get(cls_var, obj, objtype)         # non-data descriptor\n",
    "        if cls_var is not null:\n",
    "            return cls_var                                  # class variable\n",
    "        raise AttributeError(name)"
   ]
  },
  {
   "cell_type": "code",
   "execution_count": null,
   "metadata": {
    "pycharm": {
     "name": "#%%\n"
    },
    "scrolled": true,
    "slideshow": {
     "slide_type": "slide"
    }
   },
   "outputs": [],
   "source": [
    "class Descriptor:\n",
    "    def __get__(self, obj: tp.Optional[tp.Any], objtype: type) -> None:\n",
    "        print(f\"Descriptor.__get__(self={self}, obj={obj}, objtype={objtype})\")\n",
    "\n",
    "\n",
    "class Farmer:\n",
    "    name = Descriptor()\n",
    "    \n",
    "\n",
    "farmer = Farmer()\n",
    "farmer.name"
   ]
  },
  {
   "cell_type": "code",
   "execution_count": null,
   "metadata": {
    "pycharm": {
     "name": "#%%\n"
    },
    "slideshow": {
     "slide_type": "slide"
    }
   },
   "outputs": [],
   "source": [
    "object.__getattribute__(farmer, \"name\") -> tp.Any:\n",
    "    null = object()\n",
    "    objtype = type(obj)  # Farmer\n",
    "    cls_var = getattr(objtype, \"name\", null)  # Farmer.name\n",
    "    descr_get = getattr(type(cls_var), '__get__', null)  # Descriptor.__get__\n",
    "    if descr_get is not null:  # Descriptor.__get__ is not null\n",
    "        if (hasattr(type(cls_var), '__set__')  # hasattr(Descriptor, '__set__')\n",
    "            or hasattr(type(cls_var), '__delete__')):  # hasattr(Descriptor, '__delete__')\n",
    "            return descr_get(cls_var, obj, objtype)  # Descriptor.__get__(Farmer.name, farmer, Farmer)\n",
    "    if hasattr(farmer, '__dict__') and name in vars(obj):\n",
    "        return vars(obj)[name]  # farmer.__dict__[\"name\"]\n",
    "    if Descriptor.__get__ is not null:\n",
    "        return descr_get(cls_var, obj, objtype)  # Descriptor.__get__(Farmer.name, farmer, Farmer)\n",
    "    if cls_var is not null:\n",
    "        return cls_var  # Farmer.name\n",
    "    raise AttributeError(name)"
   ]
  },
  {
   "cell_type": "code",
   "execution_count": 91,
   "metadata": {
    "pycharm": {
     "name": "#%%\n"
    },
    "slideshow": {
     "slide_type": "slide"
    }
   },
   "outputs": [
    {
     "name": "stdout",
     "output_type": "stream",
     "text": [
      "Descriptor.__get__(self=<__main__.Descriptor object at 0x7fb955931278>, obj=<__main__.Farmer object at 0x7fb9559312b0>, objtype=<class '__main__.Farmer'>)\n"
     ]
    }
   ],
   "source": [
    "class Descriptor:\n",
    "    def __get__(self, obj: tp.Optional[tp.Any], objtype: type) -> None:\n",
    "        print(f\"Descriptor.__get__(self={self}, obj={obj}, objtype={objtype})\")\n",
    "\n",
    "\n",
    "class Farmer:\n",
    "    name = Descriptor()\n",
    "    \n",
    "\n",
    "farmer = Farmer()\n",
    "farmer.name"
   ]
  },
  {
   "cell_type": "code",
   "execution_count": null,
   "metadata": {
    "pycharm": {
     "name": "#%%\n"
    },
    "slideshow": {
     "slide_type": "fragment"
    }
   },
   "outputs": [],
   "source": [
    "Farmer.__dict__[\"name\"].__get__(Farmer.__dict__[\"name\"], farmer, Farmer)"
   ]
  },
  {
   "cell_type": "code",
   "execution_count": null,
   "metadata": {
    "pycharm": {
     "name": "#%%\n"
    },
    "slideshow": {
     "slide_type": "fragment"
    }
   },
   "outputs": [],
   "source": [
    "a = farmer.name\n",
    "Farmer.name.__get__(farmer, Farmer)\n",
    "\n",
    "farmer.name = 1\n",
    "Farmer.name.__set__(farmer, 1)\n",
    "\n",
    "del farmer.name\n",
    "Farmer.name.__delete__(farmer, Farmer)"
   ]
  },
  {
   "cell_type": "code",
   "execution_count": 62,
   "metadata": {
    "pycharm": {
     "name": "#%%\n"
    },
    "scrolled": true,
    "slideshow": {
     "slide_type": "slide"
    }
   },
   "outputs": [],
   "source": [
    "class NonEmptyString:\n",
    "    \"\"\"Descriptor for string members. Checks non empty string when set.\"\"\"\n",
    "    def __init__(self, name: str):\n",
    "        self._name = name\n",
    "    \n",
    "    # print(farmer.name)\n",
    "    def __get__(self, obj: tp.Optional[tp.Any], objtype: type) -> tp.Any:\n",
    "        if obj is None:\n",
    "            return self\n",
    "        return getattr(obj, self._name)\n",
    "    \n",
    "    # farmer.name = \"Kolya\"\n",
    "    def __set__(self, obj: tp.Any, value: str) -> None:\n",
    "        if not isinstance(value, str):\n",
    "            raise ValueError(\"Expected type <str> for value, got <{}>\".format(type(value).__name__))\n",
    "        if not value or not value.isalnum():\n",
    "            raise ValueError(\"Value should be non-empty alphanumeric string\")\n",
    "        setattr(obj, self._name, value)\n",
    "        \n",
    "    # del farmer.name\n",
    "    def __delete__(self, obj: tp.Any) -> None:\n",
    "        raise ValueError(\"Value cannot be deleted\")"
   ]
  },
  {
   "cell_type": "code",
   "execution_count": 65,
   "metadata": {
    "pycharm": {
     "name": "#%%\n"
    },
    "slideshow": {
     "slide_type": "slide"
    }
   },
   "outputs": [
    {
     "name": "stdout",
     "output_type": "stream",
     "text": [
      "Leo\n",
      "Nick\n"
     ]
    }
   ],
   "source": [
    "class Farmer:\n",
    "    name = NonEmptyString(\"_name\")\n",
    "    surname = NonEmptyString(\"_surname\")\n",
    "    \n",
    "    def __init__(self, name: str, surname: str):\n",
    "        self.name = name\n",
    "        self.surname = surname\n",
    "    \n",
    "\n",
    "farmer = Farmer(\"Leo\", \"Pellegro\")\n",
    "print(farmer.name)\n",
    "farmer.name = \"Nick\"\n",
    "print(farmer.name)"
   ]
  },
  {
   "cell_type": "code",
   "execution_count": 66,
   "metadata": {
    "pycharm": {
     "name": "#%%\n"
    },
    "slideshow": {
     "slide_type": "fragment"
    }
   },
   "outputs": [
    {
     "name": "stdout",
     "output_type": "stream",
     "text": [
      "Jagienka Jankowski\n",
      "Nick Pellegro\n"
     ]
    }
   ],
   "source": [
    "another_farmer = Farmer(\"Jagienka\", \"Jankowski\")\n",
    "print(another_farmer.name, another_farmer.surname)\n",
    "print(farmer.name, farmer.surname)"
   ]
  },
  {
   "cell_type": "code",
   "execution_count": 67,
   "metadata": {
    "pycharm": {
     "name": "#%%\n"
    },
    "slideshow": {
     "slide_type": "fragment"
    }
   },
   "outputs": [
    {
     "name": "stdout",
     "output_type": "stream",
     "text": [
      "Value should be non-empty alphanumeric string\n"
     ]
    }
   ],
   "source": [
    "try:\n",
    "    farmer.name = \"\"\n",
    "except ValueError as e:\n",
    "    print(e)"
   ]
  },
  {
   "cell_type": "code",
   "execution_count": 69,
   "metadata": {
    "pycharm": {
     "name": "#%%\n"
    },
    "slideshow": {
     "slide_type": "slide"
    }
   },
   "outputs": [
    {
     "name": "stdout",
     "output_type": "stream",
     "text": [
      "Value cannot be deleted\n"
     ]
    }
   ],
   "source": [
    "try:\n",
    "    del farmer.name\n",
    "except ValueError as e:\n",
    "    print(e)"
   ]
  },
  {
   "cell_type": "code",
   "execution_count": 70,
   "metadata": {
    "pycharm": {
     "name": "#%%\n"
    },
    "slideshow": {
     "slide_type": "slide"
    }
   },
   "outputs": [
    {
     "name": "stdout",
     "output_type": "stream",
     "text": [
      "'BadFarmer' object has no attribute '_surname'\n"
     ]
    }
   ],
   "source": [
    "class BadFarmer:\n",
    "    name = NonEmptyString(\"_name\")\n",
    "    surname = NonEmptyString(\"_surname\")\n",
    "    \n",
    "    def __init__(self, name: str, surname: str) -> None:\n",
    "        self.name = name\n",
    "\n",
    "farmer = BadFarmer(\"Nikolai\", \"Jos\")\n",
    "try:\n",
    "    print(farmer.surname)\n",
    "except AttributeError as e:\n",
    "    print(e)"
   ]
  },
  {
   "cell_type": "code",
   "execution_count": 134,
   "metadata": {
    "pycharm": {
     "name": "#%%\n"
    },
    "slideshow": {
     "slide_type": "slide"
    }
   },
   "outputs": [],
   "source": [
    "# Python 3.6\n",
    "\n",
    "class NonEmptyString2:\n",
    "    \"\"\"Descriptor for string members. Checks non empty string when set.\"\"\"\n",
    "    def __get__(self, obj: tp.Optional[tp.Any], objtype: type) -> tp.Any:\n",
    "        if obj is None:\n",
    "            return self\n",
    "        return obj.__dict__[self._name]\n",
    "\n",
    "    def __set__(self, obj: tp.Any, value: str) -> None:\n",
    "        if not isinstance(value, str):\n",
    "            raise ValueError(\"Expected type <str> for value, got <{}>\".format(type(value).__name__))\n",
    "        if not value or not value.isalnum():\n",
    "            raise ValueError(\"Value should be non-empty alphanumeric string\")\n",
    "        obj.__dict__[self._name] = value\n",
    "        \n",
    "    def __delete__(self, obj: tp.Any) -> None:\n",
    "        raise ValueError(\"Value cannot be deleted\")\n",
    "\n",
    "    def __set_name__(self, owner: tp.Any, name: str):\n",
    "        self._name = name"
   ]
  },
  {
   "cell_type": "code",
   "execution_count": 137,
   "metadata": {
    "pycharm": {
     "name": "#%%\n"
    },
    "slideshow": {
     "slide_type": "slide"
    }
   },
   "outputs": [
    {
     "ename": "KeyError",
     "evalue": "'surname'",
     "output_type": "error",
     "traceback": [
      "\u001b[0;31m---------------------------------------------------------------------------\u001b[0m",
      "\u001b[0;31mKeyError\u001b[0m                                  Traceback (most recent call last)",
      "\u001b[0;32m<ipython-input-137-af5e309c367c>\u001b[0m in \u001b[0;36m<module>\u001b[0;34m\u001b[0m\n\u001b[1;32m      8\u001b[0m \u001b[0mfarmer\u001b[0m \u001b[0;34m=\u001b[0m \u001b[0mBadFarmer\u001b[0m\u001b[0;34m(\u001b[0m\u001b[0;34m\"Nikolai\"\u001b[0m\u001b[0;34m,\u001b[0m \u001b[0;34m\"Jos\"\u001b[0m\u001b[0;34m)\u001b[0m\u001b[0;34m\u001b[0m\u001b[0;34m\u001b[0m\u001b[0m\n\u001b[1;32m      9\u001b[0m \u001b[0;32mtry\u001b[0m\u001b[0;34m:\u001b[0m\u001b[0;34m\u001b[0m\u001b[0;34m\u001b[0m\u001b[0m\n\u001b[0;32m---> 10\u001b[0;31m     \u001b[0mprint\u001b[0m\u001b[0;34m(\u001b[0m\u001b[0mfarmer\u001b[0m\u001b[0;34m.\u001b[0m\u001b[0msurname\u001b[0m\u001b[0;34m)\u001b[0m\u001b[0;34m\u001b[0m\u001b[0;34m\u001b[0m\u001b[0m\n\u001b[0m\u001b[1;32m     11\u001b[0m \u001b[0;32mexcept\u001b[0m \u001b[0mAttributeError\u001b[0m \u001b[0;32mas\u001b[0m \u001b[0me\u001b[0m\u001b[0;34m:\u001b[0m\u001b[0;34m\u001b[0m\u001b[0;34m\u001b[0m\u001b[0m\n\u001b[1;32m     12\u001b[0m     \u001b[0mprint\u001b[0m\u001b[0;34m(\u001b[0m\u001b[0me\u001b[0m\u001b[0;34m)\u001b[0m\u001b[0;34m\u001b[0m\u001b[0;34m\u001b[0m\u001b[0m\n",
      "\u001b[0;32m<ipython-input-134-dc7e63de1fe7>\u001b[0m in \u001b[0;36m__get__\u001b[0;34m(self, obj, objtype)\u001b[0m\n\u001b[1;32m      6\u001b[0m         \u001b[0;32mif\u001b[0m \u001b[0mobj\u001b[0m \u001b[0;32mis\u001b[0m \u001b[0;32mNone\u001b[0m\u001b[0;34m:\u001b[0m\u001b[0;34m\u001b[0m\u001b[0;34m\u001b[0m\u001b[0m\n\u001b[1;32m      7\u001b[0m             \u001b[0;32mreturn\u001b[0m \u001b[0mself\u001b[0m\u001b[0;34m\u001b[0m\u001b[0;34m\u001b[0m\u001b[0m\n\u001b[0;32m----> 8\u001b[0;31m         \u001b[0;32mreturn\u001b[0m \u001b[0mobj\u001b[0m\u001b[0;34m.\u001b[0m\u001b[0m__dict__\u001b[0m\u001b[0;34m[\u001b[0m\u001b[0mself\u001b[0m\u001b[0;34m.\u001b[0m\u001b[0m_name\u001b[0m\u001b[0;34m]\u001b[0m\u001b[0;34m\u001b[0m\u001b[0;34m\u001b[0m\u001b[0m\n\u001b[0m\u001b[1;32m      9\u001b[0m \u001b[0;34m\u001b[0m\u001b[0m\n\u001b[1;32m     10\u001b[0m     \u001b[0;32mdef\u001b[0m \u001b[0m__set__\u001b[0m\u001b[0;34m(\u001b[0m\u001b[0mself\u001b[0m\u001b[0;34m,\u001b[0m \u001b[0mobj\u001b[0m\u001b[0;34m:\u001b[0m \u001b[0mtp\u001b[0m\u001b[0;34m.\u001b[0m\u001b[0mOptional\u001b[0m\u001b[0;34m[\u001b[0m\u001b[0mtp\u001b[0m\u001b[0;34m.\u001b[0m\u001b[0mAny\u001b[0m\u001b[0;34m]\u001b[0m\u001b[0;34m,\u001b[0m \u001b[0mvalue\u001b[0m\u001b[0;34m:\u001b[0m \u001b[0mstr\u001b[0m\u001b[0;34m)\u001b[0m \u001b[0;34m->\u001b[0m \u001b[0;32mNone\u001b[0m\u001b[0;34m:\u001b[0m\u001b[0;34m\u001b[0m\u001b[0;34m\u001b[0m\u001b[0m\n",
      "\u001b[0;31mKeyError\u001b[0m: 'surname'"
     ]
    }
   ],
   "source": [
    "class BadFarmer:\n",
    "    name = NonEmptyString2()\n",
    "    surname = NonEmptyString2()\n",
    "    \n",
    "    def __init__(self, name: str, surname: str) -> None:\n",
    "        self.name = name\n",
    "\n",
    "farmer = BadFarmer(\"Nikolai\", \"Jos\")\n",
    "try:\n",
    "    print(farmer.surname)\n",
    "except AttributeError as e:\n",
    "    print(e)"
   ]
  },
  {
   "cell_type": "markdown",
   "metadata": {
    "pycharm": {
     "name": "#%% md\n"
    },
    "slideshow": {
     "slide_type": "slide"
    }
   },
   "source": [
    "### Замечание 1: getattr_hook"
   ]
  },
  {
   "cell_type": "code",
   "execution_count": null,
   "metadata": {
    "pycharm": {
     "name": "#%%\n"
    },
    "slideshow": {
     "slide_type": "fragment"
    }
   },
   "outputs": [],
   "source": [
    "a = b.x"
   ]
  },
  {
   "cell_type": "code",
   "execution_count": null,
   "metadata": {
    "pycharm": {
     "name": "#%%\n"
    },
    "slideshow": {
     "slide_type": "fragment"
    }
   },
   "outputs": [],
   "source": [
    "a = getattr_hook(b, \"x\")\n",
    "\n",
    "def getattr_hook(obj, name):\n",
    "    \"Emulate slot_tp_getattr_hook() in Objects/typeobject.c\"\n",
    "    try:\n",
    "        return obj.__getattribute__(name)\n",
    "    except AttributeError:\n",
    "        if not hasattr(type(obj), '__getattr__'):\n",
    "            raise\n",
    "    return type(obj).__getattr__(obj, name)"
   ]
  },
  {
   "cell_type": "markdown",
   "metadata": {
    "pycharm": {
     "name": "#%% md\n"
    },
    "slideshow": {
     "slide_type": "slide"
    }
   },
   "source": [
    "### Замечание 2: __get__(obj=None)"
   ]
  },
  {
   "cell_type": "code",
   "execution_count": 92,
   "metadata": {
    "pycharm": {
     "name": "#%%\n"
    },
    "slideshow": {
     "slide_type": "fragment"
    }
   },
   "outputs": [],
   "source": [
    "class Descriptor:\n",
    "    def __get__(self, obj: tp.Optional[tp.Any], objtype: type) -> None:\n",
    "        print(f\"Descriptor.__get__(self={self}, obj={obj}, objtype={objtype})\")\n",
    "        \n",
    "class Farmer:\n",
    "    name = Descriptor()"
   ]
  },
  {
   "cell_type": "code",
   "execution_count": 93,
   "metadata": {
    "pycharm": {
     "name": "#%%\n"
    },
    "slideshow": {
     "slide_type": "fragment"
    }
   },
   "outputs": [
    {
     "name": "stdout",
     "output_type": "stream",
     "text": [
      "Descriptor.__get__(self=<__main__.Descriptor object at 0x7fb955931240>, obj=None, objtype=<class '__main__.Farmer'>)\n"
     ]
    }
   ],
   "source": [
    "Farmer.name"
   ]
  },
  {
   "cell_type": "code",
   "execution_count": null,
   "metadata": {
    "pycharm": {
     "name": "#%%\n"
    },
    "slideshow": {
     "slide_type": "fragment"
    }
   },
   "outputs": [],
   "source": [
    "Farmer.name != object.__getattribute__(Farmer, \"name\")\n",
    "Farmer.name == type.__getattribute__(Farmer, \"name\")"
   ]
  },
  {
   "cell_type": "markdown",
   "metadata": {
    "pycharm": {
     "name": "#%% md\n"
    },
    "slideshow": {
     "slide_type": "slide"
    }
   },
   "source": [
    "### Замечание 3: non-data vs data descriptors"
   ]
  },
  {
   "cell_type": "code",
   "execution_count": 4,
   "metadata": {
    "pycharm": {
     "name": "#%%\n"
    },
    "slideshow": {
     "slide_type": "fragment"
    }
   },
   "outputs": [
    {
     "name": "stdout",
     "output_type": "stream",
     "text": [
      "meow\n"
     ]
    }
   ],
   "source": [
    "class Dog:\n",
    "    @staticmethod\n",
    "    def bark():\n",
    "        print(\"bark\")\n",
    "    \n",
    "d = Dog()\n",
    "d.bark = lambda: print(\"meow\")\n",
    "d.bark()"
   ]
  },
  {
   "cell_type": "markdown",
   "metadata": {
    "pycharm": {
     "name": "#%% md\n"
    },
    "slideshow": {
     "slide_type": "slide"
    }
   },
   "source": [
    "### Property"
   ]
  },
  {
   "cell_type": "code",
   "execution_count": 94,
   "metadata": {
    "pycharm": {
     "name": "#%%\n"
    },
    "scrolled": true,
    "slideshow": {
     "slide_type": "slide"
    }
   },
   "outputs": [],
   "source": [
    "# https://docs.python.org/3/howto/descriptor.html#properties\n",
    "\n",
    "class Animal:\n",
    "    def __init__(self, usd_price: float) -> None:\n",
    "        self._usd_price = usd_price\n",
    "        \n",
    "    def get_price(self) -> float:\n",
    "        usd_to_rub = 67  # сходить за актуальным курсом usd\n",
    "        return self._usd_price * usd_to_rub\n",
    "    \n",
    "    def set_price(self, price: float) -> None:\n",
    "        if price <= 0:\n",
    "            raise ValueError(\"Price must be positive, got {}\".format(price))\n",
    "        self._usd_price = price"
   ]
  },
  {
   "cell_type": "code",
   "execution_count": 95,
   "metadata": {
    "pycharm": {
     "name": "#%%\n"
    },
    "scrolled": true,
    "slideshow": {
     "slide_type": "slide"
    }
   },
   "outputs": [
    {
     "name": "stdout",
     "output_type": "stream",
     "text": [
      "6700\n",
      "670\n",
      "Price must be positive, got -10\n"
     ]
    }
   ],
   "source": [
    "animal = Animal(100)\n",
    "print(animal.get_price())\n",
    "animal.set_price(10)\n",
    "print(animal.get_price())\n",
    "try:\n",
    "    animal.set_price(-10)\n",
    "except ValueError as e:\n",
    "    print(e)"
   ]
  },
  {
   "cell_type": "code",
   "execution_count": 96,
   "metadata": {
    "pycharm": {
     "name": "#%%\n"
    },
    "scrolled": true,
    "slideshow": {
     "slide_type": "slide"
    }
   },
   "outputs": [],
   "source": [
    "class Animal:\n",
    "    def __init__(self, usd_price):\n",
    "        self._usd_price = usd_price\n",
    "        \n",
    "    @property\n",
    "    def price(self):\n",
    "        usd_to_rub = 67  # сходить за актуальным курсом usd\n",
    "        return self._usd_price * usd_to_rub"
   ]
  },
  {
   "cell_type": "code",
   "execution_count": 97,
   "metadata": {
    "pycharm": {
     "name": "#%%\n"
    },
    "scrolled": true,
    "slideshow": {
     "slide_type": "slide"
    }
   },
   "outputs": [
    {
     "name": "stdout",
     "output_type": "stream",
     "text": [
      "6700\n"
     ]
    },
    {
     "ename": "AttributeError",
     "evalue": "can't set attribute",
     "output_type": "error",
     "traceback": [
      "\u001b[0;31m---------------------------------------------------------------------------\u001b[0m",
      "\u001b[0;31mAttributeError\u001b[0m                            Traceback (most recent call last)",
      "\u001b[0;32m<ipython-input-97-17787c19bf12>\u001b[0m in \u001b[0;36m<module>\u001b[0;34m\u001b[0m\n\u001b[1;32m      1\u001b[0m \u001b[0manimal\u001b[0m \u001b[0;34m=\u001b[0m \u001b[0mAnimal\u001b[0m\u001b[0;34m(\u001b[0m\u001b[0;36m100\u001b[0m\u001b[0;34m)\u001b[0m\u001b[0;34m\u001b[0m\u001b[0;34m\u001b[0m\u001b[0m\n\u001b[1;32m      2\u001b[0m \u001b[0mprint\u001b[0m\u001b[0;34m(\u001b[0m\u001b[0manimal\u001b[0m\u001b[0;34m.\u001b[0m\u001b[0mprice\u001b[0m\u001b[0;34m)\u001b[0m\u001b[0;34m\u001b[0m\u001b[0;34m\u001b[0m\u001b[0m\n\u001b[0;32m----> 3\u001b[0;31m \u001b[0manimal\u001b[0m\u001b[0;34m.\u001b[0m\u001b[0mprice\u001b[0m \u001b[0;34m=\u001b[0m \u001b[0;36m10\u001b[0m\u001b[0;34m\u001b[0m\u001b[0;34m\u001b[0m\u001b[0m\n\u001b[0m\u001b[1;32m      4\u001b[0m \u001b[0mprint\u001b[0m\u001b[0;34m(\u001b[0m\u001b[0manimal\u001b[0m\u001b[0;34m.\u001b[0m\u001b[0mprice\u001b[0m\u001b[0;34m)\u001b[0m\u001b[0;34m\u001b[0m\u001b[0;34m\u001b[0m\u001b[0m\n",
      "\u001b[0;31mAttributeError\u001b[0m: can't set attribute"
     ]
    }
   ],
   "source": [
    "animal = Animal(100)\n",
    "print(animal.price)\n",
    "animal.price = 10\n",
    "print(animal.price)"
   ]
  },
  {
   "cell_type": "code",
   "execution_count": 98,
   "metadata": {
    "pycharm": {
     "name": "#%%\n"
    },
    "scrolled": true,
    "slideshow": {
     "slide_type": "slide"
    }
   },
   "outputs": [],
   "source": [
    "class Animal:\n",
    "    def __init__(self, usd_price):\n",
    "        self._usd_price = usd_price\n",
    "        \n",
    "    @property\n",
    "    def price(self):\n",
    "        usd_to_rub = 67  # сходить за актуальным курсом usd\n",
    "        return self._usd_price * usd_to_rub\n",
    "    \n",
    "    @price.setter\n",
    "    def price(self, price):\n",
    "        if price <= 0:\n",
    "            raise ValueError(\"Price must be positive, got {}\".format(price))\n",
    "        self._usd_price = price"
   ]
  },
  {
   "cell_type": "code",
   "execution_count": 99,
   "metadata": {
    "pycharm": {
     "name": "#%%\n"
    },
    "scrolled": true,
    "slideshow": {
     "slide_type": "slide"
    }
   },
   "outputs": [
    {
     "name": "stdout",
     "output_type": "stream",
     "text": [
      "6700\n",
      "670\n",
      "Price must be positive, got -10\n"
     ]
    }
   ],
   "source": [
    "animal = Animal(100)\n",
    "print(animal.price)\n",
    "animal.price = 10\n",
    "print(animal.price)\n",
    "try:\n",
    "    animal.price = -10\n",
    "except ValueError as e:\n",
    "    print(e)"
   ]
  },
  {
   "cell_type": "code",
   "execution_count": null,
   "metadata": {
    "pycharm": {
     "name": "#%%\n"
    },
    "slideshow": {
     "slide_type": "slide"
    }
   },
   "outputs": [],
   "source": [
    "class Animal:\n",
    "    def __init__(self, usd_price: float) -> None:\n",
    "        self._usd_price = usd_price\n",
    "        \n",
    "    def get_price(self) -> float:\n",
    "        usd_to_rub = 67  # сходить за актуальным курсом usd\n",
    "        return self._usd_price * usd_to_rub\n",
    "    \n",
    "    def set_price(self, price: float) -> None:\n",
    "        if price <= 0:\n",
    "            raise ValueError(\"Price must be positive, got {}\".format(price))\n",
    "        self._usd_price = price\n",
    "        \n",
    "    price = property(get_price, set_price)"
   ]
  },
  {
   "cell_type": "markdown",
   "metadata": {
    "pycharm": {
     "name": "#%% md\n"
    },
    "slideshow": {
     "slide_type": "slide"
    }
   },
   "source": [
    "## Создание объектов"
   ]
  },
  {
   "cell_type": "markdown",
   "metadata": {
    "pycharm": {
     "name": "#%% md\n"
    },
    "slideshow": {
     "slide_type": "slide"
    }
   },
   "source": [
    "### Инициализация"
   ]
  },
  {
   "cell_type": "code",
   "execution_count": null,
   "metadata": {
    "pycharm": {
     "name": "#%%\n"
    },
    "slideshow": {
     "slide_type": "fragment"
    }
   },
   "outputs": [],
   "source": [
    "class Class1:      \n",
    "    def __init__(self, x: int) -> None:\n",
    "        print(f\"Class1.__init__({x})\")\n",
    "        self.x = x\n",
    "        \n",
    "a = Class1(1)\n",
    "print(type(a))\n",
    "print(a.x)"
   ]
  },
  {
   "cell_type": "code",
   "execution_count": 100,
   "metadata": {
    "pycharm": {
     "name": "#%%\n"
    },
    "slideshow": {
     "slide_type": "slide"
    }
   },
   "outputs": [
    {
     "name": "stdout",
     "output_type": "stream",
     "text": [
      "Class1.__init__(1)\n",
      "<class '__main__.Class1'>\n",
      "1\n"
     ]
    }
   ],
   "source": [
    "class Class1:      \n",
    "    def __init__(self, x: int) -> None:\n",
    "        print(f\"Class1.__init__({x})\")\n",
    "        self.x = x\n",
    "        \n",
    "a = Class1(1)\n",
    "print(type(a))\n",
    "print(a.x)"
   ]
  },
  {
   "cell_type": "markdown",
   "metadata": {
    "pycharm": {
     "name": "#%% md\n"
    },
    "slideshow": {
     "slide_type": "slide"
    }
   },
   "source": [
    "![__init__](meta/img/img.001.jpeg \"__init__\")"
   ]
  },
  {
   "cell_type": "markdown",
   "metadata": {
    "pycharm": {
     "name": "#%% md\n"
    },
    "slideshow": {
     "slide_type": "slide"
    }
   },
   "source": [
    "### Выделение памяти под объект"
   ]
  },
  {
   "cell_type": "code",
   "execution_count": 101,
   "metadata": {
    "pycharm": {
     "name": "#%%\n"
    },
    "slideshow": {
     "slide_type": "skip"
    }
   },
   "outputs": [],
   "source": [
    "class Class:\n",
    "    pass"
   ]
  },
  {
   "cell_type": "code",
   "execution_count": 102,
   "metadata": {
    "pycharm": {
     "name": "#%%\n"
    },
    "slideshow": {
     "slide_type": "fragment"
    }
   },
   "outputs": [],
   "source": [
    "c = Class()"
   ]
  },
  {
   "cell_type": "code",
   "execution_count": 103,
   "metadata": {
    "pycharm": {
     "name": "#%%\n"
    },
    "slideshow": {
     "slide_type": "fragment"
    }
   },
   "outputs": [
    {
     "name": "stdout",
     "output_type": "stream",
     "text": [
      "  4           0 LOAD_GLOBAL              0 (Class)\n",
      "              2 CALL_FUNCTION            0\n",
      "              4 RETURN_VALUE\n"
     ]
    }
   ],
   "source": [
    "import dis\n",
    "\n",
    "def f():\n",
    "    return Class()\n",
    "    \n",
    "dis.dis(f)"
   ]
  },
  {
   "cell_type": "code",
   "execution_count": null,
   "metadata": {
    "pycharm": {
     "name": "#%%\n"
    },
    "slideshow": {
     "slide_type": "fragment"
    }
   },
   "outputs": [],
   "source": [
    "# kindof\n",
    "def Class(*args, **kwargs) -> Class:\n",
    "    ???"
   ]
  },
  {
   "cell_type": "code",
   "execution_count": null,
   "metadata": {
    "pycharm": {
     "name": "#%%\n"
    },
    "slideshow": {
     "slide_type": "slide"
    }
   },
   "outputs": [],
   "source": [
    "# kindof\n",
    "def Class(*args, **kwargs) -> Class:\n",
    "    # выделить место под объект\n",
    "    # инициализировать объект\n",
    "    # вернуть готовый объект"
   ]
  },
  {
   "cell_type": "code",
   "execution_count": null,
   "metadata": {
    "pycharm": {
     "name": "#%%\n"
    },
    "slideshow": {
     "slide_type": "slide"
    }
   },
   "outputs": [],
   "source": [
    "# kindof\n",
    "def Class(*args, **kwargs) -> Class:\n",
    "    # выделить место под объект\n",
    "    obj = ???\n",
    "    # инициализировать объект\n",
    "    Class.__init__(obj, *args, **kwargs)\n",
    "    # вернуть готовый объект\n",
    "    return obj"
   ]
  },
  {
   "cell_type": "code",
   "execution_count": null,
   "metadata": {
    "pycharm": {
     "name": "#%%\n"
    },
    "slideshow": {
     "slide_type": "fragment"
    }
   },
   "outputs": [],
   "source": [
    "# kindof\n",
    "def Class(*args, **kwargs) -> Class:\n",
    "    # выделить место под объект\n",
    "    obj = Class.__new__(*args, **kwargs)\n",
    "    # инициализировать объект\n",
    "    Class.__init__(obj, *args, **kwargs)\n",
    "    # вернуть готовый объект\n",
    "    return obj"
   ]
  },
  {
   "cell_type": "code",
   "execution_count": null,
   "metadata": {
    "pycharm": {
     "name": "#%%\n"
    },
    "slideshow": {
     "slide_type": "slide"
    }
   },
   "outputs": [],
   "source": [
    "class Class2:\n",
    "    def __new__(cls, *args) -> \"Class2\":\n",
    "        print(f\"Class2.__new__(cls={cls}, args={args})\")\n",
    "        return object.__new__(cls)\n",
    "    \n",
    "    def __init__(self, *args) -> None:\n",
    "        print(f\"Class2.__init__({args})\")\n",
    "        \n",
    "c = Class2(2)\n",
    "print(type(c))"
   ]
  },
  {
   "cell_type": "code",
   "execution_count": 104,
   "metadata": {
    "pycharm": {
     "name": "#%%\n"
    },
    "slideshow": {
     "slide_type": "slide"
    }
   },
   "outputs": [
    {
     "name": "stdout",
     "output_type": "stream",
     "text": [
      "Class2.__new__(cls=<class '__main__.Class2'>, args=(2,))\n",
      "Class2.__init__((2,))\n",
      "<class '__main__.Class2'>\n"
     ]
    }
   ],
   "source": [
    "class Class2:\n",
    "    def __new__(cls, *args) -> \"Class2\":\n",
    "        print(f\"Class2.__new__(cls={cls}, args={args})\")\n",
    "        return object.__new__(cls)\n",
    "    \n",
    "    def __init__(self, *args) -> None:\n",
    "        print(f\"Class2.__init__({args})\")\n",
    "        \n",
    "c = Class2(2)\n",
    "print(type(c))"
   ]
  },
  {
   "cell_type": "code",
   "execution_count": 105,
   "metadata": {
    "pycharm": {
     "name": "#%%\n"
    },
    "slideshow": {
     "slide_type": "slide"
    }
   },
   "outputs": [
    {
     "name": "stdout",
     "output_type": "stream",
     "text": [
      "Class2.__new__(cls=<class '__main__.Class2'>, args=(1,))\n",
      "Class2.__init__((1,))\n",
      "-\n",
      "Class2.__new__(cls=<class '__main__.Class2'>, args=(1,))\n",
      "Class2.__init__((1,))\n"
     ]
    }
   ],
   "source": [
    "c = Class2(1)\n",
    "print(\"-\")\n",
    "c = Class2.__new__(Class2, 1)\n",
    "c.__init__(1)"
   ]
  },
  {
   "cell_type": "code",
   "execution_count": null,
   "metadata": {
    "pycharm": {
     "name": "#%%\n"
    },
    "slideshow": {
     "slide_type": "slide"
    }
   },
   "outputs": [],
   "source": [
    "# Забавная штука\n",
    "class Class2:\n",
    "    def __new__(cls, *args) -> int:\n",
    "        return 1\n",
    "    \n",
    "    def __init__(self, *args) -> None:\n",
    "        self.x = args[0]\n",
    "        \n",
    "x = Class2()\n",
    "print(type(x))\n",
    "print(x.x)"
   ]
  },
  {
   "cell_type": "code",
   "execution_count": 106,
   "metadata": {
    "pycharm": {
     "name": "#%%\n"
    },
    "slideshow": {
     "slide_type": "slide"
    }
   },
   "outputs": [
    {
     "name": "stdout",
     "output_type": "stream",
     "text": [
      "<class 'int'>\n"
     ]
    },
    {
     "ename": "AttributeError",
     "evalue": "'int' object has no attribute 'x'",
     "output_type": "error",
     "traceback": [
      "\u001b[0;31m---------------------------------------------------------------------------\u001b[0m",
      "\u001b[0;31mAttributeError\u001b[0m                            Traceback (most recent call last)",
      "\u001b[0;32m<ipython-input-106-cfbe5dfe8615>\u001b[0m in \u001b[0;36m<module>\u001b[0;34m\u001b[0m\n\u001b[1;32m      9\u001b[0m \u001b[0mx\u001b[0m \u001b[0;34m=\u001b[0m \u001b[0mClass2\u001b[0m\u001b[0;34m(\u001b[0m\u001b[0;34m)\u001b[0m\u001b[0;34m\u001b[0m\u001b[0;34m\u001b[0m\u001b[0m\n\u001b[1;32m     10\u001b[0m \u001b[0mprint\u001b[0m\u001b[0;34m(\u001b[0m\u001b[0mtype\u001b[0m\u001b[0;34m(\u001b[0m\u001b[0mx\u001b[0m\u001b[0;34m)\u001b[0m\u001b[0;34m)\u001b[0m\u001b[0;34m\u001b[0m\u001b[0;34m\u001b[0m\u001b[0m\n\u001b[0;32m---> 11\u001b[0;31m \u001b[0mprint\u001b[0m\u001b[0;34m(\u001b[0m\u001b[0mx\u001b[0m\u001b[0;34m.\u001b[0m\u001b[0mx\u001b[0m\u001b[0;34m)\u001b[0m\u001b[0;34m\u001b[0m\u001b[0;34m\u001b[0m\u001b[0m\n\u001b[0m",
      "\u001b[0;31mAttributeError\u001b[0m: 'int' object has no attribute 'x'"
     ]
    }
   ],
   "source": [
    "# Забавная штука\n",
    "class Class2:\n",
    "    def __new__(cls, *args) -> int:\n",
    "        return 1\n",
    "    \n",
    "    def __init__(self, *args) -> None:\n",
    "        self.x = args[0]\n",
    "        \n",
    "x = Class2()\n",
    "print(type(x))\n",
    "print(x.x)"
   ]
  },
  {
   "cell_type": "code",
   "execution_count": null,
   "metadata": {
    "pycharm": {
     "name": "#%%\n"
    },
    "slideshow": {
     "slide_type": "slide"
    }
   },
   "outputs": [],
   "source": [
    "c = Class2(1)\n",
    "print(\"-\")\n",
    "c = Class2.__new__(Class2, 1)\n",
    "if isinstance(c, Class2):\n",
    "    c.__init__(1)"
   ]
  },
  {
   "cell_type": "markdown",
   "metadata": {
    "pycharm": {
     "name": "#%% md\n"
    },
    "slideshow": {
     "slide_type": "slide"
    }
   },
   "source": [
    "![__new__](meta/img/img.002.jpeg \"__new__\")"
   ]
  },
  {
   "cell_type": "markdown",
   "metadata": {
    "pycharm": {
     "name": "#%% md\n"
    },
    "slideshow": {
     "slide_type": "slide"
    }
   },
   "source": [
    "### Загадка"
   ]
  },
  {
   "cell_type": "code",
   "execution_count": null,
   "metadata": {
    "pycharm": {
     "name": "#%%\n"
    },
    "slideshow": {
     "slide_type": "skip"
    }
   },
   "outputs": [],
   "source": [
    "class Class:\n",
    "    pass"
   ]
  },
  {
   "cell_type": "code",
   "execution_count": 107,
   "metadata": {
    "pycharm": {
     "name": "#%%\n"
    },
    "slideshow": {
     "slide_type": "fragment"
    }
   },
   "outputs": [],
   "source": [
    "x = Class()"
   ]
  },
  {
   "cell_type": "code",
   "execution_count": 108,
   "metadata": {
    "pycharm": {
     "name": "#%%\n"
    },
    "slideshow": {
     "slide_type": "fragment"
    }
   },
   "outputs": [
    {
     "name": "stdout",
     "output_type": "stream",
     "text": [
      "{'__module__': '__main__', '__dict__': <attribute '__dict__' of 'Class' objects>, '__weakref__': <attribute '__weakref__' of 'Class' objects>, '__doc__': None}\n",
      "{}\n"
     ]
    }
   ],
   "source": [
    "def func():\n",
    "    pass\n",
    "\n",
    "print(Class.__dict__)\n",
    "print(func.__dict__)"
   ]
  },
  {
   "cell_type": "code",
   "execution_count": 109,
   "metadata": {
    "pycharm": {
     "name": "#%%\n"
    },
    "slideshow": {
     "slide_type": "fragment"
    }
   },
   "outputs": [
    {
     "data": {
      "text/plain": [
       "<__main__.Class at 0x7fb955931080>"
      ]
     },
     "execution_count": 109,
     "metadata": {},
     "output_type": "execute_result"
    }
   ],
   "source": [
    "class Class:\n",
    "    @classmethod\n",
    "    def __call__(cls):\n",
    "        raise RuntimeError()\n",
    "\n",
    "x = Class()\n",
    "x"
   ]
  },
  {
   "cell_type": "code",
   "execution_count": 110,
   "metadata": {
    "pycharm": {
     "name": "#%%\n"
    },
    "slideshow": {
     "slide_type": "slide"
    }
   },
   "outputs": [
    {
     "ename": "RuntimeError",
     "evalue": "",
     "output_type": "error",
     "traceback": [
      "\u001b[0;31m---------------------------------------------------------------------------\u001b[0m",
      "\u001b[0;31mRuntimeError\u001b[0m                              Traceback (most recent call last)",
      "\u001b[0;32m<ipython-input-110-08f9d0828de0>\u001b[0m in \u001b[0;36m<module>\u001b[0;34m\u001b[0m\n\u001b[0;32m----> 1\u001b[0;31m \u001b[0mx\u001b[0m\u001b[0;34m(\u001b[0m\u001b[0;34m)\u001b[0m\u001b[0;34m\u001b[0m\u001b[0;34m\u001b[0m\u001b[0m\n\u001b[0m",
      "\u001b[0;32m<ipython-input-109-ef76e1db9c9e>\u001b[0m in \u001b[0;36m__call__\u001b[0;34m(cls)\u001b[0m\n\u001b[1;32m      2\u001b[0m     \u001b[0;34m@\u001b[0m\u001b[0mclassmethod\u001b[0m\u001b[0;34m\u001b[0m\u001b[0;34m\u001b[0m\u001b[0m\n\u001b[1;32m      3\u001b[0m     \u001b[0;32mdef\u001b[0m \u001b[0m__call__\u001b[0m\u001b[0;34m(\u001b[0m\u001b[0mcls\u001b[0m\u001b[0;34m)\u001b[0m\u001b[0;34m:\u001b[0m\u001b[0;34m\u001b[0m\u001b[0;34m\u001b[0m\u001b[0m\n\u001b[0;32m----> 4\u001b[0;31m         \u001b[0;32mraise\u001b[0m \u001b[0mRuntimeError\u001b[0m\u001b[0;34m(\u001b[0m\u001b[0;34m)\u001b[0m\u001b[0;34m\u001b[0m\u001b[0;34m\u001b[0m\u001b[0m\n\u001b[0m\u001b[1;32m      5\u001b[0m \u001b[0;34m\u001b[0m\u001b[0m\n\u001b[1;32m      6\u001b[0m \u001b[0mx\u001b[0m \u001b[0;34m=\u001b[0m \u001b[0mClass\u001b[0m\u001b[0;34m(\u001b[0m\u001b[0;34m)\u001b[0m\u001b[0;34m\u001b[0m\u001b[0;34m\u001b[0m\u001b[0m\n",
      "\u001b[0;31mRuntimeError\u001b[0m: "
     ]
    }
   ],
   "source": [
    "x()"
   ]
  },
  {
   "cell_type": "code",
   "execution_count": null,
   "metadata": {
    "pycharm": {
     "name": "#%%\n"
    },
    "slideshow": {
     "slide_type": "slide"
    }
   },
   "outputs": [],
   "source": [
    "# https://docs.python.org/3/library/functions.html#type\n",
    "\n",
    "class X:\n",
    "    a = 1\n",
    "\n",
    "X = type(\"X\", (object, ), dict(a=1))"
   ]
  },
  {
   "cell_type": "code",
   "execution_count": 111,
   "metadata": {
    "pycharm": {
     "name": "#%%\n"
    },
    "slideshow": {
     "slide_type": "fragment"
    }
   },
   "outputs": [
    {
     "name": "stdout",
     "output_type": "stream",
     "text": [
      "<method-wrapper '__call__' of type object at 0x7fb94f695858>\n",
      "<__main__.Class object at 0x7fb955c2a390>\n"
     ]
    }
   ],
   "source": [
    "Class = type(\"Class\", (object, ), dict())\n",
    "print(Class.__call__)\n",
    "print(Class.__call__())"
   ]
  },
  {
   "cell_type": "code",
   "execution_count": 1,
   "metadata": {
    "pycharm": {
     "name": "#%%\n"
    },
    "slideshow": {
     "slide_type": "fragment"
    }
   },
   "outputs": [
    {
     "ename": "RuntimeError",
     "evalue": "",
     "output_type": "error",
     "traceback": [
      "\u001b[0;31m---------------------------------------------------------------------------\u001b[0m",
      "\u001b[0;31mRuntimeError\u001b[0m                              Traceback (most recent call last)",
      "\u001b[0;32m<ipython-input-1-9de34be823dd>\u001b[0m in \u001b[0;36m<module>\u001b[0;34m\u001b[0m\n\u001b[1;32m      4\u001b[0m \u001b[0mClass\u001b[0m \u001b[0;34m=\u001b[0m \u001b[0mtype\u001b[0m\u001b[0;34m(\u001b[0m\u001b[0;34m\"Class\"\u001b[0m\u001b[0;34m,\u001b[0m \u001b[0;34m(\u001b[0m\u001b[0mobject\u001b[0m\u001b[0;34m,\u001b[0m \u001b[0;34m)\u001b[0m\u001b[0;34m,\u001b[0m \u001b[0;34m{\u001b[0m\u001b[0;34m\"__call__\"\u001b[0m\u001b[0;34m:\u001b[0m \u001b[0mclass_call\u001b[0m\u001b[0;34m}\u001b[0m\u001b[0;34m)\u001b[0m\u001b[0;34m\u001b[0m\u001b[0;34m\u001b[0m\u001b[0m\n\u001b[1;32m      5\u001b[0m \u001b[0mx\u001b[0m \u001b[0;34m=\u001b[0m \u001b[0mClass\u001b[0m\u001b[0;34m(\u001b[0m\u001b[0;34m)\u001b[0m\u001b[0;34m\u001b[0m\u001b[0;34m\u001b[0m\u001b[0m\n\u001b[0;32m----> 6\u001b[0;31m \u001b[0mx\u001b[0m\u001b[0;34m(\u001b[0m\u001b[0;34m)\u001b[0m\u001b[0;34m\u001b[0m\u001b[0;34m\u001b[0m\u001b[0m\n\u001b[0m",
      "\u001b[0;32m<ipython-input-1-9de34be823dd>\u001b[0m in \u001b[0;36mclass_call\u001b[0;34m(self)\u001b[0m\n\u001b[1;32m      1\u001b[0m \u001b[0;32mdef\u001b[0m \u001b[0mclass_call\u001b[0m\u001b[0;34m(\u001b[0m\u001b[0mself\u001b[0m\u001b[0;34m)\u001b[0m\u001b[0;34m:\u001b[0m\u001b[0;34m\u001b[0m\u001b[0;34m\u001b[0m\u001b[0m\n\u001b[0;32m----> 2\u001b[0;31m     \u001b[0;32mraise\u001b[0m \u001b[0mRuntimeError\u001b[0m\u001b[0;34m(\u001b[0m\u001b[0;34m)\u001b[0m\u001b[0;34m\u001b[0m\u001b[0;34m\u001b[0m\u001b[0m\n\u001b[0m\u001b[1;32m      3\u001b[0m \u001b[0;34m\u001b[0m\u001b[0m\n\u001b[1;32m      4\u001b[0m \u001b[0mClass\u001b[0m \u001b[0;34m=\u001b[0m \u001b[0mtype\u001b[0m\u001b[0;34m(\u001b[0m\u001b[0;34m\"Class\"\u001b[0m\u001b[0;34m,\u001b[0m \u001b[0;34m(\u001b[0m\u001b[0mobject\u001b[0m\u001b[0;34m,\u001b[0m \u001b[0;34m)\u001b[0m\u001b[0;34m,\u001b[0m \u001b[0;34m{\u001b[0m\u001b[0;34m\"__call__\"\u001b[0m\u001b[0;34m:\u001b[0m \u001b[0mclass_call\u001b[0m\u001b[0;34m}\u001b[0m\u001b[0;34m)\u001b[0m\u001b[0;34m\u001b[0m\u001b[0;34m\u001b[0m\u001b[0m\n\u001b[1;32m      5\u001b[0m \u001b[0mx\u001b[0m \u001b[0;34m=\u001b[0m \u001b[0mClass\u001b[0m\u001b[0;34m(\u001b[0m\u001b[0;34m)\u001b[0m\u001b[0;34m\u001b[0m\u001b[0;34m\u001b[0m\u001b[0m\n",
      "\u001b[0;31mRuntimeError\u001b[0m: "
     ]
    }
   ],
   "source": [
    "def class_call(self):\n",
    "    raise RuntimeError()\n",
    "\n",
    "Class = type(\"Class\", (object, ), {\"__call__\": class_call})\n",
    "x = Class()\n",
    "x()"
   ]
  },
  {
   "cell_type": "markdown",
   "metadata": {
    "pycharm": {
     "name": "#%% md\n"
    },
    "slideshow": {
     "slide_type": "slide"
    }
   },
   "source": [
    "### PyTypeObject"
   ]
  },
  {
   "cell_type": "markdown",
   "metadata": {
    "pycharm": {
     "name": "#%% md\n"
    },
    "slideshow": {
     "slide_type": "fragment"
    }
   },
   "source": [
    "```c++\n",
    "struct PyTypeObject {\n",
    "    PyObject* tp_name;\n",
    "    PyObject* tp_new;\n",
    "    PyObject* tp_init;\n",
    "    PyObject* tp_call;\n",
    "    PyObject* tp_dict;\n",
    "};\n",
    "```"
   ]
  },
  {
   "cell_type": "code",
   "execution_count": null,
   "metadata": {
    "pycharm": {
     "name": "#%%\n"
    },
    "slideshow": {
     "slide_type": "slide"
    }
   },
   "outputs": [],
   "source": [
    "class X:\n",
    "    def __new__(...):\n",
    "        pass\n",
    "    \n",
    "    def __init__(...):\n",
    "        pass\n",
    "    \n",
    "    def __call__(...):\n",
    "        pass"
   ]
  },
  {
   "cell_type": "markdown",
   "metadata": {
    "pycharm": {
     "name": "#%% md\n"
    },
    "slideshow": {
     "slide_type": "fragment"
    }
   },
   "source": [
    "```c++\n",
    "PyTypeObject PyType_X;\n",
    "PyType_X.tp_name = \"X\";\n",
    "PyType_X.tp_new = __new__\n",
    "PyType_X.tp_init = __init__\n",
    "PyType_X.tp_call = type_call\n",
    "PyType_X.tp_dict = {\"__call__\": __call__}\n",
    "```"
   ]
  },
  {
   "cell_type": "code",
   "execution_count": 1,
   "metadata": {
    "pycharm": {
     "name": "#%%\n"
    },
    "slideshow": {
     "slide_type": "skip"
    }
   },
   "outputs": [
    {
     "data": {
      "text/html": [
       "<style>.CodeMirror{min-width:100% !important;}</style>"
      ],
      "text/plain": [
       "<IPython.core.display.HTML object>"
      ]
     },
     "execution_count": 1,
     "metadata": {},
     "output_type": "execute_result"
    }
   ],
   "source": [
    "from IPython.display import HTML\n",
    "HTML('''<style>.CodeMirror{min-width:100% !important;}</style>''')"
   ]
  },
  {
   "cell_type": "markdown",
   "metadata": {
    "pycharm": {
     "name": "#%% md\n"
    },
    "slideshow": {
     "slide_type": "slide"
    }
   },
   "source": [
    "```c++\n",
    "// Objects/typeobject.c\n",
    "// very distilled\n",
    "static PyObject *\n",
    "type_call(PyTypeObject *type, PyObject *args, PyObject *kwds)\n",
    "{\n",
    "    PyObject *obj;\n",
    "\n",
    "    if (type->tp_new == NULL) {\n",
    "        // assert\n",
    "    }\n",
    "\n",
    "    obj = type->tp_new(type, args, kwds);\n",
    "    if (obj == NULL)\n",
    "        return NULL;\n",
    "    \n",
    "    if (!PyType_IsSubtype(Py_TYPE(obj), type))\n",
    "        return obj;\n",
    "\n",
    "    if (type->tp_init != NULL) {\n",
    "        int res = type->tp_init(obj, args, kwds);\n",
    "        // assert if res < 0\n",
    "    }\n",
    "    return obj;\n",
    "}\n",
    "```"
   ]
  },
  {
   "cell_type": "markdown",
   "metadata": {
    "pycharm": {
     "name": "#%% md\n"
    },
    "slideshow": {
     "slide_type": "slide"
    }
   },
   "source": [
    "### Почему X() всегда работает?"
   ]
  },
  {
   "cell_type": "code",
   "execution_count": null,
   "metadata": {
    "pycharm": {
     "name": "#%%\n"
    },
    "slideshow": {
     "slide_type": "fragment"
    }
   },
   "outputs": [],
   "source": [
    "X()"
   ]
  },
  {
   "cell_type": "markdown",
   "metadata": {
    "pycharm": {
     "name": "#%% md\n"
    },
    "slideshow": {
     "slide_type": "fragment"
    }
   },
   "source": [
    "```c++\n",
    "X.tp_call()\n",
    "// X.tp_call == type_call\n",
    "```"
   ]
  },
  {
   "cell_type": "markdown",
   "metadata": {
    "pycharm": {
     "name": "#%% md\n"
    },
    "slideshow": {
     "slide_type": "slide"
    }
   },
   "source": [
    "### Почему X.\\_\\_call__ показывает непонятно что?"
   ]
  },
  {
   "cell_type": "code",
   "execution_count": null,
   "metadata": {
    "pycharm": {
     "name": "#%%\n"
    },
    "slideshow": {
     "slide_type": "fragment"
    }
   },
   "outputs": [],
   "source": [
    "X.__call__\n",
    "X.__getattribute__(\"__call__\")"
   ]
  },
  {
   "cell_type": "code",
   "execution_count": null,
   "metadata": {
    "pycharm": {
     "name": "#%%\n"
    },
    "slideshow": {
     "slide_type": "fragment"
    }
   },
   "outputs": [],
   "source": [
    "def __getattribute__(cls, name):\n",
    "    found = getattr(cls, name)\n",
    "    if isdescriptor(found):\n",
    "        return found\n",
    "    if name in cls.__dict__:\n",
    "        return cls.__dict__[name]:\n",
    "    return found"
   ]
  },
  {
   "cell_type": "markdown",
   "metadata": {
    "pycharm": {
     "name": "#%% md\n"
    },
    "slideshow": {
     "slide_type": "skip"
    }
   },
   "source": [
    "```c++\n",
    "// Objects/typeobject.c\n",
    "// getattr()\n",
    "static PyObject *\n",
    "type_getattro(PyTypeObject *type, PyObject *naae)\n",
    "{\n",
    "    PyTypeObject *metatype = Py_TYPE(type);\n",
    "    PyObject *meta_attribute, *attribute;\n",
    "    descrgetfunc meta_get;\n",
    "    PyObject* res;\n",
    "\n",
    "    if (!PyUnicode_Check(name)) {\n",
    "        PyErr_Format(PyExc_TypeError,\n",
    "                     \"attribute name must be string, not '%.200s'\",\n",
    "                     name->ob_type->tp_name);\n",
    "        return NULL;\n",
    "    }\n",
    "\n",
    "    /* Initialize this type (we'll assume the metatype is initialized) */\n",
    "    if (type->tp_dict == NULL) {\n",
    "        if (PyType_Ready(type) < 0)\n",
    "            return NULL;\n",
    "    }\n",
    "\n",
    "    /* No readable descriptor found yet */\n",
    "    meta_get = NULL;\n",
    "\n",
    "    /* Look for the attribute in the metatype */\n",
    "    meta_attribute = _PyType_Lookup(metatype, name);\n",
    "\n",
    "    if (meta_attribute != NULL) {\n",
    "        Py_INCREF(meta_attribute);\n",
    "        meta_get = Py_TYPE(meta_attribute)->tp_descr_get;\n",
    "\n",
    "        if (meta_get != NULL && PyDescr_IsData(meta_attribute)) {\n",
    "            /* Data descriptors implement tp_descr_set to intercept\n",
    "             * writes. Assume the attribute is not overridden in\n",
    "             * type's tp_dict (and bases): call the descriptor now.\n",
    "             */\n",
    "            res = meta_get(meta_attribute, (PyObject *)type,\n",
    "                           (PyObject *)metatype);\n",
    "            Py_DECREF(meta_attribute);\n",
    "            return res;\n",
    "        }\n",
    "    }\n",
    "\n",
    "    /* No data descriptor found on metatype. Look in tp_dict of this\n",
    "     * type and its bases */\n",
    "    attribute = _PyType_Lookup(type, name);\n",
    "    if (attribute != NULL) {\n",
    "        /* Implement descriptor functionality, if any */\n",
    "        Py_INCREF(attribute);\n",
    "        descrgetfunc local_get = Py_TYPE(attribute)->tp_descr_get;\n",
    "\n",
    "        Py_XDECREF(meta_attribute);\n",
    "\n",
    "        if (local_get != NULL) {\n",
    "            /* NULL 2nd argument indicates the descriptor was\n",
    "             * found on the target object itself (or a base)  */\n",
    "            res = local_get(attribute, (PyObject *)NULL,\n",
    "                            (PyObject *)type);\n",
    "            Py_DECREF(attribute);\n",
    "            return res;\n",
    "        }\n",
    "\n",
    "        return attribute;\n",
    "    }\n",
    "\n",
    "    /* No attribute found in local __dict__ (or bases): use the\n",
    "     * descriptor from the metatype, if any */\n",
    "    if (meta_get != NULL) {\n",
    "        PyObject *res;\n",
    "        res = meta_get(meta_attribute, (PyObject *)type,\n",
    "                       (PyObject *)metatype);\n",
    "        Py_DECREF(meta_attribute);\n",
    "        return res;\n",
    "    }\n",
    "\n",
    "    /* If an ordinary attribute was found on the metatype, return it now */\n",
    "    if (meta_attribute != NULL) {\n",
    "        return meta_attribute;\n",
    "    }\n",
    "\n",
    "    /* Give up */\n",
    "    PyErr_Format(PyExc_AttributeError,\n",
    "                 \"type object '%.50s' has no attribute '%U'\",\n",
    "                 type->tp_name, name);\n",
    "    return NULL;\n",
    "}\n",
    "```"
   ]
  },
  {
   "cell_type": "markdown",
   "metadata": {
    "pycharm": {
     "name": "#%% md\n"
    },
    "slideshow": {
     "slide_type": "slide"
    }
   },
   "source": [
    "### Итого\n",
    "\n",
    "__Python__\n",
    "```python\n",
    "class X:\n",
    "    a = 1\n",
    "    \n",
    "    def __new__(...):\n",
    "        pass\n",
    "    \n",
    "    def __init__(...):\n",
    "        pass\n",
    "```\n",
    "\n",
    "__C__\n",
    "```c++\n",
    "PyTypeObject PyType_X;\n",
    "PyType_X.tp_name = \"X\";\n",
    "PyType_X.tp_new = __new__\n",
    "PyType_X.tp_init = __init__\n",
    "PyType_X.tp_call = type_call\n",
    "PyType_X.tp_dict = {\"a\": 1}\n",
    "\n",
    "\n",
    "PyObject* type_call() {\n",
    "    PyObject* x = PyType_X.tp_new();\n",
    "    PyType_X.tp_init(x);\n",
    "    return x\n",
    "}\n",
    "```"
   ]
  },
  {
   "cell_type": "markdown",
   "metadata": {
    "pycharm": {
     "name": "#%% md\n"
    },
    "slideshow": {
     "slide_type": "slide"
    }
   },
   "source": [
    "### metaclass.\\_\\_call__"
   ]
  },
  {
   "cell_type": "code",
   "execution_count": null,
   "metadata": {
    "pycharm": {
     "name": "#%%\n"
    },
    "slideshow": {
     "slide_type": "slide"
    }
   },
   "outputs": [],
   "source": [
    "class Class3:\n",
    "    def __new__(cls, *args, **kwargs) -> \"Class3\":\n",
    "        print(f\"Class3.__new__({cls}, {args}, {kwargs})\")\n",
    "        return object.__new__(cls)\n",
    "    \n",
    "    def __init__(\n",
    "        self, \n",
    "        *args, \n",
    "        **kwargs\n",
    "    ) -> None:\n",
    "        print(f\"Class3.__init__({self}, {args}, {kwargs})\")"
   ]
  },
  {
   "cell_type": "code",
   "execution_count": 126,
   "metadata": {
    "pycharm": {
     "name": "#%%\n"
    },
    "slideshow": {
     "slide_type": "slide"
    }
   },
   "outputs": [
    {
     "name": "stdout",
     "output_type": "stream",
     "text": [
      "MetaclassA.__call__(<class '__main__.Class3'>, (1,), {})\n",
      "Class3.__new__(<class '__main__.Class3'>, (1,), {})\n",
      "Class3.__init__(<__main__.Class3 object at 0x7fb955c413c8>, (1,), {})\n",
      "<__main__.Class3 object at 0x7fb955c413c8>\n"
     ]
    }
   ],
   "source": [
    "class MetaclassA(type):\n",
    "    def __call__(cls, *args, **kwargs) -> \"Class3\":\n",
    "        print(f\"MetaclassA.__call__({cls}, {args}, {kwargs})\")\n",
    "        obj = cls.__new__(cls, *args, **kwargs)\n",
    "        obj.__init__(*args, **kwargs)\n",
    "        return obj\n",
    "        \n",
    "class Class3(metaclass=MetaclassA):\n",
    "    def __new__(cls, *args, **kwargs) -> \"Class3\":\n",
    "        print(f\"Class3.__new__({cls}, {args}, {kwargs})\")\n",
    "        return object.__new__(cls)\n",
    "    \n",
    "    def __init__(self, *args, **kwargs) -> None:\n",
    "        print(f\"Class3.__init__({self}, {args}, {kwargs})\") \n",
    "        \n",
    "x = Class3(1)\n",
    "print(x)"
   ]
  },
  {
   "cell_type": "code",
   "execution_count": null,
   "metadata": {
    "pycharm": {
     "name": "#%%\n"
    },
    "slideshow": {
     "slide_type": "slide"
    }
   },
   "outputs": [],
   "source": [
    "# Class3 = type(\"Class3\", (object, ), dict())\n",
    "Class3 = MetaclassA(\"Class3\", (object, ), dict())"
   ]
  },
  {
   "cell_type": "code",
   "execution_count": null,
   "metadata": {
    "pycharm": {
     "name": "#%%\n"
    },
    "slideshow": {
     "slide_type": "fragment"
    }
   },
   "outputs": [],
   "source": [
    "Class3()"
   ]
  },
  {
   "cell_type": "markdown",
   "metadata": {
    "pycharm": {
     "name": "#%% md\n"
    },
    "slideshow": {
     "slide_type": "fragment"
    }
   },
   "source": [
    "```c++\n",
    "PyType_Class3.tp_call != type_call\n",
    "PyType_Class3.tp_call == MetaclassA.__call__\n",
    "type_call == type.tp_call\n",
    "```"
   ]
  },
  {
   "cell_type": "markdown",
   "metadata": {
    "pycharm": {
     "name": "#%% md\n"
    },
    "slideshow": {
     "slide_type": "slide"
    }
   },
   "source": [
    "![__call__](meta/img/img.003.jpeg \"__call__\")"
   ]
  },
  {
   "cell_type": "markdown",
   "metadata": {
    "pycharm": {
     "name": "#%% md\n"
    },
    "slideshow": {
     "slide_type": "skip"
    }
   },
   "source": [
    "```c++\n",
    "PyObject *\n",
    "_PyObject_New(PyTypeObject *tp)\n",
    "{\n",
    "    PyObject *op = (PyObject *) PyObject_MALLOC(_PyObject_SIZE(tp));\n",
    "    if (op == NULL) {\n",
    "        return PyErr_NoMemory();\n",
    "    }\n",
    "    _PyObject_Init(op, tp);\n",
    "    return op;\n",
    "}\n",
    "\n",
    "static inline void\n",
    "_PyObject_Init(PyObject *op, PyTypeObject *typeobj)\n",
    "{\n",
    "    assert(op != NULL);\n",
    "    Py_SET_TYPE(op, typeobj);\n",
    "    if (_PyType_HasFeature(typeobj, Py_TPFLAGS_HEAPTYPE)) {\n",
    "        Py_INCREF(typeobj);\n",
    "    }\n",
    "    _Py_NewReference(op);\n",
    "}\n",
    "```"
   ]
  },
  {
   "cell_type": "markdown",
   "metadata": {
    "pycharm": {
     "name": "#%% md\n"
    },
    "slideshow": {
     "slide_type": "slide"
    }
   },
   "source": [
    "### Flyweight\n",
    "\n",
    "https://sourcemaking.com/design_patterns/flyweight"
   ]
  },
  {
   "cell_type": "code",
   "execution_count": 5,
   "metadata": {
    "pycharm": {
     "name": "#%%\n"
    },
    "slideshow": {
     "slide_type": "skip"
    }
   },
   "outputs": [],
   "source": [
    "class Image:\n",
    "    def __init__(self, path: str):\n",
    "        self._path = path\n",
    "    \n",
    "    def __repr__(self):\n",
    "        return \"Image(path={})\".format(self._path)"
   ]
  },
  {
   "cell_type": "code",
   "execution_count": null,
   "metadata": {
    "pycharm": {
     "name": "#%%\n"
    },
    "slideshow": {
     "slide_type": "slide"
    }
   },
   "outputs": [],
   "source": [
    "class Image:\n",
    "    def __init__(self, path: str):\n",
    "        # load image to ram\n",
    "        # slow and ram consuming\n",
    "\n",
    "        \n",
    "class Tree:\n",
    "    def __init__(self, x: int, y: int, path: str):\n",
    "        self._x = x\n",
    "        self._y = y\n",
    "        self._image = Image(path)"
   ]
  },
  {
   "cell_type": "code",
   "execution_count": null,
   "metadata": {
    "pycharm": {
     "name": "#%%\n"
    },
    "slideshow": {
     "slide_type": "fragment"
    }
   },
   "outputs": [],
   "source": [
    "def create_forest() -> tp.List[Tree]:\n",
    "    trees = []\n",
    "    for i in range(100):\n",
    "        path = \"imgs/tree{}.png\".format(i % 3)\n",
    "        trees.append(Tree(x, 10, path))"
   ]
  },
  {
   "cell_type": "code",
   "execution_count": null,
   "metadata": {
    "pycharm": {
     "name": "#%%\n"
    },
    "slideshow": {
     "slide_type": "slide"
    }
   },
   "outputs": [],
   "source": [
    "class Tree:\n",
    "    def __init__(self, x: int, y: int, path: tp.Optional[str] = None, image: tp.Optional[Image] = None):\n",
    "        if image is not None:\n",
    "            self._image = image\n",
    "        elif path is not None:\n",
    "            self._image = Image(path)\n",
    "        else:\n",
    "            raise RuntimeError(\"Either path or image must be specified\")\n",
    "        self._x = x\n",
    "        self._y = y\n",
    "        \n",
    "image_lib = ImageLibrary()\n",
    "tree = Tree(x, y, image=ImageLibrary.get(\"imgs/tree.png\"))"
   ]
  },
  {
   "cell_type": "code",
   "execution_count": 12,
   "metadata": {
    "pycharm": {
     "name": "#%%\n"
    },
    "slideshow": {
     "slide_type": "slide"
    }
   },
   "outputs": [],
   "source": [
    "class Flyweight(type):\n",
    "    IMAGES = {}\n",
    "    \n",
    "    def __call__(cls, x: int, y: int, path: tp.Optional[str] = None, image: tp.Optional[Image] = None) -> \"Tree\":\n",
    "        obj = cls.__new__(cls)\n",
    "        if path is not None:\n",
    "            if path in Flyweight.IMAGES:\n",
    "                image = Flyweight.IMAGES[path]\n",
    "            else:\n",
    "                image = Image(path)\n",
    "                Flyweight.IMAGES[path] = image\n",
    "        cls.__init__(obj, x, y, path=path, image=image)\n",
    "        return obj\n",
    "    \n",
    "class Tree(metaclass=Flyweight):\n",
    "    def __init__(self, x: int, y: int, path: tp.Optional[str] = None, image: tp.Optional[Image] = None):\n",
    "        if image is not None:\n",
    "            self._image = image\n",
    "        elif path is not None:\n",
    "            self._image = Image(path)\n",
    "        else:\n",
    "            raise RuntimeError(\"Either path or image must be specified\")\n",
    "        self._x = x\n",
    "        self._y = y"
   ]
  },
  {
   "cell_type": "code",
   "execution_count": 13,
   "metadata": {
    "pycharm": {
     "name": "#%%\n"
    },
    "slideshow": {
     "slide_type": "slide"
    }
   },
   "outputs": [],
   "source": [
    "tree1 = Tree(1, 2, \"tree.png\")\n",
    "tree2 = Tree(2, 3, \"tree.png\")\n",
    "assert tree1._image is tree2._image"
   ]
  },
  {
   "cell_type": "markdown",
   "metadata": {
    "pycharm": {
     "name": "#%% md\n"
    },
    "slideshow": {
     "slide_type": "slide"
    }
   },
   "source": [
    "### type()"
   ]
  },
  {
   "cell_type": "code",
   "execution_count": null,
   "metadata": {
    "pycharm": {
     "name": "#%%\n"
    },
    "slideshow": {
     "slide_type": "fragment"
    }
   },
   "outputs": [],
   "source": [
    "class X:\n",
    "    a = 1\n",
    "    \n",
    "X = type(\"X\", (object, ), dict(a=1))"
   ]
  },
  {
   "cell_type": "code",
   "execution_count": null,
   "metadata": {
    "pycharm": {
     "name": "#%%\n"
    },
    "slideshow": {
     "slide_type": "slide"
    }
   },
   "outputs": [],
   "source": [
    "class type:\n",
    "    @classmethod\n",
    "    def __call__(...):\n",
    "        # smth\n",
    "\n",
    "X = type.__call__(\"X\", (object, ), dict(a=1))"
   ]
  },
  {
   "cell_type": "code",
   "execution_count": null,
   "metadata": {
    "pycharm": {
     "name": "#%%\n"
    },
    "slideshow": {
     "slide_type": "fragment"
    }
   },
   "outputs": [],
   "source": [
    "class type:\n",
    "    @classmethod\n",
    "    def __call__(...):\n",
    "        # smth\n",
    "        \n",
    "type = type(\"type\", (object, ), {\"__call__\": ...})"
   ]
  },
  {
   "cell_type": "markdown",
   "metadata": {
    "pycharm": {
     "name": "#%% md\n"
    },
    "slideshow": {
     "slide_type": "slide"
    }
   },
   "source": [
    "```c++\n",
    "PyTypeObject PyType_Type;\n",
    "PyType_Type.tp_name = \"type\";\n",
    "PyType_Type.tp_new = type_new\n",
    "PyType_Type.tp_init = type_init\n",
    "PyType_Type.tp_call = type_call\n",
    "```"
   ]
  },
  {
   "cell_type": "code",
   "execution_count": null,
   "metadata": {
    "pycharm": {
     "name": "#%%\n"
    },
    "slideshow": {
     "slide_type": "slide"
    }
   },
   "outputs": [],
   "source": [
    "class Class:\n",
    "    def __init__(self, x):\n",
    "        self.x = x\n",
    "\n",
    "obj = Class(1)"
   ]
  },
  {
   "cell_type": "code",
   "execution_count": null,
   "metadata": {
    "pycharm": {
     "name": "#%%\n"
    },
    "slideshow": {
     "slide_type": "fragment"
    }
   },
   "outputs": [],
   "source": [
    "obj = Class.__new__(Class, 1)\n",
    "Class.__init__(obj, 1)"
   ]
  },
  {
   "cell_type": "code",
   "execution_count": null,
   "metadata": {
    "pycharm": {
     "name": "#%%\n"
    },
    "slideshow": {
     "slide_type": "fragment"
    }
   },
   "outputs": [],
   "source": [
    "X = type(\"X\", (object, ), dict(a=1))\n",
    "\n",
    "X = type.__new__(type, \"X\", (object, ), dict(a=1))\n",
    "type.__init__(X, \"X\", (object, ), dict(a=1))"
   ]
  },
  {
   "cell_type": "markdown",
   "metadata": {
    "pycharm": {
     "name": "#%% md\n"
    },
    "slideshow": {
     "slide_type": "fragment"
    }
   },
   "source": [
    "type.\\_\\_new__ возвращает не объект type, а наследник объекта type"
   ]
  },
  {
   "cell_type": "code",
   "execution_count": null,
   "metadata": {
    "pycharm": {
     "name": "#%%\n"
    },
    "slideshow": {
     "slide_type": "slide"
    }
   },
   "outputs": [],
   "source": [
    "class MetaclassB(type):\n",
    "    def __new__(\n",
    "        cls: type,\n",
    "        name: str,\n",
    "        bases: tp.Tuple[type],\n",
    "        members: tp.Dict[str, tp.Any]\n",
    "    ):\n",
    "        print(f\"MetaclassB.__new__(cls={cls}, name={name}, bases={bases}, members={members})\")\n",
    "        return type.__new__(cls, name, bases, members)\n",
    "        \n",
    "    def __init__(\n",
    "        cls: type,\n",
    "        name: str, \n",
    "        bases: tp.Tuple[type], \n",
    "        members: tp.Dict[str, tp.Any]\n",
    "    ):\n",
    "        print(f\"MetaclassB.__init__(cls={cls}, name={name}, bases={bases}, members={members})\")\n",
    "        \n",
    "class Class4(metaclass=MetaclassB):\n",
    "    pass"
   ]
  },
  {
   "cell_type": "code",
   "execution_count": 138,
   "metadata": {
    "pycharm": {
     "name": "#%%\n"
    },
    "slideshow": {
     "slide_type": "slide"
    }
   },
   "outputs": [
    {
     "name": "stdout",
     "output_type": "stream",
     "text": [
      "MetaclassB.__new__(cls=<class '__main__.MetaclassB'>, name=Class4, bases=(), members={'__module__': '__main__', '__qualname__': 'Class4'})\n",
      "MetaclassB.__init__(cls=<class '__main__.Class4'>, name=Class4, bases=(), members={'__module__': '__main__', '__qualname__': 'Class4'})\n"
     ]
    }
   ],
   "source": [
    "class MetaclassB(type):\n",
    "    def __new__(\n",
    "        cls: type,\n",
    "        name: str,\n",
    "        bases: tp.Tuple[type],\n",
    "        members: tp.Dict[str, tp.Any]\n",
    "    ):\n",
    "        print(f\"MetaclassB.__new__(cls={cls}, name={name}, bases={bases}, members={members})\")\n",
    "        return type.__new__(cls, name, bases, members)\n",
    "        \n",
    "    def __init__(\n",
    "        cls: type,\n",
    "        name: str, \n",
    "        bases: tp.Tuple[type], \n",
    "        members: tp.Dict[str, tp.Any]\n",
    "    ):\n",
    "        print(f\"MetaclassB.__init__(cls={cls}, name={name}, bases={bases}, members={members})\")\n",
    "        \n",
    "class Class4(metaclass=MetaclassB):\n",
    "    pass"
   ]
  },
  {
   "cell_type": "markdown",
   "metadata": {
    "pycharm": {
     "name": "#%% md\n"
    },
    "slideshow": {
     "slide_type": "slide"
    }
   },
   "source": [
    "### финалочка"
   ]
  },
  {
   "cell_type": "code",
   "execution_count": null,
   "metadata": {
    "pycharm": {
     "name": "#%%\n"
    },
    "slideshow": {
     "slide_type": "fragment"
    }
   },
   "outputs": [],
   "source": [
    "class Metaclass(type):\n",
    "    pass\n",
    "\n",
    "class Class(metaclass=Metaclass):\n",
    "    pass\n",
    "\n",
    "c = Class()"
   ]
  },
  {
   "cell_type": "code",
   "execution_count": null,
   "metadata": {
    "pycharm": {
     "name": "#%%\n"
    },
    "slideshow": {
     "slide_type": "fragment"
    }
   },
   "outputs": [],
   "source": [
    "Class = Metaclass.__new__(Metaclass, \"Class\", (object, ), dict())\n",
    "Metaclass.__init__(Class)\n",
    "\n",
    "c = Class.__new__(Class)\n",
    "Class.__init__(c)"
   ]
  },
  {
   "cell_type": "markdown",
   "metadata": {
    "pycharm": {
     "name": "#%% md\n"
    },
    "slideshow": {
     "slide_type": "slide"
    }
   },
   "source": [
    "![all](meta/img/img.004.jpeg \"all\")"
   ]
  },
  {
   "cell_type": "markdown",
   "metadata": {
    "pycharm": {
     "name": "#%% md\n"
    },
    "slideshow": {
     "slide_type": "slide"
    }
   },
   "source": [
    "## ABC + abstractmethod"
   ]
  },
  {
   "cell_type": "markdown",
   "metadata": {
    "pycharm": {
     "name": "#%% md\n"
    },
    "slideshow": {
     "slide_type": "fragment"
    }
   },
   "source": [
    "## Настоящий ABC скорее всего сложнее, и нижеследующий наверное не работает в каких-то случаях"
   ]
  },
  {
   "cell_type": "markdown",
   "metadata": {
    "pycharm": {
     "name": "#%% md\n"
    },
    "slideshow": {
     "slide_type": "slide"
    }
   },
   "source": [
    "__План__\n",
    "1. Заменить декоратором `@abstractmethod` функции на объекты AbstractMethod\n",
    "2. В момент создания класса собрать все объекты AbstractMethod в свойство `__abstractmethods__`\n",
    "3. В момент создания объекта класса проверять пустоту `__abstractmethods__`"
   ]
  },
  {
   "cell_type": "code",
   "execution_count": 6,
   "metadata": {
    "pycharm": {
     "name": "#%%\n"
    }
   },
   "outputs": [],
   "source": [
    "import typing as tp"
   ]
  },
  {
   "cell_type": "code",
   "execution_count": 7,
   "metadata": {
    "pycharm": {
     "name": "#%%\n"
    },
    "scrolled": true,
    "slideshow": {
     "slide_type": "slide"
    }
   },
   "outputs": [
    {
     "name": "stdout",
     "output_type": "stream",
     "text": [
      "Method not implemented\n"
     ]
    }
   ],
   "source": [
    "class AbstractMethod:\n",
    "    def __call__(self) -> None:\n",
    "        raise NotImplementedError(\"Method not implemented\")\n",
    "\n",
    "def abstractmethod(method: tp.Callable[..., tp.Any]) -> AbstractMethod:\n",
    "    return AbstractMethod()\n",
    "\n",
    "class Animal():\n",
    "    @abstractmethod\n",
    "    def hello(self) -> None:\n",
    "        pass\n",
    "    \n",
    "l = Animal()\n",
    "try:\n",
    "    l.hello()\n",
    "except NotImplementedError as e:\n",
    "    print(e)"
   ]
  },
  {
   "cell_type": "code",
   "execution_count": 8,
   "metadata": {
    "pycharm": {
     "name": "#%%\n"
    },
    "slideshow": {
     "slide_type": "slide"
    }
   },
   "outputs": [],
   "source": [
    "from copy import deepcopy\n",
    "\n",
    "import inspect\n",
    "\n",
    "\n",
    "class MyABCMeta(type):\n",
    "    def __init__(\n",
    "        cls: type, \n",
    "        name: str, \n",
    "        bases: tp.Tuple[type], \n",
    "        dct: tp.Dict[str, tp.Any]\n",
    "    ) -> None:\n",
    "        # Собираем все AbstractMethod из класса, который создаём\n",
    "        abstract_methods = {name for name, value in dct.items() if isinstance(value, AbstractMethod)}\n",
    "        # Собираем все AbstractMethod из родителей класса, который создаём\n",
    "        for base in bases:\n",
    "            new_methods = inspect.getmembers(base, predicate=lambda x: isinstance(x, AbstractMethod))\n",
    "            abstract_methods.update({k for k, v in new_methods})\n",
    "        # Теперь в abstract_methods собрали все методы, которые нужно переписать\n",
    "        # Собираем все функции, которые есть в классе, который создаём\n",
    "        concrete_methods = {name for name, value in dct.items() if inspect.isfunction(value)}\n",
    "        # Записываем все непереопределённые методы в __abstract_methods__\n",
    "        cls.__abstract_methods__ = abstract_methods - concrete_methods\n",
    "        \n",
    "    def __call__(\n",
    "        cls: type, \n",
    "        *args: tp.Any,\n",
    "        **kwargs: tp.Any\n",
    "    ) -> tp.Any:\n",
    "        # Если на момент создания объекта в классе остаются абстрактные методы кидаем ошибку\n",
    "        if cls.__abstract_methods__:\n",
    "            methods = \", \".join(cls.__abstract_methods__)\n",
    "            raise NotImplementedError(\"Methods not implemented: {}\".format(methods))\n",
    "        return type.__call__(cls, *args, **kwargs)\n",
    "\n",
    "class MyABC(metaclass=MyABCMeta):\n",
    "   pass"
   ]
  },
  {
   "cell_type": "code",
   "execution_count": 9,
   "metadata": {
    "pycharm": {
     "name": "#%%\n"
    },
    "scrolled": true,
    "slideshow": {
     "slide_type": "slide"
    }
   },
   "outputs": [],
   "source": [
    "class Animal(MyABC):\n",
    "    @abstractmethod\n",
    "    def hello(self) -> None:\n",
    "        pass\n",
    "\n",
    "    \n",
    "class Cow(Animal):\n",
    "    def hello(self) -> None:\n",
    "        print(\"Moo\")\n",
    "        \n",
    "class Sheep(Animal):\n",
    "    pass"
   ]
  },
  {
   "cell_type": "code",
   "execution_count": 10,
   "metadata": {
    "pycharm": {
     "name": "#%%\n"
    },
    "scrolled": true,
    "slideshow": {
     "slide_type": "fragment"
    }
   },
   "outputs": [
    {
     "name": "stdout",
     "output_type": "stream",
     "text": [
      "Methods not implemented: hello\n",
      "Methods not implemented: hello\n",
      "Moo\n"
     ]
    }
   ],
   "source": [
    "try:\n",
    "    l = Animal()\n",
    "except NotImplementedError as e:\n",
    "    print(e)\n",
    "try:\n",
    "    s = Sheep()\n",
    "except NotImplementedError as e:\n",
    "    print(e)\n",
    "\n",
    "c = Cow()\n",
    "c.hello()"
   ]
  },
  {
   "cell_type": "markdown",
   "metadata": {
    "pycharm": {
     "name": "#%% md\n"
    },
    "slideshow": {
     "slide_type": "slide"
    }
   },
   "source": [
    "## Спасибо\n",
    "## Вопросы?"
   ]
  }
 ],
 "metadata": {
  "celltoolbar": "Slideshow",
  "kernelspec": {
   "display_name": "Python 3 (ipykernel)",
   "language": "python",
   "name": "python3"
  },
  "language_info": {
   "codemirror_mode": {
    "name": "ipython",
    "version": 3
   },
   "file_extension": ".py",
   "mimetype": "text/x-python",
   "name": "python",
   "nbconvert_exporter": "python",
   "pygments_lexer": "ipython3",
   "version": "3.9.12"
  },
  "rise": {
   "enable_chalkboard": true,
   "footer": "<p style=\"margin: 5px; color: #a0a0a0\">YSDA Python Course</p>",
   "scroll": true,
   "start_slideshow_at": "selected",
   "theme": "serif",
   "transition": "none"
  }
 },
 "nbformat": 4,
 "nbformat_minor": 2
}
