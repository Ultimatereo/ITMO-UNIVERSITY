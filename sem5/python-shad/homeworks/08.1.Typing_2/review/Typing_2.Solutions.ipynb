{
 "cells": [
  {
   "cell_type": "markdown",
   "metadata": {
    "slideshow": {
     "slide_type": "slide"
    }
   },
   "source": [
    "<center>\n",
    "    <img src=\"https://upload.wikimedia.org/wikipedia/commons/a/a8/%D0%9B%D0%9E%D0%93%D0%9E_%D0%A8%D0%90%D0%94.png\" width=500px/>\n",
    "    <font>Python 2021</font><br/>\n",
    "    <br/>\n",
    "    <br/>\n",
    "    <b style=\"font-size: 2em\">Разбор задач: Typing_2</b><br/>\n",
    "    <br/>\n",
    "    <font>Илария Белова</font><br/>\n",
    "</center>"
   ]
  },
  {
   "cell_type": "markdown",
   "metadata": {
    "slideshow": {
     "slide_type": "slide"
    }
   },
   "source": [
    "### Typy theory"
   ]
  },
  {
   "cell_type": "code",
   "execution_count": 10,
   "metadata": {
    "collapsed": true,
    "jupyter": {
     "outputs_hidden": true
    }
   },
   "outputs": [
    {
     "ename": "SyntaxError",
     "evalue": "invalid syntax (<ipython-input-10-de451551b15e>, line 1)",
     "output_type": "error",
     "traceback": [
      "\u001b[0;36m  File \u001b[0;32m\"<ipython-input-10-de451551b15e>\"\u001b[0;36m, line \u001b[0;32m1\u001b[0m\n\u001b[0;31m    Задача хорошо решена, своими словами описано понимание ошибки.\u001b[0m\n\u001b[0m           ^\u001b[0m\n\u001b[0;31mSyntaxError\u001b[0m\u001b[0;31m:\u001b[0m invalid syntax\n"
     ]
    }
   ],
   "source": [
    "Задача хорошо решена, своими словами описано понимание ошибки.\n",
    "\n",
    "😊 \"Операция сложения для int и None не определена. Mypy выдаст ошибку, т.к. функция аннотирована.\",\n",
    "\n",
    "Задача c натяжкой приемлемо решена, копипаста выхлопа mypy\n",
    "\n",
    "😑\"Unsupported operand types for + ('None' and 'int')\"\n",
    "\n",
    "    \n",
    "Задачи, где были такие описание причин, не засчитала:\n",
    "\n",
    "😕\"\" \n",
    "☹️\"gg\"\n",
    "😩\"abc\"\n",
    "😭\"gwht rtsdtarhsd thshaetjh rstj\""
   ]
  },
  {
   "cell_type": "markdown",
   "metadata": {
    "slideshow": {
     "slide_type": "slide"
    }
   },
   "source": [
    "### Problem 1"
   ]
  },
  {
   "cell_type": "code",
   "execution_count": 61,
   "metadata": {
    "cell_style": "center"
   },
   "outputs": [
    {
     "name": "stdout",
     "output_type": "stream",
     "text": [
      "<string>:5: error: Unsupported operand types for + (\"None\" and \"int\")\n",
      "<string>:5: note: Left operand is of type \"Optional[int]\"\n",
      "Found 1 error in 1 file (checked 1 source file)\n",
      "\n"
     ]
    }
   ],
   "source": [
    "%%typecheck\n",
    "import typing as tp\n",
    "\n",
    "def foo(a: tp.Optional[int]) -> int:\n",
    "    return a + 1\n",
    "\n",
    "a: int = {\"a\": 1}.get(\"a\", 1)\n",
    "foo(a)"
   ]
  },
  {
   "cell_type": "code",
   "execution_count": null,
   "metadata": {},
   "outputs": [],
   "source": [
    "5:\n",
    "* ✅ \"Не, ну кто optional с числом складывает...\"\n",
    "* ✅ \"Check for none missing\"\n",
    "* ✅ \"переменная 'a' все еще может быть типом None, тут надо isinstance добавить, иначе упадет\"\n",
    "* ✅ \"Как мы знаем tp.Optional[X] = Union(X, None), поэтому мы не можем просто использовать + для объектов tp.Optional\"\n"
   ]
  },
  {
   "cell_type": "code",
   "execution_count": null,
   "metadata": {},
   "outputs": [],
   "source": [
    "7:\n",
    "* ✅ \"get without specified default returns optional value\"\n",
    "* ✅ \"По идее get вернет Optional[int], получим ошибку присваивания'        "
   ]
  },
  {
   "cell_type": "markdown",
   "metadata": {
    "slideshow": {
     "slide_type": "slide"
    }
   },
   "source": [
    "### Problem 2"
   ]
  },
  {
   "cell_type": "code",
   "execution_count": 8,
   "metadata": {},
   "outputs": [
    {
     "name": "stdout",
     "output_type": "stream",
     "text": [
      "<string>:5: error: Unsupported operand types for + (\"object\" and \"int\")\n",
      "Found 1 error in 1 file (checked 1 source file)\n",
      "\n"
     ]
    }
   ],
   "source": [
    "%%typecheck\n",
    "import typing as tp\n",
    "\n",
    "aa = [1, \"2\", [3]]\n",
    "aa[0] += 1\n",
    "aa.append({1, 3})"
   ]
  },
  {
   "cell_type": "code",
   "execution_count": null,
   "metadata": {},
   "outputs": [],
   "source": [
    "5:\n",
    "* ✅ \"В массиве не только инты лежат, какое += 1?\"\n",
    "* ❌ \"Type of aa[0] is any. any + int is not defined\" (не any, а object)\n",
    "* ✅ \"Так как типы в list разные, то он инициализируется как Object. У Object нет операции +=\"\n",
    "* ❌ 'Т.к тип aa это Set[tp.Object], то майпай будет ругатся когда мы складываем инт с обджектом' (List)\n",
    "* ❌ \"Сложение между list и int не определено\" (не достаточный аргумент)"
   ]
  },
  {
   "cell_type": "markdown",
   "metadata": {
    "slideshow": {
     "slide_type": "slide"
    }
   },
   "source": [
    "### Problem 3"
   ]
  },
  {
   "cell_type": "code",
   "execution_count": 12,
   "metadata": {},
   "outputs": [
    {
     "name": "stdout",
     "output_type": "stream",
     "text": [
      "<string>:9: error: Argument 1 to \"foo\" has incompatible type \"Set[float]\"; expected \"Set[int]\"\n",
      "<string>:13: error: Argument 1 to \"foo\" has incompatible type \"Set[bool]\"; expected \"Set[int]\"\n",
      "Found 2 errors in 1 file (checked 1 source file)\n",
      "\n"
     ]
    }
   ],
   "source": [
    "%%typecheck\n",
    "import typing as tp\n",
    "\n",
    "\n",
    "def foo(a: tp.Set[int]) -> None:\n",
    "    pass\n",
    "\n",
    "a = {1.1, 2.1, 3.1}\n",
    "foo(a)\n",
    "b = {1, 2, 3}\n",
    "foo(b)\n",
    "c = {True, False}\n",
    "foo(c)"
   ]
  },
  {
   "cell_type": "code",
   "execution_count": null,
   "metadata": {},
   "outputs": [],
   "source": [
    "9\n",
    "* ✅ \"сет инвариантный, значит нельзя к более широкому приводить\"\n",
    "* ❌ \"Функция должна принимать на вход множество из целых чисел\" (не аргумент)\n",
    "* ❌ \"Set не ковариантный\" (тогда уж не контрвариантный)\n",
    "* ❌ \"Функция вызывается с Set[float] а не Set[int]\" (не аргумент)\n",
    "* ❌ \"Set ковариантен по типу элементов => не можем повышать тип при передаче аргументов в функцию\" (не ковариантен)"
   ]
  },
  {
   "cell_type": "code",
   "execution_count": null,
   "metadata": {},
   "outputs": [],
   "source": [
    "13\n",
    "* ✅ \"сет инвариантный, значит нельзя к более узкому приводить\"\n",
    "* ✅ \"mutable\"\n",
    "* ❌ \"В Set[int] передается bool\" (не аргумент)\n",
    "* ❌ \"bool вместо int\" (тоже)\n",
    "* ❌ \"Сет boolов - это очень странно, из-за особенностей хеширования его нельзя передать сюда\" (дело не в хешировании)"
   ]
  },
  {
   "cell_type": "markdown",
   "metadata": {
    "slideshow": {
     "slide_type": "slide"
    }
   },
   "source": [
    "### Problem 4"
   ]
  },
  {
   "cell_type": "code",
   "execution_count": 14,
   "metadata": {},
   "outputs": [
    {
     "name": "stdout",
     "output_type": "stream",
     "text": [
      "<string>:9: error: Argument 1 to \"foo\" has incompatible type \"Set[float]\"; expected \"AbstractSet[int]\"\n",
      "Found 1 error in 1 file (checked 1 source file)\n",
      "\n"
     ]
    }
   ],
   "source": [
    "%%typecheck\n",
    "import typing as tp\n",
    "\n",
    "\n",
    "def foo(a: tp.AbstractSet[int]) -> None:\n",
    "    pass\n",
    "\n",
    "a = {1.1, 2.1, 3.1}\n",
    "foo(a)\n",
    "b = {1, 2, 3}\n",
    "foo(b)\n",
    "c = {True, False}\n",
    "foo(c)"
   ]
  },
  {
   "cell_type": "code",
   "execution_count": null,
   "metadata": {},
   "outputs": [],
   "source": [
    "9:\n",
    "* ❌ \"Set ковариантен\" (нет)\n",
    "* ✅ \"AbstractSet ковариантен, а int подтип float, поэтому AbstractSet[float] не является подтипом AbstractSet[int]\"\n",
    "* ❌ \"Тип строго должен быть такой как объявлен, а не сложнее (выше)\" (не такой же + выше более просто тип)\n",
    "* ❌ AbstractSet это read-only версия Set. По такому аргументу функция контрвариантна.Ошибка только при повышении типа.\" (функция то да, но мы рассуждаем про контейнер, которые ковариантен по аргументу)"
   ]
  },
  {
   "cell_type": "markdown",
   "metadata": {
    "slideshow": {
     "slide_type": "slide"
    }
   },
   "source": [
    "### Problem 5"
   ]
  },
  {
   "cell_type": "code",
   "execution_count": 16,
   "metadata": {},
   "outputs": [
    {
     "name": "stdout",
     "output_type": "stream",
     "text": [
      "<string>:11: error: Incompatible return value type (got \"A\", expected \"B\")\n",
      "Found 1 error in 1 file (checked 1 source file)\n",
      "\n"
     ]
    }
   ],
   "source": [
    "%%typecheck\n",
    "import typing as tp\n",
    "\n",
    "class A:\n",
    "    pass\n",
    "\n",
    "class B(A):\n",
    "    pass\n",
    "\n",
    "def foo(a: A) -> B:\n",
    "    return a.__class__()\n",
    "\n",
    "\n",
    "foo(A())\n",
    "foo(B())"
   ]
  },
  {
   "cell_type": "code",
   "execution_count": 17,
   "metadata": {
    "collapsed": true,
    "jupyter": {
     "outputs_hidden": true
    }
   },
   "outputs": [
    {
     "ename": "SyntaxError",
     "evalue": "invalid syntax (<ipython-input-17-e2f40bd10b4c>, line 1)",
     "output_type": "error",
     "traceback": [
      "\u001b[0;36m  File \u001b[0;32m\"<ipython-input-17-e2f40bd10b4c>\"\u001b[0;36m, line \u001b[0;32m1\u001b[0m\n\u001b[0;31m    11:\u001b[0m\n\u001b[0m       ^\u001b[0m\n\u001b[0;31mSyntaxError\u001b[0m\u001b[0;31m:\u001b[0m invalid syntax\n"
     ]
    }
   ],
   "source": [
    "11:\n",
    "* ❌ \"Возвращаемое значение имеет не тип 'B', а тип 'object' (со значением 'A')\" (как-то лучше б звучало, что имеет тип А)\n",
    "* ✅ \"Повышение типа возвращаемого значения - A вместо B (B вместо A можно бы было)\"\n",
    "* ✅ \"Если подадим А, то будет ожидаться В, здесь возвращать с повышением типа нельзя \n",
    "      тк у В могут быть методы которых не было в А\"\n",
    "* ✅ \"метод класс от A очевидно дает A при любом входе\"\n",
    "* ❌ \"Неверный формат\" (мм?)\n",
    "* ❌ \"Класс возвращаемого значения не должен повышаться\" (скорее тип)\n",
    "* ❌ \"Возвращает инстанс сабкласса А, а надо Б\" (таки точнее сказать, что инстанс класса А)"
   ]
  },
  {
   "cell_type": "markdown",
   "metadata": {
    "slideshow": {
     "slide_type": "slide"
    }
   },
   "source": [
    "### Problem 6"
   ]
  },
  {
   "cell_type": "code",
   "execution_count": 18,
   "metadata": {},
   "outputs": [
    {
     "name": "stdout",
     "output_type": "stream",
     "text": [
      "<string>:15: error: Incompatible types in assignment (expression has type \"T\", base class \"B\" defined the type as \"S\")\n",
      "Found 1 error in 1 file (checked 1 source file)\n",
      "\n"
     ]
    }
   ],
   "source": [
    "%%typecheck\n",
    "class T:\n",
    "    pass\n",
    "\n",
    "class S(T):\n",
    "    pass\n",
    "\n",
    "class A:\n",
    "    VAR = T()\n",
    "    \n",
    "class B(A):\n",
    "    VAR = S()\n",
    "    \n",
    "class C(B):\n",
    "    VAR = T()"
   ]
  },
  {
   "cell_type": "code",
   "execution_count": 19,
   "metadata": {
    "collapsed": true,
    "jupyter": {
     "outputs_hidden": true
    }
   },
   "outputs": [
    {
     "ename": "SyntaxError",
     "evalue": "invalid syntax (<ipython-input-19-84908d002a91>, line 1)",
     "output_type": "error",
     "traceback": [
      "\u001b[0;36m  File \u001b[0;32m\"<ipython-input-19-84908d002a91>\"\u001b[0;36m, line \u001b[0;32m1\u001b[0m\n\u001b[0;31m    15:\u001b[0m\n\u001b[0m       ^\u001b[0m\n\u001b[0;31mSyntaxError\u001b[0m\u001b[0;31m:\u001b[0m invalid syntax\n"
     ]
    }
   ],
   "source": [
    "15:\n",
    "* ❌ \"Происходит понижение типа VAR от T() к S() при наследовании класса C от B\" (повышение от S к Т)\n",
    "* ❌ \"Нельзя делать override переменной класса, понижая тип\" (повышая)\n",
    "* ✅ \"повышение типа для override-переменной\"\n",
    "* ❌ \"В качестве типа для VAR может использоваться лишь тип S\" (ну и подтипы)\n",
    "* ✅ \"нельзя повысить тип, так как у B могут быть использованы методы, \"\n",
    "            \"которые используют методы S, а класс С имеет все методы В, поэтому от типа Т могут вызваться методы S\n",
    "* ❌ \"Нельзя ж\" (ну да)\n",
    "* ❌ 'Сужение типа' (расширение)"
   ]
  },
  {
   "cell_type": "markdown",
   "metadata": {
    "slideshow": {
     "slide_type": "slide"
    }
   },
   "source": [
    "### Problem 7"
   ]
  },
  {
   "cell_type": "code",
   "execution_count": 20,
   "metadata": {
    "collapsed": true,
    "jupyter": {
     "outputs_hidden": true
    }
   },
   "outputs": [
    {
     "name": "stdout",
     "output_type": "stream",
     "text": [
      "<string>:25: error: Argument 1 to \"g\" has incompatible type \"Callable[[A], A]\"; expected \"Callable[[A], B]\"\n",
      "<string>:27: error: Argument 1 to \"g\" has incompatible type \"Callable[[B], A]\"; expected \"Callable[[A], B]\"\n",
      "<string>:28: error: Argument 1 to \"g\" has incompatible type \"Callable[[B], B]\"; expected \"Callable[[A], B]\"\n",
      "Found 3 errors in 1 file (checked 1 source file)\n",
      "\n"
     ]
    }
   ],
   "source": [
    "%%typecheck\n",
    "import typing as tp\n",
    "\n",
    "class A:\n",
    "    pass\n",
    "\n",
    "class B(A):\n",
    "    pass\n",
    "\n",
    "def g(f: tp.Callable[[A], B]) -> None:\n",
    "    pass\n",
    "\n",
    "def f1(a: A) -> A:\n",
    "    pass\n",
    "\n",
    "def f2(a: A) -> B:\n",
    "    pass\n",
    "\n",
    "def f3(a: B) -> A:\n",
    "    pass\n",
    "\n",
    "def f4(a: B) -> B:\n",
    "    pass\n",
    "\n",
    "g(f1)\n",
    "g(f2)\n",
    "g(f3)\n",
    "g(f4)"
   ]
  },
  {
   "cell_type": "code",
   "execution_count": null,
   "metadata": {},
   "outputs": [],
   "source": [
    "✅\n",
    "25: 'повышение типа возвращаемого значения',\n",
    "27: 'повышение типа возвращаемого значения, понижение типа аргумента',\n",
    "28: 'понижение типа аргумента',\n",
    "    \n",
    "✅\n",
    "25: \"Объекты Callable ковариантны по значению. Нельзя повышать тип значения!\",\n",
    "27: \"Нельзя вообще ничего, Наташ, честно!\",\n",
    "28: \"Объекты Callable контрвариантны по аргументам. Нельзя понижать тип аргумента!\",\n",
    "\n",
    "❌ (необъяснено, в чем неверность то)\n",
    "25: \"Функция возвращает аргумент неверного типа\", (значение уж)\n",
    "27: \"Функция принимает аргумент неверного типа\", (и значение)\n",
    "28: \"Функция принимает аргумент неверного типа\"\n",
    "\n",
    "❌ (не аргумент)\n",
    "25: \"Ждем тип Callable[[A], B]\",\n",
    "27: \"Ждем тип Callable[[A], B]\",\n",
    "28: \"Ждем тип Callable[[A], B]\"\n"
   ]
  },
  {
   "cell_type": "markdown",
   "metadata": {
    "slideshow": {
     "slide_type": "slide"
    }
   },
   "source": [
    "### Problem 8"
   ]
  },
  {
   "cell_type": "code",
   "execution_count": 22,
   "metadata": {
    "collapsed": true,
    "jupyter": {
     "outputs_hidden": true
    }
   },
   "outputs": [
    {
     "name": "stdout",
     "output_type": "stream",
     "text": [
      "<string>:6: error: Argument 1 to \"len\" has incompatible type \"Iterable[str]\"; expected \"Sized\"\n",
      "<string>:18: error: Argument 1 to \"foo\" has incompatible type \"A\"; expected \"Iterable[str]\"\n",
      "<string>:24: error: Argument 1 to \"foo\" has incompatible type \"B\"; expected \"Iterable[str]\"\n",
      "<string>:24: note: Following member(s) of \"B\" have conflicts:\n",
      "<string>:24: note:     Expected:\n",
      "<string>:24: note:         def __iter__(self) -> Iterator[str]\n",
      "<string>:24: note:     Got:\n",
      "<string>:24: note:         def __iter__(self) -> Iterator[int]\n",
      "Found 3 errors in 1 file (checked 1 source file)\n",
      "\n"
     ]
    }
   ],
   "source": [
    "%%typecheck\n",
    "import typing as tp\n",
    "\n",
    "\n",
    "def foo(a: tp.Iterable[str]) -> bool:\n",
    "    b = len(a)\n",
    "    c = sum(1 for i in a)\n",
    "    return b == c\n",
    "\n",
    "foo([\"a\", \"b\"])\n",
    "foo(\"ab\")\n",
    "foo({\"a\": 2})\n",
    "\n",
    "class A:\n",
    "    def __len__(self) -> int:\n",
    "        return 1\n",
    "\n",
    "foo(A())\n",
    "\n",
    "class B:\n",
    "    def __iter__(self) -> tp.Iterator[int]:\n",
    "        return iter([])\n",
    "    \n",
    "foo(B())\n",
    "\n",
    "\n",
    "class C:\n",
    "    def __iter__(self) -> tp.Iterator[str]:\n",
    "        return iter([])\n",
    "    \n",
    "foo(C())"
   ]
  },
  {
   "cell_type": "code",
   "execution_count": null,
   "metadata": {},
   "outputs": [],
   "source": [
    "✅\n",
    "6: \"Iterable не поддерживает метод __len__()\",\n",
    "18: \"A не является Iterable\",\n",
    "24: \"B Iterable[int] хотелось бы Iterable[str]\"\n",
    "    \n",
    "✅\n",
    "6: \"len() не определен для Iterable, нужен Sized\",\n",
    "18: \"Функция ожидаем Iterable[str], а не Sized\",\n",
    "24: \"Функция ожидаем Iterable[str], а не Iterable[int]\"\n",
    "    \n",
    "✅\n",
    "6: 'Протокол Iterable не гарантирует реализацию dunder метода __len__',\n",
    "18: 'Не реализован протокол Iterable[str], который подразумевает реализацию в классе dunder метода __iter__() '\n",
    "            '-> Iterable[str]',\n",
    "24: 'Реализоан протокол Iterable[int], а не Iterable[str], а типы str не является надтипом int также как int '\n",
    "            'не является надтипом str'"
   ]
  },
  {
   "cell_type": "markdown",
   "metadata": {
    "slideshow": {
     "slide_type": "slide"
    }
   },
   "source": [
    "### Problem 9"
   ]
  },
  {
   "cell_type": "code",
   "execution_count": 23,
   "metadata": {
    "collapsed": true,
    "jupyter": {
     "outputs_hidden": true
    }
   },
   "outputs": [
    {
     "name": "stdout",
     "output_type": "stream",
     "text": [
      "<string>:32: error: Unsupported right operand type for in (\"Fooable\")\n",
      "<string>:34: error: Argument 1 to \"f\" has incompatible type \"List[<nothing>]\"; expected \"Fooable\"\n",
      "<string>:34: note: 'list' is missing following 'Fooable' protocol member:\n",
      "<string>:34: note:     foo\n",
      "<string>:37: error: Argument 1 to \"f\" has incompatible type \"C\"; expected \"Fooable\"\n",
      "<string>:37: note: 'C' is missing following 'Fooable' protocol member:\n",
      "<string>:37: note:     __len__\n",
      "<string>:38: error: Argument 1 to \"f\" has incompatible type \"Callable[[int], None]\"; expected \"Fooable\"\n",
      "Found 4 errors in 1 file (checked 1 source file)\n",
      "\n"
     ]
    }
   ],
   "source": [
    "%%typecheck\n",
    "import typing as tp\n",
    "\n",
    "class Fooable(tp.Protocol, tp.Sized):\n",
    "    def foo(self, a: int) -> None:\n",
    "        pass\n",
    "\n",
    "\n",
    "class A(Fooable):\n",
    "    def __len__(self) -> int:\n",
    "        return 10\n",
    "\n",
    "class B:\n",
    "    def foo(self, a: int) -> None:\n",
    "        pass\n",
    "\n",
    "    def __len__(self) -> int:\n",
    "        return 10\n",
    "\n",
    "class C:\n",
    "    def foo(self, a: int) -> None:\n",
    "        pass\n",
    "\n",
    "\n",
    "def foo(a: int) -> None:\n",
    "    pass\n",
    "\n",
    "\n",
    "def f(c: Fooable) -> None:\n",
    "    c.foo(1)\n",
    "    len(c)\n",
    "    \"10\" in c\n",
    "\n",
    "f([])\n",
    "f(A())\n",
    "f(B())\n",
    "f(C())\n",
    "f(foo)"
   ]
  },
  {
   "cell_type": "code",
   "execution_count": null,
   "metadata": {},
   "outputs": [],
   "source": [
    "✅\n",
    "32: \"У Fooable нет метода __contains__()\",\n",
    "34: \"[] не является Fooable (нет метода foo())\",\n",
    "37: \"C не является Fooable (нет метода __len__())\",\n",
    "38: \"foo не является Fooable (нет метода __len__())\"\n",
    "    \n",
    "❌\n",
    "32: \"У Fooable нет метода in\", (in не метод)\n",
    "34: \"Ожидалось Fooable\", (конкретика не помешала бы)\n",
    "37: \"Ожидалось Fooable\",\n",
    "38: \"Ожидалось Fooable\"}"
   ]
  },
  {
   "cell_type": "markdown",
   "metadata": {
    "slideshow": {
     "slide_type": "slide"
    }
   },
   "source": [
    "### Problem 10"
   ]
  },
  {
   "cell_type": "code",
   "execution_count": 24,
   "metadata": {},
   "outputs": [
    {
     "name": "stdout",
     "output_type": "stream",
     "text": [
      "<string>:18: error: Value of type variable \"T\" of \"A\" cannot be \"str\"\n",
      "<string>:29: error: Argument 1 to \"A\" has incompatible type \"float\"; expected \"int\"\n",
      "Found 2 errors in 1 file (checked 1 source file)\n",
      "\n"
     ]
    }
   ],
   "source": [
    "%%typecheck\n",
    "import typing as tp\n",
    "\n",
    "T = tp.TypeVar(\"T\", bound=tp.SupportsFloat, covariant=True)\n",
    "\n",
    "class A(tp.Generic[T]):\n",
    "    def __init__(self, a: T) -> None:\n",
    "        self._a: tp.SupportsFloat = a\n",
    "        \n",
    "    def increment(self) -> float:\n",
    "        self._a = float(self._a) + 1\n",
    "        return self._a\n",
    "    \n",
    "\n",
    "A(1)\n",
    "A(1.2)\n",
    "A(True)\n",
    "A(\"1.3\")\n",
    "\n",
    "class B:\n",
    "    def __float__(self) -> float:\n",
    "        return 1.1\n",
    "    \n",
    "A(B())\n",
    "\n",
    "def g(a: A[int]) -> None:\n",
    "    pass\n",
    "\n",
    "g(A(1.4))\n",
    "g(A(True))"
   ]
  },
  {
   "cell_type": "code",
   "execution_count": null,
   "metadata": {},
   "outputs": [],
   "source": [
    "✅\n",
    "18: \"Как выяснилось, у str нет аттрибута __float__\",\n",
    "29: \"В строчке 30 всё хорошо, т.е. bool - подкласс int и шаблонный тип T ковариантен, тут же float - родитель int.\"\n",
    "\n",
    "❌\n",
    "18: \"Неправильный тип, не может быть тип str.\",\n",
    "29: \"Нужен тип int.\" (ну не только int, но и подтипы)"
   ]
  },
  {
   "cell_type": "code",
   "execution_count": null,
   "metadata": {
    "slideshow": {
     "slide_type": "slide"
    }
   },
   "outputs": [],
   "source": [
    "\"(КАК Я УСТАЛЛ!!! ЗАЧЕМ  ЯСЮДА ПРИШЁЛ!!!)\"\n",
    "    \n",
    "Держись!"
   ]
  },
  {
   "cell_type": "markdown",
   "metadata": {
    "slideshow": {
     "slide_type": "slide"
    }
   },
   "source": [
    "### Typy annotations"
   ]
  },
  {
   "cell_type": "code",
   "execution_count": null,
   "metadata": {
    "slideshow": {
     "slide_type": "-"
    }
   },
   "outputs": [],
   "source": [
    "# Лишний bound\n",
    "\n",
    "import typing as tp\n",
    "\n",
    "\n",
    "def f(a: float) -> float:\n",
    "    return a / 2"
   ]
  },
  {
   "cell_type": "code",
   "execution_count": null,
   "metadata": {
    "slideshow": {
     "slide_type": "-"
    }
   },
   "outputs": [],
   "source": [
    "# Лишняя ковариантность\n",
    "\n",
    "import typing as tp\n",
    "\n",
    "T1 = tp.TypeVar(\"T1\", bound=str)\n",
    "T2 = tp.TypeVar(\"T2\", str, tp.List[str])\n",
    "\n",
    "\n",
    "def f(a: tp.Tuple[tp.Sized, T1, T2]) -> T1:\n",
    "    return a[1]"
   ]
  },
  {
   "cell_type": "code",
   "execution_count": null,
   "metadata": {
    "slideshow": {
     "slide_type": "-"
    }
   },
   "outputs": [],
   "source": [
    "# Лишняя контрвариантность\n",
    "\n",
    "import typing as tp\n",
    "\n",
    "T1 = tp.TypeVar(\"T1\")\n",
    "T2 = tp.TypeVar(\"T2\")\n",
    "T3 = tp.TypeVar(\"T3\")\n",
    "S = tp.TypeVar(\"S\", int, bool, float)\n",
    "\n",
    "\n",
    "def f(a: tp.Callable[[T1, T2, T3], S], b: T1, c: T2, d: T3) -> S:\n",
    "    return a(b, c, d)\n"
   ]
  },
  {
   "cell_type": "markdown",
   "metadata": {
    "slideshow": {
     "slide_type": "slide"
    }
   },
   "source": [
    "### Typy protocol"
   ]
  },
  {
   "cell_type": "code",
   "execution_count": null,
   "metadata": {},
   "outputs": [],
   "source": [
    "import typing as tp\n",
    "\n",
    "\n",
    "T_co = tp.TypeVar('T_co', covariant=True)\n",
    "\n",
    "\n",
    "class Gettable(tp.Protocol[T_co]):\n",
    "    def __getitem__(self, item: int) -> T_co:\n",
    "        pass\n",
    "\n",
    "    def __len__(self) -> int:\n",
    "        pass\n",
    "\n",
    "\n",
    "def get(container: Gettable[T_co], index: int) -> tp.Optional[T_co]:\n",
    "    if container:\n",
    "        return container[index]\n",
    "\n",
    "    return None"
   ]
  },
  {
   "cell_type": "markdown",
   "metadata": {
    "slideshow": {
     "slide_type": "slide"
    }
   },
   "source": [
    "<div class=\"alert alert-danger\">\n",
    "<b>Антипаттерн:</b> именовать ковариантные параметры как T (а не T_co)\n",
    "</div>"
   ]
  },
  {
   "cell_type": "code",
   "execution_count": null,
   "metadata": {},
   "outputs": [],
   "source": [
    "\n",
    "T_co = tp.TypeVar('T', covariant=True)\n",
    "\n",
    "\n",
    "class Gettable(Protocol[T_co]):\n",
    "    def __getitem__(self, item: int) -> T:\n",
    "        pass\n",
    "\n",
    "    def __len__(self) -> int:\n",
    "        pass\n",
    "\n",
    "\n",
    "def get(container: Gettable[T], index: int) -> tp.Optional[T]:\n",
    "    if container:\n",
    "        return container[index]\n",
    "\n",
    "    return None"
   ]
  },
  {
   "cell_type": "markdown",
   "metadata": {
    "slideshow": {
     "slide_type": "slide"
    }
   },
   "source": [
    "<div class=\"alert alert-danger\">\n",
    "<b>Антипаттерн:</b> реализовывать протоколы\n",
    "</div>"
   ]
  },
  {
   "cell_type": "code",
   "execution_count": null,
   "metadata": {},
   "outputs": [],
   "source": [
    "import typing as tp\n",
    "from typing_extensions import Protocol  # В 3.8 уже из коробки\n",
    "\n",
    "T_co = tp.TypeVar('T_co', covariant=True)\n",
    "\n",
    "\n",
    "class Gettable(Protocol[T_co]):\n",
    "    def __len__(self) -> int: ...\n",
    "\n",
    "    def __getitem__(self, key: tp.Any) -> tp.Any: ...\n",
    "\n",
    "\n",
    "def get(container: Gettable[str], index: int) -> tp.Optional[str]:\n",
    "    if container:\n",
    "        return container[index]\n",
    "    return None"
   ]
  },
  {
   "cell_type": "markdown",
   "metadata": {
    "slideshow": {
     "slide_type": "slide"
    }
   },
   "source": [
    "<div class=\"alert alert-danger\">\n",
    "<b>Антипаттерн:</b> не пользоваться тем, что Protocol уже дженерик в иерархии\n",
    "</div>"
   ]
  },
  {
   "cell_type": "code",
   "execution_count": null,
   "metadata": {},
   "outputs": [],
   "source": [
    "import typing as tp\n",
    "\n",
    "T = tp.TypeVar('T', covariant=True)\n",
    "\n",
    "\n",
    "class Gettable(tp.Protocol[T]):\n",
    "    def __getitem__(self, item: int) -> T: pass\n",
    "\n",
    "    def __len__(self) -> int: pass\n",
    "\n",
    "\n",
    "def get(container: Gettable[T], index: int) -> tp.Optional[T]:\n",
    "    if container:\n",
    "        return container[index]\n",
    "    return None"
   ]
  },
  {
   "cell_type": "markdown",
   "metadata": {
    "slideshow": {
     "slide_type": "slide"
    }
   },
   "source": [
    "### Typy generic"
   ]
  },
  {
   "cell_type": "code",
   "execution_count": 46,
   "metadata": {},
   "outputs": [],
   "source": [
    "import typing as tp\n",
    "\n",
    "T = tp.TypeVar('T', int, float)\n",
    "\n",
    "\n",
    "class Pair(tp.Generic[T]):\n",
    "    def __init__(self, a: T, b: T) -> None:\n",
    "        self._a: T = a\n",
    "        self._b: T = b\n",
    "\n",
    "    def sum(self) -> T:\n",
    "        return self._a + self._b\n",
    "\n",
    "    def first(self) -> T:\n",
    "        return self._a\n",
    "\n",
    "    def second(self) -> T:\n",
    "        return self._b\n",
    "\n",
    "    def __iadd__(self, pair: 'Pair[T]') -> 'Pair[T]':\n",
    "        self._a += pair.first()\n",
    "        self._b += pair.second()\n",
    "        return self\n"
   ]
  },
  {
   "cell_type": "markdown",
   "metadata": {
    "slideshow": {
     "slide_type": "slide"
    }
   },
   "source": [
    "<div class=\"alert alert-danger\">\n",
    "<b>Антипаттерн:</b> мутабельные ковариантные типы\n",
    "</div>"
   ]
  },
  {
   "cell_type": "code",
   "execution_count": 65,
   "metadata": {},
   "outputs": [
    {
     "name": "stdout",
     "output_type": "stream",
     "text": [
      "<string>:33: error: Argument 1 to \"f\" has incompatible type \"Pair[int]\"; expected \"Pair[float]\"\n",
      "Found 1 error in 1 file (checked 1 source file)\n",
      "\n"
     ]
    }
   ],
   "source": [
    "%%typecheck\n",
    "\n",
    "import typing as tp\n",
    "\n",
    "\n",
    "T = tp.TypeVar(\"T\", int, float)\n",
    "\n",
    "\n",
    "class Pair(tp.Generic[T]):\n",
    "    def __init__(self, a: T, b: T) -> None:\n",
    "        self.x: T = a\n",
    "        self.y: T = b\n",
    "\n",
    "    def sum(self) -> T:\n",
    "        return self.x + self.y\n",
    "\n",
    "    def first(self) -> T:\n",
    "        return self.x\n",
    "\n",
    "    def second(self) -> T:\n",
    "        return self.y\n",
    "\n",
    "    def __iadd__(self, pair: 'Pair[T]') -> 'Pair[T]':\n",
    "        self.x += pair.first()\n",
    "        self.y += pair.second()\n",
    "        return self\n",
    "    \n",
    "\n",
    "def f(p: Pair[float]) -> None:\n",
    "    p += Pair(1.1, 2.1)\n",
    "    \n",
    "p: Pair[int] = Pair(1, 2)\n",
    "f(p)\n",
    "\n",
    "p.first() >> 1"
   ]
  }
 ],
 "metadata": {
  "celltoolbar": "Slideshow",
  "kernelspec": {
   "display_name": "Python 3 (ipykernel)",
   "language": "python",
   "name": "python3"
  },
  "language_info": {
   "codemirror_mode": {
    "name": "ipython",
    "version": 3
   },
   "file_extension": ".py",
   "mimetype": "text/x-python",
   "name": "python",
   "nbconvert_exporter": "python",
   "pygments_lexer": "ipython3",
   "version": "3.11.5"
  },
  "rise": {
   "enable_chalkboard": true,
   "footer": "<p style=\"margin: 5px; color: #a0a0a0\">YSDA Python Course</p>",
   "scroll": true,
   "start_slideshow_at": "selected",
   "theme": "serif"
  }
 },
 "nbformat": 4,
 "nbformat_minor": 4
}
