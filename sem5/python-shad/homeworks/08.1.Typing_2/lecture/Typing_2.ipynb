{
 "cells": [
  {
   "cell_type": "code",
   "execution_count": null,
   "metadata": {
    "editable": true,
    "is_executing": true,
    "slideshow": {
     "slide_type": ""
    },
    "tags": [
     "split",
     "style-split"
    ]
   },
   "outputs": [],
   "source": [
    "from IPython.display import display, HTML\n",
    "display(HTML('''\n",
    "<style>\n",
    ".jp-Cell-outputWrapper .jp-Placeholder {\n",
    "    display: none;\n",
    "}\n",
    "</style>\n",
    "'''))"
   ]
  },
  {
   "cell_type": "markdown",
   "metadata": {
    "editable": true,
    "pycharm": {
     "name": "#%% md\n"
    },
    "slideshow": {
     "slide_type": "slide"
    },
    "tags": []
   },
   "source": [
    "<center>\n",
    "    <img src=\"https://upload.wikimedia.org/wikipedia/commons/a/a8/%D0%9B%D0%9E%D0%93%D0%9E_%D0%A8%D0%90%D0%94.png\" width=500px/>\n",
    "    <font>Python 2023</font><br/>\n",
    "    <br/>\n",
    "    <br/>\n",
    "    <b style=\"font-size: 2em\">Типы - Часть 2</b><br/>\n",
    "    <br/>\n",
    "    <font>Никита Бондарцев</font><br/>\n",
    "</center>"
   ]
  },
  {
   "cell_type": "markdown",
   "metadata": {
    "pycharm": {
     "name": "#%% md\n"
    },
    "slideshow": {
     "slide_type": "slide"
    }
   },
   "source": [
    "### Что мы сегодня разберем?"
   ]
  },
  {
   "cell_type": "raw",
   "metadata": {
    "editable": true,
    "pycharm": {
     "name": "#%% raw\n"
    },
    "raw_mimetype": "",
    "slideshow": {
     "slide_type": ""
    },
    "tags": []
   },
   "source": [
    "Специальные типы:\n",
    "\n",
    "✅ Any - тип, который может принимать все значения и содержит все методы\n",
    "✅ Union - тип, который может принимать любой из переданных типов\n",
    "✅ Optional - тип или None\n",
    "\n",
    "Типы генерики:\n",
    "\n",
    "✅ collection.abc.Tuple (tuple) - генерик к tuple\n",
    "✅ collection.abc.List (list) - генерик к list\n",
    "✅ collection.abc.Mapping - генерик для неизменяемой хеш-мапы\n",
    "✅ collection.abc.Sequence - генерик для неизменяемой последовательности\n",
    "✅ collection.abc.Callable - генерик для функций\n",
    "✅ typing.Type - генерик к type\n",
    "\n",
    "Типы протоколы:\n",
    "\n",
    "✅ Sized - alias к collections.abc.Sized\n",
    "\n",
    "Создание своих типов-генериков и типов-протоколов:\n",
    "\n",
    "✅ TypeVar - позволяет задавать параметр для типов-генериков\n",
    "✅ Generic - позволяет создавать свои классы-генерики\n",
    "✅ Protocol - позволяет создавать свои протоколы"
   ]
  },
  {
   "cell_type": "markdown",
   "metadata": {
    "pycharm": {
     "name": "#%% md\n"
    },
    "slideshow": {
     "slide_type": "slide"
    }
   },
   "source": [
    "### Специальный тип Any"
   ]
  },
  {
   "cell_type": "code",
   "execution_count": null,
   "metadata": {
    "editable": true,
    "is_executing": true,
    "pycharm": {
     "name": "#%%\n"
    },
    "slideshow": {
     "slide_type": ""
    },
    "tags": []
   },
   "outputs": [],
   "source": [
    "import typing as tp\n",
    "print(tp.Any.__doc__.split(\"\\n\")[0])"
   ]
  },
  {
   "cell_type": "markdown",
   "metadata": {
    "editable": true,
    "pycharm": {
     "name": "#%% md\n"
    },
    "slideshow": {
     "slide_type": "fragment"
    },
    "tags": []
   },
   "source": [
    "### Почему тип Any специальный?"
   ]
  },
  {
   "cell_type": "code",
   "execution_count": null,
   "metadata": {
    "cell_style": "center",
    "editable": true,
    "is_executing": true,
    "pycharm": {
     "name": "#%%\n"
    },
    "slideshow": {
     "slide_type": "-"
    },
    "tags": []
   },
   "outputs": [],
   "source": [
    "import typing as tp\n",
    "\n",
    "# Тип-класс\n",
    "class A:\n",
    "    pass\n",
    "\n",
    "# Тип-класс\n",
    "B = int\n",
    "\n",
    "# Тип-объект\n",
    "C = tp.Any\n",
    "\n",
    "type(A), type(B), type(C)"
   ]
  },
  {
   "cell_type": "code",
   "execution_count": null,
   "metadata": {
    "collapsed": true,
    "editable": true,
    "is_executing": true,
    "jupyter": {
     "outputs_hidden": true
    },
    "scrolled": true,
    "slideshow": {
     "slide_type": "-"
    },
    "tags": []
   },
   "outputs": [],
   "source": [
    "isinstance(1, tp.Any)"
   ]
  },
  {
   "cell_type": "markdown",
   "metadata": {
    "editable": true,
    "pycharm": {
     "name": "#%% md\n"
    },
    "slideshow": {
     "slide_type": "slide"
    },
    "tags": []
   },
   "source": [
    "### Специальный тип Union"
   ]
  },
  {
   "cell_type": "code",
   "execution_count": null,
   "metadata": {
    "editable": true,
    "is_executing": true,
    "pycharm": {
     "name": "#%%\n"
    },
    "slideshow": {
     "slide_type": ""
    },
    "tags": []
   },
   "outputs": [],
   "source": [
    "import typing as tp\n",
    "# нынче, с питона 3.10, можно писать просто через вертикальную черту A | B\n",
    "print(tp.Union.__doc__.split(\"\\n\")[0])"
   ]
  },
  {
   "cell_type": "markdown",
   "metadata": {
    "collapsed": true,
    "editable": true,
    "jupyter": {
     "outputs_hidden": true
    },
    "pycharm": {
     "name": "#%%\n"
    },
    "slideshow": {
     "slide_type": ""
    },
    "tags": []
   },
   "source": [
    "Определение подтипа:\n",
    "* ∀ A: A -> A\n",
    "* A -> B  =>  A.values ⊇ B.values\n",
    "* A -> B  =>  A.functions ⊆ B.functions\n",
    "\n",
    "float | str => объединение всех значений, пересечение всех методов, поэтому\n",
    "\n",
    "#### Выполняются ли такие свойства?\n",
    "\n",
    "float | str -> float \\\n",
    "float | str -> str"
   ]
  },
  {
   "cell_type": "code",
   "execution_count": null,
   "metadata": {
    "collapsed": true,
    "editable": true,
    "is_executing": true,
    "jupyter": {
     "outputs_hidden": true
    },
    "pycharm": {
     "name": "#%%\n"
    },
    "slideshow": {
     "slide_type": "slide"
    },
    "tags": []
   },
   "outputs": [],
   "source": [
    "%%typecheck\n",
    "\n",
    "class A:\n",
    "    def am(self) -> None:\n",
    "        pass\n",
    "    \n",
    "    def run(self) -> None:\n",
    "        pass\n",
    "\n",
    "class B:\n",
    "    def run(self) -> None:\n",
    "        pass\n",
    "\n",
    "\n",
    "a: A | B = A()\n",
    "reveal_type(a)\n",
    "a.am()\n",
    "a.run()"
   ]
  },
  {
   "cell_type": "code",
   "execution_count": null,
   "metadata": {
    "editable": true,
    "is_executing": true,
    "pycharm": {
     "name": "#%%\n"
    },
    "slideshow": {
     "slide_type": "slide"
    },
    "tags": []
   },
   "outputs": [],
   "source": [
    "float | str == str | float, tp.Union[str, float] == str | float"
   ]
  },
  {
   "cell_type": "code",
   "execution_count": null,
   "metadata": {
    "editable": true,
    "is_executing": true,
    "pycharm": {
     "name": "#%%\n"
    },
    "slideshow": {
     "slide_type": ""
    },
    "tags": []
   },
   "outputs": [],
   "source": [
    "float == tp.Union[float]"
   ]
  },
  {
   "cell_type": "markdown",
   "metadata": {
    "editable": true,
    "pycharm": {
     "name": "#%% md\n"
    },
    "slideshow": {
     "slide_type": "slide"
    },
    "tags": []
   },
   "source": [
    "### Union → Примеры"
   ]
  },
  {
   "cell_type": "code",
   "execution_count": null,
   "metadata": {
    "cell_style": "split",
    "collapsed": true,
    "editable": true,
    "is_executing": true,
    "jupyter": {
     "outputs_hidden": true
    },
    "pycharm": {
     "name": "#%%\n"
    },
    "scrolled": true,
    "slideshow": {
     "slide_type": ""
    },
    "tags": [
     "split"
    ]
   },
   "outputs": [],
   "source": [
    "%%typecheck\n",
    "# Использование надтипов в Union\n",
    "\n",
    "def f(a: float | str):\n",
    "    pass\n",
    "\n",
    "f(2)\n",
    "f(2.0)\n",
    "f(\"hello\")\n",
    "f({})"
   ]
  },
  {
   "cell_type": "code",
   "execution_count": null,
   "metadata": {
    "cell_style": "split",
    "collapsed": true,
    "editable": true,
    "is_executing": true,
    "jupyter": {
     "outputs_hidden": true
    },
    "pycharm": {
     "name": "#%%\n"
    },
    "scrolled": true,
    "slideshow": {
     "slide_type": ""
    },
    "tags": [
     "split"
    ]
   },
   "outputs": [],
   "source": [
    "%%typecheck\n",
    "# Использование подтипов в Union\n",
    "\n",
    "def f(a: int | str):\n",
    "    pass\n",
    "\n",
    "f(2)\n",
    "f(2.0)\n",
    "f(\"hello\")\n",
    "f({})"
   ]
  },
  {
   "cell_type": "code",
   "execution_count": null,
   "metadata": {
    "cell_style": "split",
    "collapsed": true,
    "editable": true,
    "is_executing": true,
    "jupyter": {
     "outputs_hidden": true
    },
    "pycharm": {
     "name": "#%%\n"
    },
    "scrolled": true,
    "slideshow": {
     "slide_type": ""
    },
    "tags": [
     "style-split"
    ]
   },
   "outputs": [],
   "source": [
    "%%typecheck\n",
    "# Вывод типов с учетом isinstance\n",
    "\n",
    "def f(a: int | float | str):\n",
    "    reveal_type(a)\n",
    "    if isinstance(a, int):\n",
    "        reveal_type(a)\n",
    "    else:\n",
    "        reveal_type(a)\n",
    "        if isinstance(a, str):\n",
    "            reveal_type(a)\n",
    "        else:\n",
    "            reveal_type(a)\n"
   ]
  },
  {
   "cell_type": "code",
   "execution_count": null,
   "metadata": {
    "cell_style": "split",
    "collapsed": true,
    "editable": true,
    "is_executing": true,
    "jupyter": {
     "outputs_hidden": true
    },
    "pycharm": {
     "name": "#%%\n"
    },
    "slideshow": {
     "slide_type": ""
    },
    "tags": []
   },
   "outputs": [],
   "source": [
    "%%typecheck\n",
    "# Вывод типов с учетом isinstance\n",
    "# --warn-unreachable\n",
    "\n",
    "def f(a: int | float | str):\n",
    "    reveal_type(a)\n",
    "    if isinstance(a, float):\n",
    "        reveal_type(a)\n",
    "    else:\n",
    "        reveal_type(a)\n",
    "        if isinstance(a, str):\n",
    "            reveal_type(a)\n",
    "        else:\n",
    "            reveal_type(a)"
   ]
  },
  {
   "cell_type": "markdown",
   "metadata": {
    "editable": true,
    "pycharm": {
     "name": "#%% md\n"
    },
    "slideshow": {
     "slide_type": "slide"
    },
    "tags": []
   },
   "source": [
    "### Специальный тип Optional"
   ]
  },
  {
   "cell_type": "code",
   "execution_count": null,
   "metadata": {
    "editable": true,
    "is_executing": true,
    "pycharm": {
     "name": "#%%\n"
    },
    "slideshow": {
     "slide_type": ""
    },
    "tags": []
   },
   "outputs": [],
   "source": [
    "import typing as tp\n",
    "print(tp.Optional.__doc__.split(\"\\n\")[0])"
   ]
  },
  {
   "cell_type": "code",
   "execution_count": null,
   "metadata": {
    "collapsed": true,
    "editable": true,
    "is_executing": true,
    "jupyter": {
     "outputs_hidden": true
    },
    "pycharm": {
     "name": "#%%\n"
    },
    "scrolled": true,
    "slideshow": {
     "slide_type": ""
    },
    "tags": []
   },
   "outputs": [],
   "source": [
    "import typing as tp\n",
    "from types import NoneType  # python 3.10+\n",
    "\n",
    "tp.Optional[float] == float | None, tp.Optional[float] == float | NoneType, type(None), type(None) is NoneType"
   ]
  },
  {
   "cell_type": "markdown",
   "metadata": {
    "editable": true,
    "pycharm": {
     "name": "#%% md\n"
    },
    "slideshow": {
     "slide_type": "slide"
    },
    "tags": []
   },
   "source": [
    "### Специальный тип Optional, примеры"
   ]
  },
  {
   "cell_type": "code",
   "execution_count": 19,
   "metadata": {
    "cell_style": "split",
    "collapsed": true,
    "editable": true,
    "jupyter": {
     "outputs_hidden": true
    },
    "pycharm": {
     "name": "#%%\n"
    },
    "scrolled": true,
    "slideshow": {
     "slide_type": ""
    },
    "tags": []
   },
   "outputs": [
    {
     "name": "stdout",
     "output_type": "stream",
     "text": [
      "<string>:8: \u001b[1m\u001b[31merror:\u001b[m Argument 1 to \u001b[m\u001b[1m\"f\"\u001b[m has incompatible type \u001b[m\u001b[1m\"str\"\u001b[m; expected \u001b[m\u001b[1m\"float | None\"\u001b[m  \u001b[m\u001b[33m[arg-type]\u001b[m\n",
      "\u001b[1m\u001b[31mFound 1 error in 1 file (checked 1 source file)\u001b[m\n"
     ]
    }
   ],
   "source": [
    "%%typecheck\n",
    "\n",
    "def f(a: float | None):\n",
    "    pass\n",
    "\n",
    "f(1)\n",
    "f(1.0)\n",
    "f(\"1\")\n",
    "f(None)"
   ]
  },
  {
   "cell_type": "code",
   "execution_count": 20,
   "metadata": {
    "cell_style": "split",
    "collapsed": true,
    "editable": true,
    "jupyter": {
     "outputs_hidden": true
    },
    "pycharm": {
     "name": "#%%\n"
    },
    "scrolled": true,
    "slideshow": {
     "slide_type": ""
    },
    "tags": []
   },
   "outputs": [
    {
     "name": "stdout",
     "output_type": "stream",
     "text": [
      "<string>:5: \u001b[34mnote:\u001b[m Revealed type is \u001b[m\u001b[1m\"Union[builtins.float, None]\"\u001b[m\u001b[m\n",
      "<string>:7: \u001b[34mnote:\u001b[m Revealed type is \u001b[m\u001b[1m\"None\"\u001b[m\u001b[m\n",
      "<string>:9: \u001b[34mnote:\u001b[m Revealed type is \u001b[m\u001b[1m\"builtins.float\"\u001b[m\u001b[m\n",
      "\u001b[1m\u001b[32mSuccess: no issues found in 1 source file\u001b[m\n"
     ]
    }
   ],
   "source": [
    "%%typecheck\n",
    "# reveal в Optional делается аналогично Union\n",
    "\n",
    "def f(a: float | None):\n",
    "    reveal_type(a)\n",
    "    if a is None:\n",
    "        reveal_type(a)\n",
    "    else:\n",
    "        reveal_type(a)"
   ]
  },
  {
   "cell_type": "markdown",
   "metadata": {
    "editable": true,
    "pycharm": {
     "name": "#%% md\n"
    },
    "slideshow": {
     "slide_type": "slide"
    },
    "tags": []
   },
   "source": [
    "### Что такое генерики?"
   ]
  },
  {
   "cell_type": "markdown",
   "metadata": {
    "editable": true,
    "pycharm": {
     "name": "#%% raw\n"
    },
    "raw_mimetype": "",
    "slideshow": {
     "slide_type": "-"
    },
    "tags": []
   },
   "source": [
    "Генерик - параметризированный тип, [ссылка на доку](https://mypy.readthedocs.io/en/stable/generics.html#defining-generic-classes)\n",
    "\n",
    "Например, \\\n",
    "List[int] - тип list с параметром int \\\n",
    "Dict[str, int] - dict c параметром str у ключа и int у значения \\\n",
    "Tuple[int, ...] - tuple с параметрами int\n",
    "\n",
    "Note: с питона 3.9 можно использовать стандартные контейнеры в качестве генериков, например, list[int], dict[str, int], tuple[int, float, str]"
   ]
  },
  {
   "cell_type": "markdown",
   "metadata": {
    "editable": true,
    "pycharm": {
     "name": "#%% md\n"
    },
    "slideshow": {
     "slide_type": "fragment"
    },
    "tags": []
   },
   "source": [
    "### Ковариантность/контрвариантность"
   ]
  },
  {
   "cell_type": "raw",
   "metadata": {
    "editable": true,
    "pycharm": {
     "name": "#%% raw\n"
    },
    "raw_mimetype": "",
    "slideshow": {
     "slide_type": ""
    },
    "tags": []
   },
   "source": [
    "* Генерик G[T] ковариантен по параметру T, если из A -> B следует, что G[A] -> G[B]\n",
    "* Генерик G[T] контрвариантен по параметру T, если из A -> B следует, что G[B] -> G[A]\n",
    "* Генерик G[T] инвариантен по параметру Т, если из A -> B **не** следует, что  G[A] -> G[B] или G[B] -> G[A]"
   ]
  },
  {
   "cell_type": "markdown",
   "metadata": {
    "pycharm": {
     "name": "#%% md\n"
    },
    "slideshow": {
     "slide_type": "slide"
    }
   },
   "source": [
    "### Примеры вариантности"
   ]
  },
  {
   "cell_type": "raw",
   "metadata": {
    "editable": true,
    "pycharm": {
     "name": "#%% raw\n"
    },
    "raw_mimetype": "",
    "slideshow": {
     "slide_type": "-"
    },
    "tags": []
   },
   "source": [
    "Optional[T]:\n",
    "    A -> B => Optional[A] -> Optional[B]\n",
    "\n",
    "Union[T, U]: \n",
    "    C -> D => Union[A, C] -> Union[A, D]\n",
    " \n",
    " Почему:\n",
    " v(A) \\/ v(C) ?? v(A) \\/ v(D)\n",
    " m(A) /\\ m(C) ??  m(A) /\\ m(D)"
   ]
  },
  {
   "cell_type": "markdown",
   "metadata": {
    "pycharm": {
     "name": "#%% md\n"
    },
    "slideshow": {
     "slide_type": "slide"
    }
   },
   "source": [
    "### typing.Tuple (tuple)"
   ]
  },
  {
   "cell_type": "code",
   "execution_count": 21,
   "metadata": {
    "editable": true,
    "pycharm": {
     "name": "#%%\n"
    },
    "slideshow": {
     "slide_type": ""
    },
    "tags": []
   },
   "outputs": [
    {
     "name": "stdout",
     "output_type": "stream",
     "text": [
      "Deprecated alias to builtins.tuple.\n"
     ]
    }
   ],
   "source": [
    "import typing as tp\n",
    "print(tp.Tuple.__doc__.split(\"\\n\")[0])"
   ]
  },
  {
   "cell_type": "code",
   "execution_count": 23,
   "metadata": {
    "collapsed": true,
    "editable": true,
    "jupyter": {
     "outputs_hidden": true
    },
    "pycharm": {
     "name": "#%%\n"
    },
    "slideshow": {
     "slide_type": ""
    },
    "tags": []
   },
   "outputs": [
    {
     "name": "stdout",
     "output_type": "stream",
     "text": [
      "<string>:7: \u001b[1m\u001b[31merror:\u001b[m Incompatible types in assignment (expression has type \u001b[m\u001b[1m\"tuple[int, float]\"\u001b[m, variable has type \u001b[m\u001b[1m\"tuple[int, float, str]\"\u001b[m)  \u001b[m\u001b[33m[assignment]\u001b[m\n",
      "\u001b[1m\u001b[31mFound 1 error in 1 file (checked 1 source file)\u001b[m\n"
     ]
    }
   ],
   "source": [
    "%%typecheck\n",
    "import typing as tp\n",
    "\n",
    "a: tp.Tuple[int, str] = (1, \"hello\")\n",
    "b: tuple[int, int, int] = (1, 2, 3)\n",
    "c: tuple[int, ...] = (1, 2, 3, 4, 5)\n",
    "d: tuple[int, float, str] = (1, 2.)"
   ]
  },
  {
   "cell_type": "markdown",
   "metadata": {
    "editable": true,
    "pycharm": {
     "name": "#%% md\n"
    },
    "slideshow": {
     "slide_type": "slide"
    },
    "tags": []
   },
   "source": [
    "### Tuple, пример"
   ]
  },
  {
   "cell_type": "code",
   "execution_count": 24,
   "metadata": {
    "cell_style": "split",
    "collapsed": true,
    "editable": true,
    "jupyter": {
     "outputs_hidden": true
    },
    "pycharm": {
     "name": "#%%\n"
    },
    "scrolled": true,
    "slideshow": {
     "slide_type": "-"
    },
    "tags": []
   },
   "outputs": [
    {
     "name": "stdout",
     "output_type": "stream",
     "text": [
      "<string>:6: \u001b[1m\u001b[31merror:\u001b[m Unsupported operand types for << (\u001b[m\u001b[1m\"float\"\u001b[m and \u001b[m\u001b[1m\"int\"\u001b[m)  \u001b[m\u001b[33m[operator]\u001b[m\n",
      "<string>:7: \u001b[1m\u001b[31merror:\u001b[m Tuple index out of range  \u001b[m\u001b[33m[misc]\u001b[m\n",
      "<string>:10: \u001b[1m\u001b[31merror:\u001b[m Argument 1 to \u001b[m\u001b[1m\"f\"\u001b[m has incompatible type \u001b[m\u001b[1m\"tuple[int, float, int]\"\u001b[m; expected \u001b[m\u001b[1m\"tuple[int, float]\"\u001b[m  \u001b[m\u001b[33m[arg-type]\u001b[m\n",
      "<string>:12: \u001b[1m\u001b[31merror:\u001b[m Argument 1 to \u001b[m\u001b[1m\"f\"\u001b[m has incompatible type \u001b[m\u001b[1m\"tuple[float, int]\"\u001b[m; expected \u001b[m\u001b[1m\"tuple[int, float]\"\u001b[m  \u001b[m\u001b[33m[arg-type]\u001b[m\n",
      "<string>:13: \u001b[1m\u001b[31merror:\u001b[m Argument 1 to \u001b[m\u001b[1m\"f\"\u001b[m has incompatible type \u001b[m\u001b[1m\"tuple[int, str]\"\u001b[m; expected \u001b[m\u001b[1m\"tuple[int, float]\"\u001b[m  \u001b[m\u001b[33m[arg-type]\u001b[m\n",
      "\u001b[1m\u001b[31mFound 5 errors in 1 file (checked 1 source file)\u001b[m\n"
     ]
    }
   ],
   "source": [
    "%%typecheck\n",
    "# Heterogeneus tuple \n",
    "\n",
    "def f(a: tuple[int, float]):\n",
    "    a[0] << 10\n",
    "    a[1] << 10\n",
    "    a[2] + 1\n",
    "\n",
    "f((1, 1.4))\n",
    "f((1, 1.4, 1))\n",
    "f((1, 1))\n",
    "f((1.4, 1))\n",
    "f((1, \"1\"))"
   ]
  },
  {
   "cell_type": "code",
   "execution_count": 25,
   "metadata": {
    "cell_style": "split",
    "collapsed": true,
    "editable": true,
    "jupyter": {
     "outputs_hidden": true
    },
    "pycharm": {
     "name": "#%%\n"
    },
    "scrolled": true,
    "slideshow": {
     "slide_type": ""
    },
    "tags": []
   },
   "outputs": [
    {
     "name": "stdout",
     "output_type": "stream",
     "text": [
      "<string>:6: \u001b[1m\u001b[31merror:\u001b[m Unsupported operand types for << (\u001b[m\u001b[1m\"float\"\u001b[m and \u001b[m\u001b[1m\"int\"\u001b[m)  \u001b[m\u001b[33m[operator]\u001b[m\n",
      "<string>:7: \u001b[1m\u001b[31merror:\u001b[m Unsupported target for indexed assignment (\u001b[m\u001b[1m\"tuple[float, ...]\"\u001b[m)  \u001b[m\u001b[33m[index]\u001b[m\n",
      "<string>:11: \u001b[1m\u001b[31merror:\u001b[m Argument 1 to \u001b[m\u001b[1m\"f\"\u001b[m has incompatible type \u001b[m\u001b[1m\"tuple[str, str, str]\"\u001b[m; expected \u001b[m\u001b[1m\"tuple[float, ...]\"\u001b[m  \u001b[m\u001b[33m[arg-type]\u001b[m\n",
      "\u001b[1m\u001b[31mFound 3 errors in 1 file (checked 1 source file)\u001b[m\n"
     ]
    }
   ],
   "source": [
    "%%typecheck\n",
    "# Homogeneus tuple \n",
    "\n",
    "def f(a: tuple[float, ...]):\n",
    "    a[0] + 1\n",
    "    a[1] << 10\n",
    "    a[100500] = 1.54\n",
    "\n",
    "f((1, 2, 3, 4, 5))\n",
    "f((1.1, 2.1, 3.1, 4.1, 5.1))\n",
    "f((\"3\", \"2\", \"1\"))\n",
    "f(tuple())"
   ]
  },
  {
   "cell_type": "markdown",
   "metadata": {
    "editable": true,
    "pycharm": {
     "name": "#%% md\n"
    },
    "slideshow": {
     "slide_type": "fragment"
    },
    "tags": []
   },
   "source": [
    "### Какая вариантность у Tuple?"
   ]
  },
  {
   "cell_type": "markdown",
   "metadata": {
    "pycharm": {
     "name": "#%% md\n"
    },
    "slideshow": {
     "slide_type": "slide"
    }
   },
   "source": [
    "### typing.List (list)"
   ]
  },
  {
   "cell_type": "code",
   "execution_count": 29,
   "metadata": {
    "editable": true,
    "pycharm": {
     "name": "#%%\n"
    },
    "slideshow": {
     "slide_type": ""
    },
    "tags": []
   },
   "outputs": [
    {
     "name": "stdout",
     "output_type": "stream",
     "text": [
      "A generic version of list.\n"
     ]
    }
   ],
   "source": [
    "import typing as tp\n",
    "print(\"\\n\".join(tp.List.__doc__.split(\"\\n\")[0:3]))"
   ]
  },
  {
   "cell_type": "markdown",
   "metadata": {
    "editable": true,
    "pycharm": {
     "name": "#%% md\n"
    },
    "slideshow": {
     "slide_type": "slide"
    },
    "tags": []
   },
   "source": [
    "### List, примеры"
   ]
  },
  {
   "cell_type": "code",
   "execution_count": 30,
   "metadata": {
    "cell_style": "split",
    "editable": true,
    "pycharm": {
     "name": "#%%\n"
    },
    "scrolled": true,
    "slideshow": {
     "slide_type": ""
    },
    "tags": []
   },
   "outputs": [
    {
     "name": "stdout",
     "output_type": "stream",
     "text": [
      "<string>:4: \u001b[34mnote:\u001b[m Revealed type is \u001b[m\u001b[1m\"builtins.list[builtins.object]\"\u001b[m\u001b[m\n",
      "\u001b[1m\u001b[32mSuccess: no issues found in 1 source file\u001b[m\n"
     ]
    }
   ],
   "source": [
    "%%typecheck\n",
    "\n",
    "a = [1, \"hello\", 5.1]\n",
    "reveal_type(a)\n",
    "\n",
    "a.append(1)\n",
    "a.append(1.0)\n",
    "a.append(\"hi\")\n",
    "a.append([])"
   ]
  },
  {
   "cell_type": "code",
   "execution_count": 31,
   "metadata": {
    "cell_style": "split",
    "collapsed": true,
    "editable": true,
    "jupyter": {
     "outputs_hidden": true
    },
    "pycharm": {
     "name": "#%%\n"
    },
    "scrolled": true,
    "slideshow": {
     "slide_type": ""
    },
    "tags": []
   },
   "outputs": [
    {
     "name": "stdout",
     "output_type": "stream",
     "text": [
      "<string>:3: \u001b[1m\u001b[31merror:\u001b[m Need type annotation for \u001b[m\u001b[1m\"a\"\u001b[m (hint: \u001b[m\u001b[1m\"a: List[<type>] = ...\"\u001b[m)  \u001b[m\u001b[33m[var-annotated]\u001b[m\n",
      "<string>:4: \u001b[34mnote:\u001b[m Revealed type is \u001b[m\u001b[1m\"builtins.list[Any]\"\u001b[m\u001b[m\n",
      "\u001b[1m\u001b[31mFound 1 error in 1 file (checked 1 source file)\u001b[m\n"
     ]
    }
   ],
   "source": [
    "%%typecheck\n",
    "\n",
    "a = []\n",
    "reveal_type(a)"
   ]
  },
  {
   "cell_type": "code",
   "execution_count": 32,
   "metadata": {
    "cell_style": "split",
    "collapsed": true,
    "editable": true,
    "jupyter": {
     "outputs_hidden": true
    },
    "pycharm": {
     "name": "#%%\n"
    },
    "scrolled": true,
    "slideshow": {
     "slide_type": ""
    },
    "tags": []
   },
   "outputs": [
    {
     "name": "stdout",
     "output_type": "stream",
     "text": [
      "<string>:6: \u001b[34mnote:\u001b[m Revealed type is \u001b[m\u001b[1m\"builtins.list[builtins.float]\"\u001b[m\u001b[m\n",
      "\u001b[1m\u001b[32mSuccess: no issues found in 1 source file\u001b[m\n"
     ]
    }
   ],
   "source": [
    "%%typecheck\n",
    "\n",
    "a: list[float] = []\n",
    "\n",
    "a.append(1)\n",
    "reveal_type(a)"
   ]
  },
  {
   "cell_type": "code",
   "execution_count": 33,
   "metadata": {
    "cell_style": "split",
    "collapsed": true,
    "editable": true,
    "jupyter": {
     "outputs_hidden": true
    },
    "pycharm": {
     "name": "#%%\n"
    },
    "scrolled": true,
    "slideshow": {
     "slide_type": ""
    },
    "tags": []
   },
   "outputs": [
    {
     "name": "stdout",
     "output_type": "stream",
     "text": [
      "<string>:5: \u001b[1m\u001b[31merror:\u001b[m Argument 1 to \u001b[m\u001b[1m\"append\"\u001b[m of \u001b[m\u001b[1m\"list\"\u001b[m has incompatible type \u001b[m\u001b[1m\"float\"\u001b[m; expected \u001b[m\u001b[1m\"int\"\u001b[m  \u001b[m\u001b[33m[arg-type]\u001b[m\n",
      "<string>:6: \u001b[34mnote:\u001b[m Revealed type is \u001b[m\u001b[1m\"builtins.list[builtins.int]\"\u001b[m\u001b[m\n",
      "\u001b[1m\u001b[31mFound 1 error in 1 file (checked 1 source file)\u001b[m\n"
     ]
    }
   ],
   "source": [
    "%%typecheck\n",
    "\n",
    "a: list[int] = []\n",
    "\n",
    "a.append(1.1)\n",
    "reveal_type(a)"
   ]
  },
  {
   "cell_type": "code",
   "execution_count": 34,
   "metadata": {
    "cell_style": "split",
    "collapsed": true,
    "editable": true,
    "jupyter": {
     "outputs_hidden": true
    },
    "pycharm": {
     "name": "#%%\n"
    },
    "scrolled": true,
    "slideshow": {
     "slide_type": ""
    },
    "tags": []
   },
   "outputs": [
    {
     "name": "stdout",
     "output_type": "stream",
     "text": [
      "<string>:8: \u001b[34mnote:\u001b[m Revealed type is \u001b[m\u001b[1m\"builtins.list[builtins.float]\"\u001b[m\u001b[m\n",
      "<string>:10: \u001b[1m\u001b[31merror:\u001b[m Argument 1 to \u001b[m\u001b[1m\"foo\"\u001b[m has incompatible type \u001b[m\u001b[1m\"list[float]\"\u001b[m; expected \u001b[m\u001b[1m\"list[int]\"\u001b[m  \u001b[m\u001b[33m[arg-type]\u001b[m\n",
      "\u001b[1m\u001b[31mFound 1 error in 1 file (checked 1 source file)\u001b[m\n"
     ]
    }
   ],
   "source": [
    "%%typecheck\n",
    "# Повышение типа параметра\n",
    "\n",
    "def foo(a: list[int]) -> None:\n",
    "    pass\n",
    "\n",
    "my_list = [1.1, 3.1, 5.1]\n",
    "reveal_type(my_list)\n",
    "\n",
    "foo(my_list)"
   ]
  },
  {
   "cell_type": "code",
   "execution_count": 35,
   "metadata": {
    "cell_style": "split",
    "collapsed": true,
    "editable": true,
    "jupyter": {
     "outputs_hidden": true
    },
    "pycharm": {
     "name": "#%%\n"
    },
    "scrolled": true,
    "slideshow": {
     "slide_type": ""
    },
    "tags": []
   },
   "outputs": [
    {
     "name": "stdout",
     "output_type": "stream",
     "text": [
      "<string>:8: \u001b[34mnote:\u001b[m Revealed type is \u001b[m\u001b[1m\"builtins.list[builtins.int]\"\u001b[m\u001b[m\n",
      "<string>:10: \u001b[1m\u001b[31merror:\u001b[m Argument 1 to \u001b[m\u001b[1m\"foo\"\u001b[m has incompatible type \u001b[m\u001b[1m\"list[int]\"\u001b[m; expected \u001b[m\u001b[1m\"list[float]\"\u001b[m  \u001b[m\u001b[33m[arg-type]\u001b[m\n",
      "<string>:10: \u001b[34mnote:\u001b[m \u001b[m\u001b[1m\"List\"\u001b[m is invariant -- see \u001b[4mhttps://mypy.readthedocs.io/en/stable/common_issues.html#variance\u001b[m\u001b[m\n",
      "<string>:10: \u001b[34mnote:\u001b[m Consider using \u001b[m\u001b[1m\"Sequence\"\u001b[m instead, which is covariant\u001b[m\n",
      "\u001b[1m\u001b[31mFound 1 error in 1 file (checked 1 source file)\u001b[m\n"
     ]
    }
   ],
   "source": [
    "%%typecheck\n",
    "# Понижение типа параметра\n",
    "\n",
    "def foo(a: list[float]) -> None:\n",
    "    pass\n",
    "\n",
    "my_list = [1, 2, 3]\n",
    "reveal_type(my_list)\n",
    "\n",
    "foo(my_list)"
   ]
  },
  {
   "cell_type": "markdown",
   "metadata": {
    "editable": true,
    "pycharm": {
     "name": "#%% md\n"
    },
    "slideshow": {
     "slide_type": "fragment"
    },
    "tags": []
   },
   "source": [
    "### Какая вариантность у List?"
   ]
  },
  {
   "cell_type": "markdown",
   "metadata": {
    "editable": true,
    "pycharm": {
     "name": "#%% md\n"
    },
    "slideshow": {
     "slide_type": "slide"
    },
    "tags": []
   },
   "source": [
    "### typing.Sequence/typing.Mapping"
   ]
  },
  {
   "cell_type": "raw",
   "metadata": {
    "editable": true,
    "pycharm": {
     "name": "#%% raw\n"
    },
    "raw_mimetype": "",
    "slideshow": {
     "slide_type": ""
    },
    "tags": []
   },
   "source": [
    "Sequence[T_co] -> List[T]\n",
    "Mapping[KT,VT_co] -> Dict[KT,VT]"
   ]
  },
  {
   "cell_type": "markdown",
   "metadata": {
    "pycharm": {
     "name": "#%% md\n"
    },
    "slideshow": {
     "slide_type": "slide"
    }
   },
   "source": [
    "### Sequence, пример"
   ]
  },
  {
   "cell_type": "code",
   "execution_count": 36,
   "metadata": {
    "cell_style": "split",
    "collapsed": true,
    "editable": true,
    "jupyter": {
     "outputs_hidden": true
    },
    "pycharm": {
     "name": "#%%\n"
    },
    "scrolled": true,
    "slideshow": {
     "slide_type": ""
    },
    "tags": []
   },
   "outputs": [
    {
     "name": "stdout",
     "output_type": "stream",
     "text": [
      "<string>:8: \u001b[1m\u001b[31merror:\u001b[m Argument 1 to \u001b[m\u001b[1m\"foo\"\u001b[m has incompatible type \u001b[m\u001b[1m\"list[int]\"\u001b[m; expected \u001b[m\u001b[1m\"list[float]\"\u001b[m  \u001b[m\u001b[33m[arg-type]\u001b[m\n",
      "<string>:8: \u001b[34mnote:\u001b[m \u001b[m\u001b[1m\"List\"\u001b[m is invariant -- see \u001b[4mhttps://mypy.readthedocs.io/en/stable/common_issues.html#variance\u001b[m\u001b[m\n",
      "<string>:8: \u001b[34mnote:\u001b[m Consider using \u001b[m\u001b[1m\"Sequence\"\u001b[m instead, which is covariant\u001b[m\n",
      "\u001b[1m\u001b[31mFound 1 error in 1 file (checked 1 source file)\u001b[m\n"
     ]
    }
   ],
   "source": [
    "%%typecheck\n",
    "\n",
    "def foo(a: list[float]) -> float:\n",
    "    return a[0]\n",
    "\n",
    "my_list = [1, 3, 5]\n",
    "\n",
    "foo(my_list)"
   ]
  },
  {
   "cell_type": "code",
   "execution_count": 37,
   "metadata": {
    "cell_style": "split",
    "collapsed": true,
    "editable": true,
    "jupyter": {
     "outputs_hidden": true
    },
    "pycharm": {
     "name": "#%%\n"
    },
    "scrolled": true,
    "slideshow": {
     "slide_type": ""
    },
    "tags": []
   },
   "outputs": [
    {
     "name": "stdout",
     "output_type": "stream",
     "text": [
      "\u001b[1m\u001b[32mSuccess: no issues found in 1 source file\u001b[m\n"
     ]
    }
   ],
   "source": [
    "%%typecheck\n",
    "\n",
    "import collections.abc as abc\n",
    "\n",
    "def foo(a: abc.Sequence[float]) -> float:\n",
    "    return a[0]\n",
    "\n",
    "my_list = [1, 3, 5]\n",
    "\n",
    "foo(my_list)"
   ]
  },
  {
   "cell_type": "markdown",
   "metadata": {
    "editable": true,
    "pycharm": {
     "name": "#%% md\n"
    },
    "slideshow": {
     "slide_type": "slide"
    },
    "tags": []
   },
   "source": [
    "### Mapping, пример"
   ]
  },
  {
   "cell_type": "code",
   "execution_count": 38,
   "metadata": {
    "cell_style": "split",
    "collapsed": true,
    "editable": true,
    "jupyter": {
     "outputs_hidden": true
    },
    "pycharm": {
     "name": "#%%\n"
    },
    "scrolled": true,
    "slideshow": {
     "slide_type": ""
    },
    "tags": []
   },
   "outputs": [
    {
     "name": "stdout",
     "output_type": "stream",
     "text": [
      "<string>:8: \u001b[1m\u001b[31merror:\u001b[m Argument 1 to \u001b[m\u001b[1m\"foo\"\u001b[m has incompatible type \u001b[m\u001b[1m\"dict[str, int]\"\u001b[m; expected \u001b[m\u001b[1m\"dict[str, float]\"\u001b[m  \u001b[m\u001b[33m[arg-type]\u001b[m\n",
      "<string>:8: \u001b[34mnote:\u001b[m \u001b[m\u001b[1m\"Dict\"\u001b[m is invariant -- see \u001b[4mhttps://mypy.readthedocs.io/en/stable/common_issues.html#variance\u001b[m\u001b[m\n",
      "<string>:8: \u001b[34mnote:\u001b[m Consider using \u001b[m\u001b[1m\"Mapping\"\u001b[m instead, which is covariant in the value type\u001b[m\n",
      "\u001b[1m\u001b[31mFound 1 error in 1 file (checked 1 source file)\u001b[m\n"
     ]
    }
   ],
   "source": [
    "%%typecheck\n",
    "\n",
    "def foo(a: dict[str, float]) -> float:\n",
    "    return a[\"key\"]\n",
    "\n",
    "my_dict = {\"hey\": 1}\n",
    "\n",
    "foo(my_dict)"
   ]
  },
  {
   "cell_type": "code",
   "execution_count": 39,
   "metadata": {
    "cell_style": "split",
    "collapsed": true,
    "editable": true,
    "jupyter": {
     "outputs_hidden": true
    },
    "pycharm": {
     "name": "#%%\n"
    },
    "scrolled": true,
    "slideshow": {
     "slide_type": ""
    },
    "tags": []
   },
   "outputs": [
    {
     "name": "stdout",
     "output_type": "stream",
     "text": [
      "\u001b[1m\u001b[32mSuccess: no issues found in 1 source file\u001b[m\n"
     ]
    }
   ],
   "source": [
    "%%typecheck\n",
    "\n",
    "import collections.abc as abc\n",
    "\n",
    "def foo(a: abc.Mapping[str, float]) -> float:\n",
    "    return a[\"key\"]\n",
    "\n",
    "my_dict = {\"hey\": 1}\n",
    "\n",
    "foo(my_dict)"
   ]
  },
  {
   "cell_type": "markdown",
   "metadata": {
    "editable": true,
    "pycharm": {
     "name": "#%% md\n"
    },
    "slideshow": {
     "slide_type": "slide"
    },
    "tags": []
   },
   "source": [
    "### Иерархия типов генериков\n",
    "<img src=\"images/hierarchy2.jpg\">"
   ]
  },
  {
   "cell_type": "markdown",
   "metadata": {
    "pycharm": {
     "name": "#%% md\n"
    },
    "slideshow": {
     "slide_type": "slide"
    }
   },
   "source": [
    "### Примеры на иерархию Sequence/Mapping "
   ]
  },
  {
   "cell_type": "code",
   "execution_count": 40,
   "metadata": {
    "cell_style": "split",
    "collapsed": true,
    "editable": true,
    "jupyter": {
     "outputs_hidden": true
    },
    "pycharm": {
     "name": "#%%\n"
    },
    "scrolled": true,
    "slideshow": {
     "slide_type": ""
    },
    "tags": []
   },
   "outputs": [
    {
     "name": "stdout",
     "output_type": "stream",
     "text": [
      "<string>:21: \u001b[1m\u001b[31merror:\u001b[m Argument 1 to \u001b[m\u001b[1m\"foo2\"\u001b[m has incompatible type \u001b[m\u001b[1m\"list[int]\"\u001b[m; expected \u001b[m\u001b[1m\"MutableSequence[float]\"\u001b[m  \u001b[m\u001b[33m[arg-type]\u001b[m\n",
      "<string>:22: \u001b[1m\u001b[31merror:\u001b[m Argument 1 to \u001b[m\u001b[1m\"foo3\"\u001b[m has incompatible type \u001b[m\u001b[1m\"list[int]\"\u001b[m; expected \u001b[m\u001b[1m\"list[float]\"\u001b[m  \u001b[m\u001b[33m[arg-type]\u001b[m\n",
      "<string>:22: \u001b[34mnote:\u001b[m \u001b[m\u001b[1m\"List\"\u001b[m is invariant -- see \u001b[4mhttps://mypy.readthedocs.io/en/stable/common_issues.html#variance\u001b[m\u001b[m\n",
      "<string>:22: \u001b[34mnote:\u001b[m Consider using \u001b[m\u001b[1m\"Sequence\"\u001b[m instead, which is covariant\u001b[m\n",
      "\u001b[1m\u001b[31mFound 2 errors in 1 file (checked 1 source file)\u001b[m\n"
     ]
    }
   ],
   "source": [
    "%%typecheck\n",
    "\n",
    "import collections.abc as abc\n",
    "\n",
    "\n",
    "def foo1(a: abc.Sequence[float]) -> None:\n",
    "    pass\n",
    "\n",
    "def foo2(a: abc.MutableSequence[float]) -> None:\n",
    "    pass\n",
    "\n",
    "def foo3(a: list[float]) -> None:\n",
    "    pass\n",
    "\n",
    "def foo4(a: list) -> None:\n",
    "    pass\n",
    "\n",
    "\n",
    "a = [1]\n",
    "foo1(a)\n",
    "foo2(a)\n",
    "foo3(a)\n",
    "foo4(a)\n"
   ]
  },
  {
   "cell_type": "code",
   "execution_count": 41,
   "metadata": {
    "cell_style": "split",
    "collapsed": true,
    "editable": true,
    "jupyter": {
     "outputs_hidden": true
    },
    "pycharm": {
     "name": "#%%\n"
    },
    "scrolled": true,
    "slideshow": {
     "slide_type": ""
    },
    "tags": []
   },
   "outputs": [
    {
     "name": "stdout",
     "output_type": "stream",
     "text": [
      "<string>:21: \u001b[1m\u001b[31merror:\u001b[m Argument 1 to \u001b[m\u001b[1m\"foo2\"\u001b[m has incompatible type \u001b[m\u001b[1m\"dict[str, int]\"\u001b[m; expected \u001b[m\u001b[1m\"MutableMapping[str, float]\"\u001b[m  \u001b[m\u001b[33m[arg-type]\u001b[m\n",
      "<string>:22: \u001b[1m\u001b[31merror:\u001b[m Argument 1 to \u001b[m\u001b[1m\"foo3\"\u001b[m has incompatible type \u001b[m\u001b[1m\"dict[str, int]\"\u001b[m; expected \u001b[m\u001b[1m\"dict[str, float]\"\u001b[m  \u001b[m\u001b[33m[arg-type]\u001b[m\n",
      "<string>:22: \u001b[34mnote:\u001b[m \u001b[m\u001b[1m\"Dict\"\u001b[m is invariant -- see \u001b[4mhttps://mypy.readthedocs.io/en/stable/common_issues.html#variance\u001b[m\u001b[m\n",
      "<string>:22: \u001b[34mnote:\u001b[m Consider using \u001b[m\u001b[1m\"Mapping\"\u001b[m instead, which is covariant in the value type\u001b[m\n",
      "\u001b[1m\u001b[31mFound 2 errors in 1 file (checked 1 source file)\u001b[m\n"
     ]
    }
   ],
   "source": [
    "%%typecheck\n",
    "\n",
    "import collections.abc as abc\n",
    "\n",
    "\n",
    "def foo1(a: abc.Mapping[str, float]) -> None:\n",
    "    pass\n",
    "\n",
    "def foo2(a: abc.MutableMapping[str, float]) -> None:\n",
    "    pass\n",
    "\n",
    "def foo3(a: dict[str, float]) -> None:\n",
    "    pass\n",
    "\n",
    "def foo4(a: dict) -> None:\n",
    "    pass\n",
    "\n",
    "\n",
    "a = {'a': 1}\n",
    "foo1(a)\n",
    "foo2(a)\n",
    "foo3(a)\n",
    "foo4(a)"
   ]
  },
  {
   "cell_type": "markdown",
   "metadata": {
    "editable": true,
    "pycharm": {
     "name": "#%% md\n"
    },
    "slideshow": {
     "slide_type": "slide"
    },
    "tags": []
   },
   "source": [
    "### Generic functions, TypeVar"
   ]
  },
  {
   "cell_type": "code",
   "execution_count": 42,
   "metadata": {
    "editable": true,
    "pycharm": {
     "name": "#%%\n"
    },
    "slideshow": {
     "slide_type": ""
    },
    "tags": []
   },
   "outputs": [
    {
     "data": {
      "text/plain": [
       "'Type variable.'"
      ]
     },
     "execution_count": 42,
     "metadata": {},
     "output_type": "execute_result"
    }
   ],
   "source": [
    "import typing\n",
    "tp.TypeVar.__doc__.split(\"\\n\")[0]"
   ]
  },
  {
   "cell_type": "markdown",
   "metadata": {
    "editable": true,
    "pycharm": {
     "name": "#%% md\n"
    },
    "slideshow": {
     "slide_type": "slide"
    },
    "tags": []
   },
   "source": [
    "#### TypeVar, мотивация"
   ]
  },
  {
   "cell_type": "code",
   "execution_count": 43,
   "metadata": {
    "cell_style": "split",
    "collapsed": true,
    "editable": true,
    "jupyter": {
     "outputs_hidden": true
    },
    "pycharm": {
     "name": "#%%\n"
    },
    "scrolled": true,
    "slideshow": {
     "slide_type": ""
    },
    "tags": []
   },
   "outputs": [
    {
     "name": "stdout",
     "output_type": "stream",
     "text": [
      "<string>:4: \u001b[34mnote:\u001b[m Revealed type is \u001b[m\u001b[1m\"builtins.int\"\u001b[m\u001b[m\n",
      "<string>:8: \u001b[34mnote:\u001b[m Revealed type is \u001b[m\u001b[1m\"builtins.int\"\u001b[m\u001b[m\n",
      "\u001b[1m\u001b[32mSuccess: no issues found in 1 source file\u001b[m\n"
     ]
    }
   ],
   "source": [
    "%%typecheck\n",
    "\n",
    "def foo(a: int, b: int) -> int:\n",
    "    reveal_type(a)\n",
    "    return a + b\n",
    "\n",
    "a = foo(1, 2)\n",
    "reveal_type(a)"
   ]
  },
  {
   "cell_type": "code",
   "execution_count": 44,
   "metadata": {
    "cell_style": "split",
    "collapsed": true,
    "editable": true,
    "jupyter": {
     "outputs_hidden": true
    },
    "pycharm": {
     "name": "#%%\n"
    },
    "scrolled": true,
    "slideshow": {
     "slide_type": ""
    },
    "tags": []
   },
   "outputs": [
    {
     "name": "stdout",
     "output_type": "stream",
     "text": [
      "<string>:10: \u001b[34mnote:\u001b[m Revealed type is \u001b[m\u001b[1m\"builtins.int\"\u001b[m\u001b[m\n",
      "<string>:13: \u001b[34mnote:\u001b[m Revealed type is \u001b[m\u001b[1m\"builtins.str\"\u001b[m\u001b[m\n",
      "<string>:15: \u001b[1m\u001b[31merror:\u001b[m Argument 1 to \u001b[m\u001b[1m\"foo\"\u001b[m has incompatible type \u001b[m\u001b[1m\"str\"\u001b[m; expected \u001b[m\u001b[1m\"int\"\u001b[m  \u001b[m\u001b[33m[arg-type]\u001b[m\n",
      "<string>:16: \u001b[34mnote:\u001b[m Revealed type is \u001b[m\u001b[1m\"builtins.int\"\u001b[m\u001b[m\n",
      "\u001b[1m\u001b[31mFound 1 error in 1 file (checked 1 source file)\u001b[m\n"
     ]
    }
   ],
   "source": [
    "%%typecheck\n",
    "\n",
    "def foo(a: int, b: int) -> int:\n",
    "    return a + b\n",
    "\n",
    "def foo2(a: str, b: str) -> str:\n",
    "    return a + b\n",
    "\n",
    "a = foo(1, 2)\n",
    "reveal_type(a)\n",
    "\n",
    "b = foo2(\"1\", \"2\")\n",
    "reveal_type(b)\n",
    "\n",
    "c = foo(\"1\", 2)\n",
    "reveal_type(c)"
   ]
  },
  {
   "cell_type": "code",
   "execution_count": 45,
   "metadata": {
    "cell_style": "split",
    "collapsed": true,
    "editable": true,
    "jupyter": {
     "outputs_hidden": true
    },
    "pycharm": {
     "name": "#%%\n"
    },
    "scrolled": true,
    "slideshow": {
     "slide_type": ""
    },
    "tags": []
   },
   "outputs": [
    {
     "name": "stdout",
     "output_type": "stream",
     "text": [
      "<string>:4: \u001b[34mnote:\u001b[m Revealed type is \u001b[m\u001b[1m\"Union[builtins.int, builtins.str]\"\u001b[m\u001b[m\n",
      "<string>:5: \u001b[1m\u001b[31merror:\u001b[m Unsupported operand types for + (\u001b[m\u001b[1m\"int\"\u001b[m and \u001b[m\u001b[1m\"str\"\u001b[m)  \u001b[m\u001b[33m[operator]\u001b[m\n",
      "<string>:5: \u001b[1m\u001b[31merror:\u001b[m Unsupported operand types for + (\u001b[m\u001b[1m\"str\"\u001b[m and \u001b[m\u001b[1m\"int\"\u001b[m)  \u001b[m\u001b[33m[operator]\u001b[m\n",
      "<string>:5: \u001b[34mnote:\u001b[m Both left and right operands are unions\u001b[m\n",
      "<string>:8: \u001b[34mnote:\u001b[m Revealed type is \u001b[m\u001b[1m\"Union[builtins.int, builtins.str]\"\u001b[m\u001b[m\n",
      "<string>:11: \u001b[34mnote:\u001b[m Revealed type is \u001b[m\u001b[1m\"Union[builtins.int, builtins.str]\"\u001b[m\u001b[m\n",
      "<string>:14: \u001b[34mnote:\u001b[m Revealed type is \u001b[m\u001b[1m\"Union[builtins.int, builtins.str]\"\u001b[m\u001b[m\n",
      "\u001b[1m\u001b[31mFound 2 errors in 1 file (checked 1 source file)\u001b[m\n"
     ]
    }
   ],
   "source": [
    "%%typecheck\n",
    "\n",
    "def foo(a: int | str, b: int | str) -> int | str:\n",
    "    reveal_type(a)\n",
    "    return a + b\n",
    "\n",
    "a = foo(1, 2)\n",
    "reveal_type(a)\n",
    "\n",
    "b = foo(\"1\", \"2\")\n",
    "reveal_type(b)\n",
    "\n",
    "c = foo(\"1\", 2)\n",
    "reveal_type(c)\n"
   ]
  },
  {
   "cell_type": "markdown",
   "metadata": {
    "editable": true,
    "pycharm": {
     "name": "#%% md\n"
    },
    "slideshow": {
     "slide_type": "slide"
    },
    "tags": []
   },
   "source": [
    "### TypeVar, примеры"
   ]
  },
  {
   "cell_type": "code",
   "execution_count": 46,
   "metadata": {
    "cell_style": "split",
    "collapsed": true,
    "editable": true,
    "jupyter": {
     "outputs_hidden": true
    },
    "pycharm": {
     "name": "#%%\n"
    },
    "scrolled": true,
    "slideshow": {
     "slide_type": ""
    },
    "tags": []
   },
   "outputs": [
    {
     "name": "stdout",
     "output_type": "stream",
     "text": [
      "<string>:8: \u001b[34mnote:\u001b[m Revealed type is \u001b[m\u001b[1m\"builtins.int\"\u001b[m\u001b[m\n",
      "<string>:8: \u001b[34mnote:\u001b[m Revealed type is \u001b[m\u001b[1m\"builtins.str\"\u001b[m\u001b[m\n",
      "<string>:12: \u001b[34mnote:\u001b[m Revealed type is \u001b[m\u001b[1m\"builtins.int\"\u001b[m\u001b[m\n",
      "<string>:15: \u001b[34mnote:\u001b[m Revealed type is \u001b[m\u001b[1m\"builtins.str\"\u001b[m\u001b[m\n",
      "<string>:17: \u001b[1m\u001b[31merror:\u001b[m Value of type variable \u001b[m\u001b[1m\"T\"\u001b[m of \u001b[m\u001b[1m\"foo\"\u001b[m cannot be \u001b[m\u001b[1m\"object\"\u001b[m  \u001b[m\u001b[33m[type-var]\u001b[m\n",
      "<string>:18: \u001b[34mnote:\u001b[m Revealed type is \u001b[m\u001b[1m\"builtins.object\"\u001b[m\u001b[m\n",
      "\u001b[1m\u001b[31mFound 1 error in 1 file (checked 1 source file)\u001b[m\n"
     ]
    }
   ],
   "source": [
    "%%typecheck\n",
    "\n",
    "import typing as tp\n",
    "\n",
    "T = tp.TypeVar('T', int, str)\n",
    "\n",
    "def foo(a: T, b: T) -> T:\n",
    "    reveal_type(a)\n",
    "    return a + b\n",
    "\n",
    "a = foo(1, 2)\n",
    "reveal_type(a)\n",
    "\n",
    "b = foo(\"1\", \"2\")\n",
    "reveal_type(b)\n",
    "\n",
    "c = foo(\"1\", 2)\n",
    "reveal_type(c)"
   ]
  },
  {
   "cell_type": "code",
   "execution_count": 47,
   "metadata": {
    "cell_style": "center",
    "collapsed": true,
    "editable": true,
    "jupyter": {
     "outputs_hidden": true
    },
    "pycharm": {
     "name": "#%%\n"
    },
    "scrolled": true,
    "slideshow": {
     "slide_type": ""
    },
    "tags": []
   },
   "outputs": [
    {
     "name": "stdout",
     "output_type": "stream",
     "text": [
      "<string>:11: \u001b[34mnote:\u001b[m Revealed type is \u001b[m\u001b[1m\"builtins.int\"\u001b[m\u001b[m\n",
      "\u001b[1m\u001b[32mSuccess: no issues found in 1 source file\u001b[m\n"
     ]
    }
   ],
   "source": [
    "%%typecheck\n",
    "\n",
    "import typing as tp\n",
    "\n",
    "T = tp.TypeVar('T')\n",
    "\n",
    "def foo(a: list[T], n: int) -> T:\n",
    "    return a[n]\n",
    "\n",
    "a = foo([1, 2], 0)\n",
    "reveal_type(a)"
   ]
  },
  {
   "cell_type": "markdown",
   "metadata": {},
   "source": [
    "### Overload - не то, что вы подумали\n",
    "[дока](https://peps.python.org/pep-0484/#function-method-overloading)"
   ]
  },
  {
   "cell_type": "code",
   "execution_count": 34,
   "metadata": {
    "collapsed": true,
    "jupyter": {
     "outputs_hidden": true
    },
    "scrolled": true
   },
   "outputs": [
    {
     "name": "stdout",
     "output_type": "stream",
     "text": [
      "<string>:4: \u001b[34mnote:\u001b[m Revealed type is \u001b[m\u001b[1m\"builtins.int\"\u001b[m\u001b[m\n",
      "<string>:5: \u001b[34mnote:\u001b[m Revealed type is \u001b[m\u001b[1m\"builtins.list[builtins.int]\"\u001b[m\u001b[m\n",
      "\u001b[1m\u001b[32mSuccess: no issues found in 1 source file\u001b[m\n"
     ]
    }
   ],
   "source": [
    "%%typecheck\n",
    "\n",
    "lst = [1, 2, 3]\n",
    "reveal_type(lst[0])\n",
    "reveal_type(lst[0:1])"
   ]
  },
  {
   "cell_type": "code",
   "execution_count": 37,
   "metadata": {
    "collapsed": true,
    "jupyter": {
     "outputs_hidden": true
    },
    "scrolled": true
   },
   "outputs": [
    {
     "name": "stdout",
     "output_type": "stream",
     "text": [
      "<string>:21: \u001b[34mnote:\u001b[m Revealed type is \u001b[m\u001b[1m\"builtins.int\"\u001b[m\u001b[m\n",
      "<string>:22: \u001b[34mnote:\u001b[m Revealed type is \u001b[m\u001b[1m\"builtins.list[builtins.int]\"\u001b[m\u001b[m\n",
      "\u001b[1m\u001b[32mSuccess: no issues found in 1 source file\u001b[m\n"
     ]
    }
   ],
   "source": [
    "%%typecheck\n",
    "\n",
    "import typing as tp\n",
    "\n",
    "class MyIntList:\n",
    "    def __init__(self, lst: list[int]) -> None:\n",
    "        self.lst = lst\n",
    "\n",
    "    @tp.overload\n",
    "    def __getitem__(self, idx: slice) -> list[int]:\n",
    "        pass\n",
    "\n",
    "    @tp.overload\n",
    "    def __getitem__(self, idx: int) -> int:\n",
    "        pass\n",
    "    \n",
    "    def __getitem__(self, idx):\n",
    "        return self.lst[idx]\n",
    "\n",
    "my_lst = MyIntList([1, 2, 3])\n",
    "reveal_type(my_lst[0])\n",
    "reveal_type(my_lst[0:1])"
   ]
  },
  {
   "cell_type": "markdown",
   "metadata": {
    "editable": true,
    "pycharm": {
     "name": "#%% md\n"
    },
    "slideshow": {
     "slide_type": "slide"
    },
    "tags": []
   },
   "source": [
    "### Функциональный тип Callable"
   ]
  },
  {
   "cell_type": "code",
   "execution_count": 60,
   "metadata": {
    "editable": true,
    "pycharm": {
     "name": "#%%\n"
    },
    "slideshow": {
     "slide_type": ""
    },
    "tags": []
   },
   "outputs": [
    {
     "name": "stdout",
     "output_type": "stream",
     "text": [
      "\u001b[1m\u001b[32mSuccess: no issues found in 1 source file\u001b[m\n"
     ]
    }
   ],
   "source": [
    "%%typecheck\n",
    "\n",
    "import collections.abc as abc\n",
    "\n",
    "def g(a: int, b: float) -> float:\n",
    "    return 1.1\n",
    "\n",
    "a: abc.Callable[[int, float], float] = g"
   ]
  },
  {
   "cell_type": "markdown",
   "metadata": {
    "editable": true,
    "pycharm": {
     "name": "#%% md\n"
    },
    "slideshow": {
     "slide_type": "slide"
    },
    "tags": []
   },
   "source": [
    "### Callable, аннотация типов функции совпадает с тайпингом"
   ]
  },
  {
   "cell_type": "code",
   "execution_count": 61,
   "metadata": {
    "cell_style": "split",
    "collapsed": true,
    "editable": true,
    "jupyter": {
     "outputs_hidden": true
    },
    "pycharm": {
     "name": "#%%\n"
    },
    "scrolled": true,
    "slideshow": {
     "slide_type": "-"
    },
    "tags": []
   },
   "outputs": [
    {
     "name": "stdout",
     "output_type": "stream",
     "text": [
      "\u001b[1m\u001b[32mSuccess: no issues found in 1 source file\u001b[m\n"
     ]
    }
   ],
   "source": [
    "%%typecheck\n",
    "# Привычная функция\n",
    "\n",
    "import collections.abc as abc\n",
    "\n",
    "def f(a: abc.Callable[[int, float], float]) -> None:\n",
    "    pass\n",
    "\n",
    "def g(a: int, b: float) -> float:\n",
    "    return 1.1\n",
    "\n",
    "f(g)"
   ]
  },
  {
   "cell_type": "code",
   "execution_count": 62,
   "metadata": {
    "cell_style": "split",
    "collapsed": true,
    "editable": true,
    "jupyter": {
     "outputs_hidden": true
    },
    "pycharm": {
     "name": "#%%\n"
    },
    "scrolled": true,
    "slideshow": {
     "slide_type": ""
    },
    "tags": []
   },
   "outputs": [
    {
     "name": "stdout",
     "output_type": "stream",
     "text": [
      "\u001b[1m\u001b[32mSuccess: no issues found in 1 source file\u001b[m\n"
     ]
    }
   ],
   "source": [
    "%%typecheck\n",
    "# Функция без аргументов\n",
    "\n",
    "import collections.abc as abc\n",
    "\n",
    "def f(a: abc.Callable[[], float]):\n",
    "    pass\n",
    "\n",
    "def g() -> float:\n",
    "    return 1.1\n",
    "\n",
    "f(g)"
   ]
  },
  {
   "cell_type": "markdown",
   "metadata": {
    "editable": true,
    "pycharm": {
     "name": "#%% md\n"
    },
    "slideshow": {
     "slide_type": "slide"
    },
    "tags": []
   },
   "source": [
    "### Callable, часть типов отсутствует"
   ]
  },
  {
   "cell_type": "code",
   "execution_count": 63,
   "metadata": {
    "cell_style": "split",
    "editable": true,
    "pycharm": {
     "name": "#%%\n"
    },
    "slideshow": {
     "slide_type": "-"
    },
    "tags": []
   },
   "outputs": [
    {
     "name": "stdout",
     "output_type": "stream",
     "text": [
      "\u001b[1m\u001b[32mSuccess: no issues found in 1 source file\u001b[m\n"
     ]
    }
   ],
   "source": [
    "%%typecheck\n",
    "# Любые аргументы\n",
    "\n",
    "import collections.abc as abc\n",
    "\n",
    "def f(a: abc.Callable[..., float]):\n",
    "    pass\n",
    "\n",
    "def g(a: int, b: str, c: int) -> float:\n",
    "    return 1.1\n",
    "\n",
    "f(g)"
   ]
  },
  {
   "cell_type": "code",
   "execution_count": 64,
   "metadata": {
    "cell_style": "split",
    "editable": true,
    "pycharm": {
     "name": "#%%\n"
    },
    "slideshow": {
     "slide_type": ""
    },
    "tags": []
   },
   "outputs": [
    {
     "name": "stdout",
     "output_type": "stream",
     "text": [
      "\u001b[1m\u001b[32mSuccess: no issues found in 1 source file\u001b[m\n"
     ]
    }
   ],
   "source": [
    "%%typecheck\n",
    "# И лямбда тоже\n",
    "\n",
    "import typing as tp\n",
    "\n",
    "def f(a: tp.Callable[..., float]):\n",
    "    pass\n",
    "\n",
    "f(lambda a, b, c: 1.1)"
   ]
  },
  {
   "cell_type": "markdown",
   "metadata": {
    "editable": true,
    "pycharm": {
     "name": "#%% md\n"
    },
    "slideshow": {
     "slide_type": "slide"
    },
    "tags": []
   },
   "source": [
    "### Callable, передаем функции с другими типами аргументов"
   ]
  },
  {
   "cell_type": "code",
   "execution_count": 65,
   "metadata": {
    "cell_style": "split",
    "editable": true,
    "pycharm": {
     "name": "#%%\n"
    },
    "scrolled": true,
    "slideshow": {
     "slide_type": ""
    },
    "tags": []
   },
   "outputs": [
    {
     "name": "stdout",
     "output_type": "stream",
     "text": [
      "\u001b[1m\u001b[32mSuccess: no issues found in 1 source file\u001b[m\n"
     ]
    }
   ],
   "source": [
    "%%typecheck\n",
    "# Повышаем тип аргумента\n",
    "\n",
    "import collections.abc as abc\n",
    "\n",
    "def f(a: abc.Callable[[int], float]):\n",
    "    pass\n",
    "\n",
    "def g(a: float) -> float:\n",
    "    return a\n",
    "\n",
    "f(g)"
   ]
  },
  {
   "cell_type": "code",
   "execution_count": 66,
   "metadata": {
    "cell_style": "split",
    "editable": true,
    "pycharm": {
     "name": "#%%\n"
    },
    "scrolled": true,
    "slideshow": {
     "slide_type": ""
    },
    "tags": []
   },
   "outputs": [
    {
     "name": "stdout",
     "output_type": "stream",
     "text": [
      "<string>:12: \u001b[1m\u001b[31merror:\u001b[m Argument 1 to \u001b[m\u001b[1m\"f\"\u001b[m has incompatible type \u001b[m\u001b[1m\"Callable[[int], float]\"\u001b[m; expected \u001b[m\u001b[1m\"Callable[[float], float]\"\u001b[m  \u001b[m\u001b[33m[arg-type]\u001b[m\n",
      "\u001b[1m\u001b[31mFound 1 error in 1 file (checked 1 source file)\u001b[m\n"
     ]
    }
   ],
   "source": [
    "%%typecheck\n",
    "# Понижаем тип аргумента\n",
    "\n",
    "import collections.abc as abc\n",
    "\n",
    "def f(a: abc.Callable[[float], float]):\n",
    "    pass\n",
    "\n",
    "def g(a: int) -> float:\n",
    "    return a\n",
    "\n",
    "f(g)"
   ]
  },
  {
   "cell_type": "markdown",
   "metadata": {
    "editable": true,
    "pycharm": {
     "name": "#%% md\n"
    },
    "slideshow": {
     "slide_type": "slide"
    },
    "tags": []
   },
   "source": [
    "### Callable, передаем функции с другим типом возвращаемого значения"
   ]
  },
  {
   "cell_type": "code",
   "execution_count": 67,
   "metadata": {
    "cell_style": "split",
    "collapsed": true,
    "editable": true,
    "jupyter": {
     "outputs_hidden": true
    },
    "pycharm": {
     "name": "#%%\n"
    },
    "scrolled": true,
    "slideshow": {
     "slide_type": ""
    },
    "tags": []
   },
   "outputs": [
    {
     "name": "stdout",
     "output_type": "stream",
     "text": [
      "<string>:12: \u001b[1m\u001b[31merror:\u001b[m Argument 1 to \u001b[m\u001b[1m\"f\"\u001b[m has incompatible type \u001b[m\u001b[1m\"Callable[[int], float]\"\u001b[m; expected \u001b[m\u001b[1m\"Callable[[int], int]\"\u001b[m  \u001b[m\u001b[33m[arg-type]\u001b[m\n",
      "\u001b[1m\u001b[31mFound 1 error in 1 file (checked 1 source file)\u001b[m\n"
     ]
    }
   ],
   "source": [
    "%%typecheck\n",
    "# Повышаем тип возвращаемого значения\n",
    "\n",
    "import collections.abc as abc\n",
    "\n",
    "def f(a: abc.Callable[[int], int]):\n",
    "    pass\n",
    "\n",
    "def g(a: int) -> float:\n",
    "    return a\n",
    "\n",
    "f(g)"
   ]
  },
  {
   "cell_type": "code",
   "execution_count": 68,
   "metadata": {
    "cell_style": "split",
    "collapsed": true,
    "editable": true,
    "jupyter": {
     "outputs_hidden": true
    },
    "pycharm": {
     "name": "#%%\n"
    },
    "scrolled": true,
    "slideshow": {
     "slide_type": ""
    },
    "tags": []
   },
   "outputs": [
    {
     "name": "stdout",
     "output_type": "stream",
     "text": [
      "\u001b[1m\u001b[32mSuccess: no issues found in 1 source file\u001b[m\n"
     ]
    }
   ],
   "source": [
    "%%typecheck\n",
    "# Понижаем тип возвращаемого значения\n",
    "\n",
    "import collections.abc as abc\n",
    "\n",
    "def f(a: abc.Callable[[int], float]):\n",
    "    pass\n",
    "\n",
    "def g(a: int) -> int:\n",
    "    return a\n",
    "\n",
    "f(g)"
   ]
  },
  {
   "cell_type": "markdown",
   "metadata": {
    "editable": true,
    "pycharm": {
     "name": "#%% md\n"
    },
    "slideshow": {
     "slide_type": "fragment"
    },
    "tags": []
   },
   "source": [
    "### Какая вариантность Callable по аргументам? По возвращаемому значению?"
   ]
  },
  {
   "cell_type": "markdown",
   "metadata": {
    "editable": true,
    "pycharm": {
     "name": "#%% md\n"
    },
    "slideshow": {
     "slide_type": "slide"
    },
    "tags": []
   },
   "source": [
    "### Создание собственных Generic классов"
   ]
  },
  {
   "cell_type": "code",
   "execution_count": 69,
   "metadata": {
    "editable": true,
    "slideshow": {
     "slide_type": ""
    },
    "tags": []
   },
   "outputs": [
    {
     "name": "stdout",
     "output_type": "stream",
     "text": [
      "Abstract base class for generic types.\n"
     ]
    }
   ],
   "source": [
    "import typing as tp\n",
    "print(tp.Generic.__doc__.split('\\n')[0])"
   ]
  },
  {
   "cell_type": "markdown",
   "metadata": {
    "editable": true,
    "pycharm": {
     "name": "#%% md\n"
    },
    "slideshow": {
     "slide_type": "slide"
    },
    "tags": []
   },
   "source": [
    "### Generic, не так прост как кажется"
   ]
  },
  {
   "cell_type": "code",
   "execution_count": 70,
   "metadata": {
    "cell_style": "split",
    "editable": true,
    "pycharm": {
     "name": "#%%\n"
    },
    "slideshow": {
     "slide_type": ""
    },
    "tags": []
   },
   "outputs": [
    {
     "name": "stdout",
     "output_type": "stream",
     "text": [
      "<string>:8: \u001b[1m\u001b[31merror:\u001b[m Need type annotation for \u001b[m\u001b[1m\"_a\"\u001b[m  \u001b[m\u001b[33m[var-annotated]\u001b[m\n",
      "<string>:9: \u001b[34mnote:\u001b[m Revealed type is \u001b[m\u001b[1m\"builtins.str\"\u001b[m\u001b[m\n",
      "<string>:9: \u001b[34mnote:\u001b[m Revealed type is \u001b[m\u001b[1m\"Any\"\u001b[m\u001b[m\n",
      "<string>:12: \u001b[34mnote:\u001b[m Revealed type is \u001b[m\u001b[1m\"Any\"\u001b[m\u001b[m\n",
      "<string>:17: \u001b[34mnote:\u001b[m Revealed type is \u001b[m\u001b[1m\"__main__.A\"\u001b[m\u001b[m\n",
      "<string>:19: \u001b[34mnote:\u001b[m Revealed type is \u001b[m\u001b[1m\"builtins.str\"\u001b[m\u001b[m\n",
      "\u001b[1m\u001b[31mFound 1 error in 1 file (checked 1 source file)\u001b[m\n"
     ]
    }
   ],
   "source": [
    "%%typecheck\n",
    "import typing as tp\n",
    "\n",
    "# Используем тайпвар, как будто пишем дженерик функцию - не работает\n",
    "\n",
    "T = tp.TypeVar(\"T\", str, int)\n",
    "\n",
    "class A:\n",
    "    def __init__(self, a: T) -> None:\n",
    "        self._a = a\n",
    "        reveal_type(self._a)\n",
    "        \n",
    "    def am(self) -> T:\n",
    "        reveal_type(self._a)\n",
    "        return self._a + self._a\n",
    "\n",
    "    \n",
    "a = A(1)\n",
    "reveal_type(a)\n",
    "b = a.am()\n",
    "reveal_type(b)"
   ]
  },
  {
   "cell_type": "code",
   "execution_count": 71,
   "metadata": {
    "cell_style": "split",
    "editable": true,
    "pycharm": {
     "name": "#%%\n"
    },
    "scrolled": true,
    "slideshow": {
     "slide_type": ""
    },
    "tags": []
   },
   "outputs": [
    {
     "name": "stdout",
     "output_type": "stream",
     "text": [
      "<string>:9: \u001b[34mnote:\u001b[m Revealed type is \u001b[m\u001b[1m\"builtins.int\"\u001b[m\u001b[m\n",
      "<string>:9: \u001b[34mnote:\u001b[m Revealed type is \u001b[m\u001b[1m\"builtins.str\"\u001b[m\u001b[m\n",
      "<string>:12: \u001b[34mnote:\u001b[m Revealed type is \u001b[m\u001b[1m\"builtins.int\"\u001b[m\u001b[m\n",
      "<string>:12: \u001b[34mnote:\u001b[m Revealed type is \u001b[m\u001b[1m\"builtins.str\"\u001b[m\u001b[m\n",
      "<string>:17: \u001b[34mnote:\u001b[m Revealed type is \u001b[m\u001b[1m\"__main__.A[builtins.int]\"\u001b[m\u001b[m\n",
      "<string>:19: \u001b[34mnote:\u001b[m Revealed type is \u001b[m\u001b[1m\"builtins.int\"\u001b[m\u001b[m\n",
      "<string>:22: \u001b[34mnote:\u001b[m Revealed type is \u001b[m\u001b[1m\"__main__.A[builtins.str]\"\u001b[m\u001b[m\n",
      "<string>:24: \u001b[34mnote:\u001b[m Revealed type is \u001b[m\u001b[1m\"builtins.str\"\u001b[m\u001b[m\n",
      "\u001b[1m\u001b[32mSuccess: no issues found in 1 source file\u001b[m\n"
     ]
    }
   ],
   "source": [
    "%%typecheck\n",
    "import typing as tp\n",
    "\n",
    "T = tp.TypeVar(\"T\", int, str)\n",
    "\n",
    "class A(tp.Generic[T]):    \n",
    "    def __init__(self, a: T) -> None:\n",
    "        self._a: T = a\n",
    "        reveal_type(self._a)\n",
    "        \n",
    "    def am(self) -> T:\n",
    "        reveal_type(self._a)\n",
    "        return self._a\n",
    "\n",
    "\n",
    "a = A(1)\n",
    "reveal_type(a)\n",
    "b = a.am()\n",
    "reveal_type(b)\n",
    "\n",
    "c = A(\"hello\")\n",
    "reveal_type(c)\n",
    "d = c.am()\n",
    "reveal_type(d)"
   ]
  },
  {
   "cell_type": "code",
   "execution_count": 72,
   "metadata": {
    "cell_style": "split",
    "collapsed": true,
    "editable": true,
    "jupyter": {
     "outputs_hidden": true
    },
    "pycharm": {
     "name": "#%%\n"
    },
    "slideshow": {
     "slide_type": ""
    },
    "tags": []
   },
   "outputs": [
    {
     "name": "stdout",
     "output_type": "stream",
     "text": [
      "<string>:17: \u001b[34mnote:\u001b[m Revealed type is \u001b[m\u001b[1m\"__main__.A[builtins.int]\"\u001b[m\u001b[m\n",
      "<string>:20: \u001b[1m\u001b[31merror:\u001b[m Argument 1 to \u001b[m\u001b[1m\"add\"\u001b[m of \u001b[m\u001b[1m\"A\"\u001b[m has incompatible type \u001b[m\u001b[1m\"str\"\u001b[m; expected \u001b[m\u001b[1m\"float\"\u001b[m  \u001b[m\u001b[33m[arg-type]\u001b[m\n",
      "\u001b[1m\u001b[31mFound 1 error in 1 file (checked 1 source file)\u001b[m\n"
     ]
    }
   ],
   "source": [
    "%%typecheck\n",
    "\n",
    "import typing as tp\n",
    "\n",
    "T = tp.TypeVar(\"T\")\n",
    "\n",
    "class A(tp.Generic[T]):\n",
    "    def __init__(self) -> None:\n",
    "        self._a: list[T] = []\n",
    "        \n",
    "    def add(self, a: T) -> None:\n",
    "        self._a.append(a)\n",
    "\n",
    "\n",
    "a: A[int] = A()\n",
    "a.add(1)\n",
    "reveal_type(a)\n",
    "\n",
    "b: A[float] = A()\n",
    "b.add(\"sss\")"
   ]
  },
  {
   "cell_type": "markdown",
   "metadata": {
    "editable": true,
    "pycharm": {
     "name": "#%% md\n"
    },
    "slideshow": {
     "slide_type": "slide"
    },
    "tags": []
   },
   "source": [
    "###  Переменные классов, Type"
   ]
  },
  {
   "cell_type": "code",
   "execution_count": 90,
   "metadata": {
    "editable": true,
    "pycharm": {
     "name": "#%%\n"
    },
    "slideshow": {
     "slide_type": ""
    },
    "tags": []
   },
   "outputs": [
    {
     "name": "stdout",
     "output_type": "stream",
     "text": [
      "Deprecated alias to builtins.type.\n"
     ]
    }
   ],
   "source": [
    "# https://www.python.org/dev/peps/pep-0484/#the-type-of-class-objects\n",
    "\n",
    "import typing as tp\n",
    "print(tp.Type.__doc__.split(\"\\n\")[0])"
   ]
  },
  {
   "cell_type": "code",
   "execution_count": 91,
   "metadata": {
    "collapsed": true,
    "editable": true,
    "jupyter": {
     "outputs_hidden": true
    },
    "pycharm": {
     "name": "#%%\n"
    },
    "slideshow": {
     "slide_type": ""
    },
    "tags": []
   },
   "outputs": [
    {
     "name": "stdout",
     "output_type": "stream",
     "text": [
      "\u001b[1m\u001b[32mSuccess: no issues found in 1 source file\u001b[m\n"
     ]
    }
   ],
   "source": [
    "%%typecheck\n",
    "\n",
    "import typing as tp\n",
    "\n",
    "a: tp.Type[int] = int\n",
    "\n",
    "class B:\n",
    "    pass\n",
    "\n",
    "b: tp.Type[B] = B"
   ]
  },
  {
   "cell_type": "markdown",
   "metadata": {
    "editable": true,
    "pycharm": {
     "name": "#%% md\n"
    },
    "slideshow": {
     "slide_type": "slide"
    },
    "tags": []
   },
   "source": [
    "###  Type, пример"
   ]
  },
  {
   "cell_type": "code",
   "execution_count": 92,
   "metadata": {
    "cell_style": "split",
    "collapsed": true,
    "editable": true,
    "jupyter": {
     "outputs_hidden": true
    },
    "pycharm": {
     "name": "#%%\n"
    },
    "scrolled": true,
    "slideshow": {
     "slide_type": ""
    },
    "tags": []
   },
   "outputs": [
    {
     "name": "stdout",
     "output_type": "stream",
     "text": [
      "<string>:14: \u001b[1m\u001b[31merror:\u001b[m Argument 1 to \u001b[m\u001b[1m\"foo\"\u001b[m has incompatible type \u001b[m\u001b[1m\"A\"\u001b[m; expected \u001b[m\u001b[1m\"type[A]\"\u001b[m  \u001b[m\u001b[33m[arg-type]\u001b[m\n",
      "<string>:16: \u001b[1m\u001b[31merror:\u001b[m Argument 1 to \u001b[m\u001b[1m\"foo\"\u001b[m has incompatible type \u001b[m\u001b[1m\"B\"\u001b[m; expected \u001b[m\u001b[1m\"type[A]\"\u001b[m  \u001b[m\u001b[33m[arg-type]\u001b[m\n",
      "\u001b[1m\u001b[31mFound 2 errors in 1 file (checked 1 source file)\u001b[m\n"
     ]
    }
   ],
   "source": [
    "%%typecheck\n",
    "import typing as tp\n",
    "\n",
    "class A:\n",
    "    pass\n",
    "\n",
    "class B(A):\n",
    "    pass\n",
    "\n",
    "def foo(a: tp.Type[A]) -> None:\n",
    "    pass\n",
    "\n",
    "\n",
    "foo(A())\n",
    "foo(A)\n",
    "foo(B())\n",
    "foo(B)"
   ]
  },
  {
   "cell_type": "code",
   "execution_count": 93,
   "metadata": {
    "cell_style": "split",
    "collapsed": true,
    "editable": true,
    "jupyter": {
     "outputs_hidden": true
    },
    "pycharm": {
     "name": "#%%\n"
    },
    "slideshow": {
     "slide_type": ""
    },
    "tags": []
   },
   "outputs": [
    {
     "name": "stdout",
     "output_type": "stream",
     "text": [
      "<string>:16: \u001b[34mnote:\u001b[m Revealed type is \u001b[m\u001b[1m\"__main__.A\"\u001b[m\u001b[m\n",
      "<string>:17: \u001b[34mnote:\u001b[m Revealed type is \u001b[m\u001b[1m\"__main__.A\"\u001b[m\u001b[m\n",
      "\u001b[1m\u001b[32mSuccess: no issues found in 1 source file\u001b[m\n"
     ]
    }
   ],
   "source": [
    "%%typecheck\n",
    "import typing as tp\n",
    "\n",
    "class A:\n",
    "    def __init__(self, a: int) -> None:\n",
    "        self.a = a\n",
    "\n",
    "    @classmethod\n",
    "    def build(cls: tp.Type[A]) -> A:\n",
    "        return cls(1)\n",
    "\n",
    "class B(A):\n",
    "    pass\n",
    "    \n",
    "\n",
    "reveal_type(A.build())\n",
    "reveal_type(B.build())"
   ]
  },
  {
   "cell_type": "markdown",
   "metadata": {
    "editable": true,
    "slideshow": {
     "slide_type": ""
    },
    "tags": []
   },
   "source": [
    "### Ограничение TypeVar без необходимости перечислять все варианты"
   ]
  },
  {
   "cell_type": "code",
   "execution_count": 95,
   "metadata": {
    "collapsed": true,
    "editable": true,
    "jupyter": {
     "outputs_hidden": true
    },
    "slideshow": {
     "slide_type": ""
    },
    "tags": []
   },
   "outputs": [
    {
     "name": "stdout",
     "output_type": "stream",
     "text": [
      "<string>:12: \u001b[1m\u001b[31merror:\u001b[m Too many arguments for \u001b[m\u001b[1m\"object\"\u001b[m  \u001b[m\u001b[33m[call-arg]\u001b[m\n",
      "<string>:18: \u001b[34mnote:\u001b[m Revealed type is \u001b[m\u001b[1m\"__main__.A\"\u001b[m\u001b[m\n",
      "<string>:19: \u001b[34mnote:\u001b[m Revealed type is \u001b[m\u001b[1m\"__main__.B\"\u001b[m\u001b[m\n",
      "\u001b[1m\u001b[31mFound 1 error in 1 file (checked 1 source file)\u001b[m\n"
     ]
    }
   ],
   "source": [
    "%%typecheck\n",
    "import typing as tp\n",
    "\n",
    "T = tp.TypeVar('T')\n",
    "\n",
    "class A:\n",
    "    def __init__(self, a: int) -> None:\n",
    "        self.a = a\n",
    "\n",
    "    @classmethod\n",
    "    def build(cls: tp.Type[T]) -> T:\n",
    "        return cls(1)\n",
    "\n",
    "class B(A):\n",
    "    pass\n",
    "    \n",
    "\n",
    "reveal_type(A.build())\n",
    "reveal_type(B.build())"
   ]
  },
  {
   "cell_type": "markdown",
   "metadata": {
    "editable": true,
    "pycharm": {
     "name": "#%% md\n"
    },
    "slideshow": {
     "slide_type": "fragment"
    },
    "tags": []
   },
   "source": [
    "###  Какая вариантность у Type?"
   ]
  },
  {
   "cell_type": "markdown",
   "metadata": {
    "editable": true,
    "pycharm": {
     "name": "#%% md\n"
    },
    "slideshow": {
     "slide_type": "slide"
    },
    "tags": []
   },
   "source": [
    "### Типы → Nominal subtyping"
   ]
  },
  {
   "cell_type": "raw",
   "metadata": {
    "pycharm": {
     "name": "#%% raw\n"
    }
   },
   "source": [
    "Примеры:\n",
    "* int -> bool\n",
    "* Sequence -> MutableSequence\n",
    "* object -> все\n",
    "* A -> B\n",
    "\n",
    "class A:\n",
    "    pass\n",
    "    \n",
    "class B(A):\n",
    "    pass"
   ]
  },
  {
   "cell_type": "markdown",
   "metadata": {
    "pycharm": {
     "name": "#%% md\n"
    },
    "slideshow": {
     "slide_type": "fragment"
    }
   },
   "source": [
    "### Типы → Structural subtyping, немного черной магии"
   ]
  },
  {
   "cell_type": "raw",
   "metadata": {
    "pycharm": {
     "name": "#%% raw\n"
    }
   },
   "source": [
    "Примеры: \n",
    "* Ecли у A есть метод __iter__, то Iterable -> A\n",
    "* Если у А есть метод __len__, то Sized -> A\n",
    "* Если у А есть метод __call__, то Callable -> A"
   ]
  },
  {
   "cell_type": "markdown",
   "metadata": {},
   "source": [
    "В целом, в питончике творится черная магия с числовыми типами. Есть специальная [иерархия абстрактных типов](https://peps.python.org/pep-3141/) для чисел. А обычные числовые типы являются не прямыми наследниками друг драга, а скорее [структурными](https://mypy.readthedocs.io/en/latest/duck_type_compatibility.html)."
   ]
  },
  {
   "cell_type": "code",
   "execution_count": 45,
   "metadata": {},
   "outputs": [
    {
     "data": {
      "text/plain": [
       "(True, True, False)"
      ]
     },
     "execution_count": 45,
     "metadata": {},
     "output_type": "execute_result"
    }
   ],
   "source": [
    "from numbers import Real, Integral\n",
    "\n",
    "isinstance(1, Real), isinstance(1, Integral), isinstance(1.1, Integral)"
   ]
  },
  {
   "cell_type": "code",
   "execution_count": 46,
   "metadata": {},
   "outputs": [
    {
     "data": {
      "text/plain": [
       "(True, False, False)"
      ]
     },
     "execution_count": 46,
     "metadata": {},
     "output_type": "execute_result"
    }
   ],
   "source": [
    "issubclass(float, Real), issubclass(int, float), issubclass(float, Integral)"
   ]
  },
  {
   "cell_type": "markdown",
   "metadata": {},
   "source": [
    "Если кому-то интересно что за чертовщина происходит в ячейке ниже, велкам [в доку](https://peps.python.org/pep-0544/#existing-approaches-to-structural-subtyping). А вообще, с хеллоуином вас, товарищи!"
   ]
  },
  {
   "cell_type": "code",
   "execution_count": 51,
   "metadata": {},
   "outputs": [
    {
     "name": "stdout",
     "output_type": "stream",
     "text": [
      "\u001b[1m\u001b[32mSuccess: no issues found in 1 source file\u001b[m\n"
     ]
    }
   ],
   "source": [
    "%%typecheck\n",
    "\n",
    "from abc import ABC, abstractmethod\n",
    "\n",
    "class MyAbstract(ABC):\n",
    "    @abstractmethod\n",
    "    def haha(self) -> str:\n",
    "        pass\n",
    "\n",
    "class A:\n",
    "    pass\n",
    "\n",
    "MyAbstract.register(A)\n",
    "\n",
    "isinstance(A(), MyAbstract)"
   ]
  },
  {
   "cell_type": "markdown",
   "metadata": {
    "pycharm": {
     "name": "#%% md\n"
    },
    "slideshow": {
     "slide_type": "slide"
    }
   },
   "source": [
    "### Structural subtyping, примеры"
   ]
  },
  {
   "cell_type": "code",
   "execution_count": 21,
   "metadata": {
    "cell_style": "split",
    "pycharm": {
     "name": "#%%\n"
    }
   },
   "outputs": [
    {
     "name": "stdout",
     "output_type": "stream",
     "text": [
      "\u001b[1m\u001b[32mSuccess: no issues found in 1 source file\u001b[m\n"
     ]
    }
   ],
   "source": [
    "%%typecheck\n",
    "import collections.abc as abc\n",
    "import typing as tp\n",
    "# проставьте тайпинг, чтобы не упало\n",
    "\n",
    "def validate_size(a, n) -> None:\n",
    "    if (a_len := len(a)) > n:\n",
    "        raise ValueError(\n",
    "            f\"Structure length {a_len} is greater then expected {n}\"\n",
    "        )\n",
    "\n",
    "        \n",
    "validate_size([10, 11], 1)\n",
    "validate_size(1010, 1)"
   ]
  },
  {
   "cell_type": "code",
   "execution_count": 22,
   "metadata": {
    "cell_style": "split",
    "pycharm": {
     "name": "#%%\n"
    }
   },
   "outputs": [
    {
     "name": "stdout",
     "output_type": "stream",
     "text": [
      "\u001b[1m\u001b[32mSuccess: no issues found in 1 source file\u001b[m\n"
     ]
    }
   ],
   "source": [
    "%%typecheck\n",
    "import collections.abc as abc\n",
    "import typing as tp\n",
    "# проставьте тайпинг, чтобы не упало\n",
    "\n",
    "def validate_size(a, n) -> None:\n",
    "    if (a_len := len(a)) > n:\n",
    "        raise ValueError(\n",
    "            f\"Structure length {a_len} is greater then expected {n}\"\n",
    "        )\n",
    "\n",
    "        \n",
    "validate_size([10, 11], 1)\n",
    "validate_size((1, 3, 10), 1)\n",
    "validate_size(1010, 1)\n"
   ]
  },
  {
   "cell_type": "code",
   "execution_count": 23,
   "metadata": {
    "cell_style": "split",
    "pycharm": {
     "name": "#%%\n"
    }
   },
   "outputs": [
    {
     "name": "stdout",
     "output_type": "stream",
     "text": [
      "\u001b[1m\u001b[32mSuccess: no issues found in 1 source file\u001b[m\n"
     ]
    }
   ],
   "source": [
    "%%typecheck\n",
    "import collections.abc as abc\n",
    "import typing as tp\n",
    "# проставьте тайпинг, чтобы не упало\n",
    "\n",
    "def validate_size(a, n) -> None:\n",
    "    if (a_len := len(a)) > n:\n",
    "        raise ValueError(\n",
    "            f\"Structure length {a_len} is greater then expected {n}\"\n",
    "        )\n",
    "        \n",
    "validate_size([10, 11], 1)\n",
    "validate_size((1, 3, 10), 1)\n",
    "validate_size({1, 3, 10}, 1)\n",
    "validate_size(1010, 1)"
   ]
  },
  {
   "cell_type": "code",
   "execution_count": 24,
   "metadata": {
    "cell_style": "split",
    "pycharm": {
     "name": "#%%\n"
    },
    "scrolled": true
   },
   "outputs": [
    {
     "name": "stdout",
     "output_type": "stream",
     "text": [
      "\u001b[1m\u001b[32mSuccess: no issues found in 1 source file\u001b[m\n"
     ]
    }
   ],
   "source": [
    "%%typecheck\n",
    "import collections.abc as abc\n",
    "import typing as tp\n",
    "# проставьте тайпинг, чтобы не упало\n",
    "\n",
    "class A:\n",
    "    def __len__(self):\n",
    "        return 1\n",
    "\n",
    "def validate_size(a, n) -> None:\n",
    "    if (a_len := len(a)) > n:\n",
    "        raise ValueError(\n",
    "            f\"Structure length {a_len} is greater then expected {n}\"\n",
    "        )\n",
    "        \n",
    "validate_size([10, 11], 1)\n",
    "validate_size((1, 3, 10), 1)\n",
    "validate_size({1, 3, 10}, 1)\n",
    "validate_size(A(), 1)\n",
    "validate_size(1010, 1)\n",
    "\n"
   ]
  },
  {
   "cell_type": "markdown",
   "metadata": {
    "pycharm": {
     "name": "#%% md\n"
    },
    "slideshow": {
     "slide_type": "slide"
    }
   },
   "source": [
    "### Собственный Structural Subtping - Protocol"
   ]
  },
  {
   "cell_type": "code",
   "execution_count": 25,
   "metadata": {
    "cell_style": "split",
    "pycharm": {
     "name": "#%%\n"
    },
    "scrolled": true
   },
   "outputs": [
    {
     "name": "stdout",
     "output_type": "stream",
     "text": [
      "<string>:15: \u001b[34mnote:\u001b[m Revealed type is \u001b[m\u001b[1m\"Any\"\u001b[m\u001b[m\n",
      "\u001b[1m\u001b[32mSuccess: no issues found in 1 source file\u001b[m\n"
     ]
    }
   ],
   "source": [
    "%%typecheck\n",
    "\n",
    "class A:\n",
    "    def close(self):\n",
    "        print(\"Close enough\")\n",
    "\n",
    "class B:\n",
    "    pass\n",
    "\n",
    "\n",
    "c = open(\"my_file\")\n",
    "\n",
    "\n",
    "def foo(a) -> None:\n",
    "    reveal_type(a)\n",
    "    a.close()\n",
    "\n",
    "\n",
    "foo(A())\n",
    "foo(B())\n",
    "foo(c)"
   ]
  },
  {
   "cell_type": "code",
   "execution_count": 26,
   "metadata": {
    "cell_style": "split",
    "collapsed": true,
    "jupyter": {
     "outputs_hidden": true
    },
    "pycharm": {
     "name": "#%%\n"
    },
    "scrolled": true
   },
   "outputs": [
    {
     "name": "stdout",
     "output_type": "stream",
     "text": [
      "<string>:23: \u001b[34mnote:\u001b[m Revealed type is \u001b[m\u001b[1m\"__main__.Closeable\"\u001b[m\u001b[m\n",
      "<string>:28: \u001b[1m\u001b[31merror:\u001b[m Argument 1 to \u001b[m\u001b[1m\"foo\"\u001b[m has incompatible type \u001b[m\u001b[1m\"B\"\u001b[m; expected \u001b[m\u001b[1m\"Closeable\"\u001b[m  \u001b[m\u001b[33m[arg-type]\u001b[m\n",
      "\u001b[1m\u001b[31mFound 1 error in 1 file (checked 1 source file)\u001b[m\n"
     ]
    }
   ],
   "source": [
    "%%typecheck\n",
    "\n",
    "import typing as tp\n",
    "\n",
    "\n",
    "class Closeable(tp.Protocol):\n",
    "    def close(self) -> None:\n",
    "        pass\n",
    "    \n",
    "\n",
    "class A:\n",
    "    def close(self):\n",
    "        print(\"Close enough\")\n",
    "\n",
    "class B:\n",
    "    pass\n",
    "\n",
    "\n",
    "c = open(\"my_file\")\n",
    "\n",
    "\n",
    "def foo(a: Closeable) -> None:\n",
    "    reveal_type(a)\n",
    "    a.close()\n",
    "\n",
    "\n",
    "foo(A())\n",
    "foo(B())\n",
    "foo(c)"
   ]
  },
  {
   "cell_type": "markdown",
   "metadata": {
    "pycharm": {
     "name": "#%% md\n"
    },
    "slideshow": {
     "slide_type": "slide"
    }
   },
   "source": [
    "### Protocol and isinstance, runtime_checkable"
   ]
  },
  {
   "cell_type": "code",
   "execution_count": 27,
   "metadata": {
    "pycharm": {
     "name": "#%%\n"
    },
    "slideshow": {
     "slide_type": "-"
    }
   },
   "outputs": [
    {
     "data": {
      "text/plain": [
       "True"
      ]
     },
     "execution_count": 27,
     "metadata": {},
     "output_type": "execute_result"
    }
   ],
   "source": [
    "import typing as tp\n",
    "\n",
    "# Note that instance checks are not 100% reliable statically, this is why this behavior is opt-in, see section on rejected ideas for examples.\n",
    "# @see https://peps.python.org/pep-0544/#runtime-checkable-decorator-and-narrowing-types-by-isinstance\n",
    "\n",
    "@tp.runtime_checkable\n",
    "class Closeable(tp.Protocol):\n",
    "    def close(self) -> None:\n",
    "        pass\n",
    "\n",
    "\n",
    "class A:\n",
    "    def close(self):\n",
    "        print(\"Close enough\")\n",
    "\n",
    "isinstance(A(), Closeable)"
   ]
  },
  {
   "cell_type": "markdown",
   "metadata": {
    "pycharm": {
     "name": "#%% md\n"
    },
    "slideshow": {
     "slide_type": "slide"
    }
   },
   "source": [
    "### Пример готового Generic + Protocol, просто чтобы вас запутать"
   ]
  },
  {
   "cell_type": "code",
   "execution_count": 29,
   "metadata": {
    "collapsed": true,
    "jupyter": {
     "outputs_hidden": true
    },
    "pycharm": {
     "name": "#%%\n"
    },
    "scrolled": true,
    "slideshow": {
     "slide_type": "-"
    }
   },
   "outputs": [
    {
     "name": "stdout",
     "output_type": "stream",
     "text": [
      "<string>:20: \u001b[1m\u001b[31merror:\u001b[m Argument 1 to \u001b[m\u001b[1m\"foo\"\u001b[m has incompatible type \u001b[m\u001b[1m\"A\"\u001b[m; expected \u001b[m\u001b[1m\"Iterable[int]\"\u001b[m  \u001b[m\u001b[33m[arg-type]\u001b[m\n",
      "<string>:26: \u001b[1m\u001b[31merror:\u001b[m Argument 1 to \u001b[m\u001b[1m\"foo\"\u001b[m has incompatible type \u001b[m\u001b[1m\"B[str]\"\u001b[m; expected \u001b[m\u001b[1m\"Iterable[int]\"\u001b[m  \u001b[m\u001b[33m[arg-type]\u001b[m\n",
      "\u001b[1m\u001b[31mFound 2 errors in 1 file (checked 1 source file)\u001b[m\n"
     ]
    }
   ],
   "source": [
    "%%typecheck\n",
    "\n",
    "import typing as tp\n",
    "import collections.abc as abc\n",
    "\n",
    "def foo(s: abc.Iterable[int]) -> None:\n",
    "    pass\n",
    "\n",
    "class A:\n",
    "    pass\n",
    "\n",
    "T = tp.TypeVar(\"T\")\n",
    "\n",
    "class B(tp.Generic[T]):\n",
    "    def __iter__(self) -> abc.Iterator[T]:\n",
    "        return iter([])\n",
    "    \n",
    "\n",
    "\n",
    "foo(A())\n",
    "\n",
    "b: B[int] = B()\n",
    "foo(b)\n",
    "\n",
    "c: B[str] = B()\n",
    "foo(c)\n",
    "\n",
    "foo([])"
   ]
  },
  {
   "cell_type": "code",
   "execution_count": null,
   "metadata": {},
   "outputs": [],
   "source": []
  }
 ],
 "metadata": {
  "celltoolbar": "Slideshow",
  "kernelspec": {
   "display_name": "Python 3 (ipykernel)",
   "language": "python",
   "name": "python3"
  },
  "language_info": {
   "codemirror_mode": {
    "name": "ipython",
    "version": 3
   },
   "file_extension": ".py",
   "mimetype": "text/x-python",
   "name": "python",
   "nbconvert_exporter": "python",
   "pygments_lexer": "ipython3",
   "version": "3.11.5"
  },
  "rise": {
   "enable_chalkboard": true,
   "footer": "<p style=\"margin: 5px; color: #a0a0a0\">YSDA Python Course</p>",
   "scroll": true,
   "start_slideshow_at": "selected",
   "theme": "serif",
   "transition": "none"
  }
 },
 "nbformat": 4,
 "nbformat_minor": 4
}
