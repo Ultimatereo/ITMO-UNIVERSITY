{
 "cells": [
  {
   "cell_type": "code",
   "execution_count": 1,
   "metadata": {
    "pycharm": {
     "name": "#%%\n"
    },
    "slideshow": {
     "slide_type": "skip"
    }
   },
   "outputs": [
    {
     "data": {
      "text/html": [
       "<style>\n",
       ".language-cpp {\n",
       "  height: auto;\n",
       "  width: auto;\n",
       "  min-height: 100% !important;\n",
       "  min-widthh: 100% !important;\n",
       "}\n",
       ".rise-enabled {\n",
       "  background-color: #fff !important;\n",
       "}\n",
       ".reveal pre code {\n",
       "  line-height: 1.1em;\n",
       "  max-height: 768px;\n",
       "  max-width: 2048px;\n",
       "}\n",
       ".rendered_html pre, .rendered_html code {\n",
       "  font-size: 100%;\n",
       "}\n",
       "</style>\n"
      ],
      "text/plain": [
       "<IPython.core.display.HTML object>"
      ]
     },
     "metadata": {},
     "output_type": "display_data"
    }
   ],
   "source": [
    "%%html\n",
    "<style>\n",
    ".language-cpp {\n",
    "  height: auto;\n",
    "  width: auto;\n",
    "  min-height: 100% !important;\n",
    "  min-widthh: 100% !important;\n",
    "}\n",
    ".reveal pre code {\n",
    "  line-height: 1.1em;\n",
    "  max-height: 768px;\n",
    "  max-width: 2048px;\n",
    "}\n",
    ".rendered_html pre, .rendered_html code {\n",
    "  font-size: 100%;\n",
    "}\n",
    "</style>"
   ]
  },
  {
   "cell_type": "markdown",
   "metadata": {
    "pycharm": {
     "name": "#%% md\n"
    },
    "slideshow": {
     "slide_type": "slide"
    }
   },
   "source": [
    "<center>\n",
    "    <img src=\"https://upload.wikimedia.org/wikipedia/commons/a/a8/%D0%9B%D0%9E%D0%93%D0%9E_%D0%A8%D0%90%D0%94.png\" width=500px/>\n",
    "    <font>Python 2020</font><br/>\n",
    "    <br/>\n",
    "    <br/>\n",
    "    <b style=\"font-size: 2em\">Bindings & Extensions</b><br/>\n",
    "    <br/>\n",
    "    <font>Мирон Левков</font><br/>\n",
    "</center>"
   ]
  },
  {
   "cell_type": "markdown",
   "metadata": {
    "pycharm": {
     "name": "#%% md\n"
    },
    "slideshow": {
     "slide_type": "-"
    }
   },
   "source": [
    "<center>\n",
    "    ![img](attachment:img/bindings_1.jpg)\n",
    "</center>"
   ]
  },
  {
   "cell_type": "markdown",
   "metadata": {
    "pycharm": {
     "name": "#%% md\n"
    },
    "slideshow": {
     "slide_type": "slide"
    }
   },
   "source": [
    "# Problems:\n",
    "* You have lots of useful C/C++ code\n",
    "* You want use C++ in your app bottleneck"
   ]
  },
  {
   "cell_type": "markdown",
   "metadata": {
    "pycharm": {
     "name": "#%% md\n"
    },
    "slideshow": {
     "slide_type": "slide"
    }
   },
   "source": [
    "# Extensions"
   ]
  },
  {
   "cell_type": "markdown",
   "metadata": {
    "pycharm": {
     "name": "#%% md\n"
    },
    "slideshow": {
     "slide_type": "slide"
    }
   },
   "source": [
    "1. Take C++ code\n",
    "2. Define interaction between C++ and Py\n",
    "3. Compile it as shared library\n",
    "4. Use in Py code\n"
   ]
  },
  {
   "cell_type": "markdown",
   "metadata": {
    "pycharm": {
     "name": "#%% md\n"
    },
    "slideshow": {
     "slide_type": "slide"
    }
   },
   "source": [
    "```cpp\n",
    "#include <string>\n",
    "\n",
    "class EmptyArgumentException : public std::runtime_error {\n",
    "    using std::runtime_error::runtime_error;\n",
    "};\n",
    "\n",
    "std::string cpp_concat(const std::string& l, const std::string& r) {\n",
    "    if (l.empty() || r.empty()) {\n",
    "        throw EmptyArgumentException{\"Empty argument passed\"};\n",
    "    }\n",
    "    return l + r;\n",
    "}\n",
    "```"
   ]
  },
  {
   "cell_type": "markdown",
   "metadata": {
    "pycharm": {
     "name": "#%% md\n"
    },
    "slideshow": {
     "slide_type": "slide"
    }
   },
   "source": [
    "### Describe py function\n",
    "```cpp\n",
    "static PyObject* py_concat(PyObject* /* self */, PyObject* args) {\n",
    "    PyObject* result = NULL;\n",
    "    return result;\n",
    "}\n",
    "```"
   ]
  },
  {
   "cell_type": "markdown",
   "metadata": {
    "pycharm": {
     "name": "#%% md\n"
    },
    "slideshow": {
     "slide_type": "slide"
    }
   },
   "source": [
    "### Describe py function\n",
    "```cpp\n",
    "static PyObject* py_concat(PyObject* /* self */, PyObject* args) {\n",
    "    PyObject* result = NULL;\n",
    "    const char *l, *r;\n",
    "    if (!PyArg_ParseTuple(args, \"ss\", &l, &r)) {\n",
    "        return NULL;\n",
    "    }\n",
    "    return result;\n",
    "}\n",
    "```"
   ]
  },
  {
   "cell_type": "markdown",
   "metadata": {
    "pycharm": {
     "name": "#%% md\n"
    },
    "slideshow": {
     "slide_type": "slide"
    }
   },
   "source": [
    "### Describe py function\n",
    "```cpp\n",
    "static PyObject* py_concat(PyObject* /* self */, PyObject* args) {\n",
    "    PyObject* result = NULL;\n",
    "    const char *l, *r;\n",
    "    if (!PyArg_ParseTuple(args, \"ss\", &l, &r)) {\n",
    "        return NULL;\n",
    "    }\n",
    "    \n",
    "    auto concatenated = cpp_concat({l}, {r});\n",
    "    result = Py_BuildValue(\"s\", concatenated.data());\n",
    "    if (result == NULL) {\n",
    "        return result;\n",
    "    }\n",
    "    return result;\n",
    "}\n",
    "```"
   ]
  },
  {
   "cell_type": "markdown",
   "metadata": {
    "pycharm": {
     "name": "#%% md\n"
    },
    "slideshow": {
     "slide_type": "slide"
    }
   },
   "source": [
    "### Describe py function\n",
    "```cpp\n",
    "static PyObject* py_concat(PyObject* /* self */, PyObject* args) {\n",
    "    PyObject* result = NULL;\n",
    "    const char *l, *r;\n",
    "    if (!PyArg_ParseTuple(args, \"ss\", &l, &r)) {\n",
    "        return NULL;\n",
    "    }\n",
    "    \n",
    "    try {\n",
    "        auto concatenated = cpp_concat({l}, {r});\n",
    "        result = Py_BuildValue(\"s\", concatenated.data());\n",
    "        if (result == NULL) {\n",
    "            return result;\n",
    "        }\n",
    "    } catch (const EmptyArgumentException& e) {\n",
    "        PyErr_SetString(PyExc_RuntimeError, e.what());\n",
    "    }\n",
    "    return result;\n",
    "}\n",
    "```"
   ]
  },
  {
   "cell_type": "markdown",
   "metadata": {
    "pycharm": {
     "name": "#%% md\n"
    },
    "slideshow": {
     "slide_type": "slide"
    }
   },
   "source": [
    "### Describe py module\n",
    "```cpp\n",
    "static PyMethodDef methods[] = {\n",
    "    {\"concat\", py_concat, METH_VARARGS, \"Concat 2 non-empty strings\"},\n",
    "    {NULL, NULL, 0, NULL}        /* Sentinel */\n",
    "};\n",
    "\n",
    "\n",
    "static struct PyModuleDef module = {\n",
    "    PyModuleDef_HEAD_INIT,\n",
    "    \"concat module\",    /* module name */\n",
    "    NULL,               /* documentation, may be NULL */\n",
    "    -1,                 /* size of per-interpreter module state,\n",
    "                         * -1 if the module keeps state in globals\n",
    "                         */\n",
    "    methods\n",
    "};\n",
    "\n",
    "```"
   ]
  },
  {
   "cell_type": "markdown",
   "metadata": {
    "pycharm": {
     "name": "#%% md\n"
    },
    "slideshow": {
     "slide_type": "slide"
    }
   },
   "source": [
    "### Describe py module\n",
    "```cpp\n",
    "// Note: name `_libconcat` will be the name of your module\n",
    "PyMODINIT_FUNC\n",
    "PyInit_libconcat() {\n",
    "    return PyModule_Create(&module);\n",
    "}\n",
    "\n",
    "```"
   ]
  },
  {
   "cell_type": "markdown",
   "metadata": {
    "pycharm": {
     "name": "#%% md\n"
    },
    "slideshow": {
     "slide_type": "slide"
    }
   },
   "source": [
    "### Compile\n",
    "* use python3-config to get flags python was compiled with\n",
    "```bash\n",
    "g++ $(python3-config --cflags --ldflags) -shared --std=c++17 \\\n",
    "concat.cpp -o libconcat.so\n",
    "```"
   ]
  },
  {
   "cell_type": "code",
   "execution_count": 2,
   "metadata": {
    "pycharm": {
     "name": "#%%\n"
    },
    "slideshow": {
     "slide_type": "slide"
    }
   },
   "outputs": [
    {
     "name": "stdout",
     "output_type": "stream",
     "text": [
      "concat module\n",
      "20000\n"
     ]
    },
    {
     "ename": "RuntimeError",
     "evalue": "Empty argument passed",
     "output_type": "error",
     "traceback": [
      "\u001b[0;31m---------------------------------------------------------------------------\u001b[0m",
      "\u001b[0;31mRuntimeError\u001b[0m                              Traceback (most recent call last)",
      "\u001b[0;32m<ipython-input-2-c7d25fcca77e>\u001b[0m in \u001b[0;36m<module>\u001b[0;34m\u001b[0m\n\u001b[1;32m      8\u001b[0m \u001b[0mprint\u001b[0m\u001b[0;34m(\u001b[0m\u001b[0mlen\u001b[0m\u001b[0;34m(\u001b[0m\u001b[0mres\u001b[0m\u001b[0;34m)\u001b[0m\u001b[0;34m)\u001b[0m\u001b[0;34m\u001b[0m\u001b[0;34m\u001b[0m\u001b[0m\n\u001b[1;32m      9\u001b[0m \u001b[0;34m\u001b[0m\u001b[0m\n\u001b[0;32m---> 10\u001b[0;31m \u001b[0mlibconcat\u001b[0m\u001b[0;34m.\u001b[0m\u001b[0mconcat\u001b[0m\u001b[0;34m(\u001b[0m\u001b[0;34m''\u001b[0m\u001b[0;34m,\u001b[0m \u001b[0mr\u001b[0m\u001b[0;34m)\u001b[0m\u001b[0;34m\u001b[0m\u001b[0;34m\u001b[0m\u001b[0m\n\u001b[0m",
      "\u001b[0;31mRuntimeError\u001b[0m: Empty argument passed"
     ]
    }
   ],
   "source": [
    "import libconcat\n",
    "\n",
    "print(libconcat.__name__)\n",
    "\n",
    "l = 'a' * 10000\n",
    "r = 'b' * 10000\n",
    "res = libconcat.concat(l, r)\n",
    "print(len(res))\n",
    "\n",
    "libconcat.concat('', r)"
   ]
  },
  {
   "cell_type": "markdown",
   "metadata": {
    "pycharm": {
     "name": "#%% md\n"
    },
    "slideshow": {
     "slide_type": "slide"
    }
   },
   "source": [
    "# Anything about memory management?"
   ]
  },
  {
   "cell_type": "markdown",
   "metadata": {
    "pycharm": {
     "name": "#%% md\n"
    },
    "slideshow": {
     "slide_type": "slide"
    }
   },
   "source": [
    "```cpp\n",
    "static PyObject* py_concat_list(PyObject* self, PyObject* args) {\n",
    "    PyObject* list;\n",
    "    if (!PyArg_ParseTuple(args, \"O\", &list)) {\n",
    "        return NULL;\n",
    "    }\n",
    "    int n = PyList_Size(list);\n",
    "    if (n < 2) {\n",
    "        Py_DECREF(list);\n",
    "        PyErr_SetString(PyExc_RuntimeError, \"Sequence of len >= 2 required\");\n",
    "        return NULL;\n",
    "    }\n",
    "    for (int i = 0; i < n; ++i) {\n",
    "        /*\n",
    "         * process i-th item somehow\n",
    "         */\n",
    "    }\n",
    "    Py_DECREF(list);\n",
    "    return result;\n",
    "}\n",
    "```"
   ]
  },
  {
   "cell_type": "markdown",
   "metadata": {
    "pycharm": {
     "name": "#%% md\n"
    },
    "slideshow": {
     "slide_type": "slide"
    }
   },
   "source": [
    "### What's inside loop\n",
    "```cpp\n",
    "PyObject *item = NULL, *result = NULL;\n",
    "\n",
    "for (int i = 0; i < n; ++i) {\n",
    "    item = PyList_GetItem(list, i);\n",
    "    if (result == NULL) {\n",
    "        result = item;\n",
    "        continue;\n",
    "    }\n",
    "    \n",
    "    PyObject* subcall_args = Py_BuildValue(\"OO\", result, item);\n",
    "    PyObject* subcall_res = py_concat(self, subcall_args);\n",
    "    if (subcall_res == NULL) {\n",
    "        return NULL;\n",
    "    }\n",
    "    result = subcall_res;\n",
    "}\n",
    "```"
   ]
  },
  {
   "cell_type": "markdown",
   "metadata": {
    "pycharm": {
     "name": "#%% md\n"
    },
    "slideshow": {
     "slide_type": "slide"
    }
   },
   "source": [
    "### What's inside loop\n",
    "```cpp\n",
    "PyObject *item = NULL, *result = NULL;\n",
    "for (int i = 0; i < n; ++i) {\n",
    "    item = PyList_GetItem(list, i);\n",
    "    if (result == NULL) {\n",
    "        result = item;\n",
    "        Py_INCREF(result);\n",
    "        continue;\n",
    "    }\n",
    "    PyObject* subcall_args = Py_BuildValue(\"OO\", result, item);\n",
    "    PyObject* subcall_res = py_concat(self, subcall_args);\n",
    "    Py_DECREF(subcall_args);\n",
    "    Py_XDECREF(result);\n",
    "    if (subcall_res == NULL) {\n",
    "        Py_DECREF(list);\n",
    "        return NULL;\n",
    "    }\n",
    "    result = subcall_res;\n",
    "}\n",
    "```"
   ]
  },
  {
   "cell_type": "markdown",
   "metadata": {
    "pycharm": {
     "name": "#%% md\n"
    },
    "slideshow": {
     "slide_type": "slide"
    }
   },
   "source": [
    "## Check refcounts for our code"
   ]
  },
  {
   "cell_type": "code",
   "execution_count": 3,
   "metadata": {
    "pycharm": {
     "name": "#%%\n"
    },
    "slideshow": {
     "slide_type": "-"
    }
   },
   "outputs": [
    {
     "name": "stdout",
     "output_type": "stream",
     "text": [
      "before: \tl-refcount = 2, r-refcount = 2\n",
      "list created: \tl-refcount = 4, r-refcount = 3\n",
      "after call: \tl-refcount = 4, r-refcount = 3\n",
      "list deleted: \tl-refcount = 2, r-refcount = 2\n"
     ]
    }
   ],
   "source": [
    "from sys import getrefcount\n",
    "\n",
    "l = 'a' * 10000\n",
    "r = 'b' * 10000\n",
    "\n",
    "def print_refcounts(str):\n",
    "    print('{}: \\tl-refcount = {}, r-refcount = {}'.format(str, getrefcount(l), getrefcount(r)))\n",
    "\n",
    "print_refcounts('before')\n",
    "args_list = [l, r, l]\n",
    "print_refcounts('list created')\n",
    "res = libconcat.concat_list([l, r, l])\n",
    "print_refcounts('after call')\n",
    "del(args_list)\n",
    "print_refcounts('list deleted')"
   ]
  },
  {
   "cell_type": "markdown",
   "metadata": {
    "pycharm": {
     "name": "#%% md\n"
    },
    "slideshow": {
     "slide_type": "slide"
    }
   },
   "source": [
    "## Memory leaks"
   ]
  },
  {
   "cell_type": "markdown",
   "metadata": {
    "pycharm": {
     "name": "#%% md\n"
    }
   },
   "source": [
    "\n",
    "Try removing all DECREF-s and run following code:\n",
    "```py\n",
    "a = 'a' * 100\n",
    "b = 'b' * 100\n",
    "c = 'c' * 100\n",
    "\n",
    "for i in range(10000000000):\n",
    "    res = libconcat.concat_list([a, b, c])\n",
    "```"
   ]
  },
  {
   "cell_type": "markdown",
   "metadata": {
    "pycharm": {
     "name": "#%% md\n"
    }
   },
   "source": [
    "<center>\n",
    "    ![](img/htop.png)\n",
    "</center>"
   ]
  },
  {
   "cell_type": "markdown",
   "metadata": {
    "pycharm": {
     "name": "#%% md\n"
    },
    "slideshow": {
     "slide_type": "slide"
    }
   },
   "source": [
    "# Too much boilerplate?"
   ]
  },
  {
   "cell_type": "markdown",
   "metadata": {
    "pycharm": {
     "name": "#%% md\n"
    },
    "slideshow": {
     "slide_type": "slide"
    }
   },
   "source": [
    "# Cython (static compiler)"
   ]
  },
  {
   "cell_type": "markdown",
   "metadata": {
    "pycharm": {
     "name": "#%% md\n"
    },
    "slideshow": {
     "slide_type": "slide"
    }
   },
   "source": [
    "```cython\n",
    "from libcpp.string cimport string\n",
    "\n",
    "cdef extern from \"concat.h\":\n",
    "    string cpp_concat(string l, string r) except +\n",
    "\n",
    "\n",
    "def concat(str l, str r):\n",
    "    cdef string res = cpp_concat(l.encode('utf-8'), r.encode('utf-8'))\n",
    "    return res.decode('utf-8')\n",
    "\n",
    "def concat_list(list args):\n",
    "    if len(args) < 2:\n",
    "        raise RuntimeError(\"Expected at least 2 arguments\")\n",
    "\n",
    "    cdef string res = args[0].encode('utf-8')\n",
    "    for i in range(1, len(args)):\n",
    "        res = cpp_concat(res, args[i].encode('utf-8'))\n",
    "    return res.decode('utf-8')\n",
    "```"
   ]
  },
  {
   "cell_type": "markdown",
   "metadata": {
    "pycharm": {
     "name": "#%% md\n"
    },
    "slideshow": {
     "slide_type": "slide"
    }
   },
   "source": [
    "### Compile\n",
    "```bash\n",
    "# cyconcat.pyx => cyconcat.c\n",
    "cython cyconcat.pyx\n",
    "\n",
    "# cyconcat.c => cyconcat.so\n",
    "g++ $(python3-config --cflags --ldflags) -shared --std=c++17 cyconcat.c -o cyconcat.so\n",
    "```\n",
    "#### OR\n",
    "```bash\n",
    "# cyconcat.pyx => cyconcat.so\n",
    "cythonize -i libconcat_cy.pyx\n",
    "```"
   ]
  },
  {
   "cell_type": "code",
   "execution_count": 4,
   "metadata": {
    "pycharm": {
     "name": "#%%\n"
    },
    "slideshow": {
     "slide_type": "slide"
    }
   },
   "outputs": [
    {
     "name": "stdout",
     "output_type": "stream",
     "text": [
      "cyconcat\n",
      "20000\n"
     ]
    },
    {
     "ename": "RuntimeError",
     "evalue": "Empty argument passed",
     "output_type": "error",
     "traceback": [
      "\u001b[0;31m---------------------------------------------------------------------------\u001b[0m",
      "\u001b[0;31mRuntimeError\u001b[0m                              Traceback (most recent call last)",
      "\u001b[0;32m<ipython-input-4-4d314ea3aa49>\u001b[0m in \u001b[0;36m<module>\u001b[0;34m\u001b[0m\n\u001b[1;32m      7\u001b[0m \u001b[0mprint\u001b[0m\u001b[0;34m(\u001b[0m\u001b[0mlen\u001b[0m\u001b[0;34m(\u001b[0m\u001b[0mres\u001b[0m\u001b[0;34m)\u001b[0m\u001b[0;34m)\u001b[0m\u001b[0;34m\u001b[0m\u001b[0;34m\u001b[0m\u001b[0m\n\u001b[1;32m      8\u001b[0m \u001b[0;34m\u001b[0m\u001b[0m\n\u001b[0;32m----> 9\u001b[0;31m \u001b[0mcyconcat\u001b[0m\u001b[0;34m.\u001b[0m\u001b[0mconcat\u001b[0m\u001b[0;34m(\u001b[0m\u001b[0;34m''\u001b[0m\u001b[0;34m,\u001b[0m \u001b[0mr\u001b[0m\u001b[0;34m)\u001b[0m\u001b[0;34m\u001b[0m\u001b[0;34m\u001b[0m\u001b[0m\n\u001b[0m",
      "\u001b[0;32m~/YSDA_python/extensions_lecture/cyconcat.pyx\u001b[0m in \u001b[0;36mcyconcat.concat\u001b[0;34m()\u001b[0m\n\u001b[1;32m      6\u001b[0m \u001b[0;34m\u001b[0m\u001b[0m\n\u001b[1;32m      7\u001b[0m \u001b[0;32mdef\u001b[0m \u001b[0mconcat\u001b[0m\u001b[0;34m(\u001b[0m\u001b[0mstr\u001b[0m \u001b[0ml\u001b[0m\u001b[0;34m,\u001b[0m \u001b[0mstr\u001b[0m \u001b[0mr\u001b[0m\u001b[0;34m)\u001b[0m\u001b[0;34m:\u001b[0m\u001b[0;34m\u001b[0m\u001b[0;34m\u001b[0m\u001b[0m\n\u001b[0;32m----> 8\u001b[0;31m     \u001b[0mcdef\u001b[0m \u001b[0mstring\u001b[0m \u001b[0mres\u001b[0m \u001b[0;34m=\u001b[0m \u001b[0mcpp_concat\u001b[0m\u001b[0;34m(\u001b[0m\u001b[0ml\u001b[0m\u001b[0;34m.\u001b[0m\u001b[0mencode\u001b[0m\u001b[0;34m(\u001b[0m\u001b[0;34m'utf-8'\u001b[0m\u001b[0;34m)\u001b[0m\u001b[0;34m,\u001b[0m \u001b[0mr\u001b[0m\u001b[0;34m.\u001b[0m\u001b[0mencode\u001b[0m\u001b[0;34m(\u001b[0m\u001b[0;34m'utf-8'\u001b[0m\u001b[0;34m)\u001b[0m\u001b[0;34m)\u001b[0m\u001b[0;34m\u001b[0m\u001b[0;34m\u001b[0m\u001b[0m\n\u001b[0m\u001b[1;32m      9\u001b[0m     \u001b[0;32mreturn\u001b[0m \u001b[0mres\u001b[0m\u001b[0;34m.\u001b[0m\u001b[0mdecode\u001b[0m\u001b[0;34m(\u001b[0m\u001b[0;34m'utf-8'\u001b[0m\u001b[0;34m)\u001b[0m\u001b[0;34m\u001b[0m\u001b[0;34m\u001b[0m\u001b[0m\n\u001b[1;32m     10\u001b[0m \u001b[0;34m\u001b[0m\u001b[0m\n",
      "\u001b[0;31mRuntimeError\u001b[0m: Empty argument passed"
     ]
    }
   ],
   "source": [
    "import cyconcat\n",
    "\n",
    "print(cyconcat.__name__)\n",
    "l = 'a' * 10000\n",
    "r = 'b' * 10000\n",
    "res = cyconcat.concat(l, r)\n",
    "print(len(res))\n",
    "\n",
    "cyconcat.concat('', r)"
   ]
  },
  {
   "cell_type": "markdown",
   "metadata": {
    "pycharm": {
     "name": "#%% md\n"
    },
    "slideshow": {
     "slide_type": "slide"
    }
   },
   "source": [
    "# Serialization"
   ]
  },
  {
   "cell_type": "markdown",
   "metadata": {
    "pycharm": {
     "name": "#%% md\n"
    },
    "slideshow": {
     "slide_type": "slide"
    }
   },
   "source": [
    "1. JSON / YAML\n",
    "    * human readable\n",
    "    * slow (text formats)\n",
    "2. numpy\n",
    "    * binary\n",
    "    * very inconvenient for arbitrary data\n",
    "3. [pickle](https://docs.python.org/3.8/library/pickle.html) \n",
    "    * binary\n",
    "    * unsafe \n",
    "    * has different [sideffects](https://stackoverflow.com/questions/29704139/pickle-in-python3-doesnt-work-for-large-data-saving)\n",
    "    * python-only\n",
    "4. [protobuf](https://developers.google.com/protocol-buffers/docs/pythontutorial)\n",
    "5. [flatbuf](https://google.github.io/flatbuffers/)"
   ]
  },
  {
   "cell_type": "markdown",
   "metadata": {
    "pycharm": {
     "name": "#%% md\n"
    },
    "slideshow": {
     "slide_type": "slide"
    }
   },
   "source": [
    "### Protobuf / Flatbuf\n",
    "\n",
    "##### Common:\n",
    "\n",
    "1. Describe data schema in special IDL\n",
    "2. Use protoc / flatc tool to generate source code\n",
    "3. Use generated code in your program\n",
    "\n",
    "##### Distinct:\n",
    "1. Protobuf serialization/deserialization needs less code\n",
    "2. Flatbuf allows to read data partially\n",
    "3. [Flexbuffers](https://google.github.io/flatbuffers/flexbuffers.html)"
   ]
  },
  {
   "cell_type": "markdown",
   "metadata": {
    "pycharm": {
     "name": "#%% md\n"
    },
    "slideshow": {
     "slide_type": "slide"
    }
   },
   "source": [
    "<center>\n",
    "    ![img](img/comparison.png)\n",
    "</center>"
   ]
  },
  {
   "cell_type": "markdown",
   "metadata": {
    "pycharm": {
     "name": "#%% md\n"
    },
    "slideshow": {
     "slide_type": "slide"
    }
   },
   "source": [
    "### Flatbuf. Describe schema in IDL\n",
    "```\n",
    "namespace lecture.example;\n",
    "\n",
    "table EmptyT {}\n",
    "\n",
    "table NonEmptyT {\n",
    "    x:byte;\n",
    "    y:[int];\n",
    "    z:int (deprecated);\n",
    "}\n",
    "\n",
    "union Union {\n",
    "    Empty:EmptyT,\n",
    "    NonEmpty:NonEmptyT\n",
    "}\n",
    "\n",
    "table AnyT {\n",
    "    content:Union;\n",
    "}\n",
    "root_type AnyT;\n",
    "```"
   ]
  },
  {
   "cell_type": "markdown",
   "metadata": {
    "pycharm": {
     "name": "#%% md\n"
    },
    "slideshow": {
     "slide_type": "slide"
    }
   },
   "source": [
    "### Flatbuf. Compile schema with flatc\n",
    "```bash\n",
    "flatc --python schema.fbs\n",
    "```"
   ]
  },
  {
   "cell_type": "markdown",
   "metadata": {
    "pycharm": {
     "name": "#%% md\n"
    },
    "slideshow": {
     "slide_type": "slide"
    }
   },
   "source": [
    "### Flatbuf. Use created module in Python"
   ]
  },
  {
   "cell_type": "code",
   "execution_count": 5,
   "metadata": {
    "pycharm": {
     "name": "#%%\n"
    }
   },
   "outputs": [
    {
     "name": "stdout",
     "output_type": "stream",
     "text": [
      "['NonEmptyT', 'NonEmptyTAddX', 'NonEmptyTAddY', 'NonEmptyTEnd', 'NonEmptyTStart', 'NonEmptyTStartYVector', 'flatbuffers']\n",
      "\n",
      "['AnyT', 'AnyTAddContent', 'AnyTAddContentType', 'AnyTEnd', 'AnyTStart', 'flatbuffers']\n",
      "\n",
      "['Empty', 'NONE', 'NonEmpty']\n",
      "\n"
     ]
    }
   ],
   "source": [
    "import flatbuffers\n",
    "\n",
    "from lecture.example import (\n",
    "    AnyT,\n",
    "    EmptyT,\n",
    "    NonEmptyT,\n",
    "    Union\n",
    ")\n",
    "\n",
    "def list_specific_methods(obj):\n",
    "  print([method for method in dir(obj) if not method.startswith('__')])\n",
    "  print()\n",
    "\n",
    "# Note: doesn't contain AddZ because z is `deprecated`\n",
    "list_specific_methods(NonEmptyT)\n",
    "\n",
    "list_specific_methods(AnyT)\n",
    "\n",
    "list_specific_methods(Union.Union)"
   ]
  },
  {
   "cell_type": "code",
   "execution_count": 6,
   "metadata": {
    "pycharm": {
     "name": "#%%\n"
    },
    "slideshow": {
     "slide_type": "slide"
    }
   },
   "outputs": [
    {
     "name": "stdout",
     "output_type": "stream",
     "text": [
      "first:\t\t bytearray(b'\\x08\\x00\\x00\\x00\\x04\\x00\\x04\\x00\\x04\\x00\\x00\\x00')\n",
      "second:\t\t bytearray(b'\\x0c\\x00\\x00\\x00\\x08\\x00\\x0c\\x00\\x07\\x00\\x08\\x00\\x08\\x00\\x00\\x00\\x00\\x00\\x00\\x02\\x08\\x00\\x00\\x00\\x04\\x00\\x04\\x00\\x04\\x00\\x00\\x00')\n",
      "first in second: True\n"
     ]
    }
   ],
   "source": [
    "builder = flatbuffers.Builder(initialSize=0)\n",
    "\n",
    "NonEmptyT.NonEmptyTStart(builder)\n",
    "non_empty_table = NonEmptyT.NonEmptyTEnd(builder)\n",
    "builder.Finish(non_empty_table)\n",
    "\n",
    "first = builder.Output()\n",
    "print('first:\\t\\t {}'.format(first))\n",
    "\n",
    "\n",
    "builder = flatbuffers.Builder(initialSize=0)\n",
    "\n",
    "NonEmptyT.NonEmptyTStart(builder)\n",
    "non_empty_table = NonEmptyT.NonEmptyTEnd(builder)\n",
    "\n",
    "AnyT.AnyTStart(builder)\n",
    "AnyT.AnyTAddContent(builder, non_empty_table)\n",
    "AnyT.AnyTAddContentType(builder, Union.Union.NonEmpty)\n",
    "any_table = AnyT.AnyTEnd(builder)\n",
    "builder.Finish(any_table)\n",
    "\n",
    "second = builder.Output()\n",
    "print('second:\\t\\t {}'.format(second))\n",
    "print('first in second: {}'.format(first in second))"
   ]
  },
  {
   "cell_type": "code",
   "execution_count": 7,
   "metadata": {
    "pycharm": {
     "name": "#%%\n"
    },
    "slideshow": {
     "slide_type": "slide"
    }
   },
   "outputs": [
    {
     "name": "stdout",
     "output_type": "stream",
     "text": [
      "x = 0, y.len = 0\n"
     ]
    }
   ],
   "source": [
    "data = AnyT.AnyT.GetRootAsAnyT(second, 0)\n",
    "\n",
    "assert data.ContentType() == Union.Union.NonEmpty\n",
    "content = NonEmptyT.NonEmptyT()\n",
    "content.Init(data.Content().Bytes, data.Content().Pos)\n",
    "\n",
    "print('x = {}, y.len = {}'.format(content.X(), content.YLength()))"
   ]
  },
  {
   "cell_type": "markdown",
   "metadata": {
    "pycharm": {
     "name": "#%% md\n"
    },
    "slideshow": {
     "slide_type": "slide"
    }
   },
   "source": [
    "### Protobuf. Describe schema in IDL*\n",
    "```proto\n",
    "syntax = \"proto3\";\n",
    "\n",
    "package lecture.example;\n",
    "\n",
    "message EmptyT {}\n",
    "\n",
    "message NonEmptyT {\n",
    "    /* forbid to reuse field-id (useful for or deprecated fields) */\n",
    "    reserved 2;\n",
    "    int32 x = 1;\n",
    "    repeated int32 y = 3;\n",
    "}\n",
    "\n",
    "message AnyT {\n",
    "    oneof content {\n",
    "        EmptyT empty_content = 1;\n",
    "        NonEmptyT non_empty_content = 2;\n",
    "    }\n",
    "}\n",
    "```\n",
    "\n",
    "\n",
    "\n",
    "*proto3"
   ]
  },
  {
   "cell_type": "markdown",
   "metadata": {
    "pycharm": {
     "name": "#%% md\n"
    },
    "slideshow": {
     "slide_type": "slide"
    }
   },
   "source": [
    "### Protobuf. Compile schema with flatc\n",
    "```bash\n",
    "protoc --python_out=protolecture schema.proto\n",
    "```"
   ]
  },
  {
   "cell_type": "code",
   "execution_count": 8,
   "metadata": {
    "pycharm": {
     "name": "#%%\n"
    },
    "slideshow": {
     "slide_type": "slide"
    }
   },
   "outputs": [
    {
     "name": "stdout",
     "output_type": "stream",
     "text": [
      "['ByteSize', 'Clear', 'ClearExtension', 'ClearField', 'CopyFrom', 'DESCRIPTOR', 'DiscardUnknownFields', 'Extensions', 'FindInitializationErrors', 'FromString', 'HasExtension', 'HasField', 'IsInitialized', 'ListFields', 'MergeFrom', 'MergeFromString', 'ParseFromString', 'RegisterExtension', 'SerializePartialToString', 'SerializeToString', 'SetInParent', 'UnknownFields', 'WhichOneof', '_CheckCalledFromGeneratedFile', '_SetListener', '_extensions_by_name', '_extensions_by_number', 'empty_content', 'non_empty_content']\n",
      "\n"
     ]
    },
    {
     "ename": "AttributeError",
     "evalue": "Assignment not allowed to field \"non_empty_content\" in protocol message object.",
     "output_type": "error",
     "traceback": [
      "\u001b[0;31m---------------------------------------------------------------------------\u001b[0m",
      "\u001b[0;31mAttributeError\u001b[0m                            Traceback (most recent call last)",
      "\u001b[0;32m<ipython-input-8-c61e5a0fad5e>\u001b[0m in \u001b[0;36m<module>\u001b[0;34m\u001b[0m\n\u001b[1;32m     13\u001b[0m \u001b[0mlist_specific_methods\u001b[0m\u001b[0;34m(\u001b[0m\u001b[0many_table\u001b[0m\u001b[0;34m)\u001b[0m\u001b[0;34m\u001b[0m\u001b[0;34m\u001b[0m\u001b[0m\n\u001b[1;32m     14\u001b[0m \u001b[0;34m\u001b[0m\u001b[0m\n\u001b[0;32m---> 15\u001b[0;31m \u001b[0many_table\u001b[0m\u001b[0;34m.\u001b[0m\u001b[0mnon_empty_content\u001b[0m \u001b[0;34m=\u001b[0m \u001b[0mnon_empty_table\u001b[0m\u001b[0;34m\u001b[0m\u001b[0;34m\u001b[0m\u001b[0m\n\u001b[0m",
      "\u001b[0;31mAttributeError\u001b[0m: Assignment not allowed to field \"non_empty_content\" in protocol message object."
     ]
    }
   ],
   "source": [
    "from protolecture import schema_pb2\n",
    "\n",
    "from io import BytesIO\n",
    "\n",
    "buf = BytesIO()\n",
    "\n",
    "any_table = schema_pb2.AnyT()\n",
    "empty_content = schema_pb2.EmptyT()\n",
    "\n",
    "non_empty_table = schema_pb2.NonEmptyT()\n",
    "non_empty_table.y.extend([1, 2, 3])\n",
    "\n",
    "list_specific_methods(any_table)\n",
    "\n",
    "any_table.non_empty_content = non_empty_table"
   ]
  },
  {
   "cell_type": "code",
   "execution_count": 9,
   "metadata": {
    "pycharm": {
     "name": "#%%\n"
    },
    "slideshow": {
     "slide_type": "slide"
    }
   },
   "outputs": [
    {
     "name": "stdout",
     "output_type": "stream",
     "text": [
      "empty_content\n",
      "\n",
      "non_empty_content\n",
      "\n",
      "x = 0, y = [1, 2, 3]\n",
      "\n"
     ]
    }
   ],
   "source": [
    "any_table.empty_content.MergeFrom(empty_content)\n",
    "\n",
    "print(any_table.WhichOneof(\"content\"))\n",
    "print()\n",
    "\n",
    "any_table.non_empty_content.x = non_empty_table.x\n",
    "any_table.non_empty_content.y.MergeFrom(non_empty_table.y)\n",
    "\n",
    "print(any_table.WhichOneof(\"content\"))\n",
    "print()\n",
    "\n",
    "print('x = {}, y = {}'.format(any_table.non_empty_content.x, any_table.non_empty_content.y))\n",
    "print()"
   ]
  },
  {
   "cell_type": "code",
   "execution_count": 10,
   "metadata": {
    "pycharm": {
     "name": "#%%\n"
    },
    "slideshow": {
     "slide_type": "slide"
    }
   },
   "outputs": [
    {
     "name": "stdout",
     "output_type": "stream",
     "text": [
      "buf = b'\\x12\\x05\\x1a\\x03\\x01\\x02\\x03'\n",
      "\n",
      "non_empty_content {\n",
      "  y: 1\n",
      "  y: 2\n",
      "  y: 3\n",
      "}\n",
      "\n",
      "\n",
      "Be careful:\n",
      "\n",
      "non_empty_content {\n",
      "  y: 1\n",
      "  y: 2\n",
      "  y: 3\n",
      "}\n",
      "\n",
      "\n",
      "non_empty_content {\n",
      "  x: 2\n",
      "  y: 1\n",
      "  y: 2\n",
      "  y: 3\n",
      "  y: 2\n",
      "  y: 3\n",
      "  y: 4\n",
      "}\n",
      "\n"
     ]
    }
   ],
   "source": [
    "print('buf = {}'.format(any_table.SerializeToString()))\n",
    "print()\n",
    "buf.write(any_table.SerializeToString())\n",
    "\n",
    "any_table.Clear()\n",
    "any_table.ParseFromString(buf.getvalue())\n",
    "print(any_table)\n",
    "print()\n",
    "\n",
    "print('Be careful:\\n')\n",
    "non_empty_table.x = 2\n",
    "non_empty_table.ClearField(\"y\")\n",
    "non_empty_table.y.extend([2, 3, 4])\n",
    "print(any_table)\n",
    "print()\n",
    "\n",
    "any_table_second = schema_pb2.AnyT()\n",
    "any_table_second.non_empty_content.CopyFrom(non_empty_table)\n",
    "\n",
    "buf.write(any_table_second.SerializeToString())\n",
    "any_table.ParseFromString(buf.getvalue())\n",
    "print(any_table)"
   ]
  }
 ],
 "metadata": {
  "celltoolbar": "Slideshow",
  "kernelspec": {
   "display_name": "Python 3 (ipykernel)",
   "language": "python",
   "name": "python3"
  },
  "language_info": {
   "codemirror_mode": {
    "name": "ipython",
    "version": 3
   },
   "file_extension": ".py",
   "mimetype": "text/x-python",
   "name": "python",
   "nbconvert_exporter": "python",
   "pygments_lexer": "ipython3",
   "version": "3.9.12"
  },
  "rise": {
   "enable_chalkboard": true,
   "footer": "<p style=\"margin: 5px; color: #a0a0a0\">YSDA Python Course</p>",
   "scroll": true,
   "start_slideshow_at": "selected",
   "theme": "serif",
   "transition": "none"
  }
 },
 "nbformat": 4,
 "nbformat_minor": 2
}
