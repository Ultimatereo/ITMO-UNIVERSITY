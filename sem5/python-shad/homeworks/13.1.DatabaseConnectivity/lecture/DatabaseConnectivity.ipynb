{
 "cells": [
  {
   "cell_type": "markdown",
   "metadata": {
    "pycharm": {
     "name": "#%% md\n"
    },
    "slideshow": {
     "slide_type": "slide"
    }
   },
   "source": [
    "<center>\n",
    "    <img src=\"https://upload.wikimedia.org/wikipedia/commons/a/a8/%D0%9B%D0%9E%D0%93%D0%9E_%D0%A8%D0%90%D0%94.png\" width=500px/>\n",
    "    <font>Python 2021</font><br/>\n",
    "    <br/>\n",
    "    <br/>\n",
    "    <b style=\"font-size: 2em\">Databases</b><br/>\n",
    "    <br/>\n",
    "    <font>Никита Бондарцев</font><br/>\n",
    "</center>"
   ]
  },
  {
   "cell_type": "markdown",
   "metadata": {
    "pycharm": {
     "name": "#%% md\n"
    },
    "slideshow": {
     "slide_type": "slide"
    }
   },
   "source": [
    "## Пара определений\n",
    "\n",
    "<div class=\"alert alert-info\">\n",
    "<b>Def:</b> База Данных (БД) - это набор логически связанных между собой данных.\n",
    "</div>\n",
    "\n",
    "<div class=\"alert alert-info\">\n",
    "<b>Def:</b> Система Управления Базами Данных (СУБД) - это ПО, которое умеет манипулировать БД.\n",
    "</div>"
   ]
  },
  {
   "cell_type": "markdown",
   "metadata": {
    "pycharm": {
     "name": "#%% md\n"
    },
    "slideshow": {
     "slide_type": "slide"
    }
   },
   "source": [
    "# Реляционные (SQL) и нереляционные  СУБД\n",
    "\n",
    "<div style=\"width: 100%\">\n",
    "    <div style=\"width: 45%; display: inline-block; vertical-align:middle\">\n",
    "        <img src=\"https://avatars.mds.yandex.net/get-pdb/4396969/655080f5-f64c-41c8-8a1c-9b6b924144f7/s1200\">\n",
    "    </div>\n",
    "    <div style=\"width:5%; display: inline-block; vertical-align:middle; font-size: 25px; color:red\">VS</div>\n",
    "    <div style=\"width:45%; display: inline-block; vertical-align:middle\">\n",
    "        <img src=\"https://avatars.mds.yandex.net/get-pdb/3938838/04d8434e-ffdb-4e63-bc82-77c38f67ebeb/orig\">\n",
    "    </div>\n",
    "</div>"
   ]
  },
  {
   "cell_type": "markdown",
   "metadata": {
    "pycharm": {
     "name": "#%% md\n"
    },
    "slideshow": {
     "slide_type": "slide"
    }
   },
   "source": [
    "# Реляционные СУБД\n",
    "\n",
    "SQL - Structured Query Language. Декларативный язык программирования, который является стандартом для реляционных СУБД. Есть ANSI спецификация, можно смотреть на сайте <a href=\"https://www.w3schools.com/sql/default.asp\">w3c</a>.\n",
    "\n",
    "Несмотря на спецификацию, у разных СУБД могут быть разные диалекты.\n",
    "\n",
    "Выглядит человекопонятно.. Во всяком случае сначала.\n",
    "\n",
    "```\n",
    "SELECT u.name, u.username, j.job_title\n",
    "FROM users as u\n",
    "INNER JOIN jobs as j\n",
    "USING (job_id)\n",
    "```"
   ]
  },
  {
   "cell_type": "markdown",
   "metadata": {
    "pycharm": {
     "name": "#%% md\n"
    },
    "slideshow": {
     "slide_type": "slide"
    }
   },
   "source": [
    "# Есть три стула\n",
    "\n",
    "- Raw SQL - гибко, но неудобно\n",
    "- Query Builder - удобнее, мало ограничений, но доп. библиотека\n",
    "- ORM - удобно, но не всегда очевидно как сделать то, что хочешь\n",
    "\n",
    "<!--<div style=\"width:800px; margin: 0 auto\">\n",
    "<img src=\"https://avatars.mds.yandex.net/get-pdb/4359619/8630eb60-b3f1-42a4-881c-76b5d2f050c7/s1200\"/ style=\"width:100%; position: relative\">\n",
    "    <div style=\"position: absolute; top:80%; left:300px; color: red; font-size: 25px\">ORM</div>\n",
    "    <div style=\"position: absolute; top:25%; left:550px; color: red; font-size: 25px\">Query Builder</div>\n",
    "    <div style=\"position: absolute; top:80%; right:160px; color: red; font-size: 25px\">Raw SQL</div>\n",
    "</div> -->"
   ]
  },
  {
   "cell_type": "markdown",
   "metadata": {
    "pycharm": {
     "name": "#%% md\n"
    },
    "slideshow": {
     "slide_type": "slide"
    }
   },
   "source": [
    "## Какие могут быть соединения: ODBC, JDBC, custom drivers\n",
    "\n",
    "<img src=\"https://avatars.mds.yandex.net/get-pdb/3941109/4429d4e0-d9b4-430c-907f-5e13c2a3c034/s1200\"/>"
   ]
  },
  {
   "cell_type": "markdown",
   "metadata": {
    "pycharm": {
     "name": "#%% md\n"
    },
    "slideshow": {
     "slide_type": "slide"
    }
   },
   "source": [
    "## Примеры\n",
    "\n",
    "К некоторым СУБД можно подключиться как по ODBC, так и по JDBC.\n",
    "\n",
    "Образец строчки подключения JDBC\n",
    "\n",
    "`jdbc:sqlserver://[serverName[\\instanceName][:portNumber]][;property=value[;property=value]]`\n",
    "\n",
    "Образец строчки подключения ODBC\n",
    "\n",
    "`Driver={SQL Server};Server=[serverName];Database=[instanceName][;property=value]`\n",
    "\n",
    "Шаблон для кастомного (не JDBC или ODBC) PostgreSQL драйвера psycopg2\n",
    "\n",
    "`host=[serverName] port=[portNumber] dbname=[instanceName] user=[username] password=[password]`\n",
    "\n",
    "- тип СУБД\n",
    "- хост\n",
    "- порт\n",
    "- название БД\n",
    "- авторизационные данные"
   ]
  },
  {
   "cell_type": "markdown",
   "metadata": {
    "pycharm": {
     "name": "#%% md\n"
    },
    "slideshow": {
     "slide_type": "slide"
    }
   },
   "source": [
    "## Модули для подключения к СУБД (драйвера)\n",
    "\n",
    "Python Database Api - спецификация для python модуля, который умеет работать с СУБД. Самое главное, должен определять метод\n",
    "\n",
    "`.connect(*args, **kwargs)`\n",
    "\n",
    "Также содержит различные константы, определяющие как модуль себя ведет, и набор классов-исключений.\n",
    "\n",
    "Полное описание в <a href=\"https://www.python.org/dev/peps/pep-0249/#connection-objects\">pep249</a>.\n",
    "\n",
    "Частные случаи - `pyodbc`, `jaydebeapi` - для ODBC и JDBC соответственно."
   ]
  },
  {
   "cell_type": "markdown",
   "metadata": {
    "pycharm": {
     "name": "#%% md\n"
    },
    "slideshow": {
     "slide_type": "slide"
    }
   },
   "source": [
    "<img src=\"https://habrastorage.org/files/38a/503/ff2/38a503ff27b846e4aac2411fb0fdf614.png\">"
   ]
  },
  {
   "cell_type": "markdown",
   "metadata": {
    "pycharm": {
     "name": "#%% md\n"
    },
    "slideshow": {
     "slide_type": "slide"
    }
   },
   "source": [
    "## Подключение (connection)\n",
    "\n",
    "<div class=\"alert alert-info\">\n",
    "Согласно <a href=\"https://www.python.org/dev/peps/pep-0249/#connection-objects\">pep249</a>, connection - это объект, обладающий методами\n",
    "</div>\n",
    "\n",
    "- cursor()\n",
    "- commit()\n",
    "- rollback()\n",
    "- close()\n",
    "\n",
    "Важно понимать:\n",
    "- долго открывается\n",
    "- держит ресурсы, поэтому close приветствуется\n",
    "- отруливает транзакции\n",
    "- без него никак :)"
   ]
  },
  {
   "cell_type": "code",
   "execution_count": 1,
   "metadata": {
    "pycharm": {
     "name": "#%%\n"
    },
    "slideshow": {
     "slide_type": "skip"
    }
   },
   "outputs": [
    {
     "name": "stdout",
     "output_type": "stream",
     "text": [
      "rm: cannot remove 'chinook.db': No such file or directory\n",
      "Archive:  chinook.zip\n",
      "  inflating: chinook.db              \n"
     ]
    }
   ],
   "source": [
    "!rm chinook.db\n",
    "!unzip chinook.zip"
   ]
  },
  {
   "cell_type": "code",
   "execution_count": 2,
   "metadata": {
    "pycharm": {
     "name": "#%%\n"
    },
    "slideshow": {
     "slide_type": "slide"
    }
   },
   "outputs": [],
   "source": [
    "import sqlite3\n",
    "connection = sqlite3.connect(\"chinook.db\")\n",
    "connection.close()"
   ]
  },
  {
   "cell_type": "markdown",
   "metadata": {
    "pycharm": {
     "name": "#%% md\n"
    },
    "slideshow": {
     "slide_type": "slide"
    }
   },
   "source": [
    "<img src=\"https://avatars.mds.yandex.net/get-pdb/2407376/ceab576b-4e30-4e24-8131-e5d8cc54f232/s1200\" style=\"height:600px\"/>"
   ]
  },
  {
   "cell_type": "markdown",
   "metadata": {
    "pycharm": {
     "name": "#%% md\n"
    },
    "slideshow": {
     "slide_type": "slide"
    }
   },
   "source": [
    "## Курсор (cursor)\n",
    "\n",
    "Цитаты Великого PEP'а\n",
    "\n",
    "These objects represent a database cursor, which is used to manage the context of a fetch operation. Cursors created from the same connection are not isolated, i.e., any changes done to the database by a cursor are immediately visible by the other cursors. Cursors created from different connections can or can not be isolated, depending on how the transaction support is implemented.\n",
    "\n",
    "- про выполнение запросов и получение результатов\n",
    "- находится внутри транзакции\n",
    "- занимает ресурсы на стороне БД, пока не будет вычитан. Либо читать полностью, либо закрывать приветствуется"
   ]
  },
  {
   "cell_type": "code",
   "execution_count": 3,
   "metadata": {
    "pycharm": {
     "name": "#%%\n"
    },
    "slideshow": {
     "slide_type": "slide"
    }
   },
   "outputs": [
    {
     "data": {
      "text/plain": [
       "{'__iter__',\n",
       " '__next__',\n",
       " 'arraysize',\n",
       " 'close',\n",
       " 'connection',\n",
       " 'description',\n",
       " 'execute',\n",
       " 'executemany',\n",
       " 'executescript',\n",
       " 'fetchall',\n",
       " 'fetchmany',\n",
       " 'fetchone',\n",
       " 'lastrowid',\n",
       " 'row_factory',\n",
       " 'rowcount',\n",
       " 'setinputsizes',\n",
       " 'setoutputsize'}"
      ]
     },
     "execution_count": 3,
     "metadata": {},
     "output_type": "execute_result"
    }
   ],
   "source": [
    "connection = sqlite3.connect('chinook.db')\n",
    "cursor = connection.cursor()\n",
    "set(dir(cursor)) - set(dir(object))"
   ]
  },
  {
   "cell_type": "markdown",
   "metadata": {
    "pycharm": {
     "name": "#%% md\n"
    },
    "slideshow": {
     "slide_type": "slide"
    }
   },
   "source": [
    "### execute*"
   ]
  },
  {
   "cell_type": "code",
   "execution_count": 4,
   "metadata": {
    "pycharm": {
     "name": "#%%\n"
    },
    "slideshow": {
     "slide_type": "-"
    }
   },
   "outputs": [
    {
     "data": {
      "text/plain": [
       "(('name', None, None, None, None, None, None),\n",
       " ('type', None, None, None, None, None, None),\n",
       " ('rootpage', None, None, None, None, None, None))"
      ]
     },
     "execution_count": 4,
     "metadata": {},
     "output_type": "execute_result"
    }
   ],
   "source": [
    "cursor.execute(\"SELECT name, type, rootpage FROM sqlite_master where type = 'table'\")\n",
    "cursor.description  # возвращает информацию о схеме ответа, см pep249"
   ]
  },
  {
   "cell_type": "code",
   "execution_count": 5,
   "metadata": {
    "pycharm": {
     "name": "#%%\n"
    },
    "slideshow": {
     "slide_type": "-"
    }
   },
   "outputs": [
    {
     "data": {
      "text/plain": [
       "(('albums', 'table', 2),\n",
       " [('sqlite_sequence', 'table', 3), ('artists', 'table', 4)],\n",
       " [('customers', 'table', 5),\n",
       "  ('employees', 'table', 8),\n",
       "  ('genres', 'table', 10),\n",
       "  ('invoices', 'table', 11),\n",
       "  ('invoice_items', 'table', 13),\n",
       "  ('media_types', 'table', 15),\n",
       "  ('playlists', 'table', 16),\n",
       "  ('playlist_track', 'table', 17),\n",
       "  ('tracks', 'table', 20),\n",
       "  ('sqlite_stat1', 'table', 864)])"
      ]
     },
     "execution_count": 5,
     "metadata": {},
     "output_type": "execute_result"
    }
   ],
   "source": [
    "single_row = cursor.fetchone()  # считывает одну строчку в птионовский кортеж\n",
    "two_rows = cursor.fetchmany(2)  # считывает несколько строк в список кортежей\n",
    "remaining_rows = cursor.fetchall()  # считывает все оставшиеся строки до конца результата в список кортежей\n",
    "single_row, two_rows, remaining_rows"
   ]
  },
  {
   "cell_type": "code",
   "execution_count": 6,
   "metadata": {
    "pycharm": {
     "name": "#%%\n"
    },
    "slideshow": {
     "slide_type": "-"
    }
   },
   "outputs": [
    {
     "data": {
      "text/plain": [
       "[]"
      ]
     },
     "execution_count": 6,
     "metadata": {},
     "output_type": "execute_result"
    }
   ],
   "source": [
    "cursor.fetchall()  # попытка вычитки уже закончившегося курсора дает пустой результат"
   ]
  },
  {
   "cell_type": "markdown",
   "metadata": {
    "pycharm": {
     "name": "#%% md\n"
    },
    "slideshow": {
     "slide_type": "slide"
    }
   },
   "source": [
    "### Иногда (почти всегда) нужно сделать динамически изменяющийся запрос"
   ]
  },
  {
   "cell_type": "code",
   "execution_count": 7,
   "metadata": {
    "pycharm": {
     "name": "#%%\n"
    },
    "slideshow": {
     "slide_type": "-"
    }
   },
   "outputs": [],
   "source": [
    "import typing as tp\n",
    "def search_by_name(name: str, cursor: sqlite3.Cursor) -> tp.Sequence[tp.Tuple[tp.Any, ...]]:\n",
    "    cursor.execute(f\"SELECT * FROM playlists WHERE Name LIKE '%{name}%'\")\n",
    "    return cursor.fetchall()"
   ]
  },
  {
   "cell_type": "code",
   "execution_count": 8,
   "metadata": {
    "pycharm": {
     "name": "#%%\n"
    },
    "slideshow": {
     "slide_type": "-"
    }
   },
   "outputs": [
    {
     "name": "stdout",
     "output_type": "stream",
     "text": [
      "[(1, 'Music'), (5, '90’s Music'), (8, 'Music'), (9, 'Music Videos'), (11, 'Brazilian Music')]\n"
     ]
    }
   ],
   "source": [
    "print(search_by_name('Musi', cursor))"
   ]
  },
  {
   "cell_type": "code",
   "execution_count": 9,
   "metadata": {
    "collapsed": true,
    "pycharm": {
     "name": "#%%\n"
    },
    "slideshow": {
     "slide_type": "fragment"
    }
   },
   "outputs": [
    {
     "name": "stdout",
     "output_type": "stream",
     "text": [
      "[(1, 'Music'), (2, 'Movies'), (3, 'TV Shows'), (4, 'Audiobooks'), (5, '90’s Music'), (6, 'Audiobooks'), (7, 'Movies'), (8, 'Music'), (9, 'Music Videos'), (10, 'TV Shows'), (11, 'Brazilian Music'), (12, 'Classical'), (13, 'Classical 101 - Deep Cuts'), (14, 'Classical 101 - Next Steps'), (15, 'Classical 101 - The Basics'), (16, 'Grunge'), (17, 'Heavy Metal Classic'), (18, 'On-The-Go 1')]\n"
     ]
    }
   ],
   "source": [
    "from_frontend = \"Music%' OR 1=1 AND 'hello' LIKE '%\"\n",
    "print(search_by_name(from_frontend, cursor))"
   ]
  },
  {
   "cell_type": "markdown",
   "metadata": {
    "pycharm": {
     "name": "#%% md\n"
    },
    "slideshow": {
     "slide_type": "slide"
    }
   },
   "source": [
    "### Всегда используйте parameters вместо подстановки строк\n",
    "\n",
    "Параметры помогают избежать подобных казусов. Драйвер сам все заэкранирует."
   ]
  },
  {
   "cell_type": "code",
   "execution_count": 10,
   "metadata": {
    "pycharm": {
     "name": "#%%\n"
    },
    "slideshow": {
     "slide_type": "fragment"
    }
   },
   "outputs": [
    {
     "name": "stdout",
     "output_type": "stream",
     "text": [
      "[]\n"
     ]
    }
   ],
   "source": [
    "cursor.execute(\"SELECT * FROM playlists WHERE Name LIKE :name\", {\n",
    "    'name': f'%{from_frontend}%'\n",
    "})  # см. sqlite3.paramstyle чтобы понять как записывать параметры в запросе\n",
    "print(cursor.fetchall())"
   ]
  },
  {
   "cell_type": "markdown",
   "metadata": {
    "pycharm": {
     "name": "#%% md\n"
    },
    "slideshow": {
     "slide_type": "slide"
    }
   },
   "source": [
    "### Еще один аргумент в пользу параметров: преобразование типов"
   ]
  },
  {
   "cell_type": "code",
   "execution_count": 11,
   "metadata": {
    "pycharm": {
     "name": "#%%\n"
    },
    "slideshow": {
     "slide_type": "-"
    }
   },
   "outputs": [
    {
     "data": {
      "text/plain": [
       "[(3504, 'name', 1, 1, 1, None, 1, 0, 0)]"
      ]
     },
     "execution_count": 11,
     "metadata": {},
     "output_type": "execute_result"
    }
   ],
   "source": [
    "# с параметрами все отработало:\n",
    "cursor.execute(\"\"\"\n",
    "INSERT INTO tracks (Name, AlbumId, MediaTypeId, GenreId, Composer, Milliseconds, Bytes, UnitPrice)\n",
    "VALUES (?, ?, ?, ?, ?, ?, ?, ?)\n",
    "\"\"\", ('name', 1, 1, 1, None, 1, 0, 0))\n",
    "cursor.execute(\"SELECT * FROM tracks WHERE Name = 'name'\")\n",
    "cursor.fetchall()"
   ]
  },
  {
   "cell_type": "code",
   "execution_count": 12,
   "metadata": {
    "pycharm": {
     "name": "#%%\n"
    },
    "slideshow": {
     "slide_type": "fragment"
    }
   },
   "outputs": [
    {
     "data": {
      "text/plain": [
       "[(3504, 'name', 1, 1, 1, None, 1, 0, 0),\n",
       " (3505, 'name', 1, 1, 1, 'None', 1, 0, 0)]"
      ]
     },
     "execution_count": 12,
     "metadata": {},
     "output_type": "execute_result"
    }
   ],
   "source": [
    "# с подстановкой строк и кавычками отработало, но есть нюанс\n",
    "cursor.execute(\"\"\"\n",
    "INSERT INTO tracks (Name, AlbumId, MediaTypeId, GenreId, Composer, Milliseconds, Bytes, UnitPrice)\n",
    "VALUES ('%s', %d, %d, %d, '%s', %d, %d, %d)\n",
    "\"\"\" % ('name', 1, 1, 1, None, 1, 0, 0))\n",
    "cursor.execute(\"SELECT * FROM tracks WHERE name = 'name'\")\n",
    "cursor.fetchall()"
   ]
  },
  {
   "cell_type": "code",
   "execution_count": 13,
   "metadata": {
    "pycharm": {
     "name": "#%%\n"
    },
    "slideshow": {
     "slide_type": "skip"
    }
   },
   "outputs": [
    {
     "ename": "OperationalError",
     "evalue": "no such column: name",
     "output_type": "error",
     "traceback": [
      "\u001b[0;31m---------------------------------------------------------------------------\u001b[0m",
      "\u001b[0;31mOperationalError\u001b[0m                          Traceback (most recent call last)",
      "\u001b[0;32m/tmp/ipykernel_30694/2498476016.py\u001b[0m in \u001b[0;36m<module>\u001b[0;34m\u001b[0m\n\u001b[1;32m      1\u001b[0m \u001b[0;31m# а если убрать кавычки, то летит абсолютно неожиданная ошибка\u001b[0m\u001b[0;34m\u001b[0m\u001b[0;34m\u001b[0m\u001b[0m\n\u001b[0;32m----> 2\u001b[0;31m cursor.execute(\"\"\"\n\u001b[0m\u001b[1;32m      3\u001b[0m \u001b[0mINSERT\u001b[0m \u001b[0mINTO\u001b[0m \u001b[0mtracks\u001b[0m \u001b[0;34m(\u001b[0m\u001b[0mName\u001b[0m\u001b[0;34m,\u001b[0m \u001b[0mAlbumId\u001b[0m\u001b[0;34m,\u001b[0m \u001b[0mMediaTypeId\u001b[0m\u001b[0;34m,\u001b[0m \u001b[0mGenreId\u001b[0m\u001b[0;34m,\u001b[0m \u001b[0mComposer\u001b[0m\u001b[0;34m,\u001b[0m \u001b[0mMilliseconds\u001b[0m\u001b[0;34m,\u001b[0m \u001b[0mBytes\u001b[0m\u001b[0;34m,\u001b[0m \u001b[0mUnitPrice\u001b[0m\u001b[0;34m)\u001b[0m\u001b[0;34m\u001b[0m\u001b[0;34m\u001b[0m\u001b[0m\n\u001b[1;32m      4\u001b[0m \u001b[0mVALUES\u001b[0m \u001b[0;34m(\u001b[0m\u001b[0;34m%\u001b[0m\u001b[0ms\u001b[0m\u001b[0;34m,\u001b[0m \u001b[0;34m%\u001b[0m\u001b[0md\u001b[0m\u001b[0;34m,\u001b[0m \u001b[0;34m%\u001b[0m\u001b[0md\u001b[0m\u001b[0;34m,\u001b[0m \u001b[0;34m%\u001b[0m\u001b[0md\u001b[0m\u001b[0;34m,\u001b[0m \u001b[0;34m%\u001b[0m\u001b[0ms\u001b[0m\u001b[0;34m,\u001b[0m \u001b[0;34m%\u001b[0m\u001b[0md\u001b[0m\u001b[0;34m,\u001b[0m \u001b[0;34m%\u001b[0m\u001b[0md\u001b[0m\u001b[0;34m,\u001b[0m \u001b[0;34m%\u001b[0m\u001b[0md\u001b[0m\u001b[0;34m)\u001b[0m\u001b[0;34m\u001b[0m\u001b[0;34m\u001b[0m\u001b[0m\n\u001b[1;32m      5\u001b[0m \"\"\" % ('name', 1, 1, 1, None, 1, 0, 0))\n",
      "\u001b[0;31mOperationalError\u001b[0m: no such column: name"
     ]
    }
   ],
   "source": [
    "# а если убрать кавычки, то летит абсолютно неожиданная ошибка\n",
    "cursor.execute(\"\"\"\n",
    "INSERT INTO tracks (Name, AlbumId, MediaTypeId, GenreId, Composer, Milliseconds, Bytes, UnitPrice)\n",
    "VALUES (%s, %d, %d, %d, %s, %d, %d, %d)\n",
    "\"\"\" % ('name', 1, 1, 1, None, 1, 0, 0))\n"
   ]
  },
  {
   "cell_type": "code",
   "execution_count": 14,
   "metadata": {
    "pycharm": {
     "name": "#%%\n"
    },
    "slideshow": {
     "slide_type": "slide"
    }
   },
   "outputs": [
    {
     "data": {
      "text/plain": [
       "[(3504, 'name', 1, 1, 1, None, 1, 0, 0),\n",
       " (3505, 'name', 1, 1, 1, 'None', 1, 0, 0),\n",
       " (3506, 'name2', 1, 1, 1, None, 1, 0, 0),\n",
       " (3507, 'name3', 2, 1, 1, 'Composer', 1, 0, 0)]"
      ]
     },
     "execution_count": 14,
     "metadata": {},
     "output_type": "execute_result"
    }
   ],
   "source": [
    "# можно запускать один запрос с разными параметрами\n",
    "# возможно, будет быстрее, но не всегда. см. https://hakibenita.com/fast-load-data-python-postgresql\n",
    "cursor.executemany(\"\"\"\n",
    "INSERT INTO tracks (Name, AlbumId, MediaTypeId, GenreId, Composer, Milliseconds, Bytes, UnitPrice)\n",
    "VALUES (?, ?, ?, ?, ?, ?, ?, ?)\n",
    "\"\"\", [\n",
    "    ('name2', 1, 1, 1, None, 1, 0, 0),\n",
    "    ('name3', 2, 1, 1, 'Composer', 1, 0, 0),\n",
    "])\n",
    "cursor.execute(\"SELECT * FROM tracks WHERE Name LIKE 'name%'\")\n",
    "cursor.fetchall()"
   ]
  },
  {
   "cell_type": "markdown",
   "metadata": {
    "pycharm": {
     "name": "#%% md\n"
    },
    "slideshow": {
     "slide_type": "slide"
    }
   },
   "source": [
    "## Транзакции"
   ]
  },
  {
   "cell_type": "code",
   "execution_count": 15,
   "metadata": {
    "collapsed": true,
    "pycharm": {
     "name": "#%%\n"
    },
    "slideshow": {
     "slide_type": "-"
    }
   },
   "outputs": [
    {
     "data": {
      "text/plain": [
       "[]"
      ]
     },
     "execution_count": 15,
     "metadata": {},
     "output_type": "execute_result"
    }
   ],
   "source": [
    "connection2 = sqlite3.connect('chinook.db')\n",
    "cursor2 = connection2.cursor()\n",
    "cursor2.execute(\"SELECT * FROM tracks WHERE Name LIKE 'name%'\")\n",
    "cursor2.fetchall()"
   ]
  },
  {
   "cell_type": "code",
   "execution_count": 16,
   "metadata": {
    "pycharm": {
     "name": "#%%\n"
    },
    "slideshow": {
     "slide_type": "fragment"
    }
   },
   "outputs": [],
   "source": [
    "connection.commit()\n",
    "# connection.rollback()  # отменяет все изменения!"
   ]
  },
  {
   "cell_type": "code",
   "execution_count": 17,
   "metadata": {
    "collapsed": true,
    "pycharm": {
     "name": "#%%\n"
    },
    "slideshow": {
     "slide_type": "-"
    }
   },
   "outputs": [
    {
     "data": {
      "text/plain": [
       "[(3504, 'name', 1, 1, 1, None, 1, 0, 0),\n",
       " (3505, 'name', 1, 1, 1, 'None', 1, 0, 0),\n",
       " (3506, 'name2', 1, 1, 1, None, 1, 0, 0),\n",
       " (3507, 'name3', 2, 1, 1, 'Composer', 1, 0, 0)]"
      ]
     },
     "execution_count": 17,
     "metadata": {},
     "output_type": "execute_result"
    }
   ],
   "source": [
    "cursor2.execute(\"SELECT * FROM tracks WHERE Name LIKE 'name%'\")\n",
    "cursor2.fetchall()"
   ]
  },
  {
   "cell_type": "code",
   "execution_count": 18,
   "metadata": {
    "pycharm": {
     "name": "#%%\n"
    },
    "slideshow": {
     "slide_type": "slide"
    }
   },
   "outputs": [],
   "source": [
    "cursor.close()  # автоматически закрылись бы при закрытии соединения, но лучше явно\n",
    "cursor2.close()\n",
    "connection.close()  # очень важно закрывать соединения! Даже важнее, чем файлы ;)\n",
    "connection2.close()"
   ]
  },
  {
   "cell_type": "markdown",
   "metadata": {
    "pycharm": {
     "name": "#%% md\n"
    },
    "slideshow": {
     "slide_type": "slide"
    }
   },
   "source": [
    "# Query Builder"
   ]
  },
  {
   "cell_type": "markdown",
   "metadata": {
    "pycharm": {
     "name": "#%% md\n"
    },
    "slideshow": {
     "slide_type": "-"
    }
   },
   "source": [
    "- строит текст запроса по частям\n",
    "- не нужно форматировать строки руками\n",
    "- может поддерживать разные диалекты SQL\n",
    "- чуть менее гибкий, чем raw SQL, но нужно постараться, чтобы найти пример, когда написать raw SQL проще\n",
    "- запрос к базе, по-прежнему, делается руками, обработка результатов запроса на вас\n",
    "\n",
    "<a href=\"https://emacsway.github.io/ru/storm-orm/#query-object\">Нужен ли вам Query Builder?</a>"
   ]
  },
  {
   "cell_type": "code",
   "execution_count": 1,
   "metadata": {
    "pycharm": {
     "name": "#%%\n"
    },
    "slideshow": {
     "slide_type": "skip"
    }
   },
   "outputs": [],
   "source": [
    "# !pip install pypika"
   ]
  },
  {
   "cell_type": "markdown",
   "metadata": {
    "pycharm": {
     "name": "#%% md\n"
    },
    "slideshow": {
     "slide_type": "slide"
    }
   },
   "source": [
    "### Query"
   ]
  },
  {
   "cell_type": "code",
   "execution_count": 2,
   "metadata": {
    "pycharm": {
     "name": "#%%\n"
    },
    "slideshow": {
     "slide_type": "-"
    }
   },
   "outputs": [
    {
     "data": {
      "text/plain": [
       "'SELECT \"TrackId\",\"Name\" FROM \"tracks\" LIMIT 10'"
      ]
     },
     "execution_count": 2,
     "metadata": {},
     "output_type": "execute_result"
    }
   ],
   "source": [
    "from pypika import Query\n",
    "\n",
    "q = Query.from_('tracks')\n",
    "q = q.select('TrackId', 'Name').limit(10)\n",
    "str(q)"
   ]
  },
  {
   "cell_type": "code",
   "execution_count": 3,
   "metadata": {
    "pycharm": {
     "name": "#%%\n"
    },
    "slideshow": {
     "slide_type": "fragment"
    }
   },
   "outputs": [
    {
     "name": "stdout",
     "output_type": "stream",
     "text": [
      "SELECT TrackId,Name FROM tracks LIMIT 10\n",
      "SELECT \"TrackId\",\"Name\" FROM \"tracks\" OFFSET 0 ROWS FETCH NEXT 10 ROWS ONLY\n"
     ]
    }
   ],
   "source": [
    "# подмена Query на один из подклассов позволяет менять диалект\n",
    "from pypika import MSSQLQuery, OracleQuery\n",
    "\n",
    "oracle = OracleQuery.from_('tracks') \\\n",
    "    .select('TrackId', 'Name') \\\n",
    "    .limit(10)\n",
    "print(str(oracle))\n",
    "\n",
    "mssql = MSSQLQuery.from_('tracks') \\\n",
    "    .select('TrackId', 'Name') \\\n",
    "    .limit(10)\n",
    "print(str(mssql))"
   ]
  },
  {
   "cell_type": "markdown",
   "metadata": {
    "pycharm": {
     "name": "#%% md\n"
    },
    "slideshow": {
     "slide_type": "slide"
    }
   },
   "source": [
    "### Table, Field"
   ]
  },
  {
   "cell_type": "code",
   "execution_count": 4,
   "metadata": {
    "pycharm": {
     "name": "#%%\n"
    },
    "slideshow": {
     "slide_type": "-"
    }
   },
   "outputs": [
    {
     "name": "stdout",
     "output_type": "stream",
     "text": [
      "SELECT \"TrackId\",\"Name\" FROM \"tracks\" WHERE \"Name\" LIKE '%Music%' AND \"TrackId\"<100\n"
     ]
    }
   ],
   "source": [
    "from pypika import Table, Field\n",
    "\n",
    "tracks = Table('tracks')\n",
    "q = Query.from_(tracks) \\\n",
    "    .where(Field('Name').like('%Music%')).select('TrackId', 'Name') \\\n",
    "    .where(tracks.TrackId < 100)\n",
    "    \n",
    "print(str(q))"
   ]
  },
  {
   "cell_type": "code",
   "execution_count": 5,
   "metadata": {
    "pycharm": {
     "name": "#%%\n"
    },
    "slideshow": {
     "slide_type": "-"
    }
   },
   "outputs": [
    {
     "name": "stdout",
     "output_type": "stream",
     "text": [
      "SELECT \"TrackId\",\"Name\" FROM \"tracks\" WHERE \"Name\" LIKE ''' OR 1=1' AND \"TrackId\"<100\n"
     ]
    }
   ],
   "source": [
    "# экранирование произошло автоматически\n",
    "q = Query.from_(tracks) \\\n",
    "    .where(Field('Name').like('\\' OR 1=1')).where(tracks.TrackId < 100) \\\n",
    "    .select('TrackId', 'Name')\n",
    "print(str(q))"
   ]
  },
  {
   "cell_type": "markdown",
   "metadata": {
    "pycharm": {
     "name": "#%% md\n"
    },
    "slideshow": {
     "slide_type": "slide"
    }
   },
   "source": [
    "### Parameters"
   ]
  },
  {
   "cell_type": "code",
   "execution_count": 6,
   "metadata": {
    "pycharm": {
     "name": "#%%\n"
    },
    "slideshow": {
     "slide_type": "-"
    }
   },
   "outputs": [
    {
     "name": "stdout",
     "output_type": "stream",
     "text": [
      "SELECT \"TrackId\",\"Name\" FROM \"tracks\" WHERE \"Name\" LIKE ':name' AND \"TrackId\"<100\n",
      "SELECT \"TrackId\",\"Name\" FROM \"tracks\" WHERE \"Name\" LIKE :name AND \"TrackId\"<100\n"
     ]
    }
   ],
   "source": [
    "from pypika import Parameter\n",
    "\n",
    "# найдите отличие в выводе двух принтов :)\n",
    "q = Query.from_(tracks) \\\n",
    "    .where(Field('Name').like(':name')).where(tracks.TrackId < 100) \\\n",
    "    .select('TrackId', 'Name')\n",
    "print(str(q))\n",
    "\n",
    "q = Query.from_(tracks) \\\n",
    "    .where(Field('Name').like(Parameter(':name'))).where(tracks.TrackId < 100) \\\n",
    "    .select('TrackId', 'Name')\n",
    "print(str(q))"
   ]
  },
  {
   "cell_type": "markdown",
   "metadata": {
    "pycharm": {
     "name": "#%% md\n"
    },
    "slideshow": {
     "slide_type": "slide"
    }
   },
   "source": [
    "### Joins"
   ]
  },
  {
   "cell_type": "code",
   "execution_count": 9,
   "metadata": {
    "pycharm": {
     "name": "#%%\n"
    },
    "slideshow": {
     "slide_type": "-"
    }
   },
   "outputs": [
    {
     "data": {
      "text/plain": [
       "'SELECT \"tracks\".\"TrackId\",\"tracks\".\"Name\",\"albums\".\"Title\" FROM \"tracks\" JOIN \"albums\" ON \"tracks\".\"AlbumId\"=\"albums\".\"AlbumId\" WHERE \"Name\" LIKE :name AND \"tracks\".\"TrackId\"<100'"
      ]
     },
     "execution_count": 9,
     "metadata": {},
     "output_type": "execute_result"
    }
   ],
   "source": [
    "# порядок задания фильтраций/джойнов/select не важен. Все ради этого!\n",
    "q = Query.from_(tracks) \\\n",
    "    .where(Field('Name').like(Parameter(':name'))).where(tracks.TrackId < 100) \\\n",
    "    .select('TrackId', 'Name')\n",
    "\n",
    "albums = Table('albums')\n",
    "\n",
    "# использование .on и .using одновременно отваливается с неочевидной ошибкой, к сожалению\n",
    "q = q.inner_join(albums)\n",
    "# q = q.using('AlbumId')\n",
    "q = q.on(tracks.AlbumId == albums.AlbumId)\n",
    "q = q.select(albums.Title)\n",
    "str(q)"
   ]
  },
  {
   "cell_type": "markdown",
   "metadata": {
    "pycharm": {
     "name": "#%% md\n"
    },
    "slideshow": {
     "slide_type": "slide"
    }
   },
   "source": [
    "### Subqueries"
   ]
  },
  {
   "cell_type": "code",
   "execution_count": 12,
   "metadata": {
    "pycharm": {
     "name": "#%%\n"
    },
    "slideshow": {
     "slide_type": "-"
    }
   },
   "outputs": [
    {
     "name": "stdout",
     "output_type": "stream",
     "text": [
      "SELECT \"GenreId\",COUNT(*) \"num_tracks\" FROM \"tracks\" GROUP BY \"GenreId\"\n",
      "SELECT \"genres\".\"Name\",\"num_tracks\" FROM \"genres\" JOIN (SELECT \"GenreId\",COUNT(*) \"num_tracks\" FROM \"tracks\" GROUP BY \"GenreId\") \"sq0\" USING (\"GenreId\") ORDER BY \"num_tracks\" DESC LIMIT 10\n"
     ]
    }
   ],
   "source": [
    "import pypika.functions as fn\n",
    "from pypika import Order\n",
    "\n",
    "q1 = Query.from_(tracks) \\\n",
    "    .groupby('GenreId') \\\n",
    "    .select('GenreId', fn.Count('*').as_('num_tracks'))\n",
    "print(str(q1))\n",
    "\n",
    "num_tracks = Field('num_tracks')\n",
    "q2 = Query.from_('genres') \\\n",
    "    .join(q1).using('GenreId') \\\n",
    "    .select('Name', num_tracks) \\\n",
    "    .orderby(num_tracks, order=Order.desc) \\\n",
    "    .limit(10)\n",
    "print(str(q2))"
   ]
  },
  {
   "cell_type": "code",
   "execution_count": 16,
   "metadata": {
    "pycharm": {
     "name": "#%%\n"
    },
    "slideshow": {
     "slide_type": "-"
    }
   },
   "outputs": [],
   "source": [
    "import sqlite3\n",
    "import typing as tp\n",
    "\n",
    "# never ever do something like that in real life. Shame on me for this piece of code\n",
    "connection = sqlite3.connect('chinook.db')\n",
    "\n",
    "\n",
    "def execute_and_get_dicts(query: 'QueryBuilder') -> tp.Sequence[tp.Mapping[str, tp.Any]]:\n",
    "    cursor = connection.cursor()\n",
    "    cursor.execute(str(query))\n",
    "    column_names = [full_column_info[0] for full_column_info in cursor.description]\n",
    "    tuple_results = cursor.fetchall()\n",
    "    return [{name: value for name, value in zip(column_names, tup)} for tup in tuple_results]"
   ]
  },
  {
   "cell_type": "code",
   "execution_count": 17,
   "metadata": {
    "collapsed": true,
    "pycharm": {
     "name": "#%%\n"
    },
    "slideshow": {
     "slide_type": "slide"
    }
   },
   "outputs": [
    {
     "data": {
      "text/plain": [
       "[{'Name': 'Rock', 'num_tracks': 1301},\n",
       " {'Name': 'Latin', 'num_tracks': 579},\n",
       " {'Name': 'Metal', 'num_tracks': 374},\n",
       " {'Name': 'Alternative & Punk', 'num_tracks': 332},\n",
       " {'Name': 'Jazz', 'num_tracks': 130},\n",
       " {'Name': 'TV Shows', 'num_tracks': 93},\n",
       " {'Name': 'Blues', 'num_tracks': 81},\n",
       " {'Name': 'Classical', 'num_tracks': 74},\n",
       " {'Name': 'Drama', 'num_tracks': 64},\n",
       " {'Name': 'R&B/Soul', 'num_tracks': 61}]"
      ]
     },
     "execution_count": 17,
     "metadata": {},
     "output_type": "execute_result"
    }
   ],
   "source": [
    "execute_and_get_dicts(q2)"
   ]
  },
  {
   "cell_type": "markdown",
   "metadata": {
    "pycharm": {
     "name": "#%% md\n"
    },
    "slideshow": {
     "slide_type": "slide"
    }
   },
   "source": [
    "### Упражнение\n",
    "\n",
    "Вывести список плейлистов, которые содержат хотя бы один платный трек и хотя бы один трек с жанром 'Metal', отсортированные по убыванию цены. Цену плейлиста определить как сумму цен треков."
   ]
  },
  {
   "cell_type": "code",
   "execution_count": 19,
   "metadata": {
    "pycharm": {
     "name": "#%%\n"
    },
    "slideshow": {
     "slide_type": "fragment"
    }
   },
   "outputs": [],
   "source": [
    "from pypika import Query as Q\n",
    "genre_name = 'Metal'\n",
    "tracks = Table('tracks')\n",
    "genres = Table('genres')\n",
    "playlist_track = Table('playlist_track')\n",
    "playlists = Table('playlists')\n",
    "\n",
    "metal_tracks = Q.from_(genres) \\\n",
    "    .where(genres.Name == genre_name) \\\n",
    "    .join(tracks).using('GenreId') \\\n",
    "    .select(Field('TrackId')).distinct()\n",
    "\n",
    "playlists_with_metal = Q.from_(playlist_track) \\\n",
    "    .inner_join(metal_tracks).using('TrackId') \\\n",
    "    .inner_join(playlists).using('PlayListId') \\\n",
    "    .select('PlayListId', Field('Name'))\n",
    "\n",
    "playlist_costs = Q.from_(playlist_track) \\\n",
    "    .inner_join(Table('tracks')).using('TrackId') \\\n",
    "    .groupby('PlaylistId') \\\n",
    "    .select('PlaylistId', fn.Sum(tracks.UnitPrice).as_('playlist_cost')) \\\n",
    "    .having(Field('playlist_cost') > 0.0)\n",
    "\n",
    "cheapest_metal_playlists = Q.from_(playlists_with_metal) \\\n",
    "    .join(playlist_costs).on(playlist_costs.PlaylistId == playlists_with_metal.PlaylistId) \\\n",
    "    .distinct() \\\n",
    "    .orderby(playlist_costs.playlist_cost, order=Order.desc) \\\n",
    "    .select('PlaylistId', Field('playlist_cost'), playlists_with_metal.Name) \\\n",
    "    .limit(10)\n",
    "\n"
   ]
  },
  {
   "cell_type": "markdown",
   "metadata": {
    "pycharm": {
     "name": "#%% md\n"
    },
    "slideshow": {
     "slide_type": "slide"
    }
   },
   "source": [
    "### The greate generated sql from task"
   ]
  },
  {
   "cell_type": "code",
   "execution_count": 23,
   "metadata": {
    "pycharm": {
     "name": "#%%\n"
    },
    "slideshow": {
     "slide_type": "skip"
    }
   },
   "outputs": [],
   "source": [
    "# !pip install sqlparse"
   ]
  },
  {
   "cell_type": "code",
   "execution_count": 27,
   "metadata": {
    "pycharm": {
     "name": "#%%\n"
    },
    "slideshow": {
     "slide_type": "-"
    }
   },
   "outputs": [
    {
     "name": "stdout",
     "output_type": "stream",
     "text": [
      "SELECT DISTINCT \"sq1\".\"PlaylistId\",\n",
      "                \"playlist_cost\",\n",
      "                \"sq1\".\"Name\"\n",
      "FROM\n",
      "  (SELECT \"playlist_track\".\"PlayListId\",\n",
      "          \"Name\"\n",
      "   FROM \"playlist_track\"\n",
      "   JOIN\n",
      "     (SELECT DISTINCT \"TrackId\"\n",
      "      FROM \"genres\"\n",
      "      JOIN \"tracks\" USING (\"GenreId\")\n",
      "      WHERE \"genres\".\"Name\"='Metal') \"sq0\" USING (\"TrackId\")\n",
      "   JOIN \"playlists\" USING (\"PlayListId\")) \"sq1\"\n",
      "JOIN\n",
      "  (SELECT \"playlist_track\".\"PlaylistId\",\n",
      "          SUM(\"tracks\".\"UnitPrice\") \"playlist_cost\"\n",
      "   FROM \"playlist_track\"\n",
      "   JOIN \"tracks\" USING (\"TrackId\")\n",
      "   GROUP BY \"playlist_track\".\"PlaylistId\"\n",
      "   HAVING \"playlist_cost\">0.0) \"sq2\" ON \"sq2\".\"PlaylistId\"=\"sq1\".\"PlaylistId\"\n",
      "ORDER BY \"sq2\".\"playlist_cost\" DESC\n",
      "LIMIT 10\n"
     ]
    }
   ],
   "source": [
    "import sqlparse\n",
    "print(sqlparse.format(str(cheapest_metal_playlists), reindent=True, keyword_case='upper'))"
   ]
  },
  {
   "cell_type": "code",
   "execution_count": 28,
   "metadata": {
    "pycharm": {
     "name": "#%%\n"
    },
    "slideshow": {
     "slide_type": "slide"
    }
   },
   "outputs": [
    {
     "data": {
      "text/plain": [
       "[{'PlayListId': 1, 'playlist_cost': 3257.0999999997507, 'Name': 'Music'},\n",
       " {'PlayListId': 8, 'playlist_cost': 3257.0999999997507, 'Name': 'Music'},\n",
       " {'PlayListId': 5, 'playlist_cost': 1462.2300000000118, 'Name': '90’s Music'},\n",
       " {'PlayListId': 17,\n",
       "  'playlist_cost': 25.739999999999988,\n",
       "  'Name': 'Heavy Metal Classic'}]"
      ]
     },
     "execution_count": 28,
     "metadata": {},
     "output_type": "execute_result"
    }
   ],
   "source": [
    "execute_and_get_dicts(cheapest_metal_playlists)"
   ]
  },
  {
   "cell_type": "code",
   "execution_count": 29,
   "metadata": {
    "pycharm": {
     "name": "#%%\n"
    },
    "slideshow": {
     "slide_type": "skip"
    }
   },
   "outputs": [
    {
     "name": "stdout",
     "output_type": "stream",
     "text": [
      "SELECT \"playlist_track\".\"PlaylistId\",\n",
      "       SUM(\"tracks\".\"UnitPrice\") \"playlist_cost\"\n",
      "FROM \"playlist_track\"\n",
      "JOIN \"tracks\" USING (\"TrackId\")\n",
      "GROUP BY \"playlist_track\".\"PlaylistId\"\n",
      "HAVING \"playlist_cost\">0.0\n"
     ]
    }
   ],
   "source": [
    "print(sqlparse.format(str(playlist_costs), reindent=True))"
   ]
  },
  {
   "cell_type": "markdown",
   "metadata": {
    "pycharm": {
     "name": "#%% md\n"
    },
    "slideshow": {
     "slide_type": "slide"
    }
   },
   "source": [
    "# Object-Relational Mapping (ORM)\n",
    "\n",
    "- формирование запроса скрыто еще глубже в код фреймворка\n",
    "- формировать запросы еще удобнее\n",
    "- таблицам соответствуют питонячьи классы, похоже на датакласс\n",
    "- результат запроса может быть автоматически отображен в питонячьи объекты (более сложные чем список кортежей)\n",
    "- маппинг в питонячьи объекты иногда может понижать производительность и иногда быть не нужен"
   ]
  },
  {
   "cell_type": "markdown",
   "metadata": {
    "pycharm": {
     "name": "#%% md\n"
    },
    "slideshow": {
     "slide_type": "slide"
    }
   },
   "source": [
    "### Пример ORM - SQLAlchemy"
   ]
  },
  {
   "cell_type": "markdown",
   "metadata": {
    "pycharm": {
     "name": "#%% md\n"
    },
    "slideshow": {
     "slide_type": "-"
    }
   },
   "source": [
    "<img src=\"https://avatars.mds.yandex.net/get-pdb/2835522/84c43db6-4db7-44ab-8fd5-442ee4ecf2a2/s1200\" style=\"height: 600px\">"
   ]
  },
  {
   "cell_type": "markdown",
   "metadata": {
    "pycharm": {
     "name": "#%% md\n"
    },
    "slideshow": {
     "slide_type": "slide"
    }
   },
   "source": [
    "### Движок"
   ]
  },
  {
   "cell_type": "code",
   "execution_count": 1,
   "metadata": {
    "pycharm": {
     "name": "#%%\n"
    },
    "slideshow": {
     "slide_type": "skip"
    }
   },
   "outputs": [
    {
     "name": "stdout",
     "output_type": "stream",
     "text": [
      "Archive:  chinook.zip\r\n",
      "  inflating: chinook.db              \r\n"
     ]
    }
   ],
   "source": [
    "!rm chinook.db\n",
    "!unzip chinook.zip"
   ]
  },
  {
   "cell_type": "code",
   "execution_count": 2,
   "metadata": {
    "pycharm": {
     "name": "#%%\n"
    },
    "slideshow": {
     "slide_type": "-"
    }
   },
   "outputs": [],
   "source": [
    "from sqlalchemy import create_engine, Column, Integer, String, Float\n",
    "from sqlalchemy.ext.declarative import declarative_base\n",
    "\n",
    "# единственный СУБД зависимый объект\n",
    "engine = create_engine('sqlite+pysqlite:///chinook.db', echo=True)\n",
    "\n",
    "Base = declarative_base()  # класс-кодитель для всех классов-моделей (таблиц)"
   ]
  },
  {
   "cell_type": "markdown",
   "metadata": {
    "pycharm": {
     "name": "#%% md\n"
    },
    "slideshow": {
     "slide_type": "slide"
    }
   },
   "source": [
    "### Модели"
   ]
  },
  {
   "cell_type": "code",
   "execution_count": 3,
   "metadata": {
    "pycharm": {
     "name": "#%%\n"
    },
    "slideshow": {
     "slide_type": "-"
    }
   },
   "outputs": [],
   "source": [
    "class Track(Base):\n",
    "    __tablename__ = 'tracks'  # атрибут, содержащий имя моделируемой таблицы\n",
    "    \n",
    "    # список атрибутов\n",
    "    track_id = Column(Integer, name='TrackId', primary_key=True)    # хотя бы один атрибут \n",
    "                                                                    # должен являться первичным ключом\n",
    "    Name = Column(String)\n",
    "    GenreId = Column(Integer)\n",
    "    UnitPrice = Column(Float)\n",
    "    MediaTypeId = Column(Integer)\n",
    "    Milliseconds = Column(Integer)\n",
    "\n",
    "# класс-модель во многом дублирует структуру БД, sqlalchemy умеет создавать таблицы по моделям"
   ]
  },
  {
   "cell_type": "markdown",
   "metadata": {
    "pycharm": {
     "name": "#%% md\n"
    },
    "slideshow": {
     "slide_type": "slide"
    }
   },
   "source": [
    "### Сессия\n",
    "\n",
    "- контейнер для объектов-моделей\n",
    "- сессия содержит в себе объект подключение к базе, которое открывается “лениво”\n",
    "- все взаимодействия с базой проходят через сессию\n",
    "- объекты добавляются в сессию через `.add()` или при поиске объектов через эту сессию\n",
    "- запросы в рамках сессии также выполняются “лениво” и обернуты в транзакцию\n",
    "- чем-то похоже на подключение, но с дополнительными плюшками\n",
    "- объекты в рамках сессии уникализируются по первичному ключу\n"
   ]
  },
  {
   "cell_type": "code",
   "execution_count": 4,
   "metadata": {
    "pycharm": {
     "name": "#%%\n"
    },
    "slideshow": {
     "slide_type": "-"
    }
   },
   "outputs": [],
   "source": [
    "from sqlalchemy.orm import sessionmaker\n",
    "\n",
    "Session = sessionmaker(bind=engine, future=True, expire_on_commit=False)  # фабрика сессий\n",
    "\n",
    "session = Session()  # конкретные сессии\n",
    "session2 = Session()"
   ]
  },
  {
   "cell_type": "markdown",
   "metadata": {
    "pycharm": {
     "name": "#%% md\n"
    },
    "slideshow": {
     "slide_type": "slide"
    }
   },
   "source": [
    "### Select"
   ]
  },
  {
   "cell_type": "code",
   "execution_count": 5,
   "metadata": {
    "collapsed": true,
    "pycharm": {
     "name": "#%%\n"
    },
    "slideshow": {
     "slide_type": "-"
    }
   },
   "outputs": [
    {
     "name": "stdout",
     "output_type": "stream",
     "text": [
      "2021-11-30 01:33:55,090 INFO sqlalchemy.engine.Engine BEGIN (implicit)\n",
      "2021-11-30 01:33:55,093 INFO sqlalchemy.engine.Engine SELECT tracks.\"TrackId\", tracks.\"Name\", tracks.\"GenreId\", tracks.\"UnitPrice\", tracks.\"MediaTypeId\", tracks.\"Milliseconds\" \n",
      "FROM tracks \n",
      "WHERE tracks.\"Name\" LIKE ?\n",
      "2021-11-30 01:33:55,093 INFO sqlalchemy.engine.Engine [generated in 0.00061s] ('%name%',)\n",
      "2021-11-30 01:33:55,096 INFO sqlalchemy.engine.Engine SELECT tracks.\"TrackId\", tracks.\"Name\", tracks.\"GenreId\", tracks.\"UnitPrice\", tracks.\"MediaTypeId\", tracks.\"Milliseconds\" \n",
      "FROM tracks \n",
      "WHERE tracks.\"Name\" LIKE ?\n",
      "2021-11-30 01:33:55,096 INFO sqlalchemy.engine.Engine [cached since 0.003318s ago] ('%name%',)\n",
      "2021-11-30 01:33:55,098 INFO sqlalchemy.engine.Engine SELECT tracks.\"TrackId\", tracks.\"Name\", tracks.\"GenreId\", tracks.\"UnitPrice\", tracks.\"MediaTypeId\", tracks.\"Milliseconds\" \n",
      "FROM tracks \n",
      "WHERE tracks.\"Name\" LIKE ?\n",
      "2021-11-30 01:33:55,098 INFO sqlalchemy.engine.Engine [cached since 0.005612s ago] ('%name%',)\n"
     ]
    }
   ],
   "source": [
    "from sqlalchemy import select\n",
    "\n",
    "# отголоски QueryBuilder'а. На самом деле, это он и есть. Внутри ORM запросы составляются\n",
    "# как раз с помощью QueryBuilder'а\n",
    "query = select(Track) \\\n",
    "    .where(Track.Name.like('%name%'))\n",
    "\n",
    "retrieved1 = session.execute(query).scalar()\n",
    "retrieved2 = session.execute(query).scalar()\n",
    "\n",
    "retrieved3 = session.execute(\n",
    "    select(Track) \\\n",
    "    .where(Track.Name.like('%name%'))\n",
    ").scalar()\n",
    "\n",
    "res = retrieved1 is retrieved2, retrieved1 is retrieved3, retrieved2 is retrieved3"
   ]
  },
  {
   "cell_type": "code",
   "execution_count": 6,
   "metadata": {
    "collapsed": true,
    "pycharm": {
     "name": "#%%\n"
    },
    "slideshow": {
     "slide_type": "-"
    }
   },
   "outputs": [
    {
     "data": {
      "text/plain": [
       "(True, True, True)"
      ]
     },
     "execution_count": 6,
     "metadata": {},
     "output_type": "execute_result"
    }
   ],
   "source": [
    "res"
   ]
  },
  {
   "cell_type": "markdown",
   "metadata": {
    "pycharm": {
     "name": "#%% md\n"
    },
    "slideshow": {
     "slide_type": "slide"
    }
   },
   "source": [
    "### Немного синтаксиса фильтраций\n",
    "\n",
    "Подробнее можно посмотреть в ламповой <a href=\"https://docs.sqlalchemy.org/en/20/tutorial/data_select.html#the-where-clause\">доке с кучей примеров</a>.\n",
    "\n",
    "- .filter_by(\\<attr>=\\<val>) - быстрая фильтрация по значению атрибута, .where() - гибкая\n",
    "- .where(\\<ModelClass>.\\<attr> == \\<val>), также можно != и < и даже >=\n",
    "- .where(\\<mc>.\\<attr>.like(‘%val%’)), .ilike() - поиск строк по шаблону\n",
    "- .where(\\<mc>.\\<attr>.in(\\<sequence>)), также .notin()\n",
    "- в цепочке разные .where() соединяются через логическое И\n",
    "- можно использовать отдельно импортируемые из sqlalchemy функции and_(\\<cond1>, \\<cond2>), or_(\\<cond1>, \\<cond2>)\n"
   ]
  },
  {
   "cell_type": "markdown",
   "metadata": {
    "pycharm": {
     "name": "#%% md\n"
    },
    "slideshow": {
     "slide_type": "slide"
    }
   },
   "source": [
    "### Добавление строк и ленивое выполнение"
   ]
  },
  {
   "cell_type": "code",
   "execution_count": 7,
   "metadata": {
    "collapsed": true,
    "pycharm": {
     "name": "#%%\n"
    },
    "slideshow": {
     "slide_type": "skip"
    }
   },
   "outputs": [
    {
     "name": "stdout",
     "output_type": "stream",
     "text": [
      "2021-11-30 01:34:03,511 INFO sqlalchemy.engine.Engine ROLLBACK\n"
     ]
    }
   ],
   "source": [
    "session.rollback()"
   ]
  },
  {
   "cell_type": "code",
   "execution_count": 8,
   "metadata": {
    "pycharm": {
     "name": "#%%\n"
    },
    "slideshow": {
     "slide_type": "-"
    }
   },
   "outputs": [],
   "source": [
    "# пока что просто создали питонячий объект, в БД изменений нет\n",
    "some_track = Track(track_id=10000, MediaTypeId=1, Name='new track', GenreId=1, UnitPrice=1.0, Milliseconds=297823)\n",
    "\n",
    "# все еще ничего не произошло. Но теперь этот объект привязан к сессии, дальше станет понятно что это значит\n",
    "session.add(some_track)"
   ]
  },
  {
   "cell_type": "code",
   "execution_count": 9,
   "metadata": {
    "collapsed": true,
    "pycharm": {
     "name": "#%%\n"
    },
    "slideshow": {
     "slide_type": "fragment"
    }
   },
   "outputs": [
    {
     "name": "stdout",
     "output_type": "stream",
     "text": [
      "2021-11-30 01:34:15,629 INFO sqlalchemy.engine.Engine BEGIN (implicit)\n",
      "2021-11-30 01:34:15,631 INFO sqlalchemy.engine.Engine INSERT INTO tracks (\"TrackId\", \"Name\", \"GenreId\", \"UnitPrice\", \"MediaTypeId\", \"Milliseconds\") VALUES (?, ?, ?, ?, ?, ?)\n",
      "2021-11-30 01:34:15,631 INFO sqlalchemy.engine.Engine [generated in 0.00084s] (10000, 'new track', 1, 1.0, 1, 297823)\n",
      "2021-11-30 01:34:15,633 INFO sqlalchemy.engine.Engine SELECT tracks.\"TrackId\", tracks.\"Name\", tracks.\"GenreId\", tracks.\"UnitPrice\", tracks.\"MediaTypeId\", tracks.\"Milliseconds\" \n",
      "FROM tracks \n",
      "WHERE tracks.\"Name\" = ?\n",
      "2021-11-30 01:34:15,634 INFO sqlalchemy.engine.Engine [generated in 0.00044s] ('new track',)\n"
     ]
    }
   ],
   "source": [
    "# пробуем достать только что созданный объект: произошло добавление строки и тут же обратный выбор\n",
    "res = session.execute(select(Track).filter_by(Name='new track')).scalar()"
   ]
  },
  {
   "cell_type": "code",
   "execution_count": 10,
   "metadata": {
    "collapsed": true,
    "pycharm": {
     "name": "#%%\n"
    },
    "slideshow": {
     "slide_type": "-"
    }
   },
   "outputs": [
    {
     "data": {
      "text/plain": [
       "True"
      ]
     },
     "execution_count": 10,
     "metadata": {},
     "output_type": "execute_result"
    }
   ],
   "source": [
    "res is some_track"
   ]
  },
  {
   "cell_type": "markdown",
   "metadata": {
    "pycharm": {
     "name": "#%% md\n"
    },
    "slideshow": {
     "slide_type": "slide"
    }
   },
   "source": [
    "### Транзакции"
   ]
  },
  {
   "cell_type": "code",
   "execution_count": 11,
   "metadata": {
    "collapsed": true,
    "pycharm": {
     "name": "#%%\n"
    },
    "slideshow": {
     "slide_type": "-"
    }
   },
   "outputs": [
    {
     "name": "stdout",
     "output_type": "stream",
     "text": [
      "2021-11-30 01:34:24,960 INFO sqlalchemy.engine.Engine BEGIN (implicit)\n",
      "2021-11-30 01:34:24,961 INFO sqlalchemy.engine.Engine SELECT tracks.\"TrackId\", tracks.\"Name\", tracks.\"GenreId\", tracks.\"UnitPrice\", tracks.\"MediaTypeId\", tracks.\"Milliseconds\" \n",
      "FROM tracks \n",
      "WHERE tracks.\"Name\" = ?\n",
      "2021-11-30 01:34:24,962 INFO sqlalchemy.engine.Engine [cached since 9.329s ago] ('new track',)\n"
     ]
    }
   ],
   "source": [
    "res2 = session2.execute(select(Track).filter_by(Name='new track')).scalar()"
   ]
  },
  {
   "cell_type": "code",
   "execution_count": 12,
   "metadata": {
    "collapsed": true,
    "pycharm": {
     "name": "#%%\n"
    },
    "slideshow": {
     "slide_type": "-"
    }
   },
   "outputs": [
    {
     "name": "stdout",
     "output_type": "stream",
     "text": [
      "None\n"
     ]
    }
   ],
   "source": [
    "print(res2)"
   ]
  },
  {
   "cell_type": "code",
   "execution_count": 13,
   "metadata": {
    "collapsed": true,
    "pycharm": {
     "name": "#%%\n"
    },
    "slideshow": {
     "slide_type": "fragment"
    }
   },
   "outputs": [
    {
     "name": "stdout",
     "output_type": "stream",
     "text": [
      "2021-11-30 01:34:33,779 INFO sqlalchemy.engine.Engine COMMIT\n",
      "2021-11-30 01:34:33,794 INFO sqlalchemy.engine.Engine SELECT tracks.\"TrackId\", tracks.\"Name\", tracks.\"GenreId\", tracks.\"UnitPrice\", tracks.\"MediaTypeId\", tracks.\"Milliseconds\" \n",
      "FROM tracks \n",
      "WHERE tracks.\"Name\" = ?\n",
      "2021-11-30 01:34:33,795 INFO sqlalchemy.engine.Engine [cached since 18.16s ago] ('new track',)\n"
     ]
    }
   ],
   "source": [
    "session.commit()\n",
    "\n",
    "res2 = session2.execute(select(Track).filter_by(Name='new track')).scalar()\n",
    "\n",
    "are_equal = res2 is some_track"
   ]
  },
  {
   "cell_type": "code",
   "execution_count": 14,
   "metadata": {
    "collapsed": true,
    "pycharm": {
     "name": "#%%\n"
    },
    "slideshow": {
     "slide_type": "-"
    }
   },
   "outputs": [
    {
     "data": {
      "text/plain": [
       "(<__main__.Track at 0x7f5d8c48b460>, False)"
      ]
     },
     "execution_count": 14,
     "metadata": {},
     "output_type": "execute_result"
    }
   ],
   "source": [
    "res2, are_equal"
   ]
  },
  {
   "cell_type": "markdown",
   "metadata": {
    "pycharm": {
     "name": "#%% md\n"
    },
    "slideshow": {
     "slide_type": "slide"
    }
   },
   "source": [
    "### Связи между таблицами (relations)"
   ]
  },
  {
   "cell_type": "code",
   "execution_count": 15,
   "metadata": {
    "pycharm": {
     "name": "#%%\n"
    },
    "slideshow": {
     "slide_type": "-"
    }
   },
   "outputs": [],
   "source": [
    "from sqlalchemy import ForeignKey, select\n",
    "from sqlalchemy.orm import relationship\n",
    "\n",
    "class RelatedTrack(Base):\n",
    "    __tablename__ = 'tracks'\n",
    "    __table_args__ = {'extend_existing': True}  # чтобы не было конфликта с ранее объявленной моделью Track\n",
    "    \n",
    "    track_id = Column(Integer, name='TrackId', primary_key=True)\n",
    "    \n",
    "    Name = Column(String)\n",
    "    # добавили указание, что на этот атрибут ссылается другая таблица\n",
    "    GenreId = Column(Integer, ForeignKey(\"genres.GenreId\"))\n",
    "    UnitPrice = Column(Float)\n",
    "    MediaTypeId = Column(Integer)\n",
    "    Milliseconds = Column(Integer)\n",
    "    \n",
    "    # добавили атрибут, с помощью которого можно будет обращаться к связанным записям\n",
    "    genre = relationship(\"Genre\", back_populates=\"tracks\")\n",
    "\n",
    "class Genre(Base):\n",
    "    __tablename__ = 'genres'\n",
    "    __table_args__ = {'extend_existing': True}\n",
    "    \n",
    "    GenreId = Column(Integer, primary_key=True)\n",
    "    Name = Column(String)\n",
    "    \n",
    "    # аналогично, добавили атрибут, куда попадут связанные записи\n",
    "    tracks = relationship(\"RelatedTrack\", back_populates=\"genre\", uselist=True)"
   ]
  },
  {
   "cell_type": "code",
   "execution_count": 16,
   "metadata": {
    "pycharm": {
     "name": "#%%\n"
    },
    "slideshow": {
     "slide_type": "slide"
    }
   },
   "outputs": [
    {
     "name": "stdout",
     "output_type": "stream",
     "text": [
      "2021-11-30 01:34:46,377 INFO sqlalchemy.engine.Engine BEGIN (implicit)\n",
      "2021-11-30 01:34:46,381 INFO sqlalchemy.engine.Engine SELECT genres.\"GenreId\", genres.\"Name\" \n",
      "FROM genres \n",
      "WHERE genres.\"GenreId\" = ?\n",
      "2021-11-30 01:34:46,382 INFO sqlalchemy.engine.Engine [generated in 0.00072s] (1,)\n"
     ]
    }
   ],
   "source": [
    "genre1 = session.execute(select(Genre).filter_by(GenreId=1)).scalar()  # выбрался только сам жанр, без связей"
   ]
  },
  {
   "cell_type": "code",
   "execution_count": 17,
   "metadata": {
    "pycharm": {
     "name": "#%%\n"
    },
    "slideshow": {
     "slide_type": "-"
    }
   },
   "outputs": [
    {
     "name": "stdout",
     "output_type": "stream",
     "text": [
      "2021-11-30 01:34:49,893 INFO sqlalchemy.engine.Engine SELECT tracks.\"TrackId\" AS \"tracks_TrackId\", tracks.\"Name\" AS \"tracks_Name\", tracks.\"GenreId\" AS \"tracks_GenreId\", tracks.\"UnitPrice\" AS \"tracks_UnitPrice\", tracks.\"MediaTypeId\" AS \"tracks_MediaTypeId\", tracks.\"Milliseconds\" AS \"tracks_Milliseconds\" \n",
      "FROM tracks \n",
      "WHERE ? = tracks.\"GenreId\"\n",
      "2021-11-30 01:34:49,895 INFO sqlalchemy.engine.Engine [generated in 0.00131s] (1,)\n"
     ]
    },
    {
     "data": {
      "text/plain": [
       "1298"
      ]
     },
     "execution_count": 17,
     "metadata": {},
     "output_type": "execute_result"
    }
   ],
   "source": [
    "len(genre1.tracks)  # теперь выбрались только связи"
   ]
  },
  {
   "cell_type": "code",
   "execution_count": 18,
   "metadata": {
    "pycharm": {
     "name": "#%%\n"
    },
    "slideshow": {
     "slide_type": "-"
    }
   },
   "outputs": [
    {
     "data": {
      "text/plain": [
       "'For Those About To Rock (We Salute You)'"
      ]
     },
     "execution_count": 18,
     "metadata": {},
     "output_type": "execute_result"
    }
   ],
   "source": [
    "genre1.tracks[0].Name  # результат закешировался"
   ]
  },
  {
   "cell_type": "code",
   "execution_count": 19,
   "metadata": {
    "pycharm": {
     "name": "#%%\n"
    },
    "slideshow": {
     "slide_type": "-"
    }
   },
   "outputs": [
    {
     "data": {
      "text/plain": [
       "True"
      ]
     },
     "execution_count": 19,
     "metadata": {},
     "output_type": "execute_result"
    }
   ],
   "source": [
    "genre1.tracks[0].genre is genre1  # проставилась обратная связь"
   ]
  },
  {
   "cell_type": "markdown",
   "metadata": {
    "pycharm": {
     "name": "#%% md\n"
    },
    "slideshow": {
     "slide_type": "slide"
    }
   },
   "source": [
    "### Фильтрация по связанным объектам"
   ]
  },
  {
   "cell_type": "code",
   "execution_count": 20,
   "metadata": {
    "pycharm": {
     "name": "#%%\n"
    },
    "slideshow": {
     "slide_type": "-"
    }
   },
   "outputs": [
    {
     "name": "stdout",
     "output_type": "stream",
     "text": [
      "2021-11-30 01:35:04,972 INFO sqlalchemy.engine.Engine SELECT tracks.\"TrackId\", tracks.\"Name\", tracks.\"GenreId\", tracks.\"UnitPrice\", tracks.\"MediaTypeId\", tracks.\"Milliseconds\" \n",
      "FROM tracks JOIN genres ON genres.\"GenreId\" = tracks.\"GenreId\" \n",
      "WHERE genres.\"Name\" LIKE ?\n",
      " LIMIT ? OFFSET ?\n",
      "2021-11-30 01:35:04,973 INFO sqlalchemy.engine.Engine [generated in 0.00120s] ('%Rock%', 5, 0)\n"
     ]
    }
   ],
   "source": [
    "tracks = session.execute(select(RelatedTrack) \\\n",
    "    .join(Genre) \\\n",
    "    .where(Genre.Name.like('%Rock%')).limit(5)\n",
    ").scalars().all()"
   ]
  },
  {
   "cell_type": "code",
   "execution_count": 21,
   "metadata": {
    "pycharm": {
     "name": "#%%\n"
    },
    "slideshow": {
     "slide_type": "-"
    }
   },
   "outputs": [
    {
     "name": "stdout",
     "output_type": "stream",
     "text": [
      "Rock\n",
      "Rock\n",
      "Rock\n",
      "Rock\n",
      "Rock\n"
     ]
    }
   ],
   "source": [
    "# повторных запросов на обратную связь не происходит, тк выбрали все вместе\n",
    "for track in tracks:\n",
    "    print(track.genre.Name)"
   ]
  },
  {
   "cell_type": "markdown",
   "metadata": {
    "pycharm": {
     "name": "#%% md\n"
    },
    "slideshow": {
     "slide_type": "slide"
    }
   },
   "source": [
    "# Спасибо за внимание"
   ]
  }
 ],
 "metadata": {
  "celltoolbar": "Slideshow",
  "kernelspec": {
   "display_name": "Python 3 (ipykernel)",
   "language": "python",
   "name": "python3"
  },
  "language_info": {
   "codemirror_mode": {
    "name": "ipython",
    "version": 3
   },
   "file_extension": ".py",
   "mimetype": "text/x-python",
   "name": "python",
   "nbconvert_exporter": "python",
   "pygments_lexer": "ipython3",
   "version": "3.9.12"
  },
  "rise": {
   "enable_chalkboard": true,
   "footer": "<p style=\"margin: 5px; color: #a0a0a0\">YSDA Python Course</p>",
   "scroll": true,
   "start_slideshow_at": "selected",
   "theme": "serif",
   "transition": "none"
  }
 },
 "nbformat": 4,
 "nbformat_minor": 2
}
