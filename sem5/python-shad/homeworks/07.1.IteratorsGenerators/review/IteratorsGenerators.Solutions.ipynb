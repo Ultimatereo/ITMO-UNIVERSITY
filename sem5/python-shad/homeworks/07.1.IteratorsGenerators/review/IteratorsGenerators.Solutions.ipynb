{
 "cells": [
  {
   "cell_type": "markdown",
   "metadata": {
    "slideshow": {
     "slide_type": "slide"
    }
   },
   "source": [
    "<center>\n",
    "    <img src=\"https://upload.wikimedia.org/wikipedia/commons/a/a8/%D0%9B%D0%9E%D0%93%D0%9E_%D0%A8%D0%90%D0%94.png\" width=500px/>\n",
    "    <font>Python 2021</font><br/>\n",
    "    <br/>\n",
    "    <br/>\n",
    "    <b style=\"font-size: 2em\">Разбор задач: IteratorsGenerators</b><br/>\n",
    "    <br/>\n",
    "    <font>Вадим Мазаев</font><br/>\n",
    "</center>"
   ]
  },
  {
   "cell_type": "markdown",
   "metadata": {},
   "source": [
    "### Warm Up"
   ]
  },
  {
   "cell_type": "code",
   "execution_count": 1,
   "metadata": {},
   "outputs": [],
   "source": [
    "import operator\n",
    "from collections.abc import Generator\n",
    "from itertools import chain\n",
    "from typing import Any"
   ]
  },
  {
   "cell_type": "markdown",
   "metadata": {},
   "source": [
    "<div class=\"alert alert-warning\">\n",
    "<b>Transpose. Каноническое решение</b>\n",
    "</div>"
   ]
  },
  {
   "cell_type": "code",
   "execution_count": 2,
   "metadata": {},
   "outputs": [],
   "source": [
    "def transpose(matrix: list[list[Any]]) -> list[list[Any]]:\n",
    "    \"\"\"\n",
    "    :param matrix: rectangular matrix\n",
    "    :return: transposed matrix\n",
    "    \"\"\"\n",
    "    return [list(cols) for cols in zip(*matrix)]"
   ]
  },
  {
   "cell_type": "code",
   "execution_count": 7,
   "metadata": {},
   "outputs": [],
   "source": [
    "def transpose(matrix: list[list[Any]]) -> list[list[Any]]:\n",
    "    \"\"\"\n",
    "    :param matrix: rectangular matrix\n",
    "    :return: transposed matrix\n",
    "    \"\"\"\n",
    "    return list(map(list, zip(*matrix)))"
   ]
  },
  {
   "cell_type": "markdown",
   "metadata": {},
   "source": [
    "<div class=\"alert alert-danger\">\n",
    "<b>Антипаттерн. generator expression + list()</b>\n",
    "</div>"
   ]
  },
  {
   "cell_type": "code",
   "execution_count": null,
   "metadata": {},
   "outputs": [],
   "source": [
    "def transpose(matrix: list[list[Any]]) -> list[list[Any]]:\n",
    "    \"\"\"\n",
    "    :param matrix: rectangular matrix\n",
    "    :return: transposed matrix\n",
    "    \"\"\"\n",
    "    return list(list(elem) for elem in zip(*matrix))"
   ]
  },
  {
   "cell_type": "markdown",
   "metadata": {},
   "source": [
    "<div class=\"alert alert-danger\">\n",
    "<b>Ошибка. Не учитываются граничные случаи</b>\n",
    "</div>"
   ]
  },
  {
   "cell_type": "code",
   "execution_count": 11,
   "metadata": {},
   "outputs": [],
   "source": [
    "def transpose(matrix: list[list[Any]]) -> list[list[Any]]:\n",
    "    \"\"\"\n",
    "    :param matrix: rectangular matrix\n",
    "    :return: transposed matrix\n",
    "    \"\"\"\n",
    "    return [[x[i] for x in matrix] for i in range(len(matrix[0]))]"
   ]
  },
  {
   "cell_type": "code",
   "execution_count": 12,
   "metadata": {
    "collapsed": true
   },
   "outputs": [
    {
     "ename": "IndexError",
     "evalue": "list index out of range",
     "output_type": "error",
     "traceback": [
      "\u001b[0;31m---------------------------------------------------------------------------\u001b[0m",
      "\u001b[0;31mIndexError\u001b[0m                                Traceback (most recent call last)",
      "\u001b[0;32m<ipython-input-12-0207c02ac56d>\u001b[0m in \u001b[0;36m<module>\u001b[0;34m\u001b[0m\n\u001b[0;32m----> 1\u001b[0;31m \u001b[0mtranspose\u001b[0m\u001b[0;34m(\u001b[0m\u001b[0;34m[\u001b[0m\u001b[0;34m]\u001b[0m\u001b[0;34m)\u001b[0m\u001b[0;34m\u001b[0m\u001b[0;34m\u001b[0m\u001b[0m\n\u001b[0m",
      "\u001b[0;32m<ipython-input-11-29b11f4cd6b6>\u001b[0m in \u001b[0;36mtranspose\u001b[0;34m(matrix)\u001b[0m\n\u001b[1;32m      4\u001b[0m     \u001b[0;34m:\u001b[0m\u001b[0;32mreturn\u001b[0m\u001b[0;34m:\u001b[0m \u001b[0mtransposed\u001b[0m \u001b[0mmatrix\u001b[0m\u001b[0;34m\u001b[0m\u001b[0;34m\u001b[0m\u001b[0m\n\u001b[1;32m      5\u001b[0m     \"\"\"\n\u001b[0;32m----> 6\u001b[0;31m     \u001b[0;32mreturn\u001b[0m \u001b[0;34m[\u001b[0m\u001b[0;34m[\u001b[0m\u001b[0mx\u001b[0m\u001b[0;34m[\u001b[0m\u001b[0mi\u001b[0m\u001b[0;34m]\u001b[0m \u001b[0;32mfor\u001b[0m \u001b[0mx\u001b[0m \u001b[0;32min\u001b[0m \u001b[0mmatrix\u001b[0m\u001b[0;34m]\u001b[0m \u001b[0;32mfor\u001b[0m \u001b[0mi\u001b[0m \u001b[0;32min\u001b[0m \u001b[0mrange\u001b[0m\u001b[0;34m(\u001b[0m\u001b[0mlen\u001b[0m\u001b[0;34m(\u001b[0m\u001b[0mmatrix\u001b[0m\u001b[0;34m[\u001b[0m\u001b[0;36m0\u001b[0m\u001b[0;34m]\u001b[0m\u001b[0;34m)\u001b[0m\u001b[0;34m)\u001b[0m\u001b[0;34m]\u001b[0m\u001b[0;34m\u001b[0m\u001b[0;34m\u001b[0m\u001b[0m\n\u001b[0m",
      "\u001b[0;31mIndexError\u001b[0m: list index out of range"
     ]
    }
   ],
   "source": [
    "transpose([])"
   ]
  },
  {
   "cell_type": "markdown",
   "metadata": {},
   "source": [
    "<div class=\"alert alert-danger\">\n",
    "<b>Антипаттерн. range() + len()</b>\n",
    "</div>"
   ]
  },
  {
   "cell_type": "code",
   "execution_count": 9,
   "metadata": {},
   "outputs": [],
   "source": [
    "def transpose(matrix: list[list[Any]]) -> list[list[Any]]:\n",
    "    \"\"\"\n",
    "    :param matrix: rectangular matrix\n",
    "    :return: transposed matrix\n",
    "    \"\"\"\n",
    "    return [[matrix[i][j] for i in range(len(matrix))] for j in range(len(matrix[0]))]"
   ]
  },
  {
   "cell_type": "markdown",
   "metadata": {},
   "source": [
    "<div class=\"alert alert-danger\">\n",
    "<b>Не python-style: индексации, range()+len(), сборка простых списков через .append();</b><br>\n",
    "<b>Не эффективно: 2 прохода по списку вместо одного</b>\n",
    "</div>"
   ]
  },
  {
   "cell_type": "code",
   "execution_count": null,
   "metadata": {},
   "outputs": [],
   "source": [
    "def transpose(matrix: list[list[Any]]) -> list[list[Any]]:\n",
    "    \"\"\"\n",
    "    :param matrix: rectangular matrix\n",
    "    :return: transposed matrix\n",
    "    \"\"\"\n",
    "    result: list[list[Any]] = []\n",
    "    for i in range(0, len(matrix[0])):\n",
    "        result.append([])\n",
    "\n",
    "    for j in range(0, len(matrix[0])):\n",
    "        for i in range(0, len(matrix)):\n",
    "            result[j].append(matrix[i][j])\n",
    "    \n",
    "    return result"
   ]
  },
  {
   "cell_type": "markdown",
   "metadata": {},
   "source": [
    "<div class=\"alert alert-warning\">\n",
    "<b>Uniq. Каноническое решение</b>\n",
    "</div>"
   ]
  },
  {
   "cell_type": "code",
   "execution_count": 3,
   "metadata": {},
   "outputs": [],
   "source": [
    "def uniq(sequence: list[Any]) -> Generator[Any, None, None]:\n",
    "    \"\"\"\n",
    "    :param sequence: arbitrary sequence of comparable elements\n",
    "    :return: generator of elements of `sequence` in\n",
    "    the same order without duplicates\n",
    "    \"\"\"\n",
    "    seen: set[Any] = set()\n",
    "    for element in sequence:\n",
    "        if element not in seen:\n",
    "            seen.add(element)\n",
    "            yield element"
   ]
  },
  {
   "cell_type": "markdown",
   "metadata": {},
   "source": [
    "<div class=\"alert alert-warning\">\n",
    "<b>Решение \"не как у всех\"</b>\n",
    "</div>"
   ]
  },
  {
   "cell_type": "code",
   "execution_count": null,
   "metadata": {},
   "outputs": [],
   "source": [
    "def uniq(sequence: list[Any]) -> Generator[Any, None, None]:\n",
    "    \"\"\"\n",
    "    :param sequence: arbitrary sequence of comparable elements\n",
    "    :return: generator of elements of `sequence` in\n",
    "    the same order without duplicates\n",
    "    \"\"\"\n",
    "    unique = set(sequence)\n",
    "    for item in sequence:\n",
    "        if item in unique:\n",
    "            yield item\n",
    "            unique.remove(item)"
   ]
  },
  {
   "cell_type": "markdown",
   "metadata": {},
   "source": [
    "<div class=\"alert alert-danger\">\n",
    "<b>Антипаттерн. Короткие имена переменных</b>\n",
    "</div>"
   ]
  },
  {
   "cell_type": "code",
   "execution_count": null,
   "metadata": {},
   "outputs": [],
   "source": [
    "def uniq(sequence: list[Any]) -> Generator[Any, None, None]:\n",
    "    \"\"\"\n",
    "    :param sequence: arbitrary sequence of comparable elements\n",
    "    :return: generator of elements of `sequence` in\n",
    "    the same order without duplicates\n",
    "    \"\"\"\n",
    "    a = set()\n",
    "    for x in sequence:\n",
    "        if x not in a:\n",
    "            a.add(x)\n",
    "            yield x"
   ]
  },
  {
   "cell_type": "markdown",
   "metadata": {},
   "source": [
    "<div class=\"alert alert-danger\">\n",
    "<b>Ошибка. Неверно понятое условие + ненужный gen expr</b>\n",
    "</div>"
   ]
  },
  {
   "cell_type": "code",
   "execution_count": null,
   "metadata": {},
   "outputs": [],
   "source": [
    "def uniq(sequence: list[Any]) -> Generator[Any, None, None]:\n",
    "    \"\"\"\n",
    "    :param sequence: arbitrary sequence of comparable elements\n",
    "    :return: generator of elements of `sequence` in\n",
    "    the same order without duplicates\n",
    "    \"\"\"\n",
    "    return (x for i, x in enumerate(sequence) if i == sequence.index(x))"
   ]
  },
  {
   "cell_type": "markdown",
   "metadata": {},
   "source": [
    "<div class=\"alert alert-danger\">\n",
    "<b>Ошибка. Неверно понятое условие + ненужные скобочки</b>\n",
    "</div>"
   ]
  },
  {
   "cell_type": "code",
   "execution_count": null,
   "metadata": {},
   "outputs": [],
   "source": [
    "def uniq(sequence: list[Any]) -> Generator[Any, None, None]:\n",
    "    \"\"\"\n",
    "    :param sequence: arbitrary sequence of comparable elements\n",
    "    :return: generator of elements of `sequence` in\n",
    "    the same order without duplicates\n",
    "    \"\"\"\n",
    "    yield from(set(sequence))"
   ]
  },
  {
   "cell_type": "markdown",
   "metadata": {},
   "source": [
    "<div class=\"alert alert-danger\">\n",
    "<b>Антипаттерн. Бесполезный continue/else</b>\n",
    "</div>"
   ]
  },
  {
   "cell_type": "code",
   "execution_count": null,
   "metadata": {},
   "outputs": [],
   "source": [
    "def uniq(sequence: list[Any]) -> Generator[Any, None, None]:\n",
    "    \"\"\"\n",
    "    :param sequence: arbitrary sequence of comparable elements\n",
    "    :return: generator of elements of `sequence` in\n",
    "    the same order without duplicates\n",
    "    \"\"\"\n",
    "    uniqs = set()\n",
    "    for value in sequence:\n",
    "        if value in uniqs:\n",
    "            continue\n",
    "        else:\n",
    "            uniqs.add(value)\n",
    "            yield value"
   ]
  },
  {
   "cell_type": "markdown",
   "metadata": {},
   "source": [
    "<div class=\"alert alert-danger\">\n",
    "<b>Неоптимальность. Использование list, там где предполагается быстрый лукап</b>\n",
    "</div>"
   ]
  },
  {
   "cell_type": "code",
   "execution_count": null,
   "metadata": {},
   "outputs": [],
   "source": [
    "def uniq(sequence: list[Any]) -> Generator[Any, None, None]:\n",
    "    \"\"\"\n",
    "    :param sequence: arbitrary sequence of comparable elements\n",
    "    :return: generator of elements of `sequence` in\n",
    "    the same order without duplicates\n",
    "    \"\"\"\n",
    "    unique = []\n",
    "    for elem in sequence:\n",
    "        if elem not in unique:\n",
    "            unique.append(elem)\n",
    "            yield elem"
   ]
  },
  {
   "cell_type": "markdown",
   "metadata": {},
   "source": [
    "<div class=\"alert alert-danger\">\n",
    "<b>Антипаттерн. Вложенный генератор, \"чтобы был\"</b>\n",
    "</div>"
   ]
  },
  {
   "cell_type": "code",
   "execution_count": null,
   "metadata": {},
   "outputs": [],
   "source": [
    "def uniq(sequence: list[Any]) -> Generator[Any, None, None]:\n",
    "    \"\"\"\n",
    "    :param sequence: arbitrary sequence of comparable elements\n",
    "    :return: generator of elements of `sequence` in\n",
    "    the same order without duplicates\n",
    "    \"\"\"\n",
    "\n",
    "    def unique(els: list[Any]) -> Generator[Any, None, None]:\n",
    "        seen = set()\n",
    "        for el in els:\n",
    "            if el in seen:\n",
    "                continue\n",
    "            seen.add(el)\n",
    "            yield el\n",
    "\n",
    "    return unique(sequence)"
   ]
  },
  {
   "cell_type": "markdown",
   "metadata": {},
   "source": [
    "<div class=\"alert alert-danger\">\n",
    "<b>Неоптимальность. Counter (dict c подсчетом кол-ва вхождений) вместо set'а + лишний genexpr</b>\n",
    "</div>"
   ]
  },
  {
   "cell_type": "code",
   "execution_count": null,
   "metadata": {},
   "outputs": [],
   "source": [
    "def uniq(sequence: list[Any]) -> Generator[Any, None, None]:\n",
    "    \"\"\"\n",
    "    :param sequence: arbitrary sequence of comparable elements\n",
    "    :return: generator of elements of `sequence` in\n",
    "    the same order without duplicates\n",
    "    \"\"\"\n",
    "    return (key for key in Counter(sequence))"
   ]
  },
  {
   "cell_type": "markdown",
   "metadata": {},
   "source": [
    "<div class=\"alert alert-danger\">\n",
    "<b>Неоптимальность. Копирования части списка в цикле + неоптимальный поиск в нем</b>\n",
    "</div>"
   ]
  },
  {
   "cell_type": "code",
   "execution_count": null,
   "metadata": {},
   "outputs": [],
   "source": [
    "def uniq(sequence: list[Any]) -> Generator[Any, None, None]:\n",
    "    \"\"\"\n",
    "    :param sequence: arbitrary sequence of comparable elements\n",
    "    :return: generator of elements of `sequence` in\n",
    "    the same order without duplicates\n",
    "    \"\"\"\n",
    "    for i, elem in enumerate(sequence):\n",
    "        if i == 0 or elem not in sequence[0:i]:\n",
    "            yield elem"
   ]
  },
  {
   "cell_type": "markdown",
   "metadata": {},
   "source": [
    "<div class=\"alert alert-danger\">\n",
    "<b>Неоптимальность. Аллокация dict'a вместо set'a + ненужный genexpr</b>\n",
    "</div>\n",
    "\n",
    "Помнишь про fromkeys? А он есть!"
   ]
  },
  {
   "cell_type": "code",
   "execution_count": null,
   "metadata": {},
   "outputs": [],
   "source": [
    "def uniq(sequence: list[Any]) -> Generator[Any, None, None]:\n",
    "    \"\"\"\n",
    "    :param sequence: arbitrary sequence of comparable elements\n",
    "    :return: generator of elements of `sequence` in\n",
    "    the same order without duplicates\n",
    "    \"\"\"\n",
    "\n",
    "    return (el for el in list(dict.fromkeys(sequence)))"
   ]
  },
  {
   "cell_type": "markdown",
   "metadata": {},
   "source": [
    "<div class=\"alert alert-danger\">\n",
    "<b>Антипаттерн. Испольвание while там, где проще for</b>\n",
    "</div>\n",
    "\n",
    "- Пейн, я for-цикл не чувствую!\n",
    "- А у тебя его нет!"
   ]
  },
  {
   "cell_type": "code",
   "execution_count": null,
   "metadata": {},
   "outputs": [],
   "source": [
    "def uniq(sequence: list[Any]) -> Generator[Any, None, None]:\n",
    "    \"\"\"\n",
    "    :param sequence: arbitrary sequence of comparable elements\n",
    "    :return: generator of elements of `sequence` in\n",
    "    the same order without duplicates\n",
    "    \"\"\"\n",
    "    iterable = iter(sequence)\n",
    "    values = set()\n",
    "    try:\n",
    "        value = next(iterable)\n",
    "        values.add(value)\n",
    "        yield value\n",
    "        while True:\n",
    "            value = next(iterable)\n",
    "            if value in values:\n",
    "                continue\n",
    "            yield value\n",
    "            values.add(value)\n",
    "    except StopIteration:\n",
    "        return"
   ]
  },
  {
   "cell_type": "markdown",
   "metadata": {},
   "source": [
    "<div class=\"alert alert-danger\">\n",
    "<b>Антипаттерн. # type: ignore</b>\n",
    "</div>\n",
    "\n",
    "- set: я генератор\n",
    "- mypy: ты конечно итерируемый, но не генератор\n",
    "- type-ignore: точно тебе говорю, он генератор\n",
    "- mypy: ohshit, okay"
   ]
  },
  {
   "cell_type": "code",
   "execution_count": null,
   "metadata": {},
   "outputs": [],
   "source": [
    "def uniq(sequence: list[Any]) -> Generator[Any, None, None]:\n",
    "    \"\"\"\n",
    "    :param sequence: arbitrary sequence of comparable elements\n",
    "    :return: generator of elements of `sequence` in\n",
    "    the same order without duplicates\n",
    "    \"\"\"\n",
    "    return set(sequence)  # type: ignore"
   ]
  },
  {
   "cell_type": "markdown",
   "metadata": {},
   "source": [
    "<div class=\"alert alert-warning\">\n",
    "<b>Dict merge. Каноническое решение</b>\n",
    "</div>"
   ]
  },
  {
   "cell_type": "code",
   "execution_count": 4,
   "metadata": {},
   "outputs": [],
   "source": [
    "def dict_merge(*dicts: dict[Any, Any]) -> dict[Any, Any]:\n",
    "    \"\"\"\n",
    "    :param *dicts: flat dictionaries to be merged\n",
    "    :return: merged dictionary\n",
    "    \"\"\"\n",
    "    return dict(chain.from_iterable(dct.items() for dct in dicts))"
   ]
  },
  {
   "cell_type": "code",
   "execution_count": 13,
   "metadata": {},
   "outputs": [],
   "source": [
    "def dict_merge(*dicts: dict[Any, Any]) -> dict[Any, Any]:\n",
    "    \"\"\"\n",
    "    :param *dicts: flat dictionaries to be merged\n",
    "    :return: merged dictionary\n",
    "    \"\"\"\n",
    "    return dict(collections.ChainMap(dicts))"
   ]
  },
  {
   "cell_type": "markdown",
   "metadata": {},
   "source": [
    "<div class=\"alert alert-warning\">\n",
    "<b>Решение \"скучное\"</b>\n",
    "</div>"
   ]
  },
  {
   "cell_type": "code",
   "execution_count": null,
   "metadata": {},
   "outputs": [],
   "source": [
    "def dict_merge(*dicts: dict[Any, Any]) -> dict[Any, Any]:\n",
    "    \"\"\"\n",
    "    :param *dicts: flat dictionaries to be merged\n",
    "    :return: merged dictionary\n",
    "    \"\"\"\n",
    "    return {k: v for dct in dicts for k, v in dct.items()}"
   ]
  },
  {
   "cell_type": "markdown",
   "metadata": {},
   "source": [
    "<div class=\"alert alert-warning\">\n",
    "<b>Решение \"функциональное\"</b>\n",
    "</div>"
   ]
  },
  {
   "cell_type": "code",
   "execution_count": null,
   "metadata": {},
   "outputs": [],
   "source": [
    "def dict_merge(*dicts: dict[Any, Any]) -> dict[Any, Any]:\n",
    "    \"\"\"\n",
    "    :param *dicts: flat dictionaries to be merged\n",
    "    :return: merged dictionary\n",
    "    \"\"\"\n",
    "    return functools.reduce(operator.or_, dicts, {})"
   ]
  },
  {
   "cell_type": "markdown",
   "metadata": {},
   "source": [
    "<div class=\"alert alert-danger\">\n",
    "<b>Ошибка. Не использовать chain.from_iterable и создавать промежуточный список в памяти</b>\n",
    "</div>"
   ]
  },
  {
   "cell_type": "code",
   "execution_count": null,
   "metadata": {},
   "outputs": [],
   "source": [
    "def dict_merge(*dicts: dict[Any, Any]) -> dict[Any, Any]:\n",
    "    \"\"\"\n",
    "    :param *dicts: flat dictionaries to be merged\n",
    "    :return: merged dictionary\n",
    "    \"\"\"\n",
    "    return dict(itertools.chain(*[d.items() for d in dicts]))"
   ]
  },
  {
   "cell_type": "markdown",
   "metadata": {},
   "source": [
    "<div class=\"alert alert-danger\">\n",
    "<b>Ошибка. list-comprehension вместо gen-expression + dummy list-comrehension</b>\n",
    "</div>"
   ]
  },
  {
   "cell_type": "code",
   "execution_count": null,
   "metadata": {},
   "outputs": [],
   "source": [
    "def dict_merge(*dicts: dict[Any, Any]) -> dict[Any, Any]:\n",
    "    \"\"\"\n",
    "    :param *dicts: flat dictionaries to be merged\n",
    "    :return: merged dictionary\n",
    "    \"\"\"\n",
    "    return dict(itertools.chain(*[v for v in [v.items() for v in dicts]]))"
   ]
  },
  {
   "cell_type": "markdown",
   "metadata": {},
   "source": [
    "<div class=\"alert alert-warning\">\n",
    "<b>Product. Каноническое решение</b>\n",
    "</div>"
   ]
  },
  {
   "cell_type": "code",
   "execution_count": 5,
   "metadata": {},
   "outputs": [],
   "source": [
    "def product(lhs: list[int], rhs: list[int]) -> int:\n",
    "    \"\"\"\n",
    "    :param rhs: first factor\n",
    "    :param lhs: second factor\n",
    "    :return: scalar product\n",
    "    \"\"\"\n",
    "    return sum(x * y for x, y in zip(lhs, rhs))"
   ]
  },
  {
   "cell_type": "code",
   "execution_count": 5,
   "metadata": {},
   "outputs": [],
   "source": [
    "def product(lhs: list[int], rhs: list[int]) -> int:\n",
    "    \"\"\"\n",
    "    :param rhs: first factor\n",
    "    :param lhs: second factor\n",
    "    :return: scalar product\n",
    "    \"\"\"\n",
    "    return sum(map(operator.mul, lhs, rhs))"
   ]
  },
  {
   "cell_type": "markdown",
   "metadata": {},
   "source": [
    "<div class=\"alert alert-danger\">\n",
    "<b>Антипаттерн. Лишние () вокруг genexpr, который является единственным аргументом функции</b>\n",
    "</div>"
   ]
  },
  {
   "cell_type": "code",
   "execution_count": null,
   "metadata": {},
   "outputs": [],
   "source": [
    "def product(lhs: list[int], rhs: list[int]) -> int:\n",
    "    \"\"\"\n",
    "    :param rhs: first factor\n",
    "    :param lhs: second factor\n",
    "    :return: scalar product\n",
    "    \"\"\"\n",
    "    return sum((x * y for x, y in zip(lhs, rhs)))"
   ]
  },
  {
   "cell_type": "markdown",
   "metadata": {},
   "source": [
    "<div class=\"alert alert-danger\">\n",
    "<b>Неоптимально. Создание промежуточного списка</b>\n",
    "</div>"
   ]
  },
  {
   "cell_type": "code",
   "execution_count": null,
   "metadata": {},
   "outputs": [],
   "source": [
    "def product(lhs: list[int], rhs: list[int]) -> int:\n",
    "    \"\"\"\n",
    "    :param rhs: first factor\n",
    "    :param lhs: second factor\n",
    "    :return: scalar product\n",
    "    \"\"\"\n",
    "    return sum([a * b for a, b in zip(lhs, rhs)])"
   ]
  },
  {
   "cell_type": "code",
   "execution_count": null,
   "metadata": {},
   "outputs": [],
   "source": [
    "def product(lhs: list[int], rhs: list[int]) -> int:\n",
    "    \"\"\"\n",
    "    :param rhs: first factor\n",
    "    :param lhs: second factor\n",
    "    :return: scalar product\n",
    "    \"\"\"\n",
    "    return sum(list(map(operator.mul, lhs, rhs)))"
   ]
  },
  {
   "cell_type": "markdown",
   "metadata": {},
   "source": [
    "<div class=\"alert alert-danger\">\n",
    "<b>Антипаттерн. Индексация вместо zip'а</b>\n",
    "</div>"
   ]
  },
  {
   "cell_type": "code",
   "execution_count": null,
   "metadata": {},
   "outputs": [],
   "source": [
    "def product(lhs: list[int], rhs: list[int]) -> int:\n",
    "    \"\"\"\n",
    "    :param rhs: first factor\n",
    "    :param lhs: second factor\n",
    "    :return: scalar product\n",
    "    \"\"\"\n",
    "    return sum(lhs[i] * rhs[i] for i in range(len(lhs)))"
   ]
  },
  {
   "cell_type": "markdown",
   "metadata": {},
   "source": [
    "<div class=\"alert alert-danger\">\n",
    "<b>Антипаттерн. Ненужная lambda</b>\n",
    "</div>"
   ]
  },
  {
   "cell_type": "code",
   "execution_count": 3,
   "metadata": {},
   "outputs": [],
   "source": [
    "def product(lhs: list[int], rhs: list[int]) -> int:\n",
    "    \"\"\"\n",
    "    :param rhs: first factor\n",
    "    :param lhs: second factor\n",
    "    :return: scalar product\n",
    "    \"\"\"\n",
    "    return sum(map(lambda pair: operator.mul(*pair), zip(lhs, rhs)))"
   ]
  },
  {
   "cell_type": "markdown",
   "metadata": {},
   "source": [
    "<div class=\"alert alert-danger\">\n",
    "<b>Антипаттерн. Индексация вместо распаковки</b>\n",
    "</div>"
   ]
  },
  {
   "cell_type": "code",
   "execution_count": null,
   "metadata": {},
   "outputs": [],
   "source": [
    "def product(lhs: List[int], rhs: List[int]) -> int:\n",
    "    \"\"\"\n",
    "    :param rhs: first factor\n",
    "    :param lhs: second factor\n",
    "    :return: scalar product\n",
    "    \"\"\"\n",
    "    return sum([pair[0] * pair[1] for pair in zip(lhs, rhs)])"
   ]
  },
  {
   "cell_type": "markdown",
   "metadata": {},
   "source": [
    "### Flat It"
   ]
  },
  {
   "cell_type": "markdown",
   "metadata": {},
   "source": [
    "<div class=\"alert alert-warning\">\n",
    "<b>Flat It. Каноническое решение</b>\n",
    "</div>"
   ]
  },
  {
   "cell_type": "code",
   "execution_count": 4,
   "metadata": {},
   "outputs": [],
   "source": [
    "from collections.abc import Iterable, Generator\n",
    "from typing import Any"
   ]
  },
  {
   "cell_type": "code",
   "execution_count": 14,
   "metadata": {},
   "outputs": [],
   "source": [
    "def flat_it(sequence: Iterable[Any]) -> Generator[Any, None, None]:\n",
    "    \"\"\"\n",
    "    :param sequence: sequence with arbitrary level of nested iterables\n",
    "    :return: generator producing flatten sequence\n",
    "    \"\"\"\n",
    "    try:\n",
    "        for item in sequence:\n",
    "            if item != sequence:\n",
    "                yield from flat_it(item)\n",
    "            else:\n",
    "                yield item\n",
    "    except TypeError:\n",
    "        yield sequence"
   ]
  },
  {
   "cell_type": "code",
   "execution_count": 71,
   "metadata": {},
   "outputs": [],
   "source": [
    "def flat_it(sequence: Iterable[Any]) -> Generator[Any, None, None]:\n",
    "    \"\"\"\n",
    "    :param sequence: sequence with arbitrary level of nested iterables\n",
    "    :return: generator producing flatten sequence\n",
    "    \"\"\"\n",
    "    stack = [(sequence, iter(sequence))]\n",
    "    while stack:\n",
    "        sequence, sequence_iter = stack.pop()\n",
    "        while True:\n",
    "            try:\n",
    "                item = next(sequence_iter)\n",
    "            except StopIteration:\n",
    "                break\n",
    "\n",
    "            try:\n",
    "                item_iter = iter(item)\n",
    "            except TypeError:\n",
    "                yield item\n",
    "                continue\n",
    "            \n",
    "            if item != sequence:\n",
    "                stack.append((sequence, sequence_iter))\n",
    "                stack.append((item, item_iter))\n",
    "            else:\n",
    "                yield item\n",
    "            break"
   ]
  },
  {
   "cell_type": "code",
   "execution_count": 72,
   "metadata": {},
   "outputs": [
    {
     "data": {
      "text/plain": [
       "[1, 2, 5, 6, 2, 's', 'a', 'm', 'p', 'l', 'e', 3, 7, 3, -5, -4]"
      ]
     },
     "execution_count": 72,
     "metadata": {},
     "output_type": "execute_result"
    }
   ],
   "source": [
    "list(flat_it([[1, [[2, [5, [6, [2, 'sample', 3]], 7]], 3], range(-5, -3, 1)]]))"
   ]
  },
  {
   "cell_type": "markdown",
   "metadata": {},
   "source": [
    "<div class=\"alert alert-danger\">\n",
    "<b>Ошибка. Проверка на isinstance</b>\n",
    "</div>"
   ]
  },
  {
   "cell_type": "code",
   "execution_count": null,
   "metadata": {},
   "outputs": [],
   "source": [
    "def flat_it(sequence: Iterable[Any]) -> Generator[Any, None, None]:\n",
    "    \"\"\"\n",
    "    :param sequence: sequence with arbitrary level of nested iterables\n",
    "    :return: generator producing flatten sequence\n",
    "    \"\"\"\n",
    "    if isinstance(sequence, str) and len(sequence) == 1:\n",
    "        yield sequence\n",
    "    elif isinstance(sequence, Iterable):\n",
    "        for i in sequence:\n",
    "            yield from flat_it(i)\n",
    "    else:\n",
    "        yield sequence"
   ]
  },
  {
   "cell_type": "markdown",
   "metadata": {},
   "source": [
    "### Range"
   ]
  },
  {
   "cell_type": "markdown",
   "metadata": {},
   "source": [
    "<div class=\"alert alert-warning\">\n",
    "<b>Range. Каноническое решение</b>\n",
    "</div>"
   ]
  },
  {
   "cell_type": "code",
   "execution_count": 31,
   "metadata": {},
   "outputs": [],
   "source": [
    "from collections.abc import Iterable, Iterator, Sized"
   ]
  },
  {
   "cell_type": "code",
   "execution_count": 32,
   "metadata": {},
   "outputs": [],
   "source": [
    "class RangeIterator(Iterator[int]):\n",
    "    def __init__(self, range_: 'Range') -> None:\n",
    "        self.range_ = range_\n",
    "        self.position = range_.start\n",
    "\n",
    "    def __next__(self) -> int:\n",
    "        value = self.position\n",
    "        self.position += self.range_.step\n",
    "        if value < self.range_.stop and self.range_.step > 0:\n",
    "            return value\n",
    "        elif value > self.range_.stop and self.range_.step < 0:\n",
    "            return value\n",
    "        else:\n",
    "            raise StopIteration"
   ]
  },
  {
   "cell_type": "code",
   "execution_count": 33,
   "metadata": {},
   "outputs": [],
   "source": [
    "class Range(Sized, Iterable[int]):\n",
    "    def __init__(self, *args: int) -> None:\n",
    "        if len(args) not in range(1, 4):\n",
    "            raise ValueError('Wrong number of arguments')\n",
    "        elif len(args) == 1:\n",
    "            self.start, self.stop, self.step = 0, args[0], 1\n",
    "        elif len(args) == 2:\n",
    "            self.start, self.stop, self.step = args[0], args[1], 1\n",
    "        elif len(args) == 3:\n",
    "            self.start, self.stop, self.step = args[0], args[1], args[2]\n",
    "        if self.step == 0:\n",
    "            raise ValueError('step can\\'t be 0')\n",
    "\n",
    "    def __iter__(self) -> RangeIterator:\n",
    "        return RangeIterator(self)\n",
    "\n",
    "    def __repr__(self) -> str:\n",
    "        if self.step != 1:\n",
    "            return f'range({self.start}, {self.stop}, {self.step})'\n",
    "        return f'range({self.start}, {self.stop})'\n",
    "\n",
    "    def __getitem__(self, key: int) -> int:\n",
    "        pos = self.start + key * self.step\n",
    "        if self.step > 0 and pos < self.stop:\n",
    "            return pos\n",
    "        elif self.step < 0 and pos > self.stop:\n",
    "            return pos\n",
    "        else:\n",
    "            raise IndexError('Out of bounds')\n",
    "\n",
    "    def __len__(self) -> int:\n",
    "        if self.step < 0:\n",
    "            start, stop, step = self.stop, self.start, -self.step\n",
    "        else:\n",
    "            start, stop, step = self.start, self.stop, self.step\n",
    "\n",
    "        if stop < start:\n",
    "            return 0\n",
    "\n",
    "        return (stop - start - 1) // step + 1\n",
    "\n",
    "    def __contains__(self, key: int) -> bool:\n",
    "        if (key - self.step) % self.step == 0:\n",
    "            if self.step < 0 and key <= self.start and key > self.stop:\n",
    "                return True\n",
    "            elif self.step > 0 and key >= self.start and key < self.stop:\n",
    "                return True\n",
    "        return False"
   ]
  },
  {
   "cell_type": "code",
   "execution_count": null,
   "metadata": {},
   "outputs": [],
   "source": [
    "class Range(Sized, Iterable[int]):\n",
    "    ...\n",
    "    \n",
    "    def __iterator(self) -> Any:\n",
    "        value = self.start\n",
    "\n",
    "        if self.step > 0:\n",
    "            def stop_condition(x: int) -> bool:\n",
    "                return x >= self.stop\n",
    "        else:\n",
    "            def stop_condition(x: int) -> bool:\n",
    "                return x <= self.stop\n",
    "\n",
    "        while not stop_condition(value):\n",
    "            yield value\n",
    "            value += self.step\n",
    "    \n",
    "    ..."
   ]
  }
 ],
 "metadata": {
  "celltoolbar": "Slideshow",
  "kernelspec": {
   "display_name": "Python 3 (ipykernel)",
   "language": "python",
   "name": "python3"
  },
  "language_info": {
   "codemirror_mode": {
    "name": "ipython",
    "version": 3
   },
   "file_extension": ".py",
   "mimetype": "text/x-python",
   "name": "python",
   "nbconvert_exporter": "python",
   "pygments_lexer": "ipython3",
   "version": "3.9.12"
  },
  "rise": {
   "enable_chalkboard": true,
   "footer": "<p style=\"margin: 5px; color: #a0a0a0\">YSDA Python Course</p>",
   "scroll": true,
   "start_slideshow_at": "selected",
   "theme": "serif"
  }
 },
 "nbformat": 4,
 "nbformat_minor": 2
}
