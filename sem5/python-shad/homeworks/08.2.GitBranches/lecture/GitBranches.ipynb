{
 "cells": [
  {
   "cell_type": "markdown",
   "metadata": {
    "pycharm": {
     "name": "#%% md\n"
    },
    "slideshow": {
     "slide_type": "slide"
    }
   },
   "source": [
    "<center>\n",
    "    <img src=\"https://upload.wikimedia.org/wikipedia/commons/a/a8/%D0%9B%D0%9E%D0%93%D0%9E_%D0%A8%D0%90%D0%94.png\" width=500px/>\n",
    "    <font>Python 2023</font><br/>\n",
    "    <br/>\n",
    "    <br/>\n",
    "    <b style=\"font-size: 2em\">Git. История, Ветки, Мердж Реквесты</b><br/>\n",
    "    <br/>\n",
    "    <font>Никита Бондарцев</font><br/>\n",
    "</center>"
   ]
  },
  {
   "cell_type": "markdown",
   "metadata": {
    "pycharm": {
     "name": "#%% md\n"
    },
    "slideshow": {
     "slide_type": "slide"
    }
   },
   "source": [
    "<div align=\"center\">\n",
    "    <img src=\"https://imgs.xkcd.com/comics/git.png\" width=\"400px\"/>\n",
    "</div>"
   ]
  },
  {
   "cell_type": "markdown",
   "metadata": {
    "pycharm": {
     "name": "#%% md\n"
    },
    "slideshow": {
     "slide_type": "slide"
    }
   },
   "source": [
    "# В предыдущих сериях..."
   ]
  },
  {
   "cell_type": "markdown",
   "metadata": {
    "pycharm": {
     "name": "#%% md\n"
    },
    "slideshow": {
     "slide_type": "-"
    }
   },
   "source": [
    "## Базовый рабочий процесс"
   ]
  },
  {
   "cell_type": "markdown",
   "metadata": {
    "pycharm": {
     "name": "#%% md\n"
    },
    "slideshow": {
     "slide_type": "slide"
    }
   },
   "source": [
    "**Изменяем**\n",
    "\n",
    "Sublime / PyCharm / vim\n"
   ]
  },
  {
   "cell_type": "markdown",
   "metadata": {},
   "source": [
    "<div align=\"center\">\n",
    "    <div style=\"border: 3px solid red; width: 280px; height:100px;position:relative;left:-30px;top:220px;\"></div>\n",
    "    <img src=\"https://avatars.mds.yandex.net/get-pdb/2984945/95dc5634-f547-4a90-8994-4cdd24251736/s1200\" width=\"800px\" />\n",
    "</div>"
   ]
  },
  {
   "cell_type": "markdown",
   "metadata": {
    "pycharm": {
     "name": "#%% md\n"
    },
    "slideshow": {
     "slide_type": "slide"
    }
   },
   "source": [
    "**Сохраняем в Stage**"
   ]
  },
  {
   "cell_type": "markdown",
   "metadata": {},
   "source": [
    "```sh\n",
    "git add <file>\n",
    "```"
   ]
  },
  {
   "cell_type": "markdown",
   "metadata": {},
   "source": [
    "<div align=\"center\">\n",
    "    <div style=\"border: 3px solid red; width: 680px; height:80px;position:relative;left:-10px;top:240px;\"></div>\n",
    "    <div style=\"border: 3px solid red; width: 280px; height:80px;position:relative;left:200px;top:260px;\"></div><img src=\"https://avatars.mds.yandex.net/get-pdb/2984945/95dc5634-f547-4a90-8994-4cdd24251736/s1200\" width=\"800px\" />\n",
    "</div>"
   ]
  },
  {
   "cell_type": "markdown",
   "metadata": {
    "pycharm": {
     "name": "#%% md\n"
    },
    "slideshow": {
     "slide_type": "slide"
    }
   },
   "source": [
    "**Смотрим что ничего не забыли добавить в Stage**"
   ]
  },
  {
   "cell_type": "markdown",
   "metadata": {},
   "source": [
    "```sh\n",
    "git status\n",
    "```"
   ]
  },
  {
   "cell_type": "markdown",
   "metadata": {},
   "source": [
    "<div align=\"center\">\n",
    "    <img src=\"https://i.stack.imgur.com/j7sZ2.png\" width=\"800px\"/>\n",
    "</div>"
   ]
  },
  {
   "cell_type": "markdown",
   "metadata": {
    "pycharm": {
     "name": "#%% md\n"
    },
    "slideshow": {
     "slide_type": "slide"
    }
   },
   "source": [
    "**Коммитим (сохраняем в историю)**"
   ]
  },
  {
   "cell_type": "markdown",
   "metadata": {},
   "source": [
    "```sh\n",
    "git commit -m\n",
    "```"
   ]
  },
  {
   "cell_type": "markdown",
   "metadata": {},
   "source": [
    "<div align=\"center\">\n",
    "    <div style=\"border: 3px solid red; width: 450px; height:100px;position:relative;left: 100px;top:350px;\"></div>\n",
    "    <img src=\"https://avatars.mds.yandex.net/get-pdb/2984945/95dc5634-f547-4a90-8994-4cdd24251736/s1200\" width=\"800px\" />\n",
    "</div>"
   ]
  },
  {
   "cell_type": "markdown",
   "metadata": {
    "pycharm": {
     "name": "#%% md\n"
    },
    "slideshow": {
     "slide_type": "slide"
    }
   },
   "source": [
    "### Все вместе"
   ]
  },
  {
   "cell_type": "markdown",
   "metadata": {
    "pycharm": {
     "name": "#%% md\n"
    },
    "slideshow": {
     "slide_type": "fragment"
    }
   },
   "source": [
    "**Состояния файла и переходы между ними**\n",
    "\n",
    "<div align=\"center\">\n",
    "    <img src=\"https://avatars.mds.yandex.net/get-pdb/2984945/95dc5634-f547-4a90-8994-4cdd24251736/s1200\" width=\"800px\" />\n",
    "</div>"
   ]
  },
  {
   "cell_type": "code",
   "execution_count": 2,
   "metadata": {
    "pycharm": {
     "name": "#%%\n"
    },
    "slideshow": {
     "slide_type": "skip"
    }
   },
   "outputs": [],
   "source": [
    "import os\n",
    "import tempfile\n",
    "tempdir = tempfile.TemporaryDirectory()\n",
    "os.chdir(tempdir.name)"
   ]
  },
  {
   "cell_type": "code",
   "execution_count": 3,
   "metadata": {},
   "outputs": [
    {
     "name": "stdout",
     "output_type": "stream",
     "text": [
      "Initialized empty Git repository in /tmp/tmp0gtoknc3/.git/\n",
      "[master (root-commit) 1827454] Initial commit. Added readme\n",
      " 1 file changed, 1 insertion(+)\n",
      " create mode 100644 README.md\n",
      "[master 67a1382] Added hello_world.py\n",
      " 1 file changed, 1 insertion(+)\n",
      " create mode 100644 hello_world.py\n"
     ]
    }
   ],
   "source": [
    "!git init\n",
    "!echo \"# Hello\" >> README.md\n",
    "!git add README.md && git commit -m \"Initial commit. Added readme\"\n",
    "!echo \"print('hello, world')\" >> hello_world.py && git add hello_world.py && git commit -m \"Added hello_world.py\""
   ]
  },
  {
   "cell_type": "markdown",
   "metadata": {
    "pycharm": {
     "name": "#%% md\n"
    },
    "slideshow": {
     "slide_type": "slide"
    }
   },
   "source": [
    "## beyound git status"
   ]
  },
  {
   "cell_type": "markdown",
   "metadata": {
    "pycharm": {
     "name": "#%% md\n"
    },
    "slideshow": {
     "slide_type": "fragment"
    }
   },
   "source": [
    "### Unstaged изменения"
   ]
  },
  {
   "cell_type": "code",
   "execution_count": 5,
   "metadata": {
    "pycharm": {
     "name": "#%%\n"
    },
    "slideshow": {
     "slide_type": "-"
    }
   },
   "outputs": [
    {
     "name": "stdout",
     "output_type": "stream",
     "text": [
      "On branch master\n",
      "Changes not staged for commit:\n",
      "  (use \"git add <file>...\" to update what will be committed)\n",
      "  (use \"git checkout -- <file>...\" to discard changes in working directory)\n",
      "\n",
      "\t\u001b[31mmodified:   README.md\u001b[m\n",
      "\n",
      "no changes added to commit (use \"git add\" and/or \"git commit -a\")\n"
     ]
    }
   ],
   "source": [
    "!echo \"new line\" >> README.md\n",
    "!git status"
   ]
  },
  {
   "cell_type": "code",
   "execution_count": 6,
   "metadata": {
    "pycharm": {
     "name": "#%%\n"
    },
    "slideshow": {
     "slide_type": "-"
    }
   },
   "outputs": [
    {
     "name": "stdout",
     "output_type": "stream",
     "text": [
      "\u001b[1mdiff --git a/README.md b/README.md\u001b[m\n",
      "\u001b[1mindex fec5601..e169260 100644\u001b[m\n",
      "\u001b[1m--- a/README.md\u001b[m\n",
      "\u001b[1m+++ b/README.md\u001b[m\n",
      "\u001b[36m@@ -1 +1,2 @@\u001b[m\n",
      " # Hello\u001b[m\n",
      "\u001b[32m+\u001b[m\u001b[32mnew line\u001b[m\n"
     ]
    }
   ],
   "source": [
    "!git diff  # for changes in unstaged and tracked files only"
   ]
  },
  {
   "cell_type": "markdown",
   "metadata": {
    "pycharm": {
     "name": "#%% md\n"
    },
    "slideshow": {
     "slide_type": "slide"
    }
   },
   "source": [
    "### Staged изменения"
   ]
  },
  {
   "cell_type": "code",
   "execution_count": 7,
   "metadata": {
    "pycharm": {
     "name": "#%%\n"
    },
    "slideshow": {
     "slide_type": "-"
    }
   },
   "outputs": [
    {
     "name": "stdout",
     "output_type": "stream",
     "text": [
      "On branch master\n",
      "Changes to be committed:\n",
      "  (use \"git reset HEAD <file>...\" to unstage)\n",
      "\n",
      "\t\u001b[32mnew file:   .gitignore\u001b[m\n",
      "\n",
      "Changes not staged for commit:\n",
      "  (use \"git add <file>...\" to update what will be committed)\n",
      "  (use \"git checkout -- <file>...\" to discard changes in working directory)\n",
      "\n",
      "\t\u001b[31mmodified:   README.md\u001b[m\n",
      "\n"
     ]
    }
   ],
   "source": [
    "!echo \".ipynb_checkpoints/\" > .gitignore\n",
    "!git add .gitignore\n",
    "!git status"
   ]
  },
  {
   "cell_type": "code",
   "execution_count": 8,
   "metadata": {
    "pycharm": {
     "name": "#%%\n"
    },
    "scrolled": true,
    "slideshow": {
     "slide_type": "-"
    }
   },
   "outputs": [
    {
     "name": "stdout",
     "output_type": "stream",
     "text": [
      "\u001b[1mdiff --git a/.gitignore b/.gitignore\u001b[m\n",
      "\u001b[1mnew file mode 100644\u001b[m\n",
      "\u001b[1mindex 0000000..87620ac\u001b[m\n",
      "\u001b[1m--- /dev/null\u001b[m\n",
      "\u001b[1m+++ b/.gitignore\u001b[m\n",
      "\u001b[36m@@ -0,0 +1 @@\u001b[m\n",
      "\u001b[32m+\u001b[m\u001b[32m.ipynb_checkpoints/\u001b[m\n"
     ]
    }
   ],
   "source": [
    "!git diff --staged  # for changes in staged files only"
   ]
  },
  {
   "cell_type": "markdown",
   "metadata": {
    "pycharm": {
     "name": "#%% md\n"
    },
    "slideshow": {
     "slide_type": "slide"
    }
   },
   "source": [
    "### Все изменения"
   ]
  },
  {
   "cell_type": "code",
   "execution_count": 9,
   "metadata": {
    "pycharm": {
     "name": "#%%\n"
    },
    "slideshow": {
     "slide_type": "-"
    }
   },
   "outputs": [
    {
     "name": "stdout",
     "output_type": "stream",
     "text": [
      "\u001b[1mdiff --git a/.gitignore b/.gitignore\u001b[m\n",
      "\u001b[1mnew file mode 100644\u001b[m\n",
      "\u001b[1mindex 0000000..87620ac\u001b[m\n",
      "\u001b[1m--- /dev/null\u001b[m\n",
      "\u001b[1m+++ b/.gitignore\u001b[m\n",
      "\u001b[36m@@ -0,0 +1 @@\u001b[m\n",
      "\u001b[32m+\u001b[m\u001b[32m.ipynb_checkpoints/\u001b[m\n",
      "\u001b[1mdiff --git a/README.md b/README.md\u001b[m\n",
      "\u001b[1mindex fec5601..e169260 100644\u001b[m\n",
      "\u001b[1m--- a/README.md\u001b[m\n",
      "\u001b[1m+++ b/README.md\u001b[m\n",
      "\u001b[36m@@ -1 +1,2 @@\u001b[m\n",
      " # Hello\u001b[m\n",
      "\u001b[32m+\u001b[m\u001b[32mnew line\u001b[m\n"
     ]
    }
   ],
   "source": [
    "!git diff HEAD  # unstaged + staged files"
   ]
  },
  {
   "cell_type": "markdown",
   "metadata": {
    "pycharm": {
     "name": "#%% md\n"
    },
    "slideshow": {
     "slide_type": "slide"
    }
   },
   "source": [
    "# Ветки"
   ]
  },
  {
   "cell_type": "markdown",
   "metadata": {
    "pycharm": {
     "name": "#%% md\n"
    },
    "slideshow": {
     "slide_type": "-"
    }
   },
   "source": [
    "**Ветка** - указатель на коммит в истории. Перемещается при коммите, если HEAD находится на этой ветке. (HEAD будет чуть дальше раскрыт)"
   ]
  },
  {
   "cell_type": "code",
   "execution_count": 15,
   "metadata": {
    "pycharm": {
     "name": "#%%\n"
    },
    "slideshow": {
     "slide_type": "-"
    }
   },
   "outputs": [
    {
     "name": "stdout",
     "output_type": "stream",
     "text": [
      "On branch master\n",
      "nothing to commit, working tree clean\n"
     ]
    }
   ],
   "source": [
    "!git status"
   ]
  },
  {
   "cell_type": "code",
   "execution_count": 16,
   "metadata": {
    "pycharm": {
     "name": "#%%\n"
    },
    "slideshow": {
     "slide_type": "-"
    }
   },
   "outputs": [
    {
     "name": "stdout",
     "output_type": "stream",
     "text": [
      "* \u001b[32mmaster\u001b[m\n"
     ]
    }
   ],
   "source": [
    "!git branch"
   ]
  },
  {
   "cell_type": "markdown",
   "metadata": {
    "pycharm": {
     "name": "#%% md\n"
    },
    "slideshow": {
     "slide_type": "slide"
    }
   },
   "source": [
    "## Создание ветки"
   ]
  },
  {
   "cell_type": "code",
   "execution_count": 17,
   "metadata": {
    "pycharm": {
     "name": "#%%\n"
    },
    "slideshow": {
     "slide_type": "-"
    }
   },
   "outputs": [
    {
     "name": "stdout",
     "output_type": "stream",
     "text": [
      "Switched to a new branch 'new_branch'\n"
     ]
    }
   ],
   "source": [
    "!git checkout -b new_branch"
   ]
  },
  {
   "cell_type": "code",
   "execution_count": 18,
   "metadata": {
    "pycharm": {
     "name": "#%%\n"
    },
    "slideshow": {
     "slide_type": "-"
    }
   },
   "outputs": [
    {
     "name": "stdout",
     "output_type": "stream",
     "text": [
      "  master\u001b[m\n",
      "* \u001b[32mnew_branch\u001b[m\n"
     ]
    }
   ],
   "source": [
    "!git branch"
   ]
  },
  {
   "cell_type": "markdown",
   "metadata": {
    "pycharm": {
     "name": "#%% md\n"
    },
    "slideshow": {
     "slide_type": "slide"
    }
   },
   "source": [
    "## Смена ветки"
   ]
  },
  {
   "cell_type": "code",
   "execution_count": 19,
   "metadata": {
    "pycharm": {
     "name": "#%%\n"
    },
    "slideshow": {
     "slide_type": "-"
    }
   },
   "outputs": [
    {
     "name": "stdout",
     "output_type": "stream",
     "text": [
      "Switched to branch 'master'\n"
     ]
    }
   ],
   "source": [
    "!git checkout master"
   ]
  },
  {
   "cell_type": "code",
   "execution_count": 20,
   "metadata": {
    "pycharm": {
     "name": "#%%\n"
    },
    "slideshow": {
     "slide_type": "-"
    }
   },
   "outputs": [
    {
     "name": "stdout",
     "output_type": "stream",
     "text": [
      "* \u001b[32mmaster\u001b[m\n",
      "  new_branch\u001b[m\n"
     ]
    }
   ],
   "source": [
    "!git branch"
   ]
  },
  {
   "cell_type": "markdown",
   "metadata": {
    "pycharm": {
     "name": "#%% md\n"
    },
    "slideshow": {
     "slide_type": "slide"
    }
   },
   "source": [
    "## Удаление ветки"
   ]
  },
  {
   "cell_type": "code",
   "execution_count": 21,
   "metadata": {
    "pycharm": {
     "name": "#%%\n"
    },
    "slideshow": {
     "slide_type": "-"
    }
   },
   "outputs": [
    {
     "name": "stdout",
     "output_type": "stream",
     "text": [
      "Deleted branch new_branch (was 67a1382).\n"
     ]
    }
   ],
   "source": [
    "!git branch -d new_branch"
   ]
  },
  {
   "cell_type": "code",
   "execution_count": 22,
   "metadata": {
    "pycharm": {
     "name": "#%%\n"
    },
    "slideshow": {
     "slide_type": "-"
    }
   },
   "outputs": [
    {
     "name": "stdout",
     "output_type": "stream",
     "text": [
      "* \u001b[32mmaster\u001b[m\n"
     ]
    }
   ],
   "source": [
    "!git branch"
   ]
  },
  {
   "cell_type": "markdown",
   "metadata": {
    "pycharm": {
     "name": "#%% md\n"
    },
    "slideshow": {
     "slide_type": "-"
    }
   },
   "source": [
    "Удаление ветки - относительно безопасная операция, удаляется только указатель, не более того. Но нужно подумать о том, чтобы к состоянию, куда указывала ветка, можно было вернуться другим способом."
   ]
  },
  {
   "cell_type": "markdown",
   "metadata": {
    "pycharm": {
     "name": "#%% md\n"
    },
    "slideshow": {
     "slide_type": "slide"
    }
   },
   "source": [
    "# Просмотр истории"
   ]
  },
  {
   "cell_type": "code",
   "execution_count": 23,
   "metadata": {
    "pycharm": {
     "name": "#%%\n"
    },
    "slideshow": {
     "slide_type": "-"
    }
   },
   "outputs": [
    {
     "name": "stdout",
     "output_type": "stream",
     "text": [
      "\u001b[33mcommit 67a13822d1dbf0e9a620558bba82514777339a04\u001b[m\u001b[33m (\u001b[m\u001b[1;36mHEAD -> \u001b[m\u001b[1;32mmaster\u001b[m\u001b[33m)\u001b[m\n",
      "Author: Nikita Bondartsev <bondartsev.nikita@gmail.com>\n",
      "Date:   Tue Oct 31 17:07:23 2023 +0300\n",
      "\n",
      "    Added hello_world.py\n",
      "\n",
      "\u001b[33mcommit 1827454602b056acc60f7a1e20269fcea8ffb14a\u001b[m\n",
      "Author: Nikita Bondartsev <bondartsev.nikita@gmail.com>\n",
      "Date:   Tue Oct 31 17:07:22 2023 +0300\n",
      "\n",
      "    Initial commit. Added readme\n"
     ]
    }
   ],
   "source": [
    "!git log"
   ]
  },
  {
   "cell_type": "code",
   "execution_count": 24,
   "metadata": {
    "pycharm": {
     "name": "#%%\n"
    },
    "slideshow": {
     "slide_type": "-"
    }
   },
   "outputs": [
    {
     "name": "stdout",
     "output_type": "stream",
     "text": [
      "* 67a1382 2023-10-31 | Added hello_world.py (HEAD -> master) [Nikita Bondartsev]\n",
      "* 1827454 2023-10-31 | Initial commit. Added readme [Nikita Bondartsev]"
     ]
    }
   ],
   "source": [
    "!git log --pretty=format:'%h %ad | %s%d [%an]' --graph --date=short"
   ]
  },
  {
   "cell_type": "code",
   "execution_count": 25,
   "metadata": {
    "pycharm": {
     "name": "#%%\n"
    },
    "slideshow": {
     "slide_type": "slide"
    }
   },
   "outputs": [
    {
     "name": "stdout",
     "output_type": "stream",
     "text": [
      "* 67a1382 2023-10-31 | Added hello_world.py (HEAD -> master) [Nikita Bondartsev]\n",
      "* 1827454 2023-10-31 | Initial commit. Added readme [Nikita Bondartsev]"
     ]
    }
   ],
   "source": [
    "!git config --global alias.hist \"log --pretty=format:'%h %ad | %s%d [%an]' --graph --date=short\"\n",
    "!git hist"
   ]
  },
  {
   "cell_type": "markdown",
   "metadata": {
    "pycharm": {
     "name": "#%% md\n"
    },
    "slideshow": {
     "slide_type": "-"
    }
   },
   "source": [
    "**HEAD** - указатель на текущий коммит/ветку. Перемещается при checkout'е. Следующий коммит будет указывать на текущее  положение HEAD как на родителя. При коммите HEAD сдвигается на новый коммит."
   ]
  },
  {
   "cell_type": "markdown",
   "metadata": {
    "pycharm": {
     "name": "#%% md\n"
    },
    "slideshow": {
     "slide_type": "-"
    }
   },
   "source": [
    "<div align=\"center\"><img src=\"https://avatars.mds.yandex.net/get-pdb/2464019/fb034973-8e02-4052-87dc-f7a663149b04/s1200\" width=\"800px\"/></div>"
   ]
  },
  {
   "cell_type": "markdown",
   "metadata": {
    "pycharm": {
     "name": "#%% md\n"
    },
    "slideshow": {
     "slide_type": "slide"
    }
   },
   "source": [
    "# Перемещение по истории/веткам"
   ]
  },
  {
   "cell_type": "markdown",
   "metadata": {
    "pycharm": {
     "name": "#%% md\n"
    },
    "slideshow": {
     "slide_type": "-"
    }
   },
   "source": [
    "`git checkout <хеш коммита>/<имя ветки>`\n",
    "переводит HEAD в состояние, соответствующее выбранному коммиту.\n",
    "\n",
    "Изменения в файлах при этом переносятся или кидается предупреждение о том, что перемещение не выполнено.\n",
    "\n",
    "Не путать с `git checkout <filename>`, который сбросит modified изменения в файле."
   ]
  },
  {
   "cell_type": "code",
   "execution_count": 26,
   "metadata": {
    "pycharm": {
     "name": "#%%\n"
    },
    "slideshow": {
     "slide_type": "-"
    }
   },
   "outputs": [
    {
     "name": "stdout",
     "output_type": "stream",
     "text": [
      "On branch master\n",
      "nothing to commit, working tree clean\n"
     ]
    }
   ],
   "source": [
    "!git status"
   ]
  },
  {
   "cell_type": "code",
   "execution_count": 27,
   "metadata": {
    "pycharm": {
     "name": "#%%\n"
    },
    "slideshow": {
     "slide_type": "-"
    }
   },
   "outputs": [
    {
     "name": "stdout",
     "output_type": "stream",
     "text": [
      "hello_world.py\tREADME.md\n"
     ]
    }
   ],
   "source": [
    "!echo \"Another line\" >> README.md\n",
    "!ls"
   ]
  },
  {
   "cell_type": "code",
   "execution_count": 28,
   "metadata": {},
   "outputs": [
    {
     "name": "stdout",
     "output_type": "stream",
     "text": [
      "* 67a1382 2023-10-31 | Added hello_world.py (HEAD -> master) [Nikita Bondartsev]\n",
      "* 1827454 2023-10-31 | Initial commit. Added readme [Nikita Bondartsev]"
     ]
    }
   ],
   "source": [
    "!git hist"
   ]
  },
  {
   "cell_type": "code",
   "execution_count": 29,
   "metadata": {
    "pycharm": {
     "name": "#%%\n"
    },
    "slideshow": {
     "slide_type": "slide"
    }
   },
   "outputs": [
    {
     "name": "stdout",
     "output_type": "stream",
     "text": [
      "M\tREADME.md\n",
      "Note: checking out '1827454'.\n",
      "\n",
      "You are in 'detached HEAD' state. You can look around, make experimental\n",
      "changes and commit them, and you can discard any commits you make in this\n",
      "state without impacting any branches by performing another checkout.\n",
      "\n",
      "If you want to create a new branch to retain commits you create, you may\n",
      "do so (now or later) by using -b with the checkout command again. Example:\n",
      "\n",
      "  git checkout -b <new-branch-name>\n",
      "\n",
      "HEAD is now at 1827454 Initial commit. Added readme\n"
     ]
    }
   ],
   "source": [
    "!git checkout 1827454"
   ]
  },
  {
   "cell_type": "code",
   "execution_count": 30,
   "metadata": {
    "pycharm": {
     "name": "#%%\n"
    },
    "slideshow": {
     "slide_type": "-"
    }
   },
   "outputs": [
    {
     "name": "stdout",
     "output_type": "stream",
     "text": [
      "README.md\n"
     ]
    }
   ],
   "source": [
    "!ls"
   ]
  },
  {
   "cell_type": "markdown",
   "metadata": {
    "pycharm": {
     "name": "#%% md\n"
    },
    "slideshow": {
     "slide_type": "-"
    }
   },
   "source": [
    "Файл hello_world.py пропал, изменения в README.md остались."
   ]
  },
  {
   "cell_type": "markdown",
   "metadata": {
    "pycharm": {
     "name": "#%% md\n"
    },
    "slideshow": {
     "slide_type": "slide"
    }
   },
   "source": [
    "История обычно рисуется до HEAD, поэтому если HEAD перемещен, то и в истории будет видно не все."
   ]
  },
  {
   "cell_type": "code",
   "execution_count": 31,
   "metadata": {
    "pycharm": {
     "name": "#%%\n"
    },
    "slideshow": {
     "slide_type": "-"
    }
   },
   "outputs": [
    {
     "name": "stdout",
     "output_type": "stream",
     "text": [
      "* 1827454 2023-10-31 | Initial commit. Added readme (HEAD) [Nikita Bondartsev]"
     ]
    }
   ],
   "source": [
    "!git hist"
   ]
  },
  {
   "cell_type": "code",
   "execution_count": 32,
   "metadata": {
    "pycharm": {
     "name": "#%%\n"
    },
    "slideshow": {
     "slide_type": "-"
    }
   },
   "outputs": [
    {
     "name": "stdout",
     "output_type": "stream",
     "text": [
      "* 67a1382 2023-10-31 | Added hello_world.py (master) [Nikita Bondartsev]\n",
      "* 1827454 2023-10-31 | Initial commit. Added readme (HEAD) [Nikita Bondartsev]"
     ]
    }
   ],
   "source": [
    "!git hist --all"
   ]
  },
  {
   "cell_type": "code",
   "execution_count": 33,
   "metadata": {
    "pycharm": {
     "name": "#%%\n"
    },
    "slideshow": {
     "slide_type": "slide"
    }
   },
   "outputs": [
    {
     "name": "stdout",
     "output_type": "stream",
     "text": [
      "\u001b[31mHEAD detached at \u001b[m1827454\n",
      "Changes not staged for commit:\n",
      "  (use \"git add <file>...\" to update what will be committed)\n",
      "  (use \"git checkout -- <file>...\" to discard changes in working directory)\n",
      "\n",
      "\t\u001b[31mmodified:   README.md\u001b[m\n",
      "\n",
      "no changes added to commit (use \"git add\" and/or \"git commit -a\")\n"
     ]
    }
   ],
   "source": [
    "!git status"
   ]
  },
  {
   "cell_type": "markdown",
   "metadata": {
    "pycharm": {
     "name": "#%% md\n"
    },
    "slideshow": {
     "slide_type": "-"
    }
   },
   "source": [
    "`HEAD detached at` означает, что текущий HEAD указывает не на ветку, а на какой-то коммит. Это \"опасная\" ситуация. Можно \"потерять\" изменения."
   ]
  },
  {
   "cell_type": "code",
   "execution_count": 34,
   "metadata": {
    "pycharm": {
     "name": "#%%\n"
    },
    "slideshow": {
     "slide_type": "-"
    }
   },
   "outputs": [
    {
     "name": "stdout",
     "output_type": "stream",
     "text": [
      "[detached HEAD f8cdce5] Commit with another line\n",
      " 1 file changed, 1 insertion(+)\n"
     ]
    }
   ],
   "source": [
    "!git commit -a -m \"Commit with another line\""
   ]
  },
  {
   "cell_type": "code",
   "execution_count": 35,
   "metadata": {
    "pycharm": {
     "name": "#%%\n"
    },
    "slideshow": {
     "slide_type": "-"
    }
   },
   "outputs": [
    {
     "name": "stdout",
     "output_type": "stream",
     "text": [
      "* f8cdce5 2023-10-31 | Commit with another line (HEAD) [Nikita Bondartsev]\n",
      "\u001b[31m|\u001b[m * 67a1382 2023-10-31 | Added hello_world.py (master) [Nikita Bondartsev]\n",
      "\u001b[31m|\u001b[m\u001b[31m/\u001b[m  \n",
      "* 1827454 2023-10-31 | Initial commit. Added readme [Nikita Bondartsev]"
     ]
    }
   ],
   "source": [
    "!git hist --all"
   ]
  },
  {
   "cell_type": "markdown",
   "metadata": {
    "pycharm": {
     "name": "#%% md\n"
    },
    "slideshow": {
     "slide_type": "slide"
    }
   },
   "source": [
    "## commit из detached HEAD - опасно\n",
    "Если после коммита из detached HEAD перейти в другую точку истории - коммит пропадает!"
   ]
  },
  {
   "cell_type": "code",
   "execution_count": 36,
   "metadata": {
    "pycharm": {
     "name": "#%%\n"
    },
    "slideshow": {
     "slide_type": "-"
    }
   },
   "outputs": [
    {
     "name": "stdout",
     "output_type": "stream",
     "text": [
      "Warning: you are leaving 1 commit behind, not connected to\n",
      "any of your branches:\n",
      "\n",
      "  f8cdce5 Commit with another line\n",
      "\n",
      "If you want to keep it by creating a new branch, this may be a good time\n",
      "to do so with:\n",
      "\n",
      " git branch <new-branch-name> f8cdce5\n",
      "\n",
      "Switched to branch 'master'\n"
     ]
    }
   ],
   "source": [
    "!git checkout master"
   ]
  },
  {
   "cell_type": "code",
   "execution_count": 37,
   "metadata": {
    "pycharm": {
     "name": "#%%\n"
    },
    "slideshow": {
     "slide_type": "-"
    }
   },
   "outputs": [
    {
     "name": "stdout",
     "output_type": "stream",
     "text": [
      "* 67a1382 2023-10-31 | Added hello_world.py (HEAD -> master) [Nikita Bondartsev]\n",
      "* 1827454 2023-10-31 | Initial commit. Added readme [Nikita Bondartsev]"
     ]
    }
   ],
   "source": [
    "!git hist --all"
   ]
  },
  {
   "cell_type": "code",
   "execution_count": 38,
   "metadata": {
    "pycharm": {
     "name": "#%%\n"
    },
    "slideshow": {
     "slide_type": "slide"
    }
   },
   "outputs": [
    {
     "name": "stdout",
     "output_type": "stream",
     "text": [
      "On branch master\n",
      "nothing to commit, working tree clean\n",
      "# Hello\n"
     ]
    }
   ],
   "source": [
    "!git status\n",
    "!cat README.md"
   ]
  },
  {
   "cell_type": "markdown",
   "metadata": {
    "pycharm": {
     "name": "#%% md\n"
    },
    "slideshow": {
     "slide_type": "-"
    }
   },
   "source": [
    "Коммита в истории нет, изменения из файла пропали. Как будто домашка и не была никогда сделана - очень стремное состояние :)\n",
    "\n",
    "Чтобы такого не было, нужно было создать ветку и коммитить в нее!"
   ]
  },
  {
   "cell_type": "code",
   "execution_count": 39,
   "metadata": {},
   "outputs": [
    {
     "name": "stdout",
     "output_type": "stream",
     "text": [
      "* 67a1382 2023-10-31 | Added hello_world.py (HEAD -> master) [Nikita Bondartsev]\n",
      "* 1827454 2023-10-31 | Initial commit. Added readme [Nikita Bondartsev]"
     ]
    }
   ],
   "source": [
    "!git hist"
   ]
  },
  {
   "cell_type": "code",
   "execution_count": 40,
   "metadata": {
    "pycharm": {
     "name": "#%%\n"
    },
    "slideshow": {
     "slide_type": "-"
    }
   },
   "outputs": [
    {
     "name": "stdout",
     "output_type": "stream",
     "text": [
      "M\tREADME.md\n",
      "Note: checking out '1827454'.\n",
      "\n",
      "You are in 'detached HEAD' state. You can look around, make experimental\n",
      "changes and commit them, and you can discard any commits you make in this\n",
      "state without impacting any branches by performing another checkout.\n",
      "\n",
      "If you want to create a new branch to retain commits you create, you may\n",
      "do so (now or later) by using -b with the checkout command again. Example:\n",
      "\n",
      "  git checkout -b <new-branch-name>\n",
      "\n",
      "HEAD is now at 1827454 Initial commit. Added readme\n",
      "M\tREADME.md\n",
      "Switched to a new branch 'branch_with_newline'\n"
     ]
    }
   ],
   "source": [
    "!echo \"Line after the last one has been lost\" >> README.md\n",
    "!git checkout 1827454\n",
    "!git checkout -b branch_with_newline"
   ]
  },
  {
   "cell_type": "code",
   "execution_count": 41,
   "metadata": {
    "pycharm": {
     "name": "#%%\n"
    },
    "slideshow": {
     "slide_type": "slide"
    }
   },
   "outputs": [
    {
     "name": "stdout",
     "output_type": "stream",
     "text": [
      "* 67a1382 2023-10-31 | Added hello_world.py (master) [Nikita Bondartsev]\n",
      "* 1827454 2023-10-31 | Initial commit. Added readme (HEAD -> branch_with_newline) [Nikita Bondartsev]"
     ]
    }
   ],
   "source": [
    "!git hist --all"
   ]
  },
  {
   "cell_type": "code",
   "execution_count": 42,
   "metadata": {
    "pycharm": {
     "name": "#%%\n"
    },
    "slideshow": {
     "slide_type": "-"
    }
   },
   "outputs": [
    {
     "name": "stdout",
     "output_type": "stream",
     "text": [
      "[branch_with_newline d65df69] I am going to save this line indeed\n",
      " 1 file changed, 1 insertion(+)\n"
     ]
    }
   ],
   "source": [
    "!git add README.md\n",
    "!git commit -m \"I am going to save this line indeed\""
   ]
  },
  {
   "cell_type": "code",
   "execution_count": 43,
   "metadata": {
    "pycharm": {
     "name": "#%%\n"
    },
    "slideshow": {
     "slide_type": "-"
    }
   },
   "outputs": [
    {
     "name": "stdout",
     "output_type": "stream",
     "text": [
      "* d65df69 2023-10-31 | I am going to save this line indeed (HEAD -> branch_with_newline) [Nikita Bondartsev]\n",
      "\u001b[31m|\u001b[m * 67a1382 2023-10-31 | Added hello_world.py (master) [Nikita Bondartsev]\n",
      "\u001b[31m|\u001b[m\u001b[31m/\u001b[m  \n",
      "* 1827454 2023-10-31 | Initial commit. Added readme [Nikita Bondartsev]"
     ]
    }
   ],
   "source": [
    "!git hist --all"
   ]
  },
  {
   "cell_type": "markdown",
   "metadata": {
    "pycharm": {
     "name": "#%% md\n"
    },
    "slideshow": {
     "slide_type": "-"
    }
   },
   "source": [
    "Что произошло:\n",
    "* HEAD сдвинулся с 1827454 до d65df69\n",
    "* Аналогично сдвинулась ветка `branch_with_newline`\n",
    "* Произошло разветвление истории"
   ]
  },
  {
   "cell_type": "markdown",
   "metadata": {
    "pycharm": {
     "name": "#%% md\n"
    },
    "slideshow": {
     "slide_type": "slide"
    }
   },
   "source": [
    "Теперь можно спокойно перемещаться между ветками - ничего не пропадет."
   ]
  },
  {
   "cell_type": "code",
   "execution_count": 44,
   "metadata": {
    "pycharm": {
     "name": "#%%\n"
    },
    "slideshow": {
     "slide_type": "-"
    }
   },
   "outputs": [
    {
     "name": "stdout",
     "output_type": "stream",
     "text": [
      "README.md\n",
      "# Hello\n",
      "Line after the last one has been lost\n"
     ]
    }
   ],
   "source": [
    "!ls\n",
    "!cat README.md"
   ]
  },
  {
   "cell_type": "code",
   "execution_count": 45,
   "metadata": {
    "pycharm": {
     "name": "#%%\n"
    },
    "slideshow": {
     "slide_type": "-"
    }
   },
   "outputs": [
    {
     "name": "stdout",
     "output_type": "stream",
     "text": [
      "Switched to branch 'master'\n"
     ]
    }
   ],
   "source": [
    "!git checkout master"
   ]
  },
  {
   "cell_type": "code",
   "execution_count": 46,
   "metadata": {
    "pycharm": {
     "name": "#%%\n"
    },
    "slideshow": {
     "slide_type": "-"
    }
   },
   "outputs": [
    {
     "name": "stdout",
     "output_type": "stream",
     "text": [
      "hello_world.py\tREADME.md\n",
      "# Hello\n"
     ]
    }
   ],
   "source": [
    "!ls\n",
    "!cat README.md"
   ]
  },
  {
   "cell_type": "code",
   "execution_count": 47,
   "metadata": {
    "pycharm": {
     "name": "#%%\n"
    },
    "slideshow": {
     "slide_type": "-"
    }
   },
   "outputs": [
    {
     "name": "stdout",
     "output_type": "stream",
     "text": [
      "* d65df69 2023-10-31 | I am going to save this line indeed (branch_with_newline) [Nikita Bondartsev]\n",
      "\u001b[31m|\u001b[m * 67a1382 2023-10-31 | Added hello_world.py (HEAD -> master) [Nikita Bondartsev]\n",
      "\u001b[31m|\u001b[m\u001b[31m/\u001b[m  \n",
      "* 1827454 2023-10-31 | Initial commit. Added readme [Nikita Bondartsev]"
     ]
    }
   ],
   "source": [
    "!git hist --all"
   ]
  },
  {
   "cell_type": "markdown",
   "metadata": {},
   "source": [
    "Можем вернуться и обратно"
   ]
  },
  {
   "cell_type": "code",
   "execution_count": 49,
   "metadata": {},
   "outputs": [
    {
     "name": "stdout",
     "output_type": "stream",
     "text": [
      "Switched to branch 'branch_with_newline'\n",
      "README.md\n",
      "# Hello\n",
      "Line after the last one has been lost\n",
      "Switched to branch 'master'\n"
     ]
    }
   ],
   "source": [
    "!git checkout branch_with_newline\n",
    "!ls\n",
    "!cat README.md\n",
    "!git checkout master"
   ]
  },
  {
   "cell_type": "markdown",
   "metadata": {
    "pycharm": {
     "name": "#%% md\n"
    },
    "slideshow": {
     "slide_type": "slide"
    }
   },
   "source": [
    "Изменения переносятся. Но что если они конфликтуют?"
   ]
  },
  {
   "cell_type": "code",
   "execution_count": 50,
   "metadata": {
    "pycharm": {
     "name": "#%%\n"
    },
    "slideshow": {
     "slide_type": "-"
    }
   },
   "outputs": [],
   "source": [
    "!echo \"Line from master\" >> README.md"
   ]
  },
  {
   "cell_type": "code",
   "execution_count": 51,
   "metadata": {
    "pycharm": {
     "name": "#%%\n"
    },
    "slideshow": {
     "slide_type": "-"
    }
   },
   "outputs": [
    {
     "name": "stdout",
     "output_type": "stream",
     "text": [
      "error: Your local changes to the following files would be overwritten by checkout:\n",
      "\tREADME.md\n",
      "Please commit your changes or stash them before you switch branches.\n",
      "Aborting\n"
     ]
    }
   ],
   "source": [
    "!git checkout branch_with_newline"
   ]
  },
  {
   "cell_type": "code",
   "execution_count": 52,
   "metadata": {},
   "outputs": [
    {
     "name": "stdout",
     "output_type": "stream",
     "text": [
      "# Hello\n",
      "Line from master\n"
     ]
    }
   ],
   "source": [
    "!cat README.md"
   ]
  },
  {
   "cell_type": "code",
   "execution_count": 53,
   "metadata": {
    "pycharm": {
     "name": "#%%\n"
    },
    "slideshow": {
     "slide_type": "-"
    }
   },
   "outputs": [],
   "source": [
    "!git checkout README.md"
   ]
  },
  {
   "cell_type": "code",
   "execution_count": 54,
   "metadata": {
    "pycharm": {
     "name": "#%%\n"
    },
    "slideshow": {
     "slide_type": "-"
    }
   },
   "outputs": [
    {
     "name": "stdout",
     "output_type": "stream",
     "text": [
      "Switched to branch 'branch_with_newline'\n",
      "# Hello\n",
      "Line after the last one has been lost\n"
     ]
    }
   ],
   "source": [
    "!git checkout branch_with_newline\n",
    "!cat README.md"
   ]
  },
  {
   "cell_type": "markdown",
   "metadata": {
    "pycharm": {
     "name": "#%% md\n"
    },
    "slideshow": {
     "slide_type": "slide"
    }
   },
   "source": [
    "# Слияние веток"
   ]
  },
  {
   "cell_type": "code",
   "execution_count": 58,
   "metadata": {
    "pycharm": {
     "name": "#%%\n"
    },
    "slideshow": {
     "slide_type": "-"
    }
   },
   "outputs": [
    {
     "name": "stdout",
     "output_type": "stream",
     "text": [
      "* d65df69 2023-10-31 | I am going to save this line indeed (HEAD -> branch_with_newline) [Nikita Bondartsev]\n",
      "\u001b[31m|\u001b[m * 67a1382 2023-10-31 | Added hello_world.py (master) [Nikita Bondartsev]\n",
      "\u001b[31m|\u001b[m\u001b[31m/\u001b[m  \n",
      "* 1827454 2023-10-31 | Initial commit. Added readme [Nikita Bondartsev]"
     ]
    }
   ],
   "source": [
    "!git hist --all"
   ]
  },
  {
   "cell_type": "code",
   "execution_count": 69,
   "metadata": {
    "pycharm": {
     "name": "#%%\n"
    },
    "slideshow": {
     "slide_type": "-"
    }
   },
   "outputs": [
    {
     "name": "stdout",
     "output_type": "stream",
     "text": [
      "Merge made by the 'recursive' strategy.\n",
      " hello_world.py | 1 \u001b[32m+\u001b[m\n",
      " 1 file changed, 1 insertion(+)\n",
      " create mode 100644 hello_world.py\n"
     ]
    }
   ],
   "source": [
    "!git merge master --no-edit  # опция нужна для мерджа внутри ноутбучека, иначе получается лажа, тк инпут с клавы через ноутбук я хз как ввести\n",
    "# в командной строчке нужно просто подтвердить коммит мессадж в случае мерджа с автоматическим разрешением конфликта"
   ]
  },
  {
   "cell_type": "code",
   "execution_count": 70,
   "metadata": {
    "pycharm": {
     "name": "#%%\n"
    },
    "slideshow": {
     "slide_type": "-"
    }
   },
   "outputs": [
    {
     "name": "stdout",
     "output_type": "stream",
     "text": [
      "On branch branch_with_newline\n",
      "nothing to commit, working tree clean\n"
     ]
    }
   ],
   "source": [
    "!git status"
   ]
  },
  {
   "cell_type": "code",
   "execution_count": 71,
   "metadata": {
    "pycharm": {
     "name": "#%%\n"
    },
    "slideshow": {
     "slide_type": "-"
    }
   },
   "outputs": [
    {
     "name": "stdout",
     "output_type": "stream",
     "text": [
      "*   0b21e73 2023-10-31 | Merge branch 'master' into branch_with_newline (HEAD -> branch_with_newline) [Nikita Bondartsev]\n",
      "\u001b[31m|\u001b[m\u001b[32m\\\u001b[m  \n",
      "\u001b[31m|\u001b[m * 67a1382 2023-10-31 | Added hello_world.py (master) [Nikita Bondartsev]\n",
      "* \u001b[32m|\u001b[m d65df69 2023-10-31 | I am going to save this line indeed [Nikita Bondartsev]\n",
      "\u001b[32m|\u001b[m\u001b[32m/\u001b[m  \n",
      "* 1827454 2023-10-31 | Initial commit. Added readme [Nikita Bondartsev]"
     ]
    }
   ],
   "source": [
    "!git hist --all"
   ]
  },
  {
   "cell_type": "markdown",
   "metadata": {
    "pycharm": {
     "name": "#%% md\n"
    },
    "slideshow": {
     "slide_type": "-"
    }
   },
   "source": [
    "Что произошло:\n",
    "* Добавился новый коммит в ветку, на которой мы были при вызове `git merge`.\n",
    "* HEAD сдвинулся на новый коммит.\n",
    "* История `master`'а теперь вложена в историю `branch_with_newline`.\n",
    "* `master` остался там же, где и был раньше.\n",
    "* Рабочая директория содержит оба набора изменений."
   ]
  },
  {
   "cell_type": "markdown",
   "metadata": {
    "pycharm": {
     "name": "#%% md\n"
    },
    "slideshow": {
     "slide_type": "slide"
    }
   },
   "source": [
    "## Самый приятный merge - это fast-forward"
   ]
  },
  {
   "cell_type": "code",
   "execution_count": 72,
   "metadata": {
    "pycharm": {
     "name": "#%%\n"
    },
    "slideshow": {
     "slide_type": "-"
    }
   },
   "outputs": [
    {
     "name": "stdout",
     "output_type": "stream",
     "text": [
      "Switched to branch 'master'\n"
     ]
    }
   ],
   "source": [
    "!git checkout master"
   ]
  },
  {
   "cell_type": "code",
   "execution_count": 73,
   "metadata": {
    "pycharm": {
     "name": "#%%\n"
    },
    "slideshow": {
     "slide_type": "-"
    }
   },
   "outputs": [
    {
     "name": "stdout",
     "output_type": "stream",
     "text": [
      "On branch master\n",
      "nothing to commit, working tree clean\n"
     ]
    }
   ],
   "source": [
    "!git status"
   ]
  },
  {
   "cell_type": "code",
   "execution_count": 74,
   "metadata": {
    "pycharm": {
     "name": "#%%\n"
    },
    "slideshow": {
     "slide_type": "-"
    }
   },
   "outputs": [
    {
     "name": "stdout",
     "output_type": "stream",
     "text": [
      "Updating 67a1382..0b21e73\n",
      "Fast-forward\n",
      " README.md | 1 \u001b[32m+\u001b[m\n",
      " 1 file changed, 1 insertion(+)\n"
     ]
    }
   ],
   "source": [
    "!git merge branch_with_newline"
   ]
  },
  {
   "cell_type": "markdown",
   "metadata": {
    "pycharm": {
     "name": "#%% md\n"
    },
    "slideshow": {
     "slide_type": "slide"
    }
   },
   "source": [
    "Fast-froward возможен, когда история одной ветки вложена в историю другой ветки."
   ]
  },
  {
   "cell_type": "code",
   "execution_count": 75,
   "metadata": {
    "pycharm": {
     "name": "#%%\n"
    },
    "slideshow": {
     "slide_type": "-"
    }
   },
   "outputs": [
    {
     "name": "stdout",
     "output_type": "stream",
     "text": [
      "*   0b21e73 2023-10-31 | Merge branch 'master' into branch_with_newline (HEAD -> master, branch_with_newline) [Nikita Bondartsev]\n",
      "\u001b[31m|\u001b[m\u001b[32m\\\u001b[m  \n",
      "\u001b[31m|\u001b[m * 67a1382 2023-10-31 | Added hello_world.py [Nikita Bondartsev]\n",
      "* \u001b[32m|\u001b[m d65df69 2023-10-31 | I am going to save this line indeed [Nikita Bondartsev]\n",
      "\u001b[32m|\u001b[m\u001b[32m/\u001b[m  \n",
      "* 1827454 2023-10-31 | Initial commit. Added readme [Nikita Bondartsev]"
     ]
    }
   ],
   "source": [
    "!git hist --all"
   ]
  },
  {
   "cell_type": "markdown",
   "metadata": {
    "pycharm": {
     "name": "#%% md\n"
    },
    "slideshow": {
     "slide_type": "-"
    }
   },
   "source": [
    "Что произошло:\n",
    "* ветка `master` просто переехала туда же, где находилась ветка `branch_with_newline`.\n",
    "* новый коммит **не был** создан!"
   ]
  },
  {
   "cell_type": "markdown",
   "metadata": {
    "pycharm": {
     "name": "#%% md\n"
    },
    "slideshow": {
     "slide_type": "slide"
    }
   },
   "source": [
    "После вливания в master, вторая ветка нам больше не нужна - можно удалить."
   ]
  },
  {
   "cell_type": "code",
   "execution_count": 76,
   "metadata": {
    "pycharm": {
     "name": "#%%\n"
    },
    "slideshow": {
     "slide_type": "-"
    }
   },
   "outputs": [
    {
     "name": "stdout",
     "output_type": "stream",
     "text": [
      "*   0b21e73 2023-10-31 | Merge branch 'master' into branch_with_newline (HEAD -> master, branch_with_newline) [Nikita Bondartsev]\n",
      "\u001b[31m|\u001b[m\u001b[32m\\\u001b[m  \n",
      "\u001b[31m|\u001b[m * 67a1382 2023-10-31 | Added hello_world.py [Nikita Bondartsev]\n",
      "* \u001b[32m|\u001b[m d65df69 2023-10-31 | I am going to save this line indeed [Nikita Bondartsev]\n",
      "\u001b[32m|\u001b[m\u001b[32m/\u001b[m  \n",
      "* 1827454 2023-10-31 | Initial commit. Added readme [Nikita Bondartsev]"
     ]
    }
   ],
   "source": [
    "!git hist"
   ]
  },
  {
   "cell_type": "code",
   "execution_count": 77,
   "metadata": {
    "pycharm": {
     "name": "#%%\n"
    },
    "slideshow": {
     "slide_type": "-"
    }
   },
   "outputs": [
    {
     "name": "stdout",
     "output_type": "stream",
     "text": [
      "Deleted branch branch_with_newline (was 0b21e73).\n"
     ]
    }
   ],
   "source": [
    "!git branch -d branch_with_newline"
   ]
  },
  {
   "cell_type": "code",
   "execution_count": 78,
   "metadata": {
    "pycharm": {
     "name": "#%%\n"
    },
    "slideshow": {
     "slide_type": "-"
    }
   },
   "outputs": [
    {
     "name": "stdout",
     "output_type": "stream",
     "text": [
      "*   0b21e73 2023-10-31 | Merge branch 'master' into branch_with_newline (HEAD -> master) [Nikita Bondartsev]\n",
      "\u001b[31m|\u001b[m\u001b[32m\\\u001b[m  \n",
      "\u001b[31m|\u001b[m * 67a1382 2023-10-31 | Added hello_world.py [Nikita Bondartsev]\n",
      "* \u001b[32m|\u001b[m d65df69 2023-10-31 | I am going to save this line indeed [Nikita Bondartsev]\n",
      "\u001b[32m|\u001b[m\u001b[32m/\u001b[m  \n",
      "* 1827454 2023-10-31 | Initial commit. Added readme [Nikita Bondartsev]"
     ]
    }
   ],
   "source": [
    "!git hist"
   ]
  },
  {
   "cell_type": "markdown",
   "metadata": {
    "pycharm": {
     "name": "#%% md\n"
    },
    "slideshow": {
     "slide_type": "slide"
    }
   },
   "source": [
    "## Возможные сценарии слияния:\n",
    "\n",
    "Все сценарии вызываются командой `git merge <branch to be merged into current branch>`, выбор сценария определяется соотношением между историями сливаемых веток:\n",
    "* **fast-forward**, когда история текущей ветки включена в историю вливаемой. Никаких дополнительных действий не требуется, коммит не создается.\n",
    "* **automatic merge**, когда истории расходятся, НО изменения согласованы. Точно пройдет без проблем, если изменения внесены в разные файлы. Требуется дополнительно ввести сообщение для объединяющего коммита или указать опцию `--no-edit` при которой создастся дефолтный коммит мессадж.\n",
    "* **merge conflict**, когда истории расходятся И изменения НЕ согласованы, например, изменена одна и та же строчка. Требуется открыть конфликтые файлы (см. `git status`) и руками выбрать те изменения, которые нужно оставить, удалить ненужные автоматически сгенерированные строки из конфликтных файлов и не забыть закомитить изменения."
   ]
  },
  {
   "cell_type": "markdown",
   "metadata": {
    "pycharm": {
     "name": "#%% md\n"
    },
    "slideshow": {
     "slide_type": "slide"
    }
   },
   "source": [
    "Сейчас умеем:\n",
    "* Менять файлы и комитить изменения: `add`, `commit`.\n",
    "* Смотреть историю: `log`, удобный alias `hist`.\n",
    "* Перемещать HEAD (получать версию файлов на какой-то момент в истории): `checkout <commit hash>/<branch>`.\n",
    "* Работать с ветками `branch`, `checkout -b`, `branch -d`.\n",
    "* Сливать изменения из разных веток `merge`: с merge коммитом (после расхождения истории) и без (при fast-forward).\n",
    "* Не коммитить в detached HEAD.\n",
    "* Двигать ветки вперед в истории с помощью новых коммитов или fast-forward."
   ]
  },
  {
   "cell_type": "markdown",
   "metadata": {
    "pycharm": {
     "name": "#%% md\n"
    },
    "slideshow": {
     "slide_type": "slide"
    }
   },
   "source": [
    "<div align=\"center\"><b><font size=6>Но почему нельзя двигать ветку назад? - можно!</font></b></div>\n",
    "\n",
    "<!-- <div align=\"center\"><img style=\"height:750px\" src=\"https://avatars.mds.yandex.net/get-pdb/2886607/35f9f799-93f6-4908-ac62-24b12f267193/s1200\"/></div> -->\n",
    "<div align=\"center\"><img class=\"lecture-image\" src=\"https://cs9.pikabu.ru/post_img/big/2020/09/07/8/1599486967146486383.jpg\" style=\"height: 500px;\"/></div>\n"
   ]
  },
  {
   "cell_type": "code",
   "execution_count": 79,
   "metadata": {
    "pycharm": {
     "name": "#%%\n"
    },
    "slideshow": {
     "slide_type": "slide"
    }
   },
   "outputs": [
    {
     "name": "stdout",
     "output_type": "stream",
     "text": [
      "Switched to a new branch 'moved'\n"
     ]
    }
   ],
   "source": [
    "!git checkout -b moved"
   ]
  },
  {
   "cell_type": "code",
   "execution_count": 80,
   "metadata": {
    "pycharm": {
     "name": "#%%\n"
    },
    "slideshow": {
     "slide_type": "-"
    }
   },
   "outputs": [
    {
     "name": "stdout",
     "output_type": "stream",
     "text": [
      "*   0b21e73 2023-10-31 | Merge branch 'master' into branch_with_newline (HEAD -> moved, master) [Nikita Bondartsev]\n",
      "\u001b[31m|\u001b[m\u001b[32m\\\u001b[m  \n",
      "\u001b[31m|\u001b[m * 67a1382 2023-10-31 | Added hello_world.py [Nikita Bondartsev]\n",
      "* \u001b[32m|\u001b[m d65df69 2023-10-31 | I am going to save this line indeed [Nikita Bondartsev]\n",
      "\u001b[32m|\u001b[m\u001b[32m/\u001b[m  \n",
      "* 1827454 2023-10-31 | Initial commit. Added readme [Nikita Bondartsev]"
     ]
    }
   ],
   "source": [
    "!git hist"
   ]
  },
  {
   "cell_type": "code",
   "execution_count": 81,
   "metadata": {
    "pycharm": {
     "name": "#%%\n"
    },
    "slideshow": {
     "slide_type": "-"
    }
   },
   "outputs": [
    {
     "name": "stdout",
     "output_type": "stream",
     "text": [
      "Unstaged changes after reset:\n",
      "M\tREADME.md\n"
     ]
    }
   ],
   "source": [
    "!git reset 67a1382"
   ]
  },
  {
   "cell_type": "code",
   "execution_count": 82,
   "metadata": {
    "pycharm": {
     "name": "#%%\n"
    },
    "slideshow": {
     "slide_type": "-"
    }
   },
   "outputs": [
    {
     "name": "stdout",
     "output_type": "stream",
     "text": [
      "*   0b21e73 2023-10-31 | Merge branch 'master' into branch_with_newline (master) [Nikita Bondartsev]\n",
      "\u001b[31m|\u001b[m\u001b[32m\\\u001b[m  \n",
      "\u001b[31m|\u001b[m * 67a1382 2023-10-31 | Added hello_world.py (HEAD -> moved) [Nikita Bondartsev]\n",
      "* \u001b[32m|\u001b[m d65df69 2023-10-31 | I am going to save this line indeed [Nikita Bondartsev]\n",
      "\u001b[32m|\u001b[m\u001b[32m/\u001b[m  \n",
      "* 1827454 2023-10-31 | Initial commit. Added readme [Nikita Bondartsev]"
     ]
    }
   ],
   "source": [
    "!git hist --all"
   ]
  },
  {
   "cell_type": "markdown",
   "metadata": {
    "pycharm": {
     "name": "#%% md\n"
    },
    "slideshow": {
     "slide_type": "slide"
    }
   },
   "source": [
    "HEAD и ветка moved переехали на указанный коммит. Файлы, измененные между коммитами, перешли из состояния unmodified в modified и теперь видны в `status`, теперь их можно заново коммитить."
   ]
  },
  {
   "cell_type": "code",
   "execution_count": 83,
   "metadata": {
    "pycharm": {
     "name": "#%%\n"
    },
    "slideshow": {
     "slide_type": "-"
    }
   },
   "outputs": [
    {
     "name": "stdout",
     "output_type": "stream",
     "text": [
      "On branch moved\n",
      "Changes not staged for commit:\n",
      "  (use \"git add <file>...\" to update what will be committed)\n",
      "  (use \"git checkout -- <file>...\" to discard changes in working directory)\n",
      "\n",
      "\t\u001b[31mmodified:   README.md\u001b[m\n",
      "\n",
      "no changes added to commit (use \"git add\" and/or \"git commit -a\")\n"
     ]
    }
   ],
   "source": [
    "!git status"
   ]
  },
  {
   "cell_type": "code",
   "execution_count": 84,
   "metadata": {
    "pycharm": {
     "name": "#%%\n"
    },
    "slideshow": {
     "slide_type": "-"
    }
   },
   "outputs": [
    {
     "name": "stdout",
     "output_type": "stream",
     "text": [
      "[moved 0ec83f3] New commmit with the same content\n",
      " 1 file changed, 1 insertion(+)\n"
     ]
    }
   ],
   "source": [
    "!git add README.md && git commit -m \"New commmit with the same content\""
   ]
  },
  {
   "cell_type": "code",
   "execution_count": 85,
   "metadata": {
    "pycharm": {
     "name": "#%%\n"
    },
    "slideshow": {
     "slide_type": "-"
    }
   },
   "outputs": [
    {
     "name": "stdout",
     "output_type": "stream",
     "text": [
      "* 0ec83f3 2023-10-31 | New commmit with the same content (HEAD -> moved) [Nikita Bondartsev]\n",
      "\u001b[31m|\u001b[m *   0b21e73 2023-10-31 | Merge branch 'master' into branch_with_newline (master) [Nikita Bondartsev]\n",
      "\u001b[31m|\u001b[m \u001b[32m|\u001b[m\u001b[31m\\\u001b[m  \n",
      "\u001b[31m|\u001b[m \u001b[32m|\u001b[m\u001b[31m/\u001b[m  \n",
      "\u001b[31m|\u001b[m\u001b[31m/\u001b[m\u001b[32m|\u001b[m   \n",
      "* \u001b[32m|\u001b[m 67a1382 2023-10-31 | Added hello_world.py [Nikita Bondartsev]\n",
      "\u001b[33m|\u001b[m * d65df69 2023-10-31 | I am going to save this line indeed [Nikita Bondartsev]\n",
      "\u001b[33m|\u001b[m\u001b[33m/\u001b[m  \n",
      "* 1827454 2023-10-31 | Initial commit. Added readme [Nikita Bondartsev]"
     ]
    }
   ],
   "source": [
    "!git hist --all"
   ]
  },
  {
   "cell_type": "markdown",
   "metadata": {
    "pycharm": {
     "name": "#%% md\n"
    },
    "slideshow": {
     "slide_type": "slide"
    }
   },
   "source": [
    "## Еще один способ потерять работу"
   ]
  },
  {
   "cell_type": "markdown",
   "metadata": {
    "pycharm": {
     "name": "#%% md\n"
    },
    "slideshow": {
     "slide_type": "-"
    }
   },
   "source": [
    "`reset --hard` помимо перемещения ветки также приводит рабочую директорию к соответствующему состоянию."
   ]
  },
  {
   "cell_type": "code",
   "execution_count": 86,
   "metadata": {
    "pycharm": {
     "name": "#%%\n"
    },
    "slideshow": {
     "slide_type": "-"
    }
   },
   "outputs": [
    {
     "name": "stdout",
     "output_type": "stream",
     "text": [
      "HEAD is now at 0b21e73 Merge branch 'master' into branch_with_newline\n"
     ]
    }
   ],
   "source": [
    "!git reset --hard master"
   ]
  },
  {
   "cell_type": "code",
   "execution_count": 87,
   "metadata": {
    "pycharm": {
     "name": "#%%\n"
    },
    "slideshow": {
     "slide_type": "-"
    }
   },
   "outputs": [
    {
     "name": "stdout",
     "output_type": "stream",
     "text": [
      "*   0b21e73 2023-10-31 | Merge branch 'master' into branch_with_newline (HEAD -> moved, master) [Nikita Bondartsev]\n",
      "\u001b[31m|\u001b[m\u001b[32m\\\u001b[m  \n",
      "\u001b[31m|\u001b[m * 67a1382 2023-10-31 | Added hello_world.py [Nikita Bondartsev]\n",
      "* \u001b[32m|\u001b[m d65df69 2023-10-31 | I am going to save this line indeed [Nikita Bondartsev]\n",
      "\u001b[32m|\u001b[m\u001b[32m/\u001b[m  \n",
      "* 1827454 2023-10-31 | Initial commit. Added readme [Nikita Bondartsev]"
     ]
    }
   ],
   "source": [
    "!git hist --all"
   ]
  },
  {
   "cell_type": "markdown",
   "metadata": {
    "pycharm": {
     "name": "#%% md\n"
    },
    "slideshow": {
     "slide_type": "slide"
    }
   },
   "source": [
    "## А что если я хочу потерять работу?"
   ]
  },
  {
   "cell_type": "code",
   "execution_count": 88,
   "metadata": {
    "pycharm": {
     "name": "#%%\n"
    },
    "slideshow": {
     "slide_type": "-"
    }
   },
   "outputs": [],
   "source": [
    "!echo \"pirnt('bye!')\" >> hello_world.py"
   ]
  },
  {
   "cell_type": "code",
   "execution_count": 89,
   "metadata": {
    "pycharm": {
     "name": "#%%\n"
    },
    "slideshow": {
     "slide_type": "-"
    }
   },
   "outputs": [
    {
     "name": "stdout",
     "output_type": "stream",
     "text": [
      "[moved ec379bb] Added erroneous line\n",
      " 1 file changed, 1 insertion(+)\n"
     ]
    }
   ],
   "source": [
    "!git commit -a -m \"Added erroneous line\""
   ]
  },
  {
   "cell_type": "code",
   "execution_count": 90,
   "metadata": {
    "pycharm": {
     "name": "#%%\n"
    },
    "slideshow": {
     "slide_type": "-"
    }
   },
   "outputs": [
    {
     "name": "stdout",
     "output_type": "stream",
     "text": [
      "* ec379bb 2023-10-31 | Added erroneous line (HEAD -> moved) [Nikita Bondartsev]\n",
      "*   0b21e73 2023-10-31 | Merge branch 'master' into branch_with_newline (master) [Nikita Bondartsev]\n",
      "\u001b[32m|\u001b[m\u001b[33m\\\u001b[m  \n",
      "\u001b[32m|\u001b[m * 67a1382 2023-10-31 | Added hello_world.py [Nikita Bondartsev]\n",
      "* \u001b[33m|\u001b[m d65df69 2023-10-31 | I am going to save this line indeed [Nikita Bondartsev]\n",
      "\u001b[33m|\u001b[m\u001b[33m/\u001b[m  \n",
      "* 1827454 2023-10-31 | Initial commit. Added readme [Nikita Bondartsev]"
     ]
    }
   ],
   "source": [
    "!git hist --all"
   ]
  },
  {
   "cell_type": "code",
   "execution_count": 91,
   "metadata": {
    "pycharm": {
     "name": "#%%\n"
    },
    "slideshow": {
     "slide_type": "slide"
    }
   },
   "outputs": [],
   "source": [
    "!echo \"print('hello, world')\" > hello_world.py\n",
    "!echo \"print('bye!')\" >> hello_world.py"
   ]
  },
  {
   "cell_type": "code",
   "execution_count": 93,
   "metadata": {
    "pycharm": {
     "name": "#%%\n"
    },
    "slideshow": {
     "slide_type": "-"
    }
   },
   "outputs": [
    {
     "name": "stdout",
     "output_type": "stream",
     "text": [
      "[moved 0d0a539] The line now contains no errors\n",
      " Date: Tue Oct 31 17:32:12 2023 +0300\n",
      " 1 file changed, 1 insertion(+)\n"
     ]
    }
   ],
   "source": [
    "!git commit --amend -m \"The line now contains no errors\""
   ]
  },
  {
   "cell_type": "code",
   "execution_count": 94,
   "metadata": {
    "pycharm": {
     "name": "#%%\n"
    },
    "slideshow": {
     "slide_type": "-"
    }
   },
   "outputs": [
    {
     "name": "stdout",
     "output_type": "stream",
     "text": [
      "* 0d0a539 2023-10-31 | The line now contains no errors (HEAD -> moved) [Nikita Bondartsev]\n",
      "*   0b21e73 2023-10-31 | Merge branch 'master' into branch_with_newline (master) [Nikita Bondartsev]\n",
      "\u001b[32m|\u001b[m\u001b[33m\\\u001b[m  \n",
      "\u001b[32m|\u001b[m * 67a1382 2023-10-31 | Added hello_world.py [Nikita Bondartsev]\n",
      "* \u001b[33m|\u001b[m d65df69 2023-10-31 | I am going to save this line indeed [Nikita Bondartsev]\n",
      "\u001b[33m|\u001b[m\u001b[33m/\u001b[m  \n",
      "* 1827454 2023-10-31 | Initial commit. Added readme [Nikita Bondartsev]"
     ]
    }
   ],
   "source": [
    "!git hist --all"
   ]
  },
  {
   "cell_type": "markdown",
   "metadata": {
    "pycharm": {
     "name": "#%% md\n"
    },
    "slideshow": {
     "slide_type": "-"
    }
   },
   "source": [
    "Что произошло:\n",
    "* Был закомичен файл с ошибкой в коммит с хешем `ec379bb`.\n",
    "* Затем ошибка была исправлена.\n",
    "* С помощью `commit --amend` ошибочный коммит был заменен на правильный, история чистая. Последний коммит имеет новый хеш `0d0a539`."
   ]
  },
  {
   "cell_type": "markdown",
   "metadata": {
    "pycharm": {
     "name": "#%% md\n"
    },
    "slideshow": {
     "slide_type": "slide"
    }
   },
   "source": [
    "Использовать `--amend` имеет смысл только пока изменения не были отправлены в удаленный репозиторий, иначе потом будет весело разбираться, тк истории начнут расходиться.\n",
    "\n",
    "## А что если я уже запушил?"
   ]
  },
  {
   "cell_type": "code",
   "execution_count": 95,
   "metadata": {
    "pycharm": {
     "name": "#%%\n"
    },
    "slideshow": {
     "slide_type": "-"
    }
   },
   "outputs": [
    {
     "name": "stdout",
     "output_type": "stream",
     "text": [
      "HEAD is now at 0b21e73 Merge branch 'master' into branch_with_newline\n"
     ]
    }
   ],
   "source": [
    "!git reset --hard master"
   ]
  },
  {
   "cell_type": "code",
   "execution_count": 96,
   "metadata": {
    "pycharm": {
     "name": "#%%\n"
    },
    "slideshow": {
     "slide_type": "-"
    }
   },
   "outputs": [
    {
     "name": "stdout",
     "output_type": "stream",
     "text": [
      "*   0b21e73 2023-10-31 | Merge branch 'master' into branch_with_newline (HEAD -> moved, master) [Nikita Bondartsev]\n",
      "\u001b[31m|\u001b[m\u001b[32m\\\u001b[m  \n",
      "\u001b[31m|\u001b[m * 67a1382 2023-10-31 | Added hello_world.py [Nikita Bondartsev]\n",
      "* \u001b[32m|\u001b[m d65df69 2023-10-31 | I am going to save this line indeed [Nikita Bondartsev]\n",
      "\u001b[32m|\u001b[m\u001b[32m/\u001b[m  \n",
      "* 1827454 2023-10-31 | Initial commit. Added readme [Nikita Bondartsev]"
     ]
    }
   ],
   "source": [
    "!git hist --all"
   ]
  },
  {
   "cell_type": "markdown",
   "metadata": {
    "pycharm": {
     "name": "#%% md\n"
    },
    "slideshow": {
     "slide_type": "-"
    }
   },
   "source": [
    "День неудачный, снова ошиблись."
   ]
  },
  {
   "cell_type": "code",
   "execution_count": 97,
   "metadata": {
    "pycharm": {
     "name": "#%%\n"
    },
    "slideshow": {
     "slide_type": "-"
    }
   },
   "outputs": [
    {
     "name": "stdout",
     "output_type": "stream",
     "text": [
      "[moved e861d2a] Added erroneous line\n",
      " 1 file changed, 1 insertion(+)\n"
     ]
    }
   ],
   "source": [
    "!echo \"pirnt('bye!')\" >> hello_world.py\n",
    "!git commit -a -m \"Added erroneous line\""
   ]
  },
  {
   "cell_type": "code",
   "execution_count": 98,
   "metadata": {
    "pycharm": {
     "name": "#%%\n"
    },
    "slideshow": {
     "slide_type": "slide"
    }
   },
   "outputs": [
    {
     "name": "stdout",
     "output_type": "stream",
     "text": [
      "* e861d2a 2023-10-31 | Added erroneous line (HEAD -> moved) [Nikita Bondartsev]\n",
      "*   0b21e73 2023-10-31 | Merge branch 'master' into branch_with_newline (master) [Nikita Bondartsev]\n",
      "\u001b[32m|\u001b[m\u001b[33m\\\u001b[m  \n",
      "\u001b[32m|\u001b[m * 67a1382 2023-10-31 | Added hello_world.py [Nikita Bondartsev]\n",
      "* \u001b[33m|\u001b[m d65df69 2023-10-31 | I am going to save this line indeed [Nikita Bondartsev]\n",
      "\u001b[33m|\u001b[m\u001b[33m/\u001b[m  \n",
      "* 1827454 2023-10-31 | Initial commit. Added readme [Nikita Bondartsev]"
     ]
    }
   ],
   "source": [
    "!git hist"
   ]
  },
  {
   "cell_type": "code",
   "execution_count": 100,
   "metadata": {
    "pycharm": {
     "name": "#%%\n"
    },
    "slideshow": {
     "slide_type": "-"
    }
   },
   "outputs": [
    {
     "name": "stdout",
     "output_type": "stream",
     "text": [
      "[moved 886bbf8] Revert \"Added erroneous line\"\n",
      " Date: Tue Oct 31 17:34:27 2023 +0300\n",
      " 1 file changed, 1 deletion(-)\n"
     ]
    }
   ],
   "source": [
    "!git revert e861d2a --no-edit"
   ]
  },
  {
   "cell_type": "code",
   "execution_count": 101,
   "metadata": {
    "pycharm": {
     "name": "#%%\n"
    },
    "slideshow": {
     "slide_type": "slide"
    }
   },
   "outputs": [
    {
     "name": "stdout",
     "output_type": "stream",
     "text": [
      "* 886bbf8 2023-10-31 | Revert \"Added erroneous line\" (HEAD -> moved) [Nikita Bondartsev]\n",
      "* e861d2a 2023-10-31 | Added erroneous line [Nikita Bondartsev]\n",
      "*   0b21e73 2023-10-31 | Merge branch 'master' into branch_with_newline (master) [Nikita Bondartsev]\n",
      "\u001b[32m|\u001b[m\u001b[33m\\\u001b[m  \n",
      "\u001b[32m|\u001b[m * 67a1382 2023-10-31 | Added hello_world.py [Nikita Bondartsev]\n",
      "* \u001b[33m|\u001b[m d65df69 2023-10-31 | I am going to save this line indeed [Nikita Bondartsev]\n",
      "\u001b[33m|\u001b[m\u001b[33m/\u001b[m  \n",
      "* 1827454 2023-10-31 | Initial commit. Added readme [Nikita Bondartsev]"
     ]
    }
   ],
   "source": [
    "!git hist"
   ]
  },
  {
   "cell_type": "code",
   "execution_count": 102,
   "metadata": {
    "pycharm": {
     "name": "#%%\n"
    },
    "slideshow": {
     "slide_type": "-"
    }
   },
   "outputs": [
    {
     "name": "stdout",
     "output_type": "stream",
     "text": [
      "print('hello, world')\n"
     ]
    }
   ],
   "source": [
    "!cat hello_world.py"
   ]
  },
  {
   "cell_type": "markdown",
   "metadata": {
    "pycharm": {
     "name": "#%% md\n"
    },
    "slideshow": {
     "slide_type": "-"
    }
   },
   "source": [
    "Что произошло:\n",
    "* Файл hello_world.py вернулся к исходному состоянию.\n",
    "* В истории появился новый коммит, зеркалящий изменения, привнесенные отменяемым.\n",
    "* История по-прежнему, содежит неверный коммит, значит может быть без конфликтов запушена на сервер."
   ]
  },
  {
   "cell_type": "markdown",
   "metadata": {
    "pycharm": {
     "name": "#%% md\n"
    },
    "slideshow": {
     "slide_type": "slide"
    }
   },
   "source": [
    "## В итоге, три способа как отменить закомиченные изменения\n",
    "\n",
    "* `reset` переводит текущую ветку на произвольный момент в истории. В каком-то смысле отменяет изменения. Не надо использовать, если изменения уже запушены. Лучше всего для создания новой ветки из момента в прошлом.\n",
    "* `commit --amend` перезаписывает последний коммит. Не надо использовать, если изменения уже запушены.\n",
    "* `revert <хеш коммита>` создает изменения, зеркалящие выбранный коммит. Подходит, если изменения уже запушены."
   ]
  },
  {
   "cell_type": "code",
   "execution_count": 103,
   "metadata": {
    "pycharm": {
     "name": "#%%\n"
    },
    "slideshow": {
     "slide_type": "-"
    }
   },
   "outputs": [
    {
     "name": "stdout",
     "output_type": "stream",
     "text": [
      "HEAD is now at 0b21e73 Merge branch 'master' into branch_with_newline\n",
      "Switched to branch 'master'\n",
      "Deleted branch moved (was 0b21e73).\n"
     ]
    }
   ],
   "source": [
    "!git reset --hard master\n",
    "!git checkout master\n",
    "!git branch -d moved"
   ]
  },
  {
   "cell_type": "markdown",
   "metadata": {
    "pycharm": {
     "name": "#%% md\n"
    },
    "slideshow": {
     "slide_type": "slide"
    }
   },
   "source": [
    "# Работа с удаленным репозиторием"
   ]
  },
  {
   "cell_type": "code",
   "execution_count": 104,
   "metadata": {
    "pycharm": {
     "name": "#%%\n"
    },
    "slideshow": {
     "slide_type": "-"
    }
   },
   "outputs": [
    {
     "name": "stdout",
     "output_type": "stream",
     "text": [
      "*   0b21e73 2023-10-31 | Merge branch 'master' into branch_with_newline (HEAD -> master) [Nikita Bondartsev]\n",
      "\u001b[31m|\u001b[m\u001b[32m\\\u001b[m  \n",
      "\u001b[31m|\u001b[m * 67a1382 2023-10-31 | Added hello_world.py [Nikita Bondartsev]\n",
      "* \u001b[32m|\u001b[m d65df69 2023-10-31 | I am going to save this line indeed [Nikita Bondartsev]\n",
      "\u001b[32m|\u001b[m\u001b[32m/\u001b[m  \n",
      "* 1827454 2023-10-31 | Initial commit. Added readme [Nikita Bondartsev]"
     ]
    }
   ],
   "source": [
    "!git hist"
   ]
  },
  {
   "cell_type": "code",
   "execution_count": 105,
   "metadata": {
    "pycharm": {
     "name": "#%%\n"
    },
    "slideshow": {
     "slide_type": "-"
    }
   },
   "outputs": [],
   "source": [
    "!git remote add origin git@gitlab.manytask.org:py-tasks/sample-remote-repo.git"
   ]
  },
  {
   "cell_type": "code",
   "execution_count": 106,
   "metadata": {
    "pycharm": {
     "name": "#%%\n"
    },
    "slideshow": {
     "slide_type": "-"
    }
   },
   "outputs": [
    {
     "name": "stdout",
     "output_type": "stream",
     "text": [
      "origin\tgit@gitlab.manytask.org:py-tasks/sample-remote-repo.git (fetch)\n",
      "origin\tgit@gitlab.manytask.org:py-tasks/sample-remote-repo.git (push)\n"
     ]
    }
   ],
   "source": [
    "!git remote -v"
   ]
  },
  {
   "cell_type": "code",
   "execution_count": 107,
   "metadata": {
    "pycharm": {
     "name": "#%%\n"
    },
    "slideshow": {
     "slide_type": "-"
    }
   },
   "outputs": [
    {
     "name": "stdout",
     "output_type": "stream",
     "text": [
      "* \u001b[32mmaster\u001b[m\n"
     ]
    }
   ],
   "source": [
    "!git branch --all"
   ]
  },
  {
   "cell_type": "code",
   "execution_count": 109,
   "metadata": {
    "pycharm": {
     "name": "#%%\n"
    },
    "slideshow": {
     "slide_type": "slide"
    }
   },
   "outputs": [
    {
     "name": "stdout",
     "output_type": "stream",
     "text": [
      "Counting objects: 11, done.\n",
      "Delta compression using up to 12 threads.\n",
      "Compressing objects: 100% (6/6), done.\n",
      "Writing objects: 100% (11/11), 1.02 KiB | 348.00 KiB/s, done.\n",
      "Total 11 (delta 1), reused 0 (delta 0)\n",
      "To gitlab.manytask.org:py-tasks/sample-remote-repo.git\n",
      " + 7aacbe9...0b21e73 master -> master (forced update)\n"
     ]
    }
   ],
   "source": [
    "!git push origin master"
   ]
  },
  {
   "cell_type": "code",
   "execution_count": 110,
   "metadata": {
    "pycharm": {
     "name": "#%%\n"
    },
    "slideshow": {
     "slide_type": "-"
    }
   },
   "outputs": [
    {
     "name": "stdout",
     "output_type": "stream",
     "text": [
      "* \u001b[32mmaster\u001b[m\n",
      "  \u001b[31mremotes/origin/master\u001b[m\n"
     ]
    }
   ],
   "source": [
    "!git branch --all"
   ]
  },
  {
   "cell_type": "code",
   "execution_count": 111,
   "metadata": {
    "pycharm": {
     "name": "#%%\n"
    },
    "slideshow": {
     "slide_type": "-"
    }
   },
   "outputs": [
    {
     "name": "stdout",
     "output_type": "stream",
     "text": [
      "*   0b21e73 2023-10-31 | Merge branch 'master' into branch_with_newline (HEAD -> master, origin/master) [Nikita Bondartsev]\n",
      "\u001b[31m|\u001b[m\u001b[32m\\\u001b[m  \n",
      "\u001b[31m|\u001b[m * 67a1382 2023-10-31 | Added hello_world.py [Nikita Bondartsev]\n",
      "* \u001b[32m|\u001b[m d65df69 2023-10-31 | I am going to save this line indeed [Nikita Bondartsev]\n",
      "\u001b[32m|\u001b[m\u001b[32m/\u001b[m  \n",
      "* 1827454 2023-10-31 | Initial commit. Added readme [Nikita Bondartsev]"
     ]
    }
   ],
   "source": [
    "!git hist"
   ]
  },
  {
   "cell_type": "markdown",
   "metadata": {
    "pycharm": {
     "name": "#%% md\n"
    },
    "slideshow": {
     "slide_type": "-"
    }
   },
   "source": [
    "Что произошло:\n",
    "* Все локальные изменения были загружены в удаленный репозиторий и теперь доступны коллегам/преподавателям.\n",
    "* Была под капотом создана новая, трекинговая, ветка origin/master, видна в `hist`.\n",
    "* Не стоит играть с локальной историей, иначе потом будет сложно запушить."
   ]
  },
  {
   "cell_type": "markdown",
   "metadata": {
    "pycharm": {
     "name": "#%% md\n"
    },
    "slideshow": {
     "slide_type": "slide"
    }
   },
   "source": [
    "## git - распределенная система контроля версий, но..\n",
    "\n",
    "Только две операции происходят не локально: git push, git fetch (pull) - остальное локально."
   ]
  },
  {
   "cell_type": "markdown",
   "metadata": {
    "pycharm": {
     "name": "#%% md\n"
    },
    "slideshow": {
     "slide_type": "-"
    }
   },
   "source": [
    "fetch забирает изменения из удаленного репозитория и кладет их в локальные трекинговые ветки."
   ]
  },
  {
   "cell_type": "code",
   "execution_count": 112,
   "metadata": {
    "pycharm": {
     "name": "#%%\n"
    },
    "slideshow": {
     "slide_type": "-"
    }
   },
   "outputs": [
    {
     "name": "stdout",
     "output_type": "stream",
     "text": [
      "remote: Enumerating objects: 23, done.\u001b[K\n",
      "remote: Total 23 (delta 0), reused 0 (delta 0), pack-reused 23\u001b[K\n",
      "Unpacking objects: 100% (23/23), done.\n",
      "From gitlab.manytask.org:py-tasks/sample-remote-repo\n",
      " * [new branch]      created_on_remote -> origin/created_on_remote\n",
      " * [new branch]      main              -> origin/main\n",
      " * [new branch]      test              -> origin/test\n"
     ]
    }
   ],
   "source": [
    "!git fetch"
   ]
  },
  {
   "cell_type": "code",
   "execution_count": 113,
   "metadata": {
    "pycharm": {
     "name": "#%%\n"
    },
    "slideshow": {
     "slide_type": "-"
    }
   },
   "outputs": [
    {
     "name": "stdout",
     "output_type": "stream",
     "text": [
      "* \u001b[32mmaster\u001b[m\n",
      "  \u001b[31mremotes/origin/created_on_remote\u001b[m\n",
      "  \u001b[31mremotes/origin/main\u001b[m\n",
      "  \u001b[31mremotes/origin/master\u001b[m\n",
      "  \u001b[31mremotes/origin/test\u001b[m\n"
     ]
    }
   ],
   "source": [
    "!git branch --all"
   ]
  },
  {
   "cell_type": "markdown",
   "metadata": {
    "pycharm": {
     "name": "#%% md\n"
    },
    "slideshow": {
     "slide_type": "slide"
    }
   },
   "source": [
    "## Что же такое git pull?"
   ]
  },
  {
   "cell_type": "markdown",
   "metadata": {
    "pycharm": {
     "name": "#%% md\n"
    },
    "slideshow": {
     "slide_type": "-"
    }
   },
   "source": [
    "<div align=\"center\"><img src=\"https://i.stack.imgur.com/2EO7f.png\" width=\"600px\"/></div>"
   ]
  },
  {
   "cell_type": "markdown",
   "metadata": {
    "pycharm": {
     "name": "#%% md\n"
    },
    "slideshow": {
     "slide_type": "slide"
    }
   },
   "source": [
    "## merge request\n",
    "\n",
    "Трактовать стоит буквально :)"
   ]
  },
  {
   "cell_type": "code",
   "execution_count": 114,
   "metadata": {
    "pycharm": {
     "name": "#%%\n"
    },
    "slideshow": {
     "slide_type": "-"
    }
   },
   "outputs": [
    {
     "name": "stdout",
     "output_type": "stream",
     "text": [
      "Switched to a new branch 'local_feature_branch'\n",
      "[local_feature_branch 247b6da] Added yet another line\n",
      " 1 file changed, 1 insertion(+)\n"
     ]
    }
   ],
   "source": [
    "!git checkout -b local_feature_branch\n",
    "!echo \"Yet another new line\" >> README.md\n",
    "!git commit -a -m \"Added yet another line\""
   ]
  },
  {
   "cell_type": "code",
   "execution_count": 115,
   "metadata": {
    "pycharm": {
     "name": "#%%\n"
    },
    "slideshow": {
     "slide_type": "-"
    }
   },
   "outputs": [
    {
     "name": "stdout",
     "output_type": "stream",
     "text": [
      "Counting objects: 3, done.\n",
      "Delta compression using up to 12 threads.\n",
      "Compressing objects: 100% (3/3), done.\n",
      "Writing objects: 100% (3/3), 361 bytes | 361.00 KiB/s, done.\n",
      "Total 3 (delta 0), reused 0 (delta 0)\n",
      "remote: \n",
      "remote: To create a merge request for local_feature_branch, visit:\u001b[K\n",
      "remote:   https://gitlab.manytask.org/py-tasks/sample-remote-repo/-/merge_requests/new?merge_request%5Bsource_branch%5D=local_feature_branch\u001b[K\n",
      "remote: \n",
      "To gitlab.manytask.org:py-tasks/sample-remote-repo.git\n",
      " * [new branch]      local_feature_branch -> local_feature_branch\n"
     ]
    }
   ],
   "source": [
    "!git push origin local_feature_branch"
   ]
  },
  {
   "cell_type": "markdown",
   "metadata": {
    "pycharm": {
     "name": "#%% md\n"
    },
    "slideshow": {
     "slide_type": "slide"
    }
   },
   "source": [
    "<img src=\"https://avatars.mds.yandex.net/get-pdb/2883552/b24e37b7-bac7-4290-a641-0d710332c175/s1200\" height=\"1000px\"/>"
   ]
  },
  {
   "cell_type": "markdown",
   "metadata": {
    "pycharm": {
     "name": "#%% md\n"
    },
    "slideshow": {
     "slide_type": "slide"
    }
   },
   "source": [
    "* Merge request показывает все изменения, которые отделяют ветку, **откуда** он создается от ветки **куда** он создается. Это удобно для ревью изменений.\n",
    "* Когда merge request будет принят, изменения вольются в ветку, куда происходит merge request.\n",
    "* Лучше всего делать отдельную ветку на фичу, чтобы потом при вливании через MR видеть весь код, затрагиваемый этой фичей, и только его.\n",
    "* Перед началом compgraph лучше создать соответствующую ветку и в ней делать только compgraph. Тогда потом можно будет легко создать merge request."
   ]
  },
  {
   "cell_type": "markdown",
   "metadata": {
    "pycharm": {
     "name": "#%% md\n"
    },
    "slideshow": {
     "slide_type": "fragment"
    }
   },
   "source": [
    "## Вместе подумаем что делать, если изменения уже разложены по комитам и запушены\n",
    "\n",
    "Предложения?"
   ]
  },
  {
   "cell_type": "markdown",
   "metadata": {
    "pycharm": {
     "name": "#%% md\n"
    },
    "slideshow": {
     "slide_type": "slide"
    }
   },
   "source": [
    "Чтобы создать нормальный merge request для compgraph, если все изменения случайно уже разложены по коммитам в `master`:\n",
    "* Смотрим на историю `git hist` и вспоминаем какой же коммит месадж ознаменовал начало выполнения компграфа (но при этом уже содержит преподавательский шаблон, это важно!).\n",
    "* Создаем ветку, куда будем мерджить компграф `git checkout -b before_compgraph`.\n",
    "* Откатываемся к состоянию до компграфа `git reset <the first compgraph commit>`.\n",
    "* Пушим состояние до компграфа в ремоут репо `git push origin before_compgraph`.\n",
    "* А теперь создаем ветку, которая будет содержать изменения компграфа `git checkout -b compgraph`.\n",
    "* `git add compgraph && git commit -m \"Added complete compgraph code\"`\n",
    "* `git reset --hard compgraph` для обнуления всех других изменений, которые не закомичены (значит не связаны с компграфом или лежат не там).\n",
    "* `git push origin compgraph` и переходим по ссылке для создания MR."
   ]
  },
  {
   "cell_type": "markdown",
   "metadata": {
    "pycharm": {
     "name": "#%% md\n"
    },
    "slideshow": {
     "slide_type": "slide"
    }
   },
   "source": [
    "## А что если в мердж реквесте не то в changes?\n",
    "\n",
    "* Вспомним, что **MR** сравнивает между собой состояния, на которые указывают ветки откуда и куда делается **MR**\n",
    "* Поэтому, чтобы **MR** показывал правильный дифф, необходимо сделать две ветки, состояние которых отличается только на необходимый дифф\n",
    "* Чаще всего при сдаче второй домашки, **MR** содержит лишние \"удаления\", если сделан из какой-то отдельной ветки, которая давно была отведена от `master`'a\n",
    "* Чтобы это пофиксить, достаточно вмерджить `master` в ту ветку, откуда делается **MR**\n"
   ]
  },
  {
   "cell_type": "markdown",
   "metadata": {
    "pycharm": {
     "name": "#%% md\n"
    },
    "slideshow": {
     "slide_type": "slide"
    }
   },
   "source": [
    "# Спасибо за внимание!"
   ]
  },
  {
   "cell_type": "code",
   "execution_count": null,
   "metadata": {},
   "outputs": [],
   "source": []
  }
 ],
 "metadata": {
  "celltoolbar": "Slideshow",
  "kernelspec": {
   "display_name": "Python 3 (ipykernel)",
   "language": "python",
   "name": "python3"
  },
  "language_info": {
   "codemirror_mode": {
    "name": "ipython",
    "version": 3
   },
   "file_extension": ".py",
   "mimetype": "text/x-python",
   "name": "python",
   "nbconvert_exporter": "python",
   "pygments_lexer": "ipython3",
   "version": "3.11.5"
  },
  "rise": {
   "enable_chalkboard": true,
   "footer": "<p style=\"margin: 5px; color: #a0a0a0\">YSDA Python Course</p>",
   "scroll": true,
   "start_slideshow_at": "selected",
   "theme": "serif",
   "transition": "none"
  }
 },
 "nbformat": 4,
 "nbformat_minor": 4
}
