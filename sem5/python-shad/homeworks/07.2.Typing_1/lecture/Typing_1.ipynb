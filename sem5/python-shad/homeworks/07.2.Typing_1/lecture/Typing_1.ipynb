{
 "cells": [
  {
   "cell_type": "code",
   "execution_count": 1,
   "metadata": {
    "ExecuteTime": {
     "end_time": "2024-01-10T11:30:10.305624200Z",
     "start_time": "2024-01-10T11:30:08.295700700Z"
    },
    "editable": true,
    "slideshow": {
     "slide_type": "skip"
    },
    "tags": []
   },
   "outputs": [
    {
     "data": {
      "text/html": [
       "\n",
       "<style>\n",
       ".jp-Cell-outputWrapper .jp-Placeholder {\n",
       "    display: none;\n",
       "}\n",
       "</style>\n"
      ],
      "text/plain": [
       "<IPython.core.display.HTML object>"
      ]
     },
     "metadata": {},
     "output_type": "display_data"
    }
   ],
   "source": [
    "from IPython.display import display, HTML\n",
    "display(HTML('''\n",
    "<style>\n",
    ".jp-Cell-outputWrapper .jp-Placeholder {\n",
    "    display: none;\n",
    "}\n",
    "</style>\n",
    "'''))"
   ]
  },
  {
   "cell_type": "markdown",
   "metadata": {
    "editable": true,
    "pycharm": {
     "name": "#%% md\n"
    },
    "slideshow": {
     "slide_type": "slide"
    },
    "tags": []
   },
   "source": [
    "<center>\n",
    "    <img src=\"https://upload.wikimedia.org/wikipedia/commons/a/a8/%D0%9B%D0%9E%D0%93%D0%9E_%D0%A8%D0%90%D0%94.png\" width=500px/>\n",
    "    <font>Python 2023</font><br/>\n",
    "    <br/>\n",
    "    <br/>\n",
    "    <b style=\"font-size: 2em\">Типы - Введение</b><br/>\n",
    "    <br/>\n",
    "    <font>Никита Бондарцев</font><br/>\n",
    "</center>"
   ]
  },
  {
   "cell_type": "markdown",
   "metadata": {
    "editable": true,
    "pycharm": {
     "name": "#%% md\n"
    },
    "slideshow": {
     "slide_type": "slide"
    },
    "tags": []
   },
   "source": [
    "### static typing vs dynamic typing"
   ]
  },
  {
   "cell_type": "markdown",
   "metadata": {
    "editable": true,
    "slideshow": {
     "slide_type": "-"
    },
    "tags": []
   },
   "source": [
    "<center><img src=\"images/pills.jpg\" width=700px/></center>"
   ]
  },
  {
   "cell_type": "markdown",
   "metadata": {
    "cell_style": "split",
    "editable": true,
    "pycharm": {
     "name": "#%% md\n"
    },
    "slideshow": {
     "slide_type": "slide"
    },
    "tags": []
   },
   "source": [
    "### Dynamic typing\n",
    "\n",
    "Проверяется тип аргумента **в Runtime**. Тип ассоциирован с объектом\n"
   ]
  },
  {
   "cell_type": "code",
   "execution_count": 1,
   "metadata": {
    "ExecuteTime": {
     "start_time": "2024-01-10T11:30:10.330623Z"
    },
    "cell_style": "split",
    "editable": true,
    "pycharm": {
     "name": "#%%\n"
    },
    "slideshow": {
     "slide_type": "-"
    },
    "tags": []
   },
   "outputs": [
    {
     "name": "stdout",
     "output_type": "stream",
     "text": [
      "Runtime\n"
     ]
    },
    {
     "ename": "AttributeError",
     "evalue": "'str' object has no attribute 'some_func'",
     "output_type": "error",
     "traceback": [
      "\u001b[1;31m---------------------------------------------------------------------------\u001b[0m",
      "\u001b[1;31mAttributeError\u001b[0m                            Traceback (most recent call last)",
      "Cell \u001b[1;32mIn[1], line 10\u001b[0m\n\u001b[0;32m      7\u001b[0m     \u001b[38;5;28mprint\u001b[39m(\u001b[38;5;124m\"\u001b[39m\u001b[38;5;124mRuntime\u001b[39m\u001b[38;5;124m\"\u001b[39m)\n\u001b[0;32m      8\u001b[0m     f(\u001b[38;5;124m\"\u001b[39m\u001b[38;5;124mhello\u001b[39m\u001b[38;5;124m\"\u001b[39m)\n\u001b[1;32m---> 10\u001b[0m \u001b[43mg\u001b[49m\u001b[43m(\u001b[49m\u001b[43m)\u001b[49m\n",
      "Cell \u001b[1;32mIn[1], line 8\u001b[0m, in \u001b[0;36mg\u001b[1;34m()\u001b[0m\n\u001b[0;32m      6\u001b[0m \u001b[38;5;28;01mdef\u001b[39;00m \u001b[38;5;21mg\u001b[39m() \u001b[38;5;241m-\u001b[39m\u001b[38;5;241m>\u001b[39m \u001b[38;5;28;01mNone\u001b[39;00m:\n\u001b[0;32m      7\u001b[0m     \u001b[38;5;28mprint\u001b[39m(\u001b[38;5;124m\"\u001b[39m\u001b[38;5;124mRuntime\u001b[39m\u001b[38;5;124m\"\u001b[39m)\n\u001b[1;32m----> 8\u001b[0m     \u001b[43mf\u001b[49m\u001b[43m(\u001b[49m\u001b[38;5;124;43m\"\u001b[39;49m\u001b[38;5;124;43mhello\u001b[39;49m\u001b[38;5;124;43m\"\u001b[39;49m\u001b[43m)\u001b[49m\n",
      "Cell \u001b[1;32mIn[1], line 4\u001b[0m, in \u001b[0;36mf\u001b[1;34m(a)\u001b[0m\n\u001b[0;32m      2\u001b[0m \u001b[38;5;28;01mdef\u001b[39;00m \u001b[38;5;21mf\u001b[39m(a: \u001b[38;5;28mint\u001b[39m) \u001b[38;5;241m-\u001b[39m\u001b[38;5;241m>\u001b[39m \u001b[38;5;28;01mNone\u001b[39;00m:\n\u001b[0;32m      3\u001b[0m     \u001b[38;5;66;03m# print(a + 10)  # Throws TypeError\u001b[39;00m\n\u001b[1;32m----> 4\u001b[0m     \u001b[43ma\u001b[49m\u001b[38;5;241;43m.\u001b[39;49m\u001b[43msome_func\u001b[49m()\n",
      "\u001b[1;31mAttributeError\u001b[0m: 'str' object has no attribute 'some_func'"
     ]
    }
   ],
   "source": [
    "### Dynamic typing\n",
    "def f(a: int) -> None:\n",
    "    # print(a + 10)  # Throws TypeError\n",
    "    a.some_func()  # Throws AttributeError\n",
    "\n",
    "def g() -> None:\n",
    "    print(\"Runtime\")\n",
    "    f(\"hello\")\n",
    "\n",
    "g()"
   ]
  },
  {
   "cell_type": "markdown",
   "metadata": {
    "cell_style": "split",
    "editable": true,
    "pycharm": {
     "name": "#%% md\n"
    },
    "slideshow": {
     "slide_type": "slide"
    },
    "tags": []
   },
   "source": [
    "### Static typing\n",
    "\n",
    "\n",
    "Проверяется тип аргумента **до Runtime**. Тип ассоциирован с переменной\n",
    "\n",
    "\n"
   ]
  },
  {
   "cell_type": "code",
   "execution_count": 4,
   "metadata": {
    "ExecuteTime": {
     "end_time": "2024-01-10T11:30:10.359622Z",
     "start_time": "2024-01-10T11:30:10.351642600Z"
    },
    "cell_style": "split",
    "editable": true,
    "pycharm": {
     "name": "#%%\n"
    },
    "scrolled": true,
    "slideshow": {
     "slide_type": "-"
    },
    "tags": []
   },
   "outputs": [
    {
     "name": "stderr",
     "output_type": "stream",
     "text": [
      "UsageError: Cell magic `%%typecheck` not found.\n"
     ]
    }
   ],
   "source": [
    "%%typecheck\n",
    "\n",
    "### Static typing\n",
    "def f(a: int, b, c) -> None:\n",
    "    print(a + 10)\n",
    "    a.some_func()   # Mypy error\n",
    "\n",
    "def g() -> None:\n",
    "    print(\"Runtime\")\n",
    "    f(\"hello\")      # Mypy error"
   ]
  },
  {
   "cell_type": "markdown",
   "metadata": {
    "editable": true,
    "pycharm": {
     "name": "#%% md\n"
    },
    "slideshow": {
     "slide_type": "slide"
    },
    "tags": []
   },
   "source": [
    "### Плюсы static/dynamic типизации"
   ]
  },
  {
   "cell_type": "markdown",
   "metadata": {
    "editable": true,
    "pycharm": {
     "name": "#%% md\n"
    },
    "slideshow": {
     "slide_type": "-"
    },
    "tags": []
   },
   "source": [
    "Static typing:\n",
    "* **Видим проблему в месте вызова**, а не где-то в недрах\n",
    "* Базово **документирует функцию** улучшая читабельность\n",
    "* Помогает **структурировать код** (понять что на входе страшный динозавр и стоит зарефакторить)\n",
    "* (не питон) Уменьшает нагрузку на runtime, так как **типы заранее проверяются** и можно эффективнее хранить значения\n",
    "\n",
    "Dynamic typing:\n",
    "* Можно не тратить **время на аннотацию типов**\n",
    "* Библиотеки могут **оперировать любым множеством входов** и принимать решение про тип в рантайме"
   ]
  },
  {
   "cell_type": "markdown",
   "metadata": {
    "editable": true,
    "pycharm": {
     "name": "#%% md\n"
    },
    "slideshow": {
     "slide_type": "slide"
    },
    "tags": []
   },
   "source": [
    "It should also be emphasized that **Python will remain a dynamically typed language, and the authors have no desire to ever make type hints mandatory, even by convention.**\n",
    "\n",
    "Guido van Rossum, [PEP 484](https://peps.python.org/pep-0484/#non-goals)"
   ]
  },
  {
   "cell_type": "markdown",
   "metadata": {
    "editable": true,
    "slideshow": {
     "slide_type": "fragment"
    },
    "tags": []
   },
   "source": [
    "<center><img src=\"images/static_code_analysis.jpg\" width=700px/></center>"
   ]
  },
  {
   "cell_type": "markdown",
   "metadata": {
    "editable": true,
    "pycharm": {
     "name": "#%% md\n"
    },
    "slideshow": {
     "slide_type": "slide"
    },
    "tags": []
   },
   "source": [
    "### Отлично, убедили, хочу тайпхинты. Но как?"
   ]
  },
  {
   "cell_type": "markdown",
   "metadata": {
    "editable": true,
    "slideshow": {
     "slide_type": "-"
    },
    "tags": []
   },
   "source": [
    "<center><img src=\"images/awakening.jpg\" width=700px/></center>"
   ]
  },
  {
   "cell_type": "markdown",
   "metadata": {
    "editable": true,
    "slideshow": {
     "slide_type": "slide"
    },
    "tags": []
   },
   "source": [
    "#### Типизации подлежат:"
   ]
  },
  {
   "cell_type": "markdown",
   "metadata": {
    "editable": true,
    "slideshow": {
     "slide_type": "-"
    },
    "tags": []
   },
   "source": [
    "- аргументы функции/метода\n",
    "- возвращаемые значения функции/метода\n",
    "- переменные/атрибуты*\n",
    "\n",
    "\\* но достаточно часто типы локальных переменных могут быть выведены из кода"
   ]
  },
  {
   "cell_type": "markdown",
   "metadata": {
    "editable": true,
    "slideshow": {
     "slide_type": "-"
    },
    "tags": []
   },
   "source": [
    "#### В качестве тайпхинтов можно использовать"
   ]
  },
  {
   "cell_type": "markdown",
   "metadata": {
    "editable": true,
    "pycharm": {
     "name": "#%% md\n"
    },
    "slideshow": {
     "slide_type": "-"
    },
    "tags": []
   },
   "source": [
    "* встроенные классы (list[str], dict[str,int], int, float, etc)\n",
    "* пользовательские классы (class A, class B)\n",
    "* абстрактные базовые классы (collections.abc.Mapping, collections.abc.Callable)\n",
    "* типы из types/typing (types.FunctionType, typing.IO)\n",
    "* None"
   ]
  },
  {
   "cell_type": "markdown",
   "metadata": {
    "editable": true,
    "pycharm": {
     "name": "#%% md\n"
    },
    "slideshow": {
     "slide_type": "slide"
    },
    "tags": []
   },
   "source": [
    "### А можно не все-все типизировать? Gradual typing"
   ]
  },
  {
   "cell_type": "markdown",
   "metadata": {
    "editable": true,
    "pycharm": {
     "name": "#%% md\n"
    },
    "slideshow": {
     "slide_type": "-"
    },
    "tags": []
   },
   "source": [
    "Концепция, которая позволяет части программы быть динамически типизирована, а части - статически. Но есть нюансы"
   ]
  },
  {
   "cell_type": "markdown",
   "metadata": {
    "editable": true,
    "slideshow": {
     "slide_type": "-"
    },
    "tags": []
   },
   "source": [
    "<center><img src=\"images/merged_pill.jpg\" width=700px/></center>"
   ]
  },
  {
   "cell_type": "markdown",
   "metadata": {
    "editable": true,
    "slideshow": {
     "slide_type": "slide"
    },
    "tags": []
   },
   "source": [
    "### Как программно узнать типы функции?\n",
    "\n",
    "(непонятно зачем это может понадобиться, но вот)"
   ]
  },
  {
   "cell_type": "markdown",
   "metadata": {
    "slideshow": {
     "slide_type": "-"
    }
   },
   "source": [
    "#### Читерим"
   ]
  },
  {
   "cell_type": "code",
   "execution_count": null,
   "metadata": {
    "ExecuteTime": {
     "end_time": "2024-01-10T11:30:10.378666800Z",
     "start_time": "2024-01-10T11:30:10.359622Z"
    },
    "editable": true,
    "pycharm": {
     "name": "#%%\n"
    },
    "slideshow": {
     "slide_type": "-"
    },
    "tags": []
   },
   "outputs": [],
   "source": [
    "def f(a: int) -> None:\n",
    "    pass\n",
    "\n",
    "f.__annotations__  # в какой-то из очередных релизов может сломаться"
   ]
  },
  {
   "cell_type": "markdown",
   "metadata": {
    "editable": true,
    "slideshow": {
     "slide_type": "-"
    },
    "tags": []
   },
   "source": [
    "#### Как на самом деле надо"
   ]
  },
  {
   "cell_type": "code",
   "execution_count": null,
   "metadata": {
    "ExecuteTime": {
     "start_time": "2024-01-10T11:30:10.368635200Z"
    },
    "editable": true,
    "pycharm": {
     "name": "#%%\n"
    },
    "slideshow": {
     "slide_type": "-"
    },
    "tags": []
   },
   "outputs": [],
   "source": [
    "import typing\n",
    "\n",
    "def f(a: int) -> None:\n",
    "    pass\n",
    "\n",
    "typing.get_type_hints(f)"
   ]
  },
  {
   "cell_type": "markdown",
   "metadata": {
    "editable": true,
    "slideshow": {
     "slide_type": "slide"
    },
    "tags": []
   },
   "source": [
    "### Хорошо, тайпинги функций я сам задавал, я их знаю, а что переменные?"
   ]
  },
  {
   "cell_type": "code",
   "execution_count": null,
   "metadata": {
    "ExecuteTime": {
     "end_time": "2024-01-10T11:30:10.493245300Z",
     "start_time": "2024-01-10T11:30:10.379665800Z"
    },
    "editable": true,
    "scrolled": true,
    "slideshow": {
     "slide_type": "-"
    },
    "tags": []
   },
   "outputs": [],
   "source": [
    "lst: list[int] = [1, 2, 3]\n",
    "lst.__annotations__"
   ]
  },
  {
   "cell_type": "code",
   "execution_count": null,
   "metadata": {
    "ExecuteTime": {
     "start_time": "2024-01-10T11:30:10.395212200Z"
    },
    "editable": true,
    "slideshow": {
     "slide_type": "-"
    },
    "tags": []
   },
   "outputs": [],
   "source": [
    "import typing\n",
    "typing.get_type_hints(lst)"
   ]
  },
  {
   "cell_type": "code",
   "execution_count": null,
   "metadata": {
    "ExecuteTime": {
     "start_time": "2024-01-10T11:30:10.405210Z"
    },
    "editable": true,
    "scrolled": true,
    "slideshow": {
     "slide_type": "-"
    },
    "tags": []
   },
   "outputs": [],
   "source": [
    "%%typecheck\n",
    "lst: list[int] = [1, 2, 3]\n",
    "reveal_type(lst)"
   ]
  },
  {
   "cell_type": "code",
   "execution_count": null,
   "metadata": {
    "ExecuteTime": {
     "start_time": "2024-01-10T11:30:10.424226Z"
    },
    "editable": true,
    "scrolled": true,
    "slideshow": {
     "slide_type": "-"
    },
    "tags": []
   },
   "outputs": [],
   "source": [
    "# но в рантайме так не сработает\n",
    "reveal_type(lst)"
   ]
  },
  {
   "cell_type": "code",
   "execution_count": null,
   "metadata": {
    "ExecuteTime": {
     "start_time": "2024-01-10T11:30:10.439219200Z"
    },
    "editable": true,
    "slideshow": {
     "slide_type": ""
    },
    "tags": []
   },
   "outputs": [],
   "source": [
    "typing.reveal_type(lst)  # с питона 3.11"
   ]
  },
  {
   "cell_type": "code",
   "execution_count": null,
   "metadata": {
    "ExecuteTime": {
     "start_time": "2024-01-10T11:30:10.453225700Z"
    },
    "editable": true,
    "slideshow": {
     "slide_type": "-"
    },
    "tags": []
   },
   "outputs": [],
   "source": [
    "type(lst)"
   ]
  },
  {
   "cell_type": "markdown",
   "metadata": {
    "editable": true,
    "pycharm": {
     "name": "#%% md\n"
    },
    "slideshow": {
     "slide_type": "slide"
    },
    "tags": []
   },
   "source": [
    "### Как работает проверка типов?"
   ]
  },
  {
   "cell_type": "markdown",
   "metadata": {
    "editable": true,
    "pycharm": {
     "name": "#%% md\n"
    },
    "slideshow": {
     "slide_type": "-"
    },
    "tags": []
   },
   "source": [
    "- типы проверяются не по реальному рантайм типу объекта, а по значению тайпхинта\n",
    "- когда происходит присвоение переменной/биндинг аргумента функции, mypy проверяет, что передан подтип типа переменной/параметра\n",
    "- если тип переменной не указан, тип переменной выводится по самому узкому возможному типу\n",
    "- когда объявляется класс-наследник, mypy проверяет что наследник, действительно, является подтипом родителя\n"
   ]
  },
  {
   "cell_type": "markdown",
   "metadata": {
    "editable": true,
    "pycharm": {
     "name": "#%% md\n"
    },
    "slideshow": {
     "slide_type": "-"
    },
    "tags": []
   },
   "source": [
    "Определение подтипа:\n",
    "* ∀ A: A -> A\n",
    "* A -> B  =>  A.values ⊇ B.values\n",
    "* A -> B  =>  A.functions ⊆ B.functions\n",
    "\n",
    "\\* логика такова, что в переменную a типа А можно положить объект любого его подтипа, и код, предполагающий что `a` имеет тип `A`, не сломается\n"
   ]
  },
  {
   "cell_type": "markdown",
   "metadata": {
    "editable": true,
    "pycharm": {
     "name": "#%% md\n"
    },
    "slideshow": {
     "slide_type": "slide"
    },
    "tags": []
   },
   "source": [
    "### Но как же Gradual typing?"
   ]
  },
  {
   "cell_type": "markdown",
   "metadata": {
    "editable": true,
    "pycharm": {
     "name": "#%% md\n"
    },
    "slideshow": {
     "slide_type": "-"
    },
    "tags": []
   },
   "source": [
    "Если тип чего-либо не указан, то этому объекту автоматически присваивается специальный тип Any. Any имеет свойства, которые можно интерпретировать как то, что Any является подтипом любого типа\n",
    "\n",
    "* A -> B => A ~> B\n",
    "* ∀ A: Any ~> A\n",
    "* ∀ A: A ~> Any  \n"
   ]
  },
  {
   "cell_type": "markdown",
   "metadata": {
    "editable": true,
    "pycharm": {
     "name": "#%% md\n"
    },
    "slideshow": {
     "slide_type": "slide"
    },
    "tags": []
   },
   "source": [
    "### Насколько плохо не указывать часть типов, ч1"
   ]
  },
  {
   "cell_type": "code",
   "execution_count": null,
   "metadata": {
    "ExecuteTime": {
     "start_time": "2024-01-10T11:30:10.465214700Z"
    },
    "cell_style": "split",
    "editable": true,
    "pycharm": {
     "name": "#%%\n"
    },
    "slideshow": {
     "slide_type": "-"
    },
    "tags": []
   },
   "outputs": [],
   "source": [
    "%%typecheck\n",
    "# Задаем все типы\n",
    "def f(a: int) -> None:\n",
    "    reveal_type(a)\n",
    "    print(a << 10)\n",
    "\n",
    "def g() -> None:\n",
    "    b = 1.0             \n",
    "    reveal_type(b)\n",
    "    f(b)"
   ]
  },
  {
   "cell_type": "code",
   "execution_count": null,
   "metadata": {
    "ExecuteTime": {
     "start_time": "2024-01-10T11:30:10.484243Z"
    },
    "cell_style": "split",
    "editable": true,
    "pycharm": {
     "name": "#%%\n"
    },
    "slideshow": {
     "slide_type": "-"
    },
    "tags": []
   },
   "outputs": [],
   "source": [
    "%%typecheck\n",
    "# Не задаем типы в f\n",
    "def f(a):\n",
    "    c: int = a\n",
    "    reveal_type(a)\n",
    "    reveal_type(c)\n",
    "    print(a << 10)\n",
    "\n",
    "def g() -> None:\n",
    "    b = 1.0\n",
    "    reveal_type(b)\n",
    "    f(b)"
   ]
  },
  {
   "cell_type": "markdown",
   "metadata": {
    "editable": true,
    "pycharm": {
     "name": "#%% md\n"
    },
    "slideshow": {
     "slide_type": "slide"
    },
    "tags": []
   },
   "source": [
    "### Насколько плохо не указывать часть типов, ч2"
   ]
  },
  {
   "cell_type": "code",
   "execution_count": null,
   "metadata": {
    "ExecuteTime": {
     "end_time": "2024-01-10T11:30:10.572791300Z",
     "start_time": "2024-01-10T11:30:10.497799900Z"
    },
    "cell_style": "split",
    "editable": true,
    "pycharm": {
     "name": "#%%\n"
    },
    "slideshow": {
     "slide_type": "-"
    },
    "tags": []
   },
   "outputs": [],
   "source": [
    "%%typecheck\n",
    "# Не задаем типы в g\n",
    "def f(a: int) -> None:\n",
    "    reveal_type(a)\n",
    "    print(a << 10)\n",
    "\n",
    "def g():\n",
    "    b = 1.0\n",
    "    reveal_type(b)\n",
    "    f(b)"
   ]
  },
  {
   "cell_type": "code",
   "execution_count": null,
   "metadata": {
    "ExecuteTime": {
     "start_time": "2024-01-10T11:30:10.508809900Z"
    },
    "cell_style": "split",
    "editable": true,
    "pycharm": {
     "name": "#%%\n"
    },
    "slideshow": {
     "slide_type": "-"
    },
    "tags": []
   },
   "outputs": [],
   "source": [
    "%%typecheck\n",
    "# Задаем типы для f частично (без a)\n",
    "def f(a) -> None:\n",
    "    reveal_type(a)\n",
    "    print(a << 10)\n",
    "\n",
    "def g() -> None:\n",
    "    b = 1.0\n",
    "    reveal_type(b)\n",
    "    f(b) "
   ]
  },
  {
   "cell_type": "markdown",
   "metadata": {
    "editable": true,
    "pycharm": {
     "name": "#%% md\n"
    },
    "slideshow": {
     "slide_type": "slide"
    },
    "tags": []
   },
   "source": [
    "### Вывод типов при присваивании, ч1"
   ]
  },
  {
   "cell_type": "code",
   "execution_count": null,
   "metadata": {
    "ExecuteTime": {
     "start_time": "2024-01-10T11:30:10.519804800Z"
    },
    "cell_style": "split",
    "editable": true,
    "pycharm": {
     "name": "#%%\n"
    },
    "slideshow": {
     "slide_type": "-"
    },
    "tags": []
   },
   "outputs": [],
   "source": [
    "%%typecheck\n",
    "# Просто присваивание\n",
    "class A:\n",
    "    def am(self) -> None:\n",
    "        pass\n",
    "\n",
    "class B(A):\n",
    "    def bm(self) -> None:\n",
    "        pass\n",
    "\n",
    "b = B()\n",
    "reveal_type(b)\n",
    "\n",
    "b.bm()"
   ]
  },
  {
   "cell_type": "markdown",
   "metadata": {
    "editable": true,
    "slideshow": {
     "slide_type": "slide"
    },
    "tags": []
   },
   "source": [
    "### Вывод типов при присваивании, ч2"
   ]
  },
  {
   "cell_type": "code",
   "execution_count": null,
   "metadata": {
    "ExecuteTime": {
     "start_time": "2024-01-10T11:30:10.541794200Z"
    },
    "cell_style": "split",
    "editable": true,
    "pycharm": {
     "name": "#%%\n"
    },
    "scrolled": true,
    "slideshow": {
     "slide_type": "-"
    },
    "tags": []
   },
   "outputs": [],
   "source": [
    "%%typecheck\n",
    "# Повышение типа при переприсваивании\n",
    "class A:\n",
    "    def am(self) -> None:\n",
    "        pass\n",
    "\n",
    "class B(A):\n",
    "    def bm(self) -> None:\n",
    "        pass\n",
    "\n",
    "b = B()\n",
    "reveal_type(b)\n",
    "b = A()\n",
    "reveal_type(b)\n",
    "b.bm()"
   ]
  },
  {
   "cell_type": "markdown",
   "metadata": {
    "editable": true,
    "pycharm": {
     "name": "#%% md\n"
    },
    "slideshow": {
     "slide_type": "slide"
    },
    "tags": []
   },
   "source": [
    "### Вывод типов при присваивании, ч3"
   ]
  },
  {
   "cell_type": "code",
   "execution_count": null,
   "metadata": {
    "ExecuteTime": {
     "start_time": "2024-01-10T11:30:10.555793100Z"
    },
    "cell_style": "split",
    "editable": true,
    "pycharm": {
     "name": "#%%\n"
    },
    "slideshow": {
     "slide_type": "-"
    },
    "tags": []
   },
   "outputs": [],
   "source": [
    "%%typecheck\n",
    "# Понижение типа при переприсваивании\n",
    "\n",
    "class A:\n",
    "    def am(self) -> None:\n",
    "        pass\n",
    "\n",
    "class B(A):\n",
    "    def bm(self) -> None:\n",
    "        pass\n",
    "\n",
    "a = A()\n",
    "reveal_type(a)\n",
    "a = B()\n",
    "reveal_type(a)\n",
    "#a.am()\n",
    "a.bm()\n",
    "\n"
   ]
  },
  {
   "cell_type": "markdown",
   "metadata": {
    "editable": true,
    "slideshow": {
     "slide_type": "slide"
    },
    "tags": []
   },
   "source": [
    "### Вывод типов при присваивании, ч4"
   ]
  },
  {
   "cell_type": "code",
   "execution_count": null,
   "metadata": {
    "ExecuteTime": {
     "end_time": "2024-01-10T11:30:10.599399900Z",
     "start_time": "2024-01-10T11:30:10.573792800Z"
    },
    "editable": true,
    "slideshow": {
     "slide_type": ""
    },
    "tags": []
   },
   "outputs": [],
   "source": [
    "%%typecheck\n",
    "# Понижение типа при переприсваивании\n",
    "\n",
    "class A:\n",
    "    def am(self) -> None:\n",
    "        pass\n",
    "\n",
    "class B(A):\n",
    "    def bm(self) -> None:\n",
    "        pass\n",
    "\n",
    "a = A()\n",
    "reveal_type(a)\n",
    "a = B()\n",
    "reveal_type(a)\n",
    "a = A()\n",
    "reveal_type(a)\n",
    "#a.am()\n",
    "a.bm()\n"
   ]
  },
  {
   "cell_type": "markdown",
   "metadata": {
    "editable": true,
    "slideshow": {
     "slide_type": "slide"
    },
    "tags": []
   },
   "source": [
    "### Вывод типов при присваивании, ч5"
   ]
  },
  {
   "cell_type": "code",
   "execution_count": null,
   "metadata": {
    "ExecuteTime": {
     "start_time": "2024-01-10T11:30:10.578832900Z"
    },
    "cell_style": "split",
    "editable": true,
    "pycharm": {
     "name": "#%%\n"
    },
    "slideshow": {
     "slide_type": "-"
    },
    "tags": []
   },
   "outputs": [],
   "source": [
    "%%typecheck\n",
    "# Задание сразу более общего типа\n",
    "\n",
    "class A:\n",
    "    def am(self) -> None:\n",
    "        pass\n",
    "\n",
    "class B(A):\n",
    "    def bm(self) -> None:\n",
    "        pass\n",
    "\n",
    "a: A = B()\n",
    "reveal_type(a)\n",
    "\n",
    "a.bm()\n",
    "\n",
    "a = A()\n",
    "reveal_type(a)\n"
   ]
  },
  {
   "cell_type": "markdown",
   "metadata": {
    "editable": true,
    "pycharm": {
     "name": "#%% md\n"
    },
    "slideshow": {
     "slide_type": "slide"
    },
    "tags": []
   },
   "source": [
    "### То же самое для стандартных типов"
   ]
  },
  {
   "cell_type": "code",
   "execution_count": null,
   "metadata": {
    "ExecuteTime": {
     "start_time": "2024-01-10T11:30:10.584823Z"
    },
    "cell_style": "split",
    "editable": true,
    "pycharm": {
     "name": "#%%\n"
    },
    "scrolled": true,
    "slideshow": {
     "slide_type": "-"
    },
    "tags": []
   },
   "outputs": [],
   "source": [
    "%%typecheck\n",
    "# Понижение типа при переприсваивании\n",
    "a = 42.4\n",
    "reveal_type(a)\n",
    "a = 1\n",
    "reveal_type(a)\n",
    "\n",
    "a >> 10\n"
   ]
  },
  {
   "cell_type": "code",
   "execution_count": null,
   "metadata": {
    "ExecuteTime": {
     "start_time": "2024-01-10T11:30:10.589824400Z"
    },
    "cell_style": "split",
    "editable": true,
    "pycharm": {
     "name": "#%%\n"
    },
    "slideshow": {
     "slide_type": "-"
    },
    "tags": []
   },
   "outputs": [],
   "source": [
    "%%typecheck\n",
    "# Повышение типа при переприсваивании\n",
    "b = 1\n",
    "reveal_type(b)\n",
    "b = 42.4\n",
    "reveal_type(b)\n",
    "\n",
    "b >> 10"
   ]
  },
  {
   "cell_type": "markdown",
   "metadata": {
    "editable": true,
    "pycharm": {
     "name": "#%% md\n"
    },
    "slideshow": {
     "slide_type": "slide"
    },
    "tags": []
   },
   "source": [
    "### Вызов функций, ч1"
   ]
  },
  {
   "cell_type": "code",
   "execution_count": null,
   "metadata": {
    "ExecuteTime": {
     "start_time": "2024-01-10T11:30:10.596394800Z"
    },
    "cell_style": "split",
    "editable": true,
    "pycharm": {
     "name": "#%%\n"
    },
    "scrolled": true,
    "slideshow": {
     "slide_type": "-"
    },
    "tags": []
   },
   "outputs": [],
   "source": [
    "%%typecheck\n",
    "# Конкретный тип как параметр функции\n",
    "# Вызов метода конкретного типа\n",
    "\n",
    "class A:\n",
    "    def am(self) -> None:\n",
    "        pass\n",
    "\n",
    "class B(A):\n",
    "    def bm(self) -> None:\n",
    "        pass\n",
    "\n",
    "\n",
    "def f(value: B) -> None:\n",
    "    value.bm()\n",
    "\n",
    "f(B())\n",
    "f(A())"
   ]
  },
  {
   "cell_type": "markdown",
   "metadata": {
    "editable": true,
    "slideshow": {
     "slide_type": "slide"
    },
    "tags": []
   },
   "source": [
    "### Вызов функций, ч2"
   ]
  },
  {
   "cell_type": "code",
   "execution_count": null,
   "metadata": {
    "ExecuteTime": {
     "start_time": "2024-01-10T11:30:10.603403600Z"
    },
    "cell_style": "split",
    "editable": true,
    "pycharm": {
     "name": "#%%\n"
    },
    "scrolled": true,
    "slideshow": {
     "slide_type": "-"
    },
    "tags": []
   },
   "outputs": [],
   "source": [
    "%%typecheck\n",
    "# Конкретный тип как параметр функции\n",
    "# Вызов метода общего типа\n",
    "\n",
    "class A:\n",
    "    def am(self) -> None:\n",
    "        pass\n",
    "\n",
    "class B(A):\n",
    "    def bm(self) -> None:\n",
    "        pass\n",
    "\n",
    "\n",
    "def f(value: B) -> None:\n",
    "    value.am()\n",
    "\n",
    "f(B())\n",
    "f(A())"
   ]
  },
  {
   "cell_type": "markdown",
   "metadata": {
    "editable": true,
    "pycharm": {
     "name": "#%% md\n"
    },
    "slideshow": {
     "slide_type": "slide"
    },
    "tags": []
   },
   "source": [
    "### Вызов функций, ч3"
   ]
  },
  {
   "cell_type": "code",
   "execution_count": null,
   "metadata": {
    "ExecuteTime": {
     "start_time": "2024-01-10T11:30:10.610400400Z"
    },
    "cell_style": "split",
    "editable": true,
    "pycharm": {
     "name": "#%%\n"
    },
    "scrolled": true,
    "slideshow": {
     "slide_type": "-"
    },
    "tags": []
   },
   "outputs": [],
   "source": [
    "%%typecheck\n",
    "# Общий тип как параметр функции\n",
    "# Вызов метода конкретного типа\n",
    "\n",
    "class A:\n",
    "    def am(self) -> None:\n",
    "        pass\n",
    "\n",
    "class B(A):\n",
    "    def bm(self) -> None:\n",
    "        pass\n",
    "\n",
    "\n",
    "def f(value: A) -> None:\n",
    "    value.bm()\n",
    "\n",
    "f(B())\n",
    "f(A())"
   ]
  },
  {
   "cell_type": "markdown",
   "metadata": {
    "editable": true,
    "slideshow": {
     "slide_type": "slide"
    },
    "tags": []
   },
   "source": [
    "### Вызов функций, ч4"
   ]
  },
  {
   "cell_type": "code",
   "execution_count": null,
   "metadata": {
    "ExecuteTime": {
     "start_time": "2024-01-10T11:30:10.616423600Z"
    },
    "cell_style": "split",
    "editable": true,
    "pycharm": {
     "name": "#%%\n"
    },
    "scrolled": true,
    "slideshow": {
     "slide_type": "-"
    },
    "tags": []
   },
   "outputs": [],
   "source": [
    "%%typecheck\n",
    "# Общий тип как параметр функции\n",
    "# Вызов метода общего типа\n",
    "\n",
    "class A:\n",
    "    def am(self) -> None:\n",
    "        pass\n",
    "\n",
    "class B(A):\n",
    "    def bm(self) -> None:\n",
    "        pass\n",
    "\n",
    "\n",
    "def f(value: A) -> None:\n",
    "    reveal_type(value)\n",
    "    value.am()\n",
    "\n",
    "f(B())\n",
    "f(A())"
   ]
  },
  {
   "cell_type": "markdown",
   "metadata": {
    "editable": true,
    "pycharm": {
     "name": "#%% md\n"
    },
    "slideshow": {
     "slide_type": "slide"
    },
    "tags": []
   },
   "source": [
    "### Наследование, атрибуты класса, ч1"
   ]
  },
  {
   "cell_type": "code",
   "execution_count": null,
   "metadata": {
    "ExecuteTime": {
     "start_time": "2024-01-10T11:30:10.620413400Z"
    },
    "cell_style": "split",
    "editable": true,
    "pycharm": {
     "name": "#%%\n"
    },
    "scrolled": true,
    "slideshow": {
     "slide_type": "-"
    },
    "tags": []
   },
   "outputs": [],
   "source": [
    "%%typecheck\n",
    "# Override c повышением типа\n",
    "\n",
    "class A:\n",
    "    VALUE = 4\n",
    "\n",
    "class B(A):\n",
    "    VALUE = 4.5\n",
    "    \n",
    "\n",
    "def f(p: A) -> None:\n",
    "    print(p.VALUE >> 1)\n",
    "    \n",
    "f(A())\n",
    "f(B())"
   ]
  },
  {
   "cell_type": "markdown",
   "metadata": {
    "editable": true,
    "slideshow": {
     "slide_type": "slide"
    },
    "tags": []
   },
   "source": [
    "### Наследование, атрибуты класса, ч2"
   ]
  },
  {
   "cell_type": "code",
   "execution_count": null,
   "metadata": {
    "ExecuteTime": {
     "start_time": "2024-01-10T11:30:10.625407500Z"
    },
    "cell_style": "split",
    "editable": true,
    "pycharm": {
     "name": "#%%\n"
    },
    "scrolled": true,
    "slideshow": {
     "slide_type": "-"
    },
    "tags": []
   },
   "outputs": [],
   "source": [
    "%%typecheck\n",
    "# Override c понижением типа\n",
    "\n",
    "class A:\n",
    "    VALUE = 4.5\n",
    "\n",
    "class B(A):\n",
    "    VALUE = 4\n",
    "    \n",
    "\n",
    "def f(p: A) -> None:\n",
    "    print(p.VALUE + 1)\n",
    "    \n",
    "f(A())\n",
    "f(B())"
   ]
  },
  {
   "cell_type": "markdown",
   "metadata": {
    "editable": true,
    "pycharm": {
     "name": "#%% md\n"
    },
    "slideshow": {
     "slide_type": "slide"
    },
    "tags": []
   },
   "source": [
    "### Наследование, атрибуты объекта"
   ]
  },
  {
   "cell_type": "code",
   "execution_count": null,
   "metadata": {
    "ExecuteTime": {
     "start_time": "2024-01-10T11:30:10.630400200Z"
    },
    "cell_style": "split",
    "editable": true,
    "pycharm": {
     "name": "#%%\n"
    },
    "scrolled": true,
    "slideshow": {
     "slide_type": "-"
    },
    "tags": []
   },
   "outputs": [],
   "source": [
    "%%typecheck\n",
    "# Override c повышением типа\n",
    "\n",
    "class A:\n",
    "    def __init__(self) -> None:\n",
    "        self.a = 1\n",
    "\n",
    "class B(A):\n",
    "    def __init__(self) -> None:\n",
    "        self.a = 4.5\n",
    "\n",
    "        \n",
    "def f(p: A) -> None:\n",
    "    print(p.a >> 5)\n",
    "    \n",
    "f(A())\n",
    "f(B())"
   ]
  },
  {
   "cell_type": "code",
   "execution_count": null,
   "metadata": {
    "ExecuteTime": {
     "start_time": "2024-01-10T11:30:10.636405400Z"
    },
    "cell_style": "split",
    "editable": true,
    "pycharm": {
     "name": "#%%\n"
    },
    "slideshow": {
     "slide_type": "-"
    },
    "tags": []
   },
   "outputs": [],
   "source": [
    "%%typecheck\n",
    "# Override c понижением типа\n",
    "\n",
    "class A:\n",
    "    def __init__(self) -> None:\n",
    "        self.a = 4.5\n",
    "\n",
    "class B(A):\n",
    "    def __init__(self) -> None:\n",
    "        self.a = 1\n",
    "\n",
    "        \n",
    "def f(p: A) -> None:\n",
    "    print(p.a + 1)\n",
    "    \n",
    "f(A())\n",
    "f(B())"
   ]
  },
  {
   "cell_type": "markdown",
   "metadata": {
    "editable": true,
    "pycharm": {
     "name": "#%% md\n"
    },
    "slideshow": {
     "slide_type": "slide"
    },
    "tags": []
   },
   "source": [
    "### Наследование, переопределение методов, ч1"
   ]
  },
  {
   "cell_type": "code",
   "execution_count": null,
   "metadata": {
    "ExecuteTime": {
     "end_time": "2024-01-10T11:30:10.673400800Z",
     "start_time": "2024-01-10T11:30:10.641403500Z"
    },
    "cell_style": "split",
    "editable": true,
    "pycharm": {
     "name": "#%%\n"
    },
    "slideshow": {
     "slide_type": "-"
    },
    "tags": []
   },
   "outputs": [],
   "source": [
    "%%typecheck\n",
    "# Override c понижением типа параметра\n",
    "\n",
    "class A:\n",
    "    def am(self, a: float) -> int:\n",
    "        return int(a)\n",
    "\n",
    "class B(A):\n",
    "    def am(self, a: int) -> int:\n",
    "        return a >> 1\n",
    "\n",
    "def f(p: A) -> None:\n",
    "    p.am(1.1)\n",
    "\n",
    "f(A())\n",
    "f(B())"
   ]
  },
  {
   "cell_type": "markdown",
   "metadata": {
    "editable": true,
    "slideshow": {
     "slide_type": "slide"
    },
    "tags": []
   },
   "source": [
    "### Наследование, переопределение методов, ч2"
   ]
  },
  {
   "cell_type": "code",
   "execution_count": null,
   "metadata": {
    "ExecuteTime": {
     "start_time": "2024-01-10T11:30:10.650395600Z"
    },
    "cell_style": "split",
    "editable": true,
    "pycharm": {
     "name": "#%%\n"
    },
    "slideshow": {
     "slide_type": "-"
    },
    "tags": []
   },
   "outputs": [],
   "source": [
    "%%typecheck\n",
    "# Override c повышением типа параметра\n",
    "\n",
    "class A:\n",
    "    def am(self, a: int) -> int:\n",
    "        return int(a)\n",
    "\n",
    "class B(A):\n",
    "    def am(self, a: float) -> int:\n",
    "        return int(a)\n",
    "\n",
    "\n",
    "def f(p: A) -> None:\n",
    "    p.am(1)\n",
    "\n",
    "f(A())\n",
    "f(B())"
   ]
  },
  {
   "cell_type": "markdown",
   "metadata": {
    "editable": true,
    "pycharm": {
     "name": "#%% md\n"
    },
    "slideshow": {
     "slide_type": "slide"
    },
    "tags": []
   },
   "source": [
    "### Наследование, переопределение методов, возвращаемое значение, ч1"
   ]
  },
  {
   "cell_type": "code",
   "execution_count": null,
   "metadata": {
    "ExecuteTime": {
     "start_time": "2024-01-10T11:30:10.654409900Z"
    },
    "cell_style": "split",
    "editable": true,
    "pycharm": {
     "name": "#%%\n"
    },
    "scrolled": true,
    "slideshow": {
     "slide_type": "-"
    },
    "tags": []
   },
   "outputs": [],
   "source": [
    "%%typecheck\n",
    "# Override c понижением типа возвращаемого значения\n",
    "\n",
    "class A:\n",
    "    def am(self, a: int) -> float:\n",
    "        return float(a)\n",
    "\n",
    "class B(A):\n",
    "    def am(self, a: int) -> int:\n",
    "        return a\n",
    "\n",
    "def f(p: A) -> None:\n",
    "    print(p.am(1))\n",
    "\n",
    "f(A())\n",
    "f(B())"
   ]
  },
  {
   "cell_type": "markdown",
   "metadata": {
    "editable": true,
    "slideshow": {
     "slide_type": "slide"
    },
    "tags": []
   },
   "source": [
    "### Наследование, переопределение методов, возвращаемое значение, ч2"
   ]
  },
  {
   "cell_type": "code",
   "execution_count": null,
   "metadata": {
    "ExecuteTime": {
     "start_time": "2024-01-10T11:30:10.659411Z"
    },
    "cell_style": "split",
    "editable": true,
    "pycharm": {
     "name": "#%%\n"
    },
    "slideshow": {
     "slide_type": "-"
    },
    "tags": []
   },
   "outputs": [],
   "source": [
    "%%typecheck\n",
    "# Override c понижением типа возвращаемого значения\n",
    "\n",
    "class A:\n",
    "    def am(self, a: int) -> int:\n",
    "        return a\n",
    "\n",
    "class B(A):\n",
    "    def am(self, a: int) -> float:\n",
    "        return float(a)\n",
    "\n",
    "def f(p: A) -> None:\n",
    "    b = p.am(1)\n",
    "    b >> 1\n",
    "\n",
    "f(A())\n",
    "f(B())"
   ]
  },
  {
   "cell_type": "markdown",
   "metadata": {
    "editable": true,
    "slideshow": {
     "slide_type": "slide"
    },
    "tags": []
   },
   "source": [
    "# спасибо за внимание!"
   ]
  },
  {
   "cell_type": "markdown",
   "metadata": {
    "editable": true,
    "slideshow": {
     "slide_type": "-"
    },
    "tags": []
   },
   "source": [
    "<center><img src=\"images/zeon.jpg\" width=700px/></center>"
   ]
  },
  {
   "cell_type": "code",
   "execution_count": null,
   "metadata": {
    "ExecuteTime": {
     "start_time": "2024-01-10T11:30:10.666402900Z"
    },
    "editable": true,
    "slideshow": {
     "slide_type": ""
    },
    "tags": []
   },
   "outputs": [],
   "source": []
  }
 ],
 "metadata": {
  "celltoolbar": "Slideshow",
  "kernelspec": {
   "display_name": "Python 3 (ipykernel)",
   "language": "python",
   "name": "python3"
  },
  "language_info": {
   "codemirror_mode": {
    "name": "ipython",
    "version": 3
   },
   "file_extension": ".py",
   "mimetype": "text/x-python",
   "name": "python",
   "nbconvert_exporter": "python",
   "pygments_lexer": "ipython3",
   "version": "3.11.5"
  },
  "rise": {
   "enable_chalkboard": true,
   "footer": "<p style=\"margin: 5px; color: #a0a0a0\">YSDA Python Course</p>",
   "scroll": true,
   "start_slideshow_at": "selected",
   "theme": "serif",
   "transition": "none"
  }
 },
 "nbformat": 4,
 "nbformat_minor": 4
}
