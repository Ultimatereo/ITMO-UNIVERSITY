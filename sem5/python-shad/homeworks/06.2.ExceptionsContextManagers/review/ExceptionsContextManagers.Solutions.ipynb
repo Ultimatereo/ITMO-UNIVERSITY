{
 "cells": [
  {
   "cell_type": "markdown",
   "metadata": {},
   "source": [
    "<center>\n",
    "    <img src=\"https://upload.wikimedia.org/wikipedia/commons/a/a8/%D0%9B%D0%9E%D0%93%D0%9E_%D0%A8%D0%90%D0%94.png\" width=500px/>\n",
    "    <font>Python 2021</font><br/>\n",
    "    <br/>\n",
    "    <br/>\n",
    "    <b style=\"font-size: 2em\">Разбор задач: ExceptionsContextManagers</b><br/>\n",
    "    <br/>\n",
    "    <font>Денис Сапожников</font><br/>\n",
    "</center>"
   ]
  },
  {
   "cell_type": "markdown",
   "metadata": {
    "slideshow": {
     "slide_type": "slide"
    }
   },
   "source": [
    "# Supressor"
   ]
  },
  {
   "cell_type": "markdown",
   "metadata": {
    "slideshow": {
     "slide_type": "slide"
    }
   },
   "source": [
    "**Глушитель исключений**  \n",
    "перехватывает исключения заданых (и только заданных) типов и возвращает управление потоку. Исключение не пробрасывается дальше.\n",
    "\n",
    "```python\n",
    "with supresser(type_one, ...):\n",
    "    do_smth()\n",
    "```"
   ]
  },
  {
   "cell_type": "markdown",
   "metadata": {
    "slideshow": {
     "slide_type": "-"
    }
   },
   "source": [
    "<div class=\"alert alert-danger\">\n",
    "<b>Антипаттерн:</b> лишний if\n",
    "</div>"
   ]
  },
  {
   "cell_type": "code",
   "execution_count": 1,
   "metadata": {
    "ExecuteTime": {
     "end_time": "2024-01-10T05:25:27.316547700Z",
     "start_time": "2024-01-10T05:25:26.130566600Z"
    },
    "slideshow": {
     "slide_type": "-"
    }
   },
   "outputs": [
    {
     "ename": "NameError",
     "evalue": "name 'contextmanager' is not defined",
     "output_type": "error",
     "traceback": [
      "\u001b[1;31m---------------------------------------------------------------------------\u001b[0m",
      "\u001b[1;31mNameError\u001b[0m                                 Traceback (most recent call last)",
      "Cell \u001b[1;32mIn[1], line 1\u001b[0m\n\u001b[1;32m----> 1\u001b[0m \u001b[38;5;129m@contextmanager\u001b[39m\n\u001b[0;32m      2\u001b[0m \u001b[38;5;28;01mdef\u001b[39;00m \u001b[38;5;21msupresser\u001b[39m(\u001b[38;5;241m*\u001b[39mtypes_: Type[\u001b[38;5;167;01mBaseException\u001b[39;00m]) \u001b[38;5;241m-\u001b[39m\u001b[38;5;241m>\u001b[39m Iterator[\u001b[38;5;28;01mNone\u001b[39;00m]:\n\u001b[0;32m      3\u001b[0m     \u001b[38;5;28;01mtry\u001b[39;00m:\n\u001b[0;32m      4\u001b[0m         \u001b[38;5;28;01myield\u001b[39;00m \u001b[38;5;28;01mNone\u001b[39;00m\n",
      "\u001b[1;31mNameError\u001b[0m: name 'contextmanager' is not defined"
     ]
    }
   ],
   "source": [
    "@contextmanager\n",
    "def supresser(*types_: Type[BaseException]) -> Iterator[None]:\n",
    "    try:\n",
    "        yield None\n",
    "    except Exception as e:\n",
    "        if type(e) in types_:\n",
    "            return\n",
    "        else:\n",
    "            raise e"
   ]
  },
  {
   "cell_type": "markdown",
   "metadata": {
    "slideshow": {
     "slide_type": "slide"
    }
   },
   "source": [
    "<div class=\"alert alert-danger\">\n",
    "<b>Антипаттерн:</b> лишний if (v2)\n",
    "</div>"
   ]
  },
  {
   "cell_type": "code",
   "execution_count": null,
   "metadata": {
    "ExecuteTime": {
     "start_time": "2024-01-10T05:25:27.316547700Z"
    },
    "slideshow": {
     "slide_type": "-"
    }
   },
   "outputs": [],
   "source": [
    "@contextmanager\n",
    "def supresser(*types_: Type[BaseException]) -> Iterator[None]:\n",
    "    try:\n",
    "        yield None\n",
    "    except Exception as e:\n",
    "        if type(e) not in types_:\n",
    "            raise e"
   ]
  },
  {
   "cell_type": "markdown",
   "metadata": {
    "slideshow": {
     "slide_type": "slide"
    }
   },
   "source": [
    "<div class=\"alert alert-danger\">\n",
    "<b>Антипаттерн:</b> лишний finally\n",
    "</div>"
   ]
  },
  {
   "cell_type": "code",
   "execution_count": null,
   "metadata": {
    "ExecuteTime": {
     "end_time": "2024-01-10T05:25:27.328129400Z",
     "start_time": "2024-01-10T05:25:27.324080700Z"
    }
   },
   "outputs": [],
   "source": [
    "@contextmanager\n",
    "def supresser(*types_: Type[BaseException]) -> Iterator[None]:\n",
    "    try:\n",
    "        yield\n",
    "    except types_:\n",
    "        pass\n",
    "    finally:\n",
    "        pass"
   ]
  },
  {
   "cell_type": "markdown",
   "metadata": {
    "slideshow": {
     "slide_type": "slide"
    }
   },
   "source": [
    "<div>\n",
    "<b>Каноническое решение:</b>\n",
    "</div>"
   ]
  },
  {
   "cell_type": "code",
   "execution_count": null,
   "metadata": {
    "ExecuteTime": {
     "start_time": "2024-01-10T05:25:27.328129400Z"
    }
   },
   "outputs": [],
   "source": [
    "@contextmanager\n",
    "def supresser(*types_: Type[BaseException]) -> Iterator[None]:\n",
    "    try:\n",
    "        yield\n",
    "    except types_:\n",
    "        pass"
   ]
  },
  {
   "cell_type": "markdown",
   "metadata": {
    "slideshow": {
     "slide_type": "slide"
    }
   },
   "source": [
    "# Retyper"
   ]
  },
  {
   "cell_type": "markdown",
   "metadata": {
    "slideshow": {
     "slide_type": "slide"
    }
   },
   "source": [
    "**Переименователь исключений**  \n",
    "меняет тип исключения, оставляя неизменными содержимое ошибки (атрибут args) и трейсбек. Исключение пробрасывается дальше.\n",
    "\n",
    "```python\n",
    "with retyper(type_from, type_to):\n",
    "    do_smth()\n",
    "```"
   ]
  },
  {
   "cell_type": "markdown",
   "metadata": {
    "slideshow": {
     "slide_type": "-"
    }
   },
   "source": [
    "<div class=\"alert alert-danger\">\n",
    "<b>Антипаттерн:</b> потеря traceback-а\n",
    "</div>"
   ]
  },
  {
   "cell_type": "code",
   "execution_count": null,
   "metadata": {
    "ExecuteTime": {
     "end_time": "2024-01-10T05:25:27.500777Z",
     "start_time": "2024-01-10T05:25:27.337722900Z"
    }
   },
   "outputs": [],
   "source": [
    "@contextmanager\n",
    "def retyper(type_from: Type[BaseException], type_to: Type[BaseException]) -> Iterator[None]:\n",
    "    \"\"\"\n",
    "    \"\"\"\n",
    "    try:\n",
    "        yield None\n",
    "    except type_from as e:\n",
    "        raise type_to(*e.args)"
   ]
  },
  {
   "cell_type": "markdown",
   "metadata": {
    "slideshow": {
     "slide_type": "slide"
    }
   },
   "source": [
    "<div class=\"alert alert-danger\">\n",
    "<b>Антипаттерн:</b> ловить Exception вместо нужного типа\n",
    "</div>"
   ]
  },
  {
   "cell_type": "code",
   "execution_count": null,
   "metadata": {
    "ExecuteTime": {
     "start_time": "2024-01-10T05:25:27.342725600Z"
    },
    "slideshow": {
     "slide_type": "-"
    }
   },
   "outputs": [],
   "source": [
    "@contextmanager\n",
    "def retyper(type_from: Type[BaseException], type_to: Type[BaseException]) -> Iterator[None]:\n",
    "    try:\n",
    "        yield\n",
    "    except Exception as exc:\n",
    "        if isinstance(exc, type_from):\n",
    "            to = type_to(exc)\n",
    "            to.args = exc.args\n",
    "            to.__traceback__ = exc.__traceback__\n",
    "            raise to\n",
    "        else:\n",
    "            raise exc"
   ]
  },
  {
   "cell_type": "markdown",
   "metadata": {
    "slideshow": {
     "slide_type": "slide"
    }
   },
   "source": [
    "<div class=\"alert alert-danger\">\n",
    "<b>Антипаттерн:</b> переусложнение в инициализации type_to\n",
    "</div>"
   ]
  },
  {
   "cell_type": "code",
   "execution_count": null,
   "metadata": {
    "ExecuteTime": {
     "start_time": "2024-01-10T05:25:27.351321800Z"
    }
   },
   "outputs": [],
   "source": [
    "@contextmanager\n",
    "def retyper(type_from: Type[BaseException], type_to: Type[BaseException]) -> Iterator[None]:\n",
    "    try:\n",
    "        yield None\n",
    "    except type_from as e:\n",
    "        if type(e) is type_from:\n",
    "            new_exc: BaseException = type_to(e)  # Can be created from args\n",
    "            new_exc.args = e.args\n",
    "            new_exc.__traceback__ = e.__traceback__\n",
    "            raise new_exc"
   ]
  },
  {
   "cell_type": "markdown",
   "metadata": {
    "slideshow": {
     "slide_type": "slide"
    }
   },
   "source": [
    "<div class=\"alert alert-danger\">\n",
    "<b>Антипаттерн:</b> if не добавляющий логики\n",
    "</div>"
   ]
  },
  {
   "cell_type": "code",
   "execution_count": null,
   "metadata": {
    "ExecuteTime": {
     "start_time": "2024-01-10T05:25:27.362022700Z"
    }
   },
   "outputs": [],
   "source": [
    "@contextmanager\n",
    "def retyper(type_from: Type[BaseException], type_to: Type[BaseException]) -> Iterator[None]:\n",
    "    try:\n",
    "        yield None\n",
    "    except Exception as e:\n",
    "        if type(e) == type_from:\n",
    "            if len(e.args) == 1:\n",
    "                raise type_to(e.args[0])  # ?\n",
    "            else:\n",
    "                raise type_to(*e.args)\n",
    "        else:\n",
    "            raise"
   ]
  },
  {
   "cell_type": "markdown",
   "metadata": {
    "slideshow": {
     "slide_type": "slide"
    }
   },
   "source": [
    "<div class=\"alert alert-danger\">\n",
    "<b>Антипаттерн:</b> не общее решение\n",
    "</div>"
   ]
  },
  {
   "cell_type": "code",
   "execution_count": null,
   "metadata": {
    "ExecuteTime": {
     "start_time": "2024-01-10T05:25:27.369988600Z"
    }
   },
   "outputs": [],
   "source": [
    "@contextmanager\n",
    "def retyper(type_from: Type[BaseException], type_to: Type[BaseException]) -> Iterator[None]:\n",
    "    try:\n",
    "        yield\n",
    "    except type_from as e:\n",
    "        if len(e.args) == 2:\n",
    "            raise type_to(e.args[0], e.args[1])\n",
    "        else:\n",
    "            raise type_to(e.args[0])"
   ]
  },
  {
   "cell_type": "markdown",
   "metadata": {
    "slideshow": {
     "slide_type": "slide"
    }
   },
   "source": [
    "<div>\n",
    "<b>Каноническое решение:</b>\n",
    "</div>"
   ]
  },
  {
   "cell_type": "code",
   "execution_count": null,
   "metadata": {
    "ExecuteTime": {
     "start_time": "2024-01-10T05:25:27.381712200Z"
    }
   },
   "outputs": [],
   "source": [
    "@contextmanager\n",
    "def retyper(type_from: Type[BaseException], type_to: Type[BaseException]) -> Iterator[None]:\n",
    "    try:\n",
    "        yield\n",
    "    except type_from:\n",
    "        _, value, traceback_ = sys.exc_info()\n",
    "        # have to check this, mypy thinks value can be None otherwise\n",
    "        if isinstance(value, type_from):\n",
    "            raise type_to(*value.args).with_traceback(traceback_)\n",
    "        raise"
   ]
  },
  {
   "cell_type": "markdown",
   "metadata": {
    "slideshow": {
     "slide_type": "slide"
    }
   },
   "source": [
    "# Dumper"
   ]
  },
  {
   "cell_type": "markdown",
   "metadata": {},
   "source": [
    "**Дампер исключений**  \n",
    "записывает в переданный поток сообщение об ошибке и пробрасывает его дальше.\n",
    "```python\n",
    "with dumper(stream):\n",
    "    do_smth()\n",
    "```\n",
    "**Уточнения**\n",
    "* Нужно, чтоб dumper по умолчанию писал в `sys.stderr`, если `stream is None`.\n",
    "* Чтоб лучше разобраться в исключениях, что у него за аргументы и трейсбек, читайте в exceptions\n",
    "* Для извлечения информации о перехваченном исключении использовать модуль sys\n",
    "* Чтоб сдампить в dumper только исключение без трейсбека, можно воспользоваться traceback.format_exception_only"
   ]
  },
  {
   "cell_type": "markdown",
   "metadata": {
    "slideshow": {
     "slide_type": "slide"
    }
   },
   "source": [
    "<div class=\"alert alert-danger\">\n",
    "<b>Антипаттерн:</b> отсуствие печати трейса и дублирование логики внутри if-ах\n",
    "</div>"
   ]
  },
  {
   "cell_type": "code",
   "execution_count": null,
   "metadata": {
    "ExecuteTime": {
     "start_time": "2024-01-10T05:25:27.390453500Z"
    }
   },
   "outputs": [],
   "source": [
    "@contextmanager\n",
    "def dumper(stream: Optional[TextIO] = None) -> Iterator[None]:\n",
    "    try:\n",
    "        yield None\n",
    "    except Exception as e:\n",
    "        if stream:\n",
    "            print(e, file=stream)\n",
    "        else:\n",
    "            print(e, file=sys.stderr)"
   ]
  },
  {
   "cell_type": "markdown",
   "metadata": {
    "slideshow": {
     "slide_type": "slide"
    }
   },
   "source": [
    "<div class=\"alert alert-danger\">\n",
    "    <b>Антипаттерн:</b> печать с трейсбеком\n",
    "</div>\n",
    "<span>(возможно условия задачи не совсем прозрачные)<span>"
   ]
  },
  {
   "cell_type": "code",
   "execution_count": null,
   "metadata": {
    "ExecuteTime": {
     "start_time": "2024-01-10T05:25:27.403792200Z"
    }
   },
   "outputs": [],
   "source": [
    "@contextmanager\n",
    "def dumper(stream: Optional[TextIO] = None) -> Iterator[None]:\n",
    "    try:\n",
    "        yield\n",
    "    except Exception as e:\n",
    "        if stream is None:\n",
    "            stream = sys.stderr\n",
    "        traceback.print_exc(file=stream)\n",
    "        raise e"
   ]
  },
  {
   "cell_type": "markdown",
   "metadata": {
    "slideshow": {
     "slide_type": "slide"
    }
   },
   "source": [
    "<div class=\"alert alert-danger\">\n",
    "<b>Антипаттерн:</b> лишний flush\n",
    "</div>"
   ]
  },
  {
   "cell_type": "code",
   "execution_count": null,
   "metadata": {
    "ExecuteTime": {
     "start_time": "2024-01-10T05:25:27.411812200Z"
    }
   },
   "outputs": [],
   "source": [
    "@contextmanager\n",
    "def dumper(stream: Optional[TextIO] = None) -> Iterator[None]:\n",
    "    stream = stream if stream is not None else sys.stderr\n",
    "    try:\n",
    "        yield\n",
    "    except Exception as excpt:\n",
    "        stream.flush()\n",
    "        stream.write(*excpt.args)\n",
    "        raise excpt"
   ]
  },
  {
   "cell_type": "markdown",
   "metadata": {
    "slideshow": {
     "slide_type": "slide"
    }
   },
   "source": [
    "<div class=\"alert alert-danger\">\n",
    "<b>Антипаттерн:</b> предположение что в finally будет ошибка и лишний парсинг строк\n",
    "</div>"
   ]
  },
  {
   "cell_type": "code",
   "execution_count": null,
   "metadata": {
    "ExecuteTime": {
     "start_time": "2024-01-10T05:25:27.418521Z"
    }
   },
   "outputs": [],
   "source": [
    "@contextmanager\n",
    "def dumper(stream: Optional[TextIO] = None) -> Iterator[None]:\n",
    "    if stream is None:\n",
    "        stream = sys.stderr\n",
    "    try:\n",
    "        yield None\n",
    "    finally:\n",
    "        info: Any = sys.exc_info()\n",
    "        exc: List[str] = traceback.format_exception_only(info[0], info[1])\n",
    "        stream.write(exc[0].split(\":\")[1])\n",
    "        raise info[1]  # <- TypeError: exceptions must derive from BaseException"
   ]
  },
  {
   "cell_type": "markdown",
   "metadata": {
    "slideshow": {
     "slide_type": "slide"
    }
   },
   "source": [
    "<div class=\"alert alert-danger\">\n",
    "<b>Антипаттерн:</b> использование builtin имен\n",
    "</div>"
   ]
  },
  {
   "cell_type": "code",
   "execution_count": null,
   "metadata": {
    "ExecuteTime": {
     "start_time": "2024-01-10T05:25:27.426353800Z"
    }
   },
   "outputs": [],
   "source": [
    "@contextmanager\n",
    "def dumper(stream: Optional[TextIO] = None) -> Iterator[None]:\n",
    "    if stream is None:\n",
    "        stream = sys.stderr\n",
    "    try:\n",
    "        yield None\n",
    "    except Exception:\n",
    "        type: Optional[Type[BaseException]] = sys.exc_info()[0]\n",
    "        # ..."
   ]
  },
  {
   "cell_type": "markdown",
   "metadata": {},
   "source": [
    "<div class=\"alert alert-danger\">\n",
    "<b>Антипаттерн:</b> магические константы\n",
    "</div>"
   ]
  },
  {
   "cell_type": "code",
   "execution_count": null,
   "metadata": {
    "ExecuteTime": {
     "start_time": "2024-01-10T05:25:27.437074100Z"
    }
   },
   "outputs": [],
   "source": [
    "class dumper:\n",
    "    def __init__(self, stream: tp.Any = None) -> None:\n",
    "        if stream is None:\n",
    "            self.stream = sys.stderr\n",
    "        else:\n",
    "            self.stream = stream\n",
    "\n",
    "    def __enter__(self) -> None:\n",
    "        pass\n",
    "\n",
    "    def __exit__(self, type_name: tp.Any, value: tp.Any, traceback: tp.Any) -> None:\n",
    "        if type_name is not None:\n",
    "            f = self.stream\n",
    "            s = str(type_name)\n",
    "            r = str()\n",
    "            for i in range(len(s)):\n",
    "                if 7 < i < len(s) - 2:\n",
    "                    r += s[i]\n",
    "            f.write(r)\n",
    "            f.write(': ' + str(value) + '\\n')"
   ]
  },
  {
   "cell_type": "markdown",
   "metadata": {
    "slideshow": {
     "slide_type": "slide"
    }
   },
   "source": [
    "<div>\n",
    "<b>Каноническое решение:</b>\n",
    "</div>"
   ]
  },
  {
   "cell_type": "code",
   "execution_count": null,
   "metadata": {
    "ExecuteTime": {
     "start_time": "2024-01-10T05:25:27.447670600Z"
    }
   },
   "outputs": [],
   "source": [
    "@contextmanager\n",
    "def dumper(stream: Optional[TextIO] = None) -> Iterator[None]:\n",
    "    if stream is None:\n",
    "        stream = sys.stderr\n",
    "    try:\n",
    "        yield\n",
    "    except Exception:\n",
    "        etype, value, traceback_ = sys.exc_info()\n",
    "        message = ''.join(\n",
    "            traceback.format_exception_only(etype, value)\n",
    "        )\n",
    "        stream.write(message)\n",
    "        raise\n"
   ]
  }
 ],
 "metadata": {
  "celltoolbar": "Slideshow",
  "kernelspec": {
   "display_name": "Python 3 (ipykernel)",
   "language": "python",
   "name": "python3"
  },
  "language_info": {
   "codemirror_mode": {
    "name": "ipython",
    "version": 3
   },
   "file_extension": ".py",
   "mimetype": "text/x-python",
   "name": "python",
   "nbconvert_exporter": "python",
   "pygments_lexer": "ipython3",
   "version": "3.11.5"
  },
  "rise": {
   "enable_chalkboard": true,
   "footer": "<p style=\"margin: 5px; color: #a0a0a0\">YSDA Python Course</p>",
   "scroll": true,
   "start_slideshow_at": "selected",
   "theme": "serif"
  }
 },
 "nbformat": 4,
 "nbformat_minor": 4
}
