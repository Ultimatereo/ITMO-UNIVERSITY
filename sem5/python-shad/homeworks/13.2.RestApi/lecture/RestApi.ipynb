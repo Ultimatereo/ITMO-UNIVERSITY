{
 "cells": [
  {
   "cell_type": "markdown",
   "metadata": {
    "pycharm": {
     "name": "#%% md\n"
    },
    "slideshow": {
     "slide_type": "slide"
    }
   },
   "source": [
    "<center>\n",
    "    <img src=\"https://upload.wikimedia.org/wikipedia/commons/a/a8/%D0%9B%D0%9E%D0%93%D0%9E_%D0%A8%D0%90%D0%94.png\" width=500px/>\n",
    "    <font>Python 2023</font><br/>\n",
    "    <br/>\n",
    "    <br/>\n",
    "    <b style=\"font-size: 2em\">Как писать прикладное API</b><br/>\n",
    "    <br/>\n",
    "    <font>Камиль Талипов</font><br/>\n",
    "</center>"
   ]
  },
  {
   "cell_type": "markdown",
   "metadata": {
    "pycharm": {
     "name": "#%% md\n"
    },
    "slideshow": {
     "slide_type": "slide"
    }
   },
   "source": [
    "# API: Что это?"
   ]
  },
  {
   "cell_type": "markdown",
   "metadata": {
    "pycharm": {
     "name": "#%% md\n"
    },
    "slideshow": {
     "slide_type": "slide"
    }
   },
   "source": [
    "Контракт между \"сервером\" и \"клиентом\"\n",
    "\n",
    "Надо договориться:\n",
    "\n",
    "1. Какие данные передается, что знает \"сервер\", что знает \"клиент\"\n",
    "2. Как данные передаются (протоколол)"
   ]
  },
  {
   "cell_type": "markdown",
   "metadata": {
    "pycharm": {
     "name": "#%% md\n"
    },
    "slideshow": {
     "slide_type": "slide"
    }
   },
   "source": [
    "Протоколы:\n",
    "\n",
    "1. HTTP/1.1 (1997)\n",
    "1. HTTP/2 (2015)\n",
    "1. HTTP/3 (2022)\n",
    "1. WebSocket (2011)\n",
    "\n",
    "..."
   ]
  },
  {
   "cell_type": "markdown",
   "metadata": {
    "pycharm": {
     "name": "#%% md\n"
    },
    "slideshow": {
     "slide_type": "slide"
    }
   },
   "source": [
    "# HTTP/1.1 Protocol"
   ]
  },
  {
   "cell_type": "markdown",
   "metadata": {
    "pycharm": {
     "name": "#%% md\n"
    },
    "slideshow": {
     "slide_type": "slide"
    }
   },
   "source": [
    "Основные особенности:\n",
    "1. Обращение через глаголы - GET, POST, PUT, DELETE, ...\n",
    "2. Сервер не хранит никакой информации о состоянии клиента между запросами (нет сессий, нет истории операций и т.д.)\n",
    "\n",
    "Более детально: https://developer.mozilla.org/en-US/docs/Web/HTTP/Overview\n"
   ]
  },
  {
   "cell_type": "markdown",
   "metadata": {
    "pycharm": {
     "name": "#%% md\n"
    },
    "slideshow": {
     "slide_type": "slide"
    }
   },
   "source": [
    "<img src=\"https://drive.google.com/uc?export=view&id=1ioWLhFif--qQiqPmSZ0B8EQmnzaWUmGn\" width=900px></img>"
   ]
  },
  {
   "cell_type": "markdown",
   "metadata": {
    "ExecuteTime": {
     "end_time": "2019-11-19T18:11:05.735857Z",
     "start_time": "2019-11-19T18:11:05.727828Z"
    },
    "pycharm": {
     "name": "#%% md\n"
    },
    "slideshow": {
     "slide_type": "slide"
    }
   },
   "source": [
    "# Основные моменты при создании API\n",
    "\n",
    "О чем надо задумываться при написании API:\n",
    "\n",
    "1. Формат: REST, RPC и т.д.\n",
    "2. Технологии (язык, библиотеки и т.д.)\n",
    "3. Документация\n",
    "4. Тестирование\n",
    "5. Валидация прав и данных от пользователя\n",
    "6. Сообщение об ошибках\n",
    "7. Расширяемость и версионирование\n",
    "8. Безопасность\n",
    "9. Масштабируемость\n",
    "10. И многое другое..."
   ]
  },
  {
   "cell_type": "markdown",
   "metadata": {
    "pycharm": {
     "name": "#%% md\n"
    },
    "slideshow": {
     "slide_type": "slide"
    }
   },
   "source": [
    "Попробуем написать небольшое REST API.\n",
    "\n",
    "Попутно разберем разные библиотеки и обсудим хорошие практики при создании API."
   ]
  },
  {
   "cell_type": "markdown",
   "metadata": {
    "pycharm": {
     "name": "#%% md\n"
    },
    "slideshow": {
     "slide_type": "slide"
    }
   },
   "source": [
    "# Часть 0. Особенности REST API"
   ]
  },
  {
   "cell_type": "markdown",
   "metadata": {
    "pycharm": {
     "name": "#%% md\n"
    },
    "slideshow": {
     "slide_type": "slide"
    }
   },
   "source": [
    "REST API - старый вид протокола. \n",
    "\n",
    "Его история начинается с PhD диссертации <a href=\"https://www.ics.uci.edu/~fielding/pubs/dissertation/top.htm\">Roy Thomas Fielding - Architectural Styles and\n",
    "the Design of Network-based Software Architectures</a>."
   ]
  },
  {
   "cell_type": "markdown",
   "metadata": {
    "pycharm": {
     "name": "#%% md\n"
    },
    "slideshow": {
     "slide_type": "slide"
    }
   },
   "source": [
    "REST API - это не какой-то строгий стандарт, а набор принципов. Тут нет одного готового решения. \n",
    "\n",
    "REST API основан на идее использования протокола HTTP для создания API.\n",
    "\n",
    "Принципы:\n",
    "1. Взаимодействие клиента и сервера происходит по некоторому заданному интерфейсу. При этом они не знают внутреннее устройство друг друга. \n",
    "2. Сервер не хранит никакой информации о состоянии клиента между запросами (нет сессий, нет истории операций и т.д.)\n",
    "3. Все взаимодействие происходит через оперирование ресурсами, которые определяются через URL.\n",
    "4. Ресурсы имеют четкую структуру.\n",
    "5. URL - уникальный идентификатор ресурса.\n",
    "6. Взаимодействие с ресурсами происходит через HTTP методы: `GET`, `POST`, `PUT`, `DELETE`, `PATCH` и т.д.\n",
    "7. Сервер сообщает, что и как кешировать"
   ]
  },
  {
   "cell_type": "markdown",
   "metadata": {
    "ExecuteTime": {
     "end_time": "2019-11-21T18:28:21.483464Z",
     "start_time": "2019-11-21T18:28:21.477126Z"
    },
    "pycharm": {
     "name": "#%% md\n"
    },
    "slideshow": {
     "slide_type": "slide"
    }
   },
   "source": [
    "Поскольку REST API основан на протоколе HTTP, то основой этого протокола являются две сущности: Запрос и Ответ."
   ]
  },
  {
   "cell_type": "markdown",
   "metadata": {
    "pycharm": {
     "name": "#%% md\n"
    },
    "slideshow": {
     "slide_type": "slide"
    }
   },
   "source": [
    "REST API наделяет HTTP-методы некоторый семантикой. `GET` - получить ресурс, `POST` - загрузить ресурс и т.д.\n",
    "Можно встретить REST API, которые используют только `GET` и `POST`, а есть те которые используют куда больше http методов. \n",
    "\n",
    "Тут нет однозначно правильного варианта. Мы обсудим позже особенности использования разных HTTP методов для API."
   ]
  },
  {
   "cell_type": "markdown",
   "metadata": {
    "pycharm": {
     "name": "#%% md\n"
    },
    "slideshow": {
     "slide_type": "slide"
    }
   },
   "source": [
    "Дополнительные Keywords:\n",
    "1. RESTful\n",
    "2. RESTless\n",
    "3. HATEOAS"
   ]
  },
  {
   "cell_type": "markdown",
   "metadata": {
    "pycharm": {
     "name": "#%% md\n"
    },
    "slideshow": {
     "slide_type": "slide"
    }
   },
   "source": [
    "# Часть 2. Фреймворк для API"
   ]
  },
  {
   "cell_type": "markdown",
   "metadata": {
    "pycharm": {
     "name": "#%% md\n"
    },
    "slideshow": {
     "slide_type": "slide"
    }
   },
   "source": [
    "Для написания REST API существует очень много самых разнообразных библиотек и фреймворков.                           \n",
    "Вот некоторые из них:\n",
    "1. AIOHTTP\n",
    "2. Django, Django Rest\n",
    "3. Flask, Flask RESTX (ex. Flask-RESTplus), etc\n",
    "4. Falcon\n",
    "5. Pyramid\n",
    "6. FastAPI"
   ]
  },
  {
   "cell_type": "markdown",
   "metadata": {
    "ExecuteTime": {
     "end_time": "2019-11-20T18:27:07.499478Z",
     "start_time": "2019-11-20T18:27:07.493872Z"
    },
    "pycharm": {
     "name": "#%% md\n"
    },
    "slideshow": {
     "slide_type": "slide"
    }
   },
   "source": [
    "Мы остановимся на FastAPI, так как:\n",
    "1. Поддерживает ассинхронность\n",
    "2. Легко тестируется\n",
    "3. Генерирует документацию из коробки\n",
    "\n",
    "<img src=\"https://fastapi.tiangolo.com/img/logo-margin/logo-teal.png\" width=500px>"
   ]
  },
  {
   "cell_type": "markdown",
   "metadata": {
    "pycharm": {
     "name": "#%% md\n"
    },
    "slideshow": {
     "slide_type": "slide"
    }
   },
   "source": [
    "# Часть 3. FastAPI"
   ]
  },
  {
   "cell_type": "markdown",
   "metadata": {
    "pycharm": {
     "name": "#%% md\n"
    },
    "slideshow": {
     "slide_type": "slide"
    }
   },
   "source": [
    "Code demo"
   ]
  },
  {
   "cell_type": "markdown",
   "metadata": {
    "pycharm": {
     "name": "#%% md\n"
    },
    "slideshow": {
     "slide_type": "slide"
    }
   },
   "source": [
    "Важно! Примеры были с чистым uvicorn.\n",
    "\n",
    "Он не умеет полноценно перезапускать воркеры.\n",
    "\n",
    "Для реальных вещей стоит использовать связку Gunicorn + Uvicorn.\n",
    "\n",
    "Подробнее: https://fastapi.tiangolo.com/deployment/server-workers/"
   ]
  },
  {
   "cell_type": "markdown",
   "metadata": {
    "pycharm": {
     "name": "#%% md\n"
    },
    "slideshow": {
     "slide_type": "slide"
    }
   },
   "source": [
    "# Часть 4. Еще раз про HTTP"
   ]
  },
  {
   "cell_type": "markdown",
   "metadata": {
    "pycharm": {
     "name": "#%% md\n"
    },
    "slideshow": {
     "slide_type": "slide"
    }
   },
   "source": [
    "Обращение по HTTP выглядит так:\n",
    "\n",
    "`VERB /url`"
   ]
  },
  {
   "cell_type": "markdown",
   "metadata": {
    "pycharm": {
     "name": "#%% md\n"
    },
    "slideshow": {
     "slide_type": "slide"
    }
   },
   "source": [
    "Какие есть HTTP Verbs? Их много:\n",
    "1. `GET`\n",
    "2. `POST`\n",
    "3. `PUT`\n",
    "4. `DELETE`\n",
    "5. `PATCH`\n",
    "6. `HEAD`\n",
    "7. `OPTIONS`\n",
    "8. `CONNECT`\n",
    "9. `TRACE`"
   ]
  },
  {
   "cell_type": "markdown",
   "metadata": {
    "pycharm": {
     "name": "#%% md\n"
    },
    "slideshow": {
     "slide_type": "slide"
    }
   },
   "source": [
    "Почему так много методов? \n",
    "\n",
    "Методы бывают:\n",
    "* Безопасные и небезопасные\n",
    "* Идемпотентные и неидемпотентые\n",
    "* Кешируемые и некешируемые"
   ]
  },
  {
   "cell_type": "markdown",
   "metadata": {
    "pycharm": {
     "name": "#%% md\n"
    },
    "slideshow": {
     "slide_type": "slide"
    }
   },
   "source": [
    "Безопасный метод - нет side-эффектов. Не меняет состояние ресурса.\n",
    "\n",
    "Идемпотентный метод - при повторном выполнении того же запроса не изменяет состояние ресурса.\n",
    "\n",
    "Кешируемый метод - клиент и промежуточные прокси имеют право кешировать результат выполнения запроса."
   ]
  },
  {
   "cell_type": "markdown",
   "metadata": {
    "ExecuteTime": {
     "end_time": "2019-11-23T09:06:06.212196Z",
     "start_time": "2019-11-23T09:06:06.173457Z"
    },
    "pycharm": {
     "name": "#%% md\n"
    },
    "slideshow": {
     "slide_type": "slide"
    }
   },
   "source": [
    "Что говорит стандарт HTTP/1.1 (RFC 2616) про методы:"
   ]
  },
  {
   "cell_type": "markdown",
   "metadata": {
    "ExecuteTime": {
     "end_time": "2019-11-23T09:07:19.460172Z",
     "start_time": "2019-11-23T09:07:19.452573Z"
    },
    "pycharm": {
     "name": "#%% md\n"
    },
    "slideshow": {
     "slide_type": "slide"
    }
   },
   "source": [
    "`GET`\n",
    "\n",
    "* Возвращает ресурс (формальнее его представление)\n",
    "* Должен быть безопасным, идемпотентным, кешируемым"
   ]
  },
  {
   "cell_type": "markdown",
   "metadata": {
    "pycharm": {
     "name": "#%% md\n"
    },
    "slideshow": {
     "slide_type": "slide"
    }
   },
   "source": [
    "`POST`\n",
    "\n",
    "* Передает на сервер некоторые данные, связанные с данным ресурсом\n",
    "* Может создавать новый ресурс с собственным адрессом. Если создается новый ресурс, то в ответе рекомендуется указывать редирект на него.\n",
    "* Небезопасный, неидемпотентый, некешируемый"
   ]
  },
  {
   "cell_type": "markdown",
   "metadata": {
    "ExecuteTime": {
     "end_time": "2019-11-23T09:10:48.639459Z",
     "start_time": "2019-11-23T09:10:48.633531Z"
    },
    "pycharm": {
     "name": "#%% md\n"
    },
    "slideshow": {
     "slide_type": "slide"
    }
   },
   "source": [
    "`PUT`\n",
    "\n",
    "* Сохраняет переданный в запросе объект по указанному URL\n",
    "* Может либо обновлять текущий ресурс, либо создать новый\n",
    "* Небезопасный, идемпотентый, некешируемый"
   ]
  },
  {
   "cell_type": "markdown",
   "metadata": {
    "pycharm": {
     "name": "#%% md\n"
    },
    "slideshow": {
     "slide_type": "slide"
    }
   },
   "source": [
    "`DELETE`\n",
    "\n",
    "* Обратная операция к `PUT`: удаляет ресурс по URL\n",
    "* Небезопасный, идемпотентный, некешируемый"
   ]
  },
  {
   "cell_type": "markdown",
   "metadata": {
    "ExecuteTime": {
     "end_time": "2019-11-23T09:13:29.479457Z",
     "start_time": "2019-11-23T09:13:29.475656Z"
    },
    "pycharm": {
     "name": "#%% md\n"
    },
    "slideshow": {
     "slide_type": "slide"
    }
   },
   "source": [
    "`PATCH`\n",
    "\n",
    "* Альтернатива `PUT`: частично модифицирует ресурс\n",
    "* Можно указывать неполное описание ресурса\n",
    "* Небезопасный, возможно неидемпотентный, некешируемый"
   ]
  },
  {
   "cell_type": "markdown",
   "metadata": {
    "pycharm": {
     "name": "#%% md\n"
    },
    "slideshow": {
     "slide_type": "slide"
    }
   },
   "source": [
    "Связь `GET`, `PUT`, `DELETE`.\n",
    "\n",
    "* Если выполнен `PUT`, то `GET` должен вернуть то же представление\n",
    "* Если выполнен `DELETE`, то `GET` должен вернуть ошибку"
   ]
  },
  {
   "cell_type": "markdown",
   "metadata": {
    "pycharm": {
     "name": "#%% md\n"
    },
    "slideshow": {
     "slide_type": "slide"
    }
   },
   "source": [
    "# Часть 4.  API  и HTTP"
   ]
  },
  {
   "cell_type": "markdown",
   "metadata": {
    "ExecuteTime": {
     "end_time": "2019-11-23T09:15:46.741705Z",
     "start_time": "2019-11-23T09:15:46.735752Z"
    },
    "pycharm": {
     "name": "#%% md\n"
    },
    "slideshow": {
     "slide_type": "slide"
    }
   },
   "source": [
    "Как HTTP методы влияют на API? "
   ]
  },
  {
   "cell_type": "markdown",
   "metadata": {
    "ExecuteTime": {
     "end_time": "2019-11-23T09:19:29.924669Z",
     "start_time": "2019-11-23T09:19:29.917488Z"
    },
    "pycharm": {
     "name": "#%% md\n"
    },
    "slideshow": {
     "slide_type": "slide"
    }
   },
   "source": [
    "Предположим, мы разрабатываем API для отправки денег от одного пользователя другому.\n",
    "\n",
    "У нас есть GET-метод `/send_money/?from=xxx&to=yyy&count=10`\n",
    "\n",
    "Хороший ли этот метод?"
   ]
  },
  {
   "cell_type": "markdown",
   "metadata": {
    "pycharm": {
     "name": "#%% md\n"
    },
    "slideshow": {
     "slide_type": "slide"
    }
   },
   "source": [
    "Что будем если будут перезапросы? Сеть ненадежна и клиент может решить отправить запрос еще раз."
   ]
  },
  {
   "cell_type": "markdown",
   "metadata": {
    "pycharm": {
     "name": "#%% md\n"
    },
    "slideshow": {
     "slide_type": "slide"
    }
   },
   "source": [
    "### Случай 1. Перезапросы работают\n",
    "<img src=\"https://drive.google.com/uc?export=view&id=1MtMRJXJIeiGYXjqom9Px4dlBeNf8EuTc\" width=900px></img>"
   ]
  },
  {
   "cell_type": "markdown",
   "metadata": {
    "pycharm": {
     "name": "#%% md\n"
    },
    "slideshow": {
     "slide_type": "slide"
    }
   },
   "source": [
    "### Случай 2. Перезапросы не работают\n",
    "<img src=\"https://drive.google.com/uc?export=view&id=1rV3nD51gndCbeMf1Cq1ovCx3JK2oXOu6\" width=900px></img>"
   ]
  },
  {
   "cell_type": "markdown",
   "metadata": {
    "pycharm": {
     "name": "#%% md\n"
    },
    "slideshow": {
     "slide_type": "slide"
    }
   },
   "source": [
    "### Случай 3. К чему хотим прийти\n",
    "<img src=\"https://drive.google.com/uc?export=view&id=1hpFdmG4UxD_wc2q2m3JUQ5LnFqSAkX9V\" width=900px></img>"
   ]
  },
  {
   "cell_type": "markdown",
   "metadata": {
    "ExecuteTime": {
     "end_time": "2019-11-23T09:21:35.463484Z",
     "start_time": "2019-11-23T09:21:35.457066Z"
    },
    "pycharm": {
     "name": "#%% md\n"
    },
    "slideshow": {
     "slide_type": "slide"
    }
   },
   "source": [
    "В нашем API при перезапросах допустима повторная отправка денег. Такое API никуда не годиться!"
   ]
  },
  {
   "cell_type": "markdown",
   "metadata": {
    "pycharm": {
     "name": "#%% md\n"
    },
    "slideshow": {
     "slide_type": "slide"
    }
   },
   "source": [
    "Что делать? - Использовать HTTP методы правильно.\n",
    "\n",
    "Можно все сделать через POST запрос. \n",
    "Это решение тоже не идеально - мы не можем просто делать перезапросы.\n",
    "\n",
    "Клиенту нужно убеждаться, что не было уже такого перевода."
   ]
  },
  {
   "cell_type": "markdown",
   "metadata": {
    "ExecuteTime": {
     "end_time": "2019-11-23T09:29:15.823487Z",
     "start_time": "2019-11-23T09:29:15.817334Z"
    },
    "pycharm": {
     "name": "#%% md\n"
    },
    "slideshow": {
     "slide_type": "slide"
    }
   },
   "source": [
    "Можно сделать API с двумя методами:\n",
    "1. POST `/create_send_money` - принимает необходимые параметры и возвращает `id` черновика платежа\n",
    "2. POST `/send_money/?id=xyz` - проводит платеж с заданным `id`.\n",
    "\n",
    "В таком API мы можем делать ретраи, каждого из двух методов.\n",
    "\n",
    "Почему второй метод делается через `POST` - потому что он имеет побочные эффекты и мы хотим это подчеркнуть."
   ]
  },
  {
   "cell_type": "markdown",
   "metadata": {
    "ExecuteTime": {
     "end_time": "2019-11-23T09:30:53.274675Z",
     "start_time": "2019-11-23T09:30:53.266782Z"
    },
    "pycharm": {
     "name": "#%% md\n"
    },
    "slideshow": {
     "slide_type": "slide"
    }
   },
   "source": [
    "Это api тоже не идеально. У нас могут дублироваться `POST` запросы с созданием платежа.\n",
    "\n",
    "Можно это оставить как есть (и переодически удалять из базы старые платежи).\n",
    "\n",
    "Альтернатива: заменить первый метод на `POST` с генерацией id на клиенте. <br>\n",
    "Метод `PUT` как раз позволяет сохранить объект по заданному url. <br>\n",
    "Значит мы можем на клиенте генерировать `id` и пытаться сохранить платеж на сервере. <br>\n",
    "В такой схемы мы так же можем ретраить запросы, но нам не нужно будет удалять неудавшиеся платежи\n"
   ]
  },
  {
   "cell_type": "markdown",
   "metadata": {
    "ExecuteTime": {
     "end_time": "2019-11-23T09:31:29.668423Z",
     "start_time": "2019-11-23T09:31:29.663060Z"
    },
    "pycharm": {
     "name": "#%% md\n"
    },
    "slideshow": {
     "slide_type": "slide"
    }
   },
   "source": [
    "В api Paypal используется похожий подход: https://www.paypal.com/al/smarthelp/article/how-do-i-avoid-duplicate-transactions-ts1097"
   ]
  },
  {
   "cell_type": "markdown",
   "metadata": {
    "pycharm": {
     "name": "#%% md\n"
    },
    "slideshow": {
     "slide_type": "slide"
    }
   },
   "source": [
    "# Часть 5. Альтернативы: JsonRPC\n",
    "\n",
    "https://www.jsonrpc.org/specification"
   ]
  },
  {
   "cell_type": "markdown",
   "metadata": {
    "pycharm": {
     "name": "#%% md\n"
    },
    "slideshow": {
     "slide_type": "slide"
    }
   },
   "source": [
    "# Часть 6. Паджинация"
   ]
  },
  {
   "cell_type": "markdown",
   "metadata": {
    "pycharm": {
     "name": "#%% md\n"
    },
    "slideshow": {
     "slide_type": "slide"
    }
   },
   "source": [
    "Часто бывает, что данных в ответе очень много и нужно делать паджинацию, то есть разбивку ответа на \"страницы\""
   ]
  },
  {
   "cell_type": "markdown",
   "metadata": {
    "pycharm": {
     "name": "#%% md\n"
    },
    "slideshow": {
     "slide_type": "slide"
    }
   },
   "source": [
    "Что может быть проще: `SELECT * FROM ... LIMIT X, Y`?\n",
    "\n",
    "Предположим мы выбираем свежие комментарии к посту: <br>\n",
    "`SELECT * FROM comments ORDER BY date DESC LIMIT 0, 20`."
   ]
  },
  {
   "cell_type": "markdown",
   "metadata": {
    "pycharm": {
     "name": "#%% md\n"
    },
    "slideshow": {
     "slide_type": "slide"
    }
   },
   "source": [
    "Все будет работать, если у вас не изменяемый набор объектов. <br>\n",
    "Но что будет, если комментарии будут добавляться?\n",
    "\n",
    "Предположим:\n",
    "1. Пользователь A получил первые 20 комментариев\n",
    "2. Пользователь B создал комментарий\n",
    "3. Пользователь A запросил следующие 20 комментариев\n",
    "\n",
    "Пользователь A увидит дублирующиеся комментарии.\n",
    "\n"
   ]
  },
  {
   "cell_type": "markdown",
   "metadata": {
    "pycharm": {
     "name": "#%% md\n"
    },
    "slideshow": {
     "slide_type": "slide"
    }
   },
   "source": [
    "Пологаться на позицию плохо. Нужно что-то, что не меняется с течением времени.\n",
    "\n",
    "Можно, например, брать время создания комментария.\n",
    "\n",
    "При запросе следующей страницы передаем время последнего комментария: <br>\n",
    "`SELECT * FROM comments WHERE date < last_comment_date LIMIT 20`."
   ]
  },
  {
   "cell_type": "markdown",
   "metadata": {
    "ExecuteTime": {
     "end_time": "2019-11-25T17:13:32.258675Z",
     "start_time": "2019-11-25T17:13:32.253877Z"
    },
    "pycharm": {
     "name": "#%% md\n"
    },
    "slideshow": {
     "slide_type": "slide"
    }
   },
   "source": [
    "Что будет, если будут комментарии с одинаковым временем? Все опять сломается.\n",
    "\n",
    "Как починить?"
   ]
  },
  {
   "cell_type": "markdown",
   "metadata": {
    "pycharm": {
     "name": "#%% md\n"
    },
    "slideshow": {
     "slide_type": "slide"
    }
   },
   "source": [
    "Есть несколько способов. Например:\n",
    "1. Использовать вместо времени `id`. Нужно чтобы были инкрементальное увеличение.\n",
    "2. Передавать идентификаторы просмотренных комментариев с последним временем\n",
    "3. Добавить события с тем же временем и фильтровать дубликаты на клиенте"
   ]
  },
  {
   "cell_type": "markdown",
   "metadata": {
    "ExecuteTime": {
     "end_time": "2019-11-25T17:22:16.231487Z",
     "start_time": "2019-11-25T17:22:16.226722Z"
    },
    "pycharm": {
     "name": "#%% md\n"
    },
    "slideshow": {
     "slide_type": "slide"
    }
   },
   "source": [
    "Что насчет перехода в произвольное место?\n",
    "\n",
    "<img src=\"https://drive.google.com/uc?export=view&id=1T-mKd1jaI-I_ibdrAfzV54yBEcEZItJs\" width=900px></img>"
   ]
  },
  {
   "cell_type": "markdown",
   "metadata": {
    "pycharm": {
     "name": "#%% md\n"
    },
    "slideshow": {
     "slide_type": "slide"
    }
   },
   "source": [
    "Что можно сделать:\n",
    "1. Не делать вообще.\n",
    "2. Переход на последнюю страницу (сделать сортировку в обратном порядке).\n",
    "3. Нестабильная паджинация (пример Reddit).\n",
    "4. Что-то сложное для стабильной поджинации."
   ]
  },
  {
   "cell_type": "markdown",
   "metadata": {
    "pycharm": {
     "name": "#%% md\n"
    },
    "slideshow": {
     "slide_type": "slide"
    }
   },
   "source": [
    "# Часть 7. Советы по написанию API"
   ]
  },
  {
   "cell_type": "markdown",
   "metadata": {
    "pycharm": {
     "name": "#%% md\n"
    },
    "slideshow": {
     "slide_type": "slide"
    }
   },
   "source": [
    "## Совет 1. Устройство URL\n",
    "\n",
    "* Группировка URL по namespace, чтобы избежать коллизий (`/api/core`, `/api/staff/` и т.д.)\n",
    "* Делать URL для коллекции ресурсов (во множественном числе) (`/api/core/peoples`)\n",
    "* URL-коллекции + id = URL-ресурса (`/api/core/peoples/{people_id}` или `/api/core/peoples/?id={people_id}`)\n"
   ]
  },
  {
   "cell_type": "markdown",
   "metadata": {
    "pycharm": {
     "name": "#%% md\n"
    },
    "slideshow": {
     "slide_type": "slide"
    }
   },
   "source": [
    "Как выбрать способо передачи параметров: через часть url (`/xxx/`) или через query-параметр (`/?id=xxx`)?\n",
    "\n",
    "* Фильтрацию или поиск лучше делать через query-параметр (так как тут нет какой-либо иерархии объектов)\n",
    "* Извлечение и манипуляция с объектом лучше делать через часть url"
   ]
  },
  {
   "cell_type": "markdown",
   "metadata": {
    "pycharm": {
     "name": "#%% md\n"
    },
    "slideshow": {
     "slide_type": "slide"
    }
   },
   "source": [
    "## Совет 2. Использование HTTP методов\n",
    "Рекомендуется использовать не только `GET` и `POST`.\n",
    "Это позволяет лучше подчеркнуть безопасность и иденпотентность вызовов.\n",
    "\n",
    "Можно использовать такую семантику:\n",
    "* `GET` = Read\n",
    "* `POST` = Create\n",
    "* `PUT` = Save\n",
    "* `PATCH` = Update\n",
    "* `DELETE` = Delete"
   ]
  },
  {
   "cell_type": "markdown",
   "metadata": {
    "ExecuteTime": {
     "end_time": "2019-11-23T09:40:46.976717Z",
     "start_time": "2019-11-23T09:40:46.969516Z"
    },
    "pycharm": {
     "name": "#%% md\n"
    },
    "slideshow": {
     "slide_type": "slide"
    }
   },
   "source": [
    "* `GET` - безопасный, можно делать ретраи не задумываясь\n",
    "* `GET`, `PUT`, `DELETE` - идемпотентные. Если что-то сломалось, можно поретраить\n",
    "* `POST`, `PATCH` - опасные, могут что-то поменять. Надо задуматься перед повторением."
   ]
  },
  {
   "cell_type": "markdown",
   "metadata": {
    "ExecuteTime": {
     "end_time": "2019-11-23T09:42:52.687473Z",
     "start_time": "2019-11-23T09:42:52.680991Z"
    },
    "pycharm": {
     "name": "#%% md\n"
    },
    "slideshow": {
     "slide_type": "slide"
    }
   },
   "source": [
    "Обычно колекции поддерживают семантику Create и Read.\n",
    "\n",
    "Ресурсы поддерживают семантику Read, Save, Update, Delete"
   ]
  },
  {
   "cell_type": "markdown",
   "metadata": {
    "pycharm": {
     "name": "#%% md\n"
    },
    "slideshow": {
     "slide_type": "slide"
    }
   },
   "source": [
    "Что делать если операция сложная? Например копирование ресурса.\n",
    "\n",
    "Можно делать POST-запрос такого вида:\n",
    "`POST /api/resources/copy?src_path={src_path}&dst_path={dst_path}`"
   ]
  },
  {
   "cell_type": "markdown",
   "metadata": {
    "pycharm": {
     "name": "#%% md\n"
    },
    "slideshow": {
     "slide_type": "slide"
    }
   },
   "source": [
    "Некоторые клиенты умеет делать только `GET` и `POST`.\n",
    "\n",
    "К счастью в HTTP есть заголовок `X-HTTP-Method-Override` для POST-метода, который позволяет указать какой реально метод мы хотим использовать."
   ]
  },
  {
   "cell_type": "markdown",
   "metadata": {
    "pycharm": {
     "name": "#%% md\n"
    },
    "slideshow": {
     "slide_type": "slide"
    }
   },
   "source": [
    "## Совет 3. Детали об ошибке"
   ]
  },
  {
   "cell_type": "markdown",
   "metadata": {
    "ExecuteTime": {
     "end_time": "2019-11-23T09:49:35.167467Z",
     "start_time": "2019-11-23T09:49:35.161392Z"
    },
    "pycharm": {
     "name": "#%% md\n"
    },
    "slideshow": {
     "slide_type": "slide"
    }
   },
   "source": [
    "<img src=\"https://drive.google.com/uc?export=view&id=11ckjLhTmoONpUcTHS2_FXvR5gOy5f5Bd\" width=900px></img>"
   ]
  },
  {
   "cell_type": "markdown",
   "metadata": {
    "ExecuteTime": {
     "end_time": "2019-11-23T09:50:42.682760Z",
     "start_time": "2019-11-23T09:50:42.676030Z"
    },
    "pycharm": {
     "name": "#%% md\n"
    },
    "slideshow": {
     "slide_type": "slide"
    }
   },
   "source": [
    "Главное давать подробности ошибки в теле ответа.\n",
    "\n",
    "Какой status code использовать - открытый вопрос.\n",
    "\n",
    "Если хочется в логах быстро находить ошибки, то лучше использовать стандартный HTTP-код."
   ]
  },
  {
   "cell_type": "markdown",
   "metadata": {
    "pycharm": {
     "name": "#%% md\n"
    },
    "slideshow": {
     "slide_type": "slide"
    }
   },
   "source": [
    "## Совет 4. Не доверяете никому\n",
    "\n",
    "Проверяйте все данные, которые принимаете."
   ]
  },
  {
   "cell_type": "markdown",
   "metadata": {
    "pycharm": {
     "name": "#%% md\n"
    },
    "slideshow": {
     "slide_type": "slide"
    }
   },
   "source": [
    "## Полезные ссылки\n",
    "1. https://cloud.google.com/apis/design\n",
    "2. https://github.com/microsoft/api-guidelines\n",
    "3. https://learn.microsoft.com/en-us/azure/architecture/best-practices/api-design\n",
    "4. https://geemus.gitbooks.io/http-api-design/content/en/\n"
   ]
  },
  {
   "cell_type": "markdown",
   "metadata": {
    "pycharm": {
     "name": "#%% md\n"
    },
    "slideshow": {
     "slide_type": "slide"
    }
   },
   "source": [
    "# Спасибо за внимание!"
   ]
  }
 ],
 "metadata": {
  "celltoolbar": "Slideshow",
  "kernelspec": {
   "display_name": "Python 3 (ipykernel)",
   "language": "python",
   "name": "python3"
  },
  "language_info": {
   "codemirror_mode": {
    "name": "ipython",
    "version": 3
   },
   "file_extension": ".py",
   "mimetype": "text/x-python",
   "name": "python",
   "nbconvert_exporter": "python",
   "pygments_lexer": "ipython3",
   "version": "3.11.6"
  },
  "rise": {
   "enable_chalkboard": true,
   "footer": "<p style=\"margin: 5px; color: #a0a0a0\">YSDA Python Course</p>",
   "scroll": true,
   "start_slideshow_at": "selected",
   "theme": "serif",
   "transition": "none"
  }
 },
 "nbformat": 4,
 "nbformat_minor": 4
}
